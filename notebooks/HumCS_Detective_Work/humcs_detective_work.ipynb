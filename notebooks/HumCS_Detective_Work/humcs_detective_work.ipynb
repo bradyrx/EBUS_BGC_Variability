{
 "metadata": {
  "kernelspec": {
   "display_name": "Python 3",
   "language": "python",
   "name": "python3"
  },
  "language_info": {
   "codemirror_mode": {
    "name": "ipython",
    "version": 3
   },
   "file_extension": ".py",
   "mimetype": "text/x-python",
   "name": "python",
   "nbconvert_exporter": "python",
   "pygments_lexer": "ipython3",
   "version": "3.6.5"
  },
  "name": ""
 },
 "nbformat": 3,
 "nbformat_minor": 0,
 "worksheets": [
  {
   "cells": [
    {
     "cell_type": "markdown",
     "metadata": {},
     "source": [
      "# Humboldt Current Misc. Detective Work\n",
      "\n",
      "While writing the paper, I was discussing how there is a large reduction in sDIC in the Humboldt Current. I assumed that this was due to a reduction in upwelling-favorable winds associated with ENSO. However, after regressing the ensemble TAUX, TAUY, and U onto ENSO, I found that U increased, and upwelling-favorable TAUX/TAUY increased. However, WVEL decreased. There's something wrong here.\n",
      "\n",
      "I'll try 2 approaches to figure this out:\n",
      "\n",
      "(1) Reconstruct wind stress curl and regress that to see if the curl structure changes\n",
      "\n",
      "(2) Do a composite of TAUX/TAUY residuals and see what they look like as a quiver plot"
     ]
    },
    {
     "cell_type": "code",
     "collapsed": false,
     "input": [
      "import numpy as np\n",
      "import pandas as pd\n",
      "import xarray as xr\n",
      "import matplotlib.pyplot as plt\n",
      "%matplotlib inline\n",
      "import esmtools as et\n",
      "import cartopy.crs as ccrs\n",
      "plt.style.use('ocn-clim')\n",
      "import cartopy.feature as cfeature\n",
      "import seaborn as sns\n",
      "import glob\n",
      "from scipy import signal"
     ],
     "language": "python",
     "metadata": {},
     "outputs": [],
     "prompt_number": 1
    },
    {
     "cell_type": "heading",
     "level": 2,
     "metadata": {},
     "source": [
      "(1) Wind Stress Curl"
     ]
    },
    {
     "cell_type": "code",
     "collapsed": false,
     "input": [
      "def load_overhead_correlations(EBU, x, y, lag, smooth):\n",
      "    \"\"\"\n",
      "    Loads in the results of the overhead correlation analysis that was\n",
      "    run as a python script.\n",
      "    \n",
      "    EBU       : Acronym for the EBUS of interest.\n",
      "    x         : Predictor variable for the gas flux (e.g. NPGO)\n",
      "    y         : Dependent variable being predicted (e.g. FG_CO2, U)\n",
      "    lag       : Lag in months applied\n",
      "    smooth    : Smooth in months applied\n",
      "    \"\"\"\n",
      "    filedir = '/glade/p/work/rbrady/EBUS_BGC_Variability/regional_regressions/'\n",
      "    filepath = filedir + EBU + '/' + y + '/' + x + '/lag' + str(lag) + '/'\n",
      "    if smooth == 0:\n",
      "        filename = (filepath + x + '.' + y + '.' + EBU + \n",
      "                    '.*.unsmoothed_regional_regression.lag' +\n",
      "                    str(lag) + '.nc')\n",
      "    else:\n",
      "        filename = (filepath + x + '.' + y + '.' + EBU + \n",
      "                    '.*.smoothed' + str(smooth) + '_regional_regression.lag' +\n",
      "                    str(lag) + '.nc')\n",
      "    ds = xr.open_mfdataset(filename, concat_dim='ensemble')\n",
      "    return ds"
     ],
     "language": "python",
     "metadata": {},
     "outputs": [],
     "prompt_number": 15
    },
    {
     "cell_type": "code",
     "collapsed": false,
     "input": [
      "ds = load_overhead_correlations('HumCS', 'NINO3', 'curl', 0, 0)\n",
      "mask = ds['r'].sel(ensemble=0) # Use to re-nan things that aren't in region.\n",
      "#ds = ds.where(ds.p <= 0.1, -999)\n",
      "ds = ds.mean('ensemble')"
     ],
     "language": "python",
     "metadata": {},
     "outputs": [],
     "prompt_number": 42
    },
    {
     "cell_type": "code",
     "collapsed": false,
     "input": [
      "f, ax = et.vis.make_cartopy(projection=ccrs.Mercator(), frameon=False, grid_lines=False)\n",
      "\n",
      "data = ds['r']\n",
      "data = np.ma.array(data, mask=np.isnan(mask))\n",
      "cmap = plt.cm.RdBu_r\n",
      "p = ax.pcolor(ds['lon']-1, ds['lat'], data,\n",
      "                  transform=ccrs.PlateCarree(), edgecolor='w',\n",
      "                 cmap=cmap)\n",
      "ax.outline_patch.set_edgecolor('w')\n",
      "\n",
      "# Aesthetics\n",
      "x1,x2,y1,y2 = et.ebus.visual_bounds('HumCS')\n",
      "ax.set_extent([x1,x2,y1,y2])\n",
      "\n",
      "# Colorbar\n",
      "cb = plt.colorbar(p)\n",
      "ax.set_title('HumCS' + ' Corr(' + 'curl' + ',' + 'Nino3' + ') Ensemble Mean',\n",
      "             fontsize=18)\n",
      "\n",
      "#et.vis.savefig('humcs_grid_curl_nino3', extension='.eps', dpi=300)"
     ],
     "language": "python",
     "metadata": {},
     "outputs": [],
     "prompt_number": null
    },
    {
     "cell_type": "markdown",
     "metadata": {},
     "source": [
      "## (2) Composite of Residuals\n",
      "\n",
      "Adapting from full python script."
     ]
    },
    {
     "cell_type": "code",
     "collapsed": false,
     "input": [
      "EBU = 'HumCS'\n",
      "index = 'NINO3'\n",
      "VAR = 'SST'"
     ],
     "language": "python",
     "metadata": {},
     "outputs": [],
     "prompt_number": 45
    },
    {
     "cell_type": "code",
     "collapsed": false,
     "input": [
      "def composite_domain(ebus):\n",
      "    \"\"\"\n",
      "    Returns latitude and longitude coordinates for slicing out the composite\n",
      "    domain.\n",
      "    \"\"\"\n",
      "    if ebus == 'HumCS':\n",
      "        x0 = 180\n",
      "        x1 = 300\n",
      "        y0 = -30\n",
      "        y1 = 15\n",
      "    else:\n",
      "        raise Exception(\"Need to add composite domain for other EBU's.\")\n",
      "    return x0, x1, y0, y1"
     ],
     "language": "python",
     "metadata": {},
     "outputs": [],
     "prompt_number": 90
    },
    {
     "cell_type": "code",
     "collapsed": false,
     "input": [
      "def xarray_month_count(time_index, name):\n",
      "    \"\"\"\n",
      "    Takes in a time-varying field with ensemble members after filtering for the\n",
      "    two-sigma or whatever significance bounds. Converts these into a \n",
      "    DataArray with month dimension 1-12 and values for the number of pos/neg/\n",
      "    neutral events for each month.\n",
      "    \"\"\"\n",
      "    stacked_months = time_index.stack(points=['ensemble','time']) \\\n",
      "                               .dropna('points')['time.month']\n",
      "    df = stacked_months.to_dataframe()\n",
      "    df = df.groupby('month').size()\n",
      "    df = df.to_xarray()\n",
      "    df.name = name\n",
      "    return df"
     ],
     "language": "python",
     "metadata": {},
     "outputs": [],
     "prompt_number": 91
    },
    {
     "cell_type": "code",
     "collapsed": false,
     "input": [
      "# Load in CVDP\n",
      "filepath = '/glade/p/work/rbrady/cesmLE_CVDP/processed/cvdp_detrended_BGC.nc'\n",
      "cvdp = xr.open_dataset(filepath)\n",
      "cvdp = cvdp[index.lower()]\n",
      "two_sigma = cvdp.std() * 2"
     ],
     "language": "python",
     "metadata": {},
     "outputs": [],
     "prompt_number": 92
    },
    {
     "cell_type": "code",
     "collapsed": false,
     "input": [
      "# Load in residual data\n",
      "filepath = ('/glade/p/work/rbrady/EBUS_BGC_Variability/global_residuals/' + \n",
      "            VAR + '/remapped/')\n",
      "ds_var = xr.open_mfdataset(filepath + '*.nc', concat_dim='ensemble')\n",
      "ds_var = ds_var[VAR]\n",
      "ds_var['time'] = pd.date_range('1920-01', '2016-01', freq='M')\n",
      "x0, x1, y0, y1 = composite_domain(EBU)\n",
      "ds_var = ds_var.sel(lat=slice(y0, y1), lon=slice(x0, x1))"
     ],
     "language": "python",
     "metadata": {},
     "outputs": [],
     "prompt_number": 93
    },
    {
     "cell_type": "code",
     "collapsed": false,
     "input": [
      "pos_time_index = cvdp.where(cvdp >= two_sigma, drop=True)\n",
      "neg_time_index = cvdp.where(cvdp <= two_sigma*-1, drop=True)\n",
      "neu_time_index = cvdp.where( (cvdp < two_sigma) & (cvdp > two_sigma*-1), drop=True)"
     ],
     "language": "python",
     "metadata": {},
     "outputs": [],
     "prompt_number": 98
    },
    {
     "cell_type": "code",
     "collapsed": false,
     "input": [
      "pos_months = xarray_month_count(pos_time_index, 'pos_months')\n",
      "neg_months = xarray_month_count(neg_time_index, 'neg_months')\n",
      "neu_months = xarray_month_count(neu_time_index, 'neu_months')"
     ],
     "language": "python",
     "metadata": {},
     "outputs": [],
     "prompt_number": 100
    },
    {
     "cell_type": "code",
     "collapsed": false,
     "input": [
      "pos_composite = ds_var.where(cvdp >= two_sigma).mean('ensemble').mean('time')\n",
      "neg_composite = ds_var.where(cvdp <= two_sigma*-1).mean('ensemble').mean('time')\n",
      "neu_composite = ds_var.where( (cvdp < two_sigma) & (cvdp > two_sigma*-1) ) \\\n",
      "                .mean('ensemble').mean('time')"
     ],
     "language": "python",
     "metadata": {},
     "outputs": [],
     "prompt_number": 101
    },
    {
     "cell_type": "code",
     "collapsed": false,
     "input": [
      "pos_composite.plot()"
     ],
     "language": "python",
     "metadata": {},
     "outputs": [],
     "prompt_number": 103
    },
    {
     "cell_type": "heading",
     "level": 2,
     "metadata": {},
     "source": [
      "Temp"
     ]
    },
    {
     "cell_type": "code",
     "collapsed": false,
     "input": [
      "ds = xr.open_dataset('/glade/p/work/rbrady/EBUS_BGC_Variability/global_residuals/SST/remapped/remapped.SST.001.192001-201512.nc')\n",
      "ds = ds.sel(lat=slice(-30,15), lon=slice(180,300)).mean('time')['SST']"
     ],
     "language": "python",
     "metadata": {},
     "outputs": [],
     "prompt_number": 105
    },
    {
     "cell_type": "code",
     "collapsed": false,
     "input": [
      "f, ax = et.vis.make_cartopy(projection=ccrs.Robinson(), frameon=False, grid_lines=False)\n",
      "ax.pcolormesh(ds['lon'], ds['lat'], ds, transform=ccrs.PlateCarree())\n",
      "\n",
      "\n",
      "#data = ds['r']\n",
      "#data = np.ma.array(data, mask=np.isnan(mask))\n",
      "#cmap = plt.cm.RdBu_r\n",
      "#p = ax.pcolor(ds['lon']-1, ds['lat'], data,\n",
      "#                  transform=ccrs.PlateCarree(), edgecolor='w',\n",
      "#                 cmap=cmap)\n",
      "#ax.outline_patch.set_edgecolor('w')\n",
      "\n",
      "# Aesthetics\n",
      "#x1,x2,y1,y2 = et.ebus.visual_bounds('HumCS')\n",
      "#ax.set_extent([x1,x2,y1,y2])\n",
      "\n",
      "# Colorbar\n",
      "#cb = plt.colorbar(p)\n",
      "#ax.set_title('HumCS' + ' Corr(' + 'curl' + ',' + 'Nino3' + ') Ensemble Mean',\n",
      "#             fontsize=18)\n",
      "\n",
      "#et.vis.savefig('humcs_grid_curl_nino3', extension='.eps', dpi=300)"
     ],
     "language": "python",
     "metadata": {},
     "outputs": [],
     "prompt_number": 106
    }
   ],
   "metadata": {}
  }
 ]
}