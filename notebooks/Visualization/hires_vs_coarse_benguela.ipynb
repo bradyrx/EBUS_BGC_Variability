{
 "metadata": {
  "kernelspec": {
   "display_name": "Python 3",
   "language": "python",
   "name": "python3"
  },
  "language_info": {
   "codemirror_mode": {
    "name": "ipython",
    "version": 3
   },
   "file_extension": ".py",
   "mimetype": "text/x-python",
   "name": "python",
   "nbconvert_exporter": "python",
   "pygments_lexer": "ipython3",
   "version": "3.6.1"
  },
  "name": ""
 },
 "nbformat": 3,
 "nbformat_minor": 0,
 "worksheets": [
  {
   "cells": [
    {
     "cell_type": "markdown",
     "metadata": {},
     "source": [
      "# Hi-Res vs. Coarse Benguela\n",
      "A quick movie comparison of the high-resolution hindcast Benguela Current versus the low-resolution CESM1-LENS Benguela Current. "
     ]
    },
    {
     "cell_type": "code",
     "collapsed": true,
     "input": [
      "import glob\n",
      "\n",
      "import numpy as np\n",
      "import pandas as pd\n",
      "import xarray as xr\n",
      "\n",
      "import matplotlib.pyplot as plt\n",
      "plt.style.use('ocn-clim')\n",
      "%matplotlib inline\n",
      "import cmocean.cm as cm\n",
      "\n",
      "from mpl_toolkits.basemap import Basemap"
     ],
     "language": "python",
     "metadata": {},
     "outputs": [],
     "prompt_number": 1
    },
    {
     "cell_type": "code",
     "collapsed": true,
     "input": [
      "lat1 = -30\n",
      "lat2 = -15\n",
      "lon1 = 0\n",
      "lon2 = 25"
     ],
     "language": "python",
     "metadata": {},
     "outputs": [],
     "prompt_number": 3
    },
    {
     "cell_type": "heading",
     "level": 1,
     "metadata": {},
     "source": [
      "Functions"
     ]
    },
    {
     "cell_type": "code",
     "collapsed": true,
     "input": [
      "def find_indices(latGrid, lonGrid, latPoint, lonPoint):\n",
      "    dx = lonGrid - lonPoint\n",
      "    dy = latGrid - latPoint\n",
      "    reducedGrid = abs(dx) + abs(dy)\n",
      "    min_ix = np.nanargmin(reducedGrid)\n",
      "    i, j = np.unravel_index(min_ix, reducedGrid.shape)\n",
      "    return i, j"
     ],
     "language": "python",
     "metadata": {},
     "outputs": [],
     "prompt_number": 4
    },
    {
     "cell_type": "heading",
     "level": 1,
     "metadata": {},
     "source": [
      "If the data has already been processed, just load the netcdf files here and skip the next two chunks"
     ]
    },
    {
     "cell_type": "code",
     "collapsed": true,
     "input": [
      "hires_dir = '/glade/scratch/rbrady/HI_RES/2003_50m_WVEL_Benguela.nc'\n",
      "ds_hi = xr.open_dataset(hires_dir)"
     ],
     "language": "python",
     "metadata": {},
     "outputs": [],
     "prompt_number": 5
    },
    {
     "cell_type": "code",
     "collapsed": true,
     "input": [
      "lores_dir = '/glade/scratch/rbrady/HI_RES/2003_50m_WVEL_Benguela_COARSE3.nc'\n",
      "ds_lo = xr.open_dataset(lores_dir)"
     ],
     "language": "python",
     "metadata": {},
     "outputs": [],
     "prompt_number": 72
    },
    {
     "cell_type": "markdown",
     "metadata": {},
     "source": [
      "\n",
      "# Extract Benguela for Low Resolution\n",
      "So for the current iteration, I'm just going to draw the whole ensemble and slice into just 2003 to match the high resolution."
     ]
    },
    {
     "cell_type": "code",
     "collapsed": false,
     "input": [
      "inDir ='/glade/p/work/rbrady/EBUS_BGC_Variability/WVEL/BenCS/'\n",
      "fileName = 'WVEL.*.BenCS.192001-201512.nc'\n",
      "ds_lens = xr.open_mfdataset(inDir + fileName, concat_dim='ensemble')"
     ],
     "language": "python",
     "metadata": {},
     "outputs": [],
     "prompt_number": 64
    },
    {
     "cell_type": "code",
     "collapsed": true,
     "input": [
      "lat = ds_lens['TLAT'][0].values\n",
      "lon = ds_lens['TLONG'][0].values\n",
      "a, c = find_indices(lat, lon, lat1, lon1)\n",
      "b, d = find_indices(lat, lon, lat2, lon2)"
     ],
     "language": "python",
     "metadata": {},
     "outputs": [],
     "prompt_number": 65
    },
    {
     "cell_type": "code",
     "collapsed": false,
     "input": [
      "ds_lens = ds_lens['WVEL'].sel(nlat=slice(a, b), nlon=slice(c, d), time=slice('2003-01', '2003-12'))"
     ],
     "language": "python",
     "metadata": {},
     "outputs": [],
     "prompt_number": 66
    },
    {
     "cell_type": "code",
     "collapsed": true,
     "input": [
      "# ensemble mean drops latitude and longitude for some reason\n",
      "lat_recover = ds_lens['TLAT'][0]\n",
      "lon_recover = ds_lens['TLONG'][0]"
     ],
     "language": "python",
     "metadata": {},
     "outputs": [],
     "prompt_number": 67
    },
    {
     "cell_type": "code",
     "collapsed": false,
     "input": [
      "ds_lens = ds_lens.mean(dim='ensemble')"
     ],
     "language": "python",
     "metadata": {},
     "outputs": [],
     "prompt_number": 68
    },
    {
     "cell_type": "code",
     "collapsed": true,
     "input": [
      "ds_lens['TLAT'] = lat_recover\n",
      "ds_lens['TLONG'] = lon_recover"
     ],
     "language": "python",
     "metadata": {},
     "outputs": [],
     "prompt_number": 69
    },
    {
     "cell_type": "code",
     "collapsed": false,
     "input": [
      "ds_lens = ds_lens * (60 * 60 * 24) * (1/100) # Convert to m/day"
     ],
     "language": "python",
     "metadata": {},
     "outputs": [],
     "prompt_number": 70
    },
    {
     "cell_type": "code",
     "collapsed": false,
     "input": [
      "ds_lens.to_netcdf('/glade/scratch/rbrady/HI_RES/2003_50m_WVEL_Benguela_COARSE3.nc')"
     ],
     "language": "python",
     "metadata": {},
     "outputs": [],
     "prompt_number": 71
    },
    {
     "cell_type": "heading",
     "level": 1,
     "metadata": {},
     "source": [
      "Extract Benguela for High Resolution"
     ]
    },
    {
     "cell_type": "code",
     "collapsed": true,
     "input": [
      "fileDir = '/glade/p/cmia0001/TL319_t12/archive/g.e20.G.TL319_t12.GIAF.005/ocn/hist/'\n",
      "fileName = 'g.e20.G.TL319_t12.GIAF.005.pop.h.2003-*.nc'\n",
      "# After getting a snapshot going, will glob in all of 2003 for a loop."
     ],
     "language": "python",
     "metadata": {},
     "outputs": [],
     "prompt_number": null
    },
    {
     "cell_type": "code",
     "collapsed": true,
     "input": [
      "ds_hi = xr.open_mfdataset(fileDir + fileName, decode_times=False)"
     ],
     "language": "python",
     "metadata": {},
     "outputs": [],
     "prompt_number": null
    },
    {
     "cell_type": "code",
     "collapsed": true,
     "input": [
      "ds_hi = ds_hi['WVEL']\n",
      "ds_hi = ds_hi.squeeze()\n",
      "ds_hi = ds_hi[:, 5] # 50m depth"
     ],
     "language": "python",
     "metadata": {},
     "outputs": [],
     "prompt_number": null
    },
    {
     "cell_type": "code",
     "collapsed": true,
     "input": [
      "timeRef = pd.date_range('2003-01', '2004-01', freq='M')\n",
      "ds_hi['time'] = timeRef"
     ],
     "language": "python",
     "metadata": {},
     "outputs": [],
     "prompt_number": null
    },
    {
     "cell_type": "code",
     "collapsed": true,
     "input": [
      "lat = ds_hi['TLAT'].values\n",
      "lon = ds_hi['TLONG'].values"
     ],
     "language": "python",
     "metadata": {},
     "outputs": [],
     "prompt_number": null
    },
    {
     "cell_type": "code",
     "collapsed": true,
     "input": [
      "a, c = find_indices(lat, lon, lat1, lon1)\n",
      "b, d = find_indices(lat, lon, lat2, lon2)"
     ],
     "language": "python",
     "metadata": {},
     "outputs": [],
     "prompt_number": null
    },
    {
     "cell_type": "code",
     "collapsed": true,
     "input": [
      "ds_hi = ds_hi.isel(nlat=slice(a,b), nlon=slice(c, d))"
     ],
     "language": "python",
     "metadata": {},
     "outputs": [],
     "prompt_number": null
    },
    {
     "cell_type": "code",
     "collapsed": true,
     "input": [
      "ds_hi = ds_hi * (60 * 60 * 24) * (1/100) # Convert to m/day"
     ],
     "language": "python",
     "metadata": {},
     "outputs": [],
     "prompt_number": null
    },
    {
     "cell_type": "code",
     "collapsed": true,
     "input": [
      "ds_hi.to_netcdf('/glade/scratch/rbrady/HI_RES/2003_50m_WVEL_Benguela.nc')"
     ],
     "language": "python",
     "metadata": {},
     "outputs": [],
     "prompt_number": null
    },
    {
     "cell_type": "heading",
     "level": 1,
     "metadata": {},
     "source": [
      "Visualize"
     ]
    },
    {
     "cell_type": "code",
     "collapsed": true,
     "input": [
      "def setup_map(ax):\n",
      "    m = Basemap(projection='eqdc',\n",
      "               lat_0=-20, lon_0=10,\n",
      "               llcrnrlat=-40, llcrnrlon=0,\n",
      "               urcrnrlat=-10, urcrnrlon=25,\n",
      "               resolution='c', fix_aspect=False)\n",
      "    m.fillcontinents(color='k')\n",
      "    return m"
     ],
     "language": "python",
     "metadata": {},
     "outputs": [],
     "prompt_number": 6
    },
    {
     "cell_type": "code",
     "collapsed": false,
     "input": [
      "# Set up data\n",
      "lon_hi = ds_hi['TLONG'].values\n",
      "lat_hi = ds_hi['TLAT'].values\n",
      "data_hi = ds_hi['WVEL'].values\n",
      "data_hi = np.ma.array(data_hi, mask=np.isnan(data_hi))\n",
      "\n",
      "# Coarse res\n",
      "lon_lo = ds_lo['TLONG'].values\n",
      "lat_lo = ds_lo['TLAT'].values\n",
      "data_lo = ds_lo['WVEL'].values\n",
      "data_lo = np.ma.array(data_lo, mask=np.isnan(data_lo))"
     ],
     "language": "python",
     "metadata": {},
     "outputs": [],
     "prompt_number": 73
    },
    {
     "cell_type": "code",
     "collapsed": true,
     "input": [
      "months = ['January', 'February', 'March', 'April',\n",
      "          'May', 'June', 'July', 'August', 'September',\n",
      "          'October', 'November', 'December']\n",
      "nums = ['001','002','003','004','005','006',\n",
      "        '007','008','009','010','011','012']"
     ],
     "language": "python",
     "metadata": {},
     "outputs": [],
     "prompt_number": 74
    },
    {
     "cell_type": "heading",
     "level": 1,
     "metadata": {},
     "source": [
      "Set up stationary figure"
     ]
    },
    {
     "cell_type": "code",
     "collapsed": false,
     "input": [
      "fig = plt.figure(figsize=(12,6))\n",
      "\n",
      "plt.suptitle('January 2003', fontsize='xx-large')\n",
      "\n",
      "# HIGH RES\n",
      "ax = plt.subplot(121)\n",
      "m = setup_map(ax)\n",
      "m.pcolor(lon_hi, lat_hi, data_hi[8], vmin=-3, vmax=3, latlon=True, cmap=cm.balance)\n",
      "m.colorbar(extend='both')\n",
      "\n",
      "# LOW RES\n",
      "ax = plt.subplot(122)\n",
      "m = setup_map(ax)\n",
      "m.pcolor(lon_lo, lat_lo, data_lo[8], vmin=-3, vmax=3, latlon=True, cmap=cm.balance)\n",
      "m.colorbar(extend='both')"
     ],
     "language": "python",
     "metadata": {},
     "outputs": [],
     "prompt_number": 79
    },
    {
     "cell_type": "heading",
     "level": 1,
     "metadata": {},
     "source": [
      "Loop for Animation"
     ]
    },
    {
     "cell_type": "code",
     "collapsed": false,
     "input": [
      "for idx in np.arange(0, 12, 1):\n",
      "    fig = plt.figure(figsize=(12,6))\n",
      "    plt.suptitle(months[idx] + ' 2003', fontsize='xx-large')\n",
      "    # HIGH RES\n",
      "    ax = plt.subplot(121)\n",
      "    m = setup_map(ax)\n",
      "    m.pcolor(lon_hi, lat_hi, data_hi[idx], vmin=-3, vmax=3, latlon=True, cmap=cm.balance)\n",
      "    m.colorbar(extend='both')\n",
      "    # LOW RES\n",
      "    ax = plt.subplot(122)\n",
      "    m = setup_map(ax)\n",
      "    m.pcolor(lon_lo, lat_lo, data_lo[idx], vmin=-3, vmax=3, latlon=True, cmap=cm.balance)\n",
      "    m.colorbar(extend='both')\n",
      "    plt.savefig('image' + nums[idx] + '.png', transparent=False,\n",
      "                bbox_inches='tight', pad_inches=1, dpi=300)\n",
      "    plt.clf()"
     ],
     "language": "python",
     "metadata": {},
     "outputs": [],
     "prompt_number": 80
    }
   ],
   "metadata": {}
  }
 ]
}