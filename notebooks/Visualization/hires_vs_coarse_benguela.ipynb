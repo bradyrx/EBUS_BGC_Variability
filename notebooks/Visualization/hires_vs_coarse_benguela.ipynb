{
 "cells": [
  {
   "cell_type": "markdown",
   "metadata": {},
   "source": [
    "# Hi-Res vs. Coarse Benguela\n",
    "A quick movie comparison of the high-resolution hindcast Benguela Current versus the low-resolution CESM1-LENS Benguela Current. "
   ]
  },
  {
   "cell_type": "code",
   "execution_count": 1,
   "metadata": {
    "collapsed": true
   },
   "outputs": [],
   "source": [
    "import glob\n",
    "\n",
    "import numpy as np\n",
    "import pandas as pd\n",
    "import xarray as xr\n",
    "\n",
    "import matplotlib.pyplot as plt\n",
    "plt.style.use('ocn-clim')\n",
    "%matplotlib inline\n",
    "import cmocean.cm as cm\n",
    "\n",
    "from mpl_toolkits.basemap import Basemap"
   ]
  },
  {
   "cell_type": "code",
   "execution_count": 3,
   "metadata": {
    "collapsed": true
   },
   "outputs": [],
   "source": [
    "lat1 = -30\n",
    "lat2 = -15\n",
    "lon1 = 0\n",
    "lon2 = 25"
   ]
  },
  {
   "cell_type": "markdown",
   "metadata": {},
   "source": [
    "# Functions"
   ]
  },
  {
   "cell_type": "code",
   "execution_count": 4,
   "metadata": {
    "collapsed": true
   },
   "outputs": [],
   "source": [
    "def find_indices(latGrid, lonGrid, latPoint, lonPoint):\n",
    "    dx = lonGrid - lonPoint\n",
    "    dy = latGrid - latPoint\n",
    "    reducedGrid = abs(dx) + abs(dy)\n",
    "    min_ix = np.nanargmin(reducedGrid)\n",
    "    i, j = np.unravel_index(min_ix, reducedGrid.shape)\n",
    "    return i, j"
   ]
  },
  {
   "cell_type": "markdown",
   "metadata": {},
   "source": [
    "# If the data has already been processed, just load the netcdf files here and skip the next two chunks"
   ]
  },
  {
   "cell_type": "code",
   "execution_count": 5,
   "metadata": {
    "collapsed": true
   },
   "outputs": [],
   "source": [
    "hires_dir = '/glade/scratch/rbrady/HI_RES/2003_50m_WVEL_Benguela.nc'\n",
    "ds_hi = xr.open_dataset(hires_dir)"
   ]
  },
  {
   "cell_type": "code",
   "execution_count": 72,
   "metadata": {
    "collapsed": true
   },
   "outputs": [],
   "source": [
    "lores_dir = '/glade/scratch/rbrady/HI_RES/2003_50m_WVEL_Benguela_COARSE3.nc'\n",
    "ds_lo = xr.open_dataset(lores_dir)"
   ]
  },
  {
   "cell_type": "markdown",
   "metadata": {},
   "source": [
    "\n",
    "# Extract Benguela for Low Resolution\n",
    "So for the current iteration, I'm just going to draw the whole ensemble and slice into just 2003 to match the high resolution."
   ]
  },
  {
   "cell_type": "code",
   "execution_count": 64,
   "metadata": {},
   "outputs": [],
   "source": [
    "inDir ='/glade/p/work/rbrady/EBUS_BGC_Variability/WVEL/BenCS/'\n",
    "fileName = 'WVEL.*.BenCS.192001-201512.nc'\n",
    "ds_lens = xr.open_mfdataset(inDir + fileName, concat_dim='ensemble')"
   ]
  },
  {
   "cell_type": "code",
   "execution_count": 65,
   "metadata": {
    "collapsed": true
   },
   "outputs": [],
   "source": [
    "lat = ds_lens['TLAT'][0].values\n",
    "lon = ds_lens['TLONG'][0].values\n",
    "a, c = find_indices(lat, lon, lat1, lon1)\n",
    "b, d = find_indices(lat, lon, lat2, lon2)"
   ]
  },
  {
   "cell_type": "code",
   "execution_count": 66,
   "metadata": {},
   "outputs": [],
   "source": [
    "ds_lens = ds_lens['WVEL'].sel(nlat=slice(a, b), nlon=slice(c, d), time=slice('2003-01', '2003-12'))"
   ]
  },
  {
   "cell_type": "code",
   "execution_count": 67,
   "metadata": {
    "collapsed": true
   },
   "outputs": [],
   "source": [
    "# ensemble mean drops latitude and longitude for some reason\n",
    "lat_recover = ds_lens['TLAT'][0]\n",
    "lon_recover = ds_lens['TLONG'][0]"
   ]
  },
  {
   "cell_type": "code",
   "execution_count": 68,
   "metadata": {},
   "outputs": [],
   "source": [
    "ds_lens = ds_lens.mean(dim='ensemble')"
   ]
  },
  {
   "cell_type": "code",
   "execution_count": 69,
   "metadata": {
    "collapsed": true
   },
   "outputs": [],
   "source": [
    "ds_lens['TLAT'] = lat_recover\n",
    "ds_lens['TLONG'] = lon_recover"
   ]
  },
  {
   "cell_type": "code",
   "execution_count": 70,
   "metadata": {},
   "outputs": [],
   "source": [
    "ds_lens = ds_lens * (60 * 60 * 24) * (1/100) # Convert to m/day"
   ]
  },
  {
   "cell_type": "code",
   "execution_count": 71,
   "metadata": {},
   "outputs": [
    {
     "name": "stderr",
     "output_type": "stream",
     "text": [
      "/glade/u/home/rbrady/anaconda3/lib/python3.6/site-packages/dask/array/numpy_compat.py:45: RuntimeWarning: invalid value encountered in true_divide\n",
      "  x = np.divide(x1, x2, out)\n"
     ]
    }
   ],
   "source": [
    "ds_lens.to_netcdf('/glade/scratch/rbrady/HI_RES/2003_50m_WVEL_Benguela_COARSE3.nc')"
   ]
  },
  {
   "cell_type": "markdown",
   "metadata": {},
   "source": [
    "# Extract Benguela for High Resolution"
   ]
  },
  {
   "cell_type": "code",
   "execution_count": null,
   "metadata": {
    "collapsed": true
   },
   "outputs": [],
   "source": [
    "fileDir = '/glade/p/cmia0001/TL319_t12/archive/g.e20.G.TL319_t12.GIAF.005/ocn/hist/'\n",
    "fileName = 'g.e20.G.TL319_t12.GIAF.005.pop.h.2003-*.nc'\n",
    "# After getting a snapshot going, will glob in all of 2003 for a loop."
   ]
  },
  {
   "cell_type": "code",
   "execution_count": null,
   "metadata": {
    "collapsed": true
   },
   "outputs": [],
   "source": [
    "ds_hi = xr.open_mfdataset(fileDir + fileName, decode_times=False)"
   ]
  },
  {
   "cell_type": "code",
   "execution_count": null,
   "metadata": {
    "collapsed": true
   },
   "outputs": [],
   "source": [
    "ds_hi = ds_hi['WVEL']\n",
    "ds_hi = ds_hi.squeeze()\n",
    "ds_hi = ds_hi[:, 5] # 50m depth"
   ]
  },
  {
   "cell_type": "code",
   "execution_count": null,
   "metadata": {
    "collapsed": true
   },
   "outputs": [],
   "source": [
    "timeRef = pd.date_range('2003-01', '2004-01', freq='M')\n",
    "ds_hi['time'] = timeRef"
   ]
  },
  {
   "cell_type": "code",
   "execution_count": null,
   "metadata": {
    "collapsed": true
   },
   "outputs": [],
   "source": [
    "lat = ds_hi['TLAT'].values\n",
    "lon = ds_hi['TLONG'].values"
   ]
  },
  {
   "cell_type": "code",
   "execution_count": null,
   "metadata": {
    "collapsed": true
   },
   "outputs": [],
   "source": [
    "a, c = find_indices(lat, lon, lat1, lon1)\n",
    "b, d = find_indices(lat, lon, lat2, lon2)"
   ]
  },
  {
   "cell_type": "code",
   "execution_count": null,
   "metadata": {
    "collapsed": true
   },
   "outputs": [],
   "source": [
    "ds_hi = ds_hi.isel(nlat=slice(a,b), nlon=slice(c, d))"
   ]
  },
  {
   "cell_type": "code",
   "execution_count": null,
   "metadata": {
    "collapsed": true
   },
   "outputs": [],
   "source": [
    "ds_hi = ds_hi * (60 * 60 * 24) * (1/100) # Convert to m/day"
   ]
  },
  {
   "cell_type": "code",
   "execution_count": null,
   "metadata": {
    "collapsed": true
   },
   "outputs": [],
   "source": [
    "ds_hi.to_netcdf('/glade/scratch/rbrady/HI_RES/2003_50m_WVEL_Benguela.nc')"
   ]
  },
  {
   "cell_type": "markdown",
   "metadata": {},
   "source": [
    "# Visualize"
   ]
  },
  {
   "cell_type": "code",
   "execution_count": 6,
   "metadata": {
    "collapsed": true
   },
   "outputs": [],
   "source": [
    "def setup_map(ax):\n",
    "    m = Basemap(projection='eqdc',\n",
    "               lat_0=-20, lon_0=10,\n",
    "               llcrnrlat=-40, llcrnrlon=0,\n",
    "               urcrnrlat=-10, urcrnrlon=25,\n",
    "               resolution='c', fix_aspect=False)\n",
    "    m.fillcontinents(color='k')\n",
    "    return m"
   ]
  },
  {
   "cell_type": "code",
   "execution_count": 73,
   "metadata": {},
   "outputs": [],
   "source": [
    "# Set up data\n",
    "lon_hi = ds_hi['TLONG'].values\n",
    "lat_hi = ds_hi['TLAT'].values\n",
    "data_hi = ds_hi['WVEL'].values\n",
    "data_hi = np.ma.array(data_hi, mask=np.isnan(data_hi))\n",
    "\n",
    "# Coarse res\n",
    "lon_lo = ds_lo['TLONG'].values\n",
    "lat_lo = ds_lo['TLAT'].values\n",
    "data_lo = ds_lo['WVEL'].values\n",
    "data_lo = np.ma.array(data_lo, mask=np.isnan(data_lo))"
   ]
  },
  {
   "cell_type": "code",
   "execution_count": 74,
   "metadata": {
    "collapsed": true
   },
   "outputs": [],
   "source": [
    "months = ['January', 'February', 'March', 'April',\n",
    "          'May', 'June', 'July', 'August', 'September',\n",
    "          'October', 'November', 'December']\n",
    "nums = ['001','002','003','004','005','006',\n",
    "        '007','008','009','010','011','012']"
   ]
  },
  {
   "cell_type": "markdown",
   "metadata": {},
   "source": [
    "# Set up stationary figure"
   ]
  },
  {
   "cell_type": "code",
   "execution_count": 79,
   "metadata": {},
   "outputs": [
    {
     "data": {
      "text/plain": [
       "<matplotlib.colorbar.Colorbar at 0x2aac2cd00518>"
      ]
     },
     "execution_count": 79,
     "metadata": {},
     "output_type": "execute_result"
    },
    {
     "data": {
      "image/png": "[encoded data removed]",
      "text/plain": [
       "<matplotlib.figure.Figure at 0x2aac20f779b0>"
      ]
     },
     "metadata": {},
     "output_type": "display_data"
    }
   ],
   "source": [
    "fig = plt.figure(figsize=(12,6))\n",
    "\n",
    "plt.suptitle('January 2003', fontsize='xx-large')\n",
    "\n",
    "# HIGH RES\n",
    "ax = plt.subplot(121)\n",
    "m = setup_map(ax)\n",
    "m.pcolor(lon_hi, lat_hi, data_hi[8], vmin=-3, vmax=3, latlon=True, cmap=cm.balance)\n",
    "m.colorbar(extend='both')\n",
    "\n",
    "# LOW RES\n",
    "ax = plt.subplot(122)\n",
    "m = setup_map(ax)\n",
    "m.pcolor(lon_lo, lat_lo, data_lo[8], vmin=-3, vmax=3, latlon=True, cmap=cm.balance)\n",
    "m.colorbar(extend='both')"
   ]
  },
  {
   "cell_type": "markdown",
   "metadata": {},
   "source": [
    "# Loop for Animation"
   ]
  },
  {
   "cell_type": "code",
   "execution_count": 80,
   "metadata": {},
   "outputs": [
    {
     "data": {
      "text/plain": [
       "<matplotlib.figure.Figure at 0x2aac23e654a8>"
      ]
     },
     "metadata": {},
     "output_type": "display_data"
    },
    {
     "data": {
      "text/plain": [
       "<matplotlib.figure.Figure at 0x2aac2cd39898>"
      ]
     },
     "metadata": {},
     "output_type": "display_data"
    },
    {
     "data": {
      "text/plain": [
       "<matplotlib.figure.Figure at 0x2aaadd99ad68>"
      ]
     },
     "metadata": {},
     "output_type": "display_data"
    },
    {
     "data": {
      "text/plain": [
       "<matplotlib.figure.Figure at 0x2aac2eb82fd0>"
      ]
     },
     "metadata": {},
     "output_type": "display_data"
    },
    {
     "data": {
      "text/plain": [
       "<matplotlib.figure.Figure at 0x2aac2da80e80>"
      ]
     },
     "metadata": {},
     "output_type": "display_data"
    },
    {
     "data": {
      "text/plain": [
       "<matplotlib.figure.Figure at 0x2aac2da80e48>"
      ]
     },
     "metadata": {},
     "output_type": "display_data"
    },
    {
     "data": {
      "text/plain": [
       "<matplotlib.figure.Figure at 0x2aac2d8cecf8>"
      ]
     },
     "metadata": {},
     "output_type": "display_data"
    },
    {
     "data": {
      "text/plain": [
       "<matplotlib.figure.Figure at 0x2aac2d208a58>"
      ]
     },
     "metadata": {},
     "output_type": "display_data"
    },
    {
     "data": {
      "text/plain": [
       "<matplotlib.figure.Figure at 0x2aac2cece630>"
      ]
     },
     "metadata": {},
     "output_type": "display_data"
    },
    {
     "data": {
      "text/plain": [
       "<matplotlib.figure.Figure at 0x2aac2dc50358>"
      ]
     },
     "metadata": {},
     "output_type": "display_data"
    },
    {
     "data": {
      "text/plain": [
       "<matplotlib.figure.Figure at 0x2aac2e4e3b38>"
      ]
     },
     "metadata": {},
     "output_type": "display_data"
    },
    {
     "data": {
      "text/plain": [
       "<matplotlib.figure.Figure at 0x2aac2e2c7f60>"
      ]
     },
     "metadata": {},
     "output_type": "display_data"
    }
   ],
   "source": [
    "for idx in np.arange(0, 12, 1):\n",
    "    fig = plt.figure(figsize=(12,6))\n",
    "    plt.suptitle(months[idx] + ' 2003', fontsize='xx-large')\n",
    "    # HIGH RES\n",
    "    ax = plt.subplot(121)\n",
    "    m = setup_map(ax)\n",
    "    m.pcolor(lon_hi, lat_hi, data_hi[idx], vmin=-3, vmax=3, latlon=True, cmap=cm.balance)\n",
    "    m.colorbar(extend='both')\n",
    "    # LOW RES\n",
    "    ax = plt.subplot(122)\n",
    "    m = setup_map(ax)\n",
    "    m.pcolor(lon_lo, lat_lo, data_lo[idx], vmin=-3, vmax=3, latlon=True, cmap=cm.balance)\n",
    "    m.colorbar(extend='both')\n",
    "    plt.savefig('image' + nums[idx] + '.png', transparent=False,\n",
    "                bbox_inches='tight', pad_inches=1, dpi=300)\n",
    "    plt.clf()"
   ]
  }
 ],
 "metadata": {
  "kernelspec": {
   "display_name": "Python 3",
   "language": "python",
   "name": "python3"
  },
  "language_info": {
   "codemirror_mode": {
    "name": "ipython",
    "version": 3
   },
   "file_extension": ".py",
   "mimetype": "text/x-python",
   "name": "python",
   "nbconvert_exporter": "python",
   "pygments_lexer": "ipython3",
   "version": "3.6.1"
  }
 },
 "nbformat": 4,
 "nbformat_minor": 2
}
