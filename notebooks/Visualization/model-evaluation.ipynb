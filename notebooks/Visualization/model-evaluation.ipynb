{
 "metadata": {
  "kernelspec": {
   "display_name": "Python 3",
   "language": "python",
   "name": "python3"
  },
  "language_info": {
   "codemirror_mode": {
    "name": "ipython",
    "version": 3
   },
   "file_extension": ".py",
   "mimetype": "text/x-python",
   "name": "python",
   "nbconvert_exporter": "python",
   "pygments_lexer": "ipython3",
   "version": "3.6.6"
  },
  "name": "",
  "toc": {
   "base_numbering": 1,
   "nav_menu": {},
   "number_sections": true,
   "sideBar": true,
   "skip_h1_title": false,
   "title_cell": "Table of Contents",
   "title_sidebar": "Contents",
   "toc_cell": false,
   "toc_position": {},
   "toc_section_display": true,
   "toc_window_display": false
  },
  "varInspector": {
   "cols": {
    "lenName": 16,
    "lenType": 16,
    "lenVar": 40
   },
   "kernels_config": {
    "python": {
     "delete_cmd_postfix": "",
     "delete_cmd_prefix": "del ",
     "library": "var_list.py",
     "varRefreshCmd": "print(var_dic_list())"
    },
    "r": {
     "delete_cmd_postfix": ") ",
     "delete_cmd_prefix": "rm(",
     "library": "var_list.r",
     "varRefreshCmd": "cat(var_dic_list()) "
    }
   },
   "types_to_exclude": [
    "module",
    "function",
    "builtin_function_or_method",
    "instance",
    "_Feature"
   ],
   "window_display": false
  }
 },
 "nbformat": 3,
 "nbformat_minor": 0,
 "worksheets": [
  {
   "cells": [
    {
     "cell_type": "markdown",
     "metadata": {},
     "source": [
      "# CESM-LENS Model Evaluation\n",
      "- It's always important to do some sort of model evaluation when working with a model. The issue with ocean BGC, and pCO2/CO2 Flux in particular, is the lack of strong observational data! We thought it best to validate the model with a few datasets that deal with the carbon system in general.\n",
      "- Added on 7/19/17 a vertical velocity mean state"
     ]
    },
    {
     "cell_type": "code",
     "collapsed": false,
     "input": [
      "import glob\n",
      "\n",
      "# Numerics \n",
      "import numpy as np\n",
      "import pandas as pd\n",
      "import xarray as xr\n",
      "\n",
      "# Visualization\n",
      "from mpl_toolkits.basemap import Basemap\n",
      "import matplotlib.pyplot as plt\n",
      "from matplotlib import gridspec\n",
      "%matplotlib inline\n",
      "\n",
      "import esmtools as et"
     ],
     "language": "python",
     "metadata": {},
     "outputs": [],
     "prompt_number": 1
    },
    {
     "cell_type": "heading",
     "level": 1,
     "metadata": {},
     "source": [
      "Constants"
     ]
    },
    {
     "cell_type": "code",
     "collapsed": false,
     "input": [
      "EBUS = ['CalCS', 'HumCS', 'CanCS', 'BenCS']"
     ],
     "language": "python",
     "metadata": {},
     "outputs": [],
     "prompt_number": 3
    },
    {
     "cell_type": "heading",
     "level": 1,
     "metadata": {},
     "source": [
      "Functions"
     ]
    },
    {
     "cell_type": "code",
     "collapsed": false,
     "input": [
      "def region_bounds(EBU):\n",
      "    if EBU == \"CalCS\":\n",
      "        lat1 = 25\n",
      "        lat2 = 45\n",
      "        lon1 = -135\n",
      "        lon2 = -110\n",
      "    elif EBU == 'HumCS':\n",
      "        lat1 = -20\n",
      "        lat2 = 0\n",
      "        lon1 = -90\n",
      "        lon2 = -70\n",
      "    elif EBU == 'CanCS':\n",
      "        lat1 = 10\n",
      "        lat2 = 30\n",
      "        lon1 = -25\n",
      "        lon2 = -10\n",
      "    elif EBU == 'BenCS':\n",
      "        lat1 = -35\n",
      "        lat2 = -14\n",
      "        lon1 = 5\n",
      "        lon2 = 20\n",
      "    return lat1,lat2,lon1,lon2"
     ],
     "language": "python",
     "metadata": {},
     "outputs": [],
     "prompt_number": 4
    },
    {
     "cell_type": "code",
     "collapsed": false,
     "input": [
      "def find_indices(latGrid, lonGrid, latPoint, lonPoint):\n",
      "    dx = lonGrid - lonPoint\n",
      "    dy = latGrid - latPoint\n",
      "    reducedGrid = abs(dx) + abs(dy)\n",
      "    min_ix = np.nanargmin(reducedGrid)\n",
      "    i, j = np.unravel_index(min_ix, reducedGrid.shape)\n",
      "    return i, j"
     ],
     "language": "python",
     "metadata": {},
     "outputs": [],
     "prompt_number": 5
    },
    {
     "cell_type": "heading",
     "level": 1,
     "metadata": {},
     "source": [
      "CESM-LENS Manipulation"
     ]
    },
    {
     "cell_type": "code",
     "collapsed": false,
     "input": [
      "lens_output, lens_lat, lens_lon = ( {} for i in range(3) )\n",
      "for idx in EBUS:\n",
      "#    print('Operating on : {} ...').format(idx)\n",
      "    fileDir = '/glade/p/work/rbrady/EBUS_BGC_Variability/FG_CO2/' + idx + '/'\n",
      "    if idx == 'CalCS' or idx == 'HumCS' :\n",
      "        ds_lens = xr.open_mfdataset(fileDir + '*.nc', concat_dim='ensemble')\n",
      "    else:\n",
      "        ds_lens = xr.open_mfdataset(fileDir + 'extended_domain/' + 'extended_domain*.nc', concat_dim='ensemble')\n",
      "    # Fix quirk where TLAT/TLONG are coordinates which dissapear when you do ensemble mean.\n",
      "    if idx == 'HumCS':\n",
      "        ds_lens['TLAT'] = (('nlat', 'nlon'), ds_lens['TLAT'][0])\n",
      "        ds_lens['TLONG'] = (('nlat', 'nlon'), ds_lens['TLONG'])\n",
      "    else:\n",
      "        ds_lens['TLAT'] = (('nlat', 'nlon'), ds_lens['TLAT'][0])\n",
      "        ds_lens['TLONG'] = (('nlat', 'nlon'), ds_lens['TLONG'][0])\n",
      "    ds_lens = ds_lens.mean(dim='ensemble')\n",
      "    lat1,lat2,lon1,lon2 = region_bounds(idx)\n",
      "    if idx != 'BenCS':\n",
      "        lon1 = 360 + lon1; lon2 = 360 + lon2;\n",
      "    a, c = find_indices(ds_lens['TLAT'].values, ds_lens['TLONG'].values,\n",
      "                    lat1, lon1)\n",
      "    b, d = find_indices(ds_lens['TLAT'].values, ds_lens['TLONG'].values,\n",
      "                    lat2, lon2)\n",
      "    ds_lens = ds_lens.isel(nlat=slice(a, b), nlon=slice(c,d))\n",
      "    ds_lens = ds_lens.sel(time=slice('1982-01', '2011-12')).mean(dim='time')\n",
      "#   print 'Storing values in DataFrame...'\n",
      "    lens_output[idx] = pd.DataFrame(ds_lens['FG_CO2'].values)\n",
      "    lens_lat[idx] = pd.DataFrame(ds_lens['TLAT'].values)\n",
      "    lens_lon[idx] = pd.DataFrame(ds_lens['TLONG'].values)\n",
      "    del ds_lens"
     ],
     "language": "python",
     "metadata": {},
     "outputs": [],
     "prompt_number": 6
    },
    {
     "cell_type": "heading",
     "level": 1,
     "metadata": {},
     "source": [
      "Landschuetzer Data Manipulation"
     ]
    },
    {
     "cell_type": "code",
     "collapsed": false,
     "input": [
      "obs_output, obs_lat, obs_lon = ( {} for i in range(3) )\n",
      "fileDir = '/glade/p/work/rbrady/Landschuetzer_pCO2/'\n",
      "ds_obs = xr.open_dataset(fileDir + 'spco2_ETH_SOM-FFN_CDIAC_ETH30yr.nc', decode_times=False)\n",
      "times = pd.date_range('1982-01', '2012-01', freq='M')\n",
      "ds_obs['time'] = times\n",
      "ds_obs.attrs = {}\n",
      "X, Y = np.meshgrid(ds_obs['lon'].values, ds_obs['lat'].values)\n",
      "ds_obs['LON'] = (('lat','lon'), X)\n",
      "ds_obs['LAT'] = (('lat','lon'), Y)\n",
      "ds_obs = ds_obs.mean(dim='time')\n",
      "for idx in EBUS:\n",
      "#    print('Operating on : {} ...').format(idx)\n",
      "    lat1,lat2,lon1,lon2 = region_bounds(idx)\n",
      "    a, c = find_indices(ds_obs['LAT'].values, ds_obs['LON'].values,\n",
      "                    lat1, lon1)\n",
      "    b, d = find_indices(ds_obs['LAT'].values, ds_obs['LON'].values,\n",
      "                    lat2, lon2)  \n",
      "    ds_temp = ds_obs.isel(lat=slice(a,b), lon=slice(c,d))\n",
      "    temp_data = ds_obs['fgco2_raw'].values\n",
      "    mask = ( temp_data > 1e19 )\n",
      "    temp_data[mask] = np.nan\n",
      "#    print 'Storing values in DataFrame...'\n",
      "    obs_output[idx] = pd.DataFrame(ds_temp['fgco2_raw'].values)\n",
      "    obs_lat[idx] = pd.DataFrame(ds_temp['LAT'].values)\n",
      "    obs_lon[idx] = pd.DataFrame(ds_temp['LON'].values)\n",
      "    del ds_temp                                    "
     ],
     "language": "python",
     "metadata": {},
     "outputs": [],
     "prompt_number": 9
    },
    {
     "cell_type": "heading",
     "level": 1,
     "metadata": {},
     "source": [
      "Vertical Velocity & Wind Stress"
     ]
    },
    {
     "cell_type": "code",
     "collapsed": false,
     "input": [
      "inDir ='/glade/p/work/rbrady/EBUS_BGC_Variability/global_fields/'\n",
      "filename = 'WVEL-ensemble-landschuetzer-mean-global.nc'\n",
      "ds = xr.open_dataset(inDir + filename)"
     ],
     "language": "python",
     "metadata": {},
     "outputs": [],
     "prompt_number": null
    },
    {
     "cell_type": "code",
     "collapsed": false,
     "input": [
      "wvel_output, wvel_lat, wvel_lon = ( {} for i in range(3) )\n",
      "for idx in EBUS:\n",
      "    print('Operating on : {} ...').format(idx)\n",
      "    lat1,lat2,lon1,lon2 = region_bounds(idx)\n",
      "    if idx != 'BenCS':\n",
      "        lon1 = lon1+360\n",
      "        lon2 = lon2+360\n",
      "    a, c = find_indices(ds['TLAT'].values, ds['TLONG'].values, lat1, lon1)\n",
      "    b, d = find_indices(ds['TLAT'].values, ds['TLONG'].values, lat2, lon2)\n",
      "    ds_temp = ds.copy()\n",
      "    ds_temp = ds_temp.isel(nlat=slice(a,b), nlon=slice(c,d))\n",
      "    print 'Storing values in DataFrame...'\n",
      "    # Convert to m/day\n",
      "    wvel_output[idx] = pd.DataFrame(ds_temp['WVEL'].values * (60*60*24/100))\n",
      "    wvel_lat[idx] = pd.DataFrame(ds_temp['TLAT'].values)\n",
      "    wvel_lon[idx] = pd.DataFrame(ds_temp['TLONG'].values)"
     ],
     "language": "python",
     "metadata": {},
     "outputs": [],
     "prompt_number": null
    },
    {
     "cell_type": "code",
     "collapsed": false,
     "input": [
      "inDir ='/glade/p/work/rbrady/EBUS_BGC_Variability/global_fields/'\n",
      "filename = 'TAUX-ensemble-landschuetzer-mean-global.nc'\n",
      "ds = xr.open_dataset(inDir + filename)"
     ],
     "language": "python",
     "metadata": {},
     "outputs": [],
     "prompt_number": null
    },
    {
     "cell_type": "code",
     "collapsed": false,
     "input": [
      "taux_output, taux_lat, taux_lon = ( {} for i in range(3) )\n",
      "for idx in EBUS:\n",
      "    print('Operating on : {} ...').format(idx)\n",
      "    lat1,lat2,lon1,lon2 = region_bounds(idx)\n",
      "    if idx != 'BenCS':\n",
      "        lon1 = lon1+360\n",
      "        lon2 = lon2+360\n",
      "    a, c = find_indices(ds['ULAT'].values, ds['ULONG'].values, lat1, lon1)\n",
      "    b, d = find_indices(ds['ULAT'].values, ds['ULONG'].values, lat2, lon2)\n",
      "    ds_temp = ds.copy()\n",
      "    ds_temp = ds_temp.isel(nlat=slice(a,b), nlon=slice(c,d))\n",
      "    print 'Storing values in DataFrame...'\n",
      "    # Convert to m/day\n",
      "    taux_output[idx] = pd.DataFrame(ds_temp['TAUX'].values * (60*60*24/100))\n",
      "    taux_lat[idx] = pd.DataFrame(ds_temp['ULAT'].values)\n",
      "    taux_lon[idx] = pd.DataFrame(ds_temp['ULONG'].values)"
     ],
     "language": "python",
     "metadata": {},
     "outputs": [],
     "prompt_number": null
    },
    {
     "cell_type": "code",
     "collapsed": false,
     "input": [
      "inDir ='/glade/p/work/rbrady/EBUS_BGC_Variability/global_fields/'\n",
      "filename = 'TAUY-ensemble-landschuetzer-mean-global.nc'\n",
      "ds = xr.open_dataset(inDir + filename)"
     ],
     "language": "python",
     "metadata": {},
     "outputs": [],
     "prompt_number": null
    },
    {
     "cell_type": "code",
     "collapsed": false,
     "input": [
      "tauy_output, tauy_lat, tauy_lon, angle = ( {} for i in range(4) )\n",
      "for idx in EBUS:\n",
      "    print('Operating on : {} ...').format(idx)\n",
      "    lat1,lat2,lon1,lon2 = region_bounds(idx)\n",
      "    if idx != 'BenCS':\n",
      "        lon1 = lon1+360\n",
      "        lon2 = lon2+360\n",
      "    a, c = find_indices(ds['ULAT'].values, ds['ULONG'].values, lat1, lon1)\n",
      "    b, d = find_indices(ds['ULAT'].values, ds['ULONG'].values, lat2, lon2)\n",
      "    ds_temp = ds.copy()\n",
      "    ds_temp = ds_temp.isel(nlat=slice(a,b), nlon=slice(c,d))\n",
      "    print 'Storing values in DataFrame...'\n",
      "    # Convert to m/day\n",
      "    tauy_output[idx] = pd.DataFrame(ds_temp['TAUY'].values * (60*60*24/100))\n",
      "    tauy_lat[idx] = pd.DataFrame(ds_temp['ULAT'].values)\n",
      "    tauy_lon[idx] = pd.DataFrame(ds_temp['ULONG'].values)\n",
      "    angle[idx] = pd.DataFrame(ds_temp['ANGLE'].values)"
     ],
     "language": "python",
     "metadata": {},
     "outputs": [],
     "prompt_number": null
    },
    {
     "cell_type": "heading",
     "level": 1,
     "metadata": {},
     "source": [
      "Visual Comparison"
     ]
    },
    {
     "cell_type": "code",
     "collapsed": false,
     "input": [
      "def setup_map(ax, lat1, lat2, lon1, lon2, lonlabel=False):\n",
      "    m = Basemap(projection='merc',\n",
      "                lat_0=(lat1+lat2)/2,\n",
      "                lon_0=(lon1+lon2)/2,\n",
      "                #width=(2000*1000),\n",
      "                #height=(2000*1000),\n",
      "                llcrnrlon=lon1,\n",
      "                urcrnrlon=lon2,\n",
      "                llcrnrlat=lat1,\n",
      "                urcrnrlat=lat2,\n",
      "                fix_aspect=False,\n",
      "                resolution='c')\n",
      "    m.drawcoastlines(color='#D3D3D3')\n",
      "    #m.drawcountries()\n",
      "    #m.drawstates()\n",
      "    m.fillcontinents(color='#D3D3D3')\n",
      "    m.drawmapboundary(fill_color='white')\n",
      "    m.drawparallels(np.arange(lat1, lat2+1, 3),\n",
      "                   labels=[False,True,False,False], size=20,\n",
      "                   color='w')\n",
      "    m.drawmeridians(np.arange(lon1, lon2+1, 2),\n",
      "                   labels=[False, False, False, False], size=20,\n",
      "                   color='w')\n",
      "    return m"
     ],
     "language": "python",
     "metadata": {},
     "outputs": [],
     "prompt_number": 17
    },
    {
     "cell_type": "code",
     "collapsed": false,
     "input": [
      "def visual_bounds(EBU):\n",
      "    if EBU == \"CalCS\":\n",
      "        lat1 = 25\n",
      "        lat2 = 43\n",
      "        lon1 = -133\n",
      "        lon2 = -110\n",
      "    elif EBU == 'HumCS':\n",
      "        lat1 = -20\n",
      "        lat2 = -2\n",
      "        lon1 = -90\n",
      "        lon2 = -70\n",
      "    elif EBU == 'CanCS':\n",
      "        lat1 = 10\n",
      "        lat2 = 28\n",
      "        lon1 = -25\n",
      "        lon2 = -10\n",
      "    elif EBU == 'BenCS':\n",
      "        lat1 = -35\n",
      "        lat2 = -15\n",
      "        lon1 = 5\n",
      "        lon2 = 20\n",
      "    return lat1,lat2,lon1,lon2"
     ],
     "language": "python",
     "metadata": {},
     "outputs": [],
     "prompt_number": 11
    },
    {
     "cell_type": "code",
     "collapsed": false,
     "input": [
      "def map_upwelling_clim(ax, EBU, typ):\n",
      "    if typ == 'obs':\n",
      "        lon = obs_lon[EBU].values\n",
      "        lat = obs_lat[EBU].values\n",
      "        data = obs_output[EBU].values\n",
      "        data = np.ma.array(data, mask=np.isnan(data))\n",
      "    elif typ == 'model':\n",
      "        lon = lens_lon[EBU].values\n",
      "        lat = lens_lat[EBU].values\n",
      "        data = lens_output[EBU].values\n",
      "        data = np.ma.array(data, mask=np.isnan(data))\n",
      "    lat1,lat2,lon1,lon2 = visual_bounds(EBU)\n",
      "    if typ == 'model' and EBU != 'BenCS':\n",
      "        lon1 = 360 + lon1; lon2 = 360 + lon2;\n",
      "    if typ == 'obs':\n",
      "        m = setup_map(ax, lat1, lat2, lon1, lon2)\n",
      "    elif typ == 'model':\n",
      "        m = setup_map(ax, lat1, lat2, lon1, lon2, lonlabel=True)\n",
      "    m.contourf(lon, lat, data, np.linspace(-2.5, 2.5, num=21, endpoint=True),\n",
      "               latlon=True, cmap=\"RdBu_r\", extend=\"both\")\n",
      "    return m"
     ],
     "language": "python",
     "metadata": {},
     "outputs": [],
     "prompt_number": 12
    },
    {
     "cell_type": "code",
     "collapsed": false,
     "input": [
      "def map_vertical_velocity(ax, EBU):\n",
      "    lon = wvel_lon[EBU].values\n",
      "    lat = wvel_lat[EBU].values\n",
      "    data = wvel_output[EBU].values\n",
      "    data = np.ma.array(data, mask=np.isnan(data))\n",
      "    lat1,lat2,lon1,lon2 = visual_bounds(EBU)\n",
      "    if EBU != 'BenCS':\n",
      "        lon1 = 360 + lon1; lon2 = 360 + lon2;\n",
      "    m = setup_map(ax, lat1, lat2, lon1, lon2)\n",
      "    m.pcolor(lon, lat, data, vmin=-1, vmax=1, latlon=True, cmap='BrBG_r',\n",
      "            edgecolor='#D3D3D3')\n",
      "    #m.colorbar(location='bottom', extend='both')\n",
      "    return m"
     ],
     "language": "python",
     "metadata": {},
     "outputs": [],
     "prompt_number": 13
    },
    {
     "cell_type": "code",
     "collapsed": false,
     "input": [
      "def map_vector_winds(ax, EBU, num=3):\n",
      "    lon = taux_lon[EBU].values\n",
      "    lat = taux_lat[EBU].values\n",
      "    u = taux_output[EBU].values\n",
      "    u = np.ma.array(u, mask=np.isnan(u))\n",
      "    v = tauy_output[EBU].values\n",
      "    v = np.ma.array(v, mask=np.isnan(v))\n",
      "    # Rotate winds\n",
      "    rot = angle[EBU].values\n",
      "    uNew = u*np.cos(rot) - v*np.sin(rot) \n",
      "    vNew = u*np.sin(rot) + v*np.cos(rot) \n",
      "    # Visual Stuff\n",
      "    lat1,lat2,lon1,lon2 = visual_bounds(EBU)\n",
      "    if EBU != 'BenCS':\n",
      "        lon1 = 360 + lon1; lon2 = 360 + lon2;\n",
      "    m = setup_map(ax, lat1, lat2, lon1, lon2)\n",
      "    Q = m.quiver(lon[::num,::num], lat[::num,::num], uNew[::num,::num], vNew[::num,::num], \n",
      "                 latlon=True, pivot='mid', scale=1200, scale_units='inches')\n",
      "    return m"
     ],
     "language": "python",
     "metadata": {},
     "outputs": [],
     "prompt_number": 14
    },
    {
     "cell_type": "heading",
     "level": 1,
     "metadata": {},
     "source": [
      "Evaluation of just Model Vs. Obs"
     ]
    },
    {
     "cell_type": "code",
     "collapsed": false,
     "input": [
      "names = ['California Current',\n",
      "         'Humboldt Current',\n",
      "         'Canary Current',\n",
      "         'Benguela Current']\n",
      "fig = plt.figure(figsize=(20,12))\n",
      "counter_top = 1\n",
      "counter_mid = 5\n",
      "for idx in EBUS:\n",
      "    # Landscheutzer Climatology (Top)\n",
      "    ax = fig.add_subplot(2, 4, counter_top)\n",
      "    m = map_upwelling_clim(ax, idx, 'obs')\n",
      "    if counter_top == 1:\n",
      "        plt.ylabel('Landschuetzer et al. 2015 (1982-2011)', size=18)    \n",
      "    plt.title(names[counter_top-1], size=25)\n",
      "    counter_top += 1\n",
      "    # CESM-LENS Climatology (Middle)\n",
      "    ax = fig.add_subplot(2, 4, counter_mid)\n",
      "    m = map_upwelling_clim(ax, idx, 'model')\n",
      "    if counter_mid == 5:\n",
      "        plt.ylabel('CESM Large Ensemble (1982-2011)', size=18)   \n",
      "    cbar = m.colorbar(location=\"bottom\")\n",
      "    cbar.set_ticks(np.arange(-2, 2.1, 1))\n",
      "    cbar.ax.tick_params(labelsize=20, direction='out') \n",
      "    cbar.set_label('Sea-Air CO$_{2}$ Flux (mol/m$^{2}$/yr)', size=20)\n",
      "    counter_mid +=1\n",
      "fig.tight_layout()\n",
      "\n",
      "et.vis.savefig('model-evaluation')\n",
      "#plt.savefig('landschuetzer-model-climatological-comparison-withLon.eps', transparent=True, format='eps', \n",
      "#            bbox_inches='tight', pad_inches=1, dpi=1000)"
     ],
     "language": "python",
     "metadata": {},
     "outputs": [],
     "prompt_number": 20
    },
    {
     "cell_type": "heading",
     "level": 1,
     "metadata": {},
     "source": [
      "Evaluation with bottom row upwelling meanstate"
     ]
    },
    {
     "cell_type": "code",
     "collapsed": false,
     "input": [
      "names = ['California Current',\n",
      "         'Humboldt Current',\n",
      "         'Canary Current',\n",
      "         'Benguela Current']\n",
      "fig = plt.figure(figsize=(20,18))\n",
      "counter_top = 1\n",
      "counter_mid = 5\n",
      "counter_bottom = 9\n",
      "for idx in EBUS:\n",
      "    # Landscheutzer Climatology (Top)\n",
      "    ax = fig.add_subplot(3, 4, counter_top)\n",
      "    m = map_upwelling_clim(ax, idx, 'obs')\n",
      "    if counter_top == 1:\n",
      "        plt.ylabel('Landschuetzer et al. 2015 (1982-2011)', size=18)    \n",
      "    plt.title(names[counter_top-1], size=25)\n",
      "    counter_top += 1\n",
      "    # CESM-LENS Climatology (Middle)\n",
      "    ax = fig.add_subplot(3, 4, counter_mid)\n",
      "    m = map_upwelling_clim(ax, idx, 'model')\n",
      "    if counter_mid == 5:\n",
      "        plt.ylabel('CESM Large Ensemble (1982-2011)', size=18)   \n",
      "    cbar = m.colorbar(location=\"bottom\")\n",
      "    cbar.set_ticks(np.arange(-2, 2.1, 1))\n",
      "    cbar.ax.tick_params(labelsize=20, direction='out') \n",
      "    cbar.set_label('Sea-Air CO$_{2}$ Flux (mol/m$^{2}$/yr)', size=20)\n",
      "    counter_mid +=1\n",
      "    # Mean State Upwelling (Bottom)\n",
      "    ax = fig.add_subplot(3, 4, counter_bottom)\n",
      "    m = map_vertical_velocity(ax, idx)\n",
      "    if counter_bottom == 9:\n",
      "        plt.ylabel('CESM Large Ensemble (1982-2011)', size=18)\n",
      "    Q = map_vector_winds(ax, idx)\n",
      "    cbar = m.colorbar(location='bottom', extend='both')\n",
      "    cbar.set_ticks(np.arange(-1, 1.1, 0.5))\n",
      "    cbar.ax.tick_params(labelsize=20, direction='out') \n",
      "    cbar.set_label('Vertical Velocity (m/day)', size=20)\n",
      "    counter_bottom += 1\n",
      "fig.tight_layout()\n",
      "plt.savefig('landschuetzer-model-climatological-comparison-withUpwellingWinds-andLon.eps', transparent=True, format='eps', \n",
      "            bbox_inches='tight', pad_inches=1, dpi=1000)"
     ],
     "language": "python",
     "metadata": {},
     "outputs": [],
     "prompt_number": null
    }
   ],
   "metadata": {}
  }
 ]
}