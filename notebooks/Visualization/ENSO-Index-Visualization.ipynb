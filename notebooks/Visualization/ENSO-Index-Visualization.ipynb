{
 "metadata": {
  "kernelspec": {
   "display_name": "Python 3",
   "language": "python",
   "name": "python3"
  },
  "language_info": {
   "codemirror_mode": {
    "name": "ipython",
    "version": 3
   },
   "file_extension": ".py",
   "mimetype": "text/x-python",
   "name": "python",
   "nbconvert_exporter": "python",
   "pygments_lexer": "ipython3",
   "version": "3.6.3"
  },
  "name": ""
 },
 "nbformat": 3,
 "nbformat_minor": 0,
 "worksheets": [
  {
   "cells": [
    {
     "cell_type": "markdown",
     "metadata": {},
     "source": [
      "# ENSO Index Visualization\n",
      "- The purpose of this notebook is to make a simple panel plot visualization of detrended Nino3.4 index for all relevant BGC members. This visualization is used in my poster for ICDC to show how the large ensemble works and how it is relevant to this project."
     ]
    },
    {
     "cell_type": "code",
     "collapsed": false,
     "input": [
      "import glob\n",
      "import numpy as np\n",
      "import pandas as pd\n",
      "import xarray as xr\n",
      "import matplotlib.pyplot as plt\n",
      "%matplotlib inline\n",
      "import esmtools as et"
     ],
     "language": "python",
     "metadata": {},
     "outputs": [],
     "prompt_number": 6
    },
    {
     "cell_type": "heading",
     "level": 1,
     "metadata": {},
     "source": [
      "Constants"
     ]
    },
    {
     "cell_type": "code",
     "collapsed": false,
     "input": [
      "ens = ['001', '002', '009', '010', '011', '012', '013', '014', '015', '016',\n",
      "       '017', '018', '019', '020', '021', '022', '023', '024', '025', '026',\n",
      "       '027', '028', '029', '030', '031', '032', '033', '034', '035', '101',\n",
      "       '102', '103', '104', '105']"
     ],
     "language": "python",
     "metadata": {},
     "outputs": [],
     "prompt_number": 2
    },
    {
     "cell_type": "heading",
     "level": 1,
     "metadata": {},
     "source": [
      "Visualization Functions"
     ]
    },
    {
     "cell_type": "code",
     "collapsed": false,
     "input": [
      "def enso_fill(x, y, ax, ens):\n",
      "    plot = plt.fill_between(x, y, where=y>0, facecolor='r', edgecolor='none')\n",
      "    plot = plt.fill_between(x, y, where=y<0, facecolor='b', edgecolor='none')\n",
      "    plt.grid('on')\n",
      "    ax.set_ylim([-4,4])\n",
      "    ax.text('1920-11', 3.2, ('S' + ens), bbox={'facecolor':'white'})\n",
      "    return plot"
     ],
     "language": "python",
     "metadata": {},
     "outputs": [],
     "prompt_number": 3
    },
    {
     "cell_type": "heading",
     "level": 1,
     "metadata": {},
     "source": [
      "Load in CVDP"
     ]
    },
    {
     "cell_type": "code",
     "collapsed": false,
     "input": [
      "fileDir = '/glade/p/work/rbrady/cesmLE_CVDP/processed/'\n",
      "ds = xr.open_dataset(fileDir + 'cvdp_detrended_BGC.nc')"
     ],
     "language": "python",
     "metadata": {},
     "outputs": [],
     "prompt_number": 4
    },
    {
     "cell_type": "heading",
     "level": 1,
     "metadata": {},
     "source": [
      "Generate Figure"
     ]
    },
    {
     "cell_type": "code",
     "collapsed": false,
     "input": [
      "x = ds.time.values\n",
      "fig = plt.figure(figsize=(32, 12))\n",
      "for idx in np.arange(0, 36, 1):\n",
      "    if idx == 0 or idx == 1:\n",
      "        pass\n",
      "    else:\n",
      "        ax = fig.add_subplot(9, 4, idx+1)\n",
      "        y = ds['nino34'][idx-2].values\n",
      "        enso_fill(x, y, ax, ens[idx-2])\n",
      "        # Remove y axis for everything but first column\n",
      "        if idx not in ([4, 8, 12, 16, 20, 24, 28, 32]):\n",
      "            ax.set_yticklabels('')    \n",
      "        # Remove time axis except on bottom\n",
      "        if idx not in ([32,33,34,35]):\n",
      "            ax.set_xticklabels('')\n",
      "fig.tight_layout()\n",
      "\n",
      "et.vis.savefig('enso_vis')"
     ],
     "language": "python",
     "metadata": {},
     "outputs": [],
     "prompt_number": 7
    }
   ],
   "metadata": {}
  }
 ]
}