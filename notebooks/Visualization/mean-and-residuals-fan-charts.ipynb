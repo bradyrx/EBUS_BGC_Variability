{
 "metadata": {
  "kernelspec": {
   "display_name": "Python 3",
   "language": "python",
   "name": "python3"
  },
  "language_info": {
   "codemirror_mode": {
    "name": "ipython",
    "version": 3
   },
   "file_extension": ".py",
   "mimetype": "text/x-python",
   "name": "python",
   "nbconvert_exporter": "python",
   "pygments_lexer": "ipython3",
   "version": "3.6.3"
  },
  "name": ""
 },
 "nbformat": 3,
 "nbformat_minor": 0,
 "worksheets": [
  {
   "cells": [
    {
     "cell_type": "markdown",
     "metadata": {},
     "source": [
      "# Develop Fan Chart Vis\n",
      "- Trying to produce a nice fan chart visualization to compare the magnitude of variability between systems, relative to the mean value in particular.\n",
      "- This is a way to motivate the work. Perhaps the variability itself is on the same order as the mean state, so the variability determines even the sign of the flux."
     ]
    },
    {
     "cell_type": "code",
     "collapsed": true,
     "input": [
      "import numpy as np\n",
      "import pandas as pd\n",
      "import xarray as xr\n",
      "import matplotlib.pyplot as plt\n",
      "%matplotlib inline"
     ],
     "language": "python",
     "metadata": {},
     "outputs": [],
     "prompt_number": 1
    },
    {
     "cell_type": "code",
     "collapsed": true,
     "input": [
      "colors = {\n",
      "    'CalCS': '#5ea46d',\n",
      "    'HumCS': '#9173c8',\n",
      "    'CanCS': '#b78f3b',\n",
      "    'BenCS': '#cd5664'\n",
      "}"
     ],
     "language": "python",
     "metadata": {},
     "outputs": [],
     "prompt_number": 2
    },
    {
     "cell_type": "markdown",
     "metadata": {},
     "source": [
      "# Decomposition Plots\n",
      "- This is a quick way to display the decomposition of a total CO2 flux time series historically into its consituents: the ensemble mean (seasonal cycle + secular trend) and the natural CO2 flux (residuals).\n",
      "- The forced signal and residuals are already saved out as netCDFs in my work directory. This pre-processing was done in a saved python script. No smoothing has been applied to them. "
     ]
    },
    {
     "cell_type": "code",
     "collapsed": true,
     "input": [
      "EBU = 'CalCS'\n",
      "VAR = 'FG_CO2'\n",
      "fileDir = '/glade/p/work/rbrady/EBUS_BGC_Variability/' + VAR + '/' + EBU + '/filtered_output/'\n",
      "ds_forced = xr.open_dataset(fileDir + EBU.lower() + '-' + VAR + '-forced-signal-AW-chavez-800km.nc')\n",
      "ds_residuals = xr.open_dataset(fileDir + EBU.lower() + '-' + VAR + '-residuals-AW-chavez-800km.nc')"
     ],
     "language": "python",
     "metadata": {},
     "outputs": [],
     "prompt_number": 3
    },
    {
     "cell_type": "code",
     "collapsed": true,
     "input": [
      "ds_total = ds_residuals + ds_forced"
     ],
     "language": "python",
     "metadata": {},
     "outputs": [],
     "prompt_number": 4
    },
    {
     "cell_type": "code",
     "collapsed": false,
     "input": [
      "fig = plt.figure(figsize=(18,8))\n",
      "\n",
      "ax1 = fig.add_subplot(311)\n",
      "ds_total['FG_CO2_AW'][0].plot(color=colors[EBU])\n",
      "ds_forced['FG_CO2_AW'][0].plot(color='black')\n",
      "ax1.set_title('Total FG_CO2 (S001)', fontsize=18)\n",
      "ax1.set_xlim('1920','2015')\n",
      "\n",
      "ax2 = fig.add_subplot(312)\n",
      "ds_forced['FG_CO2_AW'].plot(color=colors[EBU])\n",
      "ax2.set_title('Ensemble Mean FG_CO2', fontsize=18)\n",
      "ax2.set_xlim('1920','2015')\n",
      "\n",
      "ax3 = fig.add_subplot(313)\n",
      "ds_residuals['FG_CO2_AW'][0].plot(color=colors[EBU])\n",
      "ax3.set_title('Residual FG_CO2 (S001)', fontsize=18)\n",
      "ax3.set_xlim('1920','2015')\n",
      "\n",
      "#plt.savefig(EBU + '-FG_CO2-timeseries-decomposition.png')"
     ],
     "language": "python",
     "metadata": {},
     "outputs": [],
     "prompt_number": 5
    },
    {
     "cell_type": "markdown",
     "metadata": {},
     "source": [
      "# Three-Part Quantification of Historical CO$_{2}$ Flux\n",
      "- Can I fit the ensemble mean with a sinusoidal function? Hoping that this will allow me to extract some quantifiable *amplitude* of the seasonal cycle. This amplitude can be compared with the average interannual variability (probably best estimated by the average standard deviation of the residuals?)\n",
      "- So we are probably trying to quantify three major things:\n",
      "\n",
      "\n",
      "1. The trend in the historical period (take a linear fit of the ensemble mean to get change in mol/m2/yr/decade)\n",
      "2. The magnitude of the seasonal cycle (de-trend the ensemble mean and fit it with a sinusoidal curve and quantify the amplitude)\n",
      "3. The magnitude of variability in natural CO2 flux (perhaps the average standard deviation of the residuals)"
     ]
    },
    {
     "cell_type": "code",
     "collapsed": false,
     "input": [
      "from scipy import stats\n",
      "import numpy.polynomial.polynomial as poly\n",
      "\n",
      "# PART I: Quantify the anthropogenic trend on the system.\n",
      "# We do this by simply performing a linear regression on the ensemble mean.\n",
      "t = ds_forced.time.values\n",
      "x = np.arange(0, len(t), 1)\n",
      "ensemble_mean = ds_forced.FG_CO2_AW.values\n",
      "\n",
      "# Run linear regression and create line to overplot.\n",
      "coefs = poly.polyfit(x, ensemble_mean, 1)\n",
      "linfit = poly.polyval(x, coefs)\n",
      "slope, b, r, p, std_err = stats.linregress(x, ensemble_mean)\n",
      "\n",
      "# Plot ensemble mean (forced signal/seasonal cycle) and overplot linear fit.\n",
      "fig = plt.figure(figsize=(18,4))\n",
      "ax = plt.subplot(211)\n",
      "#plt.plot(t, data, color=colors[EBU])\n",
      "plt.plot(t, linfit, 'k')\n",
      "ax.set_xlim('1920','2015')\n",
      "\n",
      "# Quantify the magnitude of the forced trend\n",
      "trend = slope*10\n",
      "plt.title(EBU + ' Ensemble Mean with fitted Anthropogenic Trend' + '\\n' + str(trend.round(4)) + ' [mol/m2/yr/decade]', fontsize=14)\n",
      "\n",
      "# PART II: Fit the detrended seasonal cycle and quantify the amplitude.\n",
      "# I have two ideas for this. One is to simply detrend with the above linear fit and then look at the remaining seasonal cycle.\n",
      "# The other is to use the groupby in xarray (i.e. ds.groupby('time.month').mean('time')) to create one curve. Can\n",
      "# try both and see the discrepancy in your magnitude.\n",
      "#seasonal = data - linfit\n",
      "\n",
      "# PART III: Quantify the 'noise' or the variability in natural CO2 flux.\n",
      "# Might be best to just plot every ensemble member in gray, but plot the TOTAL time series, then the ensemble mean/seasonal\n",
      "# cycle will just show up over top.\n",
      "for idx in np.arange(0, 34, 1):\n",
      "    data = ds_total.FG_CO2_AW[idx].values\n",
      "    plt.plot(t, data, color='#D3D3D3')\n",
      "plt.plot(t, ds_forced.FG_CO2_AW.values, 'k')\n",
      "plt.plot(t, linfit, 'r')\n",
      "plt.plot(t, np.repeat(0, len(t)))\n",
      "\n",
      "# plt.savefig(EBU + '-FG_CO2-timeseries-decomposition.png')"
     ],
     "language": "python",
     "metadata": {},
     "outputs": [],
     "prompt_number": 6
    },
    {
     "cell_type": "code",
     "collapsed": true,
     "input": [
      "# WORKING OUT HOW TO BEST APPROXIMATE THE AMPLITUDE OF THE SEASONAL CYCLE\n",
      "# Detrend with a 4th order polynomial. There will be some overlap with the trend, but this prevents the \n",
      "# non-linearity of the time series from imposing artifacts in the detrended seasonal cycle.\n",
      "\n",
      "# Detrend with 4th order polynomial\n",
      "t = ds_forced.FG_CO2_AW.time.values\n",
      "data = ds_forced.FG_CO2_AW.values\n",
      "x = np.arange(0, len(t), 1)\n",
      "\n",
      "coefs = poly.polyfit(x, data, 4)\n",
      "quadfit = poly.polyval(x, coefs)\n",
      "\n",
      "data = data - quadfit\n",
      "\n",
      "# Fit with a sinusoidal curve\n",
      "times = ds_forced.FG_CO2_AW.time.values\n",
      "seasonal = xr.DataArray(data, coords=[times], dims=['time'])"
     ],
     "language": "python",
     "metadata": {},
     "outputs": [],
     "prompt_number": 106
    },
    {
     "cell_type": "code",
     "collapsed": false,
     "input": [
      "clim = seasonal.groupby('time.month').mean('time')\n",
      "plt.plot(clim)\n",
      "plt.plot(np.arange(0,12,1), np.repeat(np.mean(clim.values), 12))"
     ],
     "language": "python",
     "metadata": {},
     "outputs": [],
     "prompt_number": 107
    },
    {
     "cell_type": "code",
     "collapsed": false,
     "input": [
      "# THIS IS AN EXAMPLE FROM STACK OVERFLOW. PERHAPS THIS COULD WORK!\n",
      "\n",
      "import numpy as np\n",
      "from scipy.optimize import leastsq\n",
      "import pylab as plt\n",
      "\n",
      "N = 1000 # number of data points\n",
      "t = np.linspace(0, 4*np.pi, N)\n",
      "data = 3.0*np.sin(t+0.001) + 0.5 + np.random.randn(N) # create artificial data with noise\n",
      "\n",
      "guess_mean = np.mean(data)\n",
      "guess_std = 3*np.std(data)/(2**0.5)\n",
      "guess_phase = 0\n",
      "\n",
      "# we'll use this to plot our first estimate. This might already be good enough for you\n",
      "data_first_guess = guess_std*np.sin(t+guess_phase) + guess_mean\n",
      "\n",
      "# Define the function to optimize, in this case, we want to minimize the difference\n",
      "# between the actual data and our \"guessed\" parameters\n",
      "optimize_func = lambda x: x[0]*np.sin(t+x[1]) + x[2] - data\n",
      "est_std, est_phase, est_mean = leastsq(optimize_func, [guess_std, guess_phase, guess_mean])[0]\n",
      "\n",
      "# recreate the fitted curve using the optimized parameters\n",
      "data_fit = est_std*np.sin(t+est_phase) + est_mean\n",
      "\n",
      "plt.plot(data, '.')\n",
      "plt.plot(data_fit, label='after fitting')\n",
      "plt.plot(data_first_guess, label='first guess')\n",
      "plt.legend()\n",
      "plt.show()"
     ],
     "language": "python",
     "metadata": {},
     "outputs": [],
     "prompt_number": 108
    },
    {
     "cell_type": "markdown",
     "metadata": {},
     "source": [
      "# Seasonal Cycle Plot\n",
      "- How does the mean seasonal cycle look historically? How much spread is there around this picture?\n",
      "- Intend on using groupby commands from xarray"
     ]
    },
    {
     "cell_type": "code",
     "collapsed": true,
     "input": [
      "climatology = ds_total.groupby('time.month').mean('time')"
     ],
     "language": "python",
     "metadata": {},
     "outputs": [],
     "prompt_number": 64
    },
    {
     "cell_type": "code",
     "collapsed": false,
     "input": [
      "climatology.FG_CO2_AW.plot()"
     ],
     "language": "python",
     "metadata": {},
     "outputs": [],
     "prompt_number": 65
    },
    {
     "cell_type": "markdown",
     "metadata": {},
     "source": [
      "# Fan Plots (Multi-Plot Iteration)\n",
      "- This was my first attempt at making fan plots to understand the long-term change and historical state and variability. This creates two subplot time series. The top one is simply the forced signal itself, to give an idea of what the seasonal cycle and secular trend looks like. The bottom one is a fan chart of the residuals."
     ]
    },
    {
     "cell_type": "code",
     "collapsed": true,
     "input": [
      "# Load in ensemble.\n",
      "EBU = 'CalCS'\n",
      "VAR = 'FG_CO2'\n",
      "###\n",
      "fileDir = '/glade/p/work/rbrady/EBUS_BGC_Variability/' + VAR + '/' + EBU + '/filtered_output/'\n",
      "ds_forced = xr.open_dataset(fileDir + EBU.lower() + '-' + VAR + '-forced-signal-AW-chavez-800km.nc')\n",
      "ds_residuals = xr.open_dataset(fileDir + EBU.lower() + '-' + VAR + '-residuals-AW-chavez-800km.nc')\n",
      "ds_total = ds_residuals + ds_forced"
     ],
     "language": "python",
     "metadata": {},
     "outputs": [],
     "prompt_number": 20
    },
    {
     "cell_type": "code",
     "collapsed": true,
     "input": [
      "total_data = ds_total[VAR + '_AW'].values\n",
      "total_data = np.sort(total_data, axis=0) # Sorts from least to most at each time step for the ensemble. \n",
      "resid_data = ds_residuals[VAR + '_AW'].values\n",
      "resid_data = np.sort(resid_data, axis=0)"
     ],
     "language": "python",
     "metadata": {},
     "outputs": [],
     "prompt_number": 21
    },
    {
     "cell_type": "code",
     "collapsed": true,
     "input": [
      "# Will store reference values for the fan chart.\n",
      "tot_inner_50, tot_inner_80, tot_total = ({} for i in range(3))\n",
      "res_inner_50, res_inner_80, res_total = ({} for i in range(3))\n",
      "\n",
      "# Total Simulated Variable\n",
      "tot_total['lower'] = total_data[0]\n",
      "tot_total['upper'] = total_data[33]\n",
      "# Inner 80%\n",
      "tot_inner_80['lower'] = total_data[3]\n",
      "tot_inner_80['upper'] = total_data[30]\n",
      "# Inner 50%\n",
      "tot_inner_50['lower'] = total_data[8]\n",
      "tot_inner_50['upper'] = total_data[25]\n",
      "\n",
      "# Residuals of Simulated Variable\n",
      "res_total['lower'] = resid_data[0]\n",
      "res_total['upper'] = resid_data[33]\n",
      "# Inner 80%\n",
      "res_inner_80['lower'] = resid_data[3]\n",
      "res_inner_80['upper'] = resid_data[30]\n",
      "# Inner 50%\n",
      "res_inner_50['lower'] = resid_data[8]\n",
      "res_inner_50['upper'] = resid_data[25]"
     ],
     "language": "python",
     "metadata": {},
     "outputs": [],
     "prompt_number": 22
    },
    {
     "cell_type": "code",
     "collapsed": false,
     "input": [
      "x = ds_forced['time'].values\n",
      "y_tot = ds_forced[VAR + '_AW']\n",
      "y_res = ds_residuals[VAR + '_AW'].mean(dim='ensemble')\n",
      "fig = plt.figure(figsize=(14,8))\n",
      "\n",
      "# Y label\n",
      "if VAR == 'SST':\n",
      "    y_label = \"Temperature [$^{o}$C]\"\n",
      "elif VAR == 'FG_CO2':\n",
      "    y_label = \"CO$_{2}$ Flux [mol/m$^{2}$/yr]\"\n",
      "elif VAR == 'pCO2SURF':\n",
      "    y_label = \"Surface pCO$_{2}$ [$\\mu$atm]\"\n",
      "\n",
      "# Set up subplots\n",
      "fig = plt.figure(figsize=(15, 4))\n",
      "ax = fig.add_subplot(111)\n",
      "ax1 = plt.subplot2grid((3, 1), (0, 0))\n",
      "ax2 = plt.subplot2grid((3, 1), (1, 0), rowspan=2)\n",
      "\n",
      "# Ensemble mean on top subplot\n",
      "l1 = ax1.plot(x, y_tot, color='k')\n",
      "ax1.set_xlim('1920','2015')\n",
      "ax1.xaxis.set_ticklabels([]) # Remove x labels\n",
      "ymin, ymax = ax1.get_ylim()\n",
      "if VAR == 'FG_CO2':\n",
      "    ax1.yaxis.set_ticks(np.arange(ymin, ymax+1, 1))\n",
      "elif VAR == 'SST':\n",
      "    ax1.yaxis.set_ticks(np.arange(ymin, ymax+1, 2))\n",
      "elif VAR == 'pCO2SURF':\n",
      "    ax1.yaxis.set_ticks(np.arange(ymin, ymax+1, 35))\n",
      "ax1.tick_params(axis='both', which='major', labelsize=14)\n",
      "ax1.set_title(EBU + ' ' + VAR + ' Ensemble Mean and Residuals', loc='left',\n",
      "             fontsize=18)\n",
      "\n",
      "# Summary Statistics\n",
      "mean = np.mean(y_tot.values)\n",
      "std = np.std(y_tot.values)\n",
      "ax1.annotate(str(mean.round(2)) + '$\\pm$' + str(std.round(2)), xy=(0.93, 0.1), xycoords='axes fraction',\n",
      "              bbox=dict(facecolor='w', edgecolor='k'), fontsize=12)\n",
      "\n",
      "# Residual Fan Chart on bottom subplot.\n",
      "ax2.fill_between(x, res_total['upper'], res_total['lower'], color='gray', alpha=0.25, label='100% of Simulations')\n",
      "ax2.fill_between(x, res_inner_80['upper'], res_inner_80['lower'], color='gray', alpha=0.5, label='80% of Simulations')\n",
      "ax2.fill_between(x, res_inner_50['upper'], res_inner_50['lower'], color='gray', alpha=0.75, label='50% of Simulations')\n",
      "ax2.plot(x, y_res, '-k', label='Ensemble Mean')\n",
      "ax2.set_xlabel('Time', fontsize=16)\n",
      "ax2.set_ylabel('')\n",
      "ax2.tick_params(axis='both', which='major', labelsize=14)\n",
      "ax2.set_xlim('1920','2015')\n",
      "ax2.set_ylim(-1,1)\n",
      "\n",
      "# Summary Statistics\n",
      "ens_spread = np.mean(np.std(resid_data, axis=0))\n",
      "interannual = np.mean(np.std(resid_data, axis=1))\n",
      "ax2.annotate('Interannual: $\\pm$' + str(interannual.round(2)) + '\\n' + 'Ensemble: $\\pm$' +\n",
      "             str(ens_spread.round(2)), xy=(0.88, 0.06), xycoords='axes fraction',\n",
      "            bbox=dict(facecolor='w', edgecolor='k'), fontsize=12)\n",
      "\n",
      "# Legend\n",
      "ax2.legend(loc='center left', bbox_to_anchor=(0.58, 1.75),\n",
      "          ncol=2, fancybox=True, shadow=False)\n",
      "\n",
      "# Label full plot\n",
      "ax = fig.add_subplot(111, frameon=False)\n",
      "# hide tick and tick label of the big axes\n",
      "plt.tick_params(labelcolor='none', top='off', bottom='off', left='off', right='off')\n",
      "plt.ylabel(y_label, fontsize=16)\n",
      "ax.yaxis.set_label_coords(-0.05,0.5)\n",
      "\n",
      "fig.tight_layout(pad=1.5)\n",
      "\n",
      "# SAVE FIGURE!\n",
      "#directory = '/glade/u/home/rbrady/projects/EBUS_BGC_Variability/reports/figs/' + EBU.lower() + '/mean_and_residuals/'\n",
      "#plt.savefig(directory + EBU.lower() + '-' + VAR + '-historical-signal-and-noise.png', format='png', dpi=900)"
     ],
     "language": "python",
     "metadata": {},
     "outputs": [],
     "prompt_number": 32
    }
   ],
   "metadata": {}
  }
 ]
}