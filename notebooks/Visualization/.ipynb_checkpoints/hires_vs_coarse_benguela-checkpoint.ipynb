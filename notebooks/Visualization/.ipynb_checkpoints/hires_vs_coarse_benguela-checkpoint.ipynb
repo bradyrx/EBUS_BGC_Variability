{
 "cells": [
  {
   "cell_type": "markdown",
   "metadata": {},
   "source": [
    "# Hi-Res vs. Coarse Benguela\n",
    "A quick movie comparison of the high-resolution hindcast Benguela Current versus the low-resolution CESM1-LENS Benguela Current. "
   ]
  },
  {
   "cell_type": "code",
   "execution_count": 1,
   "metadata": {
    "collapsed": true
   },
   "outputs": [],
   "source": [
    "import glob\n",
    "\n",
    "import numpy as np\n",
    "import pandas as pd\n",
    "import xarray as xr\n",
    "\n",
    "import matplotlib.pyplot as plt\n",
    "plt.style.use('ocn-clim')\n",
    "%matplotlib inline\n",
    "import cmocean.cm as cm\n",
    "\n",
    "from mpl_toolkits.basemap import Basemap"
   ]
  },
  {
   "cell_type": "code",
   "execution_count": 2,
   "metadata": {
    "collapsed": true
   },
   "outputs": [],
   "source": [
    "lat1 = -30\n",
    "lat2 = -15\n",
    "lon1 = 0\n",
    "lon2 = 25"
   ]
  },
  {
   "cell_type": "markdown",
   "metadata": {},
   "source": [
    "# Functions"
   ]
  },
  {
   "cell_type": "code",
   "execution_count": 3,
   "metadata": {
    "collapsed": true
   },
   "outputs": [],
   "source": [
    "def find_indices(latGrid, lonGrid, latPoint, lonPoint):\n",
    "    dx = lonGrid - lonPoint\n",
    "    dy = latGrid - latPoint\n",
    "    reducedGrid = abs(dx) + abs(dy)\n",
    "    min_ix = np.nanargmin(reducedGrid)\n",
    "    i, j = np.unravel_index(min_ix, reducedGrid.shape)\n",
    "    return i, j"
   ]
  },
  {
   "cell_type": "markdown",
   "metadata": {},
   "source": [
    "# If the data has already been processed, just load the netcdf files here and skip the next two chunks"
   ]
  },
  {
   "cell_type": "code",
   "execution_count": 4,
   "metadata": {
    "collapsed": true
   },
   "outputs": [],
   "source": [
    "hires_dir = '/glade/scratch/rbrady/HI_RES/2003_50m_WVEL_Benguela.nc'\n",
    "ds_hi = xr.open_dataset(hires_dir)"
   ]
  },
  {
   "cell_type": "markdown",
   "metadata": {},
   "source": [
    "\n",
    "# Extract Benguela for Low Resolution\n",
    "It looks like I currently only have global fields saved out and processed for WVEL over a fixed Landschuetzer timeline. When I have more time, I will run the same analyses on WVEL. My presentation is tomorrow that I am making this for, so obviously no time."
   ]
  },
  {
   "cell_type": "code",
   "execution_count": null,
   "metadata": {
    "collapsed": true
   },
   "outputs": [],
   "source": [
    "inDir ='/glade/p/work/rbrady/EBUS_BGC_Variability/global_fields/'\n",
    "filename = 'WVEL-ensemble-landschuetzer-mean-global.nc'\n",
    "# This represents the global 50m WVEL mean from 1982-2011\n",
    "ds_lens = xr.open_dataset(inDir + filename)"
   ]
  },
  {
   "cell_type": "code",
   "execution_count": null,
   "metadata": {
    "collapsed": true
   },
   "outputs": [],
   "source": [
    "lat = ds_lens['TLAT'].values\n",
    "lon = ds_lens['TLONG'].values\n",
    "a, c = find_indices(lat, lon, lat1, lon1)\n",
    "b, d = find_indices(lat, lon, lat2, lon2)"
   ]
  },
  {
   "cell_type": "code",
   "execution_count": null,
   "metadata": {
    "collapsed": true
   },
   "outputs": [],
   "source": [
    "ds_lens = ds_lens['WVEL'].isel(nlat=slice(a, b), nlon=slice(c, d))"
   ]
  },
  {
   "cell_type": "markdown",
   "metadata": {},
   "source": [
    "# Extract Benguela for High Resolution"
   ]
  },
  {
   "cell_type": "code",
   "execution_count": null,
   "metadata": {
    "collapsed": true
   },
   "outputs": [],
   "source": [
    "fileDir = '/glade/p/cmia0001/TL319_t12/archive/g.e20.G.TL319_t12.GIAF.005/ocn/hist/'\n",
    "fileName = 'g.e20.G.TL319_t12.GIAF.005.pop.h.2003-*.nc'\n",
    "# After getting a snapshot going, will glob in all of 2003 for a loop."
   ]
  },
  {
   "cell_type": "code",
   "execution_count": null,
   "metadata": {
    "collapsed": true
   },
   "outputs": [],
   "source": [
    "ds_hi = xr.open_mfdataset(fileDir + fileName, decode_times=False)"
   ]
  },
  {
   "cell_type": "code",
   "execution_count": null,
   "metadata": {
    "collapsed": true
   },
   "outputs": [],
   "source": [
    "ds_hi = ds_hi['WVEL']\n",
    "ds_hi = ds_hi.squeeze()\n",
    "ds_hi = ds_hi[:, 5] # 50m depth"
   ]
  },
  {
   "cell_type": "code",
   "execution_count": null,
   "metadata": {
    "collapsed": true
   },
   "outputs": [],
   "source": [
    "timeRef = pd.date_range('2003-01', '2004-01', freq='M')\n",
    "ds_hi['time'] = timeRef"
   ]
  },
  {
   "cell_type": "code",
   "execution_count": null,
   "metadata": {
    "collapsed": true
   },
   "outputs": [],
   "source": [
    "lat = ds_hi['TLAT'].values\n",
    "lon = ds_hi['TLONG'].values"
   ]
  },
  {
   "cell_type": "code",
   "execution_count": null,
   "metadata": {
    "collapsed": true
   },
   "outputs": [],
   "source": [
    "a, c = find_indices(lat, lon, lat1, lon1)\n",
    "b, d = find_indices(lat, lon, lat2, lon2)"
   ]
  },
  {
   "cell_type": "code",
   "execution_count": null,
   "metadata": {
    "collapsed": true
   },
   "outputs": [],
   "source": [
    "ds_hi = ds_hi.isel(nlat=slice(a,b), nlon=slice(c, d))"
   ]
  },
  {
   "cell_type": "code",
   "execution_count": null,
   "metadata": {
    "collapsed": true
   },
   "outputs": [],
   "source": [
    "ds_hi = ds_hi * (60 * 60 * 24) * (1/100) # Convert to m/day"
   ]
  },
  {
   "cell_type": "code",
   "execution_count": null,
   "metadata": {
    "collapsed": true
   },
   "outputs": [],
   "source": [
    "ds_hi.to_netcdf('/glade/scratch/rbrady/HI_RES/2003_50m_WVEL_Benguela.nc')"
   ]
  },
  {
   "cell_type": "markdown",
   "metadata": {},
   "source": [
    "# Visualize"
   ]
  },
  {
   "cell_type": "code",
   "execution_count": 5,
   "metadata": {
    "collapsed": true
   },
   "outputs": [],
   "source": [
    "def setup_map(ax):\n",
    "    m = Basemap(projection='eqdc',\n",
    "               lat_0=-20, lon_0=10,\n",
    "               llcrnrlat=-40, llcrnrlon=0,\n",
    "               urcrnrlat=-10, urcrnrlon=25,\n",
    "               resolution='c')\n",
    "    m.fillcontinents(color='k')\n",
    "    return m"
   ]
  },
  {
   "cell_type": "code",
   "execution_count": 6,
   "metadata": {
    "collapsed": true
   },
   "outputs": [],
   "source": [
    "# Set up data\n",
    "lon = ds_hi['TLONG'].values\n",
    "lat = ds_hi['TLAT'].values\n",
    "data = ds_hi['WVEL'].values\n",
    "data = np.ma.array(data, mask=np.isnan(data))"
   ]
  },
  {
   "cell_type": "code",
   "execution_count": 7,
   "metadata": {
    "collapsed": true
   },
   "outputs": [],
   "source": [
    "months = ['January', 'February', 'March', 'April',\n",
    "          'May', 'June', 'July', 'August', 'September',\n",
    "          'October', 'November', 'December']\n",
    "nums = ['001','002','003','004','005','006',\n",
    "        '007','008','009','010','011','012']"
   ]
  },
  {
   "cell_type": "code",
   "execution_count": 8,
   "metadata": {},
   "outputs": [
    {
     "data": {
      "text/plain": [
       "<matplotlib.figure.Figure at 0x2aaae34fb6a0>"
      ]
     },
     "metadata": {},
     "output_type": "display_data"
    },
    {
     "data": {
      "text/plain": [
       "<matplotlib.figure.Figure at 0x2aaae34fb9e8>"
      ]
     },
     "metadata": {},
     "output_type": "display_data"
    },
    {
     "data": {
      "text/plain": [
       "<matplotlib.figure.Figure at 0x2aaae73fab00>"
      ]
     },
     "metadata": {},
     "output_type": "display_data"
    },
    {
     "data": {
      "text/plain": [
       "<matplotlib.figure.Figure at 0x2aaae768c588>"
      ]
     },
     "metadata": {},
     "output_type": "display_data"
    },
    {
     "data": {
      "text/plain": [
       "<matplotlib.figure.Figure at 0x2aaae746b588>"
      ]
     },
     "metadata": {},
     "output_type": "display_data"
    },
    {
     "data": {
      "text/plain": [
       "<matplotlib.figure.Figure at 0x2aaae74b7550>"
      ]
     },
     "metadata": {},
     "output_type": "display_data"
    },
    {
     "data": {
      "text/plain": [
       "<matplotlib.figure.Figure at 0x2aaae8679a20>"
      ]
     },
     "metadata": {},
     "output_type": "display_data"
    },
    {
     "data": {
      "text/plain": [
       "<matplotlib.figure.Figure at 0x2aaae752d9b0>"
      ]
     },
     "metadata": {},
     "output_type": "display_data"
    },
    {
     "data": {
      "text/plain": [
       "<matplotlib.figure.Figure at 0x2aaae6fa0a58>"
      ]
     },
     "metadata": {},
     "output_type": "display_data"
    },
    {
     "data": {
      "text/plain": [
       "<matplotlib.figure.Figure at 0x2aaae73887f0>"
      ]
     },
     "metadata": {},
     "output_type": "display_data"
    },
    {
     "data": {
      "text/plain": [
       "<matplotlib.figure.Figure at 0x2aaae6cca320>"
      ]
     },
     "metadata": {},
     "output_type": "display_data"
    },
    {
     "data": {
      "text/plain": [
       "<matplotlib.figure.Figure at 0x2aaae6b75160>"
      ]
     },
     "metadata": {},
     "output_type": "display_data"
    }
   ],
   "source": [
    "for idx in np.arange(0, 12, 1):\n",
    "    fig = plt.figure(figsize=(6,6))\n",
    "    ax = plt.subplot(111)\n",
    "    m = setup_map(ax)\n",
    "    m.pcolor(lon, lat, data[idx], vmin=-3, vmax=3, latlon=True, cmap=cm.balance)\n",
    "    m.colorbar(extend='both')\n",
    "    ax.set_title(months[idx] + ' 2003 Vertical Velocity [m day$^{-1}$]')\n",
    "    plt.savefig('benguela_hires_2003_wvel_' + nums[idx] + '.png', transparent=False,\n",
    "                bbox_inches='tight', pad_inches=1, dpi=1000)\n",
    "    plt.clf()"
   ]
  }
 ],
 "metadata": {
  "kernelspec": {
   "display_name": "Python 3",
   "language": "python",
   "name": "python3"
  },
  "language_info": {
   "codemirror_mode": {
    "name": "ipython",
    "version": 3
   },
   "file_extension": ".py",
   "mimetype": "text/x-python",
   "name": "python",
   "nbconvert_exporter": "python",
   "pygments_lexer": "ipython3",
   "version": "3.6.1"
  }
 },
 "nbformat": 4,
 "nbformat_minor": 2
}
