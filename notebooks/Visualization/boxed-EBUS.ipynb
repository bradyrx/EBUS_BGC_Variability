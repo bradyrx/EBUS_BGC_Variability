{
 "metadata": {
  "kernelspec": {
   "display_name": "Python 3",
   "language": "python",
   "name": "python3"
  },
  "language_info": {
   "codemirror_mode": {
    "name": "ipython",
    "version": 3
   },
   "file_extension": ".py",
   "mimetype": "text/x-python",
   "name": "python",
   "nbconvert_exporter": "python",
   "pygments_lexer": "ipython3",
   "version": "3.6.3"
  },
  "name": ""
 },
 "nbformat": 3,
 "nbformat_minor": 0,
 "worksheets": [
  {
   "cells": [
    {
     "cell_type": "markdown",
     "metadata": {},
     "source": [
      "# Boxed EBUS\n",
      "I wanted to make little plots of each basin with the EBUS boxed so people know where we're at."
     ]
    },
    {
     "cell_type": "code",
     "collapsed": false,
     "input": [
      "import numpy as np\n",
      "import pandas as pd\n",
      "import xarray as xr\n",
      "import cmocean\n",
      "import matplotlib.pyplot as plt\n",
      "%matplotlib inline\n",
      "from mpl_toolkits.basemap import Basemap\n",
      "import esmtools as et"
     ],
     "language": "python",
     "metadata": {},
     "outputs": [],
     "prompt_number": 1
    },
    {
     "cell_type": "heading",
     "level": 1,
     "metadata": {},
     "source": [
      "Functions"
     ]
    },
    {
     "cell_type": "code",
     "collapsed": false,
     "input": [
      "def setup_map(ax):\n",
      "    m = Basemap(projection='ortho',\n",
      "                lon_0=-90, lat_0=0,\n",
      "               resolution='c')\n",
      "    m.fillcontinents(color='k')\n",
      "#    m.drawparallels(np.arange(-90,120.,15.))\n",
      "#    m.drawmeridians(np.arange(0.,360.,60.))\n",
      "    m.drawmapboundary(fill_color='white')\n",
      "    return m"
     ],
     "language": "python",
     "metadata": {},
     "outputs": [],
     "prompt_number": 13
    },
    {
     "cell_type": "code",
     "collapsed": false,
     "input": [
      "colors = {\n",
      "    'CalCS': '#5ea46d',\n",
      "    'HumCS': '#9173c8',\n",
      "    'CanCS': '#b78f3b',\n",
      "    'BenCS': '#cd5664'\n",
      "}"
     ],
     "language": "python",
     "metadata": {},
     "outputs": [],
     "prompt_number": 3
    },
    {
     "cell_type": "heading",
     "level": 1,
     "metadata": {},
     "source": [
      "Map"
     ]
    },
    {
     "cell_type": "code",
     "collapsed": false,
     "input": [
      "from matplotlib.patches import Polygon\n",
      "\n",
      "fig = plt.figure(figsize=(6,6))\n",
      "ax = plt.subplot(111)\n",
      "m = setup_map(ax)\n",
      "\n",
      "lon1,lon2,lat1,lat2 = et.ebus.visual_bounds('CalCS', std_lon=True)\n",
      "x1,y1 = m(lon1, lat1)\n",
      "x2,y2 = m(lon1, lat2)\n",
      "x3,y3 = m(lon2, lat2)\n",
      "x4,y4 = m(lon2, lat1)\n",
      "poly = Polygon([(x1,y1),(x2,y2),(x3,y3),(x4,y4)],facecolor='#d3d3d3',edgecolor='k',linewidth=1, alpha=0.5)\n",
      "plt.gca().add_patch(poly)\n",
      "\n",
      "# Save figure.\n",
      "#et.vis.savefig('CalCS_minimap')\n",
      "\n",
      "#plt.savefig('benguela_mini_map.png', transparent=True,\n",
      "#          bbox_inches='tight', pad_inches=1, dpi=1000)"
     ],
     "language": "python",
     "metadata": {},
     "outputs": [],
     "prompt_number": 17
    }
   ],
   "metadata": {}
  }
 ]
}