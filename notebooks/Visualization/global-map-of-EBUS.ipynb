{
 "metadata": {
  "kernelspec": {
   "display_name": "Python 3",
   "language": "python",
   "name": "python3"
  },
  "language_info": {
   "codemirror_mode": {
    "name": "ipython",
    "version": 3
   },
   "file_extension": ".py",
   "mimetype": "text/x-python",
   "name": "python",
   "nbconvert_exporter": "python",
   "pygments_lexer": "ipython3",
   "version": "3.6.6"
  },
  "name": "",
  "toc": {
   "base_numbering": 1,
   "nav_menu": {},
   "number_sections": true,
   "sideBar": true,
   "skip_h1_title": false,
   "title_cell": "Table of Contents",
   "title_sidebar": "Contents",
   "toc_cell": false,
   "toc_position": {},
   "toc_section_display": true,
   "toc_window_display": false
  },
  "varInspector": {
   "cols": {
    "lenName": 16,
    "lenType": 16,
    "lenVar": 40
   },
   "kernels_config": {
    "python": {
     "delete_cmd_postfix": "",
     "delete_cmd_prefix": "del ",
     "library": "var_list.py",
     "varRefreshCmd": "print(var_dic_list())"
    },
    "r": {
     "delete_cmd_postfix": ") ",
     "delete_cmd_prefix": "rm(",
     "library": "var_list.r",
     "varRefreshCmd": "cat(var_dic_list()) "
    }
   },
   "types_to_exclude": [
    "module",
    "function",
    "builtin_function_or_method",
    "instance",
    "_Feature"
   ],
   "window_display": false
  }
 },
 "nbformat": 3,
 "nbformat_minor": 0,
 "worksheets": [
  {
   "cells": [
    {
     "cell_type": "markdown",
     "metadata": {},
     "source": [
      "# Global Map of EBC's\n",
      "Creating a global projection of important mean-state variables: SLP, surface wind stress, SSTs, and placing boxes over the regions that are being investigated. This gives the reader/viewer an idea of where we are working and why these systems are important."
     ]
    },
    {
     "cell_type": "code",
     "collapsed": false,
     "input": [
      "import glob\n",
      "import numpy as np\n",
      "import pandas as pd\n",
      "import xarray as xr\n",
      "import cmocean\n",
      "import matplotlib.pyplot as plt\n",
      "%matplotlib inline\n",
      "from mpl_toolkits.basemap import Basemap\n",
      "import cartopy.crs as ccrs\n",
      "import esmtools as et"
     ],
     "language": "python",
     "metadata": {},
     "outputs": [],
     "prompt_number": 50
    },
    {
     "cell_type": "markdown",
     "metadata": {},
     "source": [
      "# Create NetCDFs of Ensemble Means\n",
      "- Storing the global surface ensemble means away as NetCDFs to make processing faster. I don't want to do this with the EBUS_extraction scripts, since we are trying to get a global perspective.\n",
      "- Historical means, i.e. 1920-2015"
     ]
    },
    {
     "cell_type": "heading",
     "level": 1,
     "metadata": {},
     "source": [
      "Ocean Output"
     ]
    },
    {
     "cell_type": "code",
     "collapsed": false,
     "input": [
      "VAR = 'TAUY'"
     ],
     "language": "python",
     "metadata": {},
     "outputs": [],
     "prompt_number": 2
    },
    {
     "cell_type": "code",
     "collapsed": false,
     "input": [
      "fileDir = '/glade/scratch/rbrady/EBUS_BGC_Variability/' + VAR + '_monthly/'\n",
      "ds = xr.open_mfdataset(fileDir + 'reduced*.nc', decode_times=False, concat_dim='ensemble')"
     ],
     "language": "python",
     "metadata": {},
     "outputs": [],
     "prompt_number": 3
    },
    {
     "cell_type": "code",
     "collapsed": false,
     "input": [
      "pandaTimes = pd.date_range('1920-01', '2101-01', freq='M')\n",
      "ds.coords['time'] = pandaTimes\n",
      "ds.attrs = {}"
     ],
     "language": "python",
     "metadata": {},
     "outputs": [],
     "prompt_number": null
    },
    {
     "cell_type": "code",
     "collapsed": false,
     "input": [
      "#ds = ds.sel(time=slice('1920-1', '2015-12'))\n",
      "\n",
      "# For landschuetzer time period\n",
      "ds = ds.sel(time=slice('1982-01', '2011-12'))"
     ],
     "language": "python",
     "metadata": {},
     "outputs": [],
     "prompt_number": null
    },
    {
     "cell_type": "code",
     "collapsed": false,
     "input": [
      "da = ds[VAR].mean(dim='ensemble').mean(dim='time')\n",
      "da = da.squeeze()"
     ],
     "language": "python",
     "metadata": {},
     "outputs": [],
     "prompt_number": null
    },
    {
     "cell_type": "code",
     "collapsed": false,
     "input": [
      "ds_out = da.to_dataset()\n",
      "if VAR == 'TAUX' or VAR == 'TAUY':\n",
      "    ds_out['ANGLE'] = ds['ANGLE'][0]\n",
      "else:\n",
      "    ds_out.coords['TLAT'] = ds['TLAT'][0]\n",
      "    ds_out.coords['TLONG'] = ds['TLONG'][0]"
     ],
     "language": "python",
     "metadata": {},
     "outputs": [],
     "prompt_number": null
    },
    {
     "cell_type": "code",
     "collapsed": false,
     "input": [
      "outDir = '/glade/p/work/rbrady/EBUS_BGC_Variability/global_fields/'\n",
      "ds_out.to_netcdf(outDir + VAR + '-ensemble-landschuetzer-mean-global.nc')"
     ],
     "language": "python",
     "metadata": {},
     "outputs": [],
     "prompt_number": null
    },
    {
     "cell_type": "code",
     "collapsed": false,
     "input": [
      "inDir ='/glade/p/work/rbrady/EBUS_BGC_Variability/global_fields/'\n",
      "filename = 'SST-ensemble-historical-mean-global.nc'\n",
      "ds = xr.open_dataset(inDir + filename)"
     ],
     "language": "python",
     "metadata": {},
     "outputs": [],
     "prompt_number": null
    },
    {
     "cell_type": "heading",
     "level": 1,
     "metadata": {},
     "source": [
      "Atmosphere Output"
     ]
    },
    {
     "cell_type": "code",
     "collapsed": false,
     "input": [
      "VAR = 'PSL'"
     ],
     "language": "python",
     "metadata": {},
     "outputs": [],
     "prompt_number": null
    },
    {
     "cell_type": "code",
     "collapsed": false,
     "input": [
      "fileDir = '/glade/scratch/rbrady/EBUS_BGC_Variability/' + VAR + '_monthly/'\n",
      "ds = xr.open_mfdataset(fileDir + 'reduced*.nc', concat_dim='ensemble')"
     ],
     "language": "python",
     "metadata": {},
     "outputs": [],
     "prompt_number": null
    },
    {
     "cell_type": "code",
     "collapsed": false,
     "input": [
      "ds = ds.drop('nbnd')"
     ],
     "language": "python",
     "metadata": {},
     "outputs": [],
     "prompt_number": null
    },
    {
     "cell_type": "code",
     "collapsed": false,
     "input": [
      "ds.attrs = {}"
     ],
     "language": "python",
     "metadata": {},
     "outputs": [],
     "prompt_number": null
    },
    {
     "cell_type": "code",
     "collapsed": false,
     "input": [
      "ds = ds.sel(time=slice('1920-01', '2015-12'))"
     ],
     "language": "python",
     "metadata": {},
     "outputs": [],
     "prompt_number": null
    },
    {
     "cell_type": "code",
     "collapsed": false,
     "input": [
      "ds = ds['PSL'].mean(dim='ensemble').mean(dim='time')"
     ],
     "language": "python",
     "metadata": {},
     "outputs": [],
     "prompt_number": null
    },
    {
     "cell_type": "code",
     "collapsed": false,
     "input": [
      "ds = ds/100"
     ],
     "language": "python",
     "metadata": {},
     "outputs": [],
     "prompt_number": null
    },
    {
     "cell_type": "code",
     "collapsed": false,
     "input": [
      "ds = ds.squeeze()"
     ],
     "language": "python",
     "metadata": {},
     "outputs": [],
     "prompt_number": null
    },
    {
     "cell_type": "code",
     "collapsed": false,
     "input": [
      "LON,LAT = np.meshgrid(ds.lon.values, ds.lat.values)"
     ],
     "language": "python",
     "metadata": {},
     "outputs": [],
     "prompt_number": null
    },
    {
     "cell_type": "code",
     "collapsed": false,
     "input": [
      "ds.coords['LON'] = (('lat','lon'), LON)\n",
      "ds.coords['LAT'] = (('lat','lon'), LAT)"
     ],
     "language": "python",
     "metadata": {},
     "outputs": [],
     "prompt_number": null
    },
    {
     "cell_type": "code",
     "collapsed": false,
     "input": [
      "ds = ds.to_dataset()"
     ],
     "language": "python",
     "metadata": {},
     "outputs": [],
     "prompt_number": null
    },
    {
     "cell_type": "code",
     "collapsed": false,
     "input": [
      "outDir = '/glade/p/work/rbrady/EBUS_BGC_Variability/global_fields/'\n",
      "ds.to_netcdf(outDir + VAR + '-ensemble-historical-mean-global.nc')"
     ],
     "language": "python",
     "metadata": {},
     "outputs": [],
     "prompt_number": null
    },
    {
     "cell_type": "heading",
     "level": 1,
     "metadata": {},
     "source": [
      "Visualization Functions"
     ]
    },
    {
     "cell_type": "code",
     "collapsed": false,
     "input": [
      "def setup_map(ax):\n",
      "    m = Basemap(projection='robin',\n",
      "                lon_0=0,\n",
      "               resolution='c')\n",
      "    #m.drawcoastlines()\n",
      "    m.fillcontinents(color='k')\n",
      "    m.drawparallels(np.arange(-90,120.,15.))\n",
      "    m.drawmeridians(np.arange(0.,360.,60.))\n",
      "    m.drawcoastlines(color='k')\n",
      "    #m.drawcountries()\n",
      "    #m.fillcontinents(color='#D3D3D3')\n",
      "    m.drawmapboundary(fill_color='white')\n",
      "    return m"
     ],
     "language": "python",
     "metadata": {},
     "outputs": [],
     "prompt_number": 32
    },
    {
     "cell_type": "code",
     "collapsed": false,
     "input": [
      "def load_global_field(VAR):\n",
      "    inDir = '/glade/p/work/rbrady/EBUS_BGC_Variability/global_fields/'\n",
      "    fileName = VAR + '-ensemble-historical-mean-global.nc'\n",
      "    ds = xr.open_dataset(inDir + fileName)\n",
      "    return ds"
     ],
     "language": "python",
     "metadata": {},
     "outputs": [],
     "prompt_number": 33
    },
    {
     "cell_type": "code",
     "collapsed": false,
     "input": [
      "def visual_bounds(EBU):\n",
      "    if EBU == \"CalCS\":\n",
      "        lat1 = 25\n",
      "        lat2 = 43\n",
      "        lon1 = -133+360\n",
      "        lon2 = -110+360\n",
      "    elif EBU == 'HumCS':\n",
      "        lat1 = -20\n",
      "        lat2 = -2\n",
      "        lon1 = -90\n",
      "        lon2 = -70\n",
      "    elif EBU == 'CanCS':\n",
      "        lat1 = 10\n",
      "        lat2 = 28\n",
      "        lon1 = -25\n",
      "        lon2 = -10\n",
      "    elif EBU == 'BenCS':\n",
      "        lat1 = -35\n",
      "        lat2 = -15\n",
      "        lon1 = 5\n",
      "        lon2 = 20\n",
      "    return lat1,lat2,lon1,lon2"
     ],
     "language": "python",
     "metadata": {},
     "outputs": [],
     "prompt_number": 34
    },
    {
     "cell_type": "code",
     "collapsed": false,
     "input": [
      "def find_indices(latGrid, lonGrid, latPoint, lonPoint):\n",
      "    dx = lonGrid - lonPoint\n",
      "    dy = latGrid - latPoint\n",
      "    reducedGrid = abs(dx) + abs(dy)\n",
      "    min_ix = np.nanargmin(reducedGrid)\n",
      "    i, j = np.unravel_index(min_ix, reducedGrid.shape)\n",
      "    return i, j"
     ],
     "language": "python",
     "metadata": {},
     "outputs": [],
     "prompt_number": 35
    },
    {
     "cell_type": "code",
     "collapsed": false,
     "input": [
      "from matplotlib.patches import Polygon\n",
      "def draw_screen_poly(lats, lons, m):\n",
      "    x, y = m(lons, lats)\n",
      "    xy = zip(x,y)\n",
      "    poly = Polygon( xy, edgecolor='w', facecolor='none', linewidth=2 )\n",
      "    plt.gca().add_patch(poly)"
     ],
     "language": "python",
     "metadata": {},
     "outputs": [],
     "prompt_number": 36
    },
    {
     "cell_type": "heading",
     "level": 1,
     "metadata": {},
     "source": [
      "Visualization Code"
     ]
    },
    {
     "cell_type": "code",
     "collapsed": false,
     "input": [
      "# Load in data\n",
      "ds_sst = load_global_field('SST')\n",
      "ds_psl = load_global_field('PSL')\n",
      "ds_taux = load_global_field('TAUX')\n",
      "ds_tauy = load_global_field('TAUY')\n",
      "\n",
      "# Set up coordinates\n",
      "alat = ds_psl['LAT'].values\n",
      "along = ds_psl['LON'].values\n",
      "tlong = ds_sst['TLONG'].values\n",
      "tlat = ds_sst['TLAT'].values\n",
      "ulong = ds_taux['ULONG'].values\n",
      "ulat = ds_taux['ULAT'].values\n",
      "angle = ds_taux['ANGLE'].values\n",
      "\n",
      "# Set up data\n",
      "sst = ds_sst['SST'].values\n",
      "psl = ds_psl['PSL'].values\n",
      "taux = ds_taux['TAUX'].values\n",
      "tauy = ds_tauy['TAUY'].values\n",
      "\n",
      "# Rotate winds for flat projection.\n",
      "u = taux*np.cos(angle) - tauy*np.sin(angle) \n",
      "v = taux*np.sin(angle) + tauy*np.cos(angle) "
     ],
     "language": "python",
     "metadata": {},
     "outputs": [],
     "prompt_number": 37
    },
    {
     "cell_type": "code",
     "collapsed": false,
     "input": [
      "# Drop winds in the Southern Ocean\n",
      "mask = ( ulat < -50 )\n",
      "u2 = u.copy()\n",
      "v2 = v.copy()\n",
      "u2[mask] = np.nan\n",
      "v2[mask] = np.nan"
     ],
     "language": "python",
     "metadata": {},
     "outputs": [],
     "prompt_number": 38
    },
    {
     "cell_type": "code",
     "collapsed": false,
     "input": [
      "# Convert to N/m2\n",
      "u2 = u2 * 100 * 100 / 10**5\n",
      "v2 = v2 * 100 * 100 / 10**5"
     ],
     "language": "python",
     "metadata": {},
     "outputs": [],
     "prompt_number": 39
    },
    {
     "cell_type": "code",
     "collapsed": false,
     "input": [
      "new_lon,new_lat,new_data = et.vis.deseam(along,alat,psl)\n",
      "\n",
      "# Drop winds in the Southern Ocean\n",
      "mask = ( new_lat < -50 )\n",
      "new_data2 = new_data.copy()\n",
      "new_data2[mask] = np.nan"
     ],
     "language": "python",
     "metadata": {},
     "outputs": [],
     "prompt_number": 100
    },
    {
     "cell_type": "code",
     "collapsed": false,
     "input": [
      "f, ax = et.vis.make_cartopy(figsize=(15,15), grid_lines=False)\n",
      "\n",
      "#Pressure \n",
      "p = ax.pcolormesh(new_lon,new_lat,new_data2,transform=ccrs.PlateCarree(),vmin=1000,vmax=1026,\n",
      "              cmap=cmocean.cm.thermal_r)\n",
      "c = ax.contourf(along,alat,psl,np.arange(1000,1026,2),transform=ccrs.PlateCarree(),\n",
      "            cmap=cmocean.cm.thermal_r)\n",
      "cb = plt.colorbar(c, orientation='horizontal', pad=0.01, fraction=0.05)\n",
      "cb.set_label('Sea Level Pressure (hPa)', fontsize=14)\n",
      "cb.ax.tick_params(labelsize=12)\n",
      "\n",
      "# Winds\n",
      "num = 10\n",
      "Q = ax.quiver(ulong[::num,::num], ulat[::num,::num], u2[::num,::num], v2[::num,::num], \n",
      "             transform=ccrs.PlateCarree(), scale_units='width', pivot='mid')\n",
      "qk = plt.quiverkey(Q, 0.9, 0.9, 0.1, r'$0.1 N\\cdot m^{-2}$', labelpos='N',\n",
      "                   coordinates='axes')\n",
      "\n",
      "# Add boxes for EBU's\n",
      "EBUS = ['CalCS', 'HumCS', 'CanCS', 'BenCS']\n",
      "for idx in EBUS:\n",
      "    x0,x1,y0,y1 = et.ebus.visual_bounds(idx, std_lon=True)\n",
      "    et.vis.add_box(ax,x0,x1,y0,y1,edgecolor='w',facecolor='w',alpha=0.5)\n",
      "    \n",
      "# Save figure\n",
      "et.vis.savefig('global_EBUS_map', extension='.eps')"
     ],
     "language": "python",
     "metadata": {},
     "outputs": [],
     "prompt_number": 113
    }
   ],
   "metadata": {}
  }
 ]
}