{
 "cells": [
  {
   "cell_type": "markdown",
   "metadata": {},
   "source": [
    "# Global Map of EBC's\n",
    "Creating a global projection of important mean-state variables: SLP, surface wind stress, SSTs, and placing boxes over the regions that are being investigated. This gives the reader/viewer an idea of where we are working and why these systems are important."
   ]
  },
  {
   "cell_type": "code",
   "execution_count": 1,
   "metadata": {
    "collapsed": true
   },
   "outputs": [],
   "source": [
    "import glob\n",
    "import numpy as np\n",
    "import pandas as pd\n",
    "import xarray as xr\n",
    "import cmocean\n",
    "import matplotlib.pyplot as plt\n",
    "%matplotlib inline\n",
    "from mpl_toolkits.basemap import Basemap"
   ]
  },
  {
   "cell_type": "markdown",
   "metadata": {},
   "source": [
    "# Create NetCDFs of Ensemble Means\n",
    "- Storing the global surface ensemble means away as NetCDFs to make processing faster. I don't want to do this with the EBUS_extraction scripts, since we are trying to get a global perspective.\n",
    "- Historical means, i.e. 1920-2015"
   ]
  },
  {
   "cell_type": "markdown",
   "metadata": {},
   "source": [
    "# Ocean Output"
   ]
  },
  {
   "cell_type": "code",
   "execution_count": 2,
   "metadata": {
    "collapsed": true
   },
   "outputs": [],
   "source": [
    "VAR = 'TAUY'"
   ]
  },
  {
   "cell_type": "code",
   "execution_count": 3,
   "metadata": {
    "collapsed": true
   },
   "outputs": [],
   "source": [
    "fileDir = '/glade/scratch/rbrady/EBUS_BGC_Variability/' + VAR + '_monthly/'\n",
    "ds = xr.open_mfdataset(fileDir + 'reduced*.nc', decode_times=False, concat_dim='ensemble')"
   ]
  },
  {
   "cell_type": "code",
   "execution_count": 4,
   "metadata": {
    "collapsed": true
   },
   "outputs": [],
   "source": [
    "pandaTimes = pd.date_range('1920-01', '2101-01', freq='M')\n",
    "ds.coords['time'] = pandaTimes\n",
    "ds.attrs = {}"
   ]
  },
  {
   "cell_type": "code",
   "execution_count": 5,
   "metadata": {
    "collapsed": true
   },
   "outputs": [],
   "source": [
    "#ds = ds.sel(time=slice('1920-1', '2015-12'))\n",
    "\n",
    "# For landschuetzer time period\n",
    "ds = ds.sel(time=slice('1982-01', '2011-12'))"
   ]
  },
  {
   "cell_type": "code",
   "execution_count": 6,
   "metadata": {
    "collapsed": true
   },
   "outputs": [],
   "source": [
    "da = ds[VAR].mean(dim='ensemble').mean(dim='time')\n",
    "da = da.squeeze()"
   ]
  },
  {
   "cell_type": "code",
   "execution_count": 7,
   "metadata": {
    "collapsed": true
   },
   "outputs": [],
   "source": [
    "ds_out = da.to_dataset()\n",
    "if VAR == 'TAUX' or VAR == 'TAUY':\n",
    "    ds_out['ANGLE'] = ds['ANGLE'][0]\n",
    "else:\n",
    "    ds_out.coords['TLAT'] = ds['TLAT'][0]\n",
    "    ds_out.coords['TLONG'] = ds['TLONG'][0]"
   ]
  },
  {
   "cell_type": "code",
   "execution_count": 8,
   "metadata": {},
   "outputs": [
    {
     "name": "stderr",
     "output_type": "stream",
     "text": [
      "/glade/u/home/rbrady/.local/lib/python2.7/site-packages/dask/array/numpy_compat.py:45: RuntimeWarning: invalid value encountered in divide\n",
      "  x = np.divide(x1, x2, out)\n"
     ]
    }
   ],
   "source": [
    "outDir = '/glade/p/work/rbrady/EBUS_BGC_Variability/global_fields/'\n",
    "ds_out.to_netcdf(outDir + VAR + '-ensemble-landschuetzer-mean-global.nc')"
   ]
  },
  {
   "cell_type": "code",
   "execution_count": null,
   "metadata": {
    "collapsed": true
   },
   "outputs": [],
   "source": [
    "inDir ='/glade/p/work/rbrady/EBUS_BGC_Variability/global_fields/'\n",
    "filename = 'SST-ensemble-historical-mean-global.nc'\n",
    "ds = xr.open_dataset(inDir + filename)"
   ]
  },
  {
   "cell_type": "markdown",
   "metadata": {},
   "source": [
    "# Atmosphere Output"
   ]
  },
  {
   "cell_type": "code",
   "execution_count": null,
   "metadata": {
    "collapsed": true
   },
   "outputs": [],
   "source": [
    "VAR = 'PSL'"
   ]
  },
  {
   "cell_type": "code",
   "execution_count": null,
   "metadata": {
    "collapsed": true
   },
   "outputs": [],
   "source": [
    "fileDir = '/glade/scratch/rbrady/EBUS_BGC_Variability/' + VAR + '_monthly/'\n",
    "ds = xr.open_mfdataset(fileDir + 'reduced*.nc', concat_dim='ensemble')"
   ]
  },
  {
   "cell_type": "code",
   "execution_count": null,
   "metadata": {
    "collapsed": true
   },
   "outputs": [],
   "source": [
    "ds = ds.drop('nbnd')"
   ]
  },
  {
   "cell_type": "code",
   "execution_count": null,
   "metadata": {
    "collapsed": true
   },
   "outputs": [],
   "source": [
    "ds.attrs = {}"
   ]
  },
  {
   "cell_type": "code",
   "execution_count": null,
   "metadata": {
    "collapsed": true
   },
   "outputs": [],
   "source": [
    "ds = ds.sel(time=slice('1920-01', '2015-12'))"
   ]
  },
  {
   "cell_type": "code",
   "execution_count": null,
   "metadata": {
    "collapsed": true
   },
   "outputs": [],
   "source": [
    "ds = ds['PSL'].mean(dim='ensemble').mean(dim='time')"
   ]
  },
  {
   "cell_type": "code",
   "execution_count": null,
   "metadata": {
    "collapsed": true
   },
   "outputs": [],
   "source": [
    "ds = ds/100"
   ]
  },
  {
   "cell_type": "code",
   "execution_count": null,
   "metadata": {
    "collapsed": true
   },
   "outputs": [],
   "source": [
    "ds = ds.squeeze()"
   ]
  },
  {
   "cell_type": "code",
   "execution_count": null,
   "metadata": {
    "collapsed": true
   },
   "outputs": [],
   "source": [
    "LON,LAT = np.meshgrid(ds.lon.values, ds.lat.values)"
   ]
  },
  {
   "cell_type": "code",
   "execution_count": null,
   "metadata": {
    "collapsed": true
   },
   "outputs": [],
   "source": [
    "ds.coords['LON'] = (('lat','lon'), LON)\n",
    "ds.coords['LAT'] = (('lat','lon'), LAT)"
   ]
  },
  {
   "cell_type": "code",
   "execution_count": null,
   "metadata": {
    "collapsed": true
   },
   "outputs": [],
   "source": [
    "ds = ds.to_dataset()"
   ]
  },
  {
   "cell_type": "code",
   "execution_count": null,
   "metadata": {
    "collapsed": true
   },
   "outputs": [],
   "source": [
    "outDir = '/glade/p/work/rbrady/EBUS_BGC_Variability/global_fields/'\n",
    "ds.to_netcdf(outDir + VAR + '-ensemble-historical-mean-global.nc')"
   ]
  },
  {
   "cell_type": "markdown",
   "metadata": {},
   "source": [
    "# Visualization Functions"
   ]
  },
  {
   "cell_type": "code",
   "execution_count": null,
   "metadata": {
    "collapsed": true
   },
   "outputs": [],
   "source": [
    "def setup_map(ax):\n",
    "    m = Basemap(projection='robin',\n",
    "                lon_0=0,\n",
    "               resolution='c')\n",
    "    #m.drawcoastlines()\n",
    "    m.fillcontinents(color='k')\n",
    "    m.drawparallels(np.arange(-90,120.,15.))\n",
    "    m.drawmeridians(np.arange(0.,360.,60.))\n",
    "    m.drawcoastlines(color='k')\n",
    "    #m.drawcountries()\n",
    "    #m.fillcontinents(color='#D3D3D3')\n",
    "    m.drawmapboundary(fill_color='white')\n",
    "    return m"
   ]
  },
  {
   "cell_type": "code",
   "execution_count": null,
   "metadata": {
    "collapsed": true
   },
   "outputs": [],
   "source": [
    "def load_global_field(VAR):\n",
    "    inDir = '/glade/p/work/rbrady/EBUS_BGC_Variability/global_fields/'\n",
    "    fileName = VAR + '-ensemble-historical-mean-global.nc'\n",
    "    ds = xr.open_dataset(inDir + fileName)\n",
    "    return ds"
   ]
  },
  {
   "cell_type": "code",
   "execution_count": null,
   "metadata": {
    "collapsed": true
   },
   "outputs": [],
   "source": [
    "def visual_bounds(EBU):\n",
    "    if EBU == \"CalCS\":\n",
    "        lat1 = 25\n",
    "        lat2 = 43\n",
    "        lon1 = -133+360\n",
    "        lon2 = -110+360\n",
    "    elif EBU == 'HumCS':\n",
    "        lat1 = -20\n",
    "        lat2 = -2\n",
    "        lon1 = -90\n",
    "        lon2 = -70\n",
    "    elif EBU == 'CanCS':\n",
    "        lat1 = 10\n",
    "        lat2 = 28\n",
    "        lon1 = -25\n",
    "        lon2 = -10\n",
    "    elif EBU == 'BenCS':\n",
    "        lat1 = -35\n",
    "        lat2 = -15\n",
    "        lon1 = 5\n",
    "        lon2 = 20\n",
    "    return lat1,lat2,lon1,lon2"
   ]
  },
  {
   "cell_type": "code",
   "execution_count": null,
   "metadata": {
    "collapsed": true
   },
   "outputs": [],
   "source": [
    "def find_indices(latGrid, lonGrid, latPoint, lonPoint):\n",
    "    dx = lonGrid - lonPoint\n",
    "    dy = latGrid - latPoint\n",
    "    reducedGrid = abs(dx) + abs(dy)\n",
    "    min_ix = np.nanargmin(reducedGrid)\n",
    "    i, j = np.unravel_index(min_ix, reducedGrid.shape)\n",
    "    return i, j"
   ]
  },
  {
   "cell_type": "markdown",
   "metadata": {},
   "source": [
    "# Visualization Code"
   ]
  },
  {
   "cell_type": "code",
   "execution_count": null,
   "metadata": {
    "collapsed": true
   },
   "outputs": [],
   "source": [
    "# Load in data\n",
    "ds_sst = load_global_field('SST')\n",
    "ds_psl = load_global_field('PSL')\n",
    "ds_taux = load_global_field('TAUX')\n",
    "ds_tauy = load_global_field('TAUY')\n",
    "\n",
    "# Set up coordinates\n",
    "alat = ds_psl['LAT'].values\n",
    "along = ds_psl['LON'].values\n",
    "tlong = ds_sst['TLONG'].values\n",
    "tlat = ds_sst['TLAT'].values\n",
    "ulong = ds_taux['ULONG'].values\n",
    "ulat = ds_taux['ULAT'].values\n",
    "angle = ds_taux['ANGLE'].values\n",
    "\n",
    "# Set up data\n",
    "sst = ds_sst['SST'].values\n",
    "psl = ds_psl['PSL'].values\n",
    "taux = ds_taux['TAUX'].values\n",
    "tauy = ds_tauy['TAUY'].values\n",
    "\n",
    "# Rotate winds for flat projection.\n",
    "u = taux*np.cos(angle) - tauy*np.sin(angle) \n",
    "v = taux*np.sin(angle) + tauy*np.cos(angle) "
   ]
  },
  {
   "cell_type": "code",
   "execution_count": null,
   "metadata": {
    "collapsed": true
   },
   "outputs": [],
   "source": [
    "# Winds in vectors\n",
    "# SSTs in color\n",
    "# SLP in contours\n",
    "\n",
    "fig = plt.figure(figsize=(15,15))\n",
    "ax = fig.add_subplot(111)\n",
    "m = setup_map(ax)\n",
    "\n",
    "# Winds\n",
    "Q = m.quiver(ulong[::4,::4], ulat[::4,::4], u[::4,::4], v[::4,::4], latlon=True,\n",
    "            units='dots')\n",
    "\n",
    "#m.pcolormesh(tlong, tlat, sst, vmin=0, vmax=28, \n",
    "#          latlon=True, cmap=cmocean.cm.thermal)\n",
    "#m.colorbar(location='bottom')"
   ]
  },
  {
   "cell_type": "markdown",
   "metadata": {},
   "source": [
    "# Practicing Plotting Vectors"
   ]
  },
  {
   "cell_type": "code",
   "execution_count": null,
   "metadata": {
    "collapsed": true
   },
   "outputs": [],
   "source": [
    "lat1,lat2,lon1,lon2 = visual_bounds('CalCS')\n",
    "a, c = find_indices(ulat, ulong, lat1, lon1)\n",
    "b, d = find_indices(ulat, ulong, lat2, lon2)\n",
    "datx = taux[a:b, c:d]\n",
    "daty = tauy[a:b, c:d]\n",
    "ulat = ulat[a:b, c:d]\n",
    "ulon = ulong[a:b, c:d]\n",
    "rot = angle[a:b,c:d]\n",
    "\n",
    "a, c = find_indices(alat, along, lat1, lon1)\n",
    "b, d = find_indices(alat, along, lat2, lon2)\n",
    "psl = psl[a:b, c:d]\n",
    "alat = alat[a:b, c:d]\n",
    "alon = along[a:b, c:d]\n",
    "\n",
    "# Rotate winds\n",
    "uNew = datx*np.cos(rot) - daty*np.sin(rot) \n",
    "vNew = datx*np.sin(rot) + daty*np.cos(rot) "
   ]
  },
  {
   "cell_type": "code",
   "execution_count": null,
   "metadata": {
    "collapsed": true
   },
   "outputs": [],
   "source": [
    "fig = plt.figure(figsize=(6,6))\n",
    "# Practicing with winds.\n",
    "m = Basemap(projection='merc',\n",
    "                lat_0=(lat1+lat2)/2,\n",
    "                lon_0=(lon1+lon2)/2,\n",
    "                llcrnrlon=lon1,\n",
    "                urcrnrlon=lon2,\n",
    "                llcrnrlat=lat1,\n",
    "                urcrnrlat=lat2,\n",
    "                fix_aspect=False,\n",
    "                resolution='c')\n",
    "m.drawcoastlines(color='#D3D3D3')\n",
    "m.fillcontinents(color='#D3D3D3')\n",
    "m.drawparallels(np.arange(lat1, lat2+1, 3),\n",
    "                   labels=[False,True,False,False], size=20,\n",
    "                   color='b')\n",
    "m.drawmeridians(np.arange(lon1, lon2+1, 3),\n",
    "                   labels=[False, False, False, False], size='x-large',\n",
    "                   color='b')\n",
    "###\n",
    "#Q = plt.quiver(X, Y, U, V, units='width')\n",
    "m.contourf(alon, alat, psl, np.arange(1000,1026,1), latlon=True, cmap=\"RdBu\")\n",
    "Q = m.quiver(ulon, ulat, uNew, vNew, latlon=True, units='inches')\n",
    "#qk = plt.quiverkey(Q, 0.9, 0.9, 2, r'$2 \\frac{m}{s}$', labelpos='E',\n",
    "#                   coordinates='figure')\n"
   ]
  }
 ],
 "metadata": {
  "kernelspec": {
   "display_name": "Python 2",
   "language": "python",
   "name": "python2"
  },
  "language_info": {
   "codemirror_mode": {
    "name": "ipython",
    "version": 2
   },
   "file_extension": ".py",
   "mimetype": "text/x-python",
   "name": "python",
   "nbconvert_exporter": "python",
   "pygments_lexer": "ipython2",
   "version": "2.7.7"
  }
 },
 "nbformat": 4,
 "nbformat_minor": 2
}
