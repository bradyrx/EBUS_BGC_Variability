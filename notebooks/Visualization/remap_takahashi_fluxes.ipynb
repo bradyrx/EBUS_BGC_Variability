{
 "metadata": {
  "kernelspec": {
   "display_name": "Python 3",
   "language": "python",
   "name": "python3"
  },
  "language_info": {
   "codemirror_mode": {
    "name": "ipython",
    "version": 3
   },
   "file_extension": ".py",
   "mimetype": "text/x-python",
   "name": "python",
   "nbconvert_exporter": "python",
   "pygments_lexer": "ipython3",
   "version": "3.6.1"
  },
  "name": ""
 },
 "nbformat": 3,
 "nbformat_minor": 0,
 "worksheets": [
  {
   "cells": [
    {
     "cell_type": "markdown",
     "metadata": {},
     "source": [
      "# Remap Takahashi Fluxes\n",
      "The Takahashi 2009 map is used frequently in the field and in my own presentations, but it is pretty horrid looking color map and global projection. Simply looking to make a better visual of it."
     ]
    },
    {
     "cell_type": "code",
     "collapsed": true,
     "input": [
      "import numpy as np\n",
      "import pandas as pd\n",
      "from mpl_toolkits.basemap import Basemap\n",
      "import matplotlib.pyplot as plt\n",
      "%matplotlib inline\n",
      "plt.style.use('ocn-clim')"
     ],
     "language": "python",
     "metadata": {},
     "outputs": [],
     "prompt_number": 1
    },
    {
     "cell_type": "code",
     "collapsed": true,
     "input": [
      "fileName = '/glade/u/home/rbrady/projects/EBUS_BGC_Variability/data/takahashi/takahashi_2009_co2.csv'\n",
      "df = pd.read_csv(fileName)"
     ],
     "language": "python",
     "metadata": {},
     "outputs": [],
     "prompt_number": 2
    },
    {
     "cell_type": "code",
     "collapsed": true,
     "input": [
      "# Trim out pointless data\n",
      "del df['DELTA_PCO2']\n",
      "del df['PCO2_SW']\n",
      "del df['AREA_MKM2']\n",
      "del df['FLUXGMSW06']\n",
      "del df['TFLUXSW06']\n",
      "df.columns = ['lat', 'lon', 'FG_CO2']"
     ],
     "language": "python",
     "metadata": {},
     "outputs": [],
     "prompt_number": 3
    },
    {
     "cell_type": "markdown",
     "metadata": {},
     "source": [
      "## Coordinate System:\n",
      "LON: On a grid that cycles through from 2.5E to 357.5E in increments of 5 degrees.\n",
      "LAT: On a grid that cycles through from 76S to 80N in increments of 4 degrees. \n",
      "\n",
      "However there are some anomalous points. It's probably best to make a meshgrid using .unique() and just looping through and filling values when they come about."
     ]
    },
    {
     "cell_type": "code",
     "collapsed": true,
     "input": [
      "# Pull out unique values from the data structure\n",
      "x = df['lon'].unique()\n",
      "x = np.sort(x)\n",
      "y = df['lat'].unique()\n",
      "y = np.sort(y)"
     ],
     "language": "python",
     "metadata": {},
     "outputs": [],
     "prompt_number": 4
    },
    {
     "cell_type": "code",
     "collapsed": true,
     "input": [
      "# Form into a meshgrid coordinate system\n",
      "(xx, yy) = np.meshgrid(x, y)\n",
      "# Create data array for CO2 flux\n",
      "takahashi = np.empty(xx.shape)\n",
      "takahashi[:] = np.NaN"
     ],
     "language": "python",
     "metadata": {},
     "outputs": [],
     "prompt_number": 5
    },
    {
     "cell_type": "code",
     "collapsed": true,
     "input": [
      "# Iterate through dataframe and fill in points with data on\n",
      "# the Takahashi grid. If there is no data point, it is left as\n",
      "# a NaN from above.\n",
      "for row in df.itertuples():\n",
      "    i, j = np.where((xx==row.lon) & (yy==row.lat))\n",
      "    takahashi[i, j] = row.FG_CO2"
     ],
     "language": "python",
     "metadata": {},
     "outputs": [],
     "prompt_number": 6
    },
    {
     "cell_type": "code",
     "collapsed": true,
     "input": [
      "# Turn it into a masked array for ease.\n",
      "takahashi = np.ma.array(takahashi, mask=np.isnan(takahashi))"
     ],
     "language": "python",
     "metadata": {},
     "outputs": [],
     "prompt_number": 7
    },
    {
     "cell_type": "heading",
     "level": 1,
     "metadata": {},
     "source": [
      "Mapping it"
     ]
    },
    {
     "cell_type": "code",
     "collapsed": false,
     "input": [
      "def setup_map(ax):\n",
      "#    map = Basemap(projection='ortho', \n",
      "#              lat_0=0, lon_0=0)\n",
      "    m = Basemap(projection='kav7',\n",
      "                lon_0=180,\n",
      "               resolution='c')\n",
      "    m.fillcontinents(color='k')\n",
      "    m.drawparallels(np.arange(-90,90,15.), labels=[True,False,False,False])\n",
      "    m.drawmeridians(np.arange(0.,360.,30.))\n",
      "    m.drawcoastlines(color='k')\n",
      "    m.drawmapboundary(fill_color='#D3D3D3')\n",
      "    return m"
     ],
     "language": "python",
     "metadata": {},
     "outputs": [],
     "prompt_number": 93
    },
    {
     "cell_type": "code",
     "collapsed": false,
     "input": [
      "fig = plt.figure(figsize=(14,6))\n",
      "ax = plt.subplot(111)\n",
      "m = setup_map(ax)\n",
      "m.contourf(xx, yy, takahashi, np.arange(-4,4.1,0.5),\n",
      "             latlon=True, cmap=\"BrBG_r\", extend='min')\n",
      "ax.set_title('Climatological Sea-Air CO$_{2}$ Flux' + '\\n' + '(Takahashi 2009)')\n",
      "cb = m.colorbar(location='bottom')\n",
      "cb.outline.set_edgecolor('k')\n",
      "cb.outline.set_linewidth(2)\n",
      "cb.set_label('Sea-Air CO$_{2}$ Flux [mol/m$^{2}$/yr]')\n",
      "\n",
      "#plt.savefig('takahashi_map.png', transparent=True, format='eps', \n",
      "#            bbox_inches='tight', pad_inches=1, dpi=1000)"
     ],
     "language": "python",
     "metadata": {},
     "outputs": [],
     "prompt_number": 101
    }
   ],
   "metadata": {}
  }
 ]
}