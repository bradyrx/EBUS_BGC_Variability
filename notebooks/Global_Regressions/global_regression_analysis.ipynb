{
 "metadata": {
  "kernelspec": {
   "display_name": "Python 3",
   "language": "python",
   "name": "python3"
  },
  "language_info": {
   "codemirror_mode": {
    "name": "ipython",
    "version": 3
   },
   "file_extension": ".py",
   "mimetype": "text/x-python",
   "name": "python",
   "nbconvert_exporter": "python",
   "pygments_lexer": "ipython3",
   "version": "3.6.5"
  },
  "name": ""
 },
 "nbformat": 3,
 "nbformat_minor": 0,
 "worksheets": [
  {
   "cells": [
    {
     "cell_type": "markdown",
     "metadata": {},
     "source": [
      "# Global Regression Analysis\n",
      "Taking a look at what comes out from the global regression.\n",
      "\n",
      "**NOTE**: The native grid output does not plot well globally, especially for contour mapping. Thus, I've embedded a cdo function to temporarily remap the output of interest to a 1deg by 1deg standard grid globally."
     ]
    },
    {
     "cell_type": "code",
     "collapsed": false,
     "input": [
      "import numpy as np\n",
      "import pandas as pd\n",
      "import xarray as xr\n",
      "\n",
      "import matplotlib.pyplot as plt\n",
      "%matplotlib inline\n",
      "plt.style.use('ocn-clim')\n",
      "\n",
      "import cmocean.cm as cm\n",
      "import cartopy.crs as ccrs\n",
      "import esmtools as et\n",
      "import cartopy.util as cu"
     ],
     "language": "python",
     "metadata": {},
     "outputs": [],
     "prompt_number": 1
    },
    {
     "cell_type": "code",
     "collapsed": false,
     "input": [
      "def meshgrid(x, y, d):\n",
      "    (xx, yy) = np.meshgrid(x, y)\n",
      "    d.coords['gridlon'] = (('lat', 'lon'), xx)\n",
      "    d.coords['gridlat'] = (('lat', 'lon'), yy)\n",
      "    return d"
     ],
     "language": "python",
     "metadata": {},
     "outputs": [],
     "prompt_number": 2
    },
    {
     "cell_type": "code",
     "collapsed": false,
     "input": [
      "ebu_names = {\n",
      "    'CalCS': 'California Current',\n",
      "    'CanCS': 'Canary Current',\n",
      "    'BenCS': 'Benguela Current',\n",
      "    'HumCS': 'Humboldt Current',\n",
      "}"
     ],
     "language": "python",
     "metadata": {},
     "outputs": [],
     "prompt_number": 3
    },
    {
     "cell_type": "markdown",
     "metadata": {},
     "source": [
      "# Single Global View\n",
      "\n",
      "Pick a system, variable, member, and smoothing."
     ]
    },
    {
     "cell_type": "code",
     "collapsed": false,
     "input": [
      "EBU = 'CalCS'\n",
      "VAR = 'SST'\n",
      "LAG = 0\n",
      "SMOOTHED = False"
     ],
     "language": "python",
     "metadata": {},
     "outputs": [],
     "prompt_number": 4
    },
    {
     "cell_type": "code",
     "collapsed": false,
     "input": [
      "if SMOOTHED:\n",
      "    filepath = ('/glade/p/work/rbrady/EBUS_BGC_Variability/global_regressions/' + VAR + '/' +\n",
      "                EBU + '/lag' + str(LAG) + '/*smoothed*.nc')\n",
      "else:\n",
      "    filepath = ('/glade/p/work/rbrady/EBUS_BGC_Variability/global_regressions/' + VAR + '/' +\n",
      "                EBU + '/lag' + str(LAG) + '/*unsmoothed*.nc')"
     ],
     "language": "python",
     "metadata": {},
     "outputs": [],
     "prompt_number": 5
    },
    {
     "cell_type": "code",
     "collapsed": false,
     "input": [
      "ds = xr.open_mfdataset(filepath, concat_dim='simulation')\n",
      "ds = ds.where(ds.p <= 0.05) # Mask out insignificant\n",
      "ds = ds.mean(dim='simulation') # Ensemble composite\n",
      "ds = meshgrid(ds.lon, ds.lat, ds)\n",
      "cyclic_data, cyclic_lons = cu.add_cyclic_point(ds.r.values, coord=ds.lon)\n",
      "#lon, lat, data = et.vis.deseam(ds.gridlon, ds.gridlat, ds.r)"
     ],
     "language": "python",
     "metadata": {},
     "outputs": [],
     "prompt_number": 6
    },
    {
     "cell_type": "code",
     "collapsed": false,
     "input": [
      "# Colormap\n",
      "cmap = plt.cm.BrBG_r\n",
      "cmap.set_under('#000000')\n",
      "\n",
      "# Contour levels (only 0.3 - 1 and -1 to -0.3.)\n",
      "lower = np.linspace(-1, -0.3, 8)\n",
      "upper = np.linspace(0.3, 1, 8)\n",
      "levels = np.append(lower, upper)"
     ],
     "language": "python",
     "metadata": {},
     "outputs": [],
     "prompt_number": 31
    },
    {
     "cell_type": "code",
     "collapsed": false,
     "input": [
      "if (EBU == \"HumCS\") or (EBU == \"CalCS\"):\n",
      "    f, ax = et.vis.make_cartopy(projection=ccrs.Robinson(central_longitude=180),\n",
      "                            grid_lines=True, figsize=(12,8), frameon=True)\n",
      "else:\n",
      "    f, ax = et.vis.make_cartopy(projection=ccrs.Robinson(central_longitude=0),\n",
      "                            grid_lines=False, figsize=(12,8), frameon=True)\n",
      "    \n",
      "# Forgot to flip the sign when making the global residuals\n",
      "if VAR == \"FG_ALT_CO2\":\n",
      "    data = data * -1\n",
      "\n",
      "# Pcolor background.\n",
      "plt.contourf(cyclic_lons, ds.lat, cyclic_data, np.arange(-0.7,0.71,0.1), transform=ccrs.PlateCarree(),\n",
      "               cmap=cmap)\n",
      "cb = plt.colorbar(orientation='horizontal', pad=0.05, fraction=0.05)\n",
      "\n",
      "# Contours.\n",
      "cs = ax.contour(cyclic_lons, ds.lat, cyclic_data, transform=ccrs.PlateCarree(),\n",
      "                linewidths=1, colors='k', levels=levels)\n",
      "#fmt = '%.2f'\n",
      "#labels = plt.clabel(cs, fontsize=10, inline=1, fmt=fmt)\n",
      "\n",
      "# Box.\n",
      "x0, x1, y0, y1 = et.ebus.visual_bounds(EBU, std_lon=True)\n",
      "et.vis.add_box(ax, x0, x1, y0, y1, facecolor='w', edgecolor='k',\n",
      "               linewidth=2, alpha=0.75, zorder=3)\n",
      "\n",
      "# Labels.\n",
      "#ax.set_title('Global ' + VAR + ' Correlation with F$_{\\mathrm{Nat}}$' +\n",
      "#             ' in the ' + ebu_names[EBU])\n",
      "cb.set_label('R Value' + '\\n' + '[' + VAR + ' leads ' + str(LAG) + ' months; No smoothing]')\n",
      "\n",
      "# Zoom in...\n",
      "#x0,x1,y0,y1 = et.ebus.visual_bounds(EBU)\n",
      "#ax.set_extent([-180,-110,10,60])\n",
      "\n",
      "#et.vis.savefig('can_slp', extension='.eps', dpi=300)\n"
     ],
     "language": "python",
     "metadata": {
      "scrolled": true
     },
     "outputs": [],
     "prompt_number": 32
    },
    {
     "cell_type": "heading",
     "level": 1,
     "metadata": {},
     "source": [
      "Trying Global Regression with slopes"
     ]
    },
    {
     "cell_type": "code",
     "collapsed": false,
     "input": [],
     "language": "python",
     "metadata": {},
     "outputs": [],
     "prompt_number": null
    },
    {
     "cell_type": "code",
     "collapsed": false,
     "input": [],
     "language": "python",
     "metadata": {},
     "outputs": [],
     "prompt_number": null
    },
    {
     "cell_type": "heading",
     "level": 1,
     "metadata": {},
     "source": [
      "Composite with lags 0-5"
     ]
    },
    {
     "cell_type": "code",
     "collapsed": false,
     "input": [
      "def load_lag_composite(var, ebu, lag):\n",
      "    \"\"\"\n",
      "    Given the variable, system, and lag, this will composite whatever simulations have been remapped\n",
      "    and returns a dataset with a filter of only p <= 0.05 shown and a meshgrid lat/lon.\n",
      "    \"\"\"\n",
      "    if SMOOTHED:\n",
      "        filepath = ('/glade/p/work/rbrady/EBUS_BGC_Variability/global_regressions/' + var + '/' +\n",
      "                    ebu + '/lag' + str(lag) + '/*smoothed*.nc')\n",
      "    else:\n",
      "        filepath = ('/glade/p/work/rbrady/EBUS_BGC_Variability/global_regressions/' + var + '/' +\n",
      "                    ebu + '/lag' + str(lag) + '/*unsmoothed*.nc')\n",
      "    ds = xr.open_mfdataset(filepath, concat_dim='simulation')\n",
      "    ds = ds.where(ds.p <= 0.05) # Mask out insignificant\n",
      "    ds = ds.mean(dim='simulation') # Ensemble composite\n",
      "    ds = meshgrid(ds.lon, ds.lat, ds)\n",
      "    return ds"
     ],
     "language": "python",
     "metadata": {},
     "outputs": [],
     "prompt_number": null
    },
    {
     "cell_type": "code",
     "collapsed": false,
     "input": [
      "VAR = 'curl'\n",
      "EBU = 'BenCS'\n",
      "SMOOTH = False"
     ],
     "language": "python",
     "metadata": {},
     "outputs": [],
     "prompt_number": null
    },
    {
     "cell_type": "code",
     "collapsed": false,
     "input": [
      "# Load lagged 0 through 6 months\n",
      "ds0 = load_lag_composite(VAR, EBU, 0)\n",
      "ds1 = load_lag_composite(VAR, EBU, 1)\n",
      "ds2 = load_lag_composite(VAR, EBU, 2)\n",
      "ds3 = load_lag_composite(VAR, EBU, 3)\n",
      "ds4 = load_lag_composite(VAR, EBU, 4)\n",
      "ds5 = load_lag_composite(VAR, EBU, 5)\n",
      "\n",
      "# Contour levels (only 0.3 - 1 and -1 to -0.3.)\n",
      "lower = np.linspace(-1, -0.3, 8)\n",
      "upper = np.linspace(0.3, 1, 8)\n",
      "levels = np.append(lower, upper)\n",
      "\n",
      "# Colormap\n",
      "cmap = plt.cm.RdBu_r\n",
      "cmap.set_under('#a9a9a9')"
     ],
     "language": "python",
     "metadata": {},
     "outputs": [],
     "prompt_number": null
    },
    {
     "cell_type": "heading",
     "level": 3,
     "metadata": {},
     "source": [
      "Visualization"
     ]
    },
    {
     "cell_type": "code",
     "collapsed": false,
     "input": [
      "import cartopy.feature as cfeature\n",
      "import matplotlib as mpl\n",
      "\n",
      "if (EBU == \"HumCS\") or (EBU == \"CalCS\"):\n",
      "    f, axes = plt.subplots(nrows=3, ncols=2,\n",
      "                       subplot_kw={'projection': ccrs.Robinson(central_longitude=180)},\n",
      "                       gridspec_kw = {'wspace':0, 'hspace':0},\n",
      "                       figsize=(8,6))\n",
      "else:\n",
      "    f, axes = plt.subplots(nrows=3, ncols=2,\n",
      "                       subplot_kw={'projection': ccrs.Robinson(central_longitude=0)},\n",
      "                       gridspec_kw = {'wspace':0, 'hspace':0},\n",
      "                       figsize=(8,6))\n",
      "    \n",
      "if VAR == \"FG_ALT_CO2\":\n",
      "    ds['r'] = ds['r'] * -1\n",
      "# Main title.\n",
      "st = f.suptitle(VAR + ' Correlation with F$_{\\mathrm{Nat}}$ in the ' +\n",
      "                  ebu_names[EBU], fontsize=24)\n",
      "\n",
      "for i, ax in enumerate(axes.flat):\n",
      "    # Projection Aesthetics\n",
      "    ax.outline_patch.set_edgecolor('k')\n",
      "    ax.add_feature(cfeature.LAND, facecolor='k')\n",
      "    \n",
      "    # P-Color R values\n",
      "    ds = eval('ds' + str(i))\n",
      "    p = ax.pcolormesh(ds['gridlon'], ds['gridlat'], ds['r'], transform=ccrs.PlateCarree(),\n",
      "                  vmin=-0.7, vmax=0.7, cmap=cmap)\n",
      "    \n",
      "    # Contours\n",
      "    cs = ax.contour(ds['gridlon'], ds['gridlat'], ds['r'], transform=ccrs.PlateCarree(),\n",
      "                    linewidths=1, colors='k', levels=levels)\n",
      "    \n",
      "    # Labels\n",
      "    ax.text(67, 48, 'Lag ' + str(i), color='w', transform=ccrs.Geodetic())\n",
      "\n",
      "# Tight layout + subplot adjustment\n",
      "f.tight_layout()\n",
      "f.subplots_adjust(top=0.85)\n",
      "st.set_y(0.95)\n",
      "\n",
      "# Colorbar\n",
      "cax,kw = mpl.colorbar.make_axes([ax for ax in axes.flat])\n",
      "cb = plt.colorbar(p, cax=cax, **kw)\n",
      "cb.set_label('R Value')\n",
      "\n",
      "plt.show()"
     ],
     "language": "python",
     "metadata": {
      "scrolled": false
     },
     "outputs": [],
     "prompt_number": null
    }
   ],
   "metadata": {}
  }
 ]
}