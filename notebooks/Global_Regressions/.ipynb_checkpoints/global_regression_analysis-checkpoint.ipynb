{
 "cells": [
  {
   "cell_type": "markdown",
   "metadata": {},
   "source": [
    "# Global Regression Analysis\n",
    "This is a methods notebook to optimize the raw .py script that will be used for this analysis."
   ]
  },
  {
   "cell_type": "code",
   "execution_count": 1,
   "metadata": {
    "collapsed": true
   },
   "outputs": [],
   "source": [
    "import glob\n",
    "import numpy as np\n",
    "import pandas as pd\n",
    "import xarray as xr\n",
    "\n",
    "import matplotlib.pyplot as plt\n",
    "%matplotlib inline\n",
    "plt.style.use('ocn-clim')\n",
    "\n",
    "import cartopy.crs as ccrs\n",
    "\n",
    "import esmtools as et"
   ]
  },
  {
   "cell_type": "markdown",
   "metadata": {},
   "source": [
    "# Process\n",
    "\n",
    "1. Load in time series from region of interest."
   ]
  },
  {
   "cell_type": "code",
   "execution_count": 46,
   "metadata": {
    "collapsed": true
   },
   "outputs": [],
   "source": [
    "# This will be defined by sys input\n",
    "EBU = 'CalCS'\n",
    "GLOBAL_VAR = 'SST'\n",
    "ENS = 0\n",
    "GLOBAL_DIR = '/glade/scratch/rbrady/EBUS_BGC_Variability/global_residuals/SST/'"
   ]
  },
  {
   "cell_type": "code",
   "execution_count": 45,
   "metadata": {
    "collapsed": true
   },
   "outputs": [],
   "source": [
    "ens_str = ['001', '002', '009', '010', '011', '012', '013', '014', '015', '016',\n",
    "            '017', '018', '019', '020', '021', '022', '023', '024', '025', '026',\n",
    "            '027', '028', '029', '030', '031', '032', '033', '034', '035', '101',\n",
    "            '102', '103', '104', '105']"
   ]
  },
  {
   "cell_type": "code",
   "execution_count": 44,
   "metadata": {
    "collapsed": true
   },
   "outputs": [],
   "source": [
    "# Will take in the residuals for natural CO2 area-weighted over this region.\n",
    "fileDir = ('/glade/p/work/rbrady/EBUS_BGC_Variability/FG_ALT_CO2/' +\n",
    "           EBU + '/filtered_output/' + EBU.lower() + \n",
    "           '-FG_ALT_CO2-residuals-AW-chavez-800km.nc')\n",
    "# 34x1152 time series of unfiltered residuals.\n",
    "ds_regional = xr.open_dataset(fileDir)\n",
    "ds_regional = ds_regional['FG_ALT_CO2_AW'][ENS]"
   ]
  },
  {
   "cell_type": "code",
   "execution_count": 43,
   "metadata": {
    "collapsed": true
   },
   "outputs": [],
   "source": [
    "# Take in the predone global residuals\n",
    "filedir = GLOBAL_DIR + GLOBAL_VAR + '.' + ens_str[ENS] + '.global_residuals.nc'\n",
    "ds_global = xr.open_dataset(filedir)\n",
    "ds_global = ds_global[GLOBAL_VAR]"
   ]
  },
  {
   "cell_type": "markdown",
   "metadata": {},
   "source": [
    "# Test Case \n",
    "Does chaining .apply() work?\n",
    "\n",
    "** NOTE ** : The test file is under '/glade/scratch/rbrady/slice_of_global_residuals.nc'\n",
    "\n",
    "It is a small slice of the Pacific to test out regressions over the ensemble and space."
   ]
  },
  {
   "cell_type": "code",
   "execution_count": 27,
   "metadata": {
    "collapsed": true
   },
   "outputs": [],
   "source": [
    "\"\"\"\n",
    "This is the function to be applied to the stacked xarray object.\n",
    "\n",
    "For now, it will autosmooth. It makes much more sense to have the\n",
    "shell script select the ensemble number, so that we can parallelize\n",
    "the ensemble.\n",
    "\"\"\"\n",
    "def gridcell_correlations(x, regional):\n",
    "    # Smooth each for comparison.\n",
    "    x = et.stats.smooth_series(x, 12)\n",
    "    y = et.stats.smooth_series(regional, 12)\n",
    "\n",
    "    m, b, r, p, e = et.stats.linear_regression(x, y)\n",
    "    return xr.Dataset({'m': m, 'r': r, 'p': p})"
   ]
  },
  {
   "cell_type": "code",
   "execution_count": 11,
   "metadata": {
    "collapsed": true
   },
   "outputs": [],
   "source": [
    "# This will be defined by sys input\n",
    "EBU = 'CalCS'\n",
    "GLOBAL_VAR = 'SST'\n",
    "ENS = 0"
   ]
  },
  {
   "cell_type": "code",
   "execution_count": 12,
   "metadata": {
    "collapsed": true
   },
   "outputs": [],
   "source": [
    "# Will take in the residuals for natural CO2 area-weighted over this region.\n",
    "fileDir = ('/glade/p/work/rbrady/EBUS_BGC_Variability/FG_ALT_CO2/' +\n",
    "           EBU + '/filtered_output/' + EBU.lower() + \n",
    "           '-FG_ALT_CO2-residuals-AW-chavez-800km.nc')\n",
    "# 34x1152 time series of unfiltered residuals.\n",
    "ds_regional = xr.open_dataset(fileDir)\n",
    "ds_global = xr.open_dataset('/glade/scratch/rbrady/slice_of_global_residuals.nc')"
   ]
  },
  {
   "cell_type": "code",
   "execution_count": 13,
   "metadata": {},
   "outputs": [],
   "source": [
    "# SELECT THE ENSEMBLE MEMBER.\n",
    "ds_regional = ds_regional['FG_ALT_CO2_AW'][ENS]\n",
    "ds_global = ds_global[GLOBAL_VAR][ENS]"
   ]
  },
  {
   "cell_type": "code",
   "execution_count": 28,
   "metadata": {},
   "outputs": [
    {
     "name": "stderr",
     "output_type": "stream",
     "text": [
      "/glade/u/home/rbrady/anaconda3/lib/python3.6/site-packages/esmtools/stats.py:81: FutureWarning: pd.rolling_mean is deprecated for DataFrame and will be removed in a future version, replace with \n",
      "\tDataFrame.rolling(window=12,center=False).mean()\n",
      "  smoothed = pd.rolling_mean(x, length, center=center)\n"
     ]
    }
   ],
   "source": [
    "correlation = ds_global.stack(gridpoints=['nlat','nlon']) \\\n",
    "             .groupby('gridpoints') \\\n",
    "             .apply(gridcell_correlations, regional=ds_regional) \\\n",
    "             .unstack('gridpoints')"
   ]
  },
  {
   "cell_type": "markdown",
   "metadata": {},
   "source": [
    "### Just check that using linregress does a decent job"
   ]
  },
  {
   "cell_type": "code",
   "execution_count": null,
   "metadata": {
    "collapsed": true
   },
   "outputs": [],
   "source": [
    "# First ensemble member\n",
    "region_data = ds_regional['FG_ALT_CO2_AW'][0]\n",
    "# Arbitrary point\n",
    "global_data = ds_global['SST'][0, :, 11, 3]"
   ]
  },
  {
   "cell_type": "code",
   "execution_count": null,
   "metadata": {
    "collapsed": true
   },
   "outputs": [],
   "source": [
    "m, b, r, p, e = et.stats.linear_regression(global_data, region_data)"
   ]
  },
  {
   "cell_type": "code",
   "execution_count": null,
   "metadata": {
    "collapsed": true
   },
   "outputs": [],
   "source": [
    "fig = plt.figure(figsize=(10,3))\n",
    "ax = plt.subplot(111)\n",
    "region_data.plot(linewidth=1)\n",
    "global_data.plot(linewidth=1)\n",
    "print(\"Correlation Coefficient: \" + str(r.round(2)))"
   ]
  },
  {
   "cell_type": "markdown",
   "metadata": {},
   "source": [
    "###  Still may need to smooth..."
   ]
  },
  {
   "cell_type": "code",
   "execution_count": null,
   "metadata": {
    "collapsed": true
   },
   "outputs": [],
   "source": [
    "region_data = smooth_series(region_data, 12)\n",
    "global_data = smooth_series(global_data, 12)"
   ]
  },
  {
   "cell_type": "code",
   "execution_count": null,
   "metadata": {
    "collapsed": true
   },
   "outputs": [],
   "source": [
    "m, b, r, p, e = et.stats.linear_regression(global_data, region_data)"
   ]
  },
  {
   "cell_type": "code",
   "execution_count": null,
   "metadata": {
    "collapsed": true
   },
   "outputs": [],
   "source": [
    "fig = plt.figure(figsize=(10,3))\n",
    "ax = plt.subplot(111)\n",
    "plt.plot(region_data, linewidth=2)\n",
    "plt.plot(global_data, linewidth=2)\n",
    "print(\"Correlation Coefficient: \" + str(r.round(2)))"
   ]
  }
 ],
 "metadata": {
  "kernelspec": {
   "display_name": "Python 3",
   "language": "python",
   "name": "python3"
  },
  "language_info": {
   "codemirror_mode": {
    "name": "ipython",
    "version": 3
   },
   "file_extension": ".py",
   "mimetype": "text/x-python",
   "name": "python",
   "nbconvert_exporter": "python",
   "pygments_lexer": "ipython3",
   "version": "3.6.1"
  }
 },
 "nbformat": 4,
 "nbformat_minor": 2
}
