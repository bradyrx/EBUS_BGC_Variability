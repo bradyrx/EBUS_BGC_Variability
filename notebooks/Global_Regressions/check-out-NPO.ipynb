{
 "metadata": {
  "kernelspec": {
   "display_name": "Python 3",
   "language": "python",
   "name": "python3"
  },
  "language_info": {
   "codemirror_mode": {
    "name": "ipython",
    "version": 3
   },
   "file_extension": ".py",
   "mimetype": "text/x-python",
   "name": "python",
   "nbconvert_exporter": "python",
   "pygments_lexer": "ipython3",
   "version": "3.6.4"
  },
  "name": ""
 },
 "nbformat": 3,
 "nbformat_minor": 0,
 "worksheets": [
  {
   "cells": [
    {
     "cell_type": "heading",
     "level": 1,
     "metadata": {},
     "source": [
      "Looking into the North Pacific Oscillation..."
     ]
    },
    {
     "cell_type": "code",
     "collapsed": true,
     "input": [
      "import numpy as np\n",
      "import pandas as pd\n",
      "import xarray as xr\n",
      "import esmtools as et\n",
      "import matplotlib.pyplot as plt\n",
      "%matplotlib inline\n",
      "plt.style.use('ocn-clim')\n",
      "import scipy.signal"
     ],
     "language": "python",
     "metadata": {},
     "outputs": [],
     "prompt_number": 49
    },
    {
     "cell_type": "code",
     "collapsed": true,
     "input": [
      "def detrend(ds):\n",
      "    detrended = scipy.signal.detrend(ds)\n",
      "    return xr.DataArray(detrended)"
     ],
     "language": "python",
     "metadata": {},
     "outputs": [],
     "prompt_number": 34
    },
    {
     "cell_type": "code",
     "collapsed": true,
     "input": [
      "ds_co2 = xr.open_dataset('/glade/u/home/rbrady/work/EBUS_BGC_Variability/FG_ALT_CO2/' + \n",
      "                         'CalCS/filtered_output/calcs-FG_ALT_CO2-residuals-AW-chavez-800km.nc')\n",
      "ds_co2 = ds_co2['FG_ALT_CO2_AW'][2]"
     ],
     "language": "python",
     "metadata": {},
     "outputs": [],
     "prompt_number": 88
    },
    {
     "cell_type": "code",
     "collapsed": false,
     "input": [
      "ds_clim = xr.open_dataset('/glade/p/work/rbrady/cesmLE_CVDP/CESM1-CAM5-BGC-LE_009.cvdp_data.1920-2015.nc',\n",
      "                          decode_times=False)\n",
      "ds_clim = ds_clim['npo_pc_mon']\n",
      "ds_clim['time'] = ds_co2['time']\n",
      "ds_clim = ds_clim.to_dataset().apply(detrend)"
     ],
     "language": "python",
     "metadata": {},
     "outputs": [],
     "prompt_number": 89
    },
    {
     "cell_type": "heading",
     "level": 1,
     "metadata": {},
     "source": [
      "Eye Test Plot"
     ]
    },
    {
     "cell_type": "code",
     "collapsed": false,
     "input": [
      "ds_clim"
     ],
     "language": "python",
     "metadata": {},
     "outputs": [],
     "prompt_number": 90
    },
    {
     "cell_type": "code",
     "collapsed": false,
     "input": [
      "f, ax = plt.subplots(figsize=(12,4))\n",
      "plt.plot(ds_co2.time, ds_clim['npo_pc_mon'], linewidth=2)\n",
      "plt.plot(ds_co2.time, ds_co2, linewidth=2)\n",
      "ax.set(xlim=['1920', '2015'])"
     ],
     "language": "python",
     "metadata": {},
     "outputs": [],
     "prompt_number": 91
    },
    {
     "cell_type": "code",
     "collapsed": true,
     "input": [
      "m,b,r,p,e = et.stats.linear_regression(ds_clim['npo_pc_mon'], ds_co2)"
     ],
     "language": "python",
     "metadata": {},
     "outputs": [],
     "prompt_number": 92
    },
    {
     "cell_type": "code",
     "collapsed": false,
     "input": [
      "r"
     ],
     "language": "python",
     "metadata": {},
     "outputs": [],
     "prompt_number": 93
    },
    {
     "cell_type": "markdown",
     "metadata": {},
     "source": [
      "Ensemble members consistently give an r value on the order of 0.13. Perhaps a proper NPGO index would do a lot better job, even though it really is the oceanic extension of NPGO."
     ]
    }
   ],
   "metadata": {}
  }
 ]
}