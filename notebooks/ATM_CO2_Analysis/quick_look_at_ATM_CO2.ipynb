{
 "metadata": {
  "kernelspec": {
   "display_name": "Python 3",
   "language": "python",
   "name": "python3"
  },
  "language_info": {
   "codemirror_mode": {
    "name": "ipython",
    "version": 3
   },
   "file_extension": ".py",
   "mimetype": "text/x-python",
   "name": "python",
   "nbconvert_exporter": "python",
   "pygments_lexer": "ipython3",
   "version": "3.6.1"
  },
  "name": ""
 },
 "nbformat": 3,
 "nbformat_minor": 0,
 "worksheets": [
  {
   "cells": [
    {
     "cell_type": "markdown",
     "metadata": {},
     "source": [
      "# Quick Look at ATM_CO2\n",
      "I pulled down ATM_CO2 (atmospheric CO2 in ppmv) and ATM_ALT_CO2 (constant ppmv experiment) to make sure they look similar over each system and that ATM_ALT_CO2 is constant."
     ]
    },
    {
     "cell_type": "code",
     "collapsed": true,
     "input": [
      "import glob\n",
      "import numpy as np\n",
      "import pandas as pd\n",
      "import xarray as xr\n",
      "import esmtools as et\n",
      "import matplotlib.pyplot as plt\n",
      "%matplotlib inline\n",
      "plt.style.use('ocn-clim')"
     ],
     "language": "python",
     "metadata": {},
     "outputs": [],
     "prompt_number": 1
    },
    {
     "cell_type": "code",
     "collapsed": true,
     "input": [
      "def load_single_nc(var, num='002'):\n",
      "    filedir = '/glade/scratch/rbrady/EBUS_BGC_Variability/' + var + '_monthly/'\n",
      "    ds = xr.open_dataset(filedir + var + '.' + num + '.192001-210012.nc', decode_times=False)\n",
      "    ds = ds[var]\n",
      "    ds['time'] = pd.date_range('1920-01', '2101-01', freq='M')\n",
      "    ds = ds.sel(time=slice('1920-01', '2015-12'))\n",
      "    return ds"
     ],
     "language": "python",
     "metadata": {},
     "outputs": [],
     "prompt_number": 2
    },
    {
     "cell_type": "markdown",
     "metadata": {},
     "source": [
      "# Is ATM_ALT_CO2 the same everywhere?\n",
      "\n",
      "Yes."
     ]
    },
    {
     "cell_type": "code",
     "collapsed": true,
     "input": [
      "atm_alt_one = load_single_nc('ATM_ALT_CO2', '001')\n",
      "atm_alt_two = load_single_nc('ATM_ALT_CO2', '002')\n",
      "atm_alt_three = load_single_nc('ATM_ALT_CO2', '009')"
     ],
     "language": "python",
     "metadata": {},
     "outputs": [],
     "prompt_number": 3
    },
    {
     "cell_type": "code",
     "collapsed": false,
     "input": [
      "np.allclose(atm_alt_one[:, 50,50], atm_alt_three[:,50,50], equal_nan=True)"
     ],
     "language": "python",
     "metadata": {},
     "outputs": [],
     "prompt_number": 11
    },
    {
     "cell_type": "markdown",
     "metadata": {},
     "source": [
      "# What is the value?\n",
      "Roughly 284.7ppmv with some small perturbations"
     ]
    },
    {
     "cell_type": "code",
     "collapsed": false,
     "input": [
      "atm_alt_one.mean()"
     ],
     "language": "python",
     "metadata": {},
     "outputs": [],
     "prompt_number": 13
    },
    {
     "cell_type": "code",
     "collapsed": false,
     "input": [
      "fig = plt.figure(figsize=(14,4))\n",
      "ax = plt.subplot(111)\n",
      "atm_alt_one[:, 50, 50].plot()\n",
      "atm_alt_two[:, 50, 50].plot()\n",
      "ax.set_ylim([0, 285])\n",
      "ax.set_title('Alternative CO2 Experiment')"
     ],
     "language": "python",
     "metadata": {},
     "outputs": [],
     "prompt_number": 20
    },
    {
     "cell_type": "heading",
     "level": 1,
     "metadata": {},
     "source": [
      "How do the two experiments compare?"
     ]
    },
    {
     "cell_type": "code",
     "collapsed": true,
     "input": [
      "atm_co2 = load_single_nc('ATM_CO2')"
     ],
     "language": "python",
     "metadata": {},
     "outputs": [],
     "prompt_number": 21
    },
    {
     "cell_type": "code",
     "collapsed": false,
     "input": [
      "fig = plt.figure(figsize=(14,4))\n",
      "ax = plt.subplot(111)\n",
      "atm_co2[:, 50, 50].plot()\n",
      "atm_co2[:, 100,100].plot(color='k')\n",
      "atm_co2.mean(dim='nlat').mean(dim='nlon').plot(color='r')"
     ],
     "language": "python",
     "metadata": {},
     "outputs": [],
     "prompt_number": 30
    },
    {
     "cell_type": "markdown",
     "metadata": {},
     "source": [
      "The transient experiment is identical all over the globe. Variations in pCO2(atm) are due to variations in surface pressure."
     ]
    },
    {
     "cell_type": "code",
     "collapsed": true,
     "input": [
      "atm_co2_two = load_single_nc('ATM_CO2', '009')"
     ],
     "language": "python",
     "metadata": {},
     "outputs": [],
     "prompt_number": 31
    },
    {
     "cell_type": "code",
     "collapsed": false,
     "input": [
      "fig = plt.figure(figsize=(14,4))\n",
      "ax = plt.subplot(111)\n",
      "atm_co2.mean(dim='nlat').mean(dim='nlon').plot(color='k')\n",
      "atm_co2_two.mean(dim='nlat').mean(dim='nlon').plot(color='b')"
     ],
     "language": "python",
     "metadata": {},
     "outputs": [],
     "prompt_number": 32
    },
    {
     "cell_type": "markdown",
     "metadata": {},
     "source": [
      "Every ensemble has the same boundary condition... as it should."
     ]
    },
    {
     "cell_type": "code",
     "collapsed": false,
     "input": [
      "fig = plt.figure(figsize=(14,4))\n",
      "ax = plt.subplot(111)\n",
      "atm_co2.mean(dim='nlat').mean(dim='nlon').plot(color='k', label='transient', linestyle='--')\n",
      "atm_alt_one.mean(dim='nlat').mean(dim='nlon').plot(color='b', label='fixed')\n",
      "ax.legend()\n",
      "ax.set_ylim([250, 400])"
     ],
     "language": "python",
     "metadata": {},
     "outputs": [],
     "prompt_number": 35
    }
   ],
   "metadata": {}
  }
 ]
}