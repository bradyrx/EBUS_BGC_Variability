{
 "metadata": {
  "kernelspec": {
   "display_name": "Python 2",
   "language": "python",
   "name": "python2"
  },
  "language_info": {
   "codemirror_mode": {
    "name": "ipython",
    "version": 2
   },
   "file_extension": ".py",
   "mimetype": "text/x-python",
   "name": "python",
   "nbconvert_exporter": "python",
   "pygments_lexer": "ipython2",
   "version": "2.7.7"
  },
  "name": ""
 },
 "nbformat": 3,
 "nbformat_minor": 0,
 "worksheets": [
  {
   "cells": [
    {
     "cell_type": "markdown",
     "metadata": {},
     "source": [
      "# pCO$_{2}$ Decomposition\n",
      "Working out how to decompose a pCO2 time series into temperature-dependent and non-temperature-dependent pCO2 per the Takahashi 2002 paper (with reference to Fay/McKinley)\n",
      "\n",
      "----\n",
      "\n",
      "pCO$_{2}$-T = mean pCO$_{2}$ $\\times$ exp(0.0423 $\\times$ (SST$_{obs}$ - SST$_{mean}$))\n",
      "\n",
      "pCO$_{2}$-nonT = pCO2$_{obs}$ $\\times$ exp(0.0423 $\\times$ (SST$_{mean}$ - SST$_{obs}$))"
     ]
    },
    {
     "cell_type": "code",
     "collapsed": true,
     "input": [
      "import glob\n",
      "import numpy as np\n",
      "import pandas as pd\n",
      "import xarray as xr\n",
      "import matplotlib.pyplot as plt\n",
      "%matplotlib inline"
     ],
     "language": "python",
     "metadata": {},
     "outputs": [],
     "prompt_number": 2
    },
    {
     "cell_type": "code",
     "collapsed": true,
     "input": [
      "colors = {\n",
      "    'CalCS': '#80b1d3',\n",
      "    'HumCS': '#fb8072',\n",
      "    'CanCS': '#fdb462',\n",
      "    'BenCS': '#bc80bd'\n",
      "}"
     ],
     "language": "python",
     "metadata": {},
     "outputs": [],
     "prompt_number": 3
    },
    {
     "cell_type": "heading",
     "level": 1,
     "metadata": {},
     "source": [
      "Functions"
     ]
    },
    {
     "cell_type": "code",
     "collapsed": true,
     "input": [
      "def load_total_var(EBU, VAR):\n",
      "    fileDir = '/glade/p/work/rbrady/EBUS_BGC_Variability/' + VAR + '/' + EBU + '/filtered_output/'\n",
      "    ds_forced = xr.open_dataset(fileDir + EBU.lower() + '-' + VAR + '-forced-signal-AW-chavez-800km.nc')\n",
      "    ds_residuals = xr.open_dataset(fileDir + EBU.lower() + '-' + VAR + '-residuals-AW-chavez-800km.nc')\n",
      "    ds_total = ds_residuals + ds_forced\n",
      "    return ds_total"
     ],
     "language": "python",
     "metadata": {},
     "outputs": [],
     "prompt_number": 6
    },
    {
     "cell_type": "code",
     "collapsed": true,
     "input": [
      "def poly_detrend(y, deg=4):\n",
      "    x = np.arange(0, len(y), 1)\n",
      "    coeffs = np.polyfit(x, y, deg)\n",
      "    poly = np.poly1d(coeffs)\n",
      "    yp = np.polyval(poly, x)\n",
      "    return (y - yp)"
     ],
     "language": "python",
     "metadata": {},
     "outputs": [],
     "prompt_number": 104
    },
    {
     "cell_type": "heading",
     "level": 1,
     "metadata": {},
     "source": [
      "pCO$_{2}$ Decomposition"
     ]
    },
    {
     "cell_type": "code",
     "collapsed": true,
     "input": [
      "EBU = 'BenCS'"
     ],
     "language": "python",
     "metadata": {},
     "outputs": [],
     "prompt_number": 297
    },
    {
     "cell_type": "code",
     "collapsed": true,
     "input": [
      "# Load in pCO2 time series. Need to combine the forced + residuals to get back to the total pCO2\n",
      "# (1) Load in raw pCO2\n",
      "pco2_total = load_total_var(EBU, 'pCO2SURF')\n",
      "sst_total = load_total_var(EBU, 'SST')\n",
      "# (2) Apply the Takashi method to decompose pCO2\n",
      "pCO2 = pco2_total['pCO2SURF_AW']\n",
      "SST = sst_total['SST_AW']\n",
      "pCO2_T = pCO2.mean(dim='time') * np.exp(0.0423 * (SST - SST.mean(dim='time')))\n",
      "pCO2_nonT = pCO2 * np.exp(0.0423 * (SST.mean(dim='time') - SST))"
     ],
     "language": "python",
     "metadata": {},
     "outputs": [],
     "prompt_number": 298
    },
    {
     "cell_type": "code",
     "collapsed": false,
     "input": [
      "# Detrend all the time series (especially the nonT component)\n",
      "for idx in np.arange(0, 34, 1):\n",
      "    pCO2_T[idx] = poly_detrend(pCO2_T[idx])\n",
      "    pCO2_nonT[idx] = poly_detrend(pCO2_nonT[idx])"
     ],
     "language": "python",
     "metadata": {},
     "outputs": [],
     "prompt_number": 299
    },
    {
     "cell_type": "code",
     "collapsed": false,
     "input": [
      "# Store into dataset\n",
      "pCO2_T.name = 'pCO2SURF_T'\n",
      "pCO2_nonT.name = 'pCO2SURF_nonT'\n",
      "pCO2_T = pCO2_T.to_dataset()\n",
      "pCO2_nonT = pCO2_nonT.to_dataset()"
     ],
     "language": "python",
     "metadata": {},
     "outputs": [],
     "prompt_number": 300
    },
    {
     "cell_type": "code",
     "collapsed": false,
     "input": [
      "# Save away! Making it the same format as other variables for ease.\n",
      "directory = '/glade/p/work/rbrady/EBUS_BGC_Variability/pCO2SURF_T/'\n",
      "pCO2_T.to_netcdf(directory + EBU.lower() + '-pCO2SURF_T-detrended-AW-chavez-800km.nc')\n",
      "\n",
      "directory = '/glade/p/work/rbrady/EBUS_BGC_Variability/pCO2SURF_nonT/'\n",
      "pCO2_nonT.to_netcdf(directory + EBU.lower() + '-pCO2SURF_nonT-detrended-AW-chavez-800km.nc')"
     ],
     "language": "python",
     "metadata": {},
     "outputs": [],
     "prompt_number": 301
    },
    {
     "cell_type": "heading",
     "level": 1,
     "metadata": {},
     "source": [
      "Methodology Figures for Presentation, etc."
     ]
    },
    {
     "cell_type": "code",
     "collapsed": true,
     "input": [
      "EBU = 'CalCS'\n",
      "pco2_total = load_total_var(EBU, 'pCO2SURF')\n",
      "sst_total = load_total_var(EBU, 'SST')\n",
      "pCO2 = pco2_total['pCO2SURF_AW']\n",
      "SST = sst_total['SST_AW']\n",
      "pCO2_T = pCO2.mean(dim='time') * np.exp(0.0423 * (SST - SST.mean(dim='time')))\n",
      "pCO2_nonT = pCO2 * np.exp(0.0423 * (SST.mean(dim='time') - SST))"
     ],
     "language": "python",
     "metadata": {},
     "outputs": [],
     "prompt_number": 342
    },
    {
     "cell_type": "heading",
     "level": 1,
     "metadata": {},
     "source": [
      "Total pCO$_{2}$"
     ]
    },
    {
     "cell_type": "code",
     "collapsed": false,
     "input": [
      "fig = plt.figure(figsize=(12,4))\n",
      "ax = fig.add_subplot(111)\n",
      "tot_pco2 = pco2_total['pCO2SURF_AW'][0].values\n",
      "plt.plot(pco2_total['time'].values, tot_pco2, color='k')\n",
      "ax.grid('on')\n",
      "ax.tick_params(axis='both', which='major', labelsize=16)\n",
      "ax.set_title('CalCS Total pCO$_{2}$ [Simulation 001]', fontsize=20)\n",
      "plt.savefig('calcs-total-pco2-001.png', dpi=300)"
     ],
     "language": "python",
     "metadata": {},
     "outputs": [],
     "prompt_number": 330
    },
    {
     "cell_type": "heading",
     "level": 1,
     "metadata": {},
     "source": [
      "Partitioned pCO2"
     ]
    },
    {
     "cell_type": "code",
     "collapsed": false,
     "input": [
      "fig = plt.figure(figsize=(12,4))\n",
      "ax = fig.add_subplot(111)\n",
      "pCO2_Tplot = pCO2_T[0].values\n",
      "plt.plot(pco2_total['time'].values, pCO2_Tplot, color='r')\n",
      "ax.grid('on')\n",
      "ax.tick_params(axis='both', which='major', labelsize=16)\n",
      "ax.set_title('CalCS Temperature-Dependent pCO$_{2}$ [Simulation 001]', fontsize=20)\n",
      "plt.savefig('calcs-pCO2_T-pco2-001.png', dpi=300)"
     ],
     "language": "python",
     "metadata": {},
     "outputs": [],
     "prompt_number": 343
    },
    {
     "cell_type": "code",
     "collapsed": false,
     "input": [
      "fig = plt.figure(figsize=(12,4))\n",
      "ax = fig.add_subplot(111)\n",
      "pCO2_nonTplot = pCO2_nonT[0].values\n",
      "plt.plot(pco2_total['time'].values, pCO2_nonTplot, color='b')\n",
      "ax.grid('on')\n",
      "ax.tick_params(axis='both', which='major', labelsize=16)\n",
      "ax.set_title('CalCS non-Temperature-Dependent pCO$_{2}$ [Simulation 001]', fontsize=20)\n",
      "plt.savefig('calcs-pCO2_nonT-pco2-001.png', dpi=300)"
     ],
     "language": "python",
     "metadata": {},
     "outputs": [],
     "prompt_number": 345
    },
    {
     "cell_type": "heading",
     "level": 1,
     "metadata": {},
     "source": [
      "Detrending PCO2 Components"
     ]
    },
    {
     "cell_type": "code",
     "collapsed": false,
     "input": [
      "x = np.arange(0, len(y), 1)\n",
      "y = pCO2_nonT[0].values\n",
      "\n",
      "coeffs = np.polyfit(x, y, deg=4)\n",
      "poly = np.poly1d(coeffs)\n",
      "yp = np.polyval(poly, x)\n",
      "\n",
      "fig = plt.figure(figsize=(12,6))\n",
      "ax = fig.add_subplot(211)\n",
      "plt.plot(pco2_total['time'].values, y, color='b')\n",
      "plt.plot(pco2_total['time'].values, yp, color='k', lw=2)\n",
      "ax.grid('on')\n",
      "ax.tick_params(axis='both', which='major', labelsize=16)\n",
      "ax.set_title('Detrending CalCS non-Temperature-Dependent pCO$_{2}$ [Simulation 001]', fontsize=20)\n",
      "\n",
      "ax2 = fig.add_subplot(212)\n",
      "plt.plot(pco2_total['time'].values, (y-yp), color='k')\n",
      "ax2.grid('on')\n",
      "ax2.tick_params(axis='both', which='major', labelsize=16)\n",
      "plt.savefig('calcs-pCO2_nonT-pco2-detrending-001.png', dpi=300)"
     ],
     "language": "python",
     "metadata": {},
     "outputs": [],
     "prompt_number": 360
    }
   ],
   "metadata": {}
  }
 ]
}