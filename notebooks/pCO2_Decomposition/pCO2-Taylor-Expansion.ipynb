{
 "cells": [
  {
   "cell_type": "markdown",
   "metadata": {},
   "source": [
    "# pCO$_{2}$ Taylor Expansion\n",
    "Conducting a Taylor Expansion of the impacts of DIC, Alk, SST, and SALT on pCO$_{2}$ during a climate variability event in EBUS. This is inspired from Nikki Lovenduski's 2007 and 2015 papers.\n",
    "\n",
    "----\n",
    "\n",
    "### Expansion\n",
    "\n",
    "$ \\Delta pCO_{2} = \\frac{\\partial pCO_{2}}{\\partial DIC}\\Delta DIC + \\frac{\\partial pCO_{2}}{\\partial ALK}\\Delta ALK + \\frac{\\partial pCO_{2}}{\\partial SST}\\Delta SST + \\frac{\\partial pCO_{2}}{\\partial SALT}\\Delta SALT $\n",
    "\n",
    "### Sensitivity Terms\n",
    "\n",
    "$ \t\\frac{\\partial pCO_{2}}{\\partial SST} \\approx 0.0423^{o}C^{-1}\\cdot pCO_{2} $\n",
    "\n",
    "$ \t\\frac{\\partial pCO_{2}}{\\partial SALT} \\approx \\frac{pCO_{2}}{SALT} $\n",
    "\n",
    "$ \t\\frac{\\partial pCO_{2}}{\\partial DIC} = \\frac{pCO_{2}}{DIC}\\gamma_{DIC} $\n",
    "\n",
    "\n",
    "$ \t\\frac{\\partial pCO_{2}}{\\partial ALK} = \\frac{pCO_{2}}{ALK}\\gamma_{ALK} $\n",
    "\n",
    "\n",
    "### Buffer Factors\n",
    "$ \\gamma_{DIC} = \\frac{3\\cdot ALK\\cdot DIC - 2DIC^{2}}{(2DIC - ALK)(ALK - DIC)} $\n",
    "\n",
    "$ \\gamma_{ALK} = - \\frac{ALK^{2}}{(2DIC - ALK)(ALK-DIC)} $\n"
   ]
  },
  {
   "cell_type": "code",
   "execution_count": 124,
   "metadata": {
    "collapsed": true
   },
   "outputs": [],
   "source": [
    "import glob\n",
    "import numpy as np\n",
    "from numpy import mean\n",
    "import pandas as pd\n",
    "import xarray as xr\n",
    "import matplotlib.pyplot as plt\n",
    "%matplotlib inline\n",
    "import seaborn as sns"
   ]
  },
  {
   "cell_type": "code",
   "execution_count": 198,
   "metadata": {
    "collapsed": true
   },
   "outputs": [],
   "source": [
    "ens = ['001', '002', '009', '010', '011',\n",
    "       '012', '013', '014', '015', '016',\n",
    "       '017', '018', '019', '020', '021',\n",
    "       '022', '023', '024', '025', '026',\n",
    "       '027', '028', '029', '030', '031',\n",
    "       '032', '033', '034', '035', '101',\n",
    "       '102', '103', '104', '105']\n",
    "colors = {\n",
    "    'CalCS': '#80b1d3',\n",
    "    'HumCS': '#fb8072',\n",
    "    'CanCS': '#fdb462',\n",
    "    'BenCS': '#bc80bd'\n",
    "}"
   ]
  },
  {
   "cell_type": "markdown",
   "metadata": {},
   "source": [
    "# Functions"
   ]
  },
  {
   "cell_type": "code",
   "execution_count": 2,
   "metadata": {
    "collapsed": true
   },
   "outputs": [],
   "source": [
    "def load_forced_signal(VAR, EBU):\n",
    "    fileDir = '/glade/p/work/rbrady/EBUS_BGC_Variability/' + VAR + '/' + EBU + '/filtered_output/'\n",
    "    fileName = EBU.lower() + '-' + VAR + '-forced-signal-AW-chavez-800km.nc'\n",
    "    ds = xr.open_dataset(fileDir + fileName)\n",
    "    data = ds[VAR + '_AW'].values\n",
    "    return data"
   ]
  },
  {
   "cell_type": "markdown",
   "metadata": {},
   "source": [
    "# Determine Sensitivity Terms"
   ]
  },
  {
   "cell_type": "code",
   "execution_count": null,
   "metadata": {
    "collapsed": true
   },
   "outputs": [],
   "source": [
    "EBUs = ['CalCS', 'HumCS', 'CanCS', 'BenCS']\n",
    "buffers = dict()\n",
    "sensitivities = dict()\n",
    "for idx in EBUs:\n",
    "    pCO2 = load_forced_signal('pCO2SURF', idx)\n",
    "    DIC = load_forced_signal('DIC', idx)\n",
    "    SALT = load_forced_signal('SALT', idx)\n",
    "    ALK = load_forced_signal('ALK', idx)\n",
    "    SST = load_forced_signal('SST', idx)\n",
    "    SALT = load_forced_signal('SALT', idx)\n",
    "    # Compute buffer factors for DIC/ALK.\n",
    "    buffer_factor = dict()\n",
    "    buffer_factor['ALK'] = -mean(ALK)**2 / ((2 * mean(DIC) - mean(ALK)) * (mean(ALK) - mean(DIC)))\n",
    "    buffer_factor['DIC'] = (3*mean(ALK)*mean(DIC) - 2*mean(DIC)**2) / \\\n",
    "                           ((2 * mean(DIC) - mean(ALK)) * (mean(ALK) - mean(DIC)))\n",
    "    # Compute sensitivities\n",
    "    sensitivity = dict()\n",
    "    sensitivity['SST'] = 0.0423 * mean(pCO2)\n",
    "    sensitivity['SALT'] = mean(pCO2)/mean(SALT)\n",
    "    sensitivity['ALK'] = (mean(pCO2)/mean(ALK))*buffer_factor['ALK']\n",
    "    sensitivity['DIC'] = (mean(pCO2)/mean(DIC))*buffer_factor['DIC']\n",
    "    # Place in final arrays.\n",
    "    buffers[idx] = buffer_factor\n",
    "    sensitivities[idx] = sensitivity"
   ]
  },
  {
   "cell_type": "code",
   "execution_count": null,
   "metadata": {
    "collapsed": true
   },
   "outputs": [],
   "source": [
    "# Make them Pandas!\n",
    "buffers = pd.DataFrame(data=buffers)\n",
    "sensitivities = pd.DataFrame(data=sensitivities)"
   ]
  },
  {
   "cell_type": "code",
   "execution_count": null,
   "metadata": {},
   "outputs": [],
   "source": [
    "# Save for later!\n",
    "directory = '/glade/u/home/rbrady/projects/EBUS_BGC_Variability/data/processed/all-systems/'\n",
    "buffers.to_csv(directory + 'pCO2_buffers_all_systems')\n",
    "sensitivities.to_csv(directory + 'pCO2_sensitivities_all_systems')"
   ]
  },
  {
   "cell_type": "markdown",
   "metadata": {},
   "source": [
    "# Compute Linear Expansion"
   ]
  },
  {
   "cell_type": "code",
   "execution_count": 147,
   "metadata": {},
   "outputs": [],
   "source": [
    "def load_correlations(VAR, EBU, smoothed=True):\n",
    "    fileDir = '/glade/u/home/rbrady/projects/EBUS_BGC_Variability/data/processed/' + \\\n",
    "                EBU.lower() + '/'\n",
    "    if smoothed == False:\n",
    "        fileName = 'unsmoothed_' + VAR + '_vs_enso_' + EBU\n",
    "    else:\n",
    "        fileName = 'smoothed_' + VAR + '_vs_enso_' + EBU        \n",
    "    df = pd.DataFrame.from_csv(fileDir + fileName)\n",
    "    df.index = ens\n",
    "    return df"
   ]
  },
  {
   "cell_type": "code",
   "execution_count": 301,
   "metadata": {
    "collapsed": true
   },
   "outputs": [],
   "source": [
    "def taylor_expansion(EBU):\n",
    "    pCO2_corr = load_correlations('pCO2SURF', EBU)\n",
    "    DIC_corr = load_correlations('DIC', EBU)\n",
    "    ALK_corr = load_correlations('ALK', EBU)\n",
    "    SST_corr = load_correlations('SST', EBU)\n",
    "    SALT_corr = load_correlations('SALT', EBU)\n",
    "    # Just pull out slopes.\n",
    "    pCO2 = pCO2_corr['Slope']\n",
    "    DIC = DIC_corr['Slope']\n",
    "    ALK = ALK_corr['Slope']\n",
    "    SST = SST_corr['Slope']\n",
    "    SALT = SALT_corr['Slope']\n",
    "    # Compute expansion and store as DataFrame.\n",
    "    terms = dict()\n",
    "    terms['DIC'] = DIC * sensitivities[EBU]['DIC']\n",
    "    terms['ALK'] = ALK * sensitivities[EBU]['ALK']\n",
    "    terms['SST'] = SST * sensitivities[EBU]['SST']\n",
    "    terms['SALT'] = SALT * sensitivities[EBU]['SALT']\n",
    "    terms = pd.DataFrame(data=terms)\n",
    "    terms['Total'] = terms.sum(axis=1)\n",
    "    # Indicator for visualization/analysis\n",
    "    # terms['EBUS'] = EBU\n",
    "    return terms"
   ]
  },
  {
   "cell_type": "code",
   "execution_count": 226,
   "metadata": {},
   "outputs": [],
   "source": [
    "# Load in sensitivity/buffer results.\n",
    "fileDir = '/glade/u/home/rbrady/projects/EBUS_BGC_Variability/data/processed/all-systems/'\n",
    "buffers = pd.DataFrame.from_csv(fileDir + 'pCO2_buffers_all_systems')\n",
    "sensitivities = pd.DataFrame.from_csv(fileDir + 'pCO2_sensitivities_all_systems')"
   ]
  },
  {
   "cell_type": "code",
   "execution_count": 309,
   "metadata": {},
   "outputs": [],
   "source": [
    "df_cal = taylor_expansion('CalCS')\n",
    "df_cal = pd.melt(df_cal)\n",
    "df_cal['EBUS'] = 'CalCS'\n",
    "df_hum = taylor_expansion('HumCS')\n",
    "df_hum = pd.melt(df_hum)\n",
    "df_hum['EBUS'] = 'HumCS'\n",
    "frames = [df_cal, df_hum]\n",
    "taylor_terms = pd.concat(frames)"
   ]
  },
  {
   "cell_type": "markdown",
   "metadata": {},
   "source": [
    "# Visualize"
   ]
  },
  {
   "cell_type": "code",
   "execution_count": 327,
   "metadata": {},
   "outputs": [
    {
     "data": {
      "text/plain": [
       "<matplotlib.text.Text at 0x2adac6870290>"
      ]
     },
     "execution_count": 327,
     "metadata": {},
     "output_type": "execute_result"
    },
    {
     "data": {
      "image/png": "[encoded data removed]",
      "text/plain": [
       "<matplotlib.figure.Figure at 0x2adac64f0250>"
      ]
     },
     "metadata": {},
     "output_type": "display_data"
    }
   ],
   "source": [
    "fig = plt.figure(figsize=(8,4))\n",
    "sns.set_style(\"darkgrid\")\n",
    "order = list(['Total', 'DIC', 'ALK', 'SST', 'SALT'])\n",
    "#ax = sns.barplot(x=\"variable\", y=\"value\", data=pd.melt(df_cal), order=order, color=colors[EBU],\n",
    "#                ci=95, capsize=0.1)\n",
    "ax = sns.barplot(x=\"variable\", y=\"value\", data=taylor_terms, hue=\"EBUS\", order=order, \n",
    "                 palette=[colors['CalCS'], colors['HumCS']], capsize=0.1,\n",
    "                ci=95)\n",
    "ax.set_ylabel('Contribution to pCO$_{2}$ Anomaly' + '\\n' + '[$\\mu$atm]', fontsize=16)\n",
    "ax.set_xlabel('')\n",
    "ax.tick_params(axis='both', which='major', labelsize=16)\n",
    "ax.set_title('Taylor Expansion for ENSO', fontsize=18)"
   ]
  },
  {
   "cell_type": "code",
   "execution_count": 329,
   "metadata": {},
   "outputs": [
    {
     "data": {
      "text/plain": [
       "<matplotlib.text.Text at 0x2adac6ce9ed0>"
      ]
     },
     "execution_count": 329,
     "metadata": {},
     "output_type": "execute_result"
    },
    {
     "data": {
      "image/png": "[encoded data removed]",
      "text/plain": [
       "<matplotlib.figure.Figure at 0x2adac6433650>"
      ]
     },
     "metadata": {},
     "output_type": "display_data"
    }
   ],
   "source": [
    "fig = plt.figure(figsize=(8,4))\n",
    "sns.set_style(\"darkgrid\")\n",
    "order = list(['Total', 'DIC', 'ALK', 'SST', 'SALT'])\n",
    "ax = sns.barplot(x=\"variable\", y=\"value\", data=df_cal, order=order, color=colors[EBU],\n",
    "                ci=95, capsize=0.1)\n",
    "ax.set_ylabel('Contribution to pCO$_{2}$ Anomaly' + '\\n' + '[$\\mu$atm]', fontsize=16)\n",
    "ax.set_xlabel('')\n",
    "ax.tick_params(axis='both', which='major', labelsize=16)\n",
    "ax.set_title('Taylor Expansion for ENSO', fontsize=18)"
   ]
  }
 ],
 "metadata": {
  "kernelspec": {
   "display_name": "Python 2",
   "language": "python",
   "name": "python2"
  },
  "language_info": {
   "codemirror_mode": {
    "name": "ipython",
    "version": 2
   },
   "file_extension": ".py",
   "mimetype": "text/x-python",
   "name": "python",
   "nbconvert_exporter": "python",
   "pygments_lexer": "ipython2",
   "version": "2.7.7"
  }
 },
 "nbformat": 4,
 "nbformat_minor": 2
}
