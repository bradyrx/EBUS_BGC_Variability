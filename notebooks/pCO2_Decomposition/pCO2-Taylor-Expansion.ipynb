{
 "metadata": {
  "kernelspec": {
   "display_name": "Python 3",
   "language": "python",
   "name": "python3"
  },
  "language_info": {
   "codemirror_mode": {
    "name": "ipython",
    "version": 3
   },
   "file_extension": ".py",
   "mimetype": "text/x-python",
   "name": "python",
   "nbconvert_exporter": "python",
   "pygments_lexer": "ipython3",
   "version": "3.6.1"
  },
  "name": ""
 },
 "nbformat": 3,
 "nbformat_minor": 0,
 "worksheets": [
  {
   "cells": [
    {
     "cell_type": "markdown",
     "metadata": {},
     "source": [
      "# pCO$_{2}$ Taylor Expansion\n",
      "Conducting a Taylor Expansion of the impacts of DIC, Alk, SST, and SALT on pCO$_{2}$ during a climate variability event in EBUS. This is inspired from Nikki Lovenduski's 2007 and 2015 papers.\n",
      "\n",
      "----\n",
      "\n",
      "### Expansion\n",
      "\n",
      "$ \\Delta pCO_{2} = \\frac{\\partial pCO_{2}}{\\partial DIC}\\Delta DIC + \\frac{\\partial pCO_{2}}{\\partial ALK}\\Delta ALK + \\frac{\\partial pCO_{2}}{\\partial SST}\\Delta SST + \\frac{\\partial pCO_{2}}{\\partial SALT}\\Delta SALT $\n",
      "\n",
      "### Sensitivity Terms\n",
      "\n",
      "$ \t\\frac{\\partial pCO_{2}}{\\partial SST} \\approx 0.0423^{o}C^{-1}\\cdot pCO_{2} $\n",
      "\n",
      "$ \t\\frac{\\partial pCO_{2}}{\\partial SALT} \\approx \\frac{pCO_{2}}{SALT} $\n",
      "\n",
      "$ \t\\frac{\\partial pCO_{2}}{\\partial DIC} = \\frac{pCO_{2}}{DIC}\\gamma_{DIC} $\n",
      "\n",
      "\n",
      "$ \t\\frac{\\partial pCO_{2}}{\\partial ALK} = \\frac{pCO_{2}}{ALK}\\gamma_{ALK} $\n",
      "\n",
      "\n",
      "### Buffer Factors\n",
      "$ \\gamma_{DIC} = \\frac{3\\cdot ALK\\cdot DIC - 2DIC^{2}}{(2DIC - ALK)(ALK - DIC)} $\n",
      "\n",
      "$ \\gamma_{ALK} = - \\frac{ALK^{2}}{(2DIC - ALK)(ALK-DIC)} $\n"
     ]
    },
    {
     "cell_type": "code",
     "collapsed": true,
     "input": [
      "import glob\n",
      "import numpy as np\n",
      "from numpy import mean\n",
      "import pandas as pd\n",
      "import xarray as xr\n",
      "import matplotlib.pyplot as plt\n",
      "%matplotlib inline\n",
      "import seaborn as sns"
     ],
     "language": "python",
     "metadata": {},
     "outputs": [],
     "prompt_number": 1
    },
    {
     "cell_type": "code",
     "collapsed": true,
     "input": [
      "ens = ['001', '002', '009', '010', '011',\n",
      "       '012', '013', '014', '015', '016',\n",
      "       '017', '018', '019', '020', '021',\n",
      "       '022', '023', '024', '025', '026',\n",
      "       '027', '028', '029', '030', '031',\n",
      "       '032', '033', '034', '035', '101',\n",
      "       '102', '103', '104', '105']\n",
      "colors = {\n",
      "    'CalCS': '#5ea46d',\n",
      "    'HumCS': '#9173c8',\n",
      "    'CanCS': '#b78f3b',\n",
      "    'BenCS': '#cd5664'\n",
      "}\n",
      "\n"
     ],
     "language": "python",
     "metadata": {},
     "outputs": [],
     "prompt_number": 2
    },
    {
     "cell_type": "heading",
     "level": 1,
     "metadata": {},
     "source": [
      "Functions"
     ]
    },
    {
     "cell_type": "code",
     "collapsed": true,
     "input": [
      "def load_forced_signal(VAR, EBU):\n",
      "    fileDir = '/glade/p/work/rbrady/EBUS_BGC_Variability/' + VAR + '/' + EBU + '/filtered_output/'\n",
      "    fileName = EBU.lower() + '-' + VAR + '-forced-signal-AW-chavez-800km.nc'\n",
      "    ds = xr.open_dataset(fileDir + fileName)\n",
      "    data = ds[VAR + '_AW'].values\n",
      "    return data"
     ],
     "language": "python",
     "metadata": {},
     "outputs": [],
     "prompt_number": 3
    },
    {
     "cell_type": "heading",
     "level": 1,
     "metadata": {},
     "source": [
      "Determine Sensitivity Terms"
     ]
    },
    {
     "cell_type": "code",
     "collapsed": true,
     "input": [
      "EBUs = ['CalCS', 'HumCS', 'CanCS', 'BenCS']\n",
      "buffers = dict()\n",
      "sensitivities = dict()\n",
      "for idx in EBUs:\n",
      "    pCO2 = load_forced_signal('pCO2SURF', idx)\n",
      "    DIC = load_forced_signal('DIC', idx)\n",
      "    SALT = load_forced_signal('SALT', idx)\n",
      "    ALK = load_forced_signal('ALK', idx)\n",
      "    SST = load_forced_signal('SST', idx)\n",
      "    # Compute buffer factors for DIC/ALK.\n",
      "    buffer_factor = dict()\n",
      "    buffer_factor['ALK'] = -mean(ALK)**2 / ((2 * mean(DIC) - mean(ALK)) * (mean(ALK) - mean(DIC)))\n",
      "    buffer_factor['DIC'] = (3*mean(ALK)*mean(DIC) - 2*mean(DIC)**2) / \\\n",
      "                           ((2 * mean(DIC) - mean(ALK)) * (mean(ALK) - mean(DIC)))\n",
      "    # Compute sensitivities\n",
      "    sensitivity = dict()\n",
      "    sensitivity['SST'] = 0.0423 * mean(pCO2)\n",
      "    sensitivity['SALT'] = mean(pCO2)/mean(SALT)\n",
      "    sensitivity['ALK'] = (mean(pCO2)/mean(ALK))*buffer_factor['ALK']\n",
      "    sensitivity['DIC'] = (mean(pCO2)/mean(DIC))*buffer_factor['DIC']\n",
      "    # Place in final arrays.\n",
      "    buffers[idx] = buffer_factor\n",
      "    sensitivities[idx] = sensitivity"
     ],
     "language": "python",
     "metadata": {},
     "outputs": [],
     "prompt_number": 4
    },
    {
     "cell_type": "code",
     "collapsed": true,
     "input": [
      "# Make them Pandas!\n",
      "buffers = pd.DataFrame(data=buffers)\n",
      "sensitivities = pd.DataFrame(data=sensitivities)"
     ],
     "language": "python",
     "metadata": {},
     "outputs": [],
     "prompt_number": 5
    },
    {
     "cell_type": "code",
     "collapsed": true,
     "input": [
      "# Save for later!\n",
      "directory = '/glade/u/home/rbrady/projects/EBUS_BGC_Variability/data/processed/all-systems/'\n",
      "buffers.to_csv(directory + 'pCO2_buffers_all_systems')\n",
      "sensitivities.to_csv(directory + 'pCO2_sensitivities_all_systems')"
     ],
     "language": "python",
     "metadata": {},
     "outputs": [],
     "prompt_number": null
    },
    {
     "cell_type": "heading",
     "level": 1,
     "metadata": {},
     "source": [
      "Compute Linear Expansion"
     ]
    },
    {
     "cell_type": "code",
     "collapsed": true,
     "input": [
      "def load_correlations(VAR, EBU, climvar, smoothed=True):\n",
      "    fileDir = '/glade/u/home/rbrady/projects/EBUS_BGC_Variability/data/processed/' + \\\n",
      "                EBU.lower() + '/region_correlations/'\n",
      "    if smoothed == False:\n",
      "        fileName = 'unsmoothed_' + VAR + '_vs_' + climvar + '_' + EBU\n",
      "    else:\n",
      "        fileName = 'smoothed_' + VAR + '_vs_smoothed_' + climvar + '_' + EBU        \n",
      "    df = pd.DataFrame.from_csv(fileDir + fileName)\n",
      "    df.index = ens\n",
      "    return df"
     ],
     "language": "python",
     "metadata": {},
     "outputs": [],
     "prompt_number": 7
    },
    {
     "cell_type": "code",
     "collapsed": true,
     "input": [
      "def taylor_expansion(EBU, climvar):\n",
      "    pCO2_corr = load_correlations('pCO2SURF', EBU, climvar)\n",
      "    DIC_corr = load_correlations('DIC', EBU, climvar)\n",
      "    ALK_corr = load_correlations('ALK', EBU, climvar)\n",
      "    SST_corr = load_correlations('SST', EBU, climvar)\n",
      "    SALT_corr = load_correlations('SALT', EBU, climvar)\n",
      "    # Drop where p-value is insignificant.\n",
      "    conditions = (pCO2_corr['P-Value'] < 0.05) & (DIC_corr['P-Value'] < 0.05) & (ALK_corr['P-Value'] < 0.05) & \\\n",
      "        (SST_corr['P-Value'] < 0.05) & (SALT_corr['P-Value'] < 0.05)\n",
      "    pCO2_corr = pCO2_corr.where(conditions).dropna()\n",
      "    DIC_corr = DIC_corr.where(conditions).dropna()\n",
      "    ALK_corr = ALK_corr.where(conditions).dropna()\n",
      "    SST_corr = SST_corr.where(conditions).dropna()\n",
      "    SALT_corr = SALT_corr.where(conditions).dropna()\n",
      "    # Just pull out slopes.\n",
      "    pCO2 = pCO2_corr['Slope']\n",
      "    DIC = DIC_corr['Slope']\n",
      "    ALK = ALK_corr['Slope']\n",
      "    SST = SST_corr['Slope']\n",
      "    SALT = SALT_corr['Slope']\n",
      "    # Compute expansion and store as DataFrame.\n",
      "    terms = dict()\n",
      "    terms['DIC'] = DIC * sensitivities[EBU]['DIC']\n",
      "    terms['ALK'] = ALK * sensitivities[EBU]['ALK']\n",
      "    terms['SST'] = SST * sensitivities[EBU]['SST']\n",
      "    terms['SALT'] = SALT * sensitivities[EBU]['SALT']\n",
      "    terms = pd.DataFrame(data=terms)\n",
      "    terms['Total'] = terms.sum(axis=1)\n",
      "    return terms, conditions"
     ],
     "language": "python",
     "metadata": {},
     "outputs": [],
     "prompt_number": 8
    },
    {
     "cell_type": "code",
     "collapsed": true,
     "input": [
      "def setup_dataframes(EBU, climvar):\n",
      "    df, conditions = taylor_expansion(EBU, climvar)\n",
      "    df = pd.melt(df)\n",
      "    df['EBUS'] = EBU\n",
      "    return df, conditions"
     ],
     "language": "python",
     "metadata": {},
     "outputs": [],
     "prompt_number": 9
    },
    {
     "cell_type": "heading",
     "level": 1,
     "metadata": {},
     "source": [
      "Run Computations"
     ]
    },
    {
     "cell_type": "code",
     "collapsed": true,
     "input": [
      "# Load in sensitivity/buffer results.\n",
      "fileDir = '/glade/u/home/rbrady/projects/EBUS_BGC_Variability/data/processed/all-systems/'\n",
      "buffers = pd.DataFrame.from_csv(fileDir + 'pCO2_buffers_all_systems')\n",
      "sensitivities = pd.DataFrame.from_csv(fileDir + 'pCO2_sensitivities_all_systems')"
     ],
     "language": "python",
     "metadata": {},
     "outputs": [],
     "prompt_number": 10
    },
    {
     "cell_type": "code",
     "collapsed": true,
     "input": [
      "climvar = 'amo'\n",
      "df_cal, calConditions = setup_dataframes('CalCS', climvar)\n",
      "df_hum, humConditions = setup_dataframes('HumCS', climvar)\n",
      "df_can, canConditions = setup_dataframes('CanCS', climvar)\n",
      "df_ben, benConditions = setup_dataframes('BenCS', climvar)\n",
      "frames = [df_cal, df_hum, df_can, df_ben]\n",
      "taylor_terms = pd.concat(frames)"
     ],
     "language": "python",
     "metadata": {},
     "outputs": [],
     "prompt_number": 11
    },
    {
     "cell_type": "heading",
     "level": 1,
     "metadata": {},
     "source": [
      "Compare Approximation to Model Regression"
     ]
    },
    {
     "cell_type": "code",
     "collapsed": false,
     "input": [
      "EBU = \"BenCS\"\n",
      "climvar = \"amo\"\n",
      "if EBU == 'CalCS':\n",
      "    df = df_cal.copy()\n",
      "    conditions = calConditions\n",
      "elif EBU == 'HumCS':\n",
      "    df = df_hum.copy()\n",
      "    conditions = humConditions\n",
      "elif EBU == 'CanCS':\n",
      "    df = df_can.copy()\n",
      "    conditions = canConditions\n",
      "elif EBU == 'BenCS':\n",
      "    df = df_ben.copy()\n",
      "    conditions = benConditions\n",
      "###\n",
      "directory = '/glade/u/home/rbrady/projects/EBUS_BGC_Variability/data/processed/' + EBU.lower() + \\\n",
      "    '/region_correlations/'\n",
      "model_regression = pd.DataFrame.from_csv(directory + 'smoothed_pCO2SURF_vs_smoothed_' + climvar + '_' + EBU)\n",
      "model_regression.index = ens\n",
      "model_regression = model_regression.where(conditions).dropna()\n",
      "###\n",
      "print EBU + \"/\" + climvar.upper() + \" Decomposition\"\n",
      "print '-------'\n",
      "print('Model Regression: {}').format(np.mean(model_regression['Slope']))\n",
      "print('Taylor Expansion: {}').format(np.mean(df[df['variable']=='Total']).value)"
     ],
     "language": "python",
     "metadata": {},
     "outputs": [],
     "prompt_number": 30
    },
    {
     "cell_type": "heading",
     "level": 1,
     "metadata": {},
     "source": [
      "Visualize"
     ]
    },
    {
     "cell_type": "code",
     "collapsed": false,
     "input": [
      "EBUs = ['CalCS', 'CanCS', 'HumCS', 'BenCS']\n",
      "frames = [df_cal, df_can, df_hum, df_ben]\n",
      "order = list(['Total', 'DIC', 'ALK', 'SST', 'SALT'])\n",
      "sns.set_style('whitegrid')\n",
      "fig = plt.figure(figsize=(12,8))\n",
      "if climvar == \"enso\" or climvar==\"amo\":\n",
      "    st = fig.suptitle('Taylor Expansion for 1$^{o}$C Warming of ' + climvar.upper(), fontsize=24)\n",
      "else:\n",
      "    st = fig.suptitle('Taylor Expansion for 1$\\sigma$ of ' + climvar.upper(), fontsize=24)\n",
      "for i, EBU in enumerate(EBUs):\n",
      "    ax = fig.add_subplot(2, 2, i+1)\n",
      "    bars = sns.barplot(x='variable', y='value', data=frames[i], ax=ax, \n",
      "               ci=95, capsize=0.1, errwidth=1, color=colors[EBU], order=order)\n",
      "    # Only label x axis on bottom\n",
      "    if i == 0 or i == 1:\n",
      "        bars.set_xticklabels('')\n",
      "    if i == 0 or i == 2:\n",
      "        bars.set_ylabel('Contribution to pCO$_{2}$ Anomaly' + '\\n' + '[$\\mu$atm]',\n",
      "                        fontsize=15)\n",
      "    else:\n",
      "        bars.set_ylabel('')\n",
      "    bars.set_xlabel('')\n",
      "    bars.tick_params(axis='both', which='major', labelsize=15)\n",
      "    # Annotate to tell EBUS\n",
      "    bars.set_title(EBU + ' (N = ' + str(len(frames[i][frames[i]['variable']=='ALK'])) + ')', loc='left', fontsize=15)\n",
      "    # + + + SET Y LIMS FOR EQUAL COMPARISON\n",
      "    if climvar == \"enso\" and i != 2:\n",
      "        bars.set_ylim([-6, 6])\n",
      "    elif climvar == \"pdo\":\n",
      "        bars.set_ylim([-14, 8])\n",
      "    elif climvar == \"amo\":\n",
      "        bars.set_ylim([-50, 80])\n",
      "    elif climvar == \"sam\":\n",
      "        bars.set_ylim([-15, 30])\n",
      "    \n",
      "#fig.tight_layout()\n",
      "fig.subplots_adjust(top=0.85)\n",
      "st.set_y(0.95)\n",
      "sns.despine()\n",
      "#plt.savefig('/glade/u/home/rbrady/projects/EBUS_BGC_Variability/reports/figs/all-systems/' + \\\n",
      "#           'taylor_expansions/taylor-expansion-' + climvar.upper() + '-pCO2-PVALUEREMOVED-smoothedClimate.png', dpi=300)"
     ],
     "language": "python",
     "metadata": {},
     "outputs": [],
     "prompt_number": 11
    },
    {
     "cell_type": "markdown",
     "metadata": {},
     "source": [
      "# Brute Force Visualize True Totals for ICDC Poster\n",
      "- Will fix this later. Just creating an array of delta pCO2 'true' values from the compare approximation vs. true total cell"
     ]
    },
    {
     "cell_type": "code",
     "collapsed": false,
     "input": [
      "TOTALS = [-4.95, -5.95, 32.60, 0.02]\n",
      "EBUs = ['CalCS', 'CanCS', 'HumCS', 'BenCS']\n",
      "frames = [df_cal, df_can, df_hum, df_ben]\n",
      "order = list(['Total', 'DIC', 'ALK', 'SST', 'SALT'])\n",
      "sns.set_style('whitegrid')\n",
      "fig = plt.figure(figsize=(12,8))\n",
      "if climvar == \"enso\" or climvar==\"amo\":\n",
      "    st = fig.suptitle('Taylor Expansion for 1$^{o}$C Warming of ' + climvar.upper(), fontsize=24)\n",
      "else:\n",
      "    st = fig.suptitle('Taylor Expansion for 1$\\sigma$ of ' + climvar.upper(), fontsize=24)\n",
      "for i, EBU in enumerate(EBUs):\n",
      "    ax = fig.add_subplot(2, 2, i+1)\n",
      "    bars = sns.barplot(x='variable', y='value', data=frames[i], ax=ax, \n",
      "               ci=95, capsize=0.1, errwidth=1, color=colors[EBU], order=order)\n",
      "    # Plot total from delta pCO2 regression\n",
      "    plt.plot(0, TOTALS[i], '*k', markersize=10)\n",
      "    # Only label x axis on bottom\n",
      "    if i == 0 or i == 1:\n",
      "        bars.set_xticklabels('')\n",
      "    if i == 0 or i == 2:\n",
      "        bars.set_ylabel('Contribution to pCO$_{2}$ Anomaly' + '\\n' + '[$\\mu$atm]',\n",
      "                        fontsize=15)\n",
      "    else:\n",
      "        bars.set_ylabel('')\n",
      "    bars.set_xlabel('')\n",
      "    bars.tick_params(axis='both', which='major', labelsize=15)\n",
      "    # Annotate to tell EBUS\n",
      "    bars.set_title(EBU + ' (N = ' + str(len(frames[i][frames[i]['variable']=='ALK'])) + ')', loc='left', fontsize=15)\n",
      "    # + + + SET Y LIMS FOR EQUAL COMPARISON\n",
      "    if climvar == \"enso\" and i != 2:\n",
      "        bars.set_ylim([-6, 6])\n",
      "    elif climvar == \"pdo\":\n",
      "        bars.set_ylim([-14, 8])\n",
      "    elif climvar == \"amo\":\n",
      "        bars.set_ylim([-50, 80])\n",
      "    elif climvar == \"sam\":\n",
      "        bars.set_ylim([-15, 30])\n",
      "    \n",
      "#fig.tight_layout()\n",
      "fig.subplots_adjust(top=0.85)\n",
      "st.set_y(0.95)\n",
      "sns.despine()\n",
      "plt.savefig('/glade/u/home/rbrady/projects/EBUS_BGC_Variability/reports/figs/all-systems/' + \\\n",
      "           'taylor_expansions/taylor-expansion-' + climvar.upper() + '-pCO2-PVALUEREMOVED-smoothedClimate.eps', \n",
      "            transparent=True, format='eps', bbox_inches='tight', pad_inches=1, dpi=1000)"
     ],
     "language": "python",
     "metadata": {},
     "outputs": [],
     "prompt_number": 32
    }
   ],
   "metadata": {}
  }
 ]
}