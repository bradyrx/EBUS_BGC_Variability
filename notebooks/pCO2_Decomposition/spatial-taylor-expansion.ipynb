{
 "cells": [
  {
   "cell_type": "markdown",
   "metadata": {},
   "source": [
    "# Spatial Taylor Expansion\n",
    "Instead of computing the term-by-term Taylor Expansion for pCO$_{2}$ over the whole region, we now move on to compute the Taylor Expansion for each grid cell in the region. This is similar to the spatial plots we made for spatial correlations. Hopefully it can give us an idea of the patterns that may emerge in a given region. The goal is to make this into a standalone .py script."
   ]
  },
  {
   "cell_type": "code",
   "execution_count": 581,
   "metadata": {
    "collapsed": true
   },
   "outputs": [],
   "source": [
    "import numpy as np\n",
    "import pandas as pd\n",
    "import xarray as xr\n",
    "from scipy import stats\n",
    "import matplotlib.pyplot as plt\n",
    "%matplotlib inline\n",
    "from mpl_toolkits.basemap import Basemap"
   ]
  },
  {
   "cell_type": "markdown",
   "metadata": {},
   "source": [
    "# CalCS Practice\n"
   ]
  },
  {
   "cell_type": "code",
   "execution_count": 515,
   "metadata": {
    "collapsed": true
   },
   "outputs": [],
   "source": [
    "def create_term(ds, var):\n",
    "    \"\"\"\n",
    "    Input the post-regression spatial dataset and a variable name. This will return a DataArray that has\n",
    "    computed the taylor expansion term value and has named the DataArray properly.\n",
    "    \"\"\"\n",
    "    term = ds['sens_' + var] * ds[var + '_slopes']\n",
    "    term.name = var + '_term'\n",
    "    return term"
   ]
  },
  {
   "cell_type": "code",
   "execution_count": 426,
   "metadata": {
    "collapsed": true
   },
   "outputs": [],
   "source": [
    "fileDir = '/glade/u/home/rbrady/projects/EBUS_BGC_Variability/data/processed/calcs/pco2_taylor_spatial/calcs-pco2-taylor-spatial-vs-nino34-smoothed-pRemoved.nc'\n",
    "ds = xr.open_dataset(fileDir)"
   ]
  },
  {
   "cell_type": "code",
   "execution_count": 561,
   "metadata": {},
   "outputs": [],
   "source": [
    "# Term-by-term Taylor Expansion\n",
    "dic_term = create_term(ds, 'DIC')\n",
    "alk_term = create_term(ds, 'ALK')\n",
    "sst_term = create_term(ds, 'SST')\n",
    "salt_term = create_term(ds, 'SALT')\n",
    "\n",
    "# Total terms\n",
    "approx_total = dic_term + alk_term + sst_term + salt_term\n",
    "approx_total.name = 'approx_total'\n",
    "model_total = ds['pCO2SURF_slopes']\n",
    "model_total.name = 'model_total'\n",
    "\n",
    "# Only include grid cells where every term has p < 0.05\n",
    "conditions = (~np.isnan(dic_term)) & (~np.isnan(alk_term)) & \\\n",
    "             (~np.isnan(sst_term)) & (~np.isnan(salt_term))\n",
    "\n",
    "# Create new datset for these.\n",
    "taylor_expansion = xr.merge([dic_term, alk_term, sst_term, salt_term, approx_total, model_total])\n",
    "taylor_expansion = taylor_expansion.where(conditions)"
   ]
  },
  {
   "cell_type": "markdown",
   "metadata": {},
   "source": [
    "# Visualization"
   ]
  },
  {
   "cell_type": "code",
   "execution_count": 582,
   "metadata": {
    "collapsed": true
   },
   "outputs": [],
   "source": [
    "def visual_bounds(EBU):\n",
    "    if EBU == \"CalCS\":\n",
    "        lat1 = 25\n",
    "        lat2 = 43\n",
    "        lon1 = -133\n",
    "        lon2 = -110\n",
    "    elif EBU == 'HumCS':\n",
    "        lat1 = -20\n",
    "        lat2 = -2\n",
    "        lon1 = -90\n",
    "        lon2 = -70\n",
    "    elif EBU == 'CanCS':\n",
    "        lat1 = 10\n",
    "        lat2 = 28\n",
    "        lon1 = -25\n",
    "        lon2 = -10\n",
    "    elif EBU == 'BenCS':\n",
    "        lat1 = -35\n",
    "        lat2 = -15\n",
    "        lon1 = 5\n",
    "        lon2 = 20\n",
    "    return lat1,lat2,lon1,lon2"
   ]
  },
  {
   "cell_type": "code",
   "execution_count": null,
   "metadata": {
    "collapsed": true
   },
   "outputs": [],
   "source": [
    "def setup_map(ax, lat1, lat2, lon1, lon2):\n",
    "    m = Basemap(projection='merc',\n",
    "                lat_0=(lat1+lat2)/2,\n",
    "                lon_0=(lon1+lon2)/2,\n",
    "                #width=(2000*1000),\n",
    "                #height=(2000*1000),\n",
    "                llcrnrlon=lon1,\n",
    "                urcrnrlon=lon2,\n",
    "                llcrnrlat=lat1,\n",
    "                urcrnrlat=lat2,\n",
    "                fix_aspect=False,\n",
    "                resolution='i')\n",
    "    m.drawcoastlines(color='#D3D3D3')\n",
    "    #m.drawcountries()\n",
    "    #m.drawstates()\n",
    "    m.fillcontinents(color='#D3D3D3')\n",
    "    m.drawmapboundary(fill_color='white')\n",
    "    m.drawparallels(np.arange(lat1, lat2+1, 3),\n",
    "                   labels=[False,True,False,False], size=20,\n",
    "                   color='w')\n",
    "    m.drawmeridians(np.arange(lon1, lon2+1, 3),\n",
    "                   labels=[False, False, False, False], size='x-large',\n",
    "                   color='w')\n",
    "    return m"
   ]
  },
  {
   "cell_type": "code",
   "execution_count": 579,
   "metadata": {},
   "outputs": [
    {
     "data": {
      "text/plain": [
       "<xarray.Dataset>\n",
       "Dimensions:       (ensemble: 34, nlat: 46, nlon: 40)\n",
       "Coordinates:\n",
       "    z_t           float64 500.0\n",
       "  * nlat          (nlat) int64 265 266 267 268 269 270 271 272 273 274 275 ...\n",
       "  * nlon          (nlon) int64 226 227 228 229 230 231 232 233 234 235 236 ...\n",
       "    TLAT          (nlat, nlon) float64 25.14 25.12 25.09 25.07 25.04 25.02 ...\n",
       "    TLONG         (nlat, nlon) float64 215.0 216.1 217.3 218.4 219.5 220.6 ...\n",
       "    TAREA         (nlat, nlon) float64 nan nan nan nan nan nan nan nan nan ...\n",
       "  * ensemble      (ensemble) int64 0 1 2 3 4 5 6 7 8 9 10 11 12 13 14 15 16 ...\n",
       "Data variables:\n",
       "    DIC_term      (nlat, nlon, ensemble) float64 nan nan nan nan nan nan nan ...\n",
       "    ALK_term      (nlat, nlon, ensemble) float64 nan nan nan nan nan nan nan ...\n",
       "    SST_term      (nlat, nlon, ensemble) float64 nan nan nan nan nan nan nan ...\n",
       "    SALT_term     (nlat, nlon, ensemble) float64 nan nan nan nan nan nan nan ...\n",
       "    approx_total  (nlat, nlon, ensemble) float64 nan nan nan nan nan nan nan ...\n",
       "    model_total   (ensemble, nlat, nlon) float64 nan nan nan nan nan nan nan ..."
      ]
     },
     "execution_count": 579,
     "metadata": {},
     "output_type": "execute_result"
    }
   ],
   "source": [
    "fig = plt.figure(figsize=(16,8))\n",
    "\n",
    "\n",
    "taylor_expansion"
   ]
  }
 ],
 "metadata": {
  "kernelspec": {
   "display_name": "Python 2",
   "language": "python",
   "name": "python2"
  },
  "language_info": {
   "codemirror_mode": {
    "name": "ipython",
    "version": 2
   },
   "file_extension": ".py",
   "mimetype": "text/x-python",
   "name": "python",
   "nbconvert_exporter": "python",
   "pygments_lexer": "ipython2",
   "version": "2.7.7"
  }
 },
 "nbformat": 4,
 "nbformat_minor": 2
}
