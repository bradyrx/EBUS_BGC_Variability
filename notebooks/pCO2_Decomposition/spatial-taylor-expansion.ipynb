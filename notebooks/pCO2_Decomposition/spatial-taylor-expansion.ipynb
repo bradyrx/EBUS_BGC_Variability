{
 "metadata": {
  "kernelspec": {
   "display_name": "Python 3",
   "language": "python",
   "name": "python3"
  },
  "language_info": {
   "codemirror_mode": {
    "name": "ipython",
    "version": 3
   },
   "file_extension": ".py",
   "mimetype": "text/x-python",
   "name": "python",
   "nbconvert_exporter": "python",
   "pygments_lexer": "ipython3",
   "version": "3.6.5"
  },
  "name": ""
 },
 "nbformat": 3,
 "nbformat_minor": 0,
 "worksheets": [
  {
   "cells": [
    {
     "cell_type": "markdown",
     "metadata": {},
     "source": [
      "# Spatial Taylor Expansion\n",
      "Instead of computing the term-by-term Taylor Expansion for pCO$_{2}$ over the whole region, we now move on to compute the Taylor Expansion for each grid cell in the region. This is similar to the spatial plots we made for spatial correlations. Hopefully it can give us an idea of the patterns that may emerge in a given region. The goal is to make this into a standalone .py script."
     ]
    },
    {
     "cell_type": "code",
     "collapsed": false,
     "input": [
      "import os\n",
      "import numpy as np\n",
      "import pandas as pd\n",
      "import xarray as xr\n",
      "from scipy import stats\n",
      "import matplotlib.pyplot as plt\n",
      "%matplotlib inline\n",
      "#from mpl_toolkits.basemap import Basemap\n",
      "import cmocean.cm as cm"
     ],
     "language": "python",
     "metadata": {},
     "outputs": [],
     "prompt_number": 2
    },
    {
     "cell_type": "heading",
     "level": 1,
     "metadata": {},
     "source": [
      "Computations"
     ]
    },
    {
     "cell_type": "code",
     "collapsed": false,
     "input": [
      "def create_term(ds, var):\n",
      "    \"\"\"\n",
      "    Input the post-regression spatial dataset and a variable name. This will return a DataArray that has\n",
      "    computed the taylor expansion term value and has named the DataArray properly.\n",
      "    \"\"\"\n",
      "    term = ds['sens_' + var] * ds[var + '_slopes']\n",
      "    term.name = var + '_term'\n",
      "    return term"
     ],
     "language": "python",
     "metadata": {},
     "outputs": [],
     "prompt_number": 3
    },
    {
     "cell_type": "code",
     "collapsed": false,
     "input": [
      "EBU = 'CalCS'\n",
      "clim = 'nino34'"
     ],
     "language": "python",
     "metadata": {},
     "outputs": [],
     "prompt_number": 4
    },
    {
     "cell_type": "code",
     "collapsed": false,
     "input": [
      "fileDir = '/glade/u/home/rbrady/projects/EBUS_BGC_Variability/data/processed/' + EBU.lower() + \\\n",
      "    '/pco2_taylor_spatial/' \n",
      "fileName = EBU.lower() + '-pco2-taylor-spatial-vs-' + clim + '-smoothed-pRemoved.nc'\n",
      "ds = xr.open_dataset(fileDir + fileName)"
     ],
     "language": "python",
     "metadata": {},
     "outputs": [],
     "prompt_number": 5
    },
    {
     "cell_type": "code",
     "collapsed": false,
     "input": [
      "# Term-by-term Taylor Expansion\n",
      "dic_term = create_term(ds, 'DIC')\n",
      "alk_term = create_term(ds, 'ALK')\n",
      "sst_term = create_term(ds, 'SST')\n",
      "salt_term = create_term(ds, 'SALT')\n",
      "\n",
      "# Total terms\n",
      "approx_total = dic_term + alk_term + sst_term + salt_term\n",
      "approx_total.name = 'approx_total'\n",
      "model_total = ds['pCO2SURF_slopes']\n",
      "model_total.name = 'model_total'\n",
      "\n",
      "# Only include grid cells where every term has p < 0.05\n",
      "conditions = (~np.isnan(dic_term)) & (~np.isnan(alk_term)) & \\\n",
      "             (~np.isnan(sst_term)) & (~np.isnan(salt_term))\n",
      "\n",
      "# Create new datset for these.\n",
      "taylor_expansion = xr.merge([dic_term, alk_term, sst_term, salt_term, approx_total, model_total])\n",
      "taylor_expansion = taylor_expansion.where(conditions)"
     ],
     "language": "python",
     "metadata": {},
     "outputs": [],
     "prompt_number": 7
    },
    {
     "cell_type": "heading",
     "level": 1,
     "metadata": {},
     "source": [
      "Visualization Functions"
     ]
    },
    {
     "cell_type": "code",
     "collapsed": false,
     "input": [
      "def visual_bounds(EBU):\n",
      "    if EBU == \"CalCS\":\n",
      "        lat1 = 34\n",
      "        lat2 = 46\n",
      "        lon1 = -133+360\n",
      "        lon2 = -113+360\n",
      "    elif EBU == 'HumCS':\n",
      "        lat1 = -18\n",
      "        lat2 = -4\n",
      "        lon1 = -90\n",
      "        lon2 = -70\n",
      "    elif EBU == 'CanCS':\n",
      "        lat1 = 10\n",
      "        lat2 = 25\n",
      "        lon1 = -24\n",
      "        lon2 = -11\n",
      "    elif EBU == 'BenCS':\n",
      "        lat1 = -35\n",
      "        lat2 = -15\n",
      "        lon1 = 5\n",
      "        lon2 = 20\n",
      "    return lat1,lat2,lon1,lon2"
     ],
     "language": "python",
     "metadata": {},
     "outputs": [],
     "prompt_number": null
    },
    {
     "cell_type": "code",
     "collapsed": false,
     "input": [
      "def setup_map(ax, lat1, lat2, lon1, lon2):\n",
      "    m = Basemap(projection='merc',\n",
      "                lat_0=(lat1+lat2)/2,\n",
      "                lon_0=(lon1+lon2)/2,\n",
      "                llcrnrlon=lon1,\n",
      "                urcrnrlon=lon2,\n",
      "                llcrnrlat=lat1,\n",
      "                urcrnrlat=lat2,\n",
      "                fix_aspect=False,\n",
      "                resolution='c')\n",
      "    m.drawcoastlines(color='k', linewidth=1)\n",
      "#    m.fillcontinents(color='#D3D3D3')\n",
      "    m.drawmapboundary(fill_color='white')\n",
      "#    m.drawparallels(np.arange(lat1, lat2+1, 3),\n",
      "#                   labels=[False,False,False,False], size=20,\n",
      "#                   color='w')\n",
      "#    m.drawmeridians(np.arange(lon1, lon2+1, 3),\n",
      "#                   labels=[False, False, False, False], size='x-large',\n",
      "#                   color='w')\n",
      "    return m"
     ],
     "language": "python",
     "metadata": {},
     "outputs": [],
     "prompt_number": null
    },
    {
     "cell_type": "heading",
     "level": 1,
     "metadata": {},
     "source": [
      "Visualization"
     ]
    },
    {
     "cell_type": "code",
     "collapsed": false,
     "input": [
      "def mean_map_term(ax, data_term, vmin=-5, vmax=5, cmap='BrBG_r'):\n",
      "    lat1,lat2,lon1,lon2 = visual_bounds(EBU)\n",
      "    m = setup_map(ax1, lat1, lat2, lon1, lon2)\n",
      "    data = taylor_expansion[data_term].mean(dim='ensemble').values\n",
      "    data = np.ma.array(data, mask=np.isnan(data))\n",
      "    m.pcolor(lon-1, lat, data, latlon=True, edgecolor='#D3D3D3',\n",
      "                 vmin=vmin, vmax=vmax, cmap=cmap, snap=False)\n",
      "    plt.title(data_term[0:-5], fontsize=20)\n",
      "    return m"
     ],
     "language": "python",
     "metadata": {},
     "outputs": [],
     "prompt_number": null
    },
    {
     "cell_type": "code",
     "collapsed": false,
     "input": [
      "def var_map_term(ax, data_term, vmin=0, vmax=6, cmap='Purples'):\n",
      "    lat1,lat2,lon1,lon2 = visual_bounds(EBU)\n",
      "    m = setup_map(ax1, lat1, lat2, lon1, lon2)\n",
      "    data = taylor_expansion[data_term].std(dim='ensemble').values\n",
      "    data = np.ma.array(data, mask=np.isnan(data))\n",
      "    m.pcolor(lon-1, lat, data, latlon=True, edgecolor='k',\n",
      "                 vmin=vmin, vmax=vmax, cmap=cmap)\n",
      "    return m"
     ],
     "language": "python",
     "metadata": {},
     "outputs": [],
     "prompt_number": null
    },
    {
     "cell_type": "code",
     "collapsed": false,
     "input": [
      "lon = taylor_expansion['TLONG'].values\n",
      "lat = taylor_expansion['TLAT'].values\n",
      "fig = plt.figure(figsize=(18,7))\n",
      "\n",
      "st = fig.suptitle(EBU + ' pCO$_{2}$ Contributions during 1$^{o}$ ENSO Event', fontsize=24)\n",
      "\n",
      "# TOP ROW (ENSEMBLE MEAN)\n",
      "VMIN = -10; VMAX = 10\n",
      "ax1 = fig.add_subplot(251)\n",
      "m = mean_map_term(ax1, 'approx_total', VMIN, VMAX)\n",
      "ax1.set_title('Total', fontsize=20)\n",
      "\n",
      "# TOP COLORBAR\n",
      "cbar = m.colorbar(location='left', extend='both')\n",
      "cbar.ax.yaxis.set_ticks_position('left')\n",
      "cbar.ax.yaxis.set_tick_params(labelsize=14)\n",
      "cbar.ax.yaxis.set_label_text('$\\Delta$pCO$_{2}$ [$\\mu$atm]', size=18)\n",
      "cbar.ax.yaxis.set_label_position('left')\n",
      "\n",
      "# REMAINING TOP PLOTS\n",
      "ax2 = fig.add_subplot(252)\n",
      "m = mean_map_term(ax2, 'DIC_term', VMIN, VMAX)\n",
      "ax3 = fig.add_subplot(253)\n",
      "m = mean_map_term(ax3, 'ALK_term', VMIN, VMAX)\n",
      "ax4 = fig.add_subplot(254)\n",
      "m = mean_map_term(ax4, 'SST_term', VMIN, VMAX)\n",
      "ax5 = fig.add_subplot(255)\n",
      "m = mean_map_term(ax5, 'SALT_term', VMIN, VMAX)\n",
      "\n",
      "# BOTTOM ROW (STD DEV)\n",
      "VMIN = 0; VMAX = 5;\n",
      "ax6 = fig.add_subplot(256)\n",
      "m = var_map_term(ax6, 'approx_total', VMIN, VMAX)\n",
      "\n",
      "# BOTTOM COLORBAR\n",
      "cbar = m.colorbar(location='left', extend='max', ticks=[0,5,10,15])\n",
      "cbar.ax.yaxis.set_ticks_position('left')\n",
      "cbar.ax.yaxis.set_tick_params(labelsize=14)\n",
      "cbar.ax.yaxis.set_label_text('Std. Deviation [$\\mu$atm]', size=18)\n",
      "cbar.ax.yaxis.set_label_position('left')\n",
      "\n",
      "# REMAINING BOTTOM PLOTS\n",
      "ax7 = fig.add_subplot(257)\n",
      "m = var_map_term(ax7, 'DIC_term', VMIN, VMAX)\n",
      "ax8 = fig.add_subplot(258)\n",
      "m = var_map_term(ax8, 'ALK_term', VMIN, VMAX)\n",
      "ax9 = fig.add_subplot(259)\n",
      "m = var_map_term(ax9, 'SST_term', VMIN, VMAX)\n",
      "ax10 = fig.add_subplot(2, 5, 10)\n",
      "m = var_map_term(ax10, 'SALT_term', VMIN, VMAX)\n",
      "\n",
      "# SUBPLOT PARAMETERS\n",
      "st.set_y(1.05)\n",
      "fig.tight_layout()\n",
      "\n",
      "# OUTPUT\n",
      "directory = '/glade/u/home/rbrady/projects/EBUS_BGC_Variability/reports/figs/' + EBU.lower() + '/taylor_pco2_overhead/'\n",
      "if not os.path.exists(directory):\n",
      "    os.makedirs(directory)\n",
      "fileName = EBU.lower() + '-pco2-spatial-taylor-' + clim + '-bothSmoothed.eps'\n",
      "plt.savefig(directory + fileName, transparent=True, format='eps', bbox_inches='tight',\n",
      "            pad_inches=1, dpi=1000)"
     ],
     "language": "python",
     "metadata": {
      "scrolled": true
     },
     "outputs": [],
     "prompt_number": null
    }
   ],
   "metadata": {}
  }
 ]
}