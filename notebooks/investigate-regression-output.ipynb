{
 "cells": [
  {
   "cell_type": "markdown",
   "metadata": {},
   "source": [
    "# Investigate Regression Output\n",
    "After running EBUS-Extraction to pull out the given upwelling system, I ran the climate-correlation.py script to correlate a near-offshore region of the EBUS with specific climate indices. This saves some CSV files with regression results that will now be interpreted here."
   ]
  },
  {
   "cell_type": "code",
   "execution_count": 1,
   "metadata": {
    "collapsed": true
   },
   "outputs": [],
   "source": [
    "# Numerics\n",
    "import numpy as np\n",
    "import pandas as pd\n",
    "import xarray as xr\n",
    "\n",
    "# Visualization\n",
    "import matplotlib.pyplot as plt\n",
    "%matplotlib inline\n",
    "import seaborn as sns"
   ]
  },
  {
   "cell_type": "markdown",
   "metadata": {},
   "source": [
    "# Constants"
   ]
  },
  {
   "cell_type": "code",
   "execution_count": 2,
   "metadata": {
    "collapsed": true
   },
   "outputs": [],
   "source": [
    "EBUs = ['CalCS', 'HumCS', 'CanCS', 'BenCS']\n",
    "EBU_Atlantic = ['CanCS', 'BenCS']\n",
    "EBU_Pacific = ['CalCS', 'HumCS']\n",
    "colors = {\n",
    "    'CalCS': '#80b1d3',\n",
    "    'HumCS': '#fb8072',\n",
    "    'CanCS': '#fdb462',\n",
    "    'BenCS': '#bc80bd'\n",
    "}\n",
    "ens = ['001', '002', '009', '010', '011',\n",
    "       '012', '013', '014', '015', '016',\n",
    "       '017', '018', '019', '020', '021',\n",
    "       '022', '023', '024', '025', '026',\n",
    "       '027', '028', '029', '030', '031',\n",
    "       '032', '033', '034', '035', '101',\n",
    "       '102', '103', '104', '105']"
   ]
  },
  {
   "cell_type": "markdown",
   "metadata": {},
   "source": [
    "# Functions"
   ]
  },
  {
   "cell_type": "code",
   "execution_count": 3,
   "metadata": {
    "collapsed": true
   },
   "outputs": [],
   "source": [
    "def setup_dataframes(EBU, df1, df2, df3, df4, df5):\n",
    "    fileDir = '/glade/u/home/rbrady/projects/EBUS_BGC_Variability/data/processed/' + EBU.lower() + '/'\n",
    "    df1[EBU] = pd.DataFrame.from_csv(fileDir + 'smoothed_fgco2_vs_enso_' + EBU)\n",
    "    df1[EBU].index = ens\n",
    "    df2[EBU] = pd.DataFrame.from_csv(fileDir + 'smoothed_fgco2_vs_pdo_' + EBU)\n",
    "    df2[EBU].index = ens\n",
    "    df3[EBU] = pd.DataFrame.from_csv(fileDir + 'smoothed_fgco2_vs_amo_' + EBU)\n",
    "    df3[EBU].index = ens\n",
    "    df4[EBU] = pd.DataFrame.from_csv(fileDir + 'smoothed_fgco2_vs_nao_' + EBU)\n",
    "    df4[EBU].index = ens\n",
    "    df5[EBU] = pd.DataFrame.from_csv(fileDir + 'smoothed_fgco2_vs_sam_' + EBU)\n",
    "    df5[EBU].index = ens\n",
    "    return df1, df2, df3, df4, df5"
   ]
  },
  {
   "cell_type": "code",
   "execution_count": 4,
   "metadata": {
    "collapsed": true
   },
   "outputs": [],
   "source": [
    "def setup_dataframe(EBU, VAR, df):\n",
    "    fileDir = '/glade/u/home/rbrady/projects/EBUS_BGC_Variability/data/processed/' + EBU.lower() + '/'\n",
    "    df[EBU] = pd.DataFrame.from_csv(fileDir + 'smoothed_fgco2_vs_smoothed_' + VAR + '_' + EBU)\n",
    "    return df"
   ]
  },
  {
   "cell_type": "code",
   "execution_count": 5,
   "metadata": {
    "collapsed": true
   },
   "outputs": [],
   "source": [
    "def remove_insignificant(df):\n",
    "    df = df[df['P-Value'] < 0.05]\n",
    "    return df"
   ]
  },
  {
   "cell_type": "code",
   "execution_count": 6,
   "metadata": {
    "collapsed": true
   },
   "outputs": [],
   "source": [
    "def hist_plot(ax, data, title, EBU):\n",
    "    # Compute statistics for label.\n",
    "    mean = np.mean(data.values).round(2)\n",
    "    std = np.std(data.values).round(2)\n",
    "    label = EBU + ': ' + str(mean) + ' $\\pm$ ' + str(std)\n",
    "    # Plot\n",
    "    sns.distplot(data, kde=False, color=colors[EBU], norm_hist=False, bins=10, label=label)\n",
    "    ax.set_title(title + ' Correlation Distribution', size=25)\n",
    "    plt.tick_params(axis='both', which='major', labelsize=20)\n",
    "    plt.xlabel('R Value', size=20)\n",
    "    plt.ylabel('Number of Simulations', size=20)\n",
    "    plt.ylim([0, 14])\n",
    "    plt.xlim([-1, 1])\n",
    "    plt.plot([0, 0], [0, 14], linewidth=1, color='k')"
   ]
  },
  {
   "cell_type": "markdown",
   "metadata": {},
   "source": [
    "# Climate Indices"
   ]
  },
  {
   "cell_type": "code",
   "execution_count": 29,
   "metadata": {
    "collapsed": true
   },
   "outputs": [],
   "source": [
    "# Pull in regression output to dataframes\n",
    "df_enso, df_pdo, df_amo, df_nao, df_sam = ({} for i in range(5))\n",
    "for idx in EBUs:\n",
    "    df_enso, df_pdo, df_amo, df_nao, df_sam = setup_dataframes(idx, df_enso, df_pdo, df_amo, df_nao, df_sam)"
   ]
  },
  {
   "cell_type": "code",
   "execution_count": null,
   "metadata": {
    "collapsed": true
   },
   "outputs": [],
   "source": [
    "# Remove anything with p > 0.05\n",
    "for ii in EBUs:\n",
    "    df_enso[ii] = remove_insignificant(df_enso[ii])"
   ]
  },
  {
   "cell_type": "markdown",
   "metadata": {},
   "source": [
    "# Other Variables"
   ]
  },
  {
   "cell_type": "code",
   "execution_count": 9,
   "metadata": {
    "collapsed": true
   },
   "outputs": [],
   "source": [
    "VAR = 'pCO2SURF_nonT'\n",
    "df_var = {}\n",
    "for idx in EBUs:\n",
    "    df_var = setup_dataframe(idx, VAR, df_var)\n",
    "    df_var[idx] = remove_insignificant(df_var[idx])"
   ]
  },
  {
   "cell_type": "code",
   "execution_count": 10,
   "metadata": {},
   "outputs": [
    {
     "data": {
      "text/plain": [
       "<matplotlib.legend.Legend at 0x2abc26a35e90>"
      ]
     },
     "execution_count": 10,
     "metadata": {},
     "output_type": "execute_result"
    },
    {
     "data": {
      "image/png": "[encoded data removed]",
      "text/plain": [
       "<matplotlib.figure.Figure at 0x2abc20c7d150>"
      ]
     },
     "metadata": {},
     "output_type": "display_data"
    }
   ],
   "source": [
    "sns.set_style('darkgrid')\n",
    "fig = plt.figure(figsize=(7,5))\n",
    "ax1 = fig.add_subplot(111)\n",
    "for idx in EBUs:\n",
    "    hist_plot(ax1, df_var[idx]['R Value'], VAR, idx)\n",
    "plt.legend(loc='best', handlelength=2, fontsize=14)    \n",
    "#plt.savefig(VAR + '-correlation-distributions.png')"
   ]
  },
  {
   "cell_type": "markdown",
   "metadata": {},
   "source": [
    "# Playing with Lagged Correlations"
   ]
  },
  {
   "cell_type": "code",
   "execution_count": null,
   "metadata": {
    "collapsed": true
   },
   "outputs": [],
   "source": [
    "# 4-MONTH LAGGED HUMCS ENSO\n",
    "fileDir = '/glade/u/home/rbrady/projects/EBUS_BGC_Variability/data/processed/humcs/'\n",
    "df_enso_4 = pd.DataFrame.from_csv(fileDir + 'smoothed_fgco2_vs_enso_HumCS_lag4')\n",
    "df_enso_4 = remove_insignificant(df_enso_4)\n",
    "\n",
    "# 5-MONTH LAGGED HUMCS ENSO\n",
    "fileDir = '/glade/u/home/rbrady/projects/EBUS_BGC_Variability/data/processed/humcs/'\n",
    "df_enso_5 = pd.DataFrame.from_csv(fileDir + 'smoothed_fgco2_vs_enso_HumCS_lag5')\n",
    "df_enso_5 = remove_insignificant(df_enso_5)\n",
    "\n",
    "# 6-MONTH LAGGED HUMCS ENSO\n",
    "fileDir = '/glade/u/home/rbrady/projects/EBUS_BGC_Variability/data/processed/humcs/'\n",
    "df_enso_6 = pd.DataFrame.from_csv(fileDir + 'smoothed_fgco2_vs_enso_HumCS_lag6')\n",
    "df_enso_6 = remove_insignificant(df_enso_6)\n",
    "\n",
    "\n",
    "sns.set_style('darkgrid')\n",
    "fig = plt.figure(figsize=(6,6))\n",
    "ax2 = fig.add_subplot(111)\n",
    "hist_plot(ax2, df_enso_5['R Value'], 'Nino3.4', 'HumCS', 'HumCS')\n",
    "plt.title('HumCS Nino3.4 Correlation Distribution' + '\\n' + 'ENSO 5-Month Lead', size=20)\n",
    "plt.savefig('humcs-smoothedFGCO2-enso-lag5-histograms.png')"
   ]
  },
  {
   "cell_type": "markdown",
   "metadata": {},
   "source": [
    "# Pacific vs. Atlantic R Scores\n"
   ]
  },
  {
   "cell_type": "code",
   "execution_count": null,
   "metadata": {
    "collapsed": true
   },
   "outputs": [],
   "source": [
    "# PACIFIC SECTOR\n",
    "sns.set_style('darkgrid')\n",
    "fig = plt.figure(figsize=(18,14))\n",
    "ax1 = fig.add_subplot(221)\n",
    "for idx in EBU_Pacific:\n",
    "    hist_plot(ax1, df_enso[idx]['R Value'], 'Nino3.4', idx, idx)\n",
    "    plt.legend(loc='best', handlelength=2, fontsize=16)\n",
    "ax2 = fig.add_subplot(222)\n",
    "for idx in EBU_Pacific:\n",
    "    hist_plot(ax2, df_pdo[idx]['R Value'], 'PDO', idx, idx)\n",
    "ax3 = fig.add_subplot(223)\n",
    "for idx in EBU_Pacific:\n",
    "    hist_plot(ax3, df_amo[idx]['R Value'], 'AMO', idx, idx)\n",
    "ax4 = fig.add_subplot(224)\n",
    "for idx in EBU_Pacific:\n",
    "    hist_plot(ax4, df_sam[idx]['R Value'], 'SAM', idx, idx)\n",
    "    \n",
    "#plt.savefig(\"pacific-EBU-correlation-distributions.png\")"
   ]
  },
  {
   "cell_type": "code",
   "execution_count": null,
   "metadata": {
    "collapsed": true
   },
   "outputs": [],
   "source": [
    "# ATLANTIC SECTOR\n",
    "sns.set_style('darkgrid')\n",
    "fig = plt.figure(figsize=(18,14))\n",
    "ax1 = fig.add_subplot(221)\n",
    "for idx in EBU_Atlantic:\n",
    "    hist_plot(ax1, df_enso[idx]['R Value'], 'Nino3.4', idx, idx)\n",
    "    plt.legend(loc='best', handlelength=2, fontsize=16)\n",
    "ax2 = fig.add_subplot(222)\n",
    "for idx in EBU_Atlantic:\n",
    "    hist_plot(ax2, df_pdo[idx]['R Value'], 'PDO', idx, idx)\n",
    "ax3 = fig.add_subplot(223)\n",
    "for idx in EBU_Atlantic:\n",
    "    hist_plot(ax3, df_amo[idx]['R Value'], 'AMO', idx, idx)\n",
    "ax4 = fig.add_subplot(224)\n",
    "for idx in EBU_Atlantic:\n",
    "    hist_plot(ax4, df_sam[idx]['R Value'], 'SAM', idx, idx)\n",
    "    \n",
    "#plt.savefig(\"atlantic-EBU-correlation-distributions.png\")"
   ]
  },
  {
   "cell_type": "markdown",
   "metadata": {},
   "source": [
    "# Outputting to LaTeX"
   ]
  },
  {
   "cell_type": "code",
   "execution_count": null,
   "metadata": {
    "collapsed": true
   },
   "outputs": [],
   "source": [
    "#df_amo['BenCS'] = df_amo['BenCS'].drop('P-Value', 1)\n",
    "#frames = [df_amo['CanCS'], df_amo['BenCS']]\n",
    "#result = pd.concat(frames, axis=1)\n",
    "#result.round(2)\n",
    "#rint result.round(2).to_latex()"
   ]
  },
  {
   "cell_type": "code",
   "execution_count": null,
   "metadata": {
    "collapsed": true
   },
   "outputs": [],
   "source": [
    "EBUS = \"CanCS\"\n",
    "print \"mean slope: \" + str(np.mean(df_pdo[EBUS]['Slope'].values).round(2))\n",
    "print \"mean r: \" + str(np.mean(df_pdo[EBUS]['R Value'].values).round(2))\n",
    "print \"mean r2: \" + str(np.mean(df_pdo[EBUS]['R Squared'].values).round(2))\n",
    "print \"----------\"\n",
    "print \"std slope: \" + str(np.std(df_pdo[EBUS]['Slope'].values).round(2))\n",
    "print \"std r: \" + str(np.std(df_pdo[EBUS]['R Value'].values).round(2))\n",
    "print \"std r2: \" + str(np.std(df_pdo[EBUS]['R Squared'].values).round(2))"
   ]
  }
 ],
 "metadata": {
  "kernelspec": {
   "display_name": "Python 2",
   "language": "python",
   "name": "python2"
  },
  "language_info": {
   "codemirror_mode": {
    "name": "ipython",
    "version": 2
   },
   "file_extension": ".py",
   "mimetype": "text/x-python",
   "name": "python",
   "nbconvert_exporter": "python",
   "pygments_lexer": "ipython2",
   "version": "2.7.7"
  }
 },
 "nbformat": 4,
 "nbformat_minor": 2
}
