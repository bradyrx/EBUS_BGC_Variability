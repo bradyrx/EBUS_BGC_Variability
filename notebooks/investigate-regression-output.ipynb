{
 "cells": [
  {
   "cell_type": "markdown",
   "metadata": {},
   "source": [
    "# Investigate Regression Output\n",
    "After running EBUS-Extraction to pull out the given upwelling system, I ran the climate-correlation.py script to correlate a near-offshore region of the EBUS with specific climate indices. This saves some CSV files with regression results that will now be interpreted here."
   ]
  },
  {
   "cell_type": "code",
   "execution_count": 47,
   "metadata": {
    "collapsed": true
   },
   "outputs": [],
   "source": [
    "# Numerics\n",
    "import numpy as np\n",
    "import pandas as pd\n",
    "import xarray as xr\n",
    "\n",
    "# Visualization\n",
    "import matplotlib.pyplot as plt\n",
    "%matplotlib inline\n",
    "import seaborn as sns"
   ]
  },
  {
   "cell_type": "code",
   "execution_count": 48,
   "metadata": {
    "collapsed": true
   },
   "outputs": [],
   "source": [
    "ens = ['001', '002', '009', '010', '011',\n",
    "       '012', '013', '014', '015', '016',\n",
    "       '017', '018', '019', '020', '021',\n",
    "       '022', '023', '024', '025', '026',\n",
    "       '027', '028', '029', '030', '031',\n",
    "       '032', '033', '034', '035', '101',\n",
    "       '102', '103', '104', '105']"
   ]
  },
  {
   "cell_type": "code",
   "execution_count": 49,
   "metadata": {
    "collapsed": true
   },
   "outputs": [],
   "source": [
    "fileDir = '/glade/u/home/rbrady/projects/EBUS_BGC_Variability/data/processed/CCS/'\n",
    "df_enso = pd.DataFrame.from_csv(fileDir + 'smoothed_fgco2_vs_enso')\n",
    "df_pdo = pd.DataFrame.from_csv(fileDir + 'smoothed_fgco2_vs_pdo')\n",
    "df_npo = pd.DataFrame.from_csv(fileDir + 'smoothed_fgco2_vs_npo')"
   ]
  },
  {
   "cell_type": "code",
   "execution_count": 50,
   "metadata": {},
   "outputs": [],
   "source": [
    "# Drop a NaN row from a mistake in the code.\n",
    "df_enso = df_enso.drop(df_enso.index[34])\n",
    "df_pdo = df_pdo.drop(df_pdo.index[34])\n",
    "df_npo = df_npo.drop(df_npo.index[34])\n",
    "\n",
    "# Change out the indices to ensemble numbers\n",
    "df_enso.index = ens\n",
    "df_pdo.index = ens\n",
    "df_npo.index = ens"
   ]
  },
  {
   "cell_type": "code",
   "execution_count": 51,
   "metadata": {
    "collapsed": true
   },
   "outputs": [],
   "source": [
    "pdo = np.asarray(df_pdo['R Value'])\n",
    "enso = np.asarray(df_enso['R Value'])\n",
    "npo = np.asarray(df_npo['R Value'])"
   ]
  },
  {
   "cell_type": "code",
   "execution_count": 52,
   "metadata": {},
   "outputs": [
    {
     "data": {
      "image/png": "[encoded data removed]",
      "text/plain": [
       "<matplotlib.figure.Figure at 0x2b7f3b847210>"
      ]
     },
     "metadata": {},
     "output_type": "display_data"
    }
   ],
   "source": [
    "fig = plt.figure(figsize=(8,8))\n",
    "ax = fig.add_subplot(111)\n",
    "plt.scatter(enso, pdo, color='k', s=49)\n",
    "plt.xlabel('ENSO Correlation', fontsize='x-large')\n",
    "plt.ylabel('PDO Correlation', fontsize='x-large')\n",
    "plt.title('CCS Sea-Air CO2 Flux Correlations \\n (Annual Filter; 1920-2015)', fontsize='x-large')\n",
    "plt.yticks(np.arange(0.10, 0.5, 0.05))\n",
    "plt.tick_params(axis='both', which='major', labelsize=15)\n",
    "#plt.savefig('CCS-ENSO-PDO-Correlation-Scatter.png', pad_inches=0.1)"
   ]
  },
  {
   "cell_type": "code",
   "execution_count": 57,
   "metadata": {},
   "outputs": [
    {
     "name": "stdout",
     "output_type": "stream",
     "text": [
      "\\begin{tabular}{lrrr}\n",
      "\\toprule\n",
      "{} &  Slope &  R Value &  R Squared \\\\\n",
      "\\midrule\n",
      "001 &  0.039 &    0.298 &      0.089 \\\\\n",
      "002 &  0.058 &    0.331 &      0.110 \\\\\n",
      "009 &  0.029 &    0.182 &      0.033 \\\\\n",
      "010 &  0.035 &    0.220 &      0.048 \\\\\n",
      "011 &  0.007 &    0.044 &      0.002 \\\\\n",
      "012 &  0.046 &    0.278 &      0.077 \\\\\n",
      "013 &  0.056 &    0.329 &      0.109 \\\\\n",
      "014 &  0.048 &    0.353 &      0.125 \\\\\n",
      "015 &  0.051 &    0.287 &      0.082 \\\\\n",
      "016 &  0.038 &    0.219 &      0.048 \\\\\n",
      "017 &  0.036 &    0.267 &      0.071 \\\\\n",
      "018 &  0.050 &    0.290 &      0.084 \\\\\n",
      "019 &  0.038 &    0.211 &      0.044 \\\\\n",
      "020 &  0.045 &    0.301 &      0.091 \\\\\n",
      "021 &  0.030 &    0.178 &      0.032 \\\\\n",
      "022 &  0.038 &    0.238 &      0.057 \\\\\n",
      "023 &  0.033 &    0.224 &      0.050 \\\\\n",
      "024 &  0.058 &    0.330 &      0.109 \\\\\n",
      "025 &  0.051 &    0.343 &      0.118 \\\\\n",
      "026 &  0.043 &    0.248 &      0.062 \\\\\n",
      "027 &  0.043 &    0.281 &      0.079 \\\\\n",
      "028 &  0.029 &    0.172 &      0.030 \\\\\n",
      "029 &  0.048 &    0.327 &      0.107 \\\\\n",
      "030 &  0.033 &    0.194 &      0.037 \\\\\n",
      "031 &  0.043 &    0.236 &      0.056 \\\\\n",
      "032 &  0.036 &    0.202 &      0.041 \\\\\n",
      "033 &  0.020 &    0.141 &      0.020 \\\\\n",
      "034 &  0.056 &    0.313 &      0.098 \\\\\n",
      "035 &  0.029 &    0.165 &      0.027 \\\\\n",
      "101 &  0.065 &    0.442 &      0.196 \\\\\n",
      "102 &  0.039 &    0.260 &      0.068 \\\\\n",
      "103 &  0.038 &    0.225 &      0.051 \\\\\n",
      "104 &  0.049 &    0.352 &      0.124 \\\\\n",
      "105 &  0.021 &    0.122 &      0.015 \\\\\n",
      "\\bottomrule\n",
      "\\end{tabular}\n",
      "\n"
     ]
    }
   ],
   "source": [
    "#df_enso = df_enso.drop('P-Value', 1)\n",
    "print df_enso.round(3).to_latex()\n",
    "#print df_enso.to_latex()"
   ]
  }
 ],
 "metadata": {
  "kernelspec": {
   "display_name": "Python 2",
   "language": "python",
   "name": "python2"
  },
  "language_info": {
   "codemirror_mode": {
    "name": "ipython",
    "version": 2
   },
   "file_extension": ".py",
   "mimetype": "text/x-python",
   "name": "python",
   "nbconvert_exporter": "python",
   "pygments_lexer": "ipython2",
   "version": "2.7.7"
  }
 },
 "nbformat": 4,
 "nbformat_minor": 2
}
