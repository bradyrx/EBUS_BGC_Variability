{
 "cells": [
  {
   "cell_type": "markdown",
   "metadata": {},
   "source": [
    "# Investigate Regression Output\n",
    "After running EBUS-Extraction to pull out the given upwelling system, I ran the climate-correlation.py script to correlate a near-offshore region of the EBUS with specific climate indices. This saves some CSV files with regression results that will now be interpreted here."
   ]
  },
  {
   "cell_type": "code",
   "execution_count": null,
   "metadata": {
    "collapsed": true
   },
   "outputs": [],
   "source": [
    "# Numerics\n",
    "import numpy as np\n",
    "import pandas as pd\n",
    "import xarray as xr\n",
    "\n",
    "# Visualization\n",
    "import matplotlib.pyplot as plt\n",
    "%matplotlib inline\n",
    "import seaborn as sns"
   ]
  },
  {
   "cell_type": "code",
   "execution_count": null,
   "metadata": {
    "collapsed": true
   },
   "outputs": [],
   "source": [
    "ens = ['001', '002', '009', '010', '011',\n",
    "       '012', '013', '014', '015', '016',\n",
    "       '017', '018', '019', '020', '021',\n",
    "       '022', '023', '024', '025', '026',\n",
    "       '027', '028', '029', '030', '031',\n",
    "       '032', '033', '034', '035', '101',\n",
    "       '102', '103', '104', '105']"
   ]
  },
  {
   "cell_type": "code",
   "execution_count": null,
   "metadata": {},
   "outputs": [],
   "source": [
    "fileDir = '/glade/u/home/rbrady/projects/EBUS_BGC_Variability/data/processed/humcs/'\n",
    "df_enso = pd.DataFrame.from_csv(fileDir + 'smoothed_fgco2_vs_enso_humcs')\n",
    "df_pdo = pd.DataFrame.from_csv(fileDir + 'smoothed_fgco2_vs_pdo_humcs')\n",
    "#df_npo = pd.DataFrame.from_csv(fileDir + 'smoothed_fgco2_vs_npo_humcs')\n",
    "#df_sam = pd.DataFrame.from_csv(fileDir + 'smoothed_fgco2_vs_sam_humcs')"
   ]
  },
  {
   "cell_type": "code",
   "execution_count": null,
   "metadata": {
    "collapsed": true
   },
   "outputs": [],
   "source": [
    "# Drop a NaN row from a mistake in the code.\n",
    "#df_enso = df_enso.drop(df_enso.index[34])\n",
    "#df_pdo = df_pdo.drop(df_pdo.index[34])\n",
    "#df_npo = df_npo.drop(df_npo.index[34])\n",
    "\n",
    "# Change out the indices to ensemble numbers\n",
    "df_enso.index = ens\n",
    "df_pdo.index = ens\n",
    "#df_npo.index = ens\n",
    "#df_sam.index = ens"
   ]
  },
  {
   "cell_type": "code",
   "execution_count": null,
   "metadata": {
    "collapsed": true
   },
   "outputs": [],
   "source": [
    "pdo = np.asarray(df_pdo['R Value'])\n",
    "enso = np.asarray(df_enso['R Value'])\n",
    "npo = np.asarray(df_npo['R Value'])\n",
    "#sam = np.asarray(df_sam['R Value'])"
   ]
  },
  {
   "cell_type": "code",
   "execution_count": null,
   "metadata": {},
   "outputs": [],
   "source": [
    "fig = plt.figure(figsize=(8,8))\n",
    "ax = fig.add_subplot(111)\n",
    "plt.scatter(ipo, sam, color='k', s=49)\n",
    "plt.xlabel('IPO Correlation', fontsize='x-large')\n",
    "plt.ylabel('SAM Correlation', fontsize='x-large')\n",
    "plt.title('HumCS Sea-Air CO2 Flux Correlations \\n (Annual Filter; 1920-2015)', fontsize='x-large')\n",
    "#plt.yticks(np.arange(0.10, 0.5, 0.05))\n",
    "plt.tick_params(axis='both', which='major', labelsize=15)\n",
    "#plt.savefig('HumCS-IPO-SAM-Correlation-Scatter.png', pad_inches=0.1)"
   ]
  },
  {
   "cell_type": "code",
   "execution_count": null,
   "metadata": {
    "collapsed": true
   },
   "outputs": [],
   "source": [
    "def hist_plot(ax, data, climate_index):\n",
    "    sns.distplot(data, kde=False, color='b', norm_hist=False, bins=7)\n",
    "    ax.set_title(climate_index + ' Correlation Distribution (N=34)', size='x-large')\n",
    "    plt.tick_params(axis='both', which='major', labelsize=15)\n",
    "    plt.xlabel('R Value', size=15)\n",
    "    plt.ylim([0, 14])\n",
    "    plt.xlim([-1, 1])\n",
    "    plt.plot([0, 0], [0, 14], linewidth=1, color='k')"
   ]
  },
  {
   "cell_type": "code",
   "execution_count": null,
   "metadata": {},
   "outputs": [],
   "source": [
    "fig = plt.figure(figsize=(18,12))\n",
    "ax1 = fig.add_subplot(221)\n",
    "hist_plot(ax1, df_enso['R Value'], 'Nino3.4')\n",
    "ax2 = fig.add_subplot(222)\n",
    "hist_plot(ax2, df_pdo['R Value'], 'PDO')\n",
    "ax3 = fig.add_subplot(223)\n",
    "hist_plot(ax3, df_npo['R Value'], 'NPO')\n",
    "#ax4 = fig.add_subplot(224)\n",
    "#hist_plot(ax4, df_sam['R Value'], 'SAM')\n",
    "plt.savefig(\"calcs-correlation-histograms.png\")"
   ]
  },
  {
   "cell_type": "markdown",
   "metadata": {},
   "source": [
    "# Outputting to LaTeX"
   ]
  },
  {
   "cell_type": "code",
   "execution_count": 27,
   "metadata": {},
   "outputs": [
    {
     "data": {
      "text/plain": [
       "0.050000000000000003"
      ]
     },
     "execution_count": 27,
     "metadata": {},
     "output_type": "execute_result"
    }
   ],
   "source": [
    "#df_pdo = df_pdo.drop('P-Value', 1)\n",
    "#print df_pdo.round(2).to_latex()\n",
    "np.std(df_enso['R Squared'].values).round(2)"
   ]
  }
 ],
 "metadata": {
  "kernelspec": {
   "display_name": "Python 2",
   "language": "python",
   "name": "python2"
  },
  "language_info": {
   "codemirror_mode": {
    "name": "ipython",
    "version": 2
   },
   "file_extension": ".py",
   "mimetype": "text/x-python",
   "name": "python",
   "nbconvert_exporter": "python",
   "pygments_lexer": "ipython2",
   "version": "2.7.7"
  }
 },
 "nbformat": 4,
 "nbformat_minor": 2
}
