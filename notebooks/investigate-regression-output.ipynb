{
 "cells": [
  {
   "cell_type": "markdown",
   "metadata": {},
   "source": [
    "# Investigate Regression Output\n",
    "After running EBUS-Extraction to pull out the given upwelling system, I ran the climate-correlation.py script to correlate a near-offshore region of the EBUS with specific climate indices. This saves some CSV files with regression results that will now be interpreted here."
   ]
  },
  {
   "cell_type": "code",
   "execution_count": 11,
   "metadata": {
    "collapsed": true
   },
   "outputs": [],
   "source": [
    "# Numerics\n",
    "import numpy as np\n",
    "import pandas as pd\n",
    "import xarray as xr\n",
    "\n",
    "# Visualization\n",
    "import matplotlib.pyplot as plt\n",
    "%matplotlib inline\n",
    "import seaborn as sns"
   ]
  },
  {
   "cell_type": "code",
   "execution_count": 12,
   "metadata": {
    "collapsed": true
   },
   "outputs": [],
   "source": [
    "fileDir = '/glade/u/home/rbrady/projects/EBUS_BGC_Variability/data/processed/CCS/'\n",
    "df_enso = pd.DataFrame.from_csv(fileDir + 'smoothed_fgco2_vs_enso')\n",
    "df_pdo = pd.DataFrame.from_csv(fileDir + 'smoothed_fgco2_vs_pdo')\n",
    "df_npo = pd.DataFrame.from_csv(fileDir + 'smoothed_fgco2_vs_npo')"
   ]
  },
  {
   "cell_type": "code",
   "execution_count": 13,
   "metadata": {
    "collapsed": true
   },
   "outputs": [],
   "source": [
    "pdo = np.asarray(df_pdo['R Value'])\n",
    "enso = np.asarray(df_enso['R Value'])\n",
    "npo = np.asarray(df_npo['R Value'])"
   ]
  },
  {
   "cell_type": "code",
   "execution_count": 32,
   "metadata": {},
   "outputs": [
    {
     "data": {
      "image/png": "[encoded data removed]",
      "text/plain": [
       "<matplotlib.figure.Figure at 0x2b146392aa90>"
      ]
     },
     "metadata": {},
     "output_type": "display_data"
    }
   ],
   "source": [
    "fig = plt.figure(figsize=(4,4))\n",
    "ax = fig.add_subplot(111)\n",
    "plt.scatter(enso, pdo, color='k')\n",
    "plt.xlabel('ENSO Correlation')\n",
    "plt.ylabel('PDO Correlation')\n",
    "plt.title('CCS Sea-Air CO2 Flux Correlations \\n (Annual Filter; 1920-2015)')\n",
    "plt.yticks(np.arange(0.10, 0.5, 0.05))"
   ]
  }
 ],
 "metadata": {
  "kernelspec": {
   "display_name": "Python 2",
   "language": "python",
   "name": "python2"
  },
  "language_info": {
   "codemirror_mode": {
    "name": "ipython",
    "version": 2
   },
   "file_extension": ".py",
   "mimetype": "text/x-python",
   "name": "python",
   "nbconvert_exporter": "python",
   "pygments_lexer": "ipython2",
   "version": "2.7.7"
  }
 },
 "nbformat": 4,
 "nbformat_minor": 2
}
