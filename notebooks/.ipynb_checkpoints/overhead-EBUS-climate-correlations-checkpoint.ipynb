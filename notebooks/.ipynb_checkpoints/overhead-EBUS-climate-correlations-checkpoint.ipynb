{
 "cells": [
  {
   "cell_type": "markdown",
   "metadata": {},
   "source": [
    "# Overhead EBUS-Climate Correlations\n",
    "Previously, I created an area-weighted time series of CO$_{2}$ flux and Adam Phillip's climate indices. This gives us a picture of how the whole EBUS varies with a climate index predictor. However, it prevents us from getting a taste of the spatial correlations. Perhaps a relatively high correlation score is due to a very high correlated cluster. Perhaps there is a gradient in the correlations themselves. Perhaps there are some negative and some positive scores within a given system."
   ]
  },
  {
   "cell_type": "code",
   "execution_count": 1,
   "metadata": {
    "collapsed": true
   },
   "outputs": [],
   "source": [
    "import glob\n",
    "\n",
    "# Numerics\n",
    "import numpy as np\n",
    "import pandas as pd\n",
    "import xarray as xr\n",
    "from scipy import stats\n",
    "from scipy import signal\n",
    "\n",
    "# Visualization\n",
    "from mpl_toolkits.basemap import Basemap\n",
    "import matplotlib.pyplot as plt\n",
    "%matplotlib inline\n",
    "from matplotlib.colors import LinearSegmentedColormap\n",
    "import cmocean"
   ]
  },
  {
   "cell_type": "markdown",
   "metadata": {},
   "source": [
    "# Functions"
   ]
  },
  {
   "cell_type": "code",
   "execution_count": 2,
   "metadata": {
    "collapsed": true
   },
   "outputs": [],
   "source": [
    "def detrend_climate(x):\n",
    "    return signal.detrend(x)"
   ]
  },
  {
   "cell_type": "code",
   "execution_count": 3,
   "metadata": {
    "collapsed": true
   },
   "outputs": [],
   "source": [
    "def smooth_series(x, length=12):\n",
    "    return pd.rolling_mean(x, length, center=False)"
   ]
  },
  {
   "cell_type": "code",
   "execution_count": 4,
   "metadata": {
    "collapsed": true
   },
   "outputs": [],
   "source": [
    "def drop_ensemble_dim(ds, x):\n",
    "    ds[x] = (('nlat','nlon'), ds[x][0])\n",
    "    return ds"
   ]
  },
  {
   "cell_type": "code",
   "execution_count": 5,
   "metadata": {
    "collapsed": true
   },
   "outputs": [],
   "source": [
    "# Constants\n",
    "ens = ['001', '002', '009', '010', '011',\n",
    "       '012', '013', '014', '015', '016',\n",
    "       '017', '018', '019', '020', '021',\n",
    "       '022', '023', '024', '025', '026',\n",
    "       '027', '028', '029', '030', '031',\n",
    "       '032', '033', '034', '035', '101',\n",
    "       '102', '103', '104', '105']"
   ]
  },
  {
   "cell_type": "markdown",
   "metadata": {},
   "source": [
    "# Load in EBUS Regions\n",
    "Prefiltered to 10 degree Chavez bound and 800km offshore. No smoothing was applied in advance to the files."
   ]
  },
  {
   "cell_type": "code",
   "execution_count": 8,
   "metadata": {},
   "outputs": [],
   "source": [
    "EBU = \"CalCS\"\n",
    "fileDir = '/glade/p/work/rbrady/EBUS_BGC_Variability/FG_CO2/' + EBU + '/filtered_residuals/'\n",
    "fgco2_residuals = xr.open_dataset(fileDir + EBU.lower() + '-FG_CO2-residuals-chavez-800km.nc')"
   ]
  },
  {
   "cell_type": "markdown",
   "metadata": {},
   "source": [
    "# Load in Other Variable"
   ]
  },
  {
   "cell_type": "code",
   "execution_count": 9,
   "metadata": {
    "collapsed": true
   },
   "outputs": [],
   "source": [
    "VAR = 'SST'\n",
    "fileDir = '/glade/p/work/rbrady/EBUS_BGC_Variability/' + VAR + '/' + EBU + '/filtered_residuals/'\n",
    "var_residuals = xr.open_dataset(fileDir + EBU.lower() + '-' + VAR + '-residuals-chavez-800km.nc')"
   ]
  },
  {
   "cell_type": "markdown",
   "metadata": {},
   "source": [
    "# Load in Climate Data"
   ]
  },
  {
   "cell_type": "code",
   "execution_count": null,
   "metadata": {
    "collapsed": true
   },
   "outputs": [],
   "source": [
    "fileDir = '/glade/p/work/rbrady/cesmLE_CVDP/extracted_vars/'\n",
    "ds_cvdp = xr.open_mfdataset(fileDir + '*.nc', decode_times=False, concat_dim='ensemble')"
   ]
  },
  {
   "cell_type": "code",
   "execution_count": null,
   "metadata": {
    "collapsed": true
   },
   "outputs": [],
   "source": [
    "ds_cvdp = ds_cvdp.rename({'npo_pc_mon': 'npo', \n",
    "                          'pdo_timeseries_mon': 'pdo',\n",
    "                          'sam_pc_mon': 'sam',\n",
    "                          'ipo_timeseries_mon': 'ipo',\n",
    "                          'amo_timeseries_mon': 'amo',\n",
    "                          'nao_pc_mon': 'nao'})"
   ]
  },
  {
   "cell_type": "code",
   "execution_count": null,
   "metadata": {
    "collapsed": true
   },
   "outputs": [],
   "source": [
    "times = pd.date_range('1920-01', '2016-01', freq='M')\n",
    "ds_cvdp['time'] = times\n",
    "ds_cvdp = ds_cvdp.apply(detrend_climate)"
   ]
  },
  {
   "cell_type": "markdown",
   "metadata": {},
   "source": [
    "# Linear Regression with Other Variable"
   ]
  },
  {
   "cell_type": "code",
   "execution_count": 13,
   "metadata": {},
   "outputs": [
    {
     "name": "stdout",
     "output_type": "stream",
     "text": [
      "Working on Ensemble 1 of 34...\n"
     ]
    },
    {
     "name": "stderr",
     "output_type": "stream",
     "text": [
      "/glade/u/apps/opt/jupyter/5.0.0/gnu/4.8.2/lib/python2.7/site-packages/ipykernel_launcher.py:2: FutureWarning: pd.rolling_mean is deprecated for ndarrays and will be removed in a future version\n",
      "  \n"
     ]
    },
    {
     "name": "stdout",
     "output_type": "stream",
     "text": [
      "Working on Ensemble 2 of 34...\n",
      "Working on Ensemble 3 of 34...\n",
      "Working on Ensemble 4 of 34...\n",
      "Working on Ensemble 5 of 34...\n",
      "Working on Ensemble 6 of 34...\n",
      "Working on Ensemble 7 of 34...\n",
      "Working on Ensemble 8 of 34...\n",
      "Working on Ensemble 9 of 34...\n",
      "Working on Ensemble 10 of 34...\n",
      "Working on Ensemble 11 of 34...\n",
      "Working on Ensemble 12 of 34...\n",
      "Working on Ensemble 13 of 34...\n",
      "Working on Ensemble 14 of 34...\n",
      "Working on Ensemble 15 of 34...\n",
      "Working on Ensemble 16 of 34...\n",
      "Working on Ensemble 17 of 34...\n",
      "Working on Ensemble 18 of 34...\n",
      "Working on Ensemble 19 of 34...\n",
      "Working on Ensemble 20 of 34...\n",
      "Working on Ensemble 21 of 34...\n",
      "Working on Ensemble 22 of 34...\n",
      "Working on Ensemble 23 of 34...\n",
      "Working on Ensemble 24 of 34...\n",
      "Working on Ensemble 25 of 34...\n",
      "Working on Ensemble 26 of 34...\n",
      "Working on Ensemble 27 of 34...\n",
      "Working on Ensemble 28 of 34...\n",
      "Working on Ensemble 29 of 34...\n",
      "Working on Ensemble 30 of 34...\n",
      "Working on Ensemble 31 of 34...\n",
      "Working on Ensemble 32 of 34...\n",
      "Working on Ensemble 33 of 34...\n",
      "Working on Ensemble 34 of 34...\n"
     ]
    }
   ],
   "source": [
    "dims = fgco2_residuals['FG_CO2'].shape\n",
    "results = np.empty([dims[0], dims[2], dims[3]])\n",
    "results[:] = np.nan\n",
    "\n",
    "for e in np.arange(0, dims[0], 1): # Ensemble loop\n",
    "    print \"Working on Ensemble \" + str(e+1) + \" of 34...\"\n",
    "    co2data = fgco2_residuals['FG_CO2'][e]\n",
    "    vardata = var_residuals[VAR][e]\n",
    "    for a in np.arange(0, dims[2], 1):\n",
    "        for b in np.arange(0, dims[3], 1):\n",
    "            tempco2 = co2data[:, a, b].values\n",
    "            tempco2 = smooth_series(tempco2)\n",
    "            tempco2 = tempco2[11::]\n",
    "            tempvar = vardata[:, a, b].values\n",
    "            tempvar = smooth_series(tempvar)\n",
    "            tempvar = tempvar[11::]\n",
    "            if ~np.isnan(tempco2[0]): # Only perform regression if data are here.\n",
    "                slope, intercept, r_value, p_value, std_err = stats.linregress(tempvar, tempco2)\n",
    "                if p_value <= 0.05:\n",
    "                    results[e,a,b] = r_value\n",
    "                else:\n",
    "                    results[e,a,b] = -999 # Insignificant correlation"
   ]
  },
  {
   "cell_type": "code",
   "execution_count": 14,
   "metadata": {
    "collapsed": true
   },
   "outputs": [],
   "source": [
    "np.save('/glade/u/home/rbrady/projects/EBUS_BGC_Variability/data/processed/' + \n",
    "        EBU.lower() + '/' + EBU.lower() + '-smoothed-fgco2-' + VAR + '-spatial-correlations', results)"
   ]
  },
  {
   "cell_type": "markdown",
   "metadata": {},
   "source": [
    "# Linear Regression with Climate Indices\n",
    "Not the most efficient, but gets the job done!"
   ]
  },
  {
   "cell_type": "code",
   "execution_count": null,
   "metadata": {
    "collapsed": true
   },
   "outputs": [],
   "source": [
    "dims = ds_residuals['FG_CO2'].shape\n",
    "climvar = 'sam'\n",
    "results = np.empty([dims[0], dims[2], dims[3]])\n",
    "results[:] = np.nan\n",
    "\n",
    "for e in np.arange(0, dims[0], 1): # Ensemble loop\n",
    "    print \"Working on Ensemble \" + str(e+1) + \" of 34...\"\n",
    "    co2data = ds_residuals['FG_CO2'][e]\n",
    "    climdata = ds_cvdp[climvar][e][11:] # Accounts for smoothing to CO2 later\n",
    "    for a in np.arange(0, dims[2], 1):\n",
    "        for b in np.arange(0, dims[3], 1):\n",
    "            tempco2 = co2data[:, a, b].values\n",
    "            tempco2 = smooth_series(tempco2)\n",
    "            tempco2 = tempco2[11:]\n",
    "            if ~np.isnan(tempco2[0]): # Only perform regression if data are here.\n",
    "                slope, intercept, r_value, p_value, std_err = stats.linregress(climdata, tempco2)\n",
    "                if p_value <= 0.05:\n",
    "                    results[e,a,b] = r_value\n",
    "                else:\n",
    "                    results[e,a,b] = -999 # Insignificant correlation"
   ]
  },
  {
   "cell_type": "code",
   "execution_count": null,
   "metadata": {
    "collapsed": true
   },
   "outputs": [],
   "source": [
    "np.save('/glade/u/home/rbrady/projects/EBUS_BGC_Variability/data/processed/' + \n",
    "        EBU.lower() + '/' + EBU.lower() + '-smoothed-fgco2-' + climvar + '-spatial-correlations', results)"
   ]
  },
  {
   "cell_type": "markdown",
   "metadata": {},
   "source": [
    "# Linear Regression (with Lag)"
   ]
  },
  {
   "cell_type": "code",
   "execution_count": null,
   "metadata": {
    "collapsed": true
   },
   "outputs": [],
   "source": [
    "LAG = 5\n",
    "\n",
    "dims = ds_residuals['FG_CO2'].shape\n",
    "climvar = 'nino34'\n",
    "results = np.empty([dims[0], dims[2], dims[3]])\n",
    "results[:] = np.nan\n",
    "\n",
    "for e in np.arange(0, dims[0], 1): # Ensemble loop\n",
    "    print \"Working on Ensemble \" + str(e+1) + \" of 34...\"\n",
    "    co2data = ds_residuals['FG_CO2'][e]\n",
    "    climdata = ds_cvdp[climvar][e][11:] # Accounts for smoothing to CO2 later\n",
    "    climdata = climdata[:-LAG] # Account for lag.\n",
    "    for a in np.arange(0, dims[2], 1):\n",
    "        for b in np.arange(0, dims[3], 1):\n",
    "            tempco2 = co2data[:, a, b].values\n",
    "            tempco2 = smooth_series(tempco2)\n",
    "            tempco2 = tempco2[11:]\n",
    "            tempco2 = tempco2[LAG::]\n",
    "            if ~np.isnan(tempco2[0]): # Only perform regression if data are here.\n",
    "                slope, intercept, r_value, p_value, std_err = stats.linregress(climdata, tempco2)\n",
    "                if p_value <= 0.05:\n",
    "                    results[e,a,b] = r_value\n",
    "                else:\n",
    "                    results[e,a,b] = -999 # Insignificant correlation"
   ]
  },
  {
   "cell_type": "code",
   "execution_count": null,
   "metadata": {
    "collapsed": true
   },
   "outputs": [],
   "source": [
    "np.save(EBU.lower() + '-smoothed-fgco2-' + climvar + '-spatial-correlations-lag' + str(LAG), results)"
   ]
  },
  {
   "cell_type": "markdown",
   "metadata": {},
   "source": [
    "# Visualization Functions"
   ]
  },
  {
   "cell_type": "code",
   "execution_count": 15,
   "metadata": {
    "collapsed": true
   },
   "outputs": [],
   "source": [
    "def visual_bounds(EBU):\n",
    "    if EBU == \"CalCS\":\n",
    "        lat1 = 33\n",
    "        lat2 = 45\n",
    "        lon1 = -133\n",
    "        lon2 = -115\n",
    "    elif EBU == 'HumCS':\n",
    "        lat1 = -17\n",
    "        lat2 = -4\n",
    "        lon1 = -90\n",
    "        lon2 = -70\n",
    "    elif EBU == 'CanCS':\n",
    "        lat1 = 11\n",
    "        lat2 = 23\n",
    "        lon1 = -25\n",
    "        lon2 = -10\n",
    "    elif EBU == 'BenCS':\n",
    "        lat1 = -35\n",
    "        lat2 = -15\n",
    "        lon1 = 5\n",
    "        lon2 = 20\n",
    "    return lat1,lat2,lon1,lon2"
   ]
  },
  {
   "cell_type": "code",
   "execution_count": 16,
   "metadata": {
    "collapsed": true
   },
   "outputs": [],
   "source": [
    "def setup_map(ax, lon, lat, lat1=np.nan, lat2=np.nan,\n",
    "              lon1=np.nan, lon2=np.nan):\n",
    "    if np.isnan(lat1):\n",
    "        lat1=np.nanmin(lat)\n",
    "        lat2=np.nanmax(lat)\n",
    "        lon1=np.nanmin(lon)\n",
    "        lon2=np.nanmax(lon)\n",
    "    m = Basemap(projection='eqdc',\n",
    "                lat_0=(lat1 + lat2)/2,\n",
    "                lon_0=(lon1 + lon2)/2,\n",
    "                llcrnrlon=lon1,\n",
    "                urcrnrlon=lon2,\n",
    "                llcrnrlat=lat1,\n",
    "                urcrnrlat=lat2,\n",
    "                resolution='c',\n",
    "                fix_aspect=False,\n",
    "                ax=ax)\n",
    "    m.drawcoastlines()\n",
    "    #m.drawstates()\n",
    "    m.drawcountries()\n",
    "    #m.fillcontinents(color='black')\n",
    "    m.drawmapboundary(fill_color='white')\n",
    "    #m.drawparallels(np.arange(np.floor(np.nanmin(lat)), \n",
    "    #                          np.ceil(np.nanmax(lat)), 3),\n",
    "    #               labels=[False,False,False,False], size='x-large',\n",
    "    #               color='gray')\n",
    "    #m.drawmeridians(np.arange(np.floor(np.nanmin(lon)), \n",
    "    #                          np.ceil(np.nanmax(lon)), 3),\n",
    "    #               labels=[False, False, False, False], size='x-large',\n",
    "    #               color='gray')\n",
    "    return m"
   ]
  },
  {
   "cell_type": "code",
   "execution_count": 21,
   "metadata": {
    "collapsed": true
   },
   "outputs": [],
   "source": [
    "def pcolor_it(ax, EBU, data):\n",
    "    fileDir = '/glade/p/work/rbrady/EBUS_BGC_Variability/FG_CO2/' + EBU + '/filtered_residuals/'\n",
    "    ds_residuals = xr.open_dataset(fileDir + EBU.lower() + '-FG_CO2-residuals-chavez-800km.nc')\n",
    "    lat = ds_residuals['TLAT'].values\n",
    "    lon = ds_residuals['TLONG'].values\n",
    "    data = np.ma.array(data, mask=np.isnan(data))    \n",
    "    lat1,lat2,lon1,lon2 = visual_bounds(EBU)\n",
    "    m = setup_map(ax, lon, lat, lat1=lat1, lat2=lat2,\n",
    "                  lon1=lon1, lon2=lon2)\n",
    "    return m, lon, lat, data, lat2, lon1"
   ]
  },
  {
   "cell_type": "code",
   "execution_count": 18,
   "metadata": {
    "collapsed": true
   },
   "outputs": [],
   "source": [
    "def discrete_cmap(N, base_cmap=None):\n",
    "    \"\"\"Create an N-bin discrete colormap from the specified input map\"\"\"\n",
    "\n",
    "    # Note that if base_cmap is a string or None, you can simply do\n",
    "    #    return plt.cm.get_cmap(base_cmap, N)\n",
    "    # The following works for string, None, or a colormap instance:\n",
    "\n",
    "    base = plt.cm.get_cmap(base_cmap)\n",
    "    color_list = base(np.linspace(0, 1, N))\n",
    "    cmap_name = base.name + str(N)\n",
    "    return base.from_list(cmap_name, color_list, N)"
   ]
  },
  {
   "cell_type": "markdown",
   "metadata": {},
   "source": [
    "# Visualization Code"
   ]
  },
  {
   "cell_type": "code",
   "execution_count": 19,
   "metadata": {
    "collapsed": true
   },
   "outputs": [],
   "source": [
    "EBU = 'CalCS'\n",
    "VAR = 'SST'\n",
    "fileDir = '/glade/u/home/rbrady/projects/EBUS_BGC_Variability/data/processed/' + EBU.lower() + '/'\n",
    "results = np.load(fileDir + EBU.lower() + '-smoothed-fgco2-' + VAR + '-spatial-correlations.npy')"
   ]
  },
  {
   "cell_type": "code",
   "execution_count": 22,
   "metadata": {},
   "outputs": [
    {
     "ename": "IOError",
     "evalue": "No such file or directory",
     "output_type": "error",
     "traceback": [
      "\u001b[0;31m\u001b[0m",
      "\u001b[0;31mIOError\u001b[0mTraceback (most recent call last)",
      "\u001b[0;32m<ipython-input-22-89a1cda3edbd>\u001b[0m in \u001b[0;36m<module>\u001b[0;34m()\u001b[0m\n\u001b[1;32m      6\u001b[0m         \u001b[0mfig\u001b[0m\u001b[0;34m.\u001b[0m\u001b[0mdelaxes\u001b[0m\u001b[0;34m(\u001b[0m\u001b[0max\u001b[0m\u001b[0;34m)\u001b[0m\u001b[0;34m\u001b[0m\u001b[0m\n\u001b[1;32m      7\u001b[0m     \u001b[0;32melse\u001b[0m\u001b[0;34m:\u001b[0m\u001b[0;34m\u001b[0m\u001b[0m\n\u001b[0;32m----> 8\u001b[0;31m         \u001b[0mm\u001b[0m\u001b[0;34m,\u001b[0m \u001b[0mlon\u001b[0m\u001b[0;34m,\u001b[0m \u001b[0mlat\u001b[0m\u001b[0;34m,\u001b[0m \u001b[0mdata\u001b[0m\u001b[0;34m,\u001b[0m \u001b[0mlat2\u001b[0m\u001b[0;34m,\u001b[0m \u001b[0mlon1\u001b[0m \u001b[0;34m=\u001b[0m \u001b[0mpcolor_it\u001b[0m\u001b[0;34m(\u001b[0m\u001b[0max\u001b[0m\u001b[0;34m,\u001b[0m \u001b[0mEBU\u001b[0m\u001b[0;34m,\u001b[0m \u001b[0mresults\u001b[0m\u001b[0;34m[\u001b[0m\u001b[0mcounter\u001b[0m\u001b[0;34m]\u001b[0m\u001b[0;34m)\u001b[0m\u001b[0;34m\u001b[0m\u001b[0m\n\u001b[0m\u001b[1;32m      9\u001b[0m         \u001b[0mx\u001b[0m\u001b[0;34m,\u001b[0m \u001b[0my\u001b[0m \u001b[0;34m=\u001b[0m \u001b[0mm\u001b[0m\u001b[0;34m(\u001b[0m\u001b[0mlon1\u001b[0m\u001b[0;34m,\u001b[0m \u001b[0mlat2\u001b[0m\u001b[0;34m-\u001b[0m\u001b[0;36m1.1\u001b[0m\u001b[0;34m)\u001b[0m\u001b[0;34m\u001b[0m\u001b[0m\n\u001b[1;32m     10\u001b[0m         ax.text(x, y, 'S' + ens[counter], fontsize=12, \n",
      "\u001b[0;32m<ipython-input-21-a267f0ee7f23>\u001b[0m in \u001b[0;36mpcolor_it\u001b[0;34m(ax, EBU, data)\u001b[0m\n\u001b[1;32m      1\u001b[0m \u001b[0;32mdef\u001b[0m \u001b[0mpcolor_it\u001b[0m\u001b[0;34m(\u001b[0m\u001b[0max\u001b[0m\u001b[0;34m,\u001b[0m \u001b[0mEBU\u001b[0m\u001b[0;34m,\u001b[0m \u001b[0mdata\u001b[0m\u001b[0;34m)\u001b[0m\u001b[0;34m:\u001b[0m\u001b[0;34m\u001b[0m\u001b[0m\n\u001b[1;32m      2\u001b[0m     \u001b[0mfileDir\u001b[0m \u001b[0;34m=\u001b[0m \u001b[0;34m'/glade/p/work/rbrady/EBUS_BGC_Variability/FG_CO2/'\u001b[0m \u001b[0;34m+\u001b[0m \u001b[0mEBU\u001b[0m \u001b[0;34m+\u001b[0m \u001b[0;34m'/filtered_residuals/'\u001b[0m\u001b[0;34m\u001b[0m\u001b[0m\n\u001b[0;32m----> 3\u001b[0;31m     \u001b[0mds_residuals\u001b[0m \u001b[0;34m=\u001b[0m \u001b[0mxr\u001b[0m\u001b[0;34m.\u001b[0m\u001b[0mopen_dataset\u001b[0m\u001b[0;34m(\u001b[0m\u001b[0mfileDir\u001b[0m \u001b[0;34m+\u001b[0m \u001b[0mEBU\u001b[0m\u001b[0;34m.\u001b[0m\u001b[0mlower\u001b[0m\u001b[0;34m(\u001b[0m\u001b[0;34m)\u001b[0m \u001b[0;34m+\u001b[0m \u001b[0;34m'FG_CO2-residuals-chavez-800km.nc'\u001b[0m\u001b[0;34m)\u001b[0m\u001b[0;34m\u001b[0m\u001b[0m\n\u001b[0m\u001b[1;32m      4\u001b[0m     \u001b[0mlat\u001b[0m \u001b[0;34m=\u001b[0m \u001b[0mds_residuals\u001b[0m\u001b[0;34m[\u001b[0m\u001b[0;34m'TLAT'\u001b[0m\u001b[0;34m]\u001b[0m\u001b[0;34m.\u001b[0m\u001b[0mvalues\u001b[0m\u001b[0;34m\u001b[0m\u001b[0m\n\u001b[1;32m      5\u001b[0m     \u001b[0mlon\u001b[0m \u001b[0;34m=\u001b[0m \u001b[0mds_residuals\u001b[0m\u001b[0;34m[\u001b[0m\u001b[0;34m'TLONG'\u001b[0m\u001b[0;34m]\u001b[0m\u001b[0;34m.\u001b[0m\u001b[0mvalues\u001b[0m\u001b[0;34m\u001b[0m\u001b[0m\n",
      "\u001b[0;32m/glade/apps/opt/xarray/0.8.2/lib/python2.7/site-packages/xarray-0.8.2-py2.7.egg/xarray/backends/api.pyc\u001b[0m in \u001b[0;36mopen_dataset\u001b[0;34m(filename_or_obj, group, decode_cf, mask_and_scale, decode_times, concat_characters, decode_coords, engine, chunks, lock, drop_variables)\u001b[0m\n\u001b[1;32m    208\u001b[0m                                              allow_remote=True)\n\u001b[1;32m    209\u001b[0m             \u001b[0;32mif\u001b[0m \u001b[0mengine\u001b[0m \u001b[0;34m==\u001b[0m \u001b[0;34m'netcdf4'\u001b[0m\u001b[0;34m:\u001b[0m\u001b[0;34m\u001b[0m\u001b[0m\n\u001b[0;32m--> 210\u001b[0;31m                 \u001b[0mstore\u001b[0m \u001b[0;34m=\u001b[0m \u001b[0mbackends\u001b[0m\u001b[0;34m.\u001b[0m\u001b[0mNetCDF4DataStore\u001b[0m\u001b[0;34m(\u001b[0m\u001b[0mfilename_or_obj\u001b[0m\u001b[0;34m,\u001b[0m \u001b[0mgroup\u001b[0m\u001b[0;34m=\u001b[0m\u001b[0mgroup\u001b[0m\u001b[0;34m)\u001b[0m\u001b[0;34m\u001b[0m\u001b[0m\n\u001b[0m\u001b[1;32m    211\u001b[0m             \u001b[0;32melif\u001b[0m \u001b[0mengine\u001b[0m \u001b[0;34m==\u001b[0m \u001b[0;34m'scipy'\u001b[0m\u001b[0;34m:\u001b[0m\u001b[0;34m\u001b[0m\u001b[0m\n\u001b[1;32m    212\u001b[0m                 \u001b[0mstore\u001b[0m \u001b[0;34m=\u001b[0m \u001b[0mbackends\u001b[0m\u001b[0;34m.\u001b[0m\u001b[0mScipyDataStore\u001b[0m\u001b[0;34m(\u001b[0m\u001b[0mfilename_or_obj\u001b[0m\u001b[0;34m)\u001b[0m\u001b[0;34m\u001b[0m\u001b[0m\n",
      "\u001b[0;32m/glade/apps/opt/xarray/0.8.2/lib/python2.7/site-packages/xarray-0.8.2-py2.7.egg/xarray/backends/netCDF4_.pyc\u001b[0m in \u001b[0;36m__init__\u001b[0;34m(self, filename, mode, format, group, writer, clobber, diskless, persist)\u001b[0m\n\u001b[1;32m    186\u001b[0m         ds = nc4.Dataset(filename, mode=mode, clobber=clobber,\n\u001b[1;32m    187\u001b[0m                          \u001b[0mdiskless\u001b[0m\u001b[0;34m=\u001b[0m\u001b[0mdiskless\u001b[0m\u001b[0;34m,\u001b[0m \u001b[0mpersist\u001b[0m\u001b[0;34m=\u001b[0m\u001b[0mpersist\u001b[0m\u001b[0;34m,\u001b[0m\u001b[0;34m\u001b[0m\u001b[0m\n\u001b[0;32m--> 188\u001b[0;31m                          format=format)\n\u001b[0m\u001b[1;32m    189\u001b[0m         \u001b[0;32mwith\u001b[0m \u001b[0mclose_on_error\u001b[0m\u001b[0;34m(\u001b[0m\u001b[0mds\u001b[0m\u001b[0;34m)\u001b[0m\u001b[0;34m:\u001b[0m\u001b[0;34m\u001b[0m\u001b[0m\n\u001b[1;32m    190\u001b[0m             \u001b[0mself\u001b[0m\u001b[0;34m.\u001b[0m\u001b[0mds\u001b[0m \u001b[0;34m=\u001b[0m \u001b[0m_nc4_group\u001b[0m\u001b[0;34m(\u001b[0m\u001b[0mds\u001b[0m\u001b[0;34m,\u001b[0m \u001b[0mgroup\u001b[0m\u001b[0;34m,\u001b[0m \u001b[0mmode\u001b[0m\u001b[0;34m)\u001b[0m\u001b[0;34m\u001b[0m\u001b[0m\n",
      "\u001b[0;32mnetCDF4/_netCDF4.pyx\u001b[0m in \u001b[0;36mnetCDF4._netCDF4.Dataset.__init__ (netCDF4/_netCDF4.c:12138)\u001b[0;34m()\u001b[0m\n",
      "\u001b[0;31mIOError\u001b[0m: No such file or directory"
     ]
    },
    {
     "data": {
      "image/png": "[encoded data removed]",
      "text/plain": [
       "<matplotlib.figure.Figure at 0x2af295baef10>"
      ]
     },
     "metadata": {},
     "output_type": "display_data"
    }
   ],
   "source": [
    "fig,axes = plt.subplots(figsize=(14,16), nrows=6, ncols=6)\n",
    "st = fig.suptitle(EBU + ' Grid Cell Correlations with SST (1920-2015)', fontsize=30)\n",
    "counter = 0\n",
    "for ax in axes.flat:\n",
    "    if counter >= 34:\n",
    "        fig.delaxes(ax)\n",
    "    else:\n",
    "        m, lon, lat, data, lat2, lon1 = pcolor_it(ax, EBU, results[counter])\n",
    "        x, y = m(lon1, lat2-1.1)\n",
    "        ax.text(x, y, 'S' + ens[counter], fontsize=12, \n",
    "                bbox=dict(facecolor='w', edgecolor='k', alpha=1))\n",
    "        cs = m.pcolor(lon, lat, data, vmin=-0.75, vmax=0.75 ,\n",
    "                     latlon=True, cmap=discrete_cmap(24, 'BrBG_r'), edgecolors='w')\n",
    "        cs.cmap.set_under('#696969')\n",
    "    counter+=1\n",
    "fig.tight_layout(pad=3)\n",
    "cbar = fig.colorbar(cs, location=\"top\", aspect=50, ax=axes.ravel().tolist())\n",
    "cbar.ax.tick_params(labelsize=20, direction='out')\n",
    "cbar.set_ticks(np.arange(-0.75, 0.76, 0.25))\n",
    "fig.subplots_adjust(top=0.80)\n",
    "st.set_y(0.95)\n",
    "plt.savefig('/glade/u/home/rbrady/projects/EBUS_BGC_Variability/reports/figs/' + EBU.lower() + '/' + 'spatial-correlations/'\n",
    "            + EBU.lower() + '-grid-cell-correlations-' + VAR + '-postage.png')"
   ]
  }
 ],
 "metadata": {
  "kernelspec": {
   "display_name": "Python 2",
   "language": "python",
   "name": "python2"
  },
  "language_info": {
   "codemirror_mode": {
    "name": "ipython",
    "version": 2
   },
   "file_extension": ".py",
   "mimetype": "text/x-python",
   "name": "python",
   "nbconvert_exporter": "python",
   "pygments_lexer": "ipython2",
   "version": "2.7.7"
  }
 },
 "nbformat": 4,
 "nbformat_minor": 2
}
