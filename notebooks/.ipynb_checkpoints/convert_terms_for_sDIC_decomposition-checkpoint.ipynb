{
 "cells": [
  {
   "cell_type": "markdown",
   "metadata": {},
   "source": [
    "# Convert Terms for sDIC Decomposition\n",
    "\n",
    "See Evernote journal from LANL summer, June 1st. Just conveting all the post-processed\n",
    "means and residuals for each EBU for the terms relevant to the sDIC decomposition. This ensures that they are all mol/m3/yr.\n",
    "\n"
   ]
  },
  {
   "cell_type": "code",
   "execution_count": 2,
   "metadata": {},
   "outputs": [],
   "source": [
    "import numpy as np\n",
    "import pandas as pd\n",
    "import xarray as xr\n",
    "import matplotlib.pyplot as plt\n",
    "%matplotlib inline"
   ]
  },
  {
   "cell_type": "code",
   "execution_count": 3,
   "metadata": {},
   "outputs": [],
   "source": [
    "def load_files(ebu, var):\n",
    "    filepath = ('/glade/p/work/rbrady/EBUS_BGC_Variability/' + var + '/' + ebu + \n",
    "               '/filtered_output/')\n",
    "    ds1 = xr.open_dataset(filepath + ebu.lower() + '-' + var + \n",
    "                          '-forced-signal-AW-chavez-800km.nc')\n",
    "    ds2 = xr.open_dataset(filepath + ebu.lower() + '-' + var +\n",
    "                          '-forced-signal-chavez-800km.nc')\n",
    "    ds3 = xr.open_dataset(filepath + ebu.lower() + '-' + var +\n",
    "                          '-residuals-AW-chavez-800km.nc')\n",
    "    ds4 = xr.open_dataset(filepath + ebu.lower() + '-' + var +\n",
    "                          '-residuals-chavez-800km.nc')\n",
    "    return ds1, ds2, ds3, ds4"
   ]
  },
  {
   "cell_type": "code",
   "execution_count": 4,
   "metadata": {},
   "outputs": [],
   "source": [
    "def convert_and_save(ds1, ds2, ds3, ds4, conversion, ebu, var):\n",
    "    ds1 = ds1 * conversion\n",
    "    ds1[var + '_AW'].attrs['units'] = 'mol/m3/yr'\n",
    "    if var == 'Jint_100m_DIC':\n",
    "        ds1[var + '_AW'].attrs['description'] = (\"Source/sink biological impact on DIC\" +\n",
    "                                                 \"integrated over 100m and then divided by 100m.\")\n",
    "    elif var == 'FG_CO2':\n",
    "        ds1[var + '_AW'].attrs['description'] = \"CO2 flux divided by 100m.\"\n",
    "    \n",
    "    ds2 = ds2 * conversion\n",
    "    ds2[var].attrs['units'] = 'mol/m3/yr'\n",
    "    if var == 'Jint_100m_DIC':\n",
    "        ds2[var].attrs['description'] = (\"Source/sink biological impact on DIC\" +\n",
    "                                                 \"integrated over 100m and then divided by 100m.\")\n",
    "    elif var == 'FG_CO2':\n",
    "        ds2[var].attrs['description'] = \"CO2 flux divided by 100m.\"\n",
    "\n",
    "    ds3 = ds3 * conversion\n",
    "    ds3[var + '_AW'].attrs['units'] = 'mol/m3/yr'\n",
    "    if var == 'Jint_100m_DIC':\n",
    "        ds3[var + '_AW'].attrs['description'] = (\"Source/sink biological impact on DIC\" +\n",
    "                                                 \"integrated over 100m and then divided by 100m.\")\n",
    "    elif var == 'FG_CO2':\n",
    "        ds3[var + '_AW'].attrs['description'] = \"CO2 flux divided by 100m.\"\n",
    "        \n",
    "    ds4 = ds4 * conversion\n",
    "    ds4[var].attrs['units'] = 'mol/m3/yr'\n",
    "    if var == 'Jint_100m_DIC':\n",
    "        ds4[var].attrs['description'] = (\"Source/sink biological impact on DIC\" +\n",
    "                                                 \"integrated over 100m and then divided by 100m.\")\n",
    "    elif var == 'FG_CO2':\n",
    "        ds4[var].attrs['description'] = \"CO2 flux divided by 100m.\"\n",
    "        \n",
    "    outdir = ('/glade/p/work/rbrady/EBUS_BGC_Variability/sDIC_decomposition/' + \n",
    "              var + '/' + ebu + '/')\n",
    "    # Save files\n",
    "    ds1.to_netcdf(outdir + ebu.lower() + '-' + var + '-forced-signal-AW-chavez-800km.nc')\n",
    "    ds2.to_netcdf(outdir + ebu.lower() + '-' + var + '-forced-signal-chavez-800km.nc')\n",
    "    ds3.to_netcdf(outdir + ebu.lower() + '-' + var + '-residuals-AW-chavez-800km.nc')\n",
    "    ds4.to_netcdf(outdir + ebu.lower() + '-' + var + '-residuals-chavez-800km.nc')"
   ]
  },
  {
   "cell_type": "markdown",
   "metadata": {},
   "source": [
    "# Convert Terms"
   ]
  },
  {
   "cell_type": "code",
   "execution_count": null,
   "metadata": {},
   "outputs": [],
   "source": [
    "EBU = 'CalCS'\n",
    "VAR = 'FG_CO2'"
   ]
  },
  {
   "cell_type": "code",
   "execution_count": null,
   "metadata": {},
   "outputs": [],
   "source": [
    "conversions = {'sDIC_int100m_tendency': (12/10**3),\n",
    "               'Jint_100m_DIC': (60*60*24*365) / (10**7),\n",
    "               'FG_CO2': (1/100)}"
   ]
  },
  {
   "cell_type": "code",
   "execution_count": null,
   "metadata": {},
   "outputs": [],
   "source": [
    "# Tendency conversion\n",
    "ds1, ds2, ds3, ds4 = load_files(EBU, VAR)\n",
    "convert_and_save(ds1, ds2, ds3, ds4, conversions[VAR], EBU, VAR)"
   ]
  },
  {
   "cell_type": "markdown",
   "metadata": {},
   "source": [
    "# Make circulation residual\n",
    "\n",
    "Ref: Lovenduski et al. 2007\n",
    "\n",
    "$$\n",
    "    \\frac{d(sDIC^{\\prime})}{dt} = J^{\\prime}_{circ} + J^{\\prime}_{ex} + J^{\\prime}_{bio}\n",
    "$$\n",
    "\n",
    "Where $J^{\\prime}_{ex}$ is positive in this case due to flipping the sign of FG_CO2. $ J^{\\prime}_{bio}$ is also positive given the definition of it in CESM."
   ]
  },
  {
   "cell_type": "code",
   "execution_count": 5,
   "metadata": {},
   "outputs": [],
   "source": [
    "EBU = 'CalCS'"
   ]
  },
  {
   "cell_type": "code",
   "execution_count": 11,
   "metadata": {},
   "outputs": [],
   "source": [
    "_, _, co2_aw, co2 = load_files(EBU, 'FG_CO2')\n",
    "_, _, bio_aw, bio = load_files(EBU, 'Jint_100m_DIC')\n",
    "_, _, tend_aw, tend = load_files(EBU, 'sDIC_int100m_tendency')"
   ]
  },
  {
   "cell_type": "code",
   "execution_count": 51,
   "metadata": {},
   "outputs": [],
   "source": [
    "# Have to drop first ensemble member for consistency\n",
    "circ_aw = tend_aw['sDIC_int100m_tendency_AW']  - co2_aw['FG_CO2_AW'].isel(ensemble=slice(1,34))  \\\n",
    "        - bio_aw['Jint_100m_DIC_AW'].isel(ensemble=slice(1,34))\n",
    "circ_aw.name = 'Jint_100m_circ'\n",
    "circ_aw.attrs['units'] = 'mol/m3/yr'\n",
    "circ_aw.attrs['description'] = 'Residual computed by subtracting J_ex and J_bio from the reconstructed tendency term.'\n",
    "\n",
    "####\n",
    "outdir = ('/glade/p/work/rbrady/EBUS_BGC_Variability/sDIC_decomposition/Jint_100m_circ/' + EBU + '/')\n",
    "outfile = (EBU.lower() + '-Jint_100m_circ-residuals-AW-chavez-800km.nc')\n",
    "circ_aw.to_dataset().to_netcdf(outdir + outfile)"
   ]
  },
  {
   "cell_type": "code",
   "execution_count": 58,
   "metadata": {},
   "outputs": [
    {
     "ename": "ValueError",
     "evalue": "arguments without labels along dimension 'nlat' cannot be aligned because they have different dimension size(s) {45} than the size of the aligned dimension labels: 46",
     "output_type": "error",
     "traceback": [
      "\u001b[0;31m---------------------------------------------------------------------------\u001b[0m",
      "\u001b[0;31mValueError\u001b[0m                                Traceback (most recent call last)",
      "\u001b[0;32m<ipython-input-58-c15bd3526464>\u001b[0m in \u001b[0;36m<module>\u001b[0;34m()\u001b[0m\n\u001b[0;32m----> 1\u001b[0;31m \u001b[0mcirc\u001b[0m \u001b[0;34m=\u001b[0m \u001b[0mtend\u001b[0m\u001b[0;34m[\u001b[0m\u001b[0;34m'sDIC_int100m_tendency'\u001b[0m\u001b[0;34m]\u001b[0m \u001b[0;34m-\u001b[0m \u001b[0mco2\u001b[0m\u001b[0;34m[\u001b[0m\u001b[0;34m'FG_CO2'\u001b[0m\u001b[0;34m]\u001b[0m\u001b[0;34m.\u001b[0m\u001b[0misel\u001b[0m\u001b[0;34m(\u001b[0m\u001b[0mensemble\u001b[0m\u001b[0;34m=\u001b[0m\u001b[0mslice\u001b[0m\u001b[0;34m(\u001b[0m\u001b[0;36m1\u001b[0m\u001b[0;34m,\u001b[0m\u001b[0;36m34\u001b[0m\u001b[0;34m)\u001b[0m\u001b[0;34m)\u001b[0m     \u001b[0;34m-\u001b[0m \u001b[0mbio\u001b[0m\u001b[0;34m[\u001b[0m\u001b[0;34m'Jint_100m_DIC'\u001b[0m\u001b[0;34m]\u001b[0m\u001b[0;34m.\u001b[0m\u001b[0misel\u001b[0m\u001b[0;34m(\u001b[0m\u001b[0mensemble\u001b[0m\u001b[0;34m=\u001b[0m\u001b[0mslice\u001b[0m\u001b[0;34m(\u001b[0m\u001b[0;36m1\u001b[0m\u001b[0;34m,\u001b[0m\u001b[0;36m34\u001b[0m\u001b[0;34m)\u001b[0m\u001b[0;34m)\u001b[0m\u001b[0;34m\u001b[0m\u001b[0m\n\u001b[0m",
      "\u001b[0;32m~/miniconda3/envs/py36/lib/python3.6/site-packages/xarray/core/dataarray.py\u001b[0m in \u001b[0;36mfunc\u001b[0;34m(self, other)\u001b[0m\n\u001b[1;32m   1730\u001b[0m                 align_type = (OPTIONS['arithmetic_join']\n\u001b[1;32m   1731\u001b[0m                               if join is None else join)\n\u001b[0;32m-> 1732\u001b[0;31m                 \u001b[0mself\u001b[0m\u001b[0;34m,\u001b[0m \u001b[0mother\u001b[0m \u001b[0;34m=\u001b[0m \u001b[0malign\u001b[0m\u001b[0;34m(\u001b[0m\u001b[0mself\u001b[0m\u001b[0;34m,\u001b[0m \u001b[0mother\u001b[0m\u001b[0;34m,\u001b[0m \u001b[0mjoin\u001b[0m\u001b[0;34m=\u001b[0m\u001b[0malign_type\u001b[0m\u001b[0;34m,\u001b[0m \u001b[0mcopy\u001b[0m\u001b[0;34m=\u001b[0m\u001b[0;32mFalse\u001b[0m\u001b[0;34m)\u001b[0m\u001b[0;34m\u001b[0m\u001b[0m\n\u001b[0m\u001b[1;32m   1733\u001b[0m             \u001b[0mother_variable\u001b[0m \u001b[0;34m=\u001b[0m \u001b[0mgetattr\u001b[0m\u001b[0;34m(\u001b[0m\u001b[0mother\u001b[0m\u001b[0;34m,\u001b[0m \u001b[0;34m'variable'\u001b[0m\u001b[0;34m,\u001b[0m \u001b[0mother\u001b[0m\u001b[0;34m)\u001b[0m\u001b[0;34m\u001b[0m\u001b[0m\n\u001b[1;32m   1734\u001b[0m             \u001b[0mother_coords\u001b[0m \u001b[0;34m=\u001b[0m \u001b[0mgetattr\u001b[0m\u001b[0;34m(\u001b[0m\u001b[0mother\u001b[0m\u001b[0;34m,\u001b[0m \u001b[0;34m'coords'\u001b[0m\u001b[0;34m,\u001b[0m \u001b[0;32mNone\u001b[0m\u001b[0;34m)\u001b[0m\u001b[0;34m\u001b[0m\u001b[0m\n",
      "\u001b[0;32m~/miniconda3/envs/py36/lib/python3.6/site-packages/xarray/core/alignment.py\u001b[0m in \u001b[0;36malign\u001b[0;34m(*objects, **kwargs)\u001b[0m\n\u001b[1;32m    143\u001b[0m                     \u001b[0;34m'aligned because they have different dimension size(s) %r '\u001b[0m\u001b[0;34m\u001b[0m\u001b[0m\n\u001b[1;32m    144\u001b[0m                     \u001b[0;34m'than the size of the aligned dimension labels: %r'\u001b[0m\u001b[0;34m\u001b[0m\u001b[0m\n\u001b[0;32m--> 145\u001b[0;31m                     % (dim, unlabeled_sizes, labeled_size))\n\u001b[0m\u001b[1;32m    146\u001b[0m \u001b[0;34m\u001b[0m\u001b[0m\n\u001b[1;32m    147\u001b[0m     \u001b[0;32mfor\u001b[0m \u001b[0mdim\u001b[0m \u001b[0;32min\u001b[0m \u001b[0munlabeled_dim_sizes\u001b[0m\u001b[0;34m:\u001b[0m\u001b[0;34m\u001b[0m\u001b[0m\n",
      "\u001b[0;31mValueError\u001b[0m: arguments without labels along dimension 'nlat' cannot be aligned because they have different dimension size(s) {45} than the size of the aligned dimension labels: 46"
     ]
    }
   ],
   "source": [
    "# Can't do non-area-weighted. Too much work to go back and fix CalCS... dimensions are off.\n",
    "\n",
    "#circ = tend['sDIC_int100m_tendency'] - co2['FG_CO2'].isel(ensemble=slice(1,34)) \\\n",
    "#    - bio['Jint_100m_DIC'].isel(ensemble=slice(1,34))"
   ]
  },
  {
   "cell_type": "code",
   "execution_count": 38,
   "metadata": {},
   "outputs": [
    {
     "name": "stdout",
     "output_type": "stream",
     "text": [
      "-0.16147474110199464\n"
     ]
    }
   ],
   "source": [
    "#import esmtools as et\n",
    "#x = co2_aw['FG_CO2_AW'].isel(ensemble=1)\n",
    "#x = bio_aw['Jint_100m_DIC_AW'].isel(ensemble=10)\n",
    "#y = tend_aw['sDIC_int100m_tendency_AW'].isel(ensemble=9)\n",
    "#r, _, _ = et.stats.pearsonr(x,y)\n",
    "#print(r)"
   ]
  }
 ],
 "metadata": {
  "kernelspec": {
   "display_name": "Python 3",
   "language": "python",
   "name": "python3"
  },
  "language_info": {
   "codemirror_mode": {
    "name": "ipython",
    "version": 3
   },
   "file_extension": ".py",
   "mimetype": "text/x-python",
   "name": "python",
   "nbconvert_exporter": "python",
   "pygments_lexer": "ipython3",
   "version": "3.6.5"
  }
 },
 "nbformat": 4,
 "nbformat_minor": 2
}
