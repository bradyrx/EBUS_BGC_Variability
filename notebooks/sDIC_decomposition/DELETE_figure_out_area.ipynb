{
 "metadata": {
  "kernelspec": {
   "display_name": "Python 3",
   "language": "python",
   "name": "python3"
  },
  "language_info": {
   "codemirror_mode": {
    "name": "ipython",
    "version": 3
   },
   "file_extension": ".py",
   "mimetype": "text/x-python",
   "name": "python",
   "nbconvert_exporter": "python",
   "pygments_lexer": "ipython3",
   "version": "3.6.6"
  },
  "name": "",
  "toc": {
   "base_numbering": 1,
   "nav_menu": {},
   "number_sections": true,
   "sideBar": true,
   "skip_h1_title": false,
   "title_cell": "Table of Contents",
   "title_sidebar": "Contents",
   "toc_cell": false,
   "toc_position": {},
   "toc_section_display": true,
   "toc_window_display": false
  },
  "varInspector": {
   "cols": {
    "lenName": 16,
    "lenType": 16,
    "lenVar": 40
   },
   "kernels_config": {
    "python": {
     "delete_cmd_postfix": "",
     "delete_cmd_prefix": "del ",
     "library": "var_list.py",
     "varRefreshCmd": "print(var_dic_list())"
    },
    "r": {
     "delete_cmd_postfix": ") ",
     "delete_cmd_prefix": "rm(",
     "library": "var_list.r",
     "varRefreshCmd": "cat(var_dic_list()) "
    }
   },
   "types_to_exclude": [
    "module",
    "function",
    "builtin_function_or_method",
    "instance",
    "_Feature"
   ],
   "window_display": false
  }
 },
 "nbformat": 3,
 "nbformat_minor": 0,
 "worksheets": [
  {
   "cells": [
    {
     "cell_type": "markdown",
     "metadata": {},
     "source": [
      "# Figure out area\n",
      "\n",
      "Trying to see if I need to convert TAREA before working out Gg carbon for sDIC decomposition"
     ]
    },
    {
     "cell_type": "code",
     "collapsed": false,
     "input": [
      "import numpy as np\n",
      "import pandas as pd\n",
      "import xarray as xr\n",
      "import esmtools as et\n",
      "import matplotlib.pyplot as plt\n",
      "%matplotlib inline"
     ],
     "language": "python",
     "metadata": {},
     "outputs": [],
     "prompt_number": 24
    },
    {
     "cell_type": "code",
     "collapsed": false,
     "input": [
      "def detect_EBUS():\n",
      "    lat1 = 25\n",
      "    lat2 = 46\n",
      "    lon1 = 215\n",
      "    lon2 = 260\n",
      "    return lat1, lat2, lon1, lon2"
     ],
     "language": "python",
     "metadata": {},
     "outputs": [],
     "prompt_number": 10
    },
    {
     "cell_type": "code",
     "collapsed": false,
     "input": [
      "ds = xr.open_dataset('/glade/scratch_new/rbrady/EBUS_BGC_Variability/' +\n",
      "                     'SST_monthly/SST.002.192001-210012.nc',\n",
      "                     decode_times=False)"
     ],
     "language": "python",
     "metadata": {},
     "outputs": [],
     "prompt_number": 11
    },
    {
     "cell_type": "code",
     "collapsed": false,
     "input": [
      "ds.coords['time'] = pd.date_range('1920-01', '2101-01', freq='M')\n",
      "ds.attrs = ''\n",
      "ds = ds.squeeze()"
     ],
     "language": "python",
     "metadata": {},
     "outputs": [],
     "prompt_number": 12
    },
    {
     "cell_type": "code",
     "collapsed": false,
     "input": [
      "ds['TAREA'] = ds['TAREA'] / (100 * 100)"
     ],
     "language": "python",
     "metadata": {},
     "outputs": [],
     "prompt_number": 13
    },
    {
     "cell_type": "code",
     "collapsed": false,
     "input": [
      "lat1, lat2, lon1, lon2 = detect_EBUS()"
     ],
     "language": "python",
     "metadata": {},
     "outputs": [],
     "prompt_number": 14
    },
    {
     "cell_type": "code",
     "collapsed": false,
     "input": [
      "ds = ds.sel(time=slice('1920-01', '2015-12'))"
     ],
     "language": "python",
     "metadata": {},
     "outputs": [],
     "prompt_number": 15
    },
    {
     "cell_type": "code",
     "collapsed": false,
     "input": [
      "a, c = et.filtering.find_indices(ds['TLAT'].values, ds['TLONG'].values, lat1,\n",
      "                                 lon1)\n",
      "b, d = et.filtering.find_indices(ds['TLAT'].values, ds['TLONG'].values, lat2,\n",
      "                                 lon2)"
     ],
     "language": "python",
     "metadata": {},
     "outputs": [],
     "prompt_number": 16
    },
    {
     "cell_type": "code",
     "collapsed": false,
     "input": [
      "ds = ds.isel(nlat=slice(a, b), nlon=slice(c, d))"
     ],
     "language": "python",
     "metadata": {},
     "outputs": [],
     "prompt_number": 25
    },
    {
     "cell_type": "heading",
     "level": 1,
     "metadata": {},
     "source": [
      "extract domain"
     ]
    },
    {
     "cell_type": "code",
     "collapsed": false,
     "input": [
      "OFFSHORE = 800\n",
      "ds['DXT'] = ds['DXT'] / 100 / 1000"
     ],
     "language": "python",
     "metadata": {},
     "outputs": [],
     "prompt_number": 30
    },
    {
     "cell_type": "code",
     "collapsed": false,
     "input": [
      "lat1, lat2 = et.ebus.latitude_bounds('CalCS')"
     ],
     "language": "python",
     "metadata": {},
     "outputs": [],
     "prompt_number": 32
    },
    {
     "cell_type": "code",
     "collapsed": false,
     "input": [
      "ds = ds.where(ds['TLAT'] >= lat1).where(ds['TLAT'] <= lat2)"
     ],
     "language": "python",
     "metadata": {},
     "outputs": [],
     "prompt_number": 33
    },
    {
     "cell_type": "code",
     "collapsed": false,
     "input": [
      "data = ds['SST'].isel(time=0)\n",
      "data = np.ma.array(data, mask=np.isnan(data))\n",
      "dxt_dat = ds['DXT']\n",
      "dxt_dat = np.ma.array(dxt_dat, mask=np.isnan(data))\n",
      "ds['DXT'] = (('nlat', 'nlon'), dxt_dat)"
     ],
     "language": "python",
     "metadata": {},
     "outputs": [],
     "prompt_number": 34
    },
    {
     "cell_type": "code",
     "collapsed": false,
     "input": [
      "regmask = ds['REGION_MASK']\n",
      "counter = 0\n",
      "for row in regmask:\n",
      "    conditional = 0 in row.values\n",
      "    if conditional == False:\n",
      "        ds['DXT'][counter, :] = np.nan\n",
      "    counter += 1"
     ],
     "language": "python",
     "metadata": {},
     "outputs": [],
     "prompt_number": 35
    },
    {
     "cell_type": "code",
     "collapsed": false,
     "input": [
      "x = ds['DXT'].values\n",
      "x = np.ma.array(x, mask=np.isnan(x))\n",
      "dxt_cum = np.cumsum(x[:, ::-1], axis=1)[:, ::-1]\n",
      "ds['DXT_Cum'] = (('nlat', 'nlon'), dxt_cum)"
     ],
     "language": "python",
     "metadata": {},
     "outputs": [],
     "prompt_number": 36
    },
    {
     "cell_type": "code",
     "collapsed": false,
     "input": [
      "ds = ds.where(ds['DXT_Cum'] <= OFFSHORE)"
     ],
     "language": "python",
     "metadata": {},
     "outputs": [],
     "prompt_number": 37
    },
    {
     "cell_type": "heading",
     "level": 1,
     "metadata": {},
     "source": [
      "Actually compare area"
     ]
    },
    {
     "cell_type": "code",
     "collapsed": false,
     "input": [
      "ds['TAREA'].sum()"
     ],
     "language": "python",
     "metadata": {},
     "outputs": [],
     "prompt_number": 43
    },
    {
     "cell_type": "code",
     "collapsed": false,
     "input": [
      "EBU = 'CalCS'\n",
      "# Convert to TgC / yr\n",
      "filepath = ('/glade/work/rbrady/EBUS_BGC_Variability/FG_CO2/' +\n",
      "            EBU + '/filtered_output/')\n",
      "filename = (EBU.lower() + '-FG_CO2-forced-signal-chavez-800km.nc')\n",
      "area = xr.open_dataset(filepath + filename)\n",
      "area = area['TAREA']\n",
      "\n",
      "\n",
      "# Total area\n",
      "total_area = area.sum()"
     ],
     "language": "python",
     "metadata": {},
     "outputs": [],
     "prompt_number": 44
    },
    {
     "cell_type": "code",
     "collapsed": false,
     "input": [
      "total_area"
     ],
     "language": "python",
     "metadata": {},
     "outputs": [],
     "prompt_number": 45
    }
   ],
   "metadata": {}
  }
 ]
}