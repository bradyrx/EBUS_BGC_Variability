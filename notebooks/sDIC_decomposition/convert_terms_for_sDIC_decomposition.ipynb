{
 "cells": [
  {
   "cell_type": "markdown",
   "metadata": {},
   "source": [
    "# Convert Terms for sDIC Decomposition\n",
    "\n",
    "See Evernote journal from LANL summer, June 1st. Just conveting all the post-processed\n",
    "means and residuals for each EBU for the terms relevant to the sDIC decomposition. This ensures that they are all mol/m3/yr.\n",
    "\n"
   ]
  },
  {
   "cell_type": "code",
   "execution_count": 1,
   "metadata": {},
   "outputs": [],
   "source": [
    "import numpy as np\n",
    "import pandas as pd\n",
    "import xarray as xr\n",
    "import matplotlib.pyplot as plt\n",
    "%matplotlib inline"
   ]
  },
  {
   "cell_type": "code",
   "execution_count": 2,
   "metadata": {},
   "outputs": [],
   "source": [
    "def load_files(ebu, var):\n",
    "    filepath = ('/glade/p/work/rbrady/EBUS_BGC_Variability/' + var + '/' + ebu + \n",
    "               '/filtered_output/')\n",
    "    ds1 = xr.open_dataset(filepath + ebu.lower() + '-' + var + \n",
    "                          '-forced-signal-AW-chavez-800km.nc')\n",
    "    ds2 = xr.open_dataset(filepath + ebu.lower() + '-' + var +\n",
    "                          '-forced-signal-chavez-800km.nc')\n",
    "    ds3 = xr.open_dataset(filepath + ebu.lower() + '-' + var +\n",
    "                          '-residuals-AW-chavez-800km.nc')\n",
    "    ds4 = xr.open_dataset(filepath + ebu.lower() + '-' + var +\n",
    "                          '-residuals-chavez-800km.nc')\n",
    "    return ds1, ds2, ds3, ds4"
   ]
  },
  {
   "cell_type": "code",
   "execution_count": 3,
   "metadata": {},
   "outputs": [],
   "source": [
    "def convert_and_save(ds1, ds2, ds3, ds4, conversion, ebu, var):\n",
    "    ds1 = ds1 * conversion\n",
    "    ds1[var + '_AW'].attrs['units'] = 'mol/m2/yr'\n",
    "    if var == 'Jint_100m_DIC':\n",
    "        ds1[var + '_AW'].attrs['description'] = (\"Source/sink biological impact on DIC\" +\n",
    "                                                 \"integrated over 100m.\")\n",
    "    elif var == 'FG_CO2':\n",
    "        ds1[var + '_AW'].attrs['description'] = \"Native CO2 flux. Positive is flux out of ocean.\"\n",
    "    \n",
    "    ds2 = ds2 * conversion\n",
    "    ds2[var].attrs['units'] = 'mol/m2/yr'\n",
    "    if var == 'Jint_100m_DIC':\n",
    "        ds2[var].attrs['description'] = (\"Source/sink biological impact on DIC\" +\n",
    "                                                 \"integrated over 100m.\")\n",
    "    elif var == 'FG_CO2':\n",
    "        ds2[var].attrs['description'] = \"Native CO2 flux. Positive is flux out of ocean.\"\n",
    "\n",
    "    ds3 = ds3 * conversion\n",
    "    ds3[var + '_AW'].attrs['units'] = 'mol/m2/yr'\n",
    "    if var == 'Jint_100m_DIC':\n",
    "        ds3[var + '_AW'].attrs['description'] = (\"Source/sink biological impact on DIC\" +\n",
    "                                                 \"integrated over 100m.\")\n",
    "    elif var == 'FG_CO2':\n",
    "        ds3[var + '_AW'].attrs['description'] = \"Native CO2 flux. Positive is flux out of ocean.\"\n",
    "        \n",
    "    ds4 = ds4 * conversion\n",
    "    ds4[var].attrs['units'] = 'mol/m2/yr'\n",
    "    if var == 'Jint_100m_DIC':\n",
    "        ds4[var].attrs['description'] = (\"Source/sink biological impact on DIC\" +\n",
    "                                                 \"integrated over 100m.\")\n",
    "    elif var == 'FG_CO2':\n",
    "        ds4[var].attrs['description'] = \"Native CO2 flux. Positive is flux out of ocean.\"\n",
    "        \n",
    "    outdir = ('/glade/p/work/rbrady/EBUS_BGC_Variability/sDIC_decomposition/' + \n",
    "              var + '/' + ebu + '/')\n",
    "    # Save files\n",
    "    ds1.to_netcdf(outdir + ebu.lower() + '-' + var + '-forced-signal-AW-chavez-800km.nc')\n",
    "    ds2.to_netcdf(outdir + ebu.lower() + '-' + var + '-forced-signal-chavez-800km.nc')\n",
    "    ds3.to_netcdf(outdir + ebu.lower() + '-' + var + '-residuals-AW-chavez-800km.nc')\n",
    "    ds4.to_netcdf(outdir + ebu.lower() + '-' + var + '-residuals-chavez-800km.nc')"
   ]
  },
  {
   "cell_type": "markdown",
   "metadata": {},
   "source": [
    "# Convert Terms"
   ]
  },
  {
   "cell_type": "code",
   "execution_count": 16,
   "metadata": {},
   "outputs": [],
   "source": [
    "EBU = 'BenCS'\n",
    "VAR = 'FG_CO2'"
   ]
  },
  {
   "cell_type": "code",
   "execution_count": 17,
   "metadata": {},
   "outputs": [],
   "source": [
    "conversions = {'sDIC_int100m_tendency': (12/10**3),\n",
    "               'Jint_100m_DIC': (60*60*24*365) / (10**5),\n",
    "               'FG_CO2': 1}"
   ]
  },
  {
   "cell_type": "code",
   "execution_count": 18,
   "metadata": {},
   "outputs": [
    {
     "name": "stderr",
     "output_type": "stream",
     "text": [
      "/glade/u/home/rbrady/miniconda3/envs/py36/lib/python3.6/site-packages/dask/utils.py:1010: UserWarning: Deprecated, see dask.base.get_scheduler instead\n",
      "  warnings.warn(\"Deprecated, see dask.base.get_scheduler instead\")\n"
     ]
    }
   ],
   "source": [
    "# Tendency conversion\n",
    "ds1, ds2, ds3, ds4 = load_files(EBU, VAR)\n",
    "convert_and_save(ds1, ds2, ds3, ds4, conversions[VAR], EBU, VAR)"
   ]
  },
  {
   "cell_type": "markdown",
   "metadata": {},
   "source": [
    "# Make circulation residual\n",
    "\n",
    "Ref: Lovenduski et al. 2007\n",
    "\n",
    "$$\n",
    "    \\frac{d(sDIC^{\\prime})}{dt} = J^{\\prime}_{circ} + J^{\\prime}_{ex} + J^{\\prime}_{bio}\n",
    "$$\n",
    "\n",
    "Where $J^{\\prime}_{ex}$ is positive in this case due to flipping the sign of FG_CO2. $ J^{\\prime}_{bio}$ is also positive given the definition of it in CESM."
   ]
  },
  {
   "cell_type": "code",
   "execution_count": 20,
   "metadata": {},
   "outputs": [],
   "source": [
    "def load_updated_files(ebu, var):\n",
    "    filepath = ('/glade/p/work/rbrady/EBUS_BGC_Variability/sDIC_decomposition/' \n",
    "                + var + '/' + ebu + '/')\n",
    "    ds1 = xr.open_dataarray(filepath + ebu.lower() + '-' + var + \n",
    "                          '-forced-signal-AW-chavez-800km.nc')\n",
    "    ds2 = xr.open_dataarray(filepath + ebu.lower() + '-' + var +\n",
    "                          '-forced-signal-chavez-800km.nc')\n",
    "    ds3 = xr.open_dataarray(filepath + ebu.lower() + '-' + var +\n",
    "                          '-residuals-AW-chavez-800km.nc')\n",
    "    ds4 = xr.open_dataarray(filepath + ebu.lower() + '-' + var +\n",
    "                          '-residuals-chavez-800km.nc')\n",
    "    return ds1, ds2, ds3, ds4"
   ]
  },
  {
   "cell_type": "code",
   "execution_count": 21,
   "metadata": {},
   "outputs": [],
   "source": [
    "def determine_circ(EBU):\n",
    "    # Gas flux\n",
    "    co2_1, co2_2, co2_3, co2_4 = load_updated_files(EBU, 'FG_CO2')\n",
    "    co2_3 = co2_3.isel(ensemble=slice(1,34))\n",
    "    co2_4 = co2_4.isel(ensemble=slice(1,34))    \n",
    "    # Bio activity\n",
    "    bio_1, bio_2, bio_3, bio_4 = load_updated_files(EBU, 'Jint_100m_DIC')\n",
    "    bio_3 = bio_3.isel(ensemble=slice(1,34))\n",
    "    bio_4 = bio_4.isel(ensemble=slice(1,34))\n",
    "    # sDIC tendency\n",
    "    tend_1, tend_2, tend_3, tend_4 = load_updated_files(EBU, \n",
    "                                                        'sDIC_int100m_tendency')\n",
    "    # Derive circulation\n",
    "    circ_1 = tend_1 - co2_1 - bio_1\n",
    "    circ_1.name ='Jint_100m_circ'\n",
    "    circ_1.attrs['units'] = 'mol/m2/yr'\n",
    "    circ_1.attrs['description'] = 'Residual computed by subtracting J_ex and J_bio from the reconstructed tendency term.'\n",
    "\n",
    "    circ_2 = tend_2 - co2_2 - bio_2\n",
    "    circ_2.name ='Jint_100m_circ'\n",
    "    circ_2.attrs['units'] = 'mol/m2/yr'\n",
    "    circ_2.attrs['description'] = 'Residual computed by subtracting J_ex and J_bio from the reconstructed tendency term.'\n",
    "    \n",
    "    circ_3 = tend_3 - co2_3 - bio_3\n",
    "    circ_3.name ='Jint_100m_circ'\n",
    "    circ_3.attrs['units'] = 'mol/m2/yr'\n",
    "    circ_3.attrs['description'] = 'Residual computed by subtracting J_ex and J_bio from the reconstructed tendency term.'\n",
    "    \n",
    "    circ_4 = tend_4 - co2_4 - bio_4\n",
    "    circ_4.name ='Jint_100m_circ'\n",
    "    circ_4.attrs['units'] = 'mol/m2/yr'\n",
    "    circ_4.attrs['description'] = 'Residual computed by subtracting J_ex and J_bio from the reconstructed tendency term.'\n",
    "    \n",
    "    # Save out\n",
    "    outdir = ('/glade/p/work/rbrady/EBUS_BGC_Variability/sDIC_decomposition/Jint_100m_circ/' + EBU + '/')\n",
    "    \n",
    "    print(\"saving out 1...\")\n",
    "    circ_1.to_dataset().to_netcdf(outdir + EBU.lower() + '-forced-signal-AW-chavez-800km.nc')\n",
    "    print(\"saving out 2...\")\n",
    "    circ_2.to_dataset().to_netcdf(outdir + EBU.lower() + '-forced-signal-chavez-800km.nc')\n",
    "    print(\"saving out 3...\")\n",
    "    circ_3.to_dataset().to_netcdf(outdir + EBU.lower() + '-residuals-AW-chavez-800km.nc')\n",
    "    print(\"saving out 4...\")\n",
    "    circ_4.to_dataset().to_netcdf(outdir + EBU.lower() + '-residuals-chavez-800km.nc')"
   ]
  },
  {
   "cell_type": "code",
   "execution_count": 24,
   "metadata": {},
   "outputs": [
    {
     "name": "stdout",
     "output_type": "stream",
     "text": [
      "saving out 1...\n",
      "saving out 2...\n",
      "saving out 3...\n",
      "saving out 4...\n"
     ]
    },
    {
     "name": "stderr",
     "output_type": "stream",
     "text": [
      "/glade/u/home/rbrady/miniconda3/envs/py36/lib/python3.6/site-packages/dask/utils.py:1010: UserWarning: Deprecated, see dask.base.get_scheduler instead\n",
      "  warnings.warn(\"Deprecated, see dask.base.get_scheduler instead\")\n"
     ]
    }
   ],
   "source": [
    "determine_circ('BenCS')\n"
   ]
  }
 ],
 "metadata": {
  "kernelspec": {
   "display_name": "Python 3",
   "language": "python",
   "name": "python3"
  },
  "language_info": {
   "codemirror_mode": {
    "name": "ipython",
    "version": 3
   },
   "file_extension": ".py",
   "mimetype": "text/x-python",
   "name": "python",
   "nbconvert_exporter": "python",
   "pygments_lexer": "ipython3",
   "version": "3.6.6"
  },
  "toc": {
   "base_numbering": 1,
   "nav_menu": {},
   "number_sections": true,
   "sideBar": true,
   "skip_h1_title": false,
   "title_cell": "Table of Contents",
   "title_sidebar": "Contents",
   "toc_cell": false,
   "toc_position": {},
   "toc_section_display": true,
   "toc_window_display": false
  },
  "varInspector": {
   "cols": {
    "lenName": 16,
    "lenType": 16,
    "lenVar": 40
   },
   "kernels_config": {
    "python": {
     "delete_cmd_postfix": "",
     "delete_cmd_prefix": "del ",
     "library": "var_list.py",
     "varRefreshCmd": "print(var_dic_list())"
    },
    "r": {
     "delete_cmd_postfix": ") ",
     "delete_cmd_prefix": "rm(",
     "library": "var_list.r",
     "varRefreshCmd": "cat(var_dic_list()) "
    }
   },
   "types_to_exclude": [
    "module",
    "function",
    "builtin_function_or_method",
    "instance",
    "_Feature"
   ],
   "window_display": false
  }
 },
 "nbformat": 4,
 "nbformat_minor": 2
}
