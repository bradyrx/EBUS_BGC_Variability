{
 "cells": [
  {
   "cell_type": "markdown",
   "metadata": {},
   "source": [
    "# Convert Terms for sDIC Decomposition\n",
    "\n",
    "See Evernote journal from LANL summer, June 1st. Just conveting all the post-processed\n",
    "means and residuals for each EBU for the terms relevant to the sDIC decomposition. This ensures that they are all mol/m3/yr.\n",
    "\n"
   ]
  },
  {
   "cell_type": "code",
   "execution_count": 1,
   "metadata": {},
   "outputs": [],
   "source": [
    "import numpy as np\n",
    "import pandas as pd\n",
    "import xarray as xr\n",
    "import matplotlib.pyplot as plt\n",
    "%matplotlib inline"
   ]
  },
  {
   "cell_type": "code",
   "execution_count": 2,
   "metadata": {},
   "outputs": [],
   "source": [
    "def load_files(ebu, var):\n",
    "    filepath = ('/glade/p/work/rbrady/EBUS_BGC_Variability/' + var + '/' + ebu + \n",
    "               '/filtered_output/')\n",
    "    ds1 = xr.open_dataset(filepath + ebu.lower() + '-' + var + \n",
    "                          '-forced-signal-AW-chavez-800km.nc')\n",
    "    ds2 = xr.open_dataset(filepath + ebu.lower() + '-' + var +\n",
    "                          '-forced-signal-chavez-800km.nc')\n",
    "    ds3 = xr.open_dataset(filepath + ebu.lower() + '-' + var +\n",
    "                          '-residuals-AW-chavez-800km.nc')\n",
    "    ds4 = xr.open_dataset(filepath + ebu.lower() + '-' + var +\n",
    "                          '-residuals-chavez-800km.nc')\n",
    "    return ds1, ds2, ds3, ds4"
   ]
  },
  {
   "cell_type": "code",
   "execution_count": 3,
   "metadata": {},
   "outputs": [],
   "source": [
    "def convert_and_save(ds1, ds2, ds3, ds4, conversion, ebu, var):\n",
    "    ds1 = ds1 * conversion\n",
    "    ds1[var + '_AW'].attrs['units'] = 'mol/m2/yr'\n",
    "    if var == 'Jint_100m_DIC':\n",
    "        ds1[var + '_AW'].attrs['description'] = (\"Source/sink biological impact on DIC\" +\n",
    "                                                 \"integrated over 100m.\")\n",
    "    elif var == 'FG_CO2':\n",
    "        ds1[var + '_AW'].attrs['description'] = \"Native CO2 flux. Positive is flux out of ocean.\"\n",
    "    \n",
    "    ds2 = ds2 * conversion\n",
    "    ds2[var].attrs['units'] = 'mol/m2/yr'\n",
    "    if var == 'Jint_100m_DIC':\n",
    "        ds2[var].attrs['description'] = (\"Source/sink biological impact on DIC\" +\n",
    "                                                 \"integrated over 100m.\")\n",
    "    elif var == 'FG_CO2':\n",
    "        ds2[var].attrs['description'] = \"Native CO2 flux. Positive is flux out of ocean.\"\n",
    "\n",
    "    ds3 = ds3 * conversion\n",
    "    ds3[var + '_AW'].attrs['units'] = 'mol/m2/yr'\n",
    "    if var == 'Jint_100m_DIC':\n",
    "        ds3[var + '_AW'].attrs['description'] = (\"Source/sink biological impact on DIC\" +\n",
    "                                                 \"integrated over 100m.\")\n",
    "    elif var == 'FG_CO2':\n",
    "        ds3[var + '_AW'].attrs['description'] = \"Native CO2 flux. Positive is flux out of ocean.\"\n",
    "        \n",
    "    ds4 = ds4 * conversion\n",
    "    ds4[var].attrs['units'] = 'mol/m2/yr'\n",
    "    if var == 'Jint_100m_DIC':\n",
    "        ds4[var].attrs['description'] = (\"Source/sink biological impact on DIC\" +\n",
    "                                                 \"integrated over 100m.\")\n",
    "    elif var == 'FG_CO2':\n",
    "        ds4[var].attrs['description'] = \"Native CO2 flux. Positive is flux out of ocean.\"\n",
    "        \n",
    "    outdir = ('/glade/p/work/rbrady/EBUS_BGC_Variability/sDIC_decomposition/' + \n",
    "              var + '/' + ebu + '/')\n",
    "    # Save files\n",
    "    ds1.to_netcdf(outdir + ebu.lower() + '-' + var + '-forced-signal-AW-chavez-800km.nc')\n",
    "    ds2.to_netcdf(outdir + ebu.lower() + '-' + var + '-forced-signal-chavez-800km.nc')\n",
    "    ds3.to_netcdf(outdir + ebu.lower() + '-' + var + '-residuals-AW-chavez-800km.nc')\n",
    "    ds4.to_netcdf(outdir + ebu.lower() + '-' + var + '-residuals-chavez-800km.nc')"
   ]
  },
  {
   "cell_type": "markdown",
   "metadata": {},
   "source": [
    "# Convert Terms"
   ]
  },
  {
   "cell_type": "code",
   "execution_count": 50,
   "metadata": {},
   "outputs": [],
   "source": [
    "EBU = 'CalCS'\n",
    "VAR = 'sDIC_int100m_tendency'"
   ]
  },
  {
   "cell_type": "code",
   "execution_count": 51,
   "metadata": {},
   "outputs": [],
   "source": [
    "conversions = {'sDIC_int100m_tendency': (12/10**3),\n",
    "               'Jint_100m_DIC': (60*60*24*365) / (10**5),\n",
    "               'FG_CO2': 1}"
   ]
  },
  {
   "cell_type": "code",
   "execution_count": null,
   "metadata": {},
   "outputs": [],
   "source": [
    "# Tendency conversion\n",
    "ds1, ds2, ds3, ds4 = load_files(EBU, VAR)\n",
    "convert_and_save(ds1, ds2, ds3, ds4, conversions[VAR], EBU, VAR)"
   ]
  },
  {
   "cell_type": "markdown",
   "metadata": {},
   "source": [
    "# Make circulation residual\n",
    "\n",
    "Ref: Lovenduski et al. 2007\n",
    "\n",
    "$$\n",
    "    \\frac{d(sDIC^{\\prime})}{dt} = J^{\\prime}_{circ} + J^{\\prime}_{ex} + J^{\\prime}_{bio}\n",
    "$$\n",
    "\n",
    "Where $J^{\\prime}_{ex}$ is positive in this case due to flipping the sign of FG_CO2. $ J^{\\prime}_{bio}$ is also positive given the definition of it in CESM."
   ]
  },
  {
   "cell_type": "code",
   "execution_count": 59,
   "metadata": {},
   "outputs": [],
   "source": [
    "def load_updated_files(ebu, var):\n",
    "    filepath = ('/glade/p/work/rbrady/EBUS_BGC_Variability/sDIC_decomposition/' + var + '/' + ebu + '/')\n",
    "    ds = xr.open_dataarray(filepath + ebu.lower() + '-' + var +\n",
    "                          '-residuals-AW-chavez-800km.nc')\n",
    "    return ds"
   ]
  },
  {
   "cell_type": "code",
   "execution_count": 93,
   "metadata": {},
   "outputs": [],
   "source": [
    "EBU = 'BenCS'"
   ]
  },
  {
   "cell_type": "code",
   "execution_count": 94,
   "metadata": {},
   "outputs": [],
   "source": [
    "co2_aw = load_updated_files(EBU, 'FG_CO2')\n",
    "co2_aw = co2_aw.isel(ensemble=slice(1,34))\n",
    "\n",
    "bio_aw = load_updated_files(EBU, 'Jint_100m_DIC')\n",
    "bio_aw = bio_aw.isel(ensemble=slice(1,34))\n",
    "\n",
    "tend_aw = load_updated_files(EBU, 'sDIC_int100m_tendency')"
   ]
  },
  {
   "cell_type": "code",
   "execution_count": 96,
   "metadata": {},
   "outputs": [],
   "source": [
    "# Have to drop first ensemble member for consistency\n",
    "circ_aw = tend_aw - co2_aw - bio_aw\n",
    "circ_aw.name = 'Jint_100m_circ'\n",
    "circ_aw.attrs['units'] = 'mol/m2/yr'\n",
    "circ_aw.attrs['description'] = 'Residual computed by subtracting J_ex and J_bio from the reconstructed tendency term.'\n",
    "\n",
    "####\n",
    "outdir = ('/glade/p/work/rbrady/EBUS_BGC_Variability/sDIC_decomposition/Jint_100m_circ/' + EBU + '/')\n",
    "outfile = (EBU.lower() + '-Jint_100m_circ-residuals-AW-chavez-800km.nc')\n",
    "circ_aw.to_dataset().to_netcdf(outdir + outfile)"
   ]
  },
  {
   "cell_type": "code",
   "execution_count": null,
   "metadata": {},
   "outputs": [],
   "source": []
  }
 ],
 "metadata": {
  "kernelspec": {
   "display_name": "Python 3",
   "language": "python",
   "name": "python3"
  },
  "language_info": {
   "codemirror_mode": {
    "name": "ipython",
    "version": 3
   },
   "file_extension": ".py",
   "mimetype": "text/x-python",
   "name": "python",
   "nbconvert_exporter": "python",
   "pygments_lexer": "ipython3",
   "version": "3.6.5"
  }
 },
 "nbformat": 4,
 "nbformat_minor": 2
}
