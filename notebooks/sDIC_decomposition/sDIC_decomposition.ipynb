{
 "cells": [
  {
   "cell_type": "markdown",
   "metadata": {},
   "source": [
    "# sDIC Decomposition\n",
    "\n",
    "Decomposing sDIC via finite differencing to look at what influences its changes.\n",
    "\n",
    "$$\n",
    "\\frac{dsDIC}{dt} = J^{\\prime}_{circ} + J^{\\prime}_{bio} + J^{\\prime}_{ex}\n",
    "$$"
   ]
  },
  {
   "cell_type": "code",
   "execution_count": 19,
   "metadata": {},
   "outputs": [],
   "source": [
    "import numpy as np\n",
    "import xarray as xr\n",
    "import matplotlib.pyplot as plt\n",
    "%matplotlib inline\n",
    "import esmtools as et\n",
    "import glob\n",
    "import seaborn as sns\n",
    "import pandas as pd"
   ]
  },
  {
   "cell_type": "code",
   "execution_count": 20,
   "metadata": {},
   "outputs": [],
   "source": [
    "def load_variables(ebu):\n",
    "    v_list = ['FG_CO2', 'Jint_100m_circ', 'Jint_100m_DIC', 'sDIC_int100m_tendency']\n",
    "    basepath = '/glade/work/rbrady/EBUS_BGC_Variability/sDIC_decomposition/'\n",
    "    ds = xr.Dataset()\n",
    "    for name in v_list:\n",
    "        filepath = (basepath + name + '/' + ebu + '/' + ebu.lower() +\n",
    "                   '-' + name + '-residuals-AW-chavez-800km.nc')\n",
    "        temp_ds = xr.open_dataarray(filepath)\n",
    "        if name == 'FG_CO2' or name == 'Jint_100m_DIC':\n",
    "            temp_ds = temp_ds.isel(ensemble=slice(1,34))\n",
    "        ds = xr.merge([ds, temp_ds])\n",
    "    return ds\n",
    "    "
   ]
  },
  {
   "cell_type": "code",
   "execution_count": 21,
   "metadata": {},
   "outputs": [],
   "source": [
    "def load_index(idx):\n",
    "    if idx == 'NPGO':\n",
    "        ds = xr.open_mfdataset('/glade/work/rbrady/EBUS_BGC_Variability/NPGO/*.nc', \n",
    "                              concat_dim='ensemble')\n",
    "        ds = ds.isel(ensemble=slice(1,34))\n",
    "        ds = ds['pc'].to_dataset()\n",
    "        ds = ds.rename({'pc': 'NPGO'})\n",
    "    else:\n",
    "        ds = xr.open_dataset('/glade/work/rbrady/cesmLE_CVDP/processed/cvdp_detrended_BGC.nc')\n",
    "        ds = ds[idx]\n",
    "        ds = ds.isel(ensemble=slice(1,34))\n",
    "    return ds"
   ]
  },
  {
   "cell_type": "code",
   "execution_count": 22,
   "metadata": {},
   "outputs": [],
   "source": [
    "def regression(ds):\n",
    "    m1, m2, m3, m4 = ([] for i in range(4))\n",
    "    for label, group in ds.groupby('ensemble'):\n",
    "        \"\"\"\n",
    "        The manually integrate\n",
    "        \"\"\"\n",
    "        M1, _, _, _, _ = et.stats.linear_regression(group['index'], group['FG_CO2_AW'])\n",
    "        M2, _, _, _, _ = et.stats.linear_regression(group['index'], group['Jint_100m_circ'])\n",
    "        M3, _, _, _, _ = et.stats.linear_regression(group['index'], group['Jint_100m_DIC_AW'])\n",
    "        M4, _, _, _, _ = et.stats.linear_regression(group['index'], group['sDIC_int100m_tendency_AW'])\n",
    "    #    R, P, N = et.stats.pearsonr(group['NPGO'], group['FG_CO2_AW'])\n",
    "        m1.append(M1)\n",
    "        m2.append(M2)\n",
    "        m3.append(M3)\n",
    "        m4.append(M4)\n",
    "    results = xr.Dataset({'CO2': ('ensemble', m1),\n",
    "                      'Circulation': ('ensemble', m2),\n",
    "                      'Biology': ('ensemble', m3),\n",
    "                      'Tendency': ('ensemble', m4)}) \n",
    "    return results"
   ]
  },
  {
   "cell_type": "markdown",
   "metadata": {},
   "source": [
    "# Just getting straight forward numbers for table"
   ]
  },
  {
   "cell_type": "code",
   "execution_count": 46,
   "metadata": {},
   "outputs": [],
   "source": [
    "EBU = 'CanCS'\n",
    "IDX = 'nao'\n",
    "ds = load_variables(EBU)\n",
    "\n",
    "# Load in index\n",
    "if EBU == 'CalCS':\n",
    "    npgo = load_index('NPGO')\n",
    "    ds = xr.merge([ds, npgo.load()])\n",
    "    ds = ds.rename({'NPGO': 'index'})\n",
    "else:\n",
    "    index = load_index(IDX)\n",
    "    ds = xr.merge([ds, index])\n",
    "    ds = ds.rename({IDX: 'index'})"
   ]
  },
  {
   "cell_type": "code",
   "execution_count": 47,
   "metadata": {},
   "outputs": [],
   "source": [
    "results = regression(ds)"
   ]
  },
  {
   "cell_type": "code",
   "execution_count": 48,
   "metadata": {},
   "outputs": [],
   "source": [
    "# Convert to TgC / yr\n",
    "filepath = ('/glade/work/rbrady/EBUS_BGC_Variability/FG_CO2/' +\n",
    "            EBU + '/filtered_output/')\n",
    "filename = (EBU.lower() + '-FG_CO2-forced-signal-chavez-800km.nc')\n",
    "area = xr.open_dataset(filepath + filename)\n",
    "area = area['TAREA']\n",
    "\n",
    "\n",
    "# Total area\n",
    "total_area = area.sum()"
   ]
  },
  {
   "cell_type": "code",
   "execution_count": 49,
   "metadata": {},
   "outputs": [
    {
     "name": "stdout",
     "output_type": "stream",
     "text": [
      "<xarray.Dataset>\n",
      "Dimensions:      ()\n",
      "Data variables:\n",
      "    CO2          float64 0.5117\n",
      "    Circulation  float64 0.02337\n",
      "    Biology      float64 -0.4911\n",
      "    Tendency     float64 0.04398\n"
     ]
    }
   ],
   "source": [
    "# Converts to TgC/yr\n",
    "conversion = 12 * total_area / 10**12\n",
    "print(results.mean('ensemble') * conversion)"
   ]
  },
  {
   "cell_type": "code",
   "execution_count": 50,
   "metadata": {},
   "outputs": [
    {
     "name": "stdout",
     "output_type": "stream",
     "text": [
      "<xarray.Dataset>\n",
      "Dimensions:      ()\n",
      "Data variables:\n",
      "    CO2          float64 0.2128\n",
      "    Circulation  float64 0.5518\n",
      "    Biology      float64 0.5429\n",
      "    Tendency     float64 0.008717\n"
     ]
    }
   ],
   "source": [
    "print(results.std('ensemble') * conversion)"
   ]
  },
  {
   "cell_type": "markdown",
   "metadata": {},
   "source": [
    "## Visualization\n",
    "\n",
    "It's not helpful to look at raw values but probably the percent contribution of each term to the total."
   ]
  },
  {
   "cell_type": "markdown",
   "metadata": {},
   "source": [
    "### Relative Values"
   ]
  },
  {
   "cell_type": "code",
   "execution_count": 52,
   "metadata": {},
   "outputs": [],
   "source": [
    "def create_pandas(da, df, system):\n",
    "    \"\"\"\n",
    "    da : dataarray to add to dataframe\n",
    "    df : dataframe you are appending this to\n",
    "    \"\"\"\n",
    "    temp_df = da.to_dataframe()\n",
    "    temp_df.columns = ['value']\n",
    "    temp_df['variable'] = da.name\n",
    "    if system == 'CalCS':\n",
    "        temp_df['system'] = system + ' – NPGO'\n",
    "    elif system == 'CanCS':\n",
    "        temp_df['system'] = system + ' – NAO'\n",
    "    elif system == 'HumCS':\n",
    "        temp_df['system'] = system + ' – Nino3'\n",
    "    df = pd.concat([df, temp_df])\n",
    "    return df\n",
    "\n",
    "def relative_values(ds):\n",
    "    \"\"\"\n",
    "    Computes values of three contributors relative\n",
    "    to their sum. This allows comparison between systems.\n",
    "    \"\"\"\n",
    "    # Percent of absolute total\n",
    "    co2 = np.abs(ds['CO2']) / (np.abs(ds['CO2']) + \\\n",
    "                 np.abs(ds['Biology']) + np.abs(ds['Circulation']))\n",
    "    bio = np.abs(ds['Biology']) / (np.abs(ds['CO2']) + \\\n",
    "                 np.abs(ds['Biology']) + np.abs(ds['Circulation']))\n",
    "    circ = np.abs(ds['Circulation']) / (np.abs(ds['CO2']) + \\\n",
    "                  np.abs(ds['Biology']) + np.abs(ds['Circulation']))\n",
    "    # Give original sign\n",
    "    ds = ds.where(ds > 0, -1)\n",
    "    ds = ds.where(ds < 0, 1)\n",
    "    co2 = co2 * ds['CO2'] * 100\n",
    "    co2.name = 'co2'\n",
    "    bio = bio * ds['Biology'] * 100\n",
    "    bio.name = 'bio'\n",
    "    circ = circ * ds['Circulation'] * 100\n",
    "    circ.name = 'circ'\n",
    "    return co2, bio, circ"
   ]
  },
  {
   "cell_type": "code",
   "execution_count": null,
   "metadata": {},
   "outputs": [],
   "source": [
    "pairs = {'CalCS': 'NPGO', 'HumCS': 'nino3', 'CanCS': 'nao'}\n",
    "df = pd.DataFrame()\n",
    "for E, I in pairs.items():\n",
    "    ds = load_variables(E)\n",
    "    index = load_index(I)\n",
    "    ds = xr.merge([ds, index])\n",
    "    ds = ds.rename({I: 'index'})\n",
    "    ds = regression(ds)\n",
    "    conversion = 12 * total_area / 10**9\n",
    "    ds = ds * conversion\n",
    "    # Convert to relative values\n",
    "    co2, bio, circ = relative_values(ds)\n",
    "    \n",
    "    # Set up in Pandas\n",
    "    df = create_pandas(co2, df, E)\n",
    "    df = create_pandas(bio, df, E)\n",
    "    df = create_pandas(circ, df, E)"
   ]
  },
  {
   "cell_type": "code",
   "execution_count": 12,
   "metadata": {},
   "outputs": [
    {
     "data": {
      "text/plain": [
       "[None, None, None, None, None, None]"
      ]
     },
     "execution_count": 12,
     "metadata": {},
     "output_type": "execute_result"
    },
    {
     "data": {
      "image/png": "[encoded data removed]",
      "text/plain": [
       "<Figure size 576x216 with 1 Axes>"
      ]
     },
     "metadata": {},
     "output_type": "display_data"
    }
   ],
   "source": [
    "f, ax = plt.subplots(figsize=(8,3))\n",
    "\n",
    "plt.style.use('seaborn-whitegrid')\n",
    "clist = ['#66c2a5', '#fc8d62', '#8da0cb']\n",
    "\n",
    "sns.barplot(x='variable', y='value', hue='system', data=df,\n",
    "           ci='sd', capsize=0.05, errwidth=1, order=list(['co2', 'circ', 'bio']),\n",
    "           palette=clist)\n",
    "\n",
    "ax.set_xticklabels(['CO$_{2}$ Flux','Circulation','Biology'])\n",
    "ax.set_xlabel('')\n",
    "ax.set_ylabel('Percent Contribution to' + '\\n' + 'sDIC Tendency', fontsize=12)\n",
    "ax.set_title('Relative Contributions to sDIC Tendency Anomaly', fontsize=14)\n",
    "\n",
    "sns.despine(left=True, bottom=True)\n",
    "et.vis.outer_legend()\n",
    "plt.setp(plt.gca().get_legend().get_texts(), fontsize=12)\n",
    "\n",
    "\n",
    "#plt.show()\n",
    "#et.vis.savefig('relative_sDIC_decomposition', extension='.eps', dpi=300)"
   ]
  },
  {
   "cell_type": "markdown",
   "metadata": {},
   "source": [
    "### Actual Values"
   ]
  },
  {
   "cell_type": "code",
   "execution_count": null,
   "metadata": {},
   "outputs": [],
   "source": [
    "def create_pandas(da, df, system):\n",
    "    \"\"\"\n",
    "    da : dataarray to add to dataframe\n",
    "    df : dataframe you are appending this to\n",
    "    \"\"\"\n",
    "    temp_df = da.to_dataframe()\n",
    "    temp_df.columns = ['value']\n",
    "    temp_df['variable'] = da.name\n",
    "    if system == 'CalCS':\n",
    "        temp_df['system'] = system + ' – NPGO'\n",
    "    elif system == 'CanCS':\n",
    "        temp_df['system'] = system + ' – NAO'\n",
    "    elif system == 'HumCS':\n",
    "        temp_df['system'] = system + ' – Nino3'\n",
    "    df = pd.concat([df, temp_df])\n",
    "    return df\n",
    "\n",
    "pairs = {'CalCS': 'NPGO', 'HumCS': 'nino3', 'CanCS': 'nao'}\n",
    "df = pd.DataFrame()\n",
    "for E, I in pairs.items():\n",
    "    ds = load_variables(E)\n",
    "    index = load_index(I)\n",
    "    ds = xr.merge([ds, index])\n",
    "    ds = ds.rename({I: 'index'})\n",
    "    ds = regression(ds)\n",
    "    conversion = 12 * total_area / 10**9\n",
    "    ds = ds * conversion\n",
    "    # Set up in Pandas\n",
    "    df = create_pandas(ds['CO2'], df, E)\n",
    "    df = create_pandas(ds['Biology'], df, E)\n",
    "    df = create_pandas(ds['Circulation'], df, E)\n",
    "    "
   ]
  },
  {
   "cell_type": "code",
   "execution_count": null,
   "metadata": {},
   "outputs": [],
   "source": [
    "f, ax = plt.subplots(figsize=(8,3))\n",
    "plt.style.use('seaborn-whitegrid')\n",
    "clist = ['#66c2a5', '#fc8d62', '#8da0cb']\n",
    "\n",
    "\n",
    "sns.barplot(x='variable', y='value', hue='system', data=df, ci='sd', capsize=0.05, errwidth=1,\n",
    "            order=list(['CO2', 'Circulation', 'Biology']), palette=clist)\n",
    "\n",
    "\n",
    "ax.set_xticklabels(['CO$_{2}$ Flux','Circulation','Biology'])\n",
    "ax.set_xlabel('')\n",
    "ax.set_ylabel('Contribution to' + '\\n' + 'sDIC Tendency [GgC yr$^{-1}$]', fontsize=12)\n",
    "ax.set_title('Absolute Contributions to sDIC Tendency Anomaly', fontsize=14)\n",
    "ax.set_ylim([-1, 1])\n",
    "\n",
    "sns.despine(left=True, bottom=True)\n",
    "et.vis.outer_legend()\n",
    "plt.setp(plt.gca().get_legend().get_texts(), fontsize=12)\n",
    "\n",
    "#plt.show()\n",
    "#et.vis.savefig('absolute_sDIC_decomposition', extension='.eps', dpi=300)"
   ]
  }
 ],
 "metadata": {
  "kernelspec": {
   "display_name": "Python 3",
   "language": "python",
   "name": "python3"
  },
  "language_info": {
   "codemirror_mode": {
    "name": "ipython",
    "version": 3
   },
   "file_extension": ".py",
   "mimetype": "text/x-python",
   "name": "python",
   "nbconvert_exporter": "python",
   "pygments_lexer": "ipython3",
   "version": "3.6.6"
  },
  "toc": {
   "base_numbering": 1,
   "nav_menu": {},
   "number_sections": true,
   "sideBar": true,
   "skip_h1_title": false,
   "title_cell": "Table of Contents",
   "title_sidebar": "Contents",
   "toc_cell": false,
   "toc_position": {},
   "toc_section_display": true,
   "toc_window_display": false
  },
  "varInspector": {
   "cols": {
    "lenName": 16,
    "lenType": 16,
    "lenVar": 40
   },
   "kernels_config": {
    "python": {
     "delete_cmd_postfix": "",
     "delete_cmd_prefix": "del ",
     "library": "var_list.py",
     "varRefreshCmd": "print(var_dic_list())"
    },
    "r": {
     "delete_cmd_postfix": ") ",
     "delete_cmd_prefix": "rm(",
     "library": "var_list.r",
     "varRefreshCmd": "cat(var_dic_list()) "
    }
   },
   "types_to_exclude": [
    "module",
    "function",
    "builtin_function_or_method",
    "instance",
    "_Feature"
   ],
   "window_display": false
  }
 },
 "nbformat": 4,
 "nbformat_minor": 2
}
