{
 "cells": [
  {
   "cell_type": "markdown",
   "metadata": {},
   "source": [
    "# Overhead sDIC Decomposition\n",
    "\n",
    "Run the DIC decomposition but for every grid cell in the given EBUS."
   ]
  },
  {
   "cell_type": "code",
   "execution_count": 31,
   "metadata": {},
   "outputs": [],
   "source": [
    "import numpy as np\n",
    "import xarray as xr\n",
    "import matplotlib.pyplot as plt\n",
    "%matplotlib inline\n",
    "import esmtools as et\n",
    "import glob\n",
    "import seaborn as sns\n",
    "import pandas as pd\n",
    "from scipy import stats\n",
    "import numpy.polynomial.polynomial as poly\n",
    "import cartopy.crs as ccrs\n",
    "import cartopy.feature as cfeature\n",
    "import cmocean.cm as cm"
   ]
  },
  {
   "cell_type": "markdown",
   "metadata": {},
   "source": [
    "## Functions"
   ]
  },
  {
   "cell_type": "code",
   "execution_count": 32,
   "metadata": {},
   "outputs": [],
   "source": [
    "def load_variables(ebu):\n",
    "    v_list = ['FG_CO2', 'Jint_100m_circ', 'Jint_100m_DIC', 'sDIC_int100m_tendency']\n",
    "    basepath = '/glade/work/rbrady/EBUS_BGC_Variability/sDIC_decomposition/'\n",
    "    ds = xr.Dataset()\n",
    "    for name in v_list:\n",
    "        filepath = (basepath + name + '/' + ebu + '/' + ebu.lower() +\n",
    "                   '-' + name + '-residuals-chavez-800km.nc')\n",
    "        temp_ds = xr.open_dataarray(filepath)\n",
    "        if name == 'FG_CO2' or name == 'Jint_100m_DIC':\n",
    "            temp_ds = temp_ds.isel(ensemble=slice(1,34))\n",
    "        ds = xr.merge([ds, temp_ds])\n",
    "    return ds"
   ]
  },
  {
   "cell_type": "code",
   "execution_count": 33,
   "metadata": {},
   "outputs": [],
   "source": [
    "def load_index(idx):\n",
    "    if idx == 'NPGO':\n",
    "        ds = xr.open_mfdataset('/glade/work/rbrady/EBUS_BGC_Variability/NPGO/*.nc', \n",
    "                              concat_dim='ensemble')\n",
    "        ds = ds.isel(ensemble=slice(1,34))\n",
    "        ds = ds['pc'].to_dataset()\n",
    "        ds = ds.rename({'pc': 'NPGO'})\n",
    "    else:\n",
    "        ds = xr.open_dataset('/glade/work/rbrady/cesmLE_CVDP/processed/cvdp_detrended_BGC.nc')\n",
    "        ds = ds[idx]\n",
    "        ds = ds.isel(ensemble=slice(1,34))\n",
    "    return ds"
   ]
  },
  {
   "cell_type": "code",
   "execution_count": 34,
   "metadata": {},
   "outputs": [],
   "source": [
    "def vectorized_regression(x, y, suppress_output=False):\n",
    "    \"\"\"\n",
    "    Vectorized function for regressing many time series onto a fixed time\n",
    "    series.\n",
    "    \n",
    "    Input\n",
    "    -----\n",
    "    x : array_like\n",
    "      Time series of independent values (time, climate index, etc.)\n",
    "    y : array_like\n",
    "      Grid of values to act as dependent values (SST, CO2 flux, etc.)\n",
    "      \n",
    "    Return\n",
    "    ------\n",
    "    m : array_like\n",
    "      Grid of slopes from linear regression\n",
    "    \"\"\"\n",
    "    if not suppress_output:\n",
    "        print(\"Make sure that time is the first dimension in your inputs.\")\n",
    "    if np.isnan(x).any():\n",
    "        raise ValueError(\"Please supply an independent axis (x) without NaNs.\")\n",
    "        \n",
    "    # convert to numpy array if xarray\n",
    "    if isinstance(y, xr.DataArray):\n",
    "        XARRAY = True\n",
    "        dim1 = y.dims[1]\n",
    "        dim2 = y.dims[2]\n",
    "        y = np.asarray(y)\n",
    "        \n",
    "    data_shape = y.shape\n",
    "    y = y.reshape((data_shape[0], -1))\n",
    "    # NaNs screw up vectorized regression; just fill with zeros.\n",
    "    y[np.isnan(y)] = 0\n",
    "    coefs = poly.polyfit(x, y, deg=1)\n",
    "    m = coefs[1].reshape( (data_shape[1], data_shape[2]) )\n",
    "    m[m == 0] = np.nan\n",
    "    \n",
    "    if XARRAY:\n",
    "        m = xr.DataArray(m, dims=[dim1, dim2])\n",
    "    return m"
   ]
  },
  {
   "cell_type": "code",
   "execution_count": 35,
   "metadata": {},
   "outputs": [],
   "source": [
    "def regression(ds):\n",
    "    m1, m2, m3, m4 = ([] for i in range(4))\n",
    "    for label, group in ds.groupby('ensemble'):\n",
    "        \"\"\"\n",
    "        The manually integrate\n",
    "        \"\"\"\n",
    "        M1, _, _, _, _ = et.stats.linear_regression(group['index'], group['FG_CO2_AW'])\n",
    "        M2, _, _, _, _ = et.stats.linear_regression(group['index'], group['Jint_100m_circ'])\n",
    "        M3, _, _, _, _ = et.stats.linear_regression(group['index'], group['Jint_100m_DIC_AW'])\n",
    "        M4, _, _, _, _ = et.stats.linear_regression(group['index'], group['sDIC_int100m_tendency_AW'])\n",
    "    #    R, P, N = et.stats.pearsonr(group['NPGO'], group['FG_CO2_AW'])\n",
    "        m1.append(M1)\n",
    "        m2.append(M2)\n",
    "        m3.append(M3)\n",
    "        m4.append(M4)\n",
    "    results = xr.Dataset({'CO2': ('ensemble', m1),\n",
    "                      'Circulation': ('ensemble', m2),\n",
    "                      'Biology': ('ensemble', m3),\n",
    "                      'Tendency': ('ensemble', m4)}) \n",
    "    return results"
   ]
  },
  {
   "cell_type": "code",
   "execution_count": 37,
   "metadata": {},
   "outputs": [],
   "source": [
    "EBU = 'HumCS'\n",
    "IDX = 'nino3'\n",
    "ds = load_variables(EBU)\n",
    "\n",
    "# Load in index\n",
    "if IDX == 'NPGO':\n",
    "    index = load_index('NPGO')\n",
    "    ds = xr.merge([ds, npgo.load()])\n",
    "    ds = ds.rename({'NPGO': 'index'})\n",
    "else:\n",
    "    index = load_index(IDX)\n",
    "    ds = xr.merge([ds, index])\n",
    "    ds = ds.rename({IDX: 'index'})"
   ]
  },
  {
   "cell_type": "code",
   "execution_count": 38,
   "metadata": {},
   "outputs": [],
   "source": [
    "m1, m2, m3, m4 = ([] for i in range(4))\n",
    "for label, group in ds.groupby('ensemble'):\n",
    "    M1 = vectorized_regression(group.index, group.FG_CO2, suppress_output=True)\n",
    "    M2 = vectorized_regression(group.index, group.Jint_100m_circ,\n",
    "                               suppress_output=True)\n",
    "    M3 = vectorized_regression(group.index, group.Jint_100m_DIC,\n",
    "                               suppress_output=True)\n",
    "    M4 = vectorized_regression(group.index, group.sDIC_int100m_tendency,\n",
    "                               suppress_output=True)\n",
    "    m1.append(M1.values)\n",
    "    m2.append(M2.values)\n",
    "    m3.append(M3.values)\n",
    "    m4.append(M4.values)\n",
    "results = xr.Dataset({'CO2': (('ensemble', 'nlat', 'nlon'), m1),\n",
    "                      'Circulation': (('ensemble', 'nlat', 'nlon'), m2),\n",
    "                      'Biology': (('ensemble', 'nlat', 'nlon'), m3),\n",
    "                      'Tendency': (('ensemble', 'nlat', 'nlon'), m4)}) "
   ]
  },
  {
   "cell_type": "markdown",
   "metadata": {},
   "source": [
    "## Visualize"
   ]
  },
  {
   "cell_type": "code",
   "execution_count": 48,
   "metadata": {},
   "outputs": [],
   "source": [
    "def plot_term(ax, EBU, term, title, cmap=\"RdBu_r\"):\n",
    "    lon = term.TLONG\n",
    "    lat = term.TLAT\n",
    "    x0,x1,y0,y1 = et.ebus.visual_bounds(EBU)\n",
    "    p = ax.pcolor(lon-1, lat, term.mean('ensemble'), transform=ccrs.PlateCarree(),\n",
    "                cmap=cmap, vmin=-1.5, vmax=1.5, edgecolor='w')\n",
    "    ax.set_extent([x0,x1,y0,y1])\n",
    "    ax.add_feature(cfeature.LAND, facecolor='k')\n",
    "    ax.outline_patch.set_edgecolor('white')\n",
    "    ax.set_title(title)\n",
    "    return p"
   ]
  },
  {
   "cell_type": "code",
   "execution_count": 49,
   "metadata": {},
   "outputs": [],
   "source": [
    "results.coords['TLAT'] = ds['TLAT']\n",
    "results.coords['TLONG'] = ds['TLONG']"
   ]
  },
  {
   "cell_type": "code",
   "execution_count": 52,
   "metadata": {},
   "outputs": [
    {
     "data": {
      "image/png": "[encoded data removed]",
      "text/plain": [
       "<Figure size 864x432 with 4 Axes>"
      ]
     },
     "metadata": {},
     "output_type": "display_data"
    }
   ],
   "source": [
    "f, ax = plt.subplots(nrows=1, ncols=3, figsize=(12,6), \n",
    "                     subplot_kw=dict(projection=ccrs.Mercator()))\n",
    "\n",
    "# Plot Terms \n",
    "terms = [results['CO2'], results['Circulation'], results['Biology']]\n",
    "titles = ['CO2', 'Circulation', 'Biology']\n",
    "for i, name in enumerate(terms):\n",
    "    p = plot_term(ax[i], EBU, name, titles[i], cmap=cm.delta)\n",
    "\n",
    "cb = f.colorbar(p, ax=ax.ravel().tolist(), orientation='horizontal',\n",
    "                fraction=0.05, pad=0.05, ticks=[-1.5, -1.0, -0.5, 0, 0.5, 1.0, 1.5],\n",
    "                extend=\"both\")\n",
    "cb.set_label('Contribution to sDIC Tendency Anomaly (mol m$^{-2}$ yr$^{-1})$')\n",
    "\n",
    "\n",
    "#et.vis.savefig(EBU + '_sDIC_spatial_decomposition_' + IDX, extension='.eps', dpi=300)"
   ]
  },
  {
   "cell_type": "code",
   "execution_count": null,
   "metadata": {},
   "outputs": [],
   "source": []
  }
 ],
 "metadata": {
  "kernelspec": {
   "display_name": "Python 3",
   "language": "python",
   "name": "python3"
  },
  "language_info": {
   "codemirror_mode": {
    "name": "ipython",
    "version": 3
   },
   "file_extension": ".py",
   "mimetype": "text/x-python",
   "name": "python",
   "nbconvert_exporter": "python",
   "pygments_lexer": "ipython3",
   "version": "3.6.6"
  },
  "toc": {
   "base_numbering": 1,
   "nav_menu": {},
   "number_sections": true,
   "sideBar": true,
   "skip_h1_title": false,
   "title_cell": "Table of Contents",
   "title_sidebar": "Contents",
   "toc_cell": false,
   "toc_position": {},
   "toc_section_display": true,
   "toc_window_display": false
  },
  "varInspector": {
   "cols": {
    "lenName": 16,
    "lenType": 16,
    "lenVar": 40
   },
   "kernels_config": {
    "python": {
     "delete_cmd_postfix": "",
     "delete_cmd_prefix": "del ",
     "library": "var_list.py",
     "varRefreshCmd": "print(var_dic_list())"
    },
    "r": {
     "delete_cmd_postfix": ") ",
     "delete_cmd_prefix": "rm(",
     "library": "var_list.r",
     "varRefreshCmd": "cat(var_dic_list()) "
    }
   },
   "types_to_exclude": [
    "module",
    "function",
    "builtin_function_or_method",
    "instance",
    "_Feature"
   ],
   "window_display": false
  }
 },
 "nbformat": 4,
 "nbformat_minor": 2
}
