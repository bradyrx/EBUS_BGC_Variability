{
 "cells": [
  {
   "cell_type": "markdown",
   "metadata": {},
   "source": [
    "# CalCS Subboxes Decomposition\n",
    "\n",
    "M. Jacox suggests that I look into the decomposition for the California Current subboxes -- i.e. the onshore and offshore boxes that I used to correlate to the PDO/NPGO."
   ]
  },
  {
   "cell_type": "code",
   "execution_count": 1,
   "metadata": {},
   "outputs": [],
   "source": [
    "import os\n",
    "import glob\n",
    "import numpy as np\n",
    "import xarray as xr\n",
    "import matplotlib.pyplot as plt\n",
    "%matplotlib inline\n",
    "import esmtools as et\n",
    "import seaborn as sns\n",
    "import pandas as pd"
   ]
  },
  {
   "cell_type": "code",
   "execution_count": 2,
   "metadata": {},
   "outputs": [],
   "source": [
    "def get_indices(str):\n",
    "    \"\"\"\n",
    "    Given a string (\"offshore\" or \"onshore\") returns the x0, x1, y0,\n",
    "    y1 indices for slicing to the desired box.\n",
    "    \"\"\"\n",
    "    if str.lower() == 'offshore':\n",
    "        x0,x1,y0,y1 = [13,15,27,30]\n",
    "    elif str.lower() == 'onshore':\n",
    "        x0,x1,y0,y1 = [18,20,22,25]\n",
    "    return x0,x1,y0,y1"
   ]
  },
  {
   "cell_type": "code",
   "execution_count": 3,
   "metadata": {},
   "outputs": [],
   "source": [
    "def drop_ensemble_dim(ds, x):\n",
    "    ds[x] = (('nlat', 'nlon'), ds[x][0])\n",
    "    return ds"
   ]
  },
  {
   "cell_type": "markdown",
   "metadata": {},
   "source": [
    "## Extract Box Time Series for Each Variable (not circ)\n",
    "\n",
    "Only needs to be run the first time"
   ]
  },
  {
   "cell_type": "code",
   "execution_count": 254,
   "metadata": {},
   "outputs": [],
   "source": [
    "VAR = 'sDIC_int100m_tendency'\n",
    "REG = 'offshore'"
   ]
  },
  {
   "cell_type": "code",
   "execution_count": 255,
   "metadata": {},
   "outputs": [],
   "source": [
    "filepath = ('/glade/work/rbrady/EBUS_BGC_Variability/' + VAR + '/CalCS/')\n",
    "ds = xr.open_mfdataset(filepath + '*.nc', concat_dim='ensemble')\n",
    "try:\n",
    "    ds = drop_ensemble_dim(ds, 'TLAT')\n",
    "    ds = drop_ensemble_dim(ds, 'TLONG')\n",
    "    ds = drop_ensemble_dim(ds, 'TAREA')\n",
    "except:\n",
    "    pass\n",
    "x0,x1,y0,y1 = get_indices(REG)\n",
    "ds = ds.isel(nlon=slice(x0, x1+1), nlat=slice(y0, y1+1))\n",
    "area = ds['TAREA']\n",
    "da = ds[VAR]\n",
    "da = ((da * area).sum('nlat').sum('nlon')) / area.sum()\n",
    "# Convert to proper units\n",
    "conversions = {'sDIC_int100m_tendency': (12/10**3),\n",
    "               'Jint_100m_DIC': (60*60*24*365) / (10**5),\n",
    "               'FG_CO2': 1}\n",
    "da = da * conversions[VAR]\n",
    "da.name = VAR\n",
    "ds = da.to_dataset()\n",
    "ds_forced = ds.mean('ensemble')\n",
    "ds_forced.attrs['units'] = 'mol/m2/yr'\n",
    "ds_residuals = ds[VAR] - ds_forced\n",
    "ds_residuals.attrs['units'] = 'mol/m2/yr'"
   ]
  },
  {
   "cell_type": "code",
   "execution_count": 195,
   "metadata": {},
   "outputs": [
    {
     "name": "stdout",
     "output_type": "stream",
     "text": [
      "Saving forced signal to NetCDF...\n",
      "Saving residuals to NetCDF...\n"
     ]
    },
    {
     "name": "stderr",
     "output_type": "stream",
     "text": [
      "/glade/u/home/rbrady/miniconda3/envs/py36/lib/python3.6/site-packages/dask/utils.py:1010: UserWarning: Deprecated, see dask.base.get_scheduler instead\n",
      "  warnings.warn(\"Deprecated, see dask.base.get_scheduler instead\")\n",
      "/glade/u/home/rbrady/miniconda3/envs/py36/lib/python3.6/site-packages/dask/utils.py:1010: UserWarning: Deprecated, see dask.base.get_scheduler instead\n",
      "  warnings.warn(\"Deprecated, see dask.base.get_scheduler instead\")\n"
     ]
    }
   ],
   "source": [
    "directory = ('/glade/work/rbrady/EBUS_BGC_Variability/CalCS_Boxes/' +\n",
    "             REG.lower() + '/' + VAR + '/')\n",
    "if not os.path.exists(directory):\n",
    "    os.makedirs(directory)\n",
    "print(\"Saving forced signal to NetCDF...\")\n",
    "ds_forced.to_netcdf(directory + 'CalCS.' + VAR + '.' + REG.lower() + \n",
    "                    '.forced-signal.nc')\n",
    "print(\"Saving residuals to NetCDF...\")\n",
    "ds_residuals.to_netcdf(directory + 'CalCS.' + VAR + '.' + REG.lower() + \n",
    "                       '.residuals.nc')"
   ]
  },
  {
   "cell_type": "markdown",
   "metadata": {},
   "source": [
    "## Determine Circulation Residual\n",
    "\n",
    "This is run after creating offshore/onshore for the other three variables."
   ]
  },
  {
   "cell_type": "code",
   "execution_count": 228,
   "metadata": {},
   "outputs": [],
   "source": [
    "REG = 'offshore'"
   ]
  },
  {
   "cell_type": "code",
   "execution_count": 229,
   "metadata": {},
   "outputs": [],
   "source": [
    "def create_total(VAR):\n",
    "    \"\"\"\n",
    "    The CalCS boxes were saved out as a forced signal and the residuals. Just\n",
    "    adding them back together to create the total trajectory for each\n",
    "    simulation. I'll use these to reconstruct the circulation residual.\n",
    "    \"\"\"\n",
    "    directory = ('/glade/work/rbrady/EBUS_BGC_Variability/CalCS_Boxes/' +\n",
    "                 REG + '/' + VAR + '/')\n",
    "    forced = xr.open_dataset(directory + 'CalCS.' + VAR + '.' + REG +\n",
    "                             '.forced-signal.nc')\n",
    "    resid  = xr.open_dataset(directory + 'CalCS.' + VAR + '.' + REG +\n",
    "                             '.residuals.nc')\n",
    "    return forced + resid"
   ]
  },
  {
   "cell_type": "code",
   "execution_count": 230,
   "metadata": {},
   "outputs": [],
   "source": [
    "def load_variables():\n",
    "    \"\"\"\n",
    "    Loads in FG_CO2, Jint_100m_DIC, and sDIC_int100m_tendency for the given\n",
    "    box (onshore/offshore) which will be used to compute the circulation\n",
    "    residual.\n",
    "    \"\"\"\n",
    "    co2_flux = create_total('FG_CO2')\n",
    "    int_dic = create_total('Jint_100m_DIC')\n",
    "    tendency = create_total('sDIC_int100m_tendency')\n",
    "    return co2_flux, int_dic, tendency"
   ]
  },
  {
   "cell_type": "code",
   "execution_count": 231,
   "metadata": {},
   "outputs": [],
   "source": [
    "co2_flux, int_dic, tendency = load_variables()\n",
    "# Compute circulation residual.\n",
    "co2_flux = co2_flux.isel(ensemble=slice(1, 34))\n",
    "int_dic = int_dic.isel(ensemble=slice(1, 34))\n",
    "circ = tendency['sDIC_int100m_tendency'] - co2_flux['FG_CO2'] - \\\n",
    "       int_dic['Jint_100m_DIC']\n",
    "# Attributes, aesthetics\n",
    "circ.name = 'Jint_100m_circ'\n",
    "circ.attrs['units'] = 'mol/m2/yr'\n",
    "circ.attrs['description'] = 'Residual computed by subtracting J_ex and ' + \\\n",
    "                            'J_bio from the reconstructed tendency term.'  \n",
    "# Compute ensemble mean and residuals\n",
    "circ_forced = circ.mean('ensemble')\n",
    "circ_residuals = circ - circ_forced"
   ]
  },
  {
   "cell_type": "code",
   "execution_count": 232,
   "metadata": {},
   "outputs": [
    {
     "name": "stdout",
     "output_type": "stream",
     "text": [
      "Saving forced signal to NetCDF...\n",
      "Saving residuals to NetCDF...\n"
     ]
    },
    {
     "name": "stderr",
     "output_type": "stream",
     "text": [
      "/glade/u/home/rbrady/miniconda3/envs/py36/lib/python3.6/site-packages/dask/utils.py:1010: UserWarning: Deprecated, see dask.base.get_scheduler instead\n",
      "  warnings.warn(\"Deprecated, see dask.base.get_scheduler instead\")\n",
      "/glade/u/home/rbrady/miniconda3/envs/py36/lib/python3.6/site-packages/dask/utils.py:1010: UserWarning: Deprecated, see dask.base.get_scheduler instead\n",
      "  warnings.warn(\"Deprecated, see dask.base.get_scheduler instead\")\n"
     ]
    }
   ],
   "source": [
    "directory = ('/glade/work/rbrady/EBUS_BGC_Variability/CalCS_Boxes/' +\n",
    "             REG.lower() + '/Jint_100m_circ/')\n",
    "if not os.path.exists(directory):\n",
    "    os.makedirs(directory)\n",
    "print(\"Saving forced signal to NetCDF...\")\n",
    "circ_forced.to_netcdf(directory + 'CalCS.Jint_100m_circ.' + REG.lower() + \n",
    "                    '.forced-signal.nc')\n",
    "print(\"Saving residuals to NetCDF...\")\n",
    "circ_residuals.to_netcdf(directory + 'CalCS.Jint_100m_circ.' + REG.lower() + \n",
    "                       '.residuals.nc')"
   ]
  },
  {
   "cell_type": "markdown",
   "metadata": {},
   "source": [
    "## sDIC Decomposition"
   ]
  },
  {
   "cell_type": "code",
   "execution_count": 24,
   "metadata": {},
   "outputs": [],
   "source": [
    "def load_variables(REG):\n",
    "    v_list = ['FG_CO2', 'Jint_100m_circ', 'Jint_100m_DIC', \n",
    "              'sDIC_int100m_tendency']\n",
    "    basepath = '/glade/work/rbrady/EBUS_BGC_Variability/CalCS_Boxes/' + REG + \\\n",
    "               '/'\n",
    "    ds = xr.Dataset()\n",
    "    for name in v_list:\n",
    "        filepath = (basepath + name + '/CalCS.' + name + '.' + REG +\n",
    "                    '.residuals.nc')\n",
    "        temp_ds = xr.open_dataarray(filepath)\n",
    "        if name == 'FG_CO2' or name == 'Jint_100m_DIC':\n",
    "            temp_ds = temp_ds.isel(ensemble=slice(1,34))\n",
    "        ds = xr.merge([ds, temp_ds])\n",
    "    return ds"
   ]
  },
  {
   "cell_type": "code",
   "execution_count": 25,
   "metadata": {},
   "outputs": [],
   "source": [
    "def load_index(idx):\n",
    "    if idx == 'NPGO':\n",
    "        ds = xr.open_mfdataset('/glade/p/work/rbrady/EBUS_BGC_Variability/NPGO/*.nc', \n",
    "                              concat_dim='ensemble')\n",
    "        ds = ds.isel(ensemble=slice(1,34))\n",
    "        ds = ds['pc'].to_dataset()\n",
    "        ds = ds.rename({'pc': 'NPGO'})\n",
    "    else:\n",
    "        ds = xr.open_dataset('/glade/work/rbrady/cesmLE_CVDP/processed/' + \n",
    "                             'cvdp_detrended_BGC.nc')\n",
    "        ds = ds[idx]\n",
    "        ds = ds.isel(ensemble=slice(1,34))\n",
    "    return ds"
   ]
  },
  {
   "cell_type": "code",
   "execution_count": 26,
   "metadata": {},
   "outputs": [],
   "source": [
    "def regression(ds):\n",
    "    m1, m2, m3, m4 = ([] for i in range(4))\n",
    "    for label, group in ds.groupby('ensemble'):\n",
    "        \"\"\"\n",
    "        The manually integrate\n",
    "        \"\"\"\n",
    "        M1, _, _, _, _ = et.stats.linear_regression(group['index'], \n",
    "                                                    group['FG_CO2'])\n",
    "        M2, _, _, _, _ = et.stats.linear_regression(group['index'], \n",
    "                                                    group['Jint_100m_circ'])\n",
    "        M3, _, _, _, _ = et.stats.linear_regression(group['index'], \n",
    "                                                    group['Jint_100m_DIC'])\n",
    "        M4, _, _, _, _ = et.stats.linear_regression(group['index'], \n",
    "                                                group['sDIC_int100m_tendency'])\n",
    "    #    R, P, N = et.stats.pearsonr(group['NPGO'], group['FG_CO2_AW'])\n",
    "        m1.append(M1)\n",
    "        m2.append(M2)\n",
    "        m3.append(M3)\n",
    "        m4.append(M4)\n",
    "    results = xr.Dataset({'CO2': ('ensemble', m1),\n",
    "                      'Circulation': ('ensemble', m2),\n",
    "                      'Biology': ('ensemble', m3),\n",
    "                      'Tendency': ('ensemble', m4)}) \n",
    "    return results"
   ]
  },
  {
   "cell_type": "markdown",
   "metadata": {},
   "source": [
    "This is just for raw values for the table..."
   ]
  },
  {
   "cell_type": "code",
   "execution_count": 27,
   "metadata": {},
   "outputs": [],
   "source": [
    "REG = 'offshore'\n",
    "IDX = 'pdo'\n",
    "ds = load_variables(REG)\n",
    "\n",
    "# Load in index\n",
    "index = load_index(IDX)\n",
    "ds = xr.merge([ds, index])\n",
    "ds = ds.rename({IDX: 'index'})"
   ]
  },
  {
   "cell_type": "code",
   "execution_count": 28,
   "metadata": {},
   "outputs": [],
   "source": [
    "results = regression(ds)"
   ]
  },
  {
   "cell_type": "markdown",
   "metadata": {},
   "source": [
    "# Visualization"
   ]
  },
  {
   "cell_type": "code",
   "execution_count": 30,
   "metadata": {},
   "outputs": [],
   "source": [
    "def create_pandas(da, df, location):\n",
    "    \"\"\"\n",
    "    da : dataarray to add to dataframe\n",
    "    df : dataframe you are appending this to\n",
    "    \"\"\"\n",
    "    temp_df = da.to_dataframe()\n",
    "    temp_df.columns = ['value']\n",
    "    temp_df['variable'] = da.name\n",
    "    temp_df['location'] = location\n",
    "    df = pd.concat([df, temp_df])\n",
    "    return df\n",
    "\n",
    "def relative_values(ds):\n",
    "    \"\"\"\n",
    "    Computes values of three contributors relative\n",
    "    to their sum. This allows comparison between systems.\n",
    "    \"\"\"\n",
    "    # Percent of absolute total\n",
    "    co2 = np.abs(ds['CO2']) / (np.abs(ds['CO2']) + \\\n",
    "                 np.abs(ds['Biology']) + np.abs(ds['Circulation']))\n",
    "    bio = np.abs(ds['Biology']) / (np.abs(ds['CO2']) + \\\n",
    "                 np.abs(ds['Biology']) + np.abs(ds['Circulation']))\n",
    "    circ = np.abs(ds['Circulation']) / (np.abs(ds['CO2']) + \\\n",
    "                  np.abs(ds['Biology']) + np.abs(ds['Circulation']))\n",
    "    # Give original sign\n",
    "    ds = ds.where(ds > 0, -1)\n",
    "    ds = ds.where(ds < 0, 1)\n",
    "    co2 = co2 * ds['CO2'] * 100\n",
    "    co2.name = 'co2'\n",
    "    bio = bio * ds['Biology'] * 100\n",
    "    bio.name = 'bio'\n",
    "    circ = circ * ds['Circulation'] * 100\n",
    "    circ.name = 'circ'\n",
    "    return co2, bio, circ"
   ]
  },
  {
   "cell_type": "markdown",
   "metadata": {},
   "source": [
    "## Relative Values"
   ]
  },
  {
   "cell_type": "code",
   "execution_count": 31,
   "metadata": {},
   "outputs": [],
   "source": [
    "pairs = {'offshore': 'pdo', \n",
    "         'onshore': 'pdo'}\n",
    "df = pd.DataFrame()\n",
    "for L, I in pairs.items():\n",
    "    ds = load_variables(L)\n",
    "    index = load_index(I)\n",
    "    ds = xr.merge([ds, index])\n",
    "    ds = ds.rename({I: 'index'})\n",
    "    ds = regression(ds)\n",
    "#    conversion = 12 * total_area / 10**9\n",
    "#    ds = ds * conversion\n",
    "    # Convert to relative values\n",
    "    co2, bio, circ = relative_values(ds)\n",
    "    \n",
    "    # Set up in Pandas\n",
    "    df = create_pandas(co2, df, L)\n",
    "    df = create_pandas(bio, df, L)\n",
    "    df = create_pandas(circ, df, L)"
   ]
  },
  {
   "cell_type": "code",
   "execution_count": 35,
   "metadata": {},
   "outputs": [
    {
     "data": {
      "image/png": "[encoded data removed]",
      "text/plain": [
       "<Figure size 576x216 with 1 Axes>"
      ]
     },
     "metadata": {},
     "output_type": "display_data"
    },
    {
     "data": {
      "text/plain": [
       "<Figure size 432x288 with 0 Axes>"
      ]
     },
     "metadata": {},
     "output_type": "display_data"
    }
   ],
   "source": [
    "f, ax = plt.subplots(figsize=(8,3))\n",
    "\n",
    "plt.style.use('seaborn-whitegrid')\n",
    "clist = ['#ef8a62', '#67a9cf']\n",
    "\n",
    "sns.barplot(x='variable', y='value', hue='location', data=df,\n",
    "           ci='sd', capsize=0.05, errwidth=1, \n",
    "           order=list(['co2', 'circ', 'bio']), palette=clist)\n",
    "\n",
    "ax.set_xticklabels(['CO$_{2}$ Flux','Circulation','Biology'])\n",
    "ax.set_xlabel('')\n",
    "ax.set_ylabel('Percent Contribution to' + '\\n' + 'sDIC Tendency', fontsize=12)\n",
    "ax.set_title('Relative Contributions to sDIC Tendency Anomaly', fontsize=14)\n",
    "\n",
    "sns.despine(left=True, bottom=True)\n",
    "et.vis.outer_legend()\n",
    "plt.setp(plt.gca().get_legend().get_texts(), fontsize=12)\n",
    "\n",
    "\n",
    "plt.show()\n",
    "et.vis.savefig('relative_sDIC_decomposition_CalCS_boxes', extension='.eps', \n",
    "               dpi=300)"
   ]
  }
 ],
 "metadata": {
  "kernelspec": {
   "display_name": "Python 3",
   "language": "python",
   "name": "python3"
  },
  "language_info": {
   "codemirror_mode": {
    "name": "ipython",
    "version": 3
   },
   "file_extension": ".py",
   "mimetype": "text/x-python",
   "name": "python",
   "nbconvert_exporter": "python",
   "pygments_lexer": "ipython3",
   "version": "3.6.6"
  },
  "toc": {
   "base_numbering": 1,
   "nav_menu": {},
   "number_sections": true,
   "sideBar": true,
   "skip_h1_title": false,
   "title_cell": "Table of Contents",
   "title_sidebar": "Contents",
   "toc_cell": false,
   "toc_position": {},
   "toc_section_display": true,
   "toc_window_display": false
  },
  "varInspector": {
   "cols": {
    "lenName": 16,
    "lenType": 16,
    "lenVar": 40
   },
   "kernels_config": {
    "python": {
     "delete_cmd_postfix": "",
     "delete_cmd_prefix": "del ",
     "library": "var_list.py",
     "varRefreshCmd": "print(var_dic_list())"
    },
    "r": {
     "delete_cmd_postfix": ") ",
     "delete_cmd_prefix": "rm(",
     "library": "var_list.r",
     "varRefreshCmd": "cat(var_dic_list()) "
    }
   },
   "types_to_exclude": [
    "module",
    "function",
    "builtin_function_or_method",
    "instance",
    "_Feature"
   ],
   "window_display": false
  }
 },
 "nbformat": 4,
 "nbformat_minor": 2
}
