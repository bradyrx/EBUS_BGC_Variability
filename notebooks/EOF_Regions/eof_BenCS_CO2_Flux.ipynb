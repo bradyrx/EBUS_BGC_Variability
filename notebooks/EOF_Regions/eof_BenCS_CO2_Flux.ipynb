{
 "metadata": {
  "kernelspec": {
   "display_name": "Python 3",
   "language": "python",
   "name": "python3"
  },
  "language_info": {
   "codemirror_mode": {
    "name": "ipython",
    "version": 3
   },
   "file_extension": ".py",
   "mimetype": "text/x-python",
   "name": "python",
   "nbconvert_exporter": "python",
   "pygments_lexer": "ipython3",
   "version": "3.6.1"
  },
  "name": ""
 },
 "nbformat": 3,
 "nbformat_minor": 0,
 "worksheets": [
  {
   "cells": [
    {
     "cell_type": "markdown",
     "metadata": {},
     "source": [
      "# EOF of BenCS CO2 Fluxes\n",
      "\n",
      "Same methodology, but applied to the Benguela Current"
     ]
    },
    {
     "cell_type": "code",
     "collapsed": true,
     "input": [
      "import numpy as np\n",
      "import xarray as xr\n",
      "import esmtools as et\n",
      "import matplotlib.pyplot as plt\n",
      "%matplotlib inline\n",
      "import cartopy.crs as ccrs\n",
      "import glob\n",
      "from eofs.xarray import Eof"
     ],
     "language": "python",
     "metadata": {},
     "outputs": [],
     "prompt_number": 1
    },
    {
     "cell_type": "heading",
     "level": 1,
     "metadata": {},
     "source": [
      "Single member to tease out patterns"
     ]
    },
    {
     "cell_type": "code",
     "collapsed": false,
     "input": [
      "filepath = '/glade/p/work/rbrady/EBUS_BGC_Variability/FG_ALT_CO2/BenCS/filtered_output/'\n",
      "filename = 'bencs-FG_ALT_CO2-residuals-chavez-800km.nc'\n",
      "ds = xr.open_dataset(filepath + filename)\n",
      "ds = ds['FG_ALT_CO2']"
     ],
     "language": "python",
     "metadata": {},
     "outputs": [],
     "prompt_number": 51
    },
    {
     "cell_type": "code",
     "collapsed": false,
     "input": [
      "ds = ds.sel(ensemble=0)"
     ],
     "language": "python",
     "metadata": {},
     "outputs": [],
     "prompt_number": 43
    },
    {
     "cell_type": "code",
     "collapsed": false,
     "input": [
      "coslat = np.cos(np.deg2rad(ds.TLAT.values))\n",
      "wgts = np.sqrt(coslat)\n",
      "solver = Eof(ds, weights=wgts, center=False)\n",
      "eof = solver.eofsAsCorrelation(neofs=3)    \n",
      "pc = solver.pcs(npcs=3, pcscaling=1)\n",
      "variance = solver.varianceFraction(neigs=3)"
     ],
     "language": "python",
     "metadata": {},
     "outputs": [],
     "prompt_number": 44
    },
    {
     "cell_type": "markdown",
     "metadata": {},
     "source": [
      "# EOF of the region...\n",
      "\n",
      "What does the EOF of CO2 flux look like?"
     ]
    },
    {
     "cell_type": "code",
     "collapsed": true,
     "input": [
      "def eof(x):\n",
      "    \"\"\"\n",
      "    Computes an eof for the whole ensemble, returning a dataset\n",
      "    with dimension ensemble.\n",
      "    \n",
      "    Currently optimized for the CalCS since we need to put all the phases in sync.\n",
      "    \"\"\"\n",
      "    coslat = np.cos(np.deg2rad(x.TLAT.values))\n",
      "    wgts = np.sqrt(coslat)\n",
      "    solver = Eof(x, weights=wgts, center=False)\n",
      "    eof = solver.eofsAsCorrelation(neofs=3)    \n",
      "    pc = solver.pcs(npcs=3, pcscaling=1)\n",
      "    variance = solver.varianceFraction(neigs=3)\n",
      "    eof0 = eof.sel(mode=0).values\n",
      "    if eof0[30,15] < 0:\n",
      "        \"\"\"\n",
      "        Force system outgassing.\n",
      "        \"\"\"\n",
      "        eof0 = eof0 * -1\n",
      "        # Awkward syntax due to Python limitations\n",
      "        # ref: https://stackoverflow.com/questions/40029618/how-to-update-xarray-dataarray-using-sel-indexer\n",
      "        eof.loc[dict(mode=0)] = eof0\n",
      "        pc.loc[dict(mode=0)] = pc.sel(mode=0) * -1\n",
      "    eof1 = eof.sel(mode=1).values\n",
      "    if eof1[30,12] > 0:\n",
      "        \"\"\"\n",
      "        Force onshore outgassing.\n",
      "        \"\"\"\n",
      "        eof1 = eof1 * -1\n",
      "        eof.loc[dict(mode=1)] = eof1\n",
      "        pc.loc[dict(mode=1)] = pc.sel(mode=1) * -1\n",
      "    eof2 = eof.sel(mode=2).values\n",
      "    if eof2[20,20] < 0:\n",
      "        \"\"\"\n",
      "        Force equatorward outgassing\n",
      "        \"\"\"\n",
      "        eof2 = eof2 * -1\n",
      "        eof.loc[dict(mode=2)] = eof2\n",
      "        pc.loc[dict(mode=2)] = pc.sel(mode=2) * -1\n",
      "    # Force into dataset.\n",
      "    ds = eof.to_dataset()\n",
      "    ds['pc'] = pc\n",
      "    ds['variance'] = variance   \n",
      "    return ds"
     ],
     "language": "python",
     "metadata": {},
     "outputs": [],
     "prompt_number": null
    },
    {
     "cell_type": "code",
     "collapsed": true,
     "input": [
      "filepath = '/glade/p/work/rbrady/EBUS_BGC_Variability/FG_ALT_CO2/CalCS/filtered_output/'\n",
      "filename = 'calcs-FG_ALT_CO2-residuals-chavez-800km.nc'\n",
      "ds = xr.open_dataset(filepath + filename)\n",
      "ds = ds['FG_ALT_CO2']"
     ],
     "language": "python",
     "metadata": {},
     "outputs": [],
     "prompt_number": null
    },
    {
     "cell_type": "heading",
     "level": 1,
     "metadata": {},
     "source": [
      "Apply to Ensemble"
     ]
    },
    {
     "cell_type": "code",
     "collapsed": false,
     "input": [
      "ds = ds.groupby('ensemble').apply(eof)"
     ],
     "language": "python",
     "metadata": {},
     "outputs": [],
     "prompt_number": null
    },
    {
     "cell_type": "heading",
     "level": 1,
     "metadata": {},
     "source": [
      "Plot"
     ]
    },
    {
     "cell_type": "code",
     "collapsed": false,
     "input": [
      "lon = ds.TLONG\n",
      "lat = ds.TLAT\n",
      "data = ds['eofs'].sel(mode=2).mean(dim='ensemble').to_masked_array()\n",
      "ds['variance'].sel(mode=2).mean()"
     ],
     "language": "python",
     "metadata": {},
     "outputs": [],
     "prompt_number": null
    },
    {
     "cell_type": "code",
     "collapsed": false,
     "input": [
      "f, ax = et.vis.make_cartopy(projection=ccrs.Mercator(), grid_lines=False,\n",
      "                            frameon=False)\n",
      "x0,x1,y0,y1 = et.ebus.visual_bounds('CalCS')\n",
      "ax.set_extent([x0, x1, y0, y1])\n",
      "\n",
      "p = plt.pcolor(lon-0.5, lat, data, transform=ccrs.PlateCarree(), edgecolor='w',\n",
      "               vmin=-0.75, vmax=0.75, cmap=\"coolwarm\")\n",
      "cb = plt.colorbar(p, orientation='horizontal', pad=0.05, fraction=0.05)\n",
      "\n",
      "ax.set_title('Third EOF of F$_{\\mathrm{Nat}}$')"
     ],
     "language": "python",
     "metadata": {},
     "outputs": [],
     "prompt_number": null
    }
   ],
   "metadata": {}
  }
 ]
}