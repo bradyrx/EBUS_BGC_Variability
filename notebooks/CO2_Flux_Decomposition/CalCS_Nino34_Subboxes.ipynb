{
 "metadata": {
  "kernelspec": {
   "display_name": "Python 3",
   "language": "python",
   "name": "python3"
  },
  "language_info": {
   "codemirror_mode": {
    "name": "ipython",
    "version": 3
   },
   "file_extension": ".py",
   "mimetype": "text/x-python",
   "name": "python",
   "nbconvert_exporter": "python",
   "pygments_lexer": "ipython3",
   "version": "3.6.5"
  },
  "name": ""
 },
 "nbformat": 3,
 "nbformat_minor": 0,
 "worksheets": [
  {
   "cells": [
    {
     "cell_type": "markdown",
     "metadata": {},
     "source": [
      "# CalCS Nino34/PDO Subboxes\n",
      "\n",
      "The CalCS responds to El Nino/PDO with a dipole between the nearshore and offshore locations. This script is attempting to run the decomposition analysis on these smaller boxes.\n",
      "\n",
      "![](https://i.imgur.com/lVARWJ0.png)"
     ]
    },
    {
     "cell_type": "code",
     "collapsed": false,
     "input": [
      "import xarray as xr\n",
      "import matplotlib.pyplot as plt\n",
      "%matplotlib inline\n",
      "import cartopy.crs as ccrs\n",
      "import esmtools as et"
     ],
     "language": "python",
     "metadata": {},
     "outputs": [],
     "prompt_number": 17
    },
    {
     "cell_type": "markdown",
     "metadata": {},
     "source": [
      "Goal 1: Find indices of the above boxes."
     ]
    },
    {
     "cell_type": "code",
     "collapsed": false,
     "input": [
      "# This is simply the ensemble mean correlation between CalCS and Nino34\n",
      "# pictured above (if it's gone from scratch).\n",
      "filepath = '/glade/scratch/rbrady/EBUS_BGC_Variability/CalCS.dipole.nc' \n",
      "ds = xr.open_dataset(filepath)\n",
      "ds = ds['r']"
     ],
     "language": "python",
     "metadata": {},
     "outputs": [],
     "prompt_number": 10
    },
    {
     "cell_type": "code",
     "collapsed": false,
     "input": [
      "f, ax = plt.subplots(figsize=(12,8))\n",
      "ds.plot(add_colorbar=False)\n",
      "\n",
      "# INNER BOX\n",
      "plt.plot(20,22,'*r')\n",
      "plt.plot(19,22,'*r')\n",
      "plt.plot(18,22,'*r')\n",
      "plt.plot(18,23,'*r')\n",
      "plt.plot(19,23,'*r')\n",
      "plt.plot(20,23,'*r')\n",
      "plt.plot(18,24,'*r')\n",
      "plt.plot(19,24,'*r')\n",
      "plt.plot(18,25,'*r')\n",
      "plt.plot(19,25,'*r')\n",
      "\n",
      "# OUTER BOX\n",
      "plt.plot(13,27,'*k')\n",
      "plt.plot(14,27,'*k')\n",
      "plt.plot(15,27,'*k')\n",
      "plt.plot(13,28,'*k')\n",
      "plt.plot(14,28,'*k')\n",
      "plt.plot(15,28,'*k')\n",
      "plt.plot(13,29,'*k')\n",
      "plt.plot(14,29,'*k')\n",
      "plt.plot(15,29,'*k')\n",
      "plt.plot(13,30,'*k')\n",
      "plt.plot(14,30,'*k')\n",
      "plt.plot(15,30,'*k')"
     ],
     "language": "python",
     "metadata": {},
     "outputs": [],
     "prompt_number": 62
    },
    {
     "cell_type": "markdown",
     "metadata": {},
     "source": [
      "### INNER BOX\n",
      "\n",
      "nlon: 18:20\n",
      "\n",
      "nlat: 22:25\n",
      "\n",
      "\n",
      "\n",
      "### OUTER BOX\n",
      "\n",
      "nlon: 13:15\n",
      "\n",
      "nlat: 27:30"
     ]
    },
    {
     "cell_type": "code",
     "collapsed": false,
     "input": [
      "inner = ds.isel(nlat=slice(22,26), nlon=slice(18,21))\n",
      "outer = ds.isel(nlat=slice(27,31), nlon=slice(13,16))"
     ],
     "language": "python",
     "metadata": {},
     "outputs": [],
     "prompt_number": 64
    }
   ],
   "metadata": {}
  }
 ]
}