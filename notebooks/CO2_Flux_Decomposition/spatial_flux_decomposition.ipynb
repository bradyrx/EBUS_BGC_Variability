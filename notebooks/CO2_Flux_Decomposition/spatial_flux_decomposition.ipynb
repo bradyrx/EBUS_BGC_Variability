{
 "metadata": {
  "kernelspec": {
   "display_name": "Python 3",
   "language": "python",
   "name": "python3"
  },
  "language_info": {
   "codemirror_mode": {
    "name": "ipython",
    "version": 3
   },
   "file_extension": ".py",
   "mimetype": "text/x-python",
   "name": "python",
   "nbconvert_exporter": "python",
   "pygments_lexer": "ipython3",
   "version": "3.6.6"
  },
  "name": "",
  "toc": {
   "base_numbering": 1,
   "nav_menu": {},
   "number_sections": true,
   "sideBar": true,
   "skip_h1_title": false,
   "title_cell": "Table of Contents",
   "title_sidebar": "Contents",
   "toc_cell": false,
   "toc_position": {},
   "toc_section_display": true,
   "toc_window_display": false
  },
  "varInspector": {
   "cols": {
    "lenName": 16,
    "lenType": 16,
    "lenVar": 40
   },
   "kernels_config": {
    "python": {
     "delete_cmd_postfix": "",
     "delete_cmd_prefix": "del ",
     "library": "var_list.py",
     "varRefreshCmd": "print(var_dic_list())"
    },
    "r": {
     "delete_cmd_postfix": ") ",
     "delete_cmd_prefix": "rm(",
     "library": "var_list.r",
     "varRefreshCmd": "cat(var_dic_list()) "
    }
   },
   "types_to_exclude": [
    "module",
    "function",
    "builtin_function_or_method",
    "instance",
    "_Feature"
   ],
   "window_display": false
  }
 },
 "nbformat": 3,
 "nbformat_minor": 0,
 "worksheets": [
  {
   "cells": [
    {
     "cell_type": "markdown",
     "metadata": {},
     "source": [
      "# Spatial Flux Decomposition\n",
      "\n",
      "Just does the decomposition over each grid cell instead of the area-weighted average."
     ]
    },
    {
     "cell_type": "code",
     "collapsed": false,
     "input": [
      "import numpy as np\n",
      "import pandas as pd\n",
      "import xarray as xr\n",
      "import matplotlib.pyplot as plt\n",
      "%matplotlib inline\n",
      "#plt.style.use('seaborn-whitegrid')\n",
      "import seaborn as sns\n",
      "from esmtools.physics import stress_to_speed\n",
      "#from esmtools.carbon import schmidt\n",
      "import cartopy.crs as ccrs\n",
      "import cartopy.feature as cfeature\n",
      "import esmtools as et\n",
      "import glob"
     ],
     "language": "python",
     "metadata": {},
     "outputs": [],
     "prompt_number": 36
    },
    {
     "cell_type": "code",
     "collapsed": false,
     "input": [
      "\"\"\"\n",
      "Some constants that are pertinent for this.\n",
      "\"\"\"\n",
      "a = 6.972e-7 # Flux coefficient in s/m\n",
      "conversion = (60 * 60 * 24 * 365) / 1e3 # Applied to every term of the expansion to have proper units (see notes)\n",
      "S0 = 35 # Salinity constant"
     ],
     "language": "python",
     "metadata": {},
     "outputs": [],
     "prompt_number": 37
    },
    {
     "cell_type": "code",
     "collapsed": false,
     "input": [
      "e = 'HumCS'\n",
      "x = 'NINO3'\n",
      "smooth = 0"
     ],
     "language": "python",
     "metadata": {},
     "outputs": [],
     "prompt_number": 38
    },
    {
     "cell_type": "markdown",
     "metadata": {},
     "source": [
      "Load ensemble means to compute sensitivities"
     ]
    },
    {
     "cell_type": "code",
     "collapsed": false,
     "input": [
      "def load_ensemble_mean(e, v):\n",
      "    \"\"\"\n",
      "    Loads in the ensemble mean time series for a given upwelling system (e)\n",
      "    and variable (v). I will use these to compute the sensitivities, which shouldn't\n",
      "    cause too much error since it's a much larger value than the residuals.\n",
      "    \"\"\"\n",
      "    filepath = ('/glade/work/rbrady/EBUS_BGC_Variability/' + v + '/' + e +\n",
      "               '/filtered_output/' + e.lower() + '-' + v + '-forced-signal-chavez-800km.nc')\n",
      "    da = xr.open_dataarray(filepath)\n",
      "    da.name = v\n",
      "    return da"
     ],
     "language": "python",
     "metadata": {},
     "outputs": [],
     "prompt_number": 39
    },
    {
     "cell_type": "code",
     "collapsed": false,
     "input": [
      "variables = ['FG_CO2', 'SST', 'SALT', 'DIC', 'ALK', 'TAUX',\n",
      "             'TAUY', 'TAUX2', 'TAUY2', 'sDIC', 'sALK', 'U',\n",
      "             'DCO2STAR', 'RHO', 'pCO2SURF']\n",
      "forced = xr.Dataset()\n",
      "for i, name in enumerate(variables):\n",
      "    da = load_ensemble_mean(e, name)\n",
      "    forced = xr.merge([forced, da])"
     ],
     "language": "python",
     "metadata": {},
     "outputs": [],
     "prompt_number": 40
    },
    {
     "cell_type": "code",
     "collapsed": false,
     "input": [
      "forced = forced.rename({'pCO2SURF': 'pCO2'})\n",
      "means = forced.mean('time')"
     ],
     "language": "python",
     "metadata": {},
     "outputs": [],
     "prompt_number": 41
    },
    {
     "cell_type": "markdown",
     "metadata": {},
     "source": [
      "Load in regressions"
     ]
    },
    {
     "cell_type": "code",
     "collapsed": false,
     "input": [
      "def load_regression(e, x, y, smooth):\n",
      "    \"\"\"\n",
      "    Loads in the area-weighted regression results for a given upwelling system\n",
      "    (e), predictor variable (x), and dependent variable (y). Need to add functionality\n",
      "    for lagging. Currently assumes values of 0 for each of those features.\n",
      "    \"\"\"\n",
      "    filepath = ('/glade/work/rbrady/EBUS_BGC_Variability/regional_regressions/' +\n",
      "                e + '/' + y + '/' + x + '/lag0/')\n",
      "    ds = xr.open_mfdataset(filepath + '*.nc', concat_dim='ensemble')\n",
      "#    if smooth == 0:\n",
      "        #filename = (x + '.' + y + '.' + e + '.unsmoothed.area_weighted_regional_regression.lag0.nc')\n",
      "#        pass\n",
      "#    else:\n",
      "#        filename = (x + '.' + y + '.' + e + '.smoothed' + str(smooth) + '.regional_regression.lag0.nc')\n",
      "#   ds = xr.open_mfdataset(filepath + filename)\n",
      "    return ds"
     ],
     "language": "python",
     "metadata": {},
     "outputs": [],
     "prompt_number": 74
    },
    {
     "cell_type": "code",
     "collapsed": false,
     "input": [
      "delta_FG_CO2 = load_regression(e, x, 'FG_CO2', smooth)\n",
      "delta_U = load_regression(e, x, 'U', smooth)\n",
      "delta_SST = load_regression(e, x, 'SST', smooth)\n",
      "delta_SALT = load_regression(e, x, 'SALT', smooth)\n",
      "delta_sDIC = load_regression(e, x, 'sDIC', smooth)\n",
      "delta_sALK = load_regression(e, x, 'sALK', smooth)"
     ],
     "language": "python",
     "metadata": {},
     "outputs": [],
     "prompt_number": 75
    },
    {
     "cell_type": "code",
     "collapsed": false,
     "input": [
      "\"\"\"\n",
      "tolerance = 0.1\n",
      "np.where((delta_FG_CO2['p'] <= tolerance) & \n",
      "         (delta_U['p'] <= tolerance) &\n",
      "         (delta_SST['p'] <= tolerance) &\n",
      "         (delta_SALT['p'] <= tolerance) &\n",
      "         (delta_sDIC['p'] <= tolerance) &\n",
      "         (delta_sALK['p'] <= tolerance))\n",
      "\"\"\"\n",
      "# Seems impossible to get all 34 members to be significant in all terms. So maybe just\n",
      "# test significance of FG_CO2?\n",
      "tolerance = 0.1\n",
      "delta_U = delta_U.where(delta_FG_CO2['p'] <= tolerance, drop=True)\n",
      "delta_SST = delta_SST.where(delta_FG_CO2['p'] <= tolerance, drop=True)\n",
      "delta_SALT = delta_SALT.where(delta_FG_CO2['p'] <= tolerance, drop=True)\n",
      "delta_sDIC = delta_sDIC.where(delta_FG_CO2['p'] <= tolerance, drop=True)\n",
      "delta_sALK = delta_sALK.where(delta_FG_CO2['p'] <= tolerance, drop=True)\n",
      "delta_FG_CO2 = delta_FG_CO2.where(delta_FG_CO2['p'] <= tolerance, drop=True)\n",
      "N = len(delta_FG_CO2['m'])"
     ],
     "language": "python",
     "metadata": {},
     "outputs": [],
     "prompt_number": 82
    },
    {
     "cell_type": "heading",
     "level": 2,
     "metadata": {},
     "source": [
      "Compute terms"
     ]
    },
    {
     "cell_type": "code",
     "collapsed": false,
     "input": [
      "def co2_sol(ds):\n",
      "    \"\"\"\n",
      "    NOTE: This is from my esmtools co2_sol script. Just editing it here to make it usable\n",
      "    over a grid.\n",
      "    \n",
      "    Compute CO2 sollubility per the equation used in CESM. The mean will be taken over\n",
      "    the time series provided to produce the average solubility over this time period.\n",
      "    Thus, if you want more accurate solubility you can feed in smaller time periods.\n",
      "    Input\n",
      "    -----\n",
      "    t : SST time series (degC) \n",
      "    s : SSS time series (PSU)\n",
      "    Return\n",
      "    ------\n",
      "    ff : Value of solubility in mol/kg/atm\n",
      "    References\n",
      "    ----------\n",
      "    Weiss & Price (1980, Mar. Chem., 8, 347-359;\n",
      "    Eq 13 with table 6 values)\n",
      "    \"\"\"\n",
      "    a = [-162.8301, 218.2968, 90.9241, -1.47696]\n",
      "    b = [0.025695, -0.025225, 0.0049867]\n",
      "    t = (ds['SST'].mean('time') + 273.15) * 0.01\n",
      "    s = ds['SALT'].mean('time')\n",
      "    t_sq = t**2\n",
      "    t_inv = 1.0 / t\n",
      "    log_t = np.log(t)\n",
      "    d0 = b[2] * t_sq + b[1] * t + b[0]\n",
      "    # Compute solubility in mol.kg^{-1}.atm^{-1}\n",
      "    ff = np.exp( a[0] + a[1] * t_inv + a[2] * log_t + \\\n",
      "        a[3] * t_sq + d0 * s )\n",
      "    return ff"
     ],
     "language": "python",
     "metadata": {},
     "outputs": [],
     "prompt_number": 86
    },
    {
     "cell_type": "code",
     "collapsed": false,
     "input": [
      "def schmidt(t):\n",
      "    \"\"\"\n",
      "    Vectorized version of schmidt script from esmtools. Just input a time-mean\n",
      "    of the grid.\n",
      "    \"\"\"\n",
      "    c = [2073.1, 125.62, 3.6276, 0.043219]\n",
      "    Sc = c[0] - c[1]*t + c[2]*(t**2) - c[3]*(t**3)\n",
      "    return Sc"
     ],
     "language": "python",
     "metadata": {},
     "outputs": [],
     "prompt_number": 87
    },
    {
     "cell_type": "code",
     "collapsed": false,
     "input": [
      "\"\"\"\n",
      "Repetitive terms\n",
      "\"\"\"\n",
      "Sc = schmidt(forced['SST'].mean('time'))\n",
      "sol_grid = xr.merge([forced['SST'], forced['SALT']])\n",
      "ff = co2_sol(sol_grid)\n",
      "gamma_DIC = (3*means['ALK']*means['DIC'] - 2*means['DIC']**2) / \\\n",
      "            ((2*means['DIC']-means['ALK'])*(means['ALK']-means['DIC']))\n",
      "gamma_ALK = (-means['ALK']**2)/((2*means['DIC']-means['ALK'])*(means['ALK']-means['DIC']))\n",
      "\n",
      "\"\"\" \n",
      "The conversion term converts to the proper mol/m2/yr for every unit. So that we actually have each term\n",
      "summing to a mol/m2/yr perturbation from some climate event.\n",
      "\n",
      "Can run a np.where command on the original delta datasets to drop non-significant results.\n",
      "\"\"\"\n",
      "# SENSITIVITIES\n",
      "dFdpCO2 = means['RHO']*ff*a*np.sqrt(660/Sc)*means['U']**2\n",
      "dFdU = -2*a*np.sqrt(660/Sc)*means['U']*means['DCO2STAR']\n",
      "dFdSST = dFdpCO2*0.0423*means['pCO2']\n",
      "dFdSALT = dFdpCO2*(means['pCO2']/means['SALT'])\n",
      "dpCO2dDIC = (means['pCO2']*gamma_DIC)/means['DIC']\n",
      "dpCO2dALK = (means['pCO2']*gamma_ALK)/means['ALK']\n",
      "\n",
      "# FULL TERM\n",
      "F = delta_FG_CO2['m']\n",
      "U = dFdU*delta_U['m']*conversion\n",
      "SST = dFdSST*delta_SST['m']*conversion\n",
      "SALT = dFdSALT*delta_SALT['m']*conversion\n",
      "sDIC = dFdpCO2*dpCO2dDIC*(means['SALT']/S0)*delta_sDIC['m']*conversion\n",
      "sALK = dFdpCO2*dpCO2dALK*(means['SALT']/S0)*delta_sALK['m']*conversion\n",
      "\n",
      "# Freshwater\n",
      "term1 = dFdpCO2*dpCO2dDIC*(means['sDIC']/S0)*delta_SALT['m']*conversion\n",
      "term2 = dFdpCO2*dpCO2dALK*(means['sALK']/S0)*delta_SALT['m']*conversion\n",
      "FW = term1 + term2"
     ],
     "language": "python",
     "metadata": {},
     "outputs": [],
     "prompt_number": 88
    },
    {
     "cell_type": "code",
     "collapsed": false,
     "input": [
      "# Summed maps\n",
      "taylor_sum = U + SST + SALT + sDIC + sALK\n",
      "true_sum = F\n",
      "diff = abs(taylor_sum) - abs(true_sum)"
     ],
     "language": "python",
     "metadata": {},
     "outputs": [],
     "prompt_number": 89
    },
    {
     "cell_type": "heading",
     "level": 1,
     "metadata": {},
     "source": [
      "Plotting and Analysis"
     ]
    },
    {
     "cell_type": "heading",
     "level": 3,
     "metadata": {},
     "source": [
      "Spatial maps for each term."
     ]
    },
    {
     "cell_type": "code",
     "collapsed": false,
     "input": [
      "def plot_term(ax, term, title):\n",
      "    lon = term.TLONG\n",
      "    lat = term.TLAT\n",
      "    x0,x1,y0,y1 = et.ebus.visual_bounds(e)\n",
      "    p = ax.pcolor(lon-1, lat, term.mean('ensemble'), transform=ccrs.PlateCarree(),\n",
      "                cmap=\"RdBu_r\", vmin=-0.4, vmax=0.4, edgecolor='w')\n",
      "    ax.set_extent([x0,x1,y0,y1])\n",
      "    ax.add_feature(cfeature.LAND, facecolor='k')\n",
      "    ax.outline_patch.set_edgecolor('white')\n",
      "    ax.set_title(title)\n",
      "    return p"
     ],
     "language": "python",
     "metadata": {},
     "outputs": [],
     "prompt_number": 90
    },
    {
     "cell_type": "code",
     "collapsed": false,
     "input": [
      "f, ax = plt.subplots(nrows=1, ncols=6, figsize=(18,8), subplot_kw=dict(projection=ccrs.Mercator()))\n",
      "\n",
      "# Plot Terms \n",
      "terms = [F, U, SST, SALT, sDIC, sALK]\n",
      "titles = ['F', 'U', 'SST', 'SALT', 'sDIC', 'sALK']\n",
      "for i, name in enumerate(terms):\n",
      "    p = plot_term(ax[i], name, titles[i])\n",
      "\n",
      "cb = f.colorbar(p, ax=ax.ravel().tolist(), orientation='horizontal',\n",
      "             fraction=0.05, pad=0.05, ticks=[-0.4,-0.3,-0.2, -0.1, 0, 0.1, 0.2,0.3,0.4])\n",
      "cb.set_label('CO$_{2}$ Flux Response [mol/m$^{2}$/yr]')\n",
      "\n",
      "f.suptitle(e + \" Taylor Expansion for the \" + x + \" (Ensemble Means)\", fontsize=14, y=0.6)\n",
      "\n",
      "#et.vis.savefig(e + '_' + x + '_' + 'spatial_taylor_expansion_means', extension='.eps', dpi=300)"
     ],
     "language": "python",
     "metadata": {},
     "outputs": [],
     "prompt_number": 97
    },
    {
     "cell_type": "markdown",
     "metadata": {},
     "source": [
      "Ensemble Spread"
     ]
    },
    {
     "cell_type": "code",
     "collapsed": false,
     "input": [
      "def plot_term(ax, term, title):\n",
      "    lon = term.TLONG\n",
      "    lat = term.TLAT\n",
      "    x0,x1,y0,y1 = et.ebus.visual_bounds(e)\n",
      "    p = ax.pcolor(lon-1, lat, term.std('ensemble'), transform=ccrs.PlateCarree(),\n",
      "                cmap=\"Purples\", vmin=0, vmax=0.1, edgecolor='w')\n",
      "    ax.set_extent([x0,x1,y0,y1])\n",
      "    ax.add_feature(cfeature.LAND, facecolor='k')\n",
      "    ax.outline_patch.set_edgecolor('white')\n",
      "    ax.set_title(title)\n",
      "    return p"
     ],
     "language": "python",
     "metadata": {},
     "outputs": [],
     "prompt_number": 98
    },
    {
     "cell_type": "code",
     "collapsed": false,
     "input": [
      "\n",
      "f, ax = plt.subplots(nrows=1, ncols=6, figsize=(18,8), subplot_kw=dict(projection=ccrs.Mercator()))\n",
      "\n",
      "# Plot Terms \n",
      "terms = [F, U, SST, SALT, sDIC, sALK]\n",
      "titles = ['F', 'U', 'SST', 'SALT', 'sDIC', 'sALK']\n",
      "for i, name in enumerate(terms):\n",
      "    p = plot_term(ax[i], name, titles[i])\n",
      "\n",
      "cb = f.colorbar(p, ax=ax.ravel().tolist(), orientation='horizontal',\n",
      "             fraction=0.05, pad=0.05, ticks=[0, 0.05, 0.1])\n",
      "cb.set_label('CO$_{2}$ Flux Response Spread [mol/m$^{2}$/yr]')\n",
      "\n",
      "f.suptitle(e + \" Taylor Expansion for the \" + x + \" (Ensemble Spread)\", fontsize=14, y=0.6)\n",
      "\n",
      "#et.vis.savefig(e + '_' + x + '_spatial_taylor_expansion_spread', extension='.eps', dpi=300)"
     ],
     "language": "python",
     "metadata": {},
     "outputs": [],
     "prompt_number": 100
    },
    {
     "cell_type": "heading",
     "level": 3,
     "metadata": {},
     "source": [
      "Approx. versus direct regression"
     ]
    },
    {
     "cell_type": "code",
     "collapsed": false,
     "input": [
      "f, ax = plt.subplots(nrows=1, ncols=3, figsize=(13,4), subplot_kw=dict(projection=ccrs.Mercator()))\n",
      "lon = taylor_sum.TLONG\n",
      "lat = taylor_sum.TLAT\n",
      "\n",
      "# Approx Sum\n",
      "x0,x1,y0,y1 = et.ebus.visual_bounds('CalCS')\n",
      "p = ax[0].pcolor(lon-1, lat, taylor_sum.mean('ensemble'), transform=ccrs.PlateCarree(),\n",
      "                cmap=\"RdBu_r\", vmin=-0.1, vmax=0.1, edgecolor='w')\n",
      "ax[0].set_extent([x0,x1,y0,y1])\n",
      "ax[0].add_feature(cfeature.LAND, facecolor='k')\n",
      "ax[0].outline_patch.set_edgecolor('white')\n",
      "ax[0].set_title('Taylor Approximation')\n",
      "\n",
      "# \"True\" Sum\n",
      "x0,x1,y0,y1 = et.ebus.visual_bounds('CalCS')\n",
      "ax[1].pcolor(lon-1, lat, true_sum.mean('ensemble'), transform=ccrs.PlateCarree(),\n",
      "                cmap=\"RdBu_r\", vmin=-0.1, vmax=0.1, edgecolor='w')\n",
      "ax[1].set_extent([x0,x1,y0,y1])\n",
      "ax[1].add_feature(cfeature.LAND, facecolor='k')\n",
      "ax[1].outline_patch.set_edgecolor('white')\n",
      "ax[1].set_title('Direct Regression')\n",
      "\n",
      "# Difference\n",
      "x0,x1,y0,y1 = et.ebus.visual_bounds('CalCS')\n",
      "p2 = ax[2].pcolor(lon-1, lat, diff.mean('ensemble'), transform=ccrs.PlateCarree(),\n",
      "                cmap=\"BrBG_r\", vmin=-0.1, vmax=0.1, edgecolor='w')\n",
      "ax[2].set_extent([x0,x1,y0,y1])\n",
      "ax[2].add_feature(cfeature.LAND, facecolor='k')\n",
      "ax[2].outline_patch.set_edgecolor('white')\n",
      "ax[2].set_title('Difference (Approx - Direct)')\n",
      "\n",
      "f.suptitle(\"CalCS Taylor Expansion for the NPGO\", fontsize=14)\n",
      "#f.tight_layout()\n",
      "cb = f.colorbar(p, ax=ax.ravel().tolist(), orientation='horizontal',\n",
      "             fraction=0.05, pad=0.05, ticks=[-0.1, -0.05, 0, 0.05, 0.1])\n",
      "cb.set_label('CO$_{2}$ Flux Response [mol/m$^{2}$/yr]')\n",
      "cb2 = f.colorbar(p2, ax = ax[2], orientation='horizontal',\n",
      "                fraction=0.05, pad=0.05, ticks=[-0.1, -0.05, 0, 0.05, 0.1])\n",
      "cb2.set_label('Difference [mol/m$^{2}$/yr]')\n",
      "\n",
      "#############\n",
      "\n",
      "#et.vis.savefig('CalCS_spatial_decomp_NPGO', extension='.eps', dpi=300)\n"
     ],
     "language": "python",
     "metadata": {},
     "outputs": [],
     "prompt_number": null
    }
   ],
   "metadata": {}
  }
 ]
}