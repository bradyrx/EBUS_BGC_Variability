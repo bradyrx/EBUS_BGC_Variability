{
 "metadata": {
  "kernelspec": {
   "display_name": "Python 3",
   "language": "python",
   "name": "python3"
  },
  "language_info": {
   "codemirror_mode": {
    "name": "ipython",
    "version": 3
   },
   "file_extension": ".py",
   "mimetype": "text/x-python",
   "name": "python",
   "nbconvert_exporter": "python",
   "pygments_lexer": "ipython3",
   "version": "3.6.5"
  },
  "name": ""
 },
 "nbformat": 3,
 "nbformat_minor": 0,
 "worksheets": [
  {
   "cells": [
    {
     "cell_type": "markdown",
     "metadata": {},
     "source": [
      "# CO2 Flux Decomposition for the CalCS PDO\n",
      "\n",
      "This script performs the CO2 flux decomposition for the onshore and offshore boxes of the CalCS, since a dipole forms spatially. The boxes were determined in the script in this folder `CalCS_Nino34_Subboxes`.\n",
      "\n",
      "I am attemping to perform the whole decomposition here, so that I don't clog up my filespace with \"CalCS Subbox\" .ncs."
     ]
    },
    {
     "cell_type": "code",
     "collapsed": false,
     "input": [
      "import numpy as np\n",
      "import pandas as pd\n",
      "import xarray as xr\n",
      "import matplotlib.pyplot as plt\n",
      "%matplotlib inline\n",
      "plt.style.use('seaborn-whitegrid')\n",
      "import seaborn as sns\n",
      "from esmtools.physics import stress_to_speed\n",
      "from esmtools.carbon import co2_sol, schmidt\n",
      "import cartopy.crs as ccrs\n",
      "import cartopy.feature as cfeature\n",
      "import esmtools as et"
     ],
     "language": "python",
     "metadata": {},
     "outputs": [],
     "prompt_number": 14
    },
    {
     "cell_type": "code",
     "collapsed": false,
     "input": [
      "\"\"\"\n",
      "Some constants that are pertinent for this.\n",
      "\"\"\"\n",
      "a = 6.972e-7 # Flux coefficient in s/m\n",
      "conversion = (60 * 60 * 24 * 365) / 1e3 # Applied to every term of the expansion to have proper units (see notes)\n",
      "S0 = 35 # Salinity constant\n",
      "colors = {'onshore': '#71B0D3', 'offshore': '#F8BB9E'}"
     ],
     "language": "python",
     "metadata": {},
     "outputs": [],
     "prompt_number": 15
    },
    {
     "cell_type": "code",
     "collapsed": false,
     "input": [
      "b = 'offshore'\n",
      "x = 'PDO'\n",
      "smooth = 0"
     ],
     "language": "python",
     "metadata": {},
     "outputs": [],
     "prompt_number": 65
    },
    {
     "cell_type": "heading",
     "level": 2,
     "metadata": {},
     "source": [
      "Load in Ensemble Means (for sensitivities)"
     ]
    },
    {
     "cell_type": "code",
     "collapsed": false,
     "input": [
      "def load_ensemble_mean(b, v):\n",
      "    \"\"\"\n",
      "    Loads in the ensemble mean time series for a given box (b) [onshore/offshore]\n",
      "    within the California Current for a given variable (v).\n",
      "    \"\"\"\n",
      "    filepath = ('/glade/p/work/rbrady/EBUS_BGC_Variability/CalCS_Boxes/' +\n",
      "                b.lower() + '/' + v + '/CalCS.' + v + '.' + b.lower() + '.forced-signal.nc')\n",
      "    da = xr.open_dataarray(filepath)\n",
      "    da.name = v\n",
      "    return da"
     ],
     "language": "python",
     "metadata": {},
     "outputs": [],
     "prompt_number": 66
    },
    {
     "cell_type": "code",
     "collapsed": false,
     "input": [
      "variables = ['FG_CO2', 'SST', 'SALT', 'DIC', 'ALK', 'sDIC', \n",
      "             'sALK', 'U', 'DCO2STAR', 'RHO', 'pCO2SURF']\n",
      "forced = xr.Dataset()\n",
      "for i, name in enumerate(variables):\n",
      "    da = load_ensemble_mean(b, name)\n",
      "    forced = xr.merge([forced, da])"
     ],
     "language": "python",
     "metadata": {},
     "outputs": [],
     "prompt_number": 67
    },
    {
     "cell_type": "code",
     "collapsed": false,
     "input": [
      "forced = forced.rename({'pCO2SURF': 'pCO2'})\n",
      "means = forced.mean()"
     ],
     "language": "python",
     "metadata": {},
     "outputs": [],
     "prompt_number": 68
    },
    {
     "cell_type": "heading",
     "level": 2,
     "metadata": {},
     "source": [
      "Load in the Regression Results"
     ]
    },
    {
     "cell_type": "code",
     "collapsed": false,
     "input": [
      "def load_regression(b, x, y, smooth):\n",
      "    \"\"\"\n",
      "    Loads in the regression results for a given box (b) [offshore/onshore] of\n",
      "    the California Current using predictor variable (x) and dependent variable (y).\n",
      "    \"\"\"\n",
      "    filepath = ('/glade/p/work/rbrady/EBUS_BGC_Variability/CalCS_Boxes/' + b.lower() +\n",
      "                '/regression_results/' + y + '/' + x + '/')\n",
      "    if smooth == 0:\n",
      "        filename = (x + '.' + y + '.' + b.lower() + '.unsmoothed.regression.lag0.nc')\n",
      "    else:\n",
      "        filename = (x + '.' + y + '.' + b.lower() + '.smoothed' + str(smooth) + '.regression.lag0.nc')\n",
      "    ds = xr.open_dataset(filepath + filename)\n",
      "    return ds"
     ],
     "language": "python",
     "metadata": {},
     "outputs": [],
     "prompt_number": 69
    },
    {
     "cell_type": "code",
     "collapsed": false,
     "input": [
      "delta_FG_CO2 = load_regression(b, x, 'FG_CO2', smooth)\n",
      "delta_U = load_regression(b, x, 'U', smooth)\n",
      "delta_SST = load_regression(b, x, 'SST', smooth)\n",
      "delta_SALT = load_regression(b, x, 'SALT', smooth)\n",
      "delta_sDIC = load_regression(b, x, 'sDIC', smooth)\n",
      "delta_sALK = load_regression(b, x, 'sALK', smooth)"
     ],
     "language": "python",
     "metadata": {},
     "outputs": [],
     "prompt_number": 70
    },
    {
     "cell_type": "code",
     "collapsed": false,
     "input": [
      "\"\"\"\n",
      "tolerance = 0.1\n",
      "np.where((delta_FG_CO2['p'] <= tolerance) & \n",
      "         (delta_U['p'] <= tolerance) &\n",
      "         (delta_SST['p'] <= tolerance) &\n",
      "         (delta_SALT['p'] <= tolerance) &\n",
      "         (delta_sDIC['p'] <= tolerance) &\n",
      "         (delta_sALK['p'] <= tolerance))\n",
      "\"\"\"\n",
      "# Seems impossible to get all 34 members to be significant in all terms. So maybe just\n",
      "# test significance of FG_CO2?\n",
      "tolerance = 0.1\n",
      "delta_U = delta_U.where(delta_FG_CO2['p'] <= tolerance, drop=True)\n",
      "delta_SST = delta_SST.where(delta_FG_CO2['p'] <= tolerance, drop=True)\n",
      "delta_SALT = delta_SALT.where(delta_FG_CO2['p'] <= tolerance, drop=True)\n",
      "delta_sDIC = delta_sDIC.where(delta_FG_CO2['p'] <= tolerance, drop=True)\n",
      "delta_sALK = delta_sALK.where(delta_FG_CO2['p'] <= tolerance, drop=True)\n",
      "delta_FG_CO2 = delta_FG_CO2.where(delta_FG_CO2['p'] <= tolerance, drop=True)\n",
      "N = len(delta_FG_CO2['m'])"
     ],
     "language": "python",
     "metadata": {},
     "outputs": [],
     "prompt_number": 71
    },
    {
     "cell_type": "heading",
     "level": 2,
     "metadata": {},
     "source": [
      "Compute Terms"
     ]
    },
    {
     "cell_type": "code",
     "collapsed": false,
     "input": [
      "# Repetitive terms\n",
      "Sc = schmidt(forced['SST'])\n",
      "ff = co2_sol(forced['SST'], forced['SALT'])\n",
      "gamma_DIC = (3*means['ALK']*means['DIC'] - 2*means['DIC']**2) / \\\n",
      "            ((2*means['DIC']-means['ALK'])*(means['ALK']-means['DIC']))\n",
      "gamma_ALK = (-means['ALK']**2)/((2*means['DIC']-means['ALK'])*(means['ALK']-means['DIC']))\n",
      "\n",
      "\n",
      "\"\"\" \n",
      "The conversion term converts to the proper mol/m2/yr for every unit. So that we actually have each term\n",
      "summing to a mol/m2/yr perturbation from some climate event.\n",
      "\n",
      "Can run a np.where command on the original delta datasets to drop non-significant results.\n",
      "\"\"\"\n",
      "# SENSITIVITIES\n",
      "dFdpCO2 = means['RHO']*ff*a*np.sqrt(660/Sc)*means['U']**2\n",
      "dFdU = -2*a*np.sqrt(660/Sc)*means['U']*means['DCO2STAR']\n",
      "dFdSST = dFdpCO2*0.0423*means['pCO2']\n",
      "dFdSALT = dFdpCO2*(means['pCO2']/means['SALT'])\n",
      "dpCO2dDIC = (means['pCO2']*gamma_DIC)/means['DIC']\n",
      "dpCO2dALK = (means['pCO2']*gamma_ALK)/means['ALK']\n",
      "\n",
      "# FULL TERM\n",
      "F = delta_FG_CO2['m']\n",
      "U = dFdU*delta_U['m']*conversion\n",
      "SST = dFdSST*delta_SST['m']*conversion\n",
      "SALT = dFdSALT*delta_SALT['m']*conversion\n",
      "sDIC = dFdpCO2*dpCO2dDIC*(means['SALT']/S0)*delta_sDIC['m']*conversion\n",
      "sALK = dFdpCO2*dpCO2dALK*(means['SALT']/S0)*delta_sALK['m']*conversion\n",
      "\n",
      "# Freshwater\n",
      "term1 = dFdpCO2*dpCO2dDIC*(means['sDIC']/S0)*delta_SALT['m']*conversion\n",
      "term2 = dFdpCO2*dpCO2dALK*(means['sALK']/S0)*delta_SALT['m']*conversion\n",
      "FW = term1 + term2"
     ],
     "language": "python",
     "metadata": {},
     "outputs": [],
     "prompt_number": 72
    },
    {
     "cell_type": "code",
     "collapsed": false,
     "input": [
      "variables = ['U','SST','SALT','sDIC','sALK','FW']\n",
      "\n",
      "for i in variables:\n",
      "    newvar = eval(i)\n",
      "    ensmean = np.round(newvar.mean().values, 2)\n",
      "    spread = np.round(newvar.std().values, 2)\n",
      "    print(i + \": \" + str(ensmean) + \" + \" + str(spread))"
     ],
     "language": "python",
     "metadata": {},
     "outputs": [],
     "prompt_number": 73
    },
    {
     "cell_type": "code",
     "collapsed": false,
     "input": [
      "# Approx. sum\n",
      "taylor_sum = U + SST + SALT + sDIC + sALK\n",
      "ensmean = np.round(taylor_sum.mean().values, 2)\n",
      "spread = np.round(taylor_sum.std().values, 2)\n",
      "print(\"Approx : \" + str(ensmean) + \" + \" + str(spread))\n",
      "\n",
      "# Modeled\n",
      "ensmean = np.round(F.mean().values, 2)\n",
      "spread = np.round(F.std().values, 2)\n",
      "print(\"True : \" + str(ensmean) + \" + \" + str(spread))\n"
     ],
     "language": "python",
     "metadata": {},
     "outputs": [],
     "prompt_number": 74
    },
    {
     "cell_type": "heading",
     "level": 1,
     "metadata": {},
     "source": [
      "Sensitivity vs Delta"
     ]
    },
    {
     "cell_type": "code",
     "collapsed": false,
     "input": [
      "d1 = {'U': [means['U'].values],\n",
      "     'DCO2STAR': [means['DCO2STAR'].values],\n",
      "     'Schmidt': [np.sqrt(660/Sc).values]}\n",
      "d2 = {'Sensitivity(e-3)': [dFdU.values*1000],\n",
      "      'Regression': [delta_U['m'].mean().values]}\n",
      "df1 = pd.DataFrame(data=d1)\n",
      "df2 = pd.DataFrame(data=d2)"
     ],
     "language": "python",
     "metadata": {},
     "outputs": [],
     "prompt_number": 75
    },
    {
     "cell_type": "code",
     "collapsed": false,
     "input": [
      "sns.set_style('whitegrid')\n",
      "order = list(['Schmidt','U','DCO2STAR'])\n",
      "f, ax = plt.subplots(ncols=2, figsize=(8,3))\n",
      "bars1 = sns.barplot(data=df1, ax=ax[0], order=order, color='gray')\n",
      "bars2 = sns.barplot(data=df2, ax=ax[1], color='gray')\n",
      "\n",
      "ax[0].set_ylim([-4,8])\n",
      "ax[1].set_ylim([-0.1,0.4])\n",
      "sns.despine(left=True,bottom=True)\n",
      "\n",
      "ax[0].set_title('CalCS PDO Offshore')\n",
      "\n",
      "et.vis.savefig('calcs_pdo_offshore_U', extension='.png', dpi=300)"
     ],
     "language": "python",
     "metadata": {},
     "outputs": [],
     "prompt_number": 76
    },
    {
     "cell_type": "heading",
     "level": 2,
     "metadata": {},
     "source": [
      "Visualize."
     ]
    },
    {
     "cell_type": "code",
     "collapsed": false,
     "input": [
      "def setup_dataframe(v, da):\n",
      "    \"\"\"\n",
      "    Creates a DataFrame with term values given a variable name (v) and the\n",
      "    DataArray containing the expansion results (da).\n",
      "    \"\"\"\n",
      "    da.name = v\n",
      "    df = da.to_dataframe()\n",
      "    return df"
     ],
     "language": "python",
     "metadata": {},
     "outputs": [],
     "prompt_number": 29
    },
    {
     "cell_type": "code",
     "collapsed": false,
     "input": [
      "variables = ['U','SST','SALT','sDIC','sALK','FW']\n",
      "df = pd.DataFrame()\n",
      "for i, name in enumerate(variables):\n",
      "    temp_df = setup_dataframe(name, eval(name))\n",
      "    df = pd.concat([df, temp_df], axis=1)\n",
      "df['Total'] = df.sum(axis=1)"
     ],
     "language": "python",
     "metadata": {},
     "outputs": [],
     "prompt_number": 30
    },
    {
     "cell_type": "code",
     "collapsed": false,
     "input": [
      "# For putting the variance explained.\n",
      "avg_r = delta_FG_CO2['r'].median()\n",
      "avg_r = avg_r.values"
     ],
     "language": "python",
     "metadata": {},
     "outputs": [],
     "prompt_number": 31
    },
    {
     "cell_type": "code",
     "collapsed": false,
     "input": [
      "delta_FG_CO2.r.mean()"
     ],
     "language": "python",
     "metadata": {},
     "outputs": [],
     "prompt_number": 32
    },
    {
     "cell_type": "code",
     "collapsed": false,
     "input": [
      "delta_FG_CO2.r.std()"
     ],
     "language": "python",
     "metadata": {},
     "outputs": [],
     "prompt_number": 33
    },
    {
     "cell_type": "code",
     "collapsed": false,
     "input": [
      "sns.set_style('whitegrid')\n",
      "if F.mean() > 0:\n",
      "    clist = ['r', '#a9a9a9', '#a9a9a9', '#a9a9a9', '#a9a9a9', '#a9a9a9', '#a9a9a9']\n",
      "else:\n",
      "    clist = ['b', '#a9a9a9', '#a9a9a9', '#a9a9a9', '#a9a9a9', '#a9a9a9', '#a9a9a9']\n",
      "order = list(['Total', 'U', 'SST', 'SALT', 'sDIC', 'sALK', 'FW'])\n",
      "f, ax = plt.subplots(figsize=(8,4))\n",
      "bars = sns.barplot(data=df, ax=ax, ci='sd', capsize=0.1, errwidth=1,\n",
      "                   palette=clist, order=order)\n",
      "sns.despine(left=True, bottom=True)\n",
      "ax.set_title('Offshore 1$\\sigma$' + ' ' + x + ' Response (N = ' + str(N) + ')', fontsize=14)\n",
      "ax.set_ylabel('Contribution to F$_{\\mathrm{CO}_{2}}$ Change' + '\\n' + '[mol/m2/yr]',\n",
      "              fontsize=14)\n",
      "ax.set_ylim([-0.4,0.4])\n",
      "\n",
      "# Add true regression\n",
      "ax.errorbar(0, F.mean(), yerr=F.std(), fmt='o', capsize=3, color='k', markersize=6)\n",
      "\n",
      "# Add variance explained.\n",
      "#plt.text(5.5, 0.12, 'R = ' + str(avg_r.round(2)), fontsize=12, fontweight='bold',\n",
      "#        bbox={'edgecolor':'w', 'facecolor':'w', 'alpha':0.2})\n",
      "\n",
      "# Fontsizes\n",
      "ax.tick_params(labelsize=13)\n",
      "\n",
      "# Save figure.\n",
      "#et.vis.savefig('CalCS_pdo_offshore', extension='.eps', dpi=300)"
     ],
     "language": "python",
     "metadata": {},
     "outputs": [],
     "prompt_number": 34
    },
    {
     "cell_type": "code",
     "collapsed": false,
     "input": [],
     "language": "python",
     "metadata": {},
     "outputs": [],
     "prompt_number": null
    }
   ],
   "metadata": {}
  }
 ]
}