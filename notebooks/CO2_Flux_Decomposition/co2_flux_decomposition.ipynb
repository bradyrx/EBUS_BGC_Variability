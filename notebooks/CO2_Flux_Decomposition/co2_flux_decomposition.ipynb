{
 "metadata": {
  "kernelspec": {
   "display_name": "Python 3",
   "language": "python",
   "name": "python3"
  },
  "language_info": {
   "codemirror_mode": {
    "name": "ipython",
    "version": 3
   },
   "file_extension": ".py",
   "mimetype": "text/x-python",
   "name": "python",
   "nbconvert_exporter": "python",
   "pygments_lexer": "ipython3",
   "version": "3.6.5"
  },
  "name": ""
 },
 "nbformat": 3,
 "nbformat_minor": 0,
 "worksheets": [
  {
   "cells": [
    {
     "cell_type": "markdown",
     "metadata": {},
     "source": [
      "# CO$_{2}$ Flux Decomposition\n",
      "\n",
      "This is the working area to develop a script that takes time series from a given region and decomposes the CO2 flux changes from a given climate event (e.g. ENSO) into the relative components contributing to that change (U, SST, S, DIC, etc.)\n",
      "\n",
      "To improve this script, can compute sensitivities in 5-10 year chunks to reduce error due to changing mean state."
     ]
    },
    {
     "cell_type": "code",
     "collapsed": false,
     "input": [
      "import numpy as np\n",
      "import pandas as pd\n",
      "import xarray as xr\n",
      "import matplotlib.pyplot as plt\n",
      "%matplotlib inline\n",
      "plt.style.use('seaborn-whitegrid')\n",
      "import seaborn as sns\n",
      "from esmtools.physics import stress_to_speed\n",
      "from esmtools.carbon import co2_sol, schmidt\n",
      "import cartopy.crs as ccrs\n",
      "import cartopy.feature as cfeature\n",
      "import esmtools as et"
     ],
     "language": "python",
     "metadata": {},
     "outputs": [],
     "prompt_number": 2
    },
    {
     "cell_type": "code",
     "collapsed": false,
     "input": [
      "\"\"\"\n",
      "Some constants that are pertinent for this.\n",
      "\"\"\"\n",
      "a = 6.972e-7 # Flux coefficient in s/m\n",
      "conversion = (60 * 60 * 24 * 365) / 1e3 # Applied to every term of the expansion to have proper units (see notes)\n",
      "S0 = 35 # Salinity constant"
     ],
     "language": "python",
     "metadata": {},
     "outputs": [],
     "prompt_number": 3
    },
    {
     "cell_type": "code",
     "collapsed": false,
     "input": [
      "e = 'CalCS'\n",
      "x = 'NPGO'\n",
      "smooth = 12"
     ],
     "language": "python",
     "metadata": {},
     "outputs": [],
     "prompt_number": 4
    },
    {
     "cell_type": "markdown",
     "metadata": {},
     "source": [
      "#### Load in all important ensemble means\n",
      "\n",
      "Will use this to compute sensitivities"
     ]
    },
    {
     "cell_type": "code",
     "collapsed": false,
     "input": [
      "def load_ensemble_mean(e, v):\n",
      "    \"\"\"\n",
      "    Loads in the ensemble mean time series for a given upwelling system (e)\n",
      "    and variable (v). I will use these to compute the sensitivities, which shouldn't\n",
      "    cause too much error since it's a much larger value than the residuals.\n",
      "    \"\"\"\n",
      "    filepath = ('/glade/p/work/rbrady/EBUS_BGC_Variability/' + v + '/' + e +\n",
      "               '/filtered_output/' + e.lower() + '-' + v + '-forced-signal-AW-chavez-800km.nc')\n",
      "    da = xr.open_dataarray(filepath)\n",
      "    da.name = v\n",
      "    return da"
     ],
     "language": "python",
     "metadata": {},
     "outputs": [],
     "prompt_number": 5
    },
    {
     "cell_type": "code",
     "collapsed": false,
     "input": [
      "variables = ['FG_CO2', 'SST', 'SALT', 'DIC', 'ALK', 'TAUX',\n",
      "             'TAUY', 'TAUX2', 'TAUY2', 'sDIC', 'sALK', 'U',\n",
      "             'DCO2STAR', 'RHO', 'pCO2SURF']\n",
      "forced = xr.Dataset()\n",
      "for i, name in enumerate(variables):\n",
      "    da = load_ensemble_mean(e, name)\n",
      "    forced = xr.merge([forced, da])"
     ],
     "language": "python",
     "metadata": {},
     "outputs": [],
     "prompt_number": 6
    },
    {
     "cell_type": "code",
     "collapsed": false,
     "input": [
      "forced = forced.rename({'pCO2SURF': 'pCO2'})\n",
      "means = forced.mean()"
     ],
     "language": "python",
     "metadata": {},
     "outputs": [],
     "prompt_number": 7
    },
    {
     "cell_type": "heading",
     "level": 4,
     "metadata": {},
     "source": [
      "Load in the regression results."
     ]
    },
    {
     "cell_type": "code",
     "collapsed": false,
     "input": [
      "def load_regression(e, x, y, smooth):\n",
      "    \"\"\"\n",
      "    Loads in the area-weighted regression results for a given upwelling system\n",
      "    (e), predictor variable (x), and dependent variable (y). Need to add functionality\n",
      "    for lagging. Currently assumes values of 0 for each of those features.\n",
      "    \"\"\"\n",
      "    filepath = ('/glade/p/work/rbrady/EBUS_BGC_Variability/area_weighted_regional_regressions/' +\n",
      "                e + '/' + y + '/' + x + '/')\n",
      "    if smooth == 0:\n",
      "        filename = (x + '.' + y + '.' + e + '.unsmoothed.area_weighted_regional_regression.lag0.nc')\n",
      "    else:\n",
      "        filename = (x + '.' + y + '.' + e + '.smoothed' + str(smooth) + '.area_weighted_regional_regression.lag0.nc')\n",
      "    ds = xr.open_dataset(filepath + filename)\n",
      "    return ds"
     ],
     "language": "python",
     "metadata": {},
     "outputs": [],
     "prompt_number": 8
    },
    {
     "cell_type": "code",
     "collapsed": false,
     "input": [
      "delta_FG_CO2 = load_regression(e, x, 'FG_CO2', smooth)\n",
      "delta_U = load_regression(e, x, 'U', smooth)\n",
      "delta_SST = load_regression(e, x, 'SST', smooth)\n",
      "delta_SALT = load_regression(e, x, 'SALT', smooth)\n",
      "delta_sDIC = load_regression(e, x, 'sDIC', smooth)\n",
      "delta_sALK = load_regression(e, x, 'sALK', smooth)"
     ],
     "language": "python",
     "metadata": {},
     "outputs": [],
     "prompt_number": 9
    },
    {
     "cell_type": "code",
     "collapsed": false,
     "input": [
      "\"\"\"\n",
      "tolerance = 0.1\n",
      "np.where((delta_FG_CO2['p'] <= tolerance) & \n",
      "         (delta_U['p'] <= tolerance) &\n",
      "         (delta_SST['p'] <= tolerance) &\n",
      "         (delta_SALT['p'] <= tolerance) &\n",
      "         (delta_sDIC['p'] <= tolerance) &\n",
      "         (delta_sALK['p'] <= tolerance))\n",
      "\"\"\"\n",
      "# Seems impossible to get all 34 members to be significant in all terms. So maybe just\n",
      "# test significance of FG_CO2?\n",
      "tolerance = 0.1\n",
      "delta_U = delta_U.where(delta_FG_CO2['p'] <= tolerance, drop=True)\n",
      "delta_SST = delta_SST.where(delta_FG_CO2['p'] <= tolerance, drop=True)\n",
      "delta_SALT = delta_SALT.where(delta_FG_CO2['p'] <= tolerance, drop=True)\n",
      "delta_sDIC = delta_sDIC.where(delta_FG_CO2['p'] <= tolerance, drop=True)\n",
      "delta_sALK = delta_sALK.where(delta_FG_CO2['p'] <= tolerance, drop=True)\n",
      "delta_FG_CO2 = delta_FG_CO2.where(delta_FG_CO2['p'] <= tolerance, drop=True)\n",
      "N = len(delta_FG_CO2['m'])"
     ],
     "language": "python",
     "metadata": {},
     "outputs": [],
     "prompt_number": 89
    },
    {
     "cell_type": "heading",
     "level": 3,
     "metadata": {},
     "source": [
      "Compute Terms"
     ]
    },
    {
     "cell_type": "code",
     "collapsed": false,
     "input": [
      "# Repetitive terms\n",
      "Sc = schmidt(forced['SST'])\n",
      "ff = co2_sol(forced['SST'], forced['SALT'])\n",
      "gamma_DIC = (3*means['ALK']*means['DIC'] - 2*means['DIC']**2) / \\\n",
      "            ((2*means['DIC']-means['ALK'])*(means['ALK']-means['DIC']))\n",
      "gamma_ALK = (-means['ALK']**2)/((2*means['DIC']-means['ALK'])*(means['ALK']-means['DIC']))\n",
      "\n",
      "\n",
      "\"\"\" \n",
      "The conversion term converts to the proper mol/m2/yr for every unit. So that we actually have each term\n",
      "summing to a mol/m2/yr perturbation from some climate event.\n",
      "\n",
      "Can run a np.where command on the original delta datasets to drop non-significant results.\n",
      "\"\"\"\n",
      "# SENSITIVITIES\n",
      "dFdpCO2 = means['RHO']*ff*a*np.sqrt(660/Sc)*means['U']**2\n",
      "dFdU = -2*a*np.sqrt(660/Sc)*means['U']*means['DCO2STAR']\n",
      "dFdSST = dFdpCO2*0.0423*means['pCO2']\n",
      "dFdSALT = dFdpCO2*(means['pCO2']/means['SALT'])\n",
      "dpCO2dDIC = (means['pCO2']*gamma_DIC)/means['DIC']\n",
      "dpCO2dALK = (means['pCO2']*gamma_ALK)/means['ALK']\n",
      "\n",
      "# FULL TERM\n",
      "F = delta_FG_CO2['m']\n",
      "U = dFdU*delta_U['m']*conversion\n",
      "SST = dFdSST*delta_SST['m']*conversion\n",
      "SALT = dFdSALT*delta_SALT['m']*conversion\n",
      "sDIC = dFdpCO2*dpCO2dDIC*(means['SALT']/S0)*delta_sDIC['m']*conversion\n",
      "sALK = dFdpCO2*dpCO2dALK*(means['SALT']/S0)*delta_sALK['m']*conversion\n",
      "\n",
      "# Freshwater\n",
      "term1 = dFdpCO2*dpCO2dDIC*(means['sDIC']/S0)*delta_SALT['m']*conversion\n",
      "term2 = dFdpCO2*dpCO2dALK*(means['sALK']/S0)*delta_SALT['m']*conversion\n",
      "FW = term1 + term2"
     ],
     "language": "python",
     "metadata": {},
     "outputs": [],
     "prompt_number": 90
    },
    {
     "cell_type": "code",
     "collapsed": false,
     "input": [
      "variables = ['U','SST','SALT','sDIC','sALK','FW']\n",
      "\n",
      "for i in variables:\n",
      "    newvar = eval(i)\n",
      "    ensmean = np.round(newvar.mean().values, 2)\n",
      "    spread = np.round(newvar.std().values, 2)\n",
      "    print(i + \": \" + str(ensmean) + \" + \" + str(spread))"
     ],
     "language": "python",
     "metadata": {},
     "outputs": [],
     "prompt_number": 91
    },
    {
     "cell_type": "code",
     "collapsed": false,
     "input": [
      "# Approx. sum\n",
      "taylor_sum = U + SST + SALT + sDIC + sALK\n",
      "ensmean = np.round(taylor_sum.mean().values, 2)\n",
      "spread = np.round(taylor_sum.std().values, 2)\n",
      "print(\"Approx : \" + str(ensmean) + \" + \" + str(spread))\n",
      "\n",
      "# Modeled\n",
      "ensmean = np.round(F.mean().values, 2)\n",
      "spread = np.round(F.std().values, 2)\n",
      "print(\"True : \" + str(ensmean) + \" + \" + str(spread))\n"
     ],
     "language": "python",
     "metadata": {},
     "outputs": [],
     "prompt_number": 92
    },
    {
     "cell_type": "markdown",
     "metadata": {},
     "source": [
      "Sensitivities"
     ]
    },
    {
     "cell_type": "code",
     "collapsed": false,
     "input": [
      "variables = ['U','SST','SALT','DIC','ALK']\n",
      "for i in variables:\n",
      "    if i not in ['U','SST','SALT']:\n",
      "        temp = eval('dpCO2d' + i)\n",
      "        newvar = dFdpCO2 * temp\n",
      "    else:\n",
      "        newvar = eval('dFd' + i)\n",
      "    val = newvar.mean().values\n",
      "    print(str(val))\n"
     ],
     "language": "python",
     "metadata": {},
     "outputs": [],
     "prompt_number": 93
    },
    {
     "cell_type": "markdown",
     "metadata": {},
     "source": [
      "Regressions"
     ]
    },
    {
     "cell_type": "code",
     "collapsed": false,
     "input": [
      "variables = ['delta_U','delta_SST','delta_SALT','delta_sDIC','delta_sALK']\n",
      "for i in variables:\n",
      "    newvar = eval(i)\n",
      "    val = newvar['m'].mean().values\n",
      "    print(str(val))\n"
     ],
     "language": "python",
     "metadata": {},
     "outputs": [],
     "prompt_number": 94
    },
    {
     "cell_type": "markdown",
     "metadata": {},
     "source": [
      "# Sensitivity vs Delta\n",
      "Quick vis to look at for different systems."
     ]
    },
    {
     "cell_type": "code",
     "collapsed": false,
     "input": [
      "d1 = {'U': [means['U'].values],\n",
      "     'DCO2STAR': [means['DCO2STAR'].values],\n",
      "     'Schmidt': [np.sqrt(660/Sc).values]}\n",
      "d2 = {'Sensitivity(e-3)': [dFdU.values*1000],\n",
      "      'Regression': [delta_U['m'].mean().values]}\n",
      "df1 = pd.DataFrame(data=d1)\n",
      "df2 = pd.DataFrame(data=d2)"
     ],
     "language": "python",
     "metadata": {},
     "outputs": [],
     "prompt_number": 13
    },
    {
     "cell_type": "code",
     "collapsed": false,
     "input": [
      "sns.set_style('whitegrid')\n",
      "order = list(['Schmidt','U','DCO2STAR'])\n",
      "f, ax = plt.subplots(ncols=2, figsize=(8,3))\n",
      "bars1 = sns.barplot(data=df1, ax=ax[0], order=order, color='gray')\n",
      "bars2 = sns.barplot(data=df2, ax=ax[1], color='gray')\n",
      "\n",
      "ax[0].set_ylim([-4,8])\n",
      "ax[1].set_ylim([0,0.4])\n",
      "sns.despine(left=True,bottom=True)\n",
      "\n",
      "ax[0].set_title(e + \" \" + x)\n",
      "\n",
      "#et.vis.savefig('cancs_nao_U', extension='.png', dpi=300)"
     ],
     "language": "python",
     "metadata": {},
     "outputs": [],
     "prompt_number": 14
    },
    {
     "cell_type": "heading",
     "level": 3,
     "metadata": {},
     "source": [
      "Visualize"
     ]
    },
    {
     "cell_type": "code",
     "collapsed": false,
     "input": [
      "def setup_dataframe(v, da):\n",
      "    \"\"\"\n",
      "    Creates a DataFrame with term values given a variable name (v) and the\n",
      "    DataArray containing the expansion results (da).\n",
      "    \"\"\"\n",
      "    da.name = v\n",
      "    df = da.to_dataframe()\n",
      "    del df['z_t']\n",
      "    return df"
     ],
     "language": "python",
     "metadata": {},
     "outputs": [],
     "prompt_number": null
    },
    {
     "cell_type": "code",
     "collapsed": false,
     "input": [
      "variables = ['U','SST','SALT','sDIC','sALK','FW']\n",
      "df = pd.DataFrame()\n",
      "for i, name in enumerate(variables):\n",
      "    temp_df = setup_dataframe(name, eval(name))\n",
      "    df = pd.concat([df, temp_df], axis=1)\n",
      "df['Total'] = df.sum(axis=1)"
     ],
     "language": "python",
     "metadata": {},
     "outputs": [],
     "prompt_number": null
    },
    {
     "cell_type": "code",
     "collapsed": false,
     "input": [
      "# For putting the variance explained.\n",
      "avg_r = delta_FG_CO2['r'].median()\n",
      "avg_r = avg_r.values"
     ],
     "language": "python",
     "metadata": {},
     "outputs": [],
     "prompt_number": null
    },
    {
     "cell_type": "code",
     "collapsed": false,
     "input": [
      "sns.set_style('whitegrid')\n",
      "if F.mean() > 0:\n",
      "    clist = ['r', '#a9a9a9', '#a9a9a9', '#a9a9a9', '#a9a9a9', '#a9a9a9', '#a9a9a9']\n",
      "else:\n",
      "    clist = ['b', '#a9a9a9', '#a9a9a9', '#a9a9a9', '#a9a9a9', '#a9a9a9', '#a9a9a9']\n",
      "order = list(['Total', 'U', 'SST', 'SALT', 'sDIC', 'sALK', 'FW'])\n",
      "f, ax = plt.subplots(figsize=(8,4))\n",
      "bars = sns.barplot(data=df, ax=ax, ci='sd', capsize=0.1, errwidth=1,\n",
      "                   palette=clist, order=order)\n",
      "sns.despine(left=True, bottom=True)\n",
      "ax.set_title(e + ' 1$\\sigma$' + ' ' + x + ' Response (N = ' + str(N) + ')', fontsize=14)\n",
      "ax.set_ylabel('Contribution to F$_{\\mathrm{CO}_{2}}$ Change' + '\\n' + '[mol/m2/yr]',\n",
      "              fontsize=14)\n",
      "\n",
      "# Add true regression\n",
      "ax.errorbar(0, F.mean(), yerr=F.std(), fmt='o', capsize=3, color='k', markersize=6)\n",
      "\n",
      "# Add variance explained.\n",
      "plt.text(5.5, 0.12, 'R = ' + str(avg_r.round(2)), fontsize=12, fontweight='bold',\n",
      "        bbox={'edgecolor':'w', 'facecolor':'w', 'alpha':0.2})\n",
      "\n",
      "# Fontsizes\n",
      "ax.tick_params(labelsize=13)\n",
      "\n",
      "# Save figure.\n",
      "#et.vis.savefig('CanCS_nao', extension='.eps', dpi=300)"
     ],
     "language": "python",
     "metadata": {},
     "outputs": [],
     "prompt_number": null
    },
    {
     "cell_type": "heading",
     "level": 1,
     "metadata": {},
     "source": [
      "Signs of Sensitivity and Regression Terms"
     ]
    },
    {
     "cell_type": "code",
     "collapsed": false,
     "input": [
      "def mean(x):\n",
      "    return x['m'].mean()"
     ],
     "language": "python",
     "metadata": {},
     "outputs": [],
     "prompt_number": null
    },
    {
     "cell_type": "code",
     "collapsed": false,
     "input": [
      "def color_negative_red(val):\n",
      "    \"\"\"\n",
      "    Takes a scalar and returns a string with\n",
      "    the css property `'color: red'` for negative\n",
      "    strings, black otherwise.\n",
      "    \"\"\"\n",
      "    color = 'red' if val == '-' else 'green'\n",
      "    return 'color: %s' % color"
     ],
     "language": "python",
     "metadata": {},
     "outputs": [],
     "prompt_number": null
    },
    {
     "cell_type": "code",
     "collapsed": false,
     "input": [
      "# Set up list of terms\n",
      "sens_list = np.asarray([dFdU, dFdSST, dFdSALT, (dFdpCO2*dpCO2dDIC), (dFdpCO2*dpCO2dALK)])\n",
      "reg_list = np.asarray([mean(delta_U), mean(delta_SST), mean(delta_SALT), mean(delta_sDIC),\n",
      "                       mean(delta_sALK)])\n",
      "term_list = np.asarray([U.mean(),SST.mean(),SALT.mean(),sDIC.mean(),sALK.mean()])"
     ],
     "language": "python",
     "metadata": {},
     "outputs": [],
     "prompt_number": null
    },
    {
     "cell_type": "code",
     "collapsed": false,
     "input": [
      "# Replace with + and -\n",
      "sens = []\n",
      "reg = []\n",
      "term = []\n",
      "for s, r, t in zip(sens_list, reg_list, term_list):\n",
      "    if s < 0:\n",
      "        sens.append('-')\n",
      "    else:\n",
      "        sens.append('+')\n",
      "    if r < 0:\n",
      "        reg.append('-')\n",
      "    else:\n",
      "        reg.append('+')\n",
      "    if t < 0:\n",
      "        term.append('-')\n",
      "    else:\n",
      "        term.append('+')"
     ],
     "language": "python",
     "metadata": {},
     "outputs": [],
     "prompt_number": null
    },
    {
     "cell_type": "code",
     "collapsed": false,
     "input": [
      "df = pd.DataFrame({'Sensitivity': sens, '$\\Delta$': reg, 'Term': term},\n",
      "                  index=['U','SST','SALT','sDIC','sALK'])\n",
      "df = df[['Sensitivity','$\\Delta$','Term']]"
     ],
     "language": "python",
     "metadata": {},
     "outputs": [],
     "prompt_number": null
    },
    {
     "cell_type": "code",
     "collapsed": false,
     "input": [
      "s = df.style.applymap(color_negative_red)"
     ],
     "language": "python",
     "metadata": {},
     "outputs": [],
     "prompt_number": null
    },
    {
     "cell_type": "code",
     "collapsed": false,
     "input": [
      "means['DCO2STAR']"
     ],
     "language": "python",
     "metadata": {},
     "outputs": [],
     "prompt_number": null
    },
    {
     "cell_type": "code",
     "collapsed": false,
     "input": [
      "s"
     ],
     "language": "python",
     "metadata": {},
     "outputs": [],
     "prompt_number": null
    },
    {
     "cell_type": "heading",
     "level": 1,
     "metadata": {},
     "source": [
      "Degrees or Sigma?"
     ]
    },
    {
     "cell_type": "code",
     "collapsed": false,
     "input": [
      "ds = xr.open_dataset('/glade/p/work/rbrady/cesmLE_CVDP/processed/cvdp_detrended_BGC.nc')\n",
      "#ds = xr.open_mfdataset('/glade/p/work/rbrady/EBUS_BGC_Variability/NPGO/*.nc', concat_dim='ensemble')"
     ],
     "language": "python",
     "metadata": {},
     "outputs": [],
     "prompt_number": null
    },
    {
     "cell_type": "code",
     "collapsed": false,
     "input": [
      "ds['nao']"
     ],
     "language": "python",
     "metadata": {},
     "outputs": [],
     "prompt_number": null
    }
   ],
   "metadata": {}
  }
 ]
}