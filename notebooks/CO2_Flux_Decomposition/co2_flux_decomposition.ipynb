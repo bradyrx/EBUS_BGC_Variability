{
 "cells": [
  {
   "cell_type": "markdown",
   "metadata": {},
   "source": [
    "# CO$_{2}$ Flux Decomposition\n",
    "\n",
    "This is the working area to develop a script that takes time series from a given region and decomposes the CO2 flux changes from a given climate event (e.g. ENSO) into the relative components contributing to that change (U, SST, S, DIC, etc.)\n",
    "\n",
    "To improve this script, can compute sensitivities in 5-10 year chunks to reduce error due to changing mean state."
   ]
  },
  {
   "cell_type": "code",
   "execution_count": 1,
   "metadata": {},
   "outputs": [],
   "source": [
    "import numpy as np\n",
    "import pandas as pd\n",
    "import xarray as xr\n",
    "import matplotlib.pyplot as plt\n",
    "%matplotlib inline\n",
    "plt.style.use('seaborn-whitegrid')\n",
    "import seaborn as sns\n",
    "from esmtools.physics import stress_to_speed\n",
    "from esmtools.carbon import co2_sol, schmidt\n",
    "import cartopy.crs as ccrs\n",
    "import cartopy.feature as cfeature\n",
    "import esmtools as et"
   ]
  },
  {
   "cell_type": "code",
   "execution_count": 24,
   "metadata": {},
   "outputs": [],
   "source": [
    "\"\"\"\n",
    "Some constants that are pertinent for this.\n",
    "\"\"\"\n",
    "a = 6.972e-7 # Flux coefficient in s/m\n",
    "conversion = (60 * 60 * 24 * 365) / 1e3 # Applied to every term of the expansion to have proper units (see notes)\n",
    "S0 = 35 # Salinity constant"
   ]
  },
  {
   "cell_type": "code",
   "execution_count": 25,
   "metadata": {},
   "outputs": [],
   "source": [
    "e = 'CalCS'\n",
    "x = 'NPGO'\n",
    "smooth = 12"
   ]
  },
  {
   "cell_type": "markdown",
   "metadata": {},
   "source": [
    "#### Load in all important ensemble means\n",
    "\n",
    "Will use this to compute sensitivities"
   ]
  },
  {
   "cell_type": "code",
   "execution_count": 26,
   "metadata": {},
   "outputs": [],
   "source": [
    "def load_ensemble_mean(e, v):\n",
    "    \"\"\"\n",
    "    Loads in the ensemble mean time series for a given upwelling system (e)\n",
    "    and variable (v). I will use these to compute the sensitivities, which shouldn't\n",
    "    cause too much error since it's a much larger value than the residuals.\n",
    "    \"\"\"\n",
    "    filepath = ('/glade/p/work/rbrady/EBUS_BGC_Variability/' + v + '/' + e +\n",
    "               '/filtered_output/' + e.lower() + '-' + v + '-forced-signal-AW-chavez-800km.nc')\n",
    "    da = xr.open_dataarray(filepath)\n",
    "    da.name = v\n",
    "    return da"
   ]
  },
  {
   "cell_type": "code",
   "execution_count": 27,
   "metadata": {},
   "outputs": [],
   "source": [
    "variables = ['FG_CO2', 'SST', 'SALT', 'DIC', 'ALK', 'TAUX',\n",
    "             'TAUY', 'TAUX2', 'TAUY2', 'sDIC', 'sALK', 'U',\n",
    "             'DCO2STAR', 'RHO', 'pCO2SURF']\n",
    "forced = xr.Dataset()\n",
    "for i, name in enumerate(variables):\n",
    "    da = load_ensemble_mean(e, name)\n",
    "    forced = xr.merge([forced, da])"
   ]
  },
  {
   "cell_type": "code",
   "execution_count": 28,
   "metadata": {},
   "outputs": [],
   "source": [
    "forced = forced.rename({'pCO2SURF': 'pCO2'})\n",
    "means = forced.mean()"
   ]
  },
  {
   "cell_type": "markdown",
   "metadata": {},
   "source": [
    "#### Load in the regression results."
   ]
  },
  {
   "cell_type": "code",
   "execution_count": 29,
   "metadata": {},
   "outputs": [],
   "source": [
    "def load_regression(e, x, y, smooth):\n",
    "    \"\"\"\n",
    "    Loads in the area-weighted regression results for a given upwelling system\n",
    "    (e), predictor variable (x), and dependent variable (y). Need to add functionality\n",
    "    for lagging. Currently assumes values of 0 for each of those features.\n",
    "    \"\"\"\n",
    "    filepath = ('/glade/p/work/rbrady/EBUS_BGC_Variability/area_weighted_regional_regressions/' +\n",
    "                e + '/' + y + '/' + x + '/')\n",
    "    if smooth == 0:\n",
    "        filename = (x + '.' + y + '.' + e + '.unsmoothed.area_weighted_regional_regression.lag0.nc')\n",
    "    else:\n",
    "        filename = (x + '.' + y + '.' + e + '.smoothed' + str(smooth) + '.area_weighted_regional_regression.lag0.nc')\n",
    "    ds = xr.open_dataset(filepath + filename)\n",
    "    return ds"
   ]
  },
  {
   "cell_type": "code",
   "execution_count": 30,
   "metadata": {},
   "outputs": [],
   "source": [
    "delta_FG_CO2 = load_regression(e, x, 'FG_CO2', smooth)\n",
    "delta_U = load_regression(e, x, 'U', smooth)\n",
    "delta_SST = load_regression(e, x, 'SST', smooth)\n",
    "delta_SALT = load_regression(e, x, 'SALT', smooth)\n",
    "delta_sDIC = load_regression(e, x, 'sDIC', smooth)\n",
    "delta_sALK = load_regression(e, x, 'sALK', smooth)"
   ]
  },
  {
   "cell_type": "code",
   "execution_count": 31,
   "metadata": {},
   "outputs": [],
   "source": [
    "\"\"\"\n",
    "tolerance = 0.1\n",
    "np.where((delta_FG_CO2['p'] <= tolerance) & \n",
    "         (delta_U['p'] <= tolerance) &\n",
    "         (delta_SST['p'] <= tolerance) &\n",
    "         (delta_SALT['p'] <= tolerance) &\n",
    "         (delta_sDIC['p'] <= tolerance) &\n",
    "         (delta_sALK['p'] <= tolerance))\n",
    "\"\"\"\n",
    "# Seems impossible to get all 34 members to be significant in all terms. So maybe just\n",
    "# test significance of FG_CO2?\n",
    "tolerance = 0.1\n",
    "delta_U = delta_U.where(delta_FG_CO2['p'] <= tolerance, drop=True)\n",
    "delta_SST = delta_SST.where(delta_FG_CO2['p'] <= tolerance, drop=True)\n",
    "delta_SALT = delta_SALT.where(delta_FG_CO2['p'] <= tolerance, drop=True)\n",
    "delta_sDIC = delta_sDIC.where(delta_FG_CO2['p'] <= tolerance, drop=True)\n",
    "delta_sALK = delta_sALK.where(delta_FG_CO2['p'] <= tolerance, drop=True)\n",
    "delta_FG_CO2 = delta_FG_CO2.where(delta_FG_CO2['p'] <= tolerance, drop=True)\n",
    "N = len(delta_FG_CO2['m'])"
   ]
  },
  {
   "cell_type": "markdown",
   "metadata": {},
   "source": [
    "### Compute Terms"
   ]
  },
  {
   "cell_type": "code",
   "execution_count": 32,
   "metadata": {},
   "outputs": [],
   "source": [
    "# Repetitive terms\n",
    "Sc = schmidt(forced['SST'])\n",
    "ff = co2_sol(forced['SST'], forced['SALT'])\n",
    "gamma_DIC = (3*means['ALK']*means['DIC'] - 2*means['DIC']**2) / \\\n",
    "            ((2*means['DIC']-means['ALK'])*(means['ALK']-means['DIC']))\n",
    "gamma_ALK = (-means['ALK']**2)/((2*means['DIC']-means['ALK'])*(means['ALK']-means['DIC']))\n",
    "\n",
    "\n",
    "\"\"\" \n",
    "The conversion term converts to the proper mol/m2/yr for every unit. So that we actually have each term\n",
    "summing to a mol/m2/yr perturbation from some climate event.\n",
    "\n",
    "Can run a np.where command on the original delta datasets to drop non-significant results.\n",
    "\"\"\"\n",
    "# SENSITIVITIES\n",
    "dFdpCO2 = means['RHO']*ff*a*np.sqrt(660/Sc)*means['U']**2\n",
    "dFdU = -2*a*np.sqrt(660/Sc)*means['U']*means['DCO2STAR']\n",
    "dFdSST = dFdpCO2*0.0423*means['pCO2']\n",
    "dFdSALT = dFdpCO2*(means['pCO2']/means['SALT'])\n",
    "dpCO2dDIC = (means['pCO2']*gamma_DIC)/means['DIC']\n",
    "dpCO2dALK = (means['pCO2']*gamma_ALK)/means['ALK']\n",
    "\n",
    "# FULL TERM\n",
    "F = delta_FG_CO2['m']\n",
    "U = dFdU*delta_U['m']*conversion\n",
    "SST = dFdSST*delta_SST['m']*conversion\n",
    "SALT = dFdSALT*delta_SALT['m']*conversion\n",
    "sDIC = dFdpCO2*dpCO2dDIC*(means['SALT']/S0)*delta_sDIC['m']*conversion\n",
    "sALK = dFdpCO2*dpCO2dALK*(means['SALT']/S0)*delta_sALK['m']*conversion\n",
    "\n",
    "# Freshwater\n",
    "term1 = dFdpCO2*dpCO2dDIC*(means['sDIC']/S0)*delta_SALT['m']*conversion\n",
    "term2 = dFdpCO2*dpCO2dALK*(means['sALK']/S0)*delta_SALT['m']*conversion\n",
    "FW = term1 + term2"
   ]
  },
  {
   "cell_type": "markdown",
   "metadata": {},
   "source": [
    "### Visualize"
   ]
  },
  {
   "cell_type": "code",
   "execution_count": 33,
   "metadata": {},
   "outputs": [],
   "source": [
    "def setup_dataframe(v, da):\n",
    "    \"\"\"\n",
    "    Creates a DataFrame with term values given a variable name (v) and the\n",
    "    DataArray containing the expansion results (da).\n",
    "    \"\"\"\n",
    "    da.name = v\n",
    "    df = da.to_dataframe()\n",
    "    del df['z_t']\n",
    "    return df"
   ]
  },
  {
   "cell_type": "code",
   "execution_count": 34,
   "metadata": {},
   "outputs": [],
   "source": [
    "variables = ['U','SST','SALT','sDIC','sALK','FW']\n",
    "df = pd.DataFrame()\n",
    "for i, name in enumerate(variables):\n",
    "    temp_df = setup_dataframe(name, eval(name))\n",
    "    df = pd.concat([df, temp_df], axis=1)\n",
    "df['Total'] = df.sum(axis=1)"
   ]
  },
  {
   "cell_type": "code",
   "execution_count": 35,
   "metadata": {},
   "outputs": [],
   "source": [
    "# For putting the variance explained.\n",
    "avg_r = delta_FG_CO2['r'].median()\n",
    "avg_r = avg_r.values"
   ]
  },
  {
   "cell_type": "code",
   "execution_count": 39,
   "metadata": {},
   "outputs": [
    {
     "data": {
      "image/png": "[encoded data removed]",
      "text/plain": [
       "<matplotlib.figure.Figure at 0x2aaaf2174470>"
      ]
     },
     "metadata": {},
     "output_type": "display_data"
    }
   ],
   "source": [
    "sns.set_style('whitegrid')\n",
    "if F.mean() > 0:\n",
    "    clist = ['r', '#a9a9a9', '#a9a9a9', '#a9a9a9', '#a9a9a9', '#a9a9a9', '#a9a9a9']\n",
    "else:\n",
    "    clist = ['b', '#a9a9a9', '#a9a9a9', '#a9a9a9', '#a9a9a9', '#a9a9a9', '#a9a9a9']\n",
    "order = list(['Total', 'U', 'SST', 'SALT', 'sDIC', 'sALK', 'FW'])\n",
    "f, ax = plt.subplots(figsize=(8,4))\n",
    "bars = sns.barplot(data=df, ax=ax, ci='sd', capsize=0.1, errwidth=1,\n",
    "                   palette=clist, order=order)\n",
    "sns.despine(left=True, bottom=True)\n",
    "ax.set_title(e + ' 1$^{o}$' + ' ' + x + ' Response (N = ' + str(N) + ')', fontsize=14)\n",
    "ax.set_ylabel('Contribution to F$_{\\mathrm{CO}_{2}}$ Change' + '\\n' + '[mol/m2/yr]',\n",
    "              fontsize=14)\n",
    "\n",
    "# Add true regression\n",
    "ax.errorbar(0, F.mean(), yerr=F.std(), fmt='o', capsize=3, color='k', markersize=6)\n",
    "\n",
    "# Add variance explained.\n",
    "plt.text(5.5, 0.12, 'R = ' + str(avg_r.round(2)), fontsize=12, fontweight='bold',\n",
    "        bbox={'edgecolor':'w', 'facecolor':'w', 'alpha':0.2})\n",
    "\n",
    "# Fontsizes\n",
    "ax.tick_params(labelsize=13)\n",
    "\n",
    "# Save figure.\n",
    "et.vis.savefig('CalCS_NPGO_decomp')"
   ]
  },
  {
   "cell_type": "markdown",
   "metadata": {},
   "source": [
    "# Signs of Sensitivity and Regression Terms"
   ]
  },
  {
   "cell_type": "code",
   "execution_count": 15,
   "metadata": {},
   "outputs": [],
   "source": [
    "def mean(x):\n",
    "    return x['m'].mean()"
   ]
  },
  {
   "cell_type": "code",
   "execution_count": 16,
   "metadata": {},
   "outputs": [],
   "source": [
    "def color_negative_red(val):\n",
    "    \"\"\"\n",
    "    Takes a scalar and returns a string with\n",
    "    the css property `'color: red'` for negative\n",
    "    strings, black otherwise.\n",
    "    \"\"\"\n",
    "    color = 'red' if val == '-' else 'green'\n",
    "    return 'color: %s' % color"
   ]
  },
  {
   "cell_type": "code",
   "execution_count": 17,
   "metadata": {},
   "outputs": [],
   "source": [
    "# Set up list of terms\n",
    "sens_list = np.asarray([dFdU, dFdSST, dFdSALT, (dFdpCO2*dpCO2dDIC), (dFdpCO2*dpCO2dALK)])\n",
    "reg_list = np.asarray([mean(delta_U), mean(delta_SST), mean(delta_SALT), mean(delta_sDIC),\n",
    "                       mean(delta_sALK)])\n",
    "term_list = np.asarray([U.mean(),SST.mean(),SALT.mean(),sDIC.mean(),sALK.mean()])"
   ]
  },
  {
   "cell_type": "code",
   "execution_count": 18,
   "metadata": {},
   "outputs": [],
   "source": [
    "# Replace with + and -\n",
    "sens = []\n",
    "reg = []\n",
    "term = []\n",
    "for s, r, t in zip(sens_list, reg_list, term_list):\n",
    "    if s < 0:\n",
    "        sens.append('-')\n",
    "    else:\n",
    "        sens.append('+')\n",
    "    if r < 0:\n",
    "        reg.append('-')\n",
    "    else:\n",
    "        reg.append('+')\n",
    "    if t < 0:\n",
    "        term.append('-')\n",
    "    else:\n",
    "        term.append('+')"
   ]
  },
  {
   "cell_type": "code",
   "execution_count": 19,
   "metadata": {},
   "outputs": [],
   "source": [
    "df = pd.DataFrame({'Sensitivity': sens, '$\\Delta$': reg, 'Term': term},\n",
    "                  index=['U','SST','SALT','sDIC','sALK'])\n",
    "df = df[['Sensitivity','$\\Delta$','Term']]"
   ]
  },
  {
   "cell_type": "code",
   "execution_count": 20,
   "metadata": {},
   "outputs": [],
   "source": [
    "s = df.style.applymap(color_negative_red)"
   ]
  },
  {
   "cell_type": "code",
   "execution_count": 21,
   "metadata": {},
   "outputs": [
    {
     "data": {
      "text/plain": [
       "<xarray.DataArray 'DCO2STAR' ()>\n",
       "array(0.21533966510349523)"
      ]
     },
     "execution_count": 21,
     "metadata": {},
     "output_type": "execute_result"
    }
   ],
   "source": [
    "means['DCO2STAR']"
   ]
  },
  {
   "cell_type": "code",
   "execution_count": 22,
   "metadata": {},
   "outputs": [
    {
     "data": {
      "text/html": [
       "<style  type=\"text/css\" >\n",
       "    #T_a46a9cf0_f723_11e7_84dc_0cc47a3f609brow0_col0 {\n",
       "            color:  red;\n",
       "        }    #T_a46a9cf0_f723_11e7_84dc_0cc47a3f609brow0_col1 {\n",
       "            color:  green;\n",
       "        }    #T_a46a9cf0_f723_11e7_84dc_0cc47a3f609brow0_col2 {\n",
       "            color:  red;\n",
       "        }    #T_a46a9cf0_f723_11e7_84dc_0cc47a3f609brow1_col0 {\n",
       "            color:  green;\n",
       "        }    #T_a46a9cf0_f723_11e7_84dc_0cc47a3f609brow1_col1 {\n",
       "            color:  red;\n",
       "        }    #T_a46a9cf0_f723_11e7_84dc_0cc47a3f609brow1_col2 {\n",
       "            color:  red;\n",
       "        }    #T_a46a9cf0_f723_11e7_84dc_0cc47a3f609brow2_col0 {\n",
       "            color:  green;\n",
       "        }    #T_a46a9cf0_f723_11e7_84dc_0cc47a3f609brow2_col1 {\n",
       "            color:  red;\n",
       "        }    #T_a46a9cf0_f723_11e7_84dc_0cc47a3f609brow2_col2 {\n",
       "            color:  red;\n",
       "        }    #T_a46a9cf0_f723_11e7_84dc_0cc47a3f609brow3_col0 {\n",
       "            color:  green;\n",
       "        }    #T_a46a9cf0_f723_11e7_84dc_0cc47a3f609brow3_col1 {\n",
       "            color:  green;\n",
       "        }    #T_a46a9cf0_f723_11e7_84dc_0cc47a3f609brow3_col2 {\n",
       "            color:  green;\n",
       "        }    #T_a46a9cf0_f723_11e7_84dc_0cc47a3f609brow4_col0 {\n",
       "            color:  red;\n",
       "        }    #T_a46a9cf0_f723_11e7_84dc_0cc47a3f609brow4_col1 {\n",
       "            color:  green;\n",
       "        }    #T_a46a9cf0_f723_11e7_84dc_0cc47a3f609brow4_col2 {\n",
       "            color:  red;\n",
       "        }</style>  \n",
       "<table id=\"T_a46a9cf0_f723_11e7_84dc_0cc47a3f609b\" > \n",
       "<thead>    <tr> \n",
       "        <th class=\"blank level0\" ></th> \n",
       "        <th class=\"col_heading level0 col0\" >Sensitivity</th> \n",
       "        <th class=\"col_heading level0 col1\" >$\\Delta$</th> \n",
       "        <th class=\"col_heading level0 col2\" >Term</th> \n",
       "    </tr></thead> \n",
       "<tbody>    <tr> \n",
       "        <th id=\"T_a46a9cf0_f723_11e7_84dc_0cc47a3f609blevel0_row0\" class=\"row_heading level0 row0\" >U</th> \n",
       "        <td id=\"T_a46a9cf0_f723_11e7_84dc_0cc47a3f609brow0_col0\" class=\"data row0 col0\" >-</td> \n",
       "        <td id=\"T_a46a9cf0_f723_11e7_84dc_0cc47a3f609brow0_col1\" class=\"data row0 col1\" >+</td> \n",
       "        <td id=\"T_a46a9cf0_f723_11e7_84dc_0cc47a3f609brow0_col2\" class=\"data row0 col2\" >-</td> \n",
       "    </tr>    <tr> \n",
       "        <th id=\"T_a46a9cf0_f723_11e7_84dc_0cc47a3f609blevel0_row1\" class=\"row_heading level0 row1\" >SST</th> \n",
       "        <td id=\"T_a46a9cf0_f723_11e7_84dc_0cc47a3f609brow1_col0\" class=\"data row1 col0\" >+</td> \n",
       "        <td id=\"T_a46a9cf0_f723_11e7_84dc_0cc47a3f609brow1_col1\" class=\"data row1 col1\" >-</td> \n",
       "        <td id=\"T_a46a9cf0_f723_11e7_84dc_0cc47a3f609brow1_col2\" class=\"data row1 col2\" >-</td> \n",
       "    </tr>    <tr> \n",
       "        <th id=\"T_a46a9cf0_f723_11e7_84dc_0cc47a3f609blevel0_row2\" class=\"row_heading level0 row2\" >SALT</th> \n",
       "        <td id=\"T_a46a9cf0_f723_11e7_84dc_0cc47a3f609brow2_col0\" class=\"data row2 col0\" >+</td> \n",
       "        <td id=\"T_a46a9cf0_f723_11e7_84dc_0cc47a3f609brow2_col1\" class=\"data row2 col1\" >-</td> \n",
       "        <td id=\"T_a46a9cf0_f723_11e7_84dc_0cc47a3f609brow2_col2\" class=\"data row2 col2\" >-</td> \n",
       "    </tr>    <tr> \n",
       "        <th id=\"T_a46a9cf0_f723_11e7_84dc_0cc47a3f609blevel0_row3\" class=\"row_heading level0 row3\" >sDIC</th> \n",
       "        <td id=\"T_a46a9cf0_f723_11e7_84dc_0cc47a3f609brow3_col0\" class=\"data row3 col0\" >+</td> \n",
       "        <td id=\"T_a46a9cf0_f723_11e7_84dc_0cc47a3f609brow3_col1\" class=\"data row3 col1\" >+</td> \n",
       "        <td id=\"T_a46a9cf0_f723_11e7_84dc_0cc47a3f609brow3_col2\" class=\"data row3 col2\" >+</td> \n",
       "    </tr>    <tr> \n",
       "        <th id=\"T_a46a9cf0_f723_11e7_84dc_0cc47a3f609blevel0_row4\" class=\"row_heading level0 row4\" >sALK</th> \n",
       "        <td id=\"T_a46a9cf0_f723_11e7_84dc_0cc47a3f609brow4_col0\" class=\"data row4 col0\" >-</td> \n",
       "        <td id=\"T_a46a9cf0_f723_11e7_84dc_0cc47a3f609brow4_col1\" class=\"data row4 col1\" >+</td> \n",
       "        <td id=\"T_a46a9cf0_f723_11e7_84dc_0cc47a3f609brow4_col2\" class=\"data row4 col2\" >-</td> \n",
       "    </tr></tbody> \n",
       "</table> "
      ],
      "text/plain": [
       "<pandas.io.formats.style.Styler at 0x2aaae901d940>"
      ]
     },
     "execution_count": 22,
     "metadata": {},
     "output_type": "execute_result"
    }
   ],
   "source": [
    "s"
   ]
  },
  {
   "cell_type": "markdown",
   "metadata": {},
   "source": [
    "# Degrees or Sigma?"
   ]
  },
  {
   "cell_type": "code",
   "execution_count": null,
   "metadata": {},
   "outputs": [],
   "source": [
    "ds = xr.open_dataset('/glade/p/work/rbrady/cesmLE_CVDP/processed/cvdp_detrended_BGC.nc')\n",
    "#ds = xr.open_mfdataset('/glade/p/work/rbrady/EBUS_BGC_Variability/NPGO/*.nc', concat_dim='ensemble')"
   ]
  },
  {
   "cell_type": "code",
   "execution_count": null,
   "metadata": {},
   "outputs": [],
   "source": [
    "ds['nao']"
   ]
  }
 ],
 "metadata": {
  "kernelspec": {
   "display_name": "Python 3",
   "language": "python",
   "name": "python3"
  },
  "language_info": {
   "codemirror_mode": {
    "name": "ipython",
    "version": 3
   },
   "file_extension": ".py",
   "mimetype": "text/x-python",
   "name": "python",
   "nbconvert_exporter": "python",
   "pygments_lexer": "ipython3",
   "version": "3.6.3"
  }
 },
 "nbformat": 4,
 "nbformat_minor": 2
}
