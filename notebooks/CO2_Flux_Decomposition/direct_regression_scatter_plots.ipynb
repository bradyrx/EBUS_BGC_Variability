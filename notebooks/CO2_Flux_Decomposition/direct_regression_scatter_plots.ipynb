{
 "metadata": {
  "kernelspec": {
   "display_name": "Python 3",
   "language": "python",
   "name": "python3"
  },
  "language_info": {
   "codemirror_mode": {
    "name": "ipython",
    "version": 3
   },
   "file_extension": ".py",
   "mimetype": "text/x-python",
   "name": "python",
   "nbconvert_exporter": "python",
   "pygments_lexer": "ipython3",
   "version": "3.6.5"
  },
  "name": ""
 },
 "nbformat": 3,
 "nbformat_minor": 0,
 "worksheets": [
  {
   "cells": [
    {
     "cell_type": "markdown",
     "metadata": {},
     "source": [
      "# Direct Regression Scatter Plots\n",
      "\n",
      "The CO$_{2}$ flux decomposition has problems for the CalCS in particular. The first-order approximation is pretty off of the direct regression of F onto the NPGO. Perhaps it isn't the approximation itself, but rather the fact that the relationship between anomalous CO$_{2}$ flux and the NPGO is non-linear. Here I'll make scatter plots to check that out"
     ]
    },
    {
     "cell_type": "code",
     "collapsed": false,
     "input": [
      "import numpy as np\n",
      "import xarray as xr\n",
      "import matplotlib.pyplot as plt\n",
      "%matplotlib inline\n",
      "import glob\n",
      "plt.style.use('ocn-clim')\n",
      "import esmtools as et"
     ],
     "language": "python",
     "metadata": {},
     "outputs": [],
     "prompt_number": 80
    },
    {
     "cell_type": "markdown",
     "metadata": {},
     "source": [
      "Load in AW CO$_{2}$ flux residuals and the NPGO."
     ]
    },
    {
     "cell_type": "code",
     "collapsed": false,
     "input": [
      "def load_timeseries(EBU, IDX):\n",
      "    fpath1 = ('/glade/p/work/rbrady/EBUS_BGC_Variability/FG_CO2/' + EBU + '/filtered_output/' +\n",
      "              EBU.lower() + '-FG_CO2-residuals-AW-chavez-800km.nc')\n",
      "    y = xr.open_dataset(fpath1)\n",
      "    y = y['FG_CO2_AW']\n",
      "    if IDX == 'NPGO':\n",
      "        fpath2 = ('/glade/p/work/rbrady/EBUS_BGC_Variability/NPGO/')\n",
      "        x = xr.open_mfdataset(fpath2 + '*.nc', concat_dim='ensemble')\n",
      "        x = x['pc']\n",
      "    else:\n",
      "        fpath2 = ('/glade/p/work/rbrady/cesmLE_CVDP/processed/')\n",
      "        x = xr.open_dataset(fpath2 + 'cvdp_detrended_BGC.nc')\n",
      "        x = x[IDX]\n",
      "    return x, y"
     ],
     "language": "python",
     "metadata": {},
     "outputs": [],
     "prompt_number": null
    },
    {
     "cell_type": "code",
     "collapsed": false,
     "input": [
      "EBU = 'HumCS'\n",
      "IDX = 'nino3'"
     ],
     "language": "python",
     "metadata": {},
     "outputs": [],
     "prompt_number": 106
    },
    {
     "cell_type": "code",
     "collapsed": false,
     "input": [
      "x, y = load_timeseries(EBU, IDX)"
     ],
     "language": "python",
     "metadata": {},
     "outputs": [],
     "prompt_number": 107
    },
    {
     "cell_type": "markdown",
     "metadata": {},
     "source": [
      "Make plot!"
     ]
    },
    {
     "cell_type": "code",
     "collapsed": false,
     "input": [
      "x = x.isel(ensemble=slice(0,9)).stack(points=['ensemble','time'])\n",
      "y = y.isel(ensemble=slice(0,9)).stack(points=['ensemble','time'])"
     ],
     "language": "python",
     "metadata": {},
     "outputs": [],
     "prompt_number": 108
    },
    {
     "cell_type": "code",
     "collapsed": false,
     "input": [
      "f, ax = plt.subplots(figsize=(10,10))\n",
      "ax.plot(x, y, '.k')\n",
      "ax.set_xlabel('Nino3')\n",
      "ax.set_ylabel('CO$_{2}$ Flux Residual [mol m$^{-2}$ yr$^{-1}$]')\n",
      "ax.set_title('Nino3 vs. CO$_{2}$ Flux in the Humboldt Current (1920-2015)')\n",
      "\n",
      "#et.vis.savefig('Nino3_F_scatter_HumCS', extension='.eps', dpi=300)"
     ],
     "language": "python",
     "metadata": {},
     "outputs": [],
     "prompt_number": 109
    },
    {
     "cell_type": "code",
     "collapsed": false,
     "input": [
      "f, ax = plt.subplots(figsize=(10,10))\n",
      "for ix in range(10):\n",
      "    ax.plot(x.isel(ensemble=ix), y.isel(ensemble=ix), '.')"
     ],
     "language": "python",
     "metadata": {},
     "outputs": [],
     "prompt_number": null
    },
    {
     "cell_type": "code",
     "collapsed": false,
     "input": [],
     "language": "python",
     "metadata": {},
     "outputs": [],
     "prompt_number": null
    },
    {
     "cell_type": "code",
     "collapsed": false,
     "input": [],
     "language": "python",
     "metadata": {},
     "outputs": [],
     "prompt_number": null
    },
    {
     "cell_type": "code",
     "collapsed": false,
     "input": [],
     "language": "python",
     "metadata": {},
     "outputs": [],
     "prompt_number": null
    }
   ],
   "metadata": {}
  }
 ]
}