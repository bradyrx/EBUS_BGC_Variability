{
 "cells": [
  {
   "cell_type": "markdown",
   "metadata": {},
   "source": [
    "# CO$_{2}$ Flux Decomposition\n",
    "\n",
    "This is the working area to develop a script that takes time series from a given region and decomposes the CO2 flux changes from a given climate event (e.g. ENSO) into the relative components contributing to that change (U, SST, S, DIC, etc.)"
   ]
  },
  {
   "cell_type": "code",
   "execution_count": 18,
   "metadata": {},
   "outputs": [],
   "source": [
    "import numpy as np\n",
    "import xarray as xr\n",
    "import matplotlib.pyplot as plt\n",
    "%matplotlib inline"
   ]
  },
  {
   "cell_type": "code",
   "execution_count": null,
   "metadata": {},
   "outputs": [],
   "source": [
    "\"\"\"\n",
    "Some constants that are pertinent for this.\n",
    "\"\"\"\n",
    "a = 6.972e-9 # Flux coefficient in s/cm"
   ]
  },
  {
   "cell_type": "markdown",
   "metadata": {},
   "source": [
    "### Conversion from wind stress to wind speed"
   ]
  },
  {
   "cell_type": "code",
   "execution_count": 94,
   "metadata": {},
   "outputs": [],
   "source": [
    "def stress_to_speed(x, y):\n",
    "    \"\"\"\n",
    "    This converts ocean wind stress to wind speed over the ocean (~10m)\n",
    "    so that one can compare the same grid (rather than trying to compare\n",
    "    ocean and atmosphere grids).\n",
    "    \n",
    "    From Nikki's code, based on coupler conversion:\n",
    "    http://www.cesm.ucar.edu/models/ccsm3.0/cpl6/users_guide/node20.html\n",
    "    \n",
    "    Input\n",
    "    -----\n",
    "    x : DataArray of taux or taux**2.\n",
    "    y : DataArray of tauy or tauy**2.\n",
    "    \n",
    "    Return\n",
    "    ------\n",
    "    speed : DataArray of wind speed over this domain.\n",
    "    \"\"\"\n",
    "    stress = (np.sqrt(x**2 + y**2)) / 1.2 * 100**2 / 1e5\n",
    "    speed = np.zeros(len(stress))\n",
    "    for t in range(len(stress)):\n",
    "        last = stress[t]\n",
    "        p = np.array([.0000764, .000142, .0027, -1*last])\n",
    "        r = np.roots(p)\n",
    "        i = np.imag(r)\n",
    "        good = np.where(i == 0)\n",
    "        speed[t] = np.real(r[good])\n",
    "    speed = xr.DataArray(speed, dims=['time'], coords=[stress['time']])\n",
    "    return speed"
   ]
  },
  {
   "cell_type": "markdown",
   "metadata": {},
   "source": [
    "### Solubility calculation"
   ]
  },
  {
   "cell_type": "code",
   "execution_count": 153,
   "metadata": {},
   "outputs": [],
   "source": [
    "def co2_sol(t, s):\n",
    "    \"\"\"\n",
    "    Compute CO2 solubility per the equation used in CESM.\n",
    "\n",
    "    Weiss & Price (1980, Mar. Chem., 8, 347-359;\n",
    "                   Eq 13 with table 6 values)\n",
    "                   \n",
    "    Input\n",
    "    -----\n",
    "    t : SST time series (mean will be taken over this period for solubility)\n",
    "    s : SALT time series.\n",
    "    \n",
    "    Return\n",
    "    ------\n",
    "    ff : Value of solubility in mol/kg/atm.\n",
    "    \"\"\"\n",
    "    a = [-162.8301, 218.2968, 90.9241, -1.47696]\n",
    "    b = [0.025695, -0.025225, 0.0049867]\n",
    "    \n",
    "    t = (np.mean(t) + 273.15) * 0.01 # Kelvin conversion. \n",
    "    s = np.mean(s)\n",
    "    t_sq = t**2\n",
    "    t_inv = 1.0 / t\n",
    "    log_t = np.log(t)\n",
    "    d0 = b[2] * t_sq + b[1] * t + b[0]\n",
    "    \n",
    "    # Compute solubility in mol.kg^{-1}.atm^{-1}\n",
    "    ff = np.exp( a[0] + a[1] * t_inv + a[2] * log_t + \\\n",
    "        a[3] * t_sq + d0 * s )\n",
    "    return ff"
   ]
  },
  {
   "cell_type": "markdown",
   "metadata": {},
   "source": [
    "### Schmidt Calculation"
   ]
  },
  {
   "cell_type": "code",
   "execution_count": 154,
   "metadata": {},
   "outputs": [],
   "source": [
    "def schmidt(t):\n",
    "    \"\"\"\n",
    "    Computes the Schmidt number (dimensionless).\n",
    "    \"\"\"\n",
    "    t = np.mean(t)\n",
    "    Sc = 2073.1 - 125.62*t + 3.627*(t**2) - 0.043219*(t**3)\n",
    "    return Sc"
   ]
  },
  {
   "cell_type": "markdown",
   "metadata": {},
   "source": [
    "### Compute sensitivity terms"
   ]
  }
 ],
 "metadata": {
  "kernelspec": {
   "display_name": "Python 3",
   "language": "python",
   "name": "python3"
  },
  "language_info": {
   "codemirror_mode": {
    "name": "ipython",
    "version": 3
   },
   "file_extension": ".py",
   "mimetype": "text/x-python",
   "name": "python",
   "nbconvert_exporter": "python",
   "pygments_lexer": "ipython3",
   "version": "3.6.3"
  }
 },
 "nbformat": 4,
 "nbformat_minor": 2
}
