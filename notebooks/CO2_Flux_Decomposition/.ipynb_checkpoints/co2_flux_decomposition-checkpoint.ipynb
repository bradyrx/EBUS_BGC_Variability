{
 "cells": [
  {
   "cell_type": "markdown",
   "metadata": {},
   "source": [
    "# CO$_{2}$ Flux Decomposition\n",
    "\n",
    "This is the working area to develop a script that takes time series from a given region and decomposes the CO2 flux changes from a given climate event (e.g. ENSO) into the relative components contributing to that change (U, SST, S, DIC, etc.)"
   ]
  },
  {
   "cell_type": "code",
   "execution_count": 1,
   "metadata": {},
   "outputs": [],
   "source": [
    "import numpy as np\n",
    "import pandas as pd\n",
    "import xarray as xr\n",
    "import matplotlib.pyplot as plt\n",
    "%matplotlib inline\n",
    "plt.style.use('seaborn-whitegrid')\n",
    "import seaborn as sns\n",
    "from esmtools.physics import stress_to_speed\n",
    "from esmtools.carbon import co2_sol, schmidt\n",
    "import cartopy.crs as ccrs\n",
    "import cartopy.feature as cfeature\n",
    "import esmtools as et"
   ]
  },
  {
   "cell_type": "code",
   "execution_count": 2,
   "metadata": {},
   "outputs": [],
   "source": [
    "\"\"\"\n",
    "Some constants that are pertinent for this.\n",
    "\"\"\"\n",
    "a = 6.972e-7 # Flux coefficient in s/m"
   ]
  },
  {
   "cell_type": "markdown",
   "metadata": {},
   "source": [
    "### California Current NPGO Test Case"
   ]
  },
  {
   "cell_type": "code",
   "execution_count": null,
   "metadata": {},
   "outputs": [],
   "source": [
    "def load_timeseries(e, v):\n",
    "    \"\"\"\n",
    "    Loads in the residuals time series for a given upwelling system (e)\n",
    "    and variable (v). I think it makes more sense to compute senstivities\n",
    "    for each individual run rather than the full ensemble.\n",
    "    \"\"\"\n",
    "    filepath = ('/glade/p/work/rbrady/EBUS_BGC_Variability/' + v + '/' + e +\n",
    "               '/filtered_output/' + e.lower() + '-' + v + '-residuals-AW-chavez-800km.nc')\n",
    "    da = xr.open_dataarray(filepath)\n",
    "    da.name = v\n",
    "    return da"
   ]
  },
  {
   "cell_type": "code",
   "execution_count": null,
   "metadata": {},
   "outputs": [],
   "source": [
    "variables = ['FG_CO2', 'SST', 'SALT', 'DIC', 'ALK', 'TAUX',\n",
    "             'TAUY', 'TAUX2', 'TAUY2', 'sDIC', 'sALK']\n",
    "ds = xr.Dataset()\n",
    "for i, name in enumerate(variables):\n",
    "    da = load_timeseries('CalCS', name)\n",
    "    ds = xr.merge([ds, da])"
   ]
  },
  {
   "cell_type": "code",
   "execution_count": null,
   "metadata": {},
   "outputs": [],
   "source": []
  },
  {
   "cell_type": "code",
   "execution_count": null,
   "metadata": {},
   "outputs": [],
   "source": [
    "filepath = ('/glade/u/home/rbrady/work/EBUS_BGC_Variability/area_weighted_regional_regressions/CalCS/' +\n",
    "            'FG_CO2/NPGO/NPGO.FG_CO2.CalCS.unsmoothed.area_weighted_regional_regression.lag0.nc')"
   ]
  },
  {
   "cell_type": "code",
   "execution_count": null,
   "metadata": {},
   "outputs": [],
   "source": [
    "ds = xr.open_dataset(filepath)"
   ]
  },
  {
   "cell_type": "code",
   "execution_count": null,
   "metadata": {},
   "outputs": [],
   "source": []
  },
  {
   "cell_type": "code",
   "execution_count": null,
   "metadata": {},
   "outputs": [],
   "source": [
    "df = ds.to_dataframe()"
   ]
  },
  {
   "cell_type": "code",
   "execution_count": null,
   "metadata": {},
   "outputs": [],
   "source": []
  },
  {
   "cell_type": "code",
   "execution_count": null,
   "metadata": {},
   "outputs": [],
   "source": []
  },
  {
   "cell_type": "code",
   "execution_count": 3,
   "metadata": {},
   "outputs": [],
   "source": [
    "filepath = '/glade/p/work/rbrady/EBUS_BGC_Variability/U/CalCS/U.001.CalCS.192001-201512.nc'"
   ]
  },
  {
   "cell_type": "code",
   "execution_count": 4,
   "metadata": {},
   "outputs": [],
   "source": [
    "ds_u = xr.open_dataset(filepath)"
   ]
  },
  {
   "cell_type": "code",
   "execution_count": 5,
   "metadata": {},
   "outputs": [
    {
     "data": {
      "text/plain": [
       "<xarray.Dataset>\n",
       "Dimensions:      (nlat: 45, nlon: 39, time: 1152)\n",
       "Coordinates:\n",
       "  * nlat         (nlat) int64 0 1 2 3 4 5 6 7 8 9 10 11 12 13 14 15 16 17 18 ...\n",
       "  * nlon         (nlon) int64 0 1 2 3 4 5 6 7 8 9 10 11 12 13 14 15 16 17 18 ...\n",
       "  * time         (time) datetime64[ns] 1920-01-31 1920-02-29 1920-03-31 ...\n",
       "    TLAT         (nlat, nlon) float64 ...\n",
       "    TLONG        (nlat, nlon) float64 ...\n",
       "    ULAT         (nlat, nlon) float64 ...\n",
       "    ULONG        (nlat, nlon) float64 ...\n",
       "Data variables:\n",
       "    U            (time, nlat, nlon) float64 ...\n",
       "    ANGLE        (nlat, nlon) float64 ...\n",
       "    ANGLET       (nlat, nlon) float64 ...\n",
       "    DXT          (nlat, nlon) float64 ...\n",
       "    DYT          (nlat, nlon) float64 ...\n",
       "    REGION_MASK  (nlat, nlon) float64 ...\n",
       "    TAREA        (nlat, nlon) float64 ...\n",
       "    UAREA        (nlat, nlon) float64 ..."
      ]
     },
     "execution_count": 5,
     "metadata": {},
     "output_type": "execute_result"
    }
   ],
   "source": [
    "ds_u"
   ]
  },
  {
   "cell_type": "code",
   "execution_count": 13,
   "metadata": {},
   "outputs": [],
   "source": [
    "ds_u = ds_u['U'].isel(nlat=slice(0,3),nlon=slice(0,3))"
   ]
  },
  {
   "cell_type": "markdown",
   "metadata": {},
   "source": [
    "# TAU -> U"
   ]
  },
  {
   "cell_type": "code",
   "execution_count": 16,
   "metadata": {},
   "outputs": [],
   "source": [
    "def open_ebus_variable(v, en, eb):\n",
    "    \"\"\"\n",
    "    Opens the ensemble member dataset that has been extracted already.\n",
    "    \"\"\"\n",
    "    filepath = ('/glade/p/work/rbrady/EBUS_BGC_Variability/' + v + '/' + eb + '/' + v + '.' + en +\n",
    "               '.' + eb + '.192001-201512.nc')\n",
    "    ds = xr.open_dataset(filepath)\n",
    "    return ds"
   ]
  },
  {
   "cell_type": "code",
   "execution_count": 17,
   "metadata": {},
   "outputs": [],
   "source": [
    "def sts(ds):\n",
    "    x = ds.TAUX\n",
    "    y = ds.TAUY\n",
    "    if x.min().isnull(): # Check if on coastline\n",
    "        U10 = np.zeros([x.time.size,])\n",
    "        U10[:] = np.nan\n",
    "    else:\n",
    "        tau = (np.sqrt(x**2 + y**2)) / 1.2 * 100**2 / 1e5 # Convert from dyn/cm2 to m2/s2\n",
    "        U10 = np.zeros(len(tau))\n",
    "        for t in range(len(tau)):\n",
    "            c_tau = tau[t]\n",
    "            p = np.array([0.0000764, 0.000142, 0.0027, -1*c_tau])\n",
    "            r = np.roots(p)\n",
    "            i = np.imag(r)\n",
    "            good = np.where(i == 0)\n",
    "            U10[t] = np.real(r[good])\n",
    "    return xr.DataArray(U10, dims=['time'], coords=[x['time']])"
   ]
  },
  {
   "cell_type": "code",
   "execution_count": 18,
   "metadata": {},
   "outputs": [],
   "source": [
    "tau_type = 'TAU'\n",
    "ens = '001'\n",
    "ebu = 'CalCS'"
   ]
  },
  {
   "cell_type": "code",
   "execution_count": 19,
   "metadata": {},
   "outputs": [],
   "source": [
    "x = open_ebus_variable('TAUX', ens, ebu)\n",
    "y = open_ebus_variable('TAUY', ens, ebu)"
   ]
  },
  {
   "cell_type": "code",
   "execution_count": 46,
   "metadata": {},
   "outputs": [],
   "source": [
    "_ = np.zeros([x['nlat'].size, x.nlon.size, x.time.size])\n",
    "_[:] = np.nan"
   ]
  },
  {
   "cell_type": "code",
   "execution_count": 52,
   "metadata": {},
   "outputs": [],
   "source": [
    "ds = xr.DataArray(_, dims=['nlat','nlon','time'], coords=[x.nlat, x.nlon, x.time])"
   ]
  },
  {
   "cell_type": "code",
   "execution_count": 54,
   "metadata": {},
   "outputs": [
    {
     "name": "stdout",
     "output_type": "stream",
     "text": [
      "0\n",
      "1\n",
      "2\n",
      "3\n",
      "4\n",
      "5\n",
      "6\n",
      "7\n",
      "8\n",
      "9\n",
      "10\n",
      "11\n",
      "12\n",
      "13\n",
      "14\n",
      "15\n",
      "16\n",
      "17\n",
      "18\n",
      "19\n",
      "20\n",
      "21\n",
      "22\n",
      "23\n",
      "24\n",
      "25\n",
      "26\n",
      "27\n",
      "28\n",
      "29\n",
      "30\n",
      "31\n",
      "32\n",
      "33\n",
      "34\n",
      "35\n",
      "36\n",
      "37\n",
      "38\n",
      "39\n",
      "40\n",
      "41\n",
      "42\n",
      "43\n",
      "44\n"
     ]
    }
   ],
   "source": [
    "from esmtools.physics import stress_to_speed\n",
    "for i in range(ds.nlat.size):\n",
    "    for j in range(ds.nlon.size):\n",
    "        xtemp = x['TAUX'].isel(nlat=i, nlon=j)\n",
    "        ytemp = y['TAUY'].isel(nlat=i, nlon=j)\n",
    "        if test.min().isnull():\n",
    "            continue\n",
    "        else:\n",
    "            utemp = stress_to_speed(xtemp, ytemp)\n",
    "            ds[i,j,:] = utemp\n",
    "ds.name = 'U'"
   ]
  }
 ],
 "metadata": {
  "kernelspec": {
   "display_name": "Python 3",
   "language": "python",
   "name": "python3"
  },
  "language_info": {
   "codemirror_mode": {
    "name": "ipython",
    "version": 3
   },
   "file_extension": ".py",
   "mimetype": "text/x-python",
   "name": "python",
   "nbconvert_exporter": "python",
   "pygments_lexer": "ipython3",
   "version": "3.6.3"
  }
 },
 "nbformat": 4,
 "nbformat_minor": 2
}
