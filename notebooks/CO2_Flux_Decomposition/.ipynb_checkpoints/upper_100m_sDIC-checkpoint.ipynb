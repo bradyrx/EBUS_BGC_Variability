{
 "cells": [
  {
   "cell_type": "markdown",
   "metadata": {},
   "source": [
    "# Upper 100m sDIC\n",
    "\n",
    "Script to create sDIC integrated over the upper 100m. Already summed the top 100m for SALT and DIC for all simulations. Just need to mess around with the final steps here (+ differencing)"
   ]
  },
  {
   "cell_type": "code",
   "execution_count": 1,
   "metadata": {},
   "outputs": [],
   "source": [
    "import xarray as xr\n",
    "import matplotlib.pyplot as plt\n",
    "%matplotlib inline"
   ]
  },
  {
   "cell_type": "code",
   "execution_count": 3,
   "metadata": {},
   "outputs": [],
   "source": [
    "DIC_filepath = '/glade/scratch/rbrady/EBUS_BGC_Variability/DIC_int100m_monthly/'\n",
    "SALT_filepath = '/glade/scratch/rbrady/EBUS_BGC_Variability/SALT_int100m_monthly/'"
   ]
  },
  {
   "cell_type": "code",
   "execution_count": 4,
   "metadata": {},
   "outputs": [],
   "source": [
    "da1 = xr.open_dataarray(DIC_filepath + 'DIC_int100m.001.192001-210012.nc')\n",
    "da2 = xr.open_dataarray(SALT_filepath + 'SALT_int100m.001.192001-210012.nc')"
   ]
  }
 ],
 "metadata": {
  "kernelspec": {
   "display_name": "Python 3",
   "language": "python",
   "name": "python3"
  },
  "language_info": {
   "codemirror_mode": {
    "name": "ipython",
    "version": 3
   },
   "file_extension": ".py",
   "mimetype": "text/x-python",
   "name": "python",
   "nbconvert_exporter": "python",
   "pygments_lexer": "ipython3",
   "version": "3.6.5"
  }
 },
 "nbformat": 4,
 "nbformat_minor": 2
}
