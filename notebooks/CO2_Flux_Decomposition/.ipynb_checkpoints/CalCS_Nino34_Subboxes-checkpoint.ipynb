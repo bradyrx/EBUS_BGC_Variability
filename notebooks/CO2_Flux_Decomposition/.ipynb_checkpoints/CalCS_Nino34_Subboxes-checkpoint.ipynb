{
 "cells": [
  {
   "cell_type": "markdown",
   "metadata": {},
   "source": [
    "# CalCS Nino34/PDO Subboxes\n",
    "\n",
    "The CalCS responds to El Nino/PDO with a dipole between the nearshore and offshore locations. This script is attempting to run the decomposition analysis on these smaller boxes.\n",
    "\n",
    "![](https://i.imgur.com/lVARWJ0.png)"
   ]
  },
  {
   "cell_type": "code",
   "execution_count": 17,
   "metadata": {},
   "outputs": [],
   "source": [
    "import xarray as xr\n",
    "import matplotlib.pyplot as plt\n",
    "%matplotlib inline\n",
    "import cartopy.crs as ccrs\n",
    "import esmtools as et"
   ]
  },
  {
   "cell_type": "markdown",
   "metadata": {},
   "source": [
    "Goal 1: Find indices of the above boxes."
   ]
  },
  {
   "cell_type": "code",
   "execution_count": 10,
   "metadata": {},
   "outputs": [],
   "source": [
    "# This is simply the ensemble mean correlation between CalCS and Nino34\n",
    "# pictured above (if it's gone from scratch).\n",
    "filepath = '/glade/scratch/rbrady/EBUS_BGC_Variability/CalCS.dipole.nc' \n",
    "ds = xr.open_dataset(filepath)\n",
    "ds = ds['r']"
   ]
  },
  {
   "cell_type": "code",
   "execution_count": 62,
   "metadata": {},
   "outputs": [
    {
     "data": {
      "text/plain": [
       "[<matplotlib.lines.Line2D at 0x2aaaf1945f98>]"
      ]
     },
     "execution_count": 62,
     "metadata": {},
     "output_type": "execute_result"
    },
    {
     "data": {
      "image/png": "[encoded data removed]",
      "text/plain": [
       "<matplotlib.figure.Figure at 0x2aaaf166b748>"
      ]
     },
     "metadata": {},
     "output_type": "display_data"
    }
   ],
   "source": [
    "f, ax = plt.subplots(figsize=(12,8))\n",
    "ds.plot(add_colorbar=False)\n",
    "\n",
    "# INNER BOX\n",
    "plt.plot(20,22,'*r')\n",
    "plt.plot(19,22,'*r')\n",
    "plt.plot(18,22,'*r')\n",
    "plt.plot(18,23,'*r')\n",
    "plt.plot(19,23,'*r')\n",
    "plt.plot(20,23,'*r')\n",
    "plt.plot(18,24,'*r')\n",
    "plt.plot(19,24,'*r')\n",
    "plt.plot(18,25,'*r')\n",
    "plt.plot(19,25,'*r')\n",
    "\n",
    "# OUTER BOX\n",
    "plt.plot(13,27,'*k')\n",
    "plt.plot(14,27,'*k')\n",
    "plt.plot(15,27,'*k')\n",
    "plt.plot(13,28,'*k')\n",
    "plt.plot(14,28,'*k')\n",
    "plt.plot(15,28,'*k')\n",
    "plt.plot(13,29,'*k')\n",
    "plt.plot(14,29,'*k')\n",
    "plt.plot(15,29,'*k')\n",
    "plt.plot(13,30,'*k')\n",
    "plt.plot(14,30,'*k')\n",
    "plt.plot(15,30,'*k')"
   ]
  },
  {
   "cell_type": "markdown",
   "metadata": {},
   "source": [
    "### INNER BOX\n",
    "\n",
    "nlon: 18:20\n",
    "\n",
    "nlat: 22:25\n",
    "\n",
    "\n",
    "\n",
    "### OUTER BOX\n",
    "\n",
    "nlon: 13:15\n",
    "\n",
    "nlat: 27:30"
   ]
  },
  {
   "cell_type": "code",
   "execution_count": 64,
   "metadata": {},
   "outputs": [],
   "source": [
    "inner = ds.isel(nlat=slice(22,26), nlon=slice(18,21))\n",
    "outer = ds.isel(nlat=slice(27,31), nlon=slice(13,16))"
   ]
  }
 ],
 "metadata": {
  "kernelspec": {
   "display_name": "Python 3",
   "language": "python",
   "name": "python3"
  },
  "language_info": {
   "codemirror_mode": {
    "name": "ipython",
    "version": 3
   },
   "file_extension": ".py",
   "mimetype": "text/x-python",
   "name": "python",
   "nbconvert_exporter": "python",
   "pygments_lexer": "ipython3",
   "version": "3.6.4"
  }
 },
 "nbformat": 4,
 "nbformat_minor": 2
}
