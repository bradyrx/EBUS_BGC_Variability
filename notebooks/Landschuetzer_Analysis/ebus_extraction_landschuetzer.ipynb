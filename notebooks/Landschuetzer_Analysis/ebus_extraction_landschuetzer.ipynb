{
 "cells": [
  {
   "cell_type": "markdown",
   "metadata": {},
   "source": [
    "Based on the main EBUS extraction script but to work with remapped to POP stuff, like SST or landschuetzer data."
   ]
  },
  {
   "cell_type": "code",
   "execution_count": 1,
   "metadata": {},
   "outputs": [],
   "source": [
    "import numpy as np\n",
    "import pandas as pd\n",
    "import xarray as xr\n",
    "import matplotlib.pyplot as plt\n",
    "%matplotlib inline"
   ]
  },
  {
   "cell_type": "code",
   "execution_count": 2,
   "metadata": {},
   "outputs": [],
   "source": [
    "def detect_EBUS(x):\n",
    "    # Will return latitude and longitude boundings for the selected region.\n",
    "    # x should be a string from the following:\n",
    "        # CalCS : California Current\n",
    "        # BenCS : Benguela Current\n",
    "        # CanCS : Canary Current\n",
    "        # HumCS : Humboldt Current\n",
    "    if x == \"CalCS\":\n",
    "        lat1 = 25\n",
    "        lat2 = 46\n",
    "        lon1 = 215\n",
    "        lon2 = 260\n",
    "    elif x == \"BenCS\":\n",
    "        lat1 = -30\n",
    "        lat2 = -16\n",
    "        lon1 = 0\n",
    "        lon2 = 20\n",
    "    elif x == \"CanCS\":\n",
    "        lat1 = 19 \n",
    "        lat2 = 33 \n",
    "        lon1 = 330\n",
    "        lon2 = 359\n",
    "    elif x == \"HumCS\":\n",
    "        lat1 = -20\n",
    "        lat2 = 0\n",
    "        lon1 = 260\n",
    "        lon2 = 290\n",
    "    else:\n",
    "        raise ValueError('\\n' + 'Must select from the following EBUS strings:'\n",
    "                         + '\\n' + 'CalCS' + '\\n' + 'CanCS' + '\\n' + 'BenCS' +\n",
    "                         '\\n' + 'HumCS')\n",
    "    return lat1, lat2, lon1, lon2"
   ]
  },
  {
   "cell_type": "code",
   "execution_count": 3,
   "metadata": {},
   "outputs": [],
   "source": [
    "def find_indices(latGrid, lonGrid, latPoint, lonPoint):\n",
    "    dx = lonGrid - lonPoint\n",
    "    dy = latGrid - latPoint\n",
    "    reducedGrid = abs(dx) + abs(dy)\n",
    "    min_ix = np.nanargmin(reducedGrid)\n",
    "    i, j = np.unravel_index(min_ix, reducedGrid.shape)\n",
    "    return i, j"
   ]
  },
  {
   "cell_type": "markdown",
   "metadata": {},
   "source": [
    "# SCRIPT"
   ]
  },
  {
   "cell_type": "code",
   "execution_count": 52,
   "metadata": {},
   "outputs": [],
   "source": [
    "EBC = 'BenCS'"
   ]
  },
  {
   "cell_type": "code",
   "execution_count": 53,
   "metadata": {},
   "outputs": [],
   "source": [
    "fileName = '/glade/u/home/rbrady/work/Landschuetzer_pCO2/SST.reynolds.1982-2015.POP.masked.nc'\n",
    "ds = xr.open_dataset(fileName)\n",
    "ds.attrs = ''\n",
    "ds = ds['SST']"
   ]
  },
  {
   "cell_type": "code",
   "execution_count": 54,
   "metadata": {},
   "outputs": [],
   "source": [
    "# Append on POP variables\n",
    "pop = xr.open_dataset('/glade/u/home/rbrady/scratch/EBUS_BGC_Variability/SST_monthly/SST.001.192001-210012.nc',\n",
    "                      decode_times=False)\n",
    "ds['REGION_MASK'] = pop['REGION_MASK']\n",
    "ds['DXT'] = pop['DXT']\n",
    "ds['TLAT'] = pop['TLAT']\n",
    "ds['TLONG'] = pop['TLONG']\n",
    "ds['TAREA'] = pop['TAREA']\n",
    "ds['TAREA'] = ds['TAREA'] / (100 * 100)"
   ]
  },
  {
   "cell_type": "code",
   "execution_count": 55,
   "metadata": {},
   "outputs": [],
   "source": [
    "if EBC == \"BenCS\":\n",
    "    lon = np.asarray(ds['TLONG'])\n",
    "    mask = (lon > 180)\n",
    "    lon[mask] = lon[mask] - 360\n",
    "    ds['TLONG'] = (('nlat','nlon'), lon) # Now -180 to 180 range."
   ]
  },
  {
   "cell_type": "code",
   "execution_count": 56,
   "metadata": {},
   "outputs": [],
   "source": [
    "lat1, lat2, lon1, lon2 = detect_EBUS(EBC)\n",
    "a, c = find_indices(ds['TLAT'].values, ds['TLONG'].values, lat1, lon1)\n",
    "b, d = find_indices(ds['TLAT'].values, ds['TLONG'].values, lat2, lon2)\n",
    "ds = ds.isel(nlat=slice(a,b), nlon=slice(c,d))"
   ]
  },
  {
   "cell_type": "code",
   "execution_count": 57,
   "metadata": {},
   "outputs": [],
   "source": [
    "# Remask \n",
    "#ds = ds.where(ds !=0, np.nan)"
   ]
  },
  {
   "cell_type": "code",
   "execution_count": 58,
   "metadata": {},
   "outputs": [
    {
     "data": {
      "text/plain": [
       "<matplotlib.collections.QuadMesh at 0x2ac71fef8898>"
      ]
     },
     "execution_count": 58,
     "metadata": {},
     "output_type": "execute_result"
    },
    {
     "data": {
      "image/png": "[encoded data removed]",
      "text/plain": [
       "<Figure size 432x288 with 2 Axes>"
      ]
     },
     "metadata": {},
     "output_type": "display_data"
    }
   ],
   "source": [
    "ds.isel(time=0).plot()"
   ]
  },
  {
   "cell_type": "code",
   "execution_count": 59,
   "metadata": {},
   "outputs": [
    {
     "name": "stderr",
     "output_type": "stream",
     "text": [
      "/glade/u/home/rbrady/miniconda3/envs/py36/lib/python3.6/site-packages/dask/utils.py:1010: UserWarning: Deprecated, see dask.base.get_scheduler instead\n",
      "  warnings.warn(\"Deprecated, see dask.base.get_scheduler instead\")\n"
     ]
    }
   ],
   "source": [
    "ds.to_netcdf('/glade/work/rbrady/EBUS_BGC_Variability/Reynolds_Extracted/' + \n",
    "             'Reynolds.' + EBC + '.1982-2015.nc')"
   ]
  }
 ],
 "metadata": {
  "kernelspec": {
   "display_name": "Python 3",
   "language": "python",
   "name": "python3"
  },
  "language_info": {
   "codemirror_mode": {
    "name": "ipython",
    "version": 3
   },
   "file_extension": ".py",
   "mimetype": "text/x-python",
   "name": "python",
   "nbconvert_exporter": "python",
   "pygments_lexer": "ipython3",
   "version": "3.6.6"
  },
  "toc": {
   "base_numbering": 1,
   "nav_menu": {},
   "number_sections": true,
   "sideBar": true,
   "skip_h1_title": false,
   "title_cell": "Table of Contents",
   "title_sidebar": "Contents",
   "toc_cell": false,
   "toc_position": {},
   "toc_section_display": true,
   "toc_window_display": false
  },
  "varInspector": {
   "cols": {
    "lenName": 16,
    "lenType": 16,
    "lenVar": 40
   },
   "kernels_config": {
    "python": {
     "delete_cmd_postfix": "",
     "delete_cmd_prefix": "del ",
     "library": "var_list.py",
     "varRefreshCmd": "print(var_dic_list())"
    },
    "r": {
     "delete_cmd_postfix": ") ",
     "delete_cmd_prefix": "rm(",
     "library": "var_list.r",
     "varRefreshCmd": "cat(var_dic_list()) "
    }
   },
   "types_to_exclude": [
    "module",
    "function",
    "builtin_function_or_method",
    "instance",
    "_Feature"
   ],
   "window_display": false
  }
 },
 "nbformat": 4,
 "nbformat_minor": 2
}
