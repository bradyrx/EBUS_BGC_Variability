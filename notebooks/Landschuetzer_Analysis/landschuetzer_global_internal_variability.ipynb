{
 "cells": [
  {
   "cell_type": "markdown",
   "metadata": {},
   "source": [
    "# Landschuetzer Global Internal Variability\n",
    "\n",
    "Draft for code to compute internal variability magnitude in CO$_{2}$ fluxes for Landschuetzer product (remapped to POP grid). This is for comparison to Fig. 2 in the paper. Will likely be run as a .py script and visualized here."
   ]
  },
  {
   "cell_type": "code",
   "execution_count": 1,
   "metadata": {
    "code_folding": []
   },
   "outputs": [],
   "source": [
    "import pandas as pd\n",
    "import xarray as xr\n",
    "import matplotlib.pyplot as plt\n",
    "%matplotlib inline\n",
    "import esmtools as et"
   ]
  },
  {
   "cell_type": "code",
   "execution_count": 2,
   "metadata": {},
   "outputs": [],
   "source": [
    "filepath = '/glade/p/work/rbrady/EBUS_BGC_Variability/'\n",
    "filename = 'SOM-FFN.v2016.1982-2015.POP.residuals.nc'\n",
    "ds = xr.open_dataset(filepath + filename)"
   ]
  },
  {
   "cell_type": "code",
   "execution_count": 4,
   "metadata": {},
   "outputs": [],
   "source": [
    "ds = ds.rename({'__xarray_dataarray_variable__': 'FG_CO2'})"
   ]
  },
  {
   "cell_type": "markdown",
   "metadata": {},
   "source": [
    "# Development"
   ]
  },
  {
   "cell_type": "code",
   "execution_count": 27,
   "metadata": {
    "code_folding": []
   },
   "outputs": [],
   "source": [
    "ds = xr.open_dataset('/glade/p/work/rbrady/Landschuetzer_pCO2/' +\n",
    "                     'spco2_1982-2015_MPI_SOM-FFN_v2016_on_POP' +\n",
    "                     '_gx1v6.conserve.nc')\n",
    "ds = ds['fgco2_raw'].to_dataset()\n",
    "ds['time'] = pd.date_range('1982-01', '2016-01', freq='M')"
   ]
  },
  {
   "cell_type": "code",
   "execution_count": 28,
   "metadata": {},
   "outputs": [],
   "source": [
    "# Test case to detrend, deseasonalize.\n",
    "ds = ds.isel(nlat=slice(250,260), nlon=slice(150,160))"
   ]
  },
  {
   "cell_type": "code",
   "execution_count": 29,
   "metadata": {},
   "outputs": [],
   "source": [
    "ds = ds['fgco2_raw'].stack(points=['nlat', 'nlon']).groupby('points') \\\n",
    "    .apply(et.ufunc.remove_polynomial_fit).unstack('points').to_dataset()"
   ]
  },
  {
   "cell_type": "code",
   "execution_count": 30,
   "metadata": {},
   "outputs": [
    {
     "data": {
      "text/plain": [
       "<xarray.Dataset>\n",
       "Dimensions:    (nlat: 10, nlon: 10, time: 408)\n",
       "Coordinates:\n",
       "  * time       (time) datetime64[ns] 1982-01-31 1982-02-28 1982-03-31 ...\n",
       "    TLAT       (nlat, nlon) float64 18.76 18.77 18.77 18.77 18.77 18.77 ...\n",
       "    TLONG      (nlat, nlon) float64 129.3 130.4 131.6 132.7 133.8 134.9 ...\n",
       "  * nlat       (nlat) int64 0 1 2 3 4 5 6 7 8 9\n",
       "  * nlon       (nlon) int64 0 1 2 3 4 5 6 7 8 9\n",
       "Data variables:\n",
       "    fgco2_raw  (time, nlat, nlon) float64 -2.187 -2.165 -2.15 -1.957 -1.664 ..."
      ]
     },
     "execution_count": 30,
     "metadata": {},
     "output_type": "execute_result"
    }
   ],
   "source": [
    "ds"
   ]
  },
  {
   "cell_type": "code",
   "execution_count": 31,
   "metadata": {},
   "outputs": [],
   "source": [
    "def remove_seasonal_cycle(ds):\n",
    "    \"\"\"\n",
    "    Given a dataset, removes the monthly climatology.\n",
    "    \"\"\"\n",
    "    clim = ds.groupby('time.month').mean('time')\n",
    "    anom = ds.groupby('time.month') - clim\n",
    "    return anom"
   ]
  },
  {
   "cell_type": "code",
   "execution_count": 34,
   "metadata": {},
   "outputs": [],
   "source": [
    "ds = ds['fgco2_raw'].stack(points=['nlat','nlon']).groupby('points') \\\n",
    "    .apply(remove_seasonal_cycle).unstack('points')"
   ]
  },
  {
   "cell_type": "code",
   "execution_count": 35,
   "metadata": {},
   "outputs": [
    {
     "data": {
      "text/plain": [
       "<xarray.DataArray 'fgco2_raw' (time: 408, nlat: 10, nlon: 10)>\n",
       "array([[[-0.491918, -0.508404, ...,  0.094224,  0.022748],\n",
       "        [-0.466546, -0.497008, ...,  0.380911,  0.078874],\n",
       "        ...,\n",
       "        [-0.250951, -0.267167, ...,  0.162747,  0.232496],\n",
       "        [-0.238498, -0.258002, ...,  0.135324,  0.201829]],\n",
       "\n",
       "       [[-0.111232, -0.028336, ..., -0.140593, -0.155437],\n",
       "        [ 0.074788,  0.044526, ..., -0.07771 , -0.108465],\n",
       "        ...,\n",
       "        [ 0.27001 ,  0.22569 , ...,  0.317128,  0.348933],\n",
       "        [ 0.2456  ,  0.204744, ...,  0.31359 ,  0.343269]],\n",
       "\n",
       "       ...,\n",
       "\n",
       "       [[ 0.022787,  0.025465, ..., -0.088191, -0.015069],\n",
       "        [ 0.09593 ,  0.094486, ..., -0.164202, -0.109539],\n",
       "        ...,\n",
       "        [ 0.733964,  0.255176, ..., -0.121533, -0.229275],\n",
       "        [ 0.68916 ,  0.321214, ..., -0.090577, -0.180008]],\n",
       "\n",
       "       [[ 0.461003,  0.44955 , ...,  0.351217,  0.335444],\n",
       "        [ 0.682419,  0.570593, ...,  0.531184,  0.584846],\n",
       "        ...,\n",
       "        [ 0.387253,  0.375784, ...,  0.554605,  0.577002],\n",
       "        [ 0.380642,  0.407582, ...,  0.528408,  0.558769]]])\n",
       "Coordinates:\n",
       "  * time     (time) datetime64[ns] 1982-01-31 1982-02-28 1982-03-31 ...\n",
       "    month    (time) int64 1 2 3 4 5 6 7 8 9 10 11 12 1 2 3 4 5 6 7 8 9 10 11 ...\n",
       "    TLAT     (nlat, nlon) float64 18.76 18.77 18.77 18.77 18.77 18.77 18.77 ...\n",
       "    TLONG    (nlat, nlon) float64 129.3 130.4 131.6 132.7 133.8 134.9 136.1 ...\n",
       "  * nlat     (nlat) int64 0 1 2 3 4 5 6 7 8 9\n",
       "  * nlon     (nlon) int64 0 1 2 3 4 5 6 7 8 9"
      ]
     },
     "execution_count": 35,
     "metadata": {},
     "output_type": "execute_result"
    }
   ],
   "source": [
    "ds"
   ]
  }
 ],
 "metadata": {
  "kernelspec": {
   "display_name": "Python 3",
   "language": "python",
   "name": "python3"
  },
  "language_info": {
   "codemirror_mode": {
    "name": "ipython",
    "version": 3
   },
   "file_extension": ".py",
   "mimetype": "text/x-python",
   "name": "python",
   "nbconvert_exporter": "python",
   "pygments_lexer": "ipython3",
   "version": "3.6.6"
  },
  "toc": {
   "base_numbering": 1,
   "nav_menu": {},
   "number_sections": true,
   "sideBar": true,
   "skip_h1_title": false,
   "title_cell": "Table of Contents",
   "title_sidebar": "Contents",
   "toc_cell": false,
   "toc_position": {},
   "toc_section_display": true,
   "toc_window_display": false
  },
  "varInspector": {
   "cols": {
    "lenName": 16,
    "lenType": 16,
    "lenVar": 40
   },
   "kernels_config": {
    "python": {
     "delete_cmd_postfix": "",
     "delete_cmd_prefix": "del ",
     "library": "var_list.py",
     "varRefreshCmd": "print(var_dic_list())"
    },
    "r": {
     "delete_cmd_postfix": ") ",
     "delete_cmd_prefix": "rm(",
     "library": "var_list.r",
     "varRefreshCmd": "cat(var_dic_list()) "
    }
   },
   "position": {
    "height": "145px",
    "left": "881px",
    "right": "190px",
    "top": "589px",
    "width": "350px"
   },
   "types_to_exclude": [
    "module",
    "function",
    "builtin_function_or_method",
    "instance",
    "_Feature"
   ],
   "window_display": false
  }
 },
 "nbformat": 4,
 "nbformat_minor": 2
}
