{
 "metadata": {
  "kernelspec": {
   "display_name": "Python 3",
   "language": "python",
   "name": "python3"
  },
  "language_info": {
   "codemirror_mode": {
    "name": "ipython",
    "version": 3
   },
   "file_extension": ".py",
   "mimetype": "text/x-python",
   "name": "python",
   "nbconvert_exporter": "python",
   "pygments_lexer": "ipython3",
   "version": "3.6.6"
  },
  "name": "",
  "toc": {
   "base_numbering": 1,
   "nav_menu": {},
   "number_sections": true,
   "sideBar": true,
   "skip_h1_title": false,
   "title_cell": "Table of Contents",
   "title_sidebar": "Contents",
   "toc_cell": false,
   "toc_position": {},
   "toc_section_display": true,
   "toc_window_display": false
  },
  "varInspector": {
   "cols": {
    "lenName": 16,
    "lenType": 16,
    "lenVar": 40
   },
   "kernels_config": {
    "python": {
     "delete_cmd_postfix": "",
     "delete_cmd_prefix": "del ",
     "library": "var_list.py",
     "varRefreshCmd": "print(var_dic_list())"
    },
    "r": {
     "delete_cmd_postfix": ") ",
     "delete_cmd_prefix": "rm(",
     "library": "var_list.r",
     "varRefreshCmd": "cat(var_dic_list()) "
    }
   },
   "position": {
    "height": "145px",
    "left": "881px",
    "right": "190px",
    "top": "589px",
    "width": "350px"
   },
   "types_to_exclude": [
    "module",
    "function",
    "builtin_function_or_method",
    "instance",
    "_Feature"
   ],
   "window_display": false
  }
 },
 "nbformat": 3,
 "nbformat_minor": 0,
 "worksheets": [
  {
   "cells": [
    {
     "cell_type": "markdown",
     "metadata": {},
     "source": [
      "# Landschuetzer Global Internal Variability\n",
      "\n",
      "Draft for code to compute internal variability magnitude in CO$_{2}$ fluxes for Landschuetzer product (remapped to POP grid). This is for comparison to Fig. 2 in the paper. Will likely be run as a .py script and visualized here."
     ]
    },
    {
     "cell_type": "code",
     "collapsed": false,
     "input": [
      "import numpy as np\n",
      "import pandas as pd\n",
      "import xarray as xr\n",
      "import matplotlib.pyplot as plt\n",
      "%matplotlib inline\n",
      "import esmtools as et\n",
      "import numpy.polynomial.polynomial as poly\n",
      "import cartopy.crs as ccrs\n",
      "import matplotlib.dates as mdates"
     ],
     "language": "python",
     "metadata": {
      "code_folding": []
     },
     "outputs": [],
     "prompt_number": 177
    },
    {
     "cell_type": "heading",
     "level": 1,
     "metadata": {},
     "source": [
      "Test Area"
     ]
    },
    {
     "cell_type": "code",
     "collapsed": false,
     "input": [
      "data = np.random.rand(10, 2, 2)\n",
      "x = np.arange(0, len(data), 1)"
     ],
     "language": "python",
     "metadata": {},
     "outputs": [],
     "prompt_number": 118
    },
    {
     "cell_type": "code",
     "collapsed": false,
     "input": [
      "X = np.random.rand(10,5,5)\n",
      "Y = np.reshape(X)"
     ],
     "language": "python",
     "metadata": {},
     "outputs": [],
     "prompt_number": 312
    },
    {
     "cell_type": "code",
     "collapsed": false,
     "input": [],
     "language": "python",
     "metadata": {},
     "outputs": [],
     "prompt_number": null
    },
    {
     "cell_type": "heading",
     "level": 1,
     "metadata": {},
     "source": [
      "Main Code"
     ]
    },
    {
     "cell_type": "code",
     "collapsed": false,
     "input": [
      "data = xr.open_dataset('/glade/u/home/rbrady/work/Landschuetzer_pCO2' + \n",
      "    '/spco2_1982-2015_MPI_SOM-FFN_v2016.nc')\n",
      "data = data['fgco2_raw'] +30"
     ],
     "language": "python",
     "metadata": {},
     "outputs": [],
     "prompt_number": 293
    },
    {
     "cell_type": "heading",
     "level": 1,
     "metadata": {},
     "source": [
      "Is it polyfit or polyval that fucks up?"
     ]
    },
    {
     "cell_type": "code",
     "collapsed": false,
     "input": [
      "x = mdates.date2num(data.time)\n",
      "y = np.asarray(data)\n",
      "y = y.reshape(len(y), -1)\n",
      "coefs = poly.polyfit(x, y, 1)"
     ],
     "language": "python",
     "metadata": {},
     "outputs": [],
     "prompt_number": 242
    },
    {
     "cell_type": "code",
     "collapsed": false,
     "input": [
      "coefs.shape"
     ],
     "language": "python",
     "metadata": {},
     "outputs": [],
     "prompt_number": 253
    },
    {
     "cell_type": "heading",
     "level": 1,
     "metadata": {},
     "source": [
      "Detrend"
     ]
    },
    {
     "cell_type": "code",
     "collapsed": false,
     "input": [
      "#x = np.arange(0, len(data), 1)\n",
      "x = mdates.date2num(data.time)\n",
      "y = np.asarray(data)\n",
      "y = y.reshape(len(y), -1)"
     ],
     "language": "python",
     "metadata": {},
     "outputs": [],
     "prompt_number": 298
    },
    {
     "cell_type": "code",
     "collapsed": false,
     "input": [
      "coefs = poly.polyfit(x, y, 1)\n",
      "fit = poly.polyval(x, coefs)\n",
      "#if not fit.shape == y.shape:\n",
      "#    fit = np.reshape(fit, y.shape)\n",
      "#y = y - fit\n",
      "#y = y.reshape(len(y), data.shape[1], data.shape[2])\n",
      "# warnings.simplefilter('ignore', np.RankWarning)\n",
      "#data = data.to_dataset()\n",
      "#data['detrended'] = (('time', 'lat', 'lon'), y)"
     ],
     "language": "python",
     "metadata": {},
     "outputs": [],
     "prompt_number": 299
    },
    {
     "cell_type": "code",
     "collapsed": false,
     "input": [
      "fit = np.reshape(fit, data.shape)\n",
      "detrended = data - fit"
     ],
     "language": "python",
     "metadata": {},
     "outputs": [],
     "prompt_number": 303
    },
    {
     "cell_type": "code",
     "collapsed": false,
     "input": [
      "# One at a time\n",
      "temp = data.isel(lat=50, lon=50)\n",
      "x = mdates.date2num(temp.time)\n",
      "y = temp\n",
      "coefs = poly.polyfit(x, y, 1)\n",
      "fit = poly.polyval(x, coefs)\n",
      "y = y - fit"
     ],
     "language": "python",
     "metadata": {},
     "outputs": [],
     "prompt_number": 306
    },
    {
     "cell_type": "code",
     "collapsed": false,
     "input": [
      "f, ax = plt.subplots()\n",
      "data.isel(lat=50, lon=50).plot()\n",
      "detrended.isel(lat=50, lon=50).plot(color='r')\n",
      "plt.plot(data.time, y)\n",
      "ax.set_ylim([-5, 32])"
     ],
     "language": "python",
     "metadata": {},
     "outputs": [],
     "prompt_number": 308
    },
    {
     "cell_type": "heading",
     "level": 1,
     "metadata": {},
     "source": [
      "Deseasonalize"
     ]
    },
    {
     "cell_type": "code",
     "collapsed": false,
     "input": [
      "clim = data.groupby('time.month').mean('time')\n",
      "anom = data.groupby('time.month') - clim"
     ],
     "language": "python",
     "metadata": {},
     "outputs": [],
     "prompt_number": 97
    },
    {
     "cell_type": "heading",
     "level": 1,
     "metadata": {},
     "source": [
      "Global Std. Dev"
     ]
    },
    {
     "cell_type": "code",
     "collapsed": false,
     "input": [
      "internal = anom.std('time')"
     ],
     "language": "python",
     "metadata": {},
     "outputs": [],
     "prompt_number": 98
    },
    {
     "cell_type": "code",
     "collapsed": false,
     "input": [
      "import cartopy.util as cu\n",
      "import cmocean.cm as cm\n",
      "cdata, clons = cu.add_cyclic_point(internal.values, coord=internal.lon)"
     ],
     "language": "python",
     "metadata": {},
     "outputs": [],
     "prompt_number": 99
    },
    {
     "cell_type": "code",
     "collapsed": false,
     "input": [
      "plt.style.use('ocn-clim')\n",
      "f, ax = et.vis.make_cartopy(grid_lines=False)\n",
      "m = ax.contourf(clons, internal.lat, cdata, \n",
      "                np.arange(0,4.1,0.5),transform=ccrs.PlateCarree(),\n",
      "                cmap=et.vis.discrete_cmap(12, cm.dense))\n",
      "cb = plt.colorbar(m, ax=ax, orientation='horizontal', pad=0.05,\n",
      "                  extend='max')\n",
      "\n",
      "# Add boxes over EBUs.\n",
      "systems = ['CalCS', 'HumCS', 'CanCS', 'BenCS']\n",
      "for ebu in systems:\n",
      "    x0,x1,y0,y1 = et.ebus.visual_bounds(ebu, std_lon=True)\n",
      "    et.vis.add_box(ax, x0,x1,y0,y1, edgecolor='k', facecolor='none', \n",
      "                   linewidth=2, alpha=1)\n",
      "\n",
      "#et.vis.savefig('absolute_internal_magnitude', extension='.eps',  dpi=300)"
     ],
     "language": "python",
     "metadata": {},
     "outputs": [],
     "prompt_number": 101
    },
    {
     "cell_type": "code",
     "collapsed": false,
     "input": [],
     "language": "python",
     "metadata": {},
     "outputs": [],
     "prompt_number": null
    }
   ],
   "metadata": {}
  }
 ]
}