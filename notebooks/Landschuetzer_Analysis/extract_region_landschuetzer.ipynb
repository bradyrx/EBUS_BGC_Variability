{
 "metadata": {
  "kernelspec": {
   "display_name": "Python 3",
   "language": "python",
   "name": "python3"
  },
  "language_info": {
   "codemirror_mode": {
    "name": "ipython",
    "version": 3
   },
   "file_extension": ".py",
   "mimetype": "text/x-python",
   "name": "python",
   "nbconvert_exporter": "python",
   "pygments_lexer": "ipython3",
   "version": "3.6.6"
  },
  "name": "",
  "toc": {
   "base_numbering": 1,
   "nav_menu": {},
   "number_sections": true,
   "sideBar": true,
   "skip_h1_title": false,
   "title_cell": "Table of Contents",
   "title_sidebar": "Contents",
   "toc_cell": false,
   "toc_position": {},
   "toc_section_display": true,
   "toc_window_display": false
  },
  "varInspector": {
   "cols": {
    "lenName": 16,
    "lenType": 16,
    "lenVar": 40
   },
   "kernels_config": {
    "python": {
     "delete_cmd_postfix": "",
     "delete_cmd_prefix": "del ",
     "library": "var_list.py",
     "varRefreshCmd": "print(var_dic_list())"
    },
    "r": {
     "delete_cmd_postfix": ") ",
     "delete_cmd_prefix": "rm(",
     "library": "var_list.r",
     "varRefreshCmd": "cat(var_dic_list()) "
    }
   },
   "types_to_exclude": [
    "module",
    "function",
    "builtin_function_or_method",
    "instance",
    "_Feature"
   ],
   "window_display": false
  }
 },
 "nbformat": 3,
 "nbformat_minor": 0,
 "worksheets": [
  {
   "cells": [
    {
     "cell_type": "markdown",
     "metadata": {},
     "source": [
      "# Extract Region Landschuetzer\n",
      "Mimics the `generate_regional_residuals.py` script but for the specialized case\n",
      "of the Landschuetzer data. "
     ]
    },
    {
     "cell_type": "code",
     "collapsed": false,
     "input": [
      "import numpy as np\n",
      "import pandas as pd\n",
      "import xarray as xr\n",
      "import esmtools as et\n",
      "import matplotlib.pyplot as plt\n",
      "%matplotlib inline\n",
      "import os"
     ],
     "language": "python",
     "metadata": {},
     "outputs": [],
     "prompt_number": 1
    },
    {
     "cell_type": "code",
     "collapsed": false,
     "input": [
      "EBU = 'CalCS'\n",
      "VAR = 'SST'\n",
      "OFFSHORE = 800"
     ],
     "language": "python",
     "metadata": {},
     "outputs": [],
     "prompt_number": 31
    },
    {
     "cell_type": "code",
     "collapsed": false,
     "input": [
      "fileDir = ('/glade/work/rbrady/EBUS_BGC_Variability/Reynolds_Extracted//' +\n",
      "           EBU + '/Reynolds.' + EBU + '.1982-2015.nc')\n",
      "ds = xr.open_dataset(fileDir)\n",
      "ds['DXT'] = ds['DXT'] / 100 / 1000\n",
      "lat1, lat2 = et.ebus.latitude_bounds(EBU)\n",
      "ds = ds.where(ds['TLAT'] >= lat1).where(ds['TLAT'] <= lat2)\n",
      "data = ds[VAR].isel(time=0)\n",
      "data = np.ma.array(data, mask=np.isnan(data))"
     ],
     "language": "python",
     "metadata": {},
     "outputs": [],
     "prompt_number": 32
    },
    {
     "cell_type": "code",
     "collapsed": false,
     "input": [
      "dxt_dat = ds['DXT']\n",
      "dxt_dat = np.ma.array(dxt_dat, mask=np.isnan(data))\n",
      "ds['DXT'] = (('nlat', 'nlon'), dxt_dat)\n",
      "regmask = ds['REGION_MASK']\n",
      "counter = 0\n",
      "for row in regmask:\n",
      "    conditional = 0 in row.values\n",
      "    if conditional == False:\n",
      "        ds['DXT'][counter, :] = np.nan\n",
      "    counter += 1\n",
      "x = ds['DXT'].values\n",
      "x = np.ma.array(x, mask=np.isnan(x))\n",
      "dxt_cum = np.cumsum(x[:, ::-1], axis=1)[:, ::-1]\n",
      "ds['DXT_Cum'] = (('nlat', 'nlon'), dxt_cum)\n",
      "ds = ds.where(ds['DXT_Cum'] <= OFFSHORE)"
     ],
     "language": "python",
     "metadata": {},
     "outputs": [],
     "prompt_number": null
    },
    {
     "cell_type": "code",
     "collapsed": false,
     "input": [
      "ds_signal = ds[VAR]\n",
      "ds_signal['TAREA'] = ds['TAREA']\n",
      "ds_AW = ((ds_signal * ds['TAREA']).sum(dim='nlat').sum(dim='nlon')) \\\n",
      "         / ds['TAREA'].sum()\n",
      "ds_AW.name = VAR + '_AW'"
     ],
     "language": "python",
     "metadata": {},
     "outputs": [],
     "prompt_number": 23
    },
    {
     "cell_type": "code",
     "collapsed": false,
     "input": [
      "directory = ('/glade/work/rbrady/EBUS_BGC_Variability/' +\n",
      "             'Reynolds_Extracted/' + EBU + '/')\n",
      "ds_signal.to_dataset().to_netcdf(directory + \n",
      "                                 'Reynolds.' + VAR + '.' \n",
      "                                 + EBU + '.extracted.1982-2015.nc')\n",
      "ds_AW.to_dataset().to_netcdf(directory +\n",
      "                             'Reynolds.' + VAR + '.' + \n",
      "                              EBU + '.extracted_AW.1982-2015.nc')"
     ],
     "language": "python",
     "metadata": {},
     "outputs": [],
     "prompt_number": 17
    }
   ],
   "metadata": {}
  }
 ]
}