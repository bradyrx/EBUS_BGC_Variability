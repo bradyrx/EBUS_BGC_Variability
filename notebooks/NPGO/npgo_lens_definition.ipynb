{
 "cells": [
  {
   "cell_type": "markdown",
   "metadata": {},
   "source": [
    "# NPGO CESM-LENS Definition\n",
    "\n",
    "Date: October 9th, 2017\n",
    "\n",
    "Given the experimental setup of the CESM LENS, it makes more sense to generate residuals by simply removing the ensemble mean. Manu Di Lorenzio uses this in his 2016 paper in Nature Climate Change with Nate Mantua (as well as in an upcoming GRL paper). His strategy is as follows (with some additional steps added from me):\n",
    "\n",
    "** Use SST **\n",
    "\n",
    "1. Remove ensemble mean from raw time series of each ensemble member (e.g. using NCOs).\n",
    "\n",
    "2. Regrid the residuals to a 1$^{o}$x1$^{o}$ (180x360) standard global map.\n",
    "\n",
    "3. Take the Northeast Pacific domain (180-110W and 25-62N)\n",
    "\n",
    "4. Compute EOFs of the JFM (winter) seasonal means of SST_JFM(x, y, t), where t is now a JFM average of each year. Make sure to weight by the sqrt of the cosine of latitude.\n",
    "\n",
    "5. The first EOF will be the PDO pattern and the 2nd EOF will be NPGO dynamics.\n",
    "\n",
    "6. At this point, use the patterns of EOF1 (PDO) and EOF2 (NPGO) to project the monthly SSTa to reconstruct monthly indices for both PDO and NPGO.\n",
    "\n",
    "### Why do it this way?\n",
    "\n",
    "The expressions of PDO and NPGO are well defined during JFM in this region. This is because the atmospheric forcing is strongest during JFM. \n",
    "\n",
    "### References\n",
    "\n",
    "1. Di Lorenzo, E. and N. Mantua, 2016: Multi-year persistence of the 2014/15 North Pacific marine heatwave. Nature Climate Change, 6(11) 1042-+, doi:10.1038/nclimate3082. (**Especially the supplemental material**)\n",
    "\n",
    "2. Joh, Y. and E. Di Lorenzo: Increasing coupling between NPGO and PDO leads to prolonged marine heatwaves in the Northeast Pacific. Geophysical Research Letters, in review."
   ]
  },
  {
   "cell_type": "code",
   "execution_count": 75,
   "metadata": {
    "collapsed": true
   },
   "outputs": [],
   "source": [
    "import numpy as np\n",
    "import pandas as pd\n",
    "import xarray as xr\n",
    "import esmtools as et\n",
    "from eofs.xarray import Eof\n",
    "import matplotlib.pyplot as plt\n",
    "import cartopy.crs as ccrs\n",
    "import cartopy.feature as cfeature\n",
    "%matplotlib inline\n",
    "plt.style.use('ocn-clim')\n",
    "import glob"
   ]
  },
  {
   "cell_type": "code",
   "execution_count": 2,
   "metadata": {},
   "outputs": [
    {
     "name": "stdout",
     "output_type": "stream",
     "text": [
      "<xarray.DataArray 'SST' (time: 1152, lat: 180, lon: 360)>\n",
      "[74649600 values with dtype=float64]\n",
      "Coordinates:\n",
      "  * lon      (lon) float64 0.0 1.0 2.0 3.0 4.0 5.0 6.0 7.0 8.0 9.0 10.0 11.0 ...\n",
      "  * lat      (lat) float64 -89.5 -88.5 -87.5 -86.5 -85.5 -84.5 -83.5 -82.5 ...\n",
      "  * time     (time) datetime64[ns] 1920-01-31 1920-02-29 1920-03-31 ...\n"
     ]
    }
   ],
   "source": [
    "# Load in regridded SST residuals (global) from one simulation.\n",
    "ds = xr.open_dataset('/glade/scratch/rbrady/EBUS_BGC_Variability/global_residuals/SST/' +\n",
    "                     'remapped/remapped.SST.009.192001-201512.nc')\n",
    "ds = ds['SST']\n",
    "print(ds)"
   ]
  },
  {
   "cell_type": "code",
   "execution_count": 3,
   "metadata": {},
   "outputs": [],
   "source": [
    "# Slice down to the Northeast Pacific domain.\n",
    "ds = ds.sel(lat=slice(25, 62), lon=slice(180, 250))"
   ]
  },
  {
   "cell_type": "markdown",
   "metadata": {},
   "source": [
    "# Winter Averages"
   ]
  },
  {
   "cell_type": "code",
   "execution_count": 4,
   "metadata": {
    "collapsed": true
   },
   "outputs": [],
   "source": [
    "# Take annual JFM means.\n",
    "month = ds['time.month']\n",
    "JFM = (month <= 3)\n",
    "ds_winter = ds.where(JFM).resample('A','time')"
   ]
  },
  {
   "cell_type": "code",
   "execution_count": 5,
   "metadata": {},
   "outputs": [],
   "source": [
    "# Compute EOF.\n",
    "coslat = np.cos(np.deg2rad(ds_winter.lat.values))\n",
    "wgts = np.sqrt(coslat)[..., np.newaxis]\n",
    "# Center is false because I already computed the\n",
    "# anomalies by removing the ensemble mean.\n",
    "solver = Eof(ds_winter, weights=wgts, center=False)"
   ]
  },
  {
   "cell_type": "code",
   "execution_count": 7,
   "metadata": {},
   "outputs": [
    {
     "name": "stderr",
     "output_type": "stream",
     "text": [
      "/glade/u/home/rbrady/.local/lib/python3.6/site-packages/eofs/xarray.py:271: FutureWarning: Coordinate has been deprecated. Use IndexVariable instead.\n",
      "  attrs={'long_name': 'eof_mode_number'})\n",
      "/glade/u/home/rbrady/.local/lib/python3.6/site-packages/eofs/xarray.py:413: FutureWarning: Coordinate has been deprecated. Use IndexVariable instead.\n",
      "  attrs={'long_name': 'eof_mode_number'})\n",
      "/glade/u/home/rbrady/.local/lib/python3.6/site-packages/eofs/xarray.py:625: FutureWarning: Coordinate has been deprecated. Use IndexVariable instead.\n",
      "  attrs={'long_name': 'eof_mode_number'})\n"
     ]
    }
   ],
   "source": [
    "eof = solver.eofsAsCorrelation(neofs=2)\n",
    "#pc = solver.pcs(npcs=2, pcscaling=1)\n",
    "variance = solver.varianceFraction(neigs=2)\n",
    "# Reconstruct monthly index\n",
    "pseudo_pcs = solver.projectField(ds, neofs=2, eofscaling=1)"
   ]
  },
  {
   "cell_type": "code",
   "execution_count": null,
   "metadata": {
    "collapsed": true
   },
   "outputs": [],
   "source": [
    "from cartopy.mpl.gridliner import LONGITUDE_FORMATTER, LATITUDE_FORMATTER\n",
    "def EOF_map():\n",
    "    fig, ax = plt.subplots(figsize=(8,6), subplot_kw=dict(projection=ccrs.PlateCarree()))\n",
    "    gl = ax.gridlines(draw_labels=True, color='w', alpha=0.5)\n",
    "    gl.xlabels_top = False\n",
    "    gl.ylabels_right = False\n",
    "    gl.xformatter = LONGITUDE_FORMATTER\n",
    "    gl.yformatter = LATITUDE_FORMATTER\n",
    "    ax.add_feature(cfeature.LAND, facecolor='k')\n",
    "    ax.outline_patch.set_edgecolor('white')\n",
    "    return fig, ax"
   ]
  },
  {
   "cell_type": "code",
   "execution_count": null,
   "metadata": {},
   "outputs": [],
   "source": [
    "\n",
    "f, ax = EOF_map()\n",
    "p = eof[0].plot.contourf(transform=ccrs.PlateCarree(), add_colorbar=False,\n",
    "                cmap=\"RdYlBu_r\",\n",
    "                levels=np.arange(-0.8, 0.81, 0.1))\n",
    "ax.set_extent([-180,-115,25,62])\n",
    "plt.colorbar(p, orientation='horizontal', fraction=0.05, pad=0.05)\n",
    "ax.set_title('EOF 1 of JFM SSTa' + '\\n' + '[PDO]')"
   ]
  },
  {
   "cell_type": "code",
   "execution_count": null,
   "metadata": {},
   "outputs": [],
   "source": [
    "f, ax = EOF_map()\n",
    "p = eof[1].plot.contourf(transform=ccrs.PlateCarree(), add_colorbar=False,\n",
    "                cmap=\"RdYlBu_r\",\n",
    "                levels=np.arange(-0.8, 0.81, 0.1))\n",
    "ax.set_extent([-180,-115,25,62])\n",
    "plt.colorbar(p, orientation='horizontal', fraction=0.05, pad=0.05)\n",
    "ax.set_title('EOF 2 of JFM SSTa' + '\\n' + '[NPGO]')"
   ]
  },
  {
   "cell_type": "markdown",
   "metadata": {},
   "source": [
    "# Reconstructed monthly indices"
   ]
  },
  {
   "cell_type": "code",
   "execution_count": null,
   "metadata": {},
   "outputs": [],
   "source": [
    "f = plt.figure(figsize=(14,3))\n",
    "ax = f.add_subplot(111)\n",
    "pseudo_pcs[:,0].plot(linewidth=2, color='r', label='Brady')\n",
    "ax.set(xlim=['1920','2015-12'], title='PC 1', ylabel='')\n",
    "ax.legend()"
   ]
  },
  {
   "cell_type": "markdown",
   "metadata": {},
   "source": [
    "# Bring in Adam Phillip's PDO"
   ]
  },
  {
   "cell_type": "code",
   "execution_count": null,
   "metadata": {},
   "outputs": [],
   "source": [
    "ds_clim = xr.open_dataset('/glade/p/work/rbrady/cesmLE_CVDP/CESM1-CAM5-BGC-LE_009.cvdp_data.1920-2015.nc',\n",
    "                          decode_times=False)"
   ]
  },
  {
   "cell_type": "code",
   "execution_count": null,
   "metadata": {},
   "outputs": [],
   "source": [
    "ds_clim = ds_clim['pdo_timeseries_mon']"
   ]
  },
  {
   "cell_type": "code",
   "execution_count": null,
   "metadata": {},
   "outputs": [],
   "source": [
    "ds_clim['time'] = pd.date_range('1920-01','2015-12',freq='M')"
   ]
  },
  {
   "cell_type": "code",
   "execution_count": null,
   "metadata": {},
   "outputs": [],
   "source": [
    "ds_clim['time'] = pseudo_pcs['time']"
   ]
  },
  {
   "cell_type": "code",
   "execution_count": null,
   "metadata": {
    "collapsed": true
   },
   "outputs": [],
   "source": [
    "f = plt.figure(figsize=(14,3))\n",
    "ax = f.add_subplot(111)\n",
    "pseudo_pcs[:,0].plot(linewidth=2, color='r', label='Brady')\n",
    "ds_clim.plot(linewidth=2, color='k', label='Phillips')\n",
    "ax.set(xlim=['1920','2015-12'], title='PC 1', ylabel='')\n",
    "ax.legend()"
   ]
  }
 ],
 "metadata": {
  "kernelspec": {
   "display_name": "Python 3",
   "language": "python",
   "name": "python3"
  },
  "language_info": {
   "codemirror_mode": {
    "name": "ipython",
    "version": 3
   },
   "file_extension": ".py",
   "mimetype": "text/x-python",
   "name": "python",
   "nbconvert_exporter": "python",
   "pygments_lexer": "ipython3",
   "version": "3.6.2"
  }
 },
 "nbformat": 4,
 "nbformat_minor": 2
}
