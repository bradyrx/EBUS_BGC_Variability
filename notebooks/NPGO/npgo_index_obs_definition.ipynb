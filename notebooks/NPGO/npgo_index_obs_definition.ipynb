{
 "metadata": {
  "kernelspec": {
   "display_name": "Python 3",
   "language": "python",
   "name": "python3"
  },
  "language_info": {
   "codemirror_mode": {
    "name": "ipython",
    "version": 3
   },
   "file_extension": ".py",
   "mimetype": "text/x-python",
   "name": "python",
   "nbconvert_exporter": "python",
   "pygments_lexer": "ipython3",
   "version": "3.6.2"
  },
  "name": ""
 },
 "nbformat": 3,
 "nbformat_minor": 0,
 "worksheets": [
  {
   "cells": [
    {
     "cell_type": "markdown",
     "metadata": {},
     "source": [
      "# NPGO Index\n",
      "\n",
      "1. Regrid to a 1\u00b0 x 1\u00b0 (180x360) standard map. The CESM ocean model is on a tripolar curvilinear grid, so this seems like a good way to simplify the method.\n",
      "\n",
      "2. Remove the 1920-2015 SSH climatological monthly mean at each grid cell. I figure SSH is the way to go to exactly define NPGO, since SST describes the Victoria Mode.\n",
      "\n",
      "3. Linearly detrend these anomalies to remove any secular trend from GHG forcing.\n",
      "\n",
      "4. Multiply each grid cell by the cosine of latitude to area-weight.\n",
      "\n",
      "5. Perform an EOF analysis on the area-weighted SSHa field generated in the previous steps, spanning 180\u00b0-110\u00b0W and 25\u00b0 to 62\u00b0N. \n",
      "\n",
      "6. The NPGO time series will be defined as the second EOF/PC of this analysis."
     ]
    },
    {
     "cell_type": "code",
     "collapsed": true,
     "input": [
      "import numpy as np\n",
      "import pandas as pd\n",
      "import xarray as xr\n",
      "import esmtools as et\n",
      "import matplotlib.pyplot as plt\n",
      "%matplotlib inline\n",
      "import cartopy.crs as ccrs\n",
      "import cartopy.feature as cfeature\n",
      "from scipy import signal\n",
      "from eofs.xarray import Eof"
     ],
     "language": "python",
     "metadata": {},
     "outputs": [],
     "prompt_number": 1
    },
    {
     "cell_type": "heading",
     "level": 1,
     "metadata": {},
     "source": [
      "Analyzing output from serial code"
     ]
    },
    {
     "cell_type": "code",
     "collapsed": true,
     "input": [
      "ds = xr.open_dataset('/glade/u/home/rbrady/projects/EBUS_BGC_Variability/victoria.nc')"
     ],
     "language": "python",
     "metadata": {},
     "outputs": [],
     "prompt_number": 9
    },
    {
     "cell_type": "code",
     "collapsed": true,
     "input": [
      "ds = ds.squeeze()"
     ],
     "language": "python",
     "metadata": {},
     "outputs": [],
     "prompt_number": 10
    },
    {
     "cell_type": "code",
     "collapsed": true,
     "input": [
      "ds = ds*-1"
     ],
     "language": "python",
     "metadata": {},
     "outputs": [],
     "prompt_number": 11
    },
    {
     "cell_type": "code",
     "collapsed": false,
     "input": [
      "ds.pc.plot()"
     ],
     "language": "python",
     "metadata": {},
     "outputs": [],
     "prompt_number": 15
    },
    {
     "cell_type": "code",
     "collapsed": false,
     "input": [
      "ds['eof'].plot()"
     ],
     "language": "python",
     "metadata": {},
     "outputs": [],
     "prompt_number": 12
    },
    {
     "cell_type": "heading",
     "level": 1,
     "metadata": {},
     "source": [
      "Working out the technique itself..."
     ]
    },
    {
     "cell_type": "code",
     "collapsed": true,
     "input": [
      "# Filter down to domain of interest and to 1920-2015.\n",
      "ds = xr.open_dataset('/glade/scratch/rbrady/EBUS_BGC_Variability/SSH_monthly/remapped/' +\n",
      "                     'remapped.SSH.001.192001-210012.nc')\n",
      "ds['time'] = pd.date_range('1920-01', '2101-01', freq='M')\n",
      "ds = ds['SSH']\n",
      "ds = ds.sel(time=slice('1920-01', '2015-12'), lat=slice(25, 62),\n",
      "            lon=slice(180, 250))"
     ],
     "language": "python",
     "metadata": {},
     "outputs": [],
     "prompt_number": 2
    },
    {
     "cell_type": "code",
     "collapsed": false,
     "input": [
      "f, ax = et.vis.make_cartopy(projection=ccrs.PlateCarree())\n",
      "ds[0].plot.pcolormesh(transform=ccrs.PlateCarree(), add_colorbar=False)\n",
      "ax.set_extent([-180,-110,25,62])"
     ],
     "language": "python",
     "metadata": {},
     "outputs": [],
     "prompt_number": 3
    },
    {
     "cell_type": "code",
     "collapsed": true,
     "input": [
      "# Calculate the monthly averages at each grid cell.\n",
      "climatology = ds.groupby('time.month').mean(dim='time')\n",
      "\n",
      "# Compute the anomalies at each grid cell.\n",
      "anomalies = ds.groupby('time.month') - climatology\n",
      "\n",
      "# Get rid of ds to conserve memory.\n",
      "del ds"
     ],
     "language": "python",
     "metadata": {},
     "outputs": [],
     "prompt_number": 3
    },
    {
     "cell_type": "heading",
     "level": 1,
     "metadata": {},
     "source": [
      "EOF Analysis"
     ]
    },
    {
     "cell_type": "code",
     "collapsed": true,
     "input": [
      "ds = xr.open_dataset('/glade/u/home/rbrady/projects/EBUS_BGC_Variability/scripts/staging_area/test.nc')"
     ],
     "language": "python",
     "metadata": {},
     "outputs": [],
     "prompt_number": 26
    },
    {
     "cell_type": "code",
     "collapsed": true,
     "input": [
      "ds = ds.rename({'dim_0': 'time'})"
     ],
     "language": "python",
     "metadata": {},
     "outputs": [],
     "prompt_number": 34
    },
    {
     "cell_type": "code",
     "collapsed": true,
     "input": [
      "# Weight by cosine of latitude.\n",
      "coslat = np.cos(np.deg2rad(ds.lat.values))\n",
      "wgts = np.sqrt(coslat)[..., np.newaxis]\n",
      "# Compute the EOF analysis. \"Center\" defaults to True,\n",
      "# which removes the long term mean. However, I wanted\n",
      "# to remove the mean more carefully (by taking out\n",
      "# the monthly climatology), so I did it in advance.\n",
      "solver = Eof(anomalies, weights=wgts, center=False)"
     ],
     "language": "python",
     "metadata": {},
     "outputs": [],
     "prompt_number": 40
    },
    {
     "cell_type": "code",
     "collapsed": false,
     "input": [
      "eof = solver.eofsAsCorrelation(neofs=2)\n",
      "pc = solver.pcs(npcs=2, pcscaling=0)"
     ],
     "language": "python",
     "metadata": {},
     "outputs": [],
     "prompt_number": 41
    }
   ],
   "metadata": {}
  }
 ]
}