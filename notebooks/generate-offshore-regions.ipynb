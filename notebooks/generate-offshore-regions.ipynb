{
 "cells": [
  {
   "cell_type": "markdown",
   "metadata": {
    "collapsed": true
   },
   "source": [
    "# Generate Distinct Offshore Regions for EBUS Analysis\n",
    "- This is to maintain consistency in analyzing BGC in EBUS.\n",
    "- Generally following Turi et al. 2014"
   ]
  },
  {
   "cell_type": "code",
   "execution_count": 52,
   "metadata": {
    "collapsed": true
   },
   "outputs": [],
   "source": [
    "import glob\n",
    "\n",
    "# Numerics\n",
    "import numpy as np\n",
    "import pandas as pd\n",
    "import xarray as xr\n",
    "\n",
    "# Visualization\n",
    "import matplotlib.pyplot as plt\n",
    "%matplotlib inline\n",
    "from mpl_toolkits.basemap import Basemap"
   ]
  },
  {
   "cell_type": "code",
   "execution_count": 53,
   "metadata": {
    "collapsed": true
   },
   "outputs": [],
   "source": [
    "def setup_map(ax, lon, lat):\n",
    "    m = Basemap(projection='eqdc',\n",
    "                lat_0=np.nanmedian(lat),\n",
    "                lon_0=np.nanmedian(lon),\n",
    "                llcrnrlon=np.nanmin(lon),\n",
    "                urcrnrlon=np.nanmax(lon),\n",
    "                llcrnrlat=np.nanmin(lat),\n",
    "                urcrnrlat=np.nanmax(lat),\n",
    "                resolution='c')\n",
    "    m.drawcoastlines()\n",
    "    m.fillcontinents(color='black')\n",
    "    m.drawmapboundary(fill_color='white')\n",
    "    m.drawparallels(np.arange(np.floor(np.nanmin(lat)), \n",
    "                              np.ceil(np.nanmax(lat)), 3),\n",
    "                   labels=[True,False,False,False])\n",
    "    m.drawmeridians(np.arange(np.floor(np.nanmin(lon)), \n",
    "                              np.ceil(np.nanmax(lon)), 3),\n",
    "                   labels=[False, False, False, False])\n",
    "    return m"
   ]
  },
  {
   "cell_type": "code",
   "execution_count": 62,
   "metadata": {
    "collapsed": true
   },
   "outputs": [],
   "source": [
    "def drop_ensemble_dim(x):\n",
    "    ds[x] = (('nlat', 'nlon'), ds[x][0])\n",
    "    return ds"
   ]
  },
  {
   "cell_type": "code",
   "execution_count": 69,
   "metadata": {},
   "outputs": [],
   "source": [
    "# Load in dataset.\n",
    "fileDir = '/glade/p/work/rbrady/EBUS_BGC_Variability/FG_CO2/'\n",
    "#fileName = 'FG_CO2.001.CCS.192001-201512.nc'\n",
    "ds = xr.open_mfdataset(fileDir + \"*.nc\", concat_dim=\"ensemble\")"
   ]
  },
  {
   "cell_type": "code",
   "execution_count": 70,
   "metadata": {},
   "outputs": [],
   "source": [
    "# Reduce ensemble dimension for some\n",
    "ds = drop_ensemble_dim('DXT')\n",
    "ds = drop_ensemble_dim('TAREA')\n",
    "ds = drop_ensemble_dim('REGION_MASK')\n",
    "ds = drop_ensemble_dim('TLAT')\n",
    "ds = drop_ensemble_dim('TLONG')\n",
    "del ds['DYT']\n",
    "del ds['ANGLET']"
   ]
  },
  {
   "cell_type": "code",
   "execution_count": 72,
   "metadata": {},
   "outputs": [],
   "source": [
    "ds['DXT'] = ds['DXT'] / 100 / 1000 # Convert to km"
   ]
  },
  {
   "cell_type": "code",
   "execution_count": 73,
   "metadata": {
    "collapsed": true
   },
   "outputs": [],
   "source": [
    "ds.attrs['DXT units'] = \"km\""
   ]
  },
  {
   "cell_type": "code",
   "execution_count": 74,
   "metadata": {},
   "outputs": [
    {
     "data": {
      "text/plain": [
       "<xarray.Dataset>\n",
       "Dimensions:      (ensemble: 34, nlat: 46, nlon: 40, time: 1152)\n",
       "Coordinates:\n",
       "  * time         (time) datetime64[ns] 1920-01-31 1920-02-29 1920-03-31 ...\n",
       "  * nlat         (nlat) int64 265 266 267 268 269 270 271 272 273 274 275 ...\n",
       "  * nlon         (nlon) int64 226 227 228 229 230 231 232 233 234 235 236 ...\n",
       "    TLAT         (nlat, nlon) float64 25.14 25.12 25.09 25.07 25.04 25.02 ...\n",
       "    TLONG        (nlat, nlon) float64 215.0 216.1 217.3 218.4 219.5 220.6 ...\n",
       "  * ensemble     (ensemble) int64 0 1 2 3 4 5 6 7 8 9 10 11 12 13 14 15 16 ...\n",
       "Data variables:\n",
       "    REGION_MASK  (nlat, nlon) float64 2.0 2.0 2.0 2.0 2.0 2.0 2.0 2.0 2.0 ...\n",
       "    FG_CO2       (ensemble, time, nlat, nlon) float64 -1.122 -1.093 -1.052 ...\n",
       "    TAREA        (nlat, nlon) float64 6.575e+09 6.563e+09 6.55e+09 6.537e+09 ...\n",
       "    DXT          (nlat, nlon) float64 113.3 113.3 113.4 113.4 113.4 113.4 ...\n",
       "Attributes:\n",
       "    DXT units: km"
      ]
     },
     "execution_count": 74,
     "metadata": {},
     "output_type": "execute_result"
    }
   ],
   "source": [
    "ds"
   ]
  },
  {
   "cell_type": "markdown",
   "metadata": {},
   "source": [
    "# Plot the main output domain\n",
    "- First let's take an unfiltered look at the spatial region"
   ]
  },
  {
   "cell_type": "code",
   "execution_count": 75,
   "metadata": {},
   "outputs": [
    {
     "name": "stderr",
     "output_type": "stream",
     "text": [
      "/glade/u/home/rbrady/.local/lib/python2.7/site-packages/dask-0.14.3+38.g522c384-py2.7.egg/dask/array/numpy_compat.py:45: RuntimeWarning: invalid value encountered in divide\n",
      "  x = np.divide(x1, x2, out)\n"
     ]
    },
    {
     "data": {
      "text/plain": [
       "<matplotlib.colorbar.Colorbar at 0x2b0ddec01dd0>"
      ]
     },
     "execution_count": 75,
     "metadata": {},
     "output_type": "execute_result"
    },
    {
     "data": {
      "image/png": "[encoded data removed]",
      "text/plain": [
       "<matplotlib.figure.Figure at 0x2b0e8c22ff50>"
      ]
     },
     "metadata": {},
     "output_type": "display_data"
    }
   ],
   "source": [
    "lon = ds['TLONG']\n",
    "lat = ds['TLAT']\n",
    "data = ds['FG_CO2'].mean(dim='ensemble').mean(dim='time')\n",
    "\n",
    "fig = plt.figure(figsize=(4,4))\n",
    "ax1 = fig.add_subplot(111)\n",
    "m = setup_map(ax1, lon.values, lat.values)\n",
    "m.contourf(lon.values, lat.values, data.values, np.arange(-2,2.1,0.25), latlon=True,\n",
    "          cmap=\"RdBu_r\", extend=\"both\")\n",
    "m.colorbar(location=\"bottom\", ticks=[-2, -1, 0, 1, 2])"
   ]
  },
  {
   "cell_type": "markdown",
   "metadata": {},
   "source": [
    "# Filter out the latitude\n",
    "- Now take out everything south of some location"
   ]
  },
  {
   "cell_type": "code",
   "execution_count": 77,
   "metadata": {},
   "outputs": [],
   "source": [
    "# Filter the whole dataset to within latitude bands.\n",
    "ds = ds.where(ds.TLAT > 34).where(ds.TLAT < 44)\n",
    "\n",
    "# Create a masked array for DXT since it doesn't follow the same NaN structure as co2/region_mask.\n",
    "co2 = ds['FG_CO2'][0,0]\n",
    "co2 = np.ma.array(co2, mask=np.isnan(co2))\n",
    "\n",
    "# Apply mask to DXT and replace in dataset.\n",
    "dxt_dat = ds['DXT']\n",
    "dxt_dat = np.ma.array(dxt_dat, mask=np.isnan(co2))\n",
    "ds['DXT'] = (('nlat', 'nlon'), dxt_dat)"
   ]
  },
  {
   "cell_type": "code",
   "execution_count": 79,
   "metadata": {},
   "outputs": [],
   "source": [
    "regmask = ds['REGION_MASK']\n",
    "counter = 0\n",
    "for row in regmask:\n",
    "    conditional = 0 in row.values\n",
    "    if conditional == False:\n",
    "        ds['DXT'][counter, :] = np.nan            \n",
    "    counter += 1"
   ]
  },
  {
   "cell_type": "code",
   "execution_count": 80,
   "metadata": {},
   "outputs": [
    {
     "data": {
      "text/plain": [
       "<matplotlib.collections.QuadMesh at 0x2b0ddde6c250>"
      ]
     },
     "execution_count": 80,
     "metadata": {},
     "output_type": "execute_result"
    },
    {
     "data": {
      "image/png": "[encoded data removed]",
      "text/plain": [
       "<matplotlib.figure.Figure at 0x2b0fd021bd50>"
      ]
     },
     "metadata": {},
     "output_type": "display_data"
    }
   ],
   "source": [
    "ds['DXT'].plot()"
   ]
  },
  {
   "cell_type": "code",
   "execution_count": 81,
   "metadata": {
    "collapsed": true
   },
   "outputs": [],
   "source": [
    "# Now create a cumulative sum of DXTs. Have to use masked array so it doesn't have issues summing nans.\n",
    "x = ds['DXT'].values\n",
    "x_masked = np.ma.array(x, mask=np.isnan(x))\n",
    "dxt_cum = np.cumsum(x_masked[:, ::-1], axis=1)[:, ::-1]\n",
    "ds['DXT_Cum'] = (('nlat', 'nlon'), dxt_cum)"
   ]
  },
  {
   "cell_type": "code",
   "execution_count": 82,
   "metadata": {},
   "outputs": [],
   "source": [
    "# Filter to 800km offshore\n",
    "ds = ds.where(ds['DXT_Cum'] <= 800)"
   ]
  }
 ],
 "metadata": {
  "kernelspec": {
   "display_name": "Python 2",
   "language": "python",
   "name": "python2"
  },
  "language_info": {
   "codemirror_mode": {
    "name": "ipython",
    "version": 2
   },
   "file_extension": ".py",
   "mimetype": "text/x-python",
   "name": "python",
   "nbconvert_exporter": "python",
   "pygments_lexer": "ipython2",
   "version": "2.7.7"
  }
 },
 "nbformat": 4,
 "nbformat_minor": 2
}
