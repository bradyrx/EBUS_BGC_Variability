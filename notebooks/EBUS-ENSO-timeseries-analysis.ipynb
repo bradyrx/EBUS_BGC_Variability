{
 "cells": [
  {
   "cell_type": "markdown",
   "metadata": {},
   "source": [
    "# EBUS-ENSO Timeseries Analysis\n",
    "- Taking output from the EBUS_extraction.py script to analyze it in coordination with Adam Phillip's CVDP output (starting with Nino 3.4)\n",
    "- First step is to work with CCS, since that's a comfortable area."
   ]
  },
  {
   "cell_type": "code",
   "execution_count": 1,
   "metadata": {
    "collapsed": true
   },
   "outputs": [],
   "source": [
    "# UNIX-style globbing\n",
    "import glob\n",
    "\n",
    "# Numerics\n",
    "import numpy as np\n",
    "import pandas as pd\n",
    "import xarray as xr\n",
    "from scipy import signal\n",
    "from scipy import stats\n",
    "\n",
    "# Visualization\n",
    "import matplotlib.pyplot as plt\n",
    "%matplotlib inline\n",
    "\n",
    "from pylab import *\n",
    "\n",
    "from mpl_toolkits.basemap import Basemap\n",
    "\n",
    "import seaborn as sns\n",
    "sns.set(color_codes=True)\n",
    "\n",
    "import statsmodels.api as sm\n",
    "\n",
    "import scipy.fftpack"
   ]
  },
  {
   "cell_type": "markdown",
   "metadata": {},
   "source": [
    "# Functions\n",
    "- For visibility in the Notebook"
   ]
  },
  {
   "cell_type": "code",
   "execution_count": 2,
   "metadata": {
    "collapsed": true
   },
   "outputs": [],
   "source": [
    "# Constants\n",
    "colors = {\n",
    "    'CalCS': '#80b1d3',\n",
    "    'HumCS': '#fb8072',\n",
    "    'CanCS': '#fdb462',\n",
    "    'BenCS': '#bc80bd'\n",
    "}"
   ]
  },
  {
   "cell_type": "code",
   "execution_count": 3,
   "metadata": {
    "collapsed": true
   },
   "outputs": [],
   "source": [
    "def detrend_nino(x):\n",
    "    return signal.detrend(x)"
   ]
  },
  {
   "cell_type": "code",
   "execution_count": 4,
   "metadata": {
    "collapsed": true
   },
   "outputs": [],
   "source": [
    "def compute_correlations(carbonData, climateData):\n",
    "    slope, intercept, r_value, p_value, std_err = stats.linregress(climateData, carbonData)\n",
    "    return slope, r_value, r_value**2, p_value"
   ]
  },
  {
   "cell_type": "code",
   "execution_count": 5,
   "metadata": {
    "collapsed": true
   },
   "outputs": [],
   "source": [
    "def smooth_series(x, len):\n",
    "    return pd.rolling_mean(x, len, center=False)"
   ]
  },
  {
   "cell_type": "code",
   "execution_count": 6,
   "metadata": {
    "collapsed": true
   },
   "outputs": [],
   "source": [
    "def drop_ensemble_dim(ds, x):\n",
    "    ds[x] = (('nlat','nlon'), ds[x][0])\n",
    "    return ds"
   ]
  },
  {
   "cell_type": "code",
   "execution_count": 7,
   "metadata": {
    "collapsed": true
   },
   "outputs": [],
   "source": [
    "def setup_map(ax, lon, lat, lat1=np.nan, lat2=np.nan,\n",
    "              lon1=np.nan, lon2=np.nan):\n",
    "    if np.isnan(lat1):\n",
    "        lat1=np.nanmin(lat)\n",
    "        lat2=np.nanmax(lat)\n",
    "        lon1=np.nanmin(lon)\n",
    "        lon2=np.nanmax(lon)\n",
    "    m = Basemap(projection='eqdc',\n",
    "                lat_0=(lat1 + lat2)/2,\n",
    "                lon_0=(lon1 + lon2)/2,\n",
    "                llcrnrlon=lon1,\n",
    "                urcrnrlon=lon2,\n",
    "                llcrnrlat=lat1,\n",
    "                urcrnrlat=lat2,\n",
    "                resolution='c')\n",
    "    m.drawcoastlines()\n",
    "    #m.fillcontinents(color='black')\n",
    "    m.drawmapboundary(fill_color='white')\n",
    "    m.drawparallels(np.arange(np.floor(np.nanmin(lat)), \n",
    "                              np.ceil(np.nanmax(lat)), 3),\n",
    "                   labels=[True,False,False,False], size='x-large')\n",
    "    m.drawmeridians(np.arange(np.floor(np.nanmin(lon)), \n",
    "                              np.ceil(np.nanmax(lon)), 3),\n",
    "                   labels=[False, False, False, True], size='x-large')\n",
    "    return m"
   ]
  },
  {
   "cell_type": "code",
   "execution_count": 8,
   "metadata": {
    "collapsed": true
   },
   "outputs": [],
   "source": [
    "def chavez_bounds(x):\n",
    "    if x == \"CalCS\":\n",
    "        lat1 = 34\n",
    "        lat2 = 44\n",
    "    elif x == \"CanCS\":\n",
    "        lat1 = 12\n",
    "        lat2 = 22\n",
    "    elif x == \"BenCS\":\n",
    "        lat1 = -28\n",
    "        lat2 = -18\n",
    "    elif x == \"HumCS\":\n",
    "        lat1 = -16\n",
    "        lat2 = -6\n",
    "    else:\n",
    "        raise ValueError('\\n' + 'Must select from the following EBUS strings:'\n",
    "                         + '\\n' + 'CalCS' + '\\n' + 'CanCS' + '\\n' + 'BenCS' +\n",
    "                         '\\n' + 'HumCS')\n",
    "    return lat1, lat2"
   ]
  },
  {
   "cell_type": "markdown",
   "metadata": {},
   "source": [
    "# Filter Region"
   ]
  },
  {
   "cell_type": "code",
   "execution_count": 9,
   "metadata": {
    "collapsed": true
   },
   "outputs": [],
   "source": [
    "EBU = \"CalCS\"\n",
    "fileDir = '/glade/p/work/rbrady/EBUS_BGC_Variability/FG_CO2/' + EBU + '/'\n",
    "ds = xr.open_mfdataset(fileDir + '*.nc', concat_dim='ensemble')"
   ]
  },
  {
   "cell_type": "code",
   "execution_count": 10,
   "metadata": {
    "collapsed": true
   },
   "outputs": [],
   "source": [
    "# Reduce ensemble dimension for coordinates.\n",
    "ds = drop_ensemble_dim(ds, 'DXT')\n",
    "ds = drop_ensemble_dim(ds, 'TAREA')\n",
    "ds = drop_ensemble_dim(ds, 'REGION_MASK')\n",
    "ds = drop_ensemble_dim(ds, 'TLAT')\n",
    "if EBU != \"HumCS\":\n",
    "    ds = drop_ensemble_dim(ds, 'TLONG')\n",
    "del ds['DYT']\n",
    "del ds['ANGLET']\n",
    "# Convert DXT to kilometers.\n",
    "ds['DXT'] = ds['DXT'] / 100 / 1000"
   ]
  },
  {
   "cell_type": "code",
   "execution_count": 11,
   "metadata": {
    "collapsed": true
   },
   "outputs": [],
   "source": [
    "# Filter out latitude \n",
    "lat1, lat2 = chavez_bounds(EBU)\n",
    "ds = ds.where(ds['TLAT'] >= lat1).where(ds['TLAT'] <= lat2)"
   ]
  },
  {
   "cell_type": "code",
   "execution_count": 12,
   "metadata": {
    "collapsed": true
   },
   "outputs": [],
   "source": [
    "# Create a masked array for DXT since it doesn't follow the same NaN structure.\n",
    "co2 = ds['FG_CO2'][0,0]\n",
    "co2 = np.ma.array(co2, mask=np.isnan(co2))\n",
    "dxt_dat = ds['DXT']\n",
    "dxt_dat= np.ma.array(dxt_dat, mask=np.isnan(co2))\n",
    "ds['DXT'] = (('nlat','nlon'), dxt_dat)"
   ]
  },
  {
   "cell_type": "code",
   "execution_count": 13,
   "metadata": {
    "collapsed": true
   },
   "outputs": [],
   "source": [
    "# Filter out rows without a coastline to reference.\n",
    "regmask = ds['REGION_MASK']\n",
    "counter = 0 \n",
    "for row in regmask:\n",
    "    conditional = 0 in row.values\n",
    "    if conditional == False:\n",
    "        ds['DXT'][counter, :] = np.nan\n",
    "    counter += 1"
   ]
  },
  {
   "cell_type": "code",
   "execution_count": 14,
   "metadata": {
    "collapsed": true
   },
   "outputs": [],
   "source": [
    "# Now create new variable for dist2coast\n",
    "x = ds['DXT'].values\n",
    "x = np.ma.array(x, mask=np.isnan(x))\n",
    "dxt_cum = np.cumsum(x[:, ::-1], axis=1)[:, ::-1]\n",
    "ds['DXT_Cum'] = (('nlat','nlon'), dxt_cum)"
   ]
  },
  {
   "cell_type": "code",
   "execution_count": 15,
   "metadata": {
    "collapsed": true
   },
   "outputs": [],
   "source": [
    "# Filter within 800km of coastline.\n",
    "ds = ds.where(ds['DXT_Cum'] <= 800)"
   ]
  },
  {
   "cell_type": "markdown",
   "metadata": {},
   "source": [
    "# Plot Study Region"
   ]
  },
  {
   "cell_type": "code",
   "execution_count": null,
   "metadata": {
    "collapsed": true
   },
   "outputs": [],
   "source": [
    "# Convert all non-nan values to a constant to just plot the domain as one color.\n",
    "data = np.asarray(ds['FG_CO2'][0].mean(dim='time'))\n",
    "mask = ~np.isnan(data)\n",
    "data[mask] = 999"
   ]
  },
  {
   "cell_type": "code",
   "execution_count": null,
   "metadata": {
    "collapsed": true
   },
   "outputs": [],
   "source": [
    "lon = ds['TLONG'].values\n",
    "lat = ds['TLAT'].values\n",
    "#data = ds['FG_CO2'][0].mean(dim='time')\n",
    "data = np.ma.array(data, mask=np.isnan(data))\n",
    "\n",
    "\n",
    "fig = plt.figure(figsize=(9,9))\n",
    "ax = fig.add_subplot(111)\n",
    "m = setup_map(ax,lon,lat, lat1=10, lat2=25, lon1=-25, lon2=-10)\n",
    "m.drawcountries()\n",
    "#m.drawstates()\n",
    "m.pcolor(lon, lat, data, vmin=0, vmax = 1500,\n",
    "          latlon=True, cmap=\"Blues\", edgecolors='white')\n",
    "plt.title('Canary Current Study Site', size=24)\n",
    "plt.savefig('canary-current-study-site.png')"
   ]
  },
  {
   "cell_type": "markdown",
   "metadata": {},
   "source": [
    "# Residuals Plotting\n",
    "Create a residuals dataset from the above and compare it to climate data"
   ]
  },
  {
   "cell_type": "code",
   "execution_count": 16,
   "metadata": {
    "collapsed": true
   },
   "outputs": [],
   "source": [
    "ds_residuals = ds['FG_CO2'] - ds['FG_CO2'].mean(dim='ensemble')"
   ]
  },
  {
   "cell_type": "code",
   "execution_count": 17,
   "metadata": {
    "collapsed": true
   },
   "outputs": [],
   "source": [
    "# Area-weighting\n",
    "ds_residuals = ((ds_residuals * ds['TAREA']).sum(dim='nlat').sum(dim='nlon'))/ds['TAREA'].sum()"
   ]
  },
  {
   "cell_type": "code",
   "execution_count": null,
   "metadata": {
    "collapsed": true
   },
   "outputs": [],
   "source": [
    "fig = plt.figure(figsize=(18,4))\n",
    "ds_residuals[0].plot()\n",
    "plt.xlabel('Time', size='x-large')\n",
    "plt.ylabel('FG_CO2 (mol/m2/yr)', size='x-large')\n",
    "plt.tick_params(axis='both', which='major', labelsize=15)\n",
    "plt.title('Simulation 001 CCS FG_CO2 Anomaly (1920-2015)', size='x-large')\n",
    "#plt.savefig('ccs-unfiltered-fgco2-series-example.png')"
   ]
  },
  {
   "cell_type": "markdown",
   "metadata": {},
   "source": [
    "# Smooth Series"
   ]
  },
  {
   "cell_type": "code",
   "execution_count": null,
   "metadata": {
    "collapsed": true
   },
   "outputs": [],
   "source": [
    "data = ds_residuals[0].values\n",
    "smoothed_data = smooth_series(data, 12)"
   ]
  },
  {
   "cell_type": "code",
   "execution_count": null,
   "metadata": {
    "collapsed": true
   },
   "outputs": [],
   "source": [
    "fig = plt.figure(figsize=(18,4))\n",
    "t = ds_residuals['time'].values\n",
    "plt.plot(t, data, color=colors[EBU])\n",
    "plt.plot(t, smoothed_data, '-k')\n",
    "plt.ylabel('FG_CO2 (mol/m2/yr)', size=20)\n",
    "plt.title('Simulation 001 BenCS FG_CO2 Anomaly, Annual Smoothing (1920-2015)', size=25)\n",
    "plt.tick_params(axis='both', which='major', labelsize=20)\n",
    "plt.savefig('bencs-filtered-fgco2-series-example.png')"
   ]
  },
  {
   "cell_type": "markdown",
   "metadata": {},
   "source": [
    "# FFT"
   ]
  },
  {
   "cell_type": "code",
   "execution_count": 18,
   "metadata": {},
   "outputs": [
    {
     "name": "stderr",
     "output_type": "stream",
     "text": [
      "/glade/u/home/rbrady/.local/lib/python2.7/site-packages/dask/array/numpy_compat.py:45: RuntimeWarning: invalid value encountered in divide\n",
      "  x = np.divide(x1, x2, out)\n"
     ]
    }
   ],
   "source": [
    "data = ds_residuals[0].values\n",
    "hann = np.hanning(len(data))"
   ]
  },
  {
   "cell_type": "code",
   "execution_count": 19,
   "metadata": {
    "collapsed": true
   },
   "outputs": [],
   "source": [
    "Y = np.fft.fft(hann*data)"
   ]
  },
  {
   "cell_type": "code",
   "execution_count": 20,
   "metadata": {
    "collapsed": true
   },
   "outputs": [],
   "source": [
    "N = len(Y)/2+1"
   ]
  },
  {
   "cell_type": "code",
   "execution_count": 32,
   "metadata": {},
   "outputs": [
    {
     "name": "stdout",
     "output_type": "stream",
     "text": [
      "fa=0.0000003858Hz (Frequency)\n"
     ]
    }
   ],
   "source": [
    "T = 1.0/(30*24*60*60) # Sampled once every month\n",
    "X = np.linspace(0, T/2, N, endpoint=True)"
   ]
  },
  {
   "cell_type": "code",
   "execution_count": 1,
   "metadata": {},
   "outputs": [
    {
     "ename": "NameError",
     "evalue": "name 'plt' is not defined",
     "output_type": "error",
     "traceback": [
      "\u001b[0;31m\u001b[0m",
      "\u001b[0;31mNameError\u001b[0mTraceback (most recent call last)",
      "\u001b[0;32m<ipython-input-1-a5bce268da92>\u001b[0m in \u001b[0;36m<module>\u001b[0;34m()\u001b[0m\n\u001b[0;32m----> 1\u001b[0;31m \u001b[0mfig\u001b[0m \u001b[0;34m=\u001b[0m \u001b[0mplt\u001b[0m\u001b[0;34m.\u001b[0m\u001b[0mfigure\u001b[0m\u001b[0;34m(\u001b[0m\u001b[0mfigsize\u001b[0m\u001b[0;34m=\u001b[0m\u001b[0;34m(\u001b[0m\u001b[0;36m18\u001b[0m\u001b[0;34m,\u001b[0m\u001b[0;36m4\u001b[0m\u001b[0;34m)\u001b[0m\u001b[0;34m)\u001b[0m\u001b[0;34m\u001b[0m\u001b[0m\n\u001b[0m\u001b[1;32m      2\u001b[0m \u001b[0mplt\u001b[0m\u001b[0;34m.\u001b[0m\u001b[0mplot\u001b[0m\u001b[0;34m(\u001b[0m\u001b[0;36m2.0\u001b[0m\u001b[0;34m*\u001b[0m\u001b[0mnp\u001b[0m\u001b[0;34m.\u001b[0m\u001b[0mabs\u001b[0m\u001b[0;34m(\u001b[0m\u001b[0mY\u001b[0m\u001b[0;34m[\u001b[0m\u001b[0;34m:\u001b[0m\u001b[0mN\u001b[0m\u001b[0;34m]\u001b[0m\u001b[0;34m)\u001b[0m\u001b[0;34m/\u001b[0m\u001b[0mN\u001b[0m\u001b[0;34m,\u001b[0m \u001b[0mcolor\u001b[0m\u001b[0;34m=\u001b[0m\u001b[0;34m'r'\u001b[0m\u001b[0;34m)\u001b[0m\u001b[0;34m\u001b[0m\u001b[0m\n\u001b[1;32m      3\u001b[0m \u001b[0mplt\u001b[0m\u001b[0;34m.\u001b[0m\u001b[0mxlabel\u001b[0m\u001b[0;34m(\u001b[0m\u001b[0;34m'Frequency ($Hz$)'\u001b[0m\u001b[0;34m,\u001b[0m \u001b[0msize\u001b[0m\u001b[0;34m=\u001b[0m\u001b[0;34m'x-large'\u001b[0m\u001b[0;34m)\u001b[0m\u001b[0;34m\u001b[0m\u001b[0m\n\u001b[1;32m      4\u001b[0m \u001b[0mplt\u001b[0m\u001b[0;34m.\u001b[0m\u001b[0mtitle\u001b[0m\u001b[0;34m(\u001b[0m\u001b[0;34m'FFT of HCS FG_CO2 for Simulation 001'\u001b[0m\u001b[0;34m,\u001b[0m \u001b[0msize\u001b[0m\u001b[0;34m=\u001b[0m\u001b[0;34m'x-large'\u001b[0m\u001b[0;34m)\u001b[0m\u001b[0;34m\u001b[0m\u001b[0m\n\u001b[1;32m      5\u001b[0m \u001b[0mplt\u001b[0m\u001b[0;34m.\u001b[0m\u001b[0mtick_params\u001b[0m\u001b[0;34m(\u001b[0m\u001b[0maxis\u001b[0m\u001b[0;34m=\u001b[0m\u001b[0;34m'both'\u001b[0m\u001b[0;34m,\u001b[0m \u001b[0mwhich\u001b[0m\u001b[0;34m=\u001b[0m\u001b[0;34m'major'\u001b[0m\u001b[0;34m,\u001b[0m \u001b[0mlabelsize\u001b[0m\u001b[0;34m=\u001b[0m\u001b[0;36m15\u001b[0m\u001b[0;34m)\u001b[0m\u001b[0;34m\u001b[0m\u001b[0m\n",
      "\u001b[0;31mNameError\u001b[0m: name 'plt' is not defined"
     ]
    }
   ],
   "source": [
    "fig = plt.figure(figsize=(18,4))\n",
    "plt.plot(X, 2.0*np.abs(Y[:N])/N, color='r')\n",
    "plt.xlabel('Frequency ($Hz$)', size='x-large')\n",
    "plt.title('FFT of HCS FG_CO2 for Simulation 001', size='x-large')\n",
    "plt.tick_params(axis='both', which='major', labelsize=15)\n",
    "#plt.savefig('fft-HCS-001-frequencyHz.png')"
   ]
  },
  {
   "cell_type": "code",
   "execution_count": 33,
   "metadata": {},
   "outputs": [
    {
     "data": {
      "text/plain": [
       "(0, 365)"
      ]
     },
     "execution_count": 33,
     "metadata": {},
     "output_type": "execute_result"
    },
    {
     "data": {
      "image/png": "[encoded data removed]",
      "text/plain": [
       "<matplotlib.figure.Figure at 0x2b0902391590>"
      ]
     },
     "metadata": {},
     "output_type": "display_data"
    }
   ],
   "source": [
    "# Same plot but in Period\n",
    "Xp = 1.0/X # Inverse to seconds\n",
    "Xpd= Xp/(60.0 * 60.0 * 24) # in days\n",
    "fig = plt.figure(figsize=(18,4))\n",
    "plt.plot(Xpd, 2.0*np.abs(Y[:N])/N, color='r')\n",
    "plt.xlabel('Frequency ($Hz$)', size='x-large')\n",
    "plt.title('FFT of HCS FG_CO2 for Simulation 001', size='x-large')\n",
    "plt.tick_params(axis='both', which='major', labelsize=15)\n",
    "plt.xlim([0, 365])"
   ]
  },
  {
   "cell_type": "code",
   "execution_count": 37,
   "metadata": {},
   "outputs": [
    {
     "data": {
      "text/plain": [
       "array([             inf,  829440.        ,  414720.        ,\n",
       "        276480.        ,  207360.        ,  165888.        ,\n",
       "        138240.        ,  118491.42857143,  103680.        ,\n",
       "         92160.        ,   82944.        ,   75403.63636364,\n",
       "         69120.        ,   63803.07692308,   59245.71428571,\n",
       "         55296.        ,   51840.        ,   48790.58823529,\n",
       "         46080.        ,   43654.73684211,   41472.        ,\n",
       "         39497.14285714,   37701.81818182,   36062.60869565,\n",
       "         34560.        ,   33177.6       ,   31901.53846154,\n",
       "         30720.        ,   29622.85714286,   28601.37931034,\n",
       "         27648.        ,   26756.12903226,   25920.        ,\n",
       "         25134.54545455,   24395.29411765,   23698.28571429,\n",
       "         23040.        ,   22417.2972973 ,   21827.36842105,\n",
       "         21267.69230769,   20736.        ,   20230.24390244,\n",
       "         19748.57142857,   19289.30232558,   18850.90909091,\n",
       "         18432.        ,   18031.30434783,   17647.65957447,\n",
       "         17280.        ,   16927.34693878,   16588.8       ,\n",
       "         16263.52941176,   15950.76923077,   15649.81132075,\n",
       "         15360.        ,   15080.72727273,   14811.42857143,\n",
       "         14551.57894737,   14300.68965517,   14058.30508475,\n",
       "         13824.        ,   13597.37704918,   13378.06451613,\n",
       "         13165.71428571,   12960.        ,   12760.61538462,\n",
       "         12567.27272727,   12379.70149254,   12197.64705882,\n",
       "         12020.86956522,   11849.14285714,   11682.25352113,\n",
       "         11520.        ,   11362.19178082,   11208.64864865,\n",
       "         11059.2       ,   10913.68421053,   10771.94805195,\n",
       "         10633.84615385,   10499.24050633,   10368.        ,\n",
       "         10240.        ,   10115.12195122,    9993.25301205,\n",
       "          9874.28571429,    9758.11764706,    9644.65116279,\n",
       "          9533.79310345,    9425.45454545,    9319.5505618 ,\n",
       "          9216.        ,    9114.72527473,    9015.65217391,\n",
       "          8918.70967742,    8823.82978723,    8730.94736842,\n",
       "          8640.        ,    8550.92783505,    8463.67346939,\n",
       "          8378.18181818,    8294.4       ,    8212.27722772,\n",
       "          8131.76470588,    8052.81553398,    7975.38461538,\n",
       "          7899.42857143,    7824.90566038,    7751.77570093,\n",
       "          7680.        ,    7609.5412844 ,    7540.36363636,\n",
       "          7472.43243243,    7405.71428571,    7340.17699115,\n",
       "          7275.78947368,    7212.52173913,    7150.34482759,\n",
       "          7089.23076923,    7029.15254237,    6970.08403361,\n",
       "          6912.        ,    6854.87603306,    6798.68852459,\n",
       "          6743.41463415,    6689.03225806,    6635.52      ,\n",
       "          6582.85714286,    6531.02362205,    6480.        ,\n",
       "          6429.76744186,    6380.30769231,    6331.60305344,\n",
       "          6283.63636364,    6236.39097744,    6189.85074627,\n",
       "          6144.        ,    6098.82352941,    6054.30656934,\n",
       "          6010.43478261,    5967.1942446 ,    5924.57142857,\n",
       "          5882.55319149,    5841.12676056,    5800.27972028,\n",
       "          5760.        ,    5720.27586207,    5681.09589041,\n",
       "          5642.44897959,    5604.32432432,    5566.7114094 ,\n",
       "          5529.6       ,    5492.98013245,    5456.84210526,\n",
       "          5421.17647059,    5385.97402597,    5351.22580645,\n",
       "          5316.92307692,    5283.05732484,    5249.62025316,\n",
       "          5216.60377358,    5184.        ,    5151.80124224,\n",
       "          5120.        ,    5088.58895706,    5057.56097561,\n",
       "          5026.90909091,    4996.62650602,    4966.70658683,\n",
       "          4937.14285714,    4907.92899408,    4879.05882353,\n",
       "          4850.52631579,    4822.3255814 ,    4794.45086705,\n",
       "          4766.89655172,    4739.65714286,    4712.72727273,\n",
       "          4686.10169492,    4659.7752809 ,    4633.74301676,\n",
       "          4608.        ,    4582.54143646,    4557.36263736,\n",
       "          4532.45901639,    4507.82608696,    4483.45945946,\n",
       "          4459.35483871,    4435.50802139,    4411.91489362,\n",
       "          4388.57142857,    4365.47368421,    4342.61780105,\n",
       "          4320.        ,    4297.61658031,    4275.46391753,\n",
       "          4253.53846154,    4231.83673469,    4210.35532995,\n",
       "          4189.09090909,    4168.04020101,    4147.2       ,\n",
       "          4126.56716418,    4106.13861386,    4085.91133005,\n",
       "          4065.88235294,    4046.04878049,    4026.40776699,\n",
       "          4006.95652174,    3987.69230769,    3968.61244019,\n",
       "          3949.71428571,    3930.99526066,    3912.45283019,\n",
       "          3894.08450704,    3875.88785047,    3857.86046512,\n",
       "          3840.        ,    3822.30414747,    3804.7706422 ,\n",
       "          3787.39726027,    3770.18181818,    3753.12217195,\n",
       "          3736.21621622,    3719.46188341,    3702.85714286,\n",
       "          3686.4       ,    3670.08849558,    3653.92070485,\n",
       "          3637.89473684,    3622.00873362,    3606.26086957,\n",
       "          3590.64935065,    3575.17241379,    3559.82832618,\n",
       "          3544.61538462,    3529.53191489,    3514.57627119,\n",
       "          3499.74683544,    3485.04201681,    3470.46025105,\n",
       "          3456.        ,    3441.65975104,    3427.43801653,\n",
       "          3413.33333333,    3399.3442623 ,    3385.46938776,\n",
       "          3371.70731707,    3358.05668016,    3344.51612903,\n",
       "          3331.08433735,    3317.76      ,    3304.54183267,\n",
       "          3291.42857143,    3278.41897233,    3265.51181102,\n",
       "          3252.70588235,    3240.        ,    3227.39299611,\n",
       "          3214.88372093,    3202.47104247,    3190.15384615,\n",
       "          3177.93103448,    3165.80152672,    3153.76425856,\n",
       "          3141.81818182,    3129.96226415,    3118.19548872,\n",
       "          3106.51685393,    3094.92537313,    3083.42007435,\n",
       "          3072.        ,    3060.66420664,    3049.41176471,\n",
       "          3038.24175824,    3027.15328467,    3016.14545455,\n",
       "          3005.2173913 ,    2994.36823105,    2983.5971223 ,\n",
       "          2972.90322581,    2962.28571429,    2951.74377224,\n",
       "          2941.27659574,    2930.88339223,    2920.56338028,\n",
       "          2910.31578947,    2900.13986014,    2890.03484321,\n",
       "          2880.        ,    2870.03460208,    2860.13793103,\n",
       "          2850.30927835,    2840.54794521,    2830.85324232,\n",
       "          2821.2244898 ,    2811.66101695,    2802.16216216,\n",
       "          2792.72727273,    2783.3557047 ,    2774.04682274,\n",
       "          2764.8       ,    2755.61461794,    2746.49006623,\n",
       "          2737.42574257,    2728.42105263,    2719.47540984,\n",
       "          2710.58823529,    2701.75895765,    2692.98701299,\n",
       "          2684.27184466,    2675.61290323,    2667.0096463 ,\n",
       "          2658.46153846,    2649.96805112,    2641.52866242,\n",
       "          2633.14285714,    2624.81012658,    2616.52996845,\n",
       "          2608.30188679,    2600.12539185,    2592.        ,\n",
       "          2583.92523364,    2575.90062112,    2567.92569659,\n",
       "          2560.        ,    2552.12307692,    2544.29447853,\n",
       "          2536.51376147,    2528.7804878 ,    2521.09422492,\n",
       "          2513.45454545,    2505.86102719,    2498.31325301,\n",
       "          2490.81081081,    2483.35329341,    2475.94029851,\n",
       "          2468.57142857,    2461.2462908 ,    2453.96449704,\n",
       "          2446.72566372,    2439.52941176,    2432.37536657,\n",
       "          2425.26315789,    2418.19241983,    2411.1627907 ,\n",
       "          2404.17391304,    2397.22543353,    2390.31700288,\n",
       "          2383.44827586,    2376.61891117,    2369.82857143,\n",
       "          2363.07692308,    2356.36363636,    2349.68838527,\n",
       "          2343.05084746,    2336.45070423,    2329.88764045,\n",
       "          2323.36134454,    2316.87150838,    2310.4178273 ,\n",
       "          2304.        ,    2297.61772853,    2291.27071823,\n",
       "          2284.95867769,    2278.68131868,    2272.43835616,\n",
       "          2266.2295082 ,    2260.05449591,    2253.91304348,\n",
       "          2247.80487805,    2241.72972973,    2235.68733154,\n",
       "          2229.67741935,    2223.6997319 ,    2217.7540107 ,\n",
       "          2211.84      ,    2205.95744681,    2200.1061008 ,\n",
       "          2194.28571429,    2188.49604222,    2182.73684211,\n",
       "          2177.00787402,    2171.30890052,    2165.63968668,\n",
       "          2160.        ,    2154.38961039,    2148.80829016,\n",
       "          2143.25581395,    2137.73195876,    2132.23650386,\n",
       "          2126.76923077,    2121.32992327,    2115.91836735,\n",
       "          2110.53435115,    2105.17766497,    2099.84810127,\n",
       "          2094.54545455,    2089.26952141,    2084.0201005 ,\n",
       "          2078.79699248,    2073.6       ,    2068.42892768,\n",
       "          2063.28358209,    2058.16377171,    2053.06930693,\n",
       "          2048.        ,    2042.95566502,    2037.93611794,\n",
       "          2032.94117647,    2027.97066015,    2023.02439024,\n",
       "          2018.10218978,    2013.2038835 ,    2008.32929782,\n",
       "          2003.47826087,    1998.65060241,    1993.84615385,\n",
       "          1989.0647482 ,    1984.3062201 ,    1979.57040573,\n",
       "          1974.85714286,    1970.16627078,    1965.49763033,\n",
       "          1960.85106383,    1956.22641509,    1951.62352941,\n",
       "          1947.04225352,    1942.4824356 ,    1937.94392523,\n",
       "          1933.42657343,    1928.93023256,    1924.45475638,\n",
       "          1920.        ,    1915.56581986,    1911.15207373,\n",
       "          1906.75862069,    1902.3853211 ,    1898.03203661,\n",
       "          1893.69863014,    1889.38496583,    1885.09090909,\n",
       "          1880.81632653,    1876.56108597,    1872.32505643,\n",
       "          1868.10810811,    1863.91011236,    1859.7309417 ,\n",
       "          1855.5704698 ,    1851.42857143,    1847.30512249,\n",
       "          1843.2       ,    1839.11308204,    1835.04424779,\n",
       "          1830.99337748,    1826.96035242,    1822.94505495,\n",
       "          1818.94736842,    1814.96717724,    1811.00436681,\n",
       "          1807.05882353,    1803.13043478,    1799.21908894,\n",
       "          1795.32467532,    1791.44708423,    1787.5862069 ,\n",
       "          1783.74193548,    1779.91416309,    1776.10278373,\n",
       "          1772.30769231,    1768.52878465,    1764.76595745,\n",
       "          1761.01910828,    1757.28813559,    1753.57293869,\n",
       "          1749.87341772,    1746.18947368,    1742.5210084 ,\n",
       "          1738.86792453,    1735.23012552,    1731.60751566,\n",
       "          1728.        ,    1724.40748441,    1720.82987552,\n",
       "          1717.26708075,    1713.71900826,    1710.18556701,\n",
       "          1706.66666667,    1703.16221766,    1699.67213115,\n",
       "          1696.19631902,    1692.73469388,    1689.28716904,\n",
       "          1685.85365854,    1682.43407708,    1679.02834008,\n",
       "          1675.63636364,    1672.25806452,    1668.89336016,\n",
       "          1665.54216867,    1662.20440882,    1658.88      ,\n",
       "          1655.56886228,    1652.27091633,    1648.9860835 ,\n",
       "          1645.71428571,    1642.45544554,    1639.20948617,\n",
       "          1635.97633136,    1632.75590551,    1629.5481336 ,\n",
       "          1626.35294118,    1623.1702544 ,    1620.        ,\n",
       "          1616.84210526,    1613.69649805,    1610.5631068 ,\n",
       "          1607.44186047,    1604.33268859,    1601.23552124,\n",
       "          1598.15028902,    1595.07692308,    1592.01535509,\n",
       "          1588.96551724,    1585.92734226,    1582.90076336,\n",
       "          1579.88571429,    1576.88212928,    1573.88994307,\n",
       "          1570.90909091,    1567.93950851,    1564.98113208,\n",
       "          1562.03389831,    1559.09774436,    1556.17260788,\n",
       "          1553.25842697,    1550.35514019,    1547.46268657,\n",
       "          1544.58100559,    1541.71003717,    1538.84972171,\n",
       "          1536.        ,    1533.16081331,    1530.33210332,\n",
       "          1527.51381215,    1524.70588235,    1521.90825688,\n",
       "          1519.12087912,    1516.34369287,    1513.57664234,\n",
       "          1510.81967213,    1508.07272727,    1505.33575318,\n",
       "          1502.60869565,    1499.8915009 ,    1497.18411552,\n",
       "          1494.48648649,    1491.79856115,    1489.12028725,\n",
       "          1486.4516129 ,    1483.79248658,    1481.14285714,\n",
       "          1478.5026738 ,    1475.87188612,    1473.25044405,\n",
       "          1470.63829787,    1468.03539823,    1465.44169611,\n",
       "          1462.85714286,    1460.28169014,    1457.71528998,\n",
       "          1455.15789474,    1452.60945709,    1450.06993007,\n",
       "          1447.53926702,    1445.0174216 ,    1442.50434783,    1440.        ])"
      ]
     },
     "execution_count": 37,
     "metadata": {},
     "output_type": "execute_result"
    }
   ],
   "source": [
    "Xp[:]/(60*60)"
   ]
  },
  {
   "cell_type": "markdown",
   "metadata": {},
   "source": [
    "# CVDP -- Adam Phillips\n",
    "- Messing with the climate diagnostics that Adam Phillips provides"
   ]
  },
  {
   "cell_type": "code",
   "execution_count": null,
   "metadata": {
    "collapsed": true
   },
   "outputs": [],
   "source": [
    "fileDir = '/glade/p/work/rbrady/cesmLE_CVDP/extracted_vars/'\n",
    "ds_cvdp = xr.open_mfdataset(fileDir + '*.nc', decode_times=False, concat_dim='ensemble')"
   ]
  },
  {
   "cell_type": "code",
   "execution_count": null,
   "metadata": {
    "collapsed": true
   },
   "outputs": [],
   "source": [
    "ds_cvdp = ds_cvdp.rename({'npo_pc_mon': 'npo', 'pdo_timeseries_mon': 'pdo'})"
   ]
  },
  {
   "cell_type": "code",
   "execution_count": null,
   "metadata": {
    "collapsed": true
   },
   "outputs": [],
   "source": [
    "times = pd.date_range('1920-01', '2016-01', freq='M')\n",
    "ds_cvdp['time'] = times"
   ]
  },
  {
   "cell_type": "code",
   "execution_count": null,
   "metadata": {
    "collapsed": true
   },
   "outputs": [],
   "source": [
    "ds_cvdp = ds_cvdp.apply(detrend_nino)\n",
    "ds_cvdp"
   ]
  },
  {
   "cell_type": "code",
   "execution_count": null,
   "metadata": {
    "collapsed": true
   },
   "outputs": [],
   "source": [
    "data = ds_residuals[10].values"
   ]
  },
  {
   "cell_type": "code",
   "execution_count": null,
   "metadata": {
    "collapsed": true
   },
   "outputs": [],
   "source": [
    "smoothed_data = smooth_series(data, 12)"
   ]
  },
  {
   "cell_type": "code",
   "execution_count": null,
   "metadata": {
    "collapsed": true
   },
   "outputs": [],
   "source": [
    "fig = plt.figure(figsize=(18,4))\n",
    "nino_dat = ds_cvdp['nino34'][10]\n",
    "t = nino_dat.time.values\n",
    "pos = nino_dat.where(nino_dat > 0)\n",
    "neg = nino_dat.where(nino_dat < 0)\n",
    "\n",
    "ax1 = fig.add_subplot(111)\n",
    "ax1.bar(t, pos, color='none', edgecolor='red')\n",
    "ax1.bar(t, neg, color='none', edgecolor='blue')\n",
    "ax1.set_ylabel('Nino 3.4 Index')\n",
    "\n",
    "ax2 = ax1.twinx()\n",
    "ax2.plot(t, smoothed_data, '-k')\n",
    "ax2.set_ylabel('FG_CO2 Anomalies (mol/m2/yr)')\n",
    "\n",
    "ax1.grid('off')\n",
    "ax2.grid('off')\n",
    "\n",
    "plt.title('Simulation 001 Nino3.4 Index + Smoothed FG_CO2 Anomalies')\n",
    "fig.savefig('ccs-smoothed-fgco2-and-nino34-plot.png')\n",
    "fig.savefig('ccs-smoothed-fgco2-and-nino34-plot.eps')\n"
   ]
  },
  {
   "cell_type": "markdown",
   "metadata": {},
   "source": [
    "# Seaborn Jointplot"
   ]
  },
  {
   "cell_type": "code",
   "execution_count": null,
   "metadata": {
    "collapsed": true
   },
   "outputs": [],
   "source": [
    "ts1 = ds_residuals[32].values\n",
    "ts1 = smooth_series(ts1, 12)\n",
    "ts1 = ts1[11::]\n",
    "ts2 = ds_cvdp['nino34'][32, 11::].values"
   ]
  },
  {
   "cell_type": "code",
   "execution_count": null,
   "metadata": {
    "collapsed": true
   },
   "outputs": [],
   "source": [
    "slope, intercept, r_value, p_value, std_err = stats.linregress(ts2, ts1)\n",
    "r_value"
   ]
  },
  {
   "cell_type": "code",
   "execution_count": null,
   "metadata": {
    "collapsed": true
   },
   "outputs": [],
   "source": [
    "df = pd.DataFrame({'Nino3.4': ts2,\n",
    "                   'FG_CO2': ts1})\n",
    "fig = plt.figure(figsize=(6,6))\n",
    "with sns.axes_style(\"white\"):\n",
    "    sns.jointplot(x='Nino3.4', y='FG_CO2', data=df,\n",
    "                 kind='reg', space=0, color='k')"
   ]
  }
 ],
 "metadata": {
  "kernelspec": {
   "display_name": "Python 2",
   "language": "python",
   "name": "python2"
  },
  "language_info": {
   "codemirror_mode": {
    "name": "ipython",
    "version": 2
   },
   "file_extension": ".py",
   "mimetype": "text/x-python",
   "name": "python",
   "nbconvert_exporter": "python",
   "pygments_lexer": "ipython2",
   "version": "2.7.7"
  }
 },
 "nbformat": 4,
 "nbformat_minor": 2
}
