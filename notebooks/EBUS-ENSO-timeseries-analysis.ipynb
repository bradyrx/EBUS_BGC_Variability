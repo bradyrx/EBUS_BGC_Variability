{
 "cells": [
  {
   "cell_type": "markdown",
   "metadata": {},
   "source": [
    "# EBUS-ENSO Timeseries Analysis\n",
    "- Taking output from the EBUS_extraction.py script to analyze it in coordination with Adam Phillip's CVDP output (starting with Nino 3.4)\n",
    "- First step is to work with CCS, since that's a comfortable area."
   ]
  },
  {
   "cell_type": "code",
   "execution_count": null,
   "metadata": {
    "collapsed": true
   },
   "outputs": [],
   "source": [
    "# UNIX-style globbing\n",
    "import glob\n",
    "\n",
    "# Numerics\n",
    "import numpy as np\n",
    "import pandas as pd\n",
    "import xarray as xr\n",
    "from scipy import signal\n",
    "from scipy import stats\n",
    "\n",
    "# Visualization\n",
    "import matplotlib.pyplot as plt\n",
    "%matplotlib inline\n",
    "\n",
    "from mpl_toolkits.basemap import Basemap\n",
    "\n",
    "import seaborn as sns\n",
    "sns.set(color_codes=True)\n",
    "\n",
    "import statsmodels.api as sm"
   ]
  },
  {
   "cell_type": "markdown",
   "metadata": {},
   "source": [
    "# Functions\n",
    "- For visibility in the Notebook"
   ]
  },
  {
   "cell_type": "code",
   "execution_count": null,
   "metadata": {
    "collapsed": true
   },
   "outputs": [],
   "source": [
    "def detrend_nino(x):\n",
    "    return signal.detrend(x)"
   ]
  },
  {
   "cell_type": "code",
   "execution_count": null,
   "metadata": {
    "collapsed": true
   },
   "outputs": [],
   "source": [
    "def compute_correlations(carbonData, climateData):\n",
    "    slope, intercept, r_value, p_value, std_err = stats.linregress(climateData, carbonData)\n",
    "    return slope, r_value, r_value**2, p_value"
   ]
  },
  {
   "cell_type": "code",
   "execution_count": null,
   "metadata": {
    "collapsed": true
   },
   "outputs": [],
   "source": [
    "def smooth_series(x, len):\n",
    "    return pd.rolling_mean(x, len, center=False)"
   ]
  },
  {
   "cell_type": "markdown",
   "metadata": {},
   "source": [
    "# Smoothed FG_CO2 Correlations\n",
    "- Post-processed on Yellowstone, saved dataframe to csv."
   ]
  },
  {
   "cell_type": "code",
   "execution_count": null,
   "metadata": {},
   "outputs": [],
   "source": [
    "enso = pd.read_csv('/glade/u/home/rbrady/projects/EBUS_BGC_Variability/data/processed/smoothed_fgco2_vs_enso', index_col=0)\n",
    "#pdo = pd.read_csv('smoothed_fgco2_vs_pdo', index_col=0)\n",
    "#npo = pd.read_csv('smoothed_fgco2_vs_npo', index_col=0)"
   ]
  },
  {
   "cell_type": "code",
   "execution_count": null,
   "metadata": {},
   "outputs": [],
   "source": [
    "enso"
   ]
  },
  {
   "cell_type": "code",
   "execution_count": null,
   "metadata": {},
   "outputs": [],
   "source": [
    "fig = plt.figure(figsize=(4,4))\n",
    "ax1 = fig.add_subplot(111)\n",
    "ax1.scatter(enso['R Value'], pdo['R Value'])"
   ]
  },
  {
   "cell_type": "markdown",
   "metadata": {},
   "source": [
    "# Overhead of our Region\n",
    "- 25N - 45N\n",
    "- 130W - 110W\n",
    "- Quick ensemble climatology"
   ]
  },
  {
   "cell_type": "code",
   "execution_count": null,
   "metadata": {
    "collapsed": true
   },
   "outputs": [],
   "source": [
    "fileDir = '/glade/p/work/rbrady/EBUS_BGC_Variability/FG_CO2/'\n",
    "ds = xr.open_mfdataset(fileDir + '*.nc', concat_dim='ensemble')"
   ]
  },
  {
   "cell_type": "code",
   "execution_count": null,
   "metadata": {
    "collapsed": true
   },
   "outputs": [],
   "source": [
    "lat = ds.TLAT[0].values\n",
    "lon = ds.TLONG[0].values\n",
    "monthlyMean = ds['FG_CO2'].groupby('time.month').mean(dim='time').mean(dim='ensemble')"
   ]
  },
  {
   "cell_type": "code",
   "execution_count": null,
   "metadata": {},
   "outputs": [],
   "source": [
    "monthlyMean"
   ]
  },
  {
   "cell_type": "code",
   "execution_count": null,
   "metadata": {},
   "outputs": [],
   "source": [
    "fig = plt.figure(figsize=(20,10))\n",
    "\n",
    "for ii in np.arange(1, 13):\n",
    "    data = monthlyMean[ii-1]\n",
    "    ax = fig.add_subplot(3, 4, ii)\n",
    "    m = setup_map(ax, lon, lat, labels=False)\n",
    "    add_contourf(m, lon, lat, data, np.arange(-3, 3.1, 0.25),\n",
    "                cmap=\"RdBu_r\")\n",
    "    plt.title(monthlyMean.month.values[ii-1])\n",
    "\n",
    "fig.tight_layout()\n",
    "st = fig.suptitle(\"1920-2015 Ensemble Monthly Mean Sea-Air CO2 Flux (mol/m2/yr)\", fontsize=24)\n",
    "\n",
    "# shift subplots down:\n",
    "st.set_y(0.95)\n",
    "fig.subplots_adjust(top=0.85)"
   ]
  },
  {
   "cell_type": "markdown",
   "metadata": {},
   "source": [
    "# Extracting Timeseries for Analysis\n",
    "- Working on one ensemble member at a time for testing. \n",
    "- Time series product is a weighted mean of gas flux over the region."
   ]
  },
  {
   "cell_type": "code",
   "execution_count": null,
   "metadata": {
    "collapsed": true
   },
   "outputs": [],
   "source": [
    "fileDir = '/glade/p/work/rbrady/EBUS_BGC_Variability/FG_CO2/'\n",
    "ds_gas = xr.open_mfdataset(fileDir + '*.nc', concat_dim='ensemble')"
   ]
  },
  {
   "cell_type": "code",
   "execution_count": null,
   "metadata": {
    "collapsed": true
   },
   "outputs": [],
   "source": [
    "# Add in ensemble labeling for clarity\n",
    "ens = ['001', '002', '009', '010', '011', '012',\n",
    "       '013', '014', '015', '016', '017', '018',\n",
    "       '019', '020', '021', '022', '023', '024',\n",
    "       '025', '026', '027', '028', '029', '030',\n",
    "       '031', '032', '033', '034', '035', '101',\n",
    "       '102', '103', '104', '105']\n",
    "ds_gas['ensemble'] = ens"
   ]
  },
  {
   "cell_type": "code",
   "execution_count": null,
   "metadata": {
    "collapsed": true
   },
   "outputs": [],
   "source": [
    "# Subtract out the ensemble mean\n",
    "ds_residuals = ds_gas['FG_CO2'] - ds_gas['FG_CO2'].mean(dim='ensemble')\n",
    "\n",
    "# Area-weighting. ds_residuals now is the area-weighted\n",
    "ds_residuals = ((ds_residuals * ds_gas['TAREA'])\n",
    "     .sum(dim='nlat').sum(dim='nlon')) / ds_gas['TAREA'][0].sum()\n",
    "\n",
    "ds_residuals.attrs['Units'] = \"mol/m2/yr\"\n",
    "ds_residuals.attrs['Description'] = \"Weighted-average FG_CO2 in the CCS with forced component removed (residuals).\""
   ]
  },
  {
   "cell_type": "markdown",
   "metadata": {},
   "source": [
    "# CVDP -- Adam Phillips\n",
    "- Messing with the climate diagnostics that Adam Phillips provides"
   ]
  },
  {
   "cell_type": "code",
   "execution_count": null,
   "metadata": {
    "collapsed": true
   },
   "outputs": [],
   "source": [
    "fileDir = '/glade/p/work/rbrady/cesmLE_CVDP/extracted_vars/'\n",
    "ds_cvdp = xr.open_mfdataset(fileDir + '*.nc', decode_times=False, concat_dim='ensemble')"
   ]
  },
  {
   "cell_type": "code",
   "execution_count": null,
   "metadata": {
    "collapsed": true
   },
   "outputs": [],
   "source": [
    "ds_cvdp = ds_cvdp.rename({'npo_pc_mon': 'npo', 'pdo_timeseries_mon': 'pdo'})"
   ]
  },
  {
   "cell_type": "code",
   "execution_count": null,
   "metadata": {
    "collapsed": true
   },
   "outputs": [],
   "source": [
    "times = pd.date_range('1920-01', '2016-01', freq='M')\n",
    "ens = ['001', '002', '009', '010', '011', '012',\n",
    "       '013', '014', '015', '016', '017', '018',\n",
    "       '019', '020', '021', '022', '023', '024',\n",
    "       '025', '026', '027', '028', '029', '030',\n",
    "       '031', '032', '033', '034', '035', '101',\n",
    "       '102', '103', '104', '105']\n",
    "ds_cvdp['time'] = times\n",
    "ds_cvdp['ensemble'] = ens"
   ]
  },
  {
   "cell_type": "code",
   "execution_count": null,
   "metadata": {},
   "outputs": [],
   "source": [
    "ds_cvdp = ds_cvdp.apply(detrend_nino)\n",
    "ds_cvdp"
   ]
  },
  {
   "cell_type": "code",
   "execution_count": null,
   "metadata": {},
   "outputs": [],
   "source": [
    "scompute_correlations(ds_residuals[0].values, ds_cvdp['nino34'][0].values)"
   ]
  },
  {
   "cell_type": "markdown",
   "metadata": {},
   "source": [
    "# Correlation, Regression, and Autocorrelation"
   ]
  },
  {
   "cell_type": "markdown",
   "metadata": {},
   "source": [
    "After detrending (removing ensemble mean) and obtaining the natural CO2 flux, the issue is that the FG_CO2 time series and Nino 3.4 timeseries are autocorrelated (have serial correlation). The blue box represents 95% confidence bands for significant autocorrelation. Anything that falls outside of that box is significantly correlated. \n",
    "    - Interestingly, the NPO has no autocorrelation issues."
   ]
  },
  {
   "cell_type": "code",
   "execution_count": null,
   "metadata": {},
   "outputs": [],
   "source": [
    "ts1 = ds_residuals[0].values\n",
    "ts2 = ds_cvdp['nino34'][0]\n",
    "ts3 = ds_cvdp['pdo'][0]\n",
    "ts4 = ds_cvdp['npo'][0]\n",
    "\n",
    "fig = plt.figure(figsize=(12,12))\n",
    "\n",
    "ax1 = fig.add_subplot(4,1,1)\n",
    "ax1.set_ylabel(\"FG_CO2 Autocorrelation\")\n",
    "sm.graphics.tsa.plot_acf(ts1, lags=40, ax=ax1)\n",
    "\n",
    "ax2 = fig.add_subplot(4,1,2)\n",
    "ax2.set_ylabel(\"Nino 3.4 Autocorrelation\")\n",
    "sm.graphics.tsa.plot_acf(ts2, lags=40, ax=ax2)\n",
    "\n",
    "ax3 = fig.add_subplot(4,1,3)\n",
    "ax3.set_ylabel(\"PDO Autocorrelation\")\n",
    "sm.graphics.tsa.plot_acf(ts3, lags=40, ax=ax3)\n",
    "\n",
    "ax4 = fig.add_subplot(4,1,4)\n",
    "ax4.set_ylabel(\"NPO Autocorrelation\")\n",
    "sm.graphics.tsa.plot_acf(ts4, lags=40, ax=ax4)"
   ]
  },
  {
   "cell_type": "markdown",
   "metadata": {},
   "source": [
    "# Anomaly Plot"
   ]
  },
  {
   "cell_type": "code",
   "execution_count": null,
   "metadata": {},
   "outputs": [],
   "source": [
    "ds_residuals[0]"
   ]
  },
  {
   "cell_type": "code",
   "execution_count": null,
   "metadata": {},
   "outputs": [],
   "source": [
    "nino = ds_cvdp['nino34']\n",
    "\n",
    "fig = plt.figure(figsize=(18,3))\n",
    "ax1 = fig.add_subplot(111)\n",
    "ax1.grid('off')\n",
    "\n",
    "ax1.bar(nino[0].time.values, nino[0].where(nino[0] > 0).values, color=\"none\", edgecolor=\"red\")\n",
    "ax1.bar(nino[0].time.values, nino[0].where(nino[0] < 0).values, color=\"none\", edgecolor=\"blue\")\n",
    "\n",
    "ax2 = ax1.twinx()\n",
    "ax2.plot(ds_residuals[0].time.values, ds_residuals[0].values, '-k')\n",
    "ax2.grid('off')\n",
    "\n",
    "ax1.set_ylabel(\"Nino3.4 Index\")\n",
    "ax2.set_ylabel(\"FG_CO2 Anomalies\")\n",
    "\n",
    "plt.savefig(\"enso-fgco2-timeseries.png\")"
   ]
  },
  {
   "cell_type": "markdown",
   "metadata": {},
   "source": [
    "# Rolling Mean"
   ]
  },
  {
   "cell_type": "code",
   "execution_count": null,
   "metadata": {},
   "outputs": [],
   "source": [
    "r = ds_residuals[0].to_pandas()"
   ]
  },
  {
   "cell_type": "code",
   "execution_count": null,
   "metadata": {},
   "outputs": [],
   "source": [
    "test = pd.rolling_mean(r, 12, center=False)\n",
    "fig = plt.figure(figsize=(16,3))\n",
    "r.plot()\n",
    "test.plot(color=\"k\")"
   ]
  },
  {
   "cell_type": "code",
   "execution_count": null,
   "metadata": {},
   "outputs": [],
   "source": [
    "nino = ds_cvdp['nino34']\n",
    "\n",
    "fig = plt.figure(figsize=(18,3))\n",
    "ax1 = fig.add_subplot(111)\n",
    "ax1.grid('off')\n",
    "\n",
    "ax1.bar(nino[0].time.values, nino[0].where(nino[0] > 0).values, color=\"none\", edgecolor=\"red\")\n",
    "ax1.bar(nino[0].time.values, nino[0].where(nino[0] < 0).values, color=\"none\", edgecolor=\"blue\")\n",
    "\n",
    "ax2 = ax1.twinx()\n",
    "ax2.plot(nino[0].time.values, test.values, '-k')\n",
    "ax2.grid('off')\n",
    "\n",
    "ax1.set_ylabel(\"Nino3.4 Index\")\n",
    "ax2.set_ylabel(\"FG_CO2 Anomalies\")\n",
    "\n",
    "plt.savefig(\"enso-fgco2-timeseries.png\")"
   ]
  },
  {
   "cell_type": "markdown",
   "metadata": {},
   "source": [
    "Here I use a simple least-squares linear regression to use three different climate indices as a predictor for residual CO2 flux in the CCS. We regress the FG_CO2 residuals onto a nino3.4 index, PDO index, and NPO index."
   ]
  },
  {
   "cell_type": "code",
   "execution_count": null,
   "metadata": {
    "collapsed": true
   },
   "outputs": [],
   "source": [
    "ts1 = ds_residuals[0].values\n",
    "ts2 = ds_cvdp['nino34'][0].values\n",
    "ts3 = ds_cvdp['pdo'][0].values\n",
    "ts4 = ds_cvdp['npo'][0].values"
   ]
  },
  {
   "cell_type": "code",
   "execution_count": null,
   "metadata": {
    "collapsed": true
   },
   "outputs": [],
   "source": [
    "# Hatching together a correlation matrix.\n",
    "nino_correlation = np.zeros([34,1])\n",
    "pdo_correlation = np.zeros([34, 1])\n",
    "npo_correlation = np.zeros([34, 1])\n",
    "\n",
    "for idx in np.arange(0,34, 1):\n",
    "    carbonSeries = ds_residuals[idx].values\n",
    "    nino = ds_cvdp['nino34'][idx].values\n",
    "    pdo = ds_cvdp['pdo'][idx].values\n",
    "    npo = ds_cvdp['npo'][idx].values\n",
    "    \n",
    "    nino_correlation[idx] = compute_correlations(carbonSeries, nino)\n",
    "    pdo_correlation[idx] = compute_correlations(carbonSeries, pdo)\n",
    "    npo_correlation[idx] = compute_correlations(carbonSeries, npo)"
   ]
  },
  {
   "cell_type": "code",
   "execution_count": null,
   "metadata": {},
   "outputs": [],
   "source": [
    "fig = plt.figure(figsize=(6,18))\n",
    "st = fig.suptitle(\"Natural CCS CO2 Flux Correlated with Climate Indices\", fontsize=\"x-large\")\n",
    "\n",
    "ax1 = fig.add_subplot(311)\n",
    "ax1.scatter(nino_correlation, pdo_correlation, s=36, color=\"k\")\n",
    "ax1.set_xbound(0, 0.5)\n",
    "ax1.set_ybound(0, 0.5)\n",
    "ax1.set_xlabel(\"Correlation with ENSO\")\n",
    "ax1.set_ylabel(\"Correlation with PDO\")\n",
    "\n",
    "ax2 = fig.add_subplot(312)\n",
    "ax2.scatter(nino_correlation, npo_correlation, s=36, color=\"k\")\n",
    "ax2.set_xbound(0, 0.5)\n",
    "ax2.set_ybound(-0.5, 0)\n",
    "ax2.set_xlabel(\"Correlation with ENSO\")\n",
    "ax2.set_ylabel(\"Correlation with NPO\")\n",
    "\n",
    "ax3 = fig.add_subplot(313)\n",
    "ax3.scatter(pdo_correlation, npo_correlation, s=36, color=\"k\")\n",
    "ax3.set_xbound(0, 0.5)\n",
    "ax3.set_ybound(-0.5, 0)\n",
    "ax3.set_xlabel(\"Correlation with PDO\")\n",
    "ax3.set_ylabel(\"Correlation with NPO\")\n",
    "\n",
    "fig.tight_layout\n",
    "\n",
    "fig.savefig(\"correlation_plot.eps\")"
   ]
  }
 ],
 "metadata": {
  "kernelspec": {
   "display_name": "Python 2",
   "language": "python",
   "name": "python2"
  },
  "language_info": {
   "codemirror_mode": {
    "name": "ipython",
    "version": 2
   },
   "file_extension": ".py",
   "mimetype": "text/x-python",
   "name": "python",
   "nbconvert_exporter": "python",
   "pygments_lexer": "ipython2",
   "version": "2.7.7"
  }
 },
 "nbformat": 4,
 "nbformat_minor": 2
}
