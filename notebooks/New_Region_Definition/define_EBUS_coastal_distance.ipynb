{
 "metadata": {
  "kernelspec": {
   "display_name": "Python 3",
   "language": "python",
   "name": "python3"
  },
  "language_info": {
   "codemirror_mode": {
    "name": "ipython",
    "version": 3
   },
   "file_extension": ".py",
   "mimetype": "text/x-python",
   "name": "python",
   "nbconvert_exporter": "python",
   "pygments_lexer": "ipython3",
   "version": "3.6.1"
  },
  "name": ""
 },
 "nbformat": 3,
 "nbformat_minor": 0,
 "worksheets": [
  {
   "cells": [
    {
     "cell_type": "markdown",
     "metadata": {},
     "source": [
      "# Define EBUS Coastal Distance\n",
      "\n",
      "** NOTE ** : This method is dead to me. It really isn't a great solution and is too much of a time sink.\n",
      "\n",
      "It came to my attention that my method for creating the EBUS \"regions\" was not so robust. Also, I found that I was totally in the wrong spot for the Canary Current.\n",
      "\n",
      "As a result, I will try a new method of defining these regions. I'm thinking of defining a latitude band of coastline (e.g. 10 degrees of latitude) and then converting the lat/lon of those coastal cells to a list of tuples. Then, I will compute a distance to coastline function with reference to every cell for the global grid, and then filter by being within some range."
     ]
    },
    {
     "cell_type": "code",
     "collapsed": true,
     "input": [
      "import numpy as np\n",
      "import pandas as pd\n",
      "import xarray as xr\n",
      "\n",
      "import esmtools as et\n",
      "\n",
      "import matplotlib.pyplot as plt\n",
      "import cartopy.crs as ccrs\n",
      "%matplotlib inline\n",
      "\n",
      "import geopy.distance"
     ],
     "language": "python",
     "metadata": {},
     "outputs": [],
     "prompt_number": 117
    },
    {
     "cell_type": "code",
     "collapsed": true,
     "input": [
      "fileDir = '/glade/u/home/rbrady/scratch/EBUS_BGC_Variability/FG_CO2_monthly/'\n",
      "fileName = 'FG_CO2.001.192001-210012.nc'\n",
      "ds = xr.open_dataset(fileDir + fileName, decode_times=False)"
     ],
     "language": "python",
     "metadata": {},
     "outputs": [],
     "prompt_number": 130
    },
    {
     "cell_type": "code",
     "collapsed": true,
     "input": [
      "# Strip down the example file to the lat/long coordinates we need.\n",
      "ds2 = ds['FG_CO2'][0]\n",
      "ds2['REGION_MASK'] = ds['REGION_MASK']\n",
      "del ds2['ULAT']\n",
      "del ds2['ULONG']\n",
      "del ds2['time']"
     ],
     "language": "python",
     "metadata": {},
     "outputs": [],
     "prompt_number": 131
    },
    {
     "cell_type": "markdown",
     "metadata": {},
     "source": [
      "# California Current\n",
      "\n",
      "From Chavez et al. 2009:\n",
      "\n",
      "LAT : 34N - 44N\n",
      "\n",
      "LON : 130W - 115W"
     ]
    },
    {
     "cell_type": "code",
     "collapsed": true,
     "input": [
      "# Pull out a small box around the CalCS to find the coastline.\n",
      "a, c = et.filtering.find_indices(ds2.TLONG, ds2.TLAT,\n",
      "                                 230, 34)\n",
      "b, d = et.filtering.find_indices(ds2.TLONG, ds2.TLAT,\n",
      "                                 245, 44)\n",
      "\n",
      "# Slice out this region\n",
      "ds2 = ds2.sel(nlat=slice(a,b), nlon=slice(c,d))"
     ],
     "language": "python",
     "metadata": {},
     "outputs": [],
     "prompt_number": 32
    },
    {
     "cell_type": "code",
     "collapsed": true,
     "input": [
      "# Slim it down to right up to the coastline. Everything is now NaN'ed out\n",
      "# because any Pacific cells turned to NaN for not being coastline.\n",
      "# Reference the region_mask portion now\n",
      "coastal_region = ds2.where(ds2['REGION_MASK'] == 0, drop=True).REGION_MASK\n",
      "\n",
      "# Find where the first instance of the coastline is.\n",
      "lon_coastal_index = np.argmax(coastal_region==0, axis=1).values\n",
      "lat_coastal_index = np.arange(0, coastal_region.shape[0], 1)\n",
      "\n",
      "# Pointwise indexing to grab those cells\n",
      "coastline = coastal_region.isel_points(nlat=lat_coastal_index,\n",
      "                                       nlon=lon_coastal_index)\n",
      "\n",
      "# Pull out a list for lon and lat\n",
      "lon_coords = np.asarray(coastline.TLONG) - 360\n",
      "lat_coords = np.asarray(coastline.TLAT)\n",
      "\n",
      "# Combine into one 20x2 array with these coordinates.\n",
      "coastal_coordinates = np.array([lon_coords, lat_coords]).transpose()"
     ],
     "language": "python",
     "metadata": {},
     "outputs": [],
     "prompt_number": 33
    },
    {
     "cell_type": "code",
     "collapsed": false,
     "input": [
      "global_grid = ds['FG_CO2'][0]"
     ],
     "language": "python",
     "metadata": {},
     "outputs": [],
     "prompt_number": 47
    },
    {
     "cell_type": "code",
     "collapsed": false,
     "input": [
      "test = global_grid.where((global_grid.TLAT > 0) & (global_grid.TLAT < 60), drop=True)\n",
      "test = test.where((test.TLONG > 180) & (test.TLONG <300), drop=True)"
     ],
     "language": "python",
     "metadata": {},
     "outputs": [],
     "prompt_number": 48
    },
    {
     "cell_type": "code",
     "collapsed": false,
     "input": [
      "%%time\n",
      "dims = test.shape\n",
      "dist_grid = np.zeros((dims[0], dims[1]))\n",
      "for i in np.arange(0, dims[0], 1):\n",
      "    for j in np.arange(0, dims[1], 1):\n",
      "        if np.isnan(test[i,j]):\n",
      "            dist_grid[i,j] = np.nan\n",
      "        else:\n",
      "            # Coordinates of point on grid.\n",
      "            if test[i,j].TLONG > 180:\n",
      "                xpoint = test[i,j].TLONG.values - 360\n",
      "            else:\n",
      "                xpoint = test[i,j].TLONG.values\n",
      "            ypoint = test[i,j].TLAT.values\n",
      "            grid_coords = (xpoint, ypoint)\n",
      "            \n",
      "            # Check distances to every coastal point.\n",
      "            temp_distance = np.zeros((coastal_coordinates.shape[0]))\n",
      "            for idx, coords in enumerate(coastal_coordinates):\n",
      "                temp_distance[idx] = geopy.distance.vincenty(grid_coords, (coords[0], coords[1])).km                \n",
      "            dist_grid[i,j] = np.nanmin(temp_distance)"
     ],
     "language": "python",
     "metadata": {},
     "outputs": [],
     "prompt_number": 49
    },
    {
     "cell_type": "code",
     "collapsed": true,
     "input": [
      "dist2cal = xr.DataArray(dist_grid, dims=['nlat','nlon'])\n",
      "dist2cal['TLAT'] = test['TLAT']\n",
      "dist2cal['TLONG'] = test['TLONG']"
     ],
     "language": "python",
     "metadata": {},
     "outputs": [],
     "prompt_number": 76
    },
    {
     "cell_type": "code",
     "collapsed": false,
     "input": [
      "dist2cal.name = 'dist2cal'"
     ],
     "language": "python",
     "metadata": {},
     "outputs": [],
     "prompt_number": 77
    },
    {
     "cell_type": "code",
     "collapsed": false,
     "input": [
      "CalCS = dist2cal.where((dist2cal <= 800) & (dist2cal.TLAT > 34) & (dist2cal.TLAT < 44))"
     ],
     "language": "python",
     "metadata": {},
     "outputs": [],
     "prompt_number": 113
    },
    {
     "cell_type": "code",
     "collapsed": false,
     "input": [
      "lon = CalCS.TLONG\n",
      "lat = CalCS.TLAT\n",
      "dat = np.ma.array(CalCS, mask=np.isnan(CalCS))\n",
      "\n",
      "import esmtools as et\n",
      "f, ax = et.vis.make_cartopy(projection=ccrs.Mercator())\n",
      "\n",
      "plt.pcolormesh(lon-0.5,lat,dat, transform=ccrs.PlateCarree(), vmin=0, vmax=800)\n",
      "ax.set_extent([-145, -110, 30, 50])\n",
      "cb = plt.colorbar(ax=ax, pad=0.05)"
     ],
     "language": "python",
     "metadata": {},
     "outputs": [],
     "prompt_number": 114
    },
    {
     "cell_type": "markdown",
     "metadata": {},
     "source": [
      "# Humboldt Current\n",
      "\n",
      "LAT : 12N to 22N"
     ]
    },
    {
     "cell_type": "code",
     "collapsed": false,
     "input": [
      "# Pull out a small box around the CalCS to find the coastline.\n",
      "a, c = et.filtering.find_indices(ds2.TLONG, ds2.TLAT,\n",
      "                                 260, -20)\n",
      "b, d = et.filtering.find_indices(ds2.TLONG, ds2.TLAT,\n",
      "                                 290, 0)\n",
      "\n",
      "# Slice out this region\n",
      "ds2 = ds2.sel(nlat=slice(a,b), nlon=slice(c,d))"
     ],
     "language": "python",
     "metadata": {},
     "outputs": [],
     "prompt_number": 132
    },
    {
     "cell_type": "code",
     "collapsed": true,
     "input": [
      "# Slim it down to right up to the coastline. Everything is now NaN'ed out\n",
      "# because any Pacific cells turned to NaN for not being coastline.\n",
      "# Reference the region_mask portion now\n",
      "coastal_region = ds2.where(ds2['REGION_MASK'] == 0, drop=True).REGION_MASK\n",
      "\n",
      "# Find where the first instance of the coastline is.\n",
      "lon_coastal_index = np.argmax(coastal_region==0, axis=1).values\n",
      "lat_coastal_index = np.arange(0, coastal_region.shape[0], 1)\n",
      "\n",
      "# Pointwise indexing to grab those cells\n",
      "coastline = coastal_region.isel_points(nlat=lat_coastal_index,\n",
      "                                       nlon=lon_coastal_index)\n",
      "\n",
      "# Pull out a list for lon and lat\n",
      "lon_coords = np.asarray(coastline.TLONG) - 360\n",
      "lat_coords = np.asarray(coastline.TLAT)\n",
      "\n",
      "# Combine into one 20x2 array with these coordinates.\n",
      "coastal_coordinates = np.array([lon_coords, lat_coords]).transpose()"
     ],
     "language": "python",
     "metadata": {},
     "outputs": [],
     "prompt_number": 134
    },
    {
     "cell_type": "code",
     "collapsed": true,
     "input": [
      "global_grid = ds['FG_CO2'][0]"
     ],
     "language": "python",
     "metadata": {},
     "outputs": [],
     "prompt_number": 139
    },
    {
     "cell_type": "code",
     "collapsed": true,
     "input": [
      "test = global_grid.where((global_grid.TLAT < 0) & (global_grid.TLAT > -40), drop=True)\n",
      "test = test.where((test.TLONG > 180) & (test.TLONG <300), drop=True)"
     ],
     "language": "python",
     "metadata": {},
     "outputs": [],
     "prompt_number": 140
    },
    {
     "cell_type": "code",
     "collapsed": false,
     "input": [
      "%%time\n",
      "dims = test.shape\n",
      "dist_grid = np.zeros((dims[0], dims[1]))\n",
      "for i in np.arange(0, dims[0], 1):\n",
      "    for j in np.arange(0, dims[1], 1):\n",
      "        if np.isnan(test[i,j]):\n",
      "            dist_grid[i,j] = np.nan\n",
      "        else:\n",
      "            # Coordinates of point on grid.\n",
      "            if test[i,j].TLONG > 180:\n",
      "                xpoint = test[i,j].TLONG.values - 360\n",
      "            else:\n",
      "                xpoint = test[i,j].TLONG.values\n",
      "            ypoint = test[i,j].TLAT.values\n",
      "            grid_coords = (xpoint, ypoint)\n",
      "            \n",
      "            # Check distances to every coastal point.\n",
      "            temp_distance = np.zeros((coastal_coordinates.shape[0]))\n",
      "            for idx, coords in enumerate(coastal_coordinates):\n",
      "                temp_distance[idx] = geopy.distance.vincenty(grid_coords, (coords[0], coords[1])).km                \n",
      "            dist_grid[i,j] = np.nanmin(temp_distance)"
     ],
     "language": "python",
     "metadata": {},
     "outputs": [],
     "prompt_number": 141
    },
    {
     "cell_type": "code",
     "collapsed": false,
     "input": [
      "dist2hum = xr.DataArray(dist_grid, dims=['nlat','nlon'])\n",
      "dist2hum['TLAT'] = test['TLAT']\n",
      "dist2hum['TLONG'] = test['TLONG']"
     ],
     "language": "python",
     "metadata": {},
     "outputs": [],
     "prompt_number": 143
    },
    {
     "cell_type": "code",
     "collapsed": false,
     "input": [
      "HumCS = dist2hum.where((dist2hum <= 800) & (dist2hum.TLAT > -16) & (dist2hum.TLAT < -6)).plot()"
     ],
     "language": "python",
     "metadata": {},
     "outputs": [],
     "prompt_number": 146
    },
    {
     "cell_type": "markdown",
     "metadata": {},
     "source": [
      "# Canary Current\n",
      "\n",
      "Trying the old method with new bounds.\n"
     ]
    }
   ],
   "metadata": {}
  }
 ]
}