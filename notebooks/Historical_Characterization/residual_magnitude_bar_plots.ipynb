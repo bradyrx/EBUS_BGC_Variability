{
 "metadata": {
  "kernelspec": {
   "display_name": "Python 3",
   "language": "python",
   "name": "python3"
  },
  "language_info": {
   "codemirror_mode": {
    "name": "ipython",
    "version": 3
   },
   "file_extension": ".py",
   "mimetype": "text/x-python",
   "name": "python",
   "nbconvert_exporter": "python",
   "pygments_lexer": "ipython3",
   "version": "3.6.4"
  },
  "name": ""
 },
 "nbformat": 3,
 "nbformat_minor": 0,
 "worksheets": [
  {
   "cells": [
    {
     "cell_type": "markdown",
     "metadata": {},
     "source": [
      "# Residual Magnitude Bar Plots\n",
      "Nikki and I think this would be a good motivating figure for the paper. We're looking at doing 3 bar plots for each system that act as metrics for the magnitude of internal variability. One bar for contemporary, one bar for natural, one bar for anthropogenic. This will show that natural carbon dominates the signal, and thus we can do our investigations with natural. "
     ]
    },
    {
     "cell_type": "code",
     "collapsed": true,
     "input": [
      "import numpy as np\n",
      "import pandas as pd\n",
      "import xarray as xr\n",
      "import esmtools as et\n",
      "import matplotlib.pyplot as plt\n",
      "%matplotlib inline\n",
      "plt.style.use('ocn-clim')\n",
      "import seaborn as sns"
     ],
     "language": "python",
     "metadata": {},
     "outputs": [],
     "prompt_number": 1
    },
    {
     "cell_type": "code",
     "collapsed": true,
     "input": [
      "def load_in_filtered_data(VAR, EBU, AW=True):\n",
      "    \"\"\"\n",
      "    Loads in the netCDF files for the ensemble mean and residuals for any inputted variable\n",
      "    and returns an xarray dataset for the forced signal, residuals, and the total time series\n",
      "    (simply the sum of the two previous components).\n",
      "    \"\"\"\n",
      "    fileDir = '/glade/p/work/rbrady/EBUS_BGC_Variability/' + VAR + '/' + EBU + '/filtered_output/'\n",
      "    if AW == True:\n",
      "        ds_forced = xr.open_dataset(fileDir + EBU.lower() + '-' + VAR + '-forced-signal-AW-chavez-800km.nc')\n",
      "        ds_residuals = xr.open_dataset(fileDir + EBU.lower() + '-' + VAR + '-residuals-AW-chavez-800km.nc')\n",
      "    if AW == False:\n",
      "        ds_forced = xr.open_dataset(fileDir + EBU.lower() + '-' + VAR + '-forced-signal-chavez-800km.nc')\n",
      "        ds_residuals = xr.open_dataset(fileDir + EBU.lower() + '-' + VAR + '-residuals-chavez-800km.nc')\n",
      "    ds_total = ds_forced + ds_residuals\n",
      "    if AW == True:\n",
      "        return ds_forced[VAR + '_AW'], ds_residuals[VAR + '_AW'], ds_total[VAR + '_AW']\n",
      "    else:\n",
      "        return ds_forced[VAR], ds_residuals[VAR], ds_total[VAR]"
     ],
     "language": "python",
     "metadata": {},
     "outputs": [],
     "prompt_number": 2
    },
    {
     "cell_type": "code",
     "collapsed": true,
     "input": [
      "values_master = []\n",
      "labels_master = []\n",
      "system_master = []\n",
      "EBC = ['CalCS', 'HumCS', 'CanCS', 'BenCS']\n",
      "full_name = ['California', 'Humboldt', 'Canary', 'Benguela']\n",
      "for x, i in enumerate(EBC):\n",
      "    # Load in Residuals\n",
      "    _, nat, _ = load_in_filtered_data('FG_ALT_CO2', i)\n",
      "    _, ant, _ = load_in_filtered_data('FG_ANT_CO2', i)\n",
      "    _, con, _ = load_in_filtered_data('FG_CO2', i)\n",
      "    # Take std for each simulation\n",
      "    nat_var = nat.var(dim='time').values\n",
      "    ant_var = ant.var(dim='time').values\n",
      "    con_var = con.var(dim='time').values\n",
      "    # Create temporary lists\n",
      "    values = np.concatenate((con_var, nat_var, ant_var), axis=0)\n",
      "    labels = [\"contemporary\"]*34 + [\"natural\"]*34 + [\"anthropogenic\"]*34\n",
      "    system = [full_name[x]]*len(labels)\n",
      "    # Add to main array\n",
      "    values_master = np.concatenate((values_master, values), axis=0)\n",
      "    labels_master = np.concatenate((labels_master, labels), axis=0)\n",
      "    system_master = np.concatenate((system_master, system), axis=0)"
     ],
     "language": "python",
     "metadata": {},
     "outputs": [],
     "prompt_number": 8
    },
    {
     "cell_type": "code",
     "collapsed": true,
     "input": [
      "# Create DataFrame\n",
      "d = {'values': values_master, 'labels': labels_master, 'system': system_master}\n",
      "df = pd.DataFrame(d)"
     ],
     "language": "python",
     "metadata": {},
     "outputs": [],
     "prompt_number": 9
    },
    {
     "cell_type": "code",
     "collapsed": false,
     "input": [
      "sns.set_style('whitegrid')\n",
      "fig = plt.figure(figsize=(7,5))\n",
      "ax = plt.subplot(111)\n",
      "sns.barplot(x=\"system\", y=\"values\", hue=\"labels\", data=df,\n",
      "                   ci=95, capsize=0.1, errwidth=1,\n",
      "                   ax=ax, palette=\"Set3\")\n",
      "ax.set_ylabel('Variance of Residuals' + '\\n' +  '(mol/m$^{2}$/yr)$^{2}$', fontsize='large')\n",
      "ax.set_xlabel('')\n",
      "ax.set_title('CO$_{2}$ Flux Internal Variability', fontsize='xx-large')\n",
      "ax.tick_params(which='both', labelsize=13)\n",
      "ax.legend(loc=\"upper right\", fontsize=11)\n",
      "sns.despine(left=True)\n",
      "plt.show()"
     ],
     "language": "python",
     "metadata": {},
     "outputs": [],
     "prompt_number": 11
    }
   ],
   "metadata": {}
  }
 ]
}