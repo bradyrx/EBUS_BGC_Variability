{
 "cells": [
  {
   "cell_type": "markdown",
   "metadata": {},
   "source": [
    "# Proportional Historical Variance\n",
    "Let's compare the relative magnitudes of the seasonal component and non-seasonal component of FG_CO2 in each region. Through climate diagnostics practices, this is quite simple: find the mean seasonal cycle historically and take the standard deviation of it ($\\sigma_{s}$). Then find the mean standard deviation of all the residuals ($\\sigma_{r}$). Then one can simply plot the proportion of variance explained by internal variability : $\\frac{\\sigma_{r}}{\\sigma_{s} + \\sigma{r}}$"
   ]
  },
  {
   "cell_type": "code",
   "execution_count": 1,
   "metadata": {},
   "outputs": [
    {
     "name": "stdout",
     "output_type": "stream",
     "text": [
      "The history saving thread hit an unexpected error (OperationalError('disk I/O error',)).History will not be written to the database.\n"
     ]
    }
   ],
   "source": [
    "import glob\n",
    "\n",
    "import numpy as np\n",
    "import numpy.polynomial.polynomial as poly\n",
    "import pandas as pd\n",
    "import xarray as xr\n",
    "\n",
    "import matplotlib.pyplot as plt\n",
    "from mpl_toolkits.basemap import Basemap\n",
    "%matplotlib inline\n",
    "plt.style.use('ocn-clim')\n",
    "import cmocean.cm as cm\n",
    "\n",
    "import cartopy.crs as ccrs\n",
    "import cartopy.feature as cfeature"
   ]
  },
  {
   "cell_type": "code",
   "execution_count": 2,
   "metadata": {
    "collapsed": true
   },
   "outputs": [],
   "source": [
    "import esmtools as et"
   ]
  },
  {
   "cell_type": "markdown",
   "metadata": {},
   "source": [
    "# Functions"
   ]
  },
  {
   "cell_type": "code",
   "execution_count": 4,
   "metadata": {
    "collapsed": true
   },
   "outputs": [],
   "source": [
    "def load_in_filtered_data(VAR, EBU, AW=True):\n",
    "    \"\"\"\n",
    "    Loads in the netCDF files for the ensemble mean and residuals for any inputted variable\n",
    "    and returns an xarray dataset for the forced signal, residuals, and the total time series\n",
    "    (simply the sum of the two previous components).\n",
    "    \"\"\"\n",
    "    fileDir = '/glade/p/work/rbrady/EBUS_BGC_Variability/' + VAR + '/' + EBU + '/filtered_output/'\n",
    "    if AW == True:\n",
    "        ds_forced = xr.open_dataset(fileDir + EBU.lower() + '-' + VAR + '-forced-signal-AW-chavez-800km.nc')\n",
    "        ds_residuals = xr.open_dataset(fileDir + EBU.lower() + '-' + VAR + '-residuals-AW-chavez-800km.nc')\n",
    "    if AW == False:\n",
    "        ds_forced = xr.open_dataset(fileDir + EBU.lower() + '-' + VAR + '-forced-signal-chavez-800km.nc')\n",
    "        ds_residuals = xr.open_dataset(fileDir + EBU.lower() + '-' + VAR + '-residuals-chavez-800km.nc')\n",
    "    ds_total = ds_forced + ds_residuals\n",
    "    return ds_forced, ds_residuals, ds_total"
   ]
  },
  {
   "cell_type": "markdown",
   "metadata": {},
   "source": [
    "# (0) Can we make a strong case to just investigate the natural flux of CO$_{2}$ for awhile?\n",
    "\n",
    "A decent starting point would be to map/quantify the variability due to natural carbon and the variability due to anthropogenic carbon. What's the relative proportion that is natural?\n",
    "\n",
    "**NOTE** : Need to wait until I re-run the EBUS_Extraction and residuals stuff on the new data. I might have changed the way this was handled before, since it creates two different overhead grids."
   ]
  },
  {
   "cell_type": "code",
   "execution_count": null,
   "metadata": {
    "collapsed": true
   },
   "outputs": [],
   "source": [
    "EBU = 'HumCS'"
   ]
  },
  {
   "cell_type": "code",
   "execution_count": null,
   "metadata": {
    "collapsed": true
   },
   "outputs": [],
   "source": [
    "nat_mean, nat_resid, nat_total = load_in_filtered_data('FG_ALT_CO2', EBU, AW=False)\n",
    "con_mean, con_resid, con_total = load_in_filtered_data('FG_CO2', EBU, AW=False)\n",
    "ant_mean, ant_resid, ant_total = load_in_filtered_data('FG_ANT_CO2', EBU, AW=False)"
   ]
  },
  {
   "cell_type": "markdown",
   "metadata": {},
   "source": [
    "# (1) How much of the spatial variability is internal vs. seasonal?\n",
    "Let's split the natural carbon flux into it's seasonal variability component and internal variability component. We can then make maps of the relative contribution of the non-seasonal component."
   ]
  },
  {
   "cell_type": "code",
   "execution_count": null,
   "metadata": {
    "collapsed": true
   },
   "outputs": [],
   "source": [
    "# Start by illustrating the methodology on a box-averaged situation to prove you're doing it right.\n",
    "nat_mean, nat_resid, nat_total = load_in_filtered_data('FG_ALT_CO2', EBU)\n",
    "\n",
    "# Now have a function in my package to do the whole process. Compared with\n",
    "# the step-by-step and it works.\n",
    "s_magnitude = nat_mean.apply(et.ufunc.seasonal_magnitude)\n",
    "s_magnitude = s_magnitude['FG_ALT_CO2_AW']\n",
    "\n",
    "# And the internal variability...\n",
    "r_magnitude = nat_resid['FG_ALT_CO2_AW'].std(dim='time').mean()"
   ]
  },
  {
   "cell_type": "code",
   "execution_count": null,
   "metadata": {
    "collapsed": true
   },
   "outputs": [],
   "source": [
    "# Compute the seasonality component for graphing purposes.\n",
    "detrended = nat_mean.apply(et.ufunc.remove_polynomial_fit)\n",
    "nat_seasonality = detrended.groupby('time.month').mean()"
   ]
  },
  {
   "cell_type": "code",
   "execution_count": null,
   "metadata": {
    "collapsed": true
   },
   "outputs": [],
   "source": [
    "fig = plt.figure(figsize=(5,3))\n",
    "ax = plt.subplot(111)\n",
    "nat_seasonality['FG_ALT_CO2_AW'].plot(color='k')\n",
    "ax.set(title=EBU + ' F$_{\\mathrm{Nat}}$ Seasonal Cycle',\n",
    "       xticks=np.arange(1,13,1), ylabel='Natural CO$_{2}$ Flux')\n",
    "ax.text(1, 1, '$\\sigma$ = ' + str(s_magnitude.values.round(3)), size='x-large')\n",
    "\n",
    "#et.vis.savefig(EBU + '_Seasonal_Cycle')"
   ]
  },
  {
   "cell_type": "code",
   "execution_count": null,
   "metadata": {
    "collapsed": true
   },
   "outputs": [],
   "source": [
    "fig = plt.figure(figsize=(12,3))\n",
    "ax = plt.subplot(111)\n",
    "for i in np.arange(0, 34, 1):\n",
    "    nat_resid['FG_ALT_CO2_AW'][i].plot(color='#D3D3D3', linewidth=2)\n",
    "ax.set(xlim=['1920','2015'], title=EBU + ' F$_{\\mathrm{Nat}}$ Residuals',\n",
    "       ylabel='Natural CO$_{2}$ Flux', xlabel='')\n",
    "ax.text('1925', 4, '$\\sigma$ = ' + str(r_magnitude.values.round(3)),\n",
    "        size='x-large')\n",
    "#et.vis.savefig(EBU + '_Residual_Spread')"
   ]
  },
  {
   "cell_type": "code",
   "execution_count": null,
   "metadata": {
    "collapsed": true
   },
   "outputs": [],
   "source": [
    "non_seasonal_variability = r_magnitude / (s_magnitude + r_magnitude)\n",
    "print(\"The non-seasonal component of variability is : \" + str(non_seasonal_variability.values.round(3)))"
   ]
  },
  {
   "cell_type": "markdown",
   "metadata": {},
   "source": [
    "# (2) What do these two analyses look like on a grid cell basis?"
   ]
  },
  {
   "cell_type": "markdown",
   "metadata": {},
   "source": [
    "### Computing the Relative Magnitudes"
   ]
  },
  {
   "cell_type": "code",
   "execution_count": 33,
   "metadata": {
    "collapsed": true
   },
   "outputs": [],
   "source": [
    "EBU = 'CalCS'"
   ]
  },
  {
   "cell_type": "code",
   "execution_count": 34,
   "metadata": {
    "collapsed": true
   },
   "outputs": [],
   "source": [
    "# Bring down full grid\n",
    "nat_mean, nat_resid, nat_total = load_in_filtered_data('FG_ALT_CO2', EBU, AW=False)"
   ]
  },
  {
   "cell_type": "code",
   "execution_count": null,
   "metadata": {
    "collapsed": true
   },
   "outputs": [],
   "source": [
    "# Compute the seasonal magnitude component\n",
    "stacked = nat_mean['FG_ALT_CO2'].stack(allpoints=['nlat', 'nlon'])\n",
    "operation = stacked.groupby('allpoints', squeeze=False).apply(et.ufunc.seasonal_magnitude)\n",
    "s_magnitude = operation.unstack('allpoints')"
   ]
  },
  {
   "cell_type": "code",
   "execution_count": null,
   "metadata": {
    "collapsed": true
   },
   "outputs": [],
   "source": [
    "# Compute the mean internal magnitude component\n",
    "r_magnitude = nat_resid['FG_ALT_CO2'].std(dim='time').mean(dim='ensemble')"
   ]
  },
  {
   "cell_type": "code",
   "execution_count": null,
   "metadata": {
    "collapsed": true
   },
   "outputs": [],
   "source": [
    "# Create relative contribution.\n",
    "relative_internal = (r_magnitude / (r_magnitude + s_magnitude)) * 100"
   ]
  },
  {
   "cell_type": "code",
   "execution_count": null,
   "metadata": {
    "collapsed": true
   },
   "outputs": [],
   "source": [
    "# Data\n",
    "lat = relative_internal['TLAT'].values\n",
    "lon = relative_internal['TLONG'].values\n",
    "data = relative_internal.to_masked_array()\n",
    "\n",
    "# Set Extent\n",
    "x0,x1,y0,y1 = et.ebus.visual_bounds(EBU, std_lon=True)\n",
    "#x0=-135\n",
    "#x1 = -115\n",
    "#y0=32\n",
    "\n",
    "# Plot\n",
    "f, ax = et.vis.make_cartopy(grid_lines=False, projection=ccrs.Mercator(),\n",
    "                     land_color='#d3d3d3', frameon=False)\n",
    "plt.pcolor(lon-0.5, lat, data, transform=ccrs.PlateCarree(),\n",
    "           edgecolor='w', vmin=0, vmax=100,\n",
    "           cmap=et.vis.discrete_cmap(10, 'BrBG_r'))\n",
    "ax.set_extent([x0,x1,y0,y1])\n",
    "cb = plt.colorbar(ax=ax, ticks=[0,25,50,75,100], orientation='horizontal',\n",
    "                 fraction=0.045, pad=0.04, label='Non-Seasonal Variability [%]')\n",
    "ax.set_title('Fraction of F$_{\\mathrm{Nat}}$ Due to Internal Variability',\n",
    "             fontsize='xx-large')\n",
    "\n",
    "\n",
    "# Save Plot\n",
    "#et.vis.savefig('fractional_internal_variability_FG_ALT_CO2' + EBU)"
   ]
  },
  {
   "cell_type": "markdown",
   "metadata": {},
   "source": [
    "# (3) What does this look like when we involve the trend?\n",
    "Can we make some plots comparing the long-term anthropogenic trend?\n",
    "\n",
    "** Note **: Will do this once I get my hands on the FG_ANT_CO2 output."
   ]
  },
  {
   "cell_type": "code",
   "execution_count": null,
   "metadata": {
    "collapsed": true
   },
   "outputs": [],
   "source": []
  },
  {
   "cell_type": "markdown",
   "metadata": {},
   "source": [
    "# (4) How does the non-seasonal variability look relative to large ocean basins?\n",
    "\n",
    "Nikki wants to make a point that these systems are anomalously high in internal variability. Going to try two approaches to this:\n",
    "\n",
    "1. Make a global map of the non-seasonal variability and see if these pop out.\n",
    "2. Use REGION_MASK to compute these on an area-weighted scale and then make bar plots."
   ]
  },
  {
   "cell_type": "markdown",
   "metadata": {},
   "source": [
    "### Global Map Approach\n",
    "Note that I applied the seasonal_magnitude function to the entire global grid of ensemble mean FG_ALT_CO2. I just removed those cells to keep this notebook clean, since I saved the output to a netcdf."
   ]
  },
  {
   "cell_type": "code",
   "execution_count": null,
   "metadata": {
    "collapsed": true
   },
   "outputs": [],
   "source": [
    "import glob\n",
    "fileDir = '/glade/u/home/rbrady/scratch/EBUS_BGC_Variability/FG_ALT_CO2_monthly/'\n",
    "ds = xr.open_mfdataset(fileDir + 'reduced*.nc', decode_times=False, concat_dim='ensemble')\n",
    "#ds = ds['FG_ALT_CO2']"
   ]
  },
  {
   "cell_type": "code",
   "execution_count": null,
   "metadata": {
    "collapsed": true
   },
   "outputs": [],
   "source": [
    "ds = ds.mean(dim='ensemble')\n",
    "timeDim = pd.date_range('1920-01','2101-01',freq='M')\n",
    "ds['time'] = timeDim\n",
    "ds = ds.sel(time=slice('1920-01', '2015-12'))"
   ]
  },
  {
   "cell_type": "code",
   "execution_count": null,
   "metadata": {},
   "outputs": [],
   "source": [
    "ds"
   ]
  },
  {
   "cell_type": "code",
   "execution_count": null,
   "metadata": {
    "collapsed": true
   },
   "outputs": [],
   "source": [
    "ds.to_netcdf('/glade/u/home/rbrady/work/EBUS_BGC_Variability/test.nc')"
   ]
  },
  {
   "cell_type": "code",
   "execution_count": null,
   "metadata": {
    "collapsed": true
   },
   "outputs": [],
   "source": [
    "# Rework to get map of internal variability magnitude and seasonal magnitude.\n",
    "stacked = ds.stack(allpoints=['nlat','nlon'])"
   ]
  },
  {
   "cell_type": "code",
   "execution_count": null,
   "metadata": {
    "collapsed": true
   },
   "outputs": [],
   "source": [
    "operation = stacked.groupby('allpoints', squeeze=False).apply(et.ufunc.seasonal_magnitude)"
   ]
  },
  {
   "cell_type": "code",
   "execution_count": null,
   "metadata": {
    "collapsed": true
   },
   "outputs": [],
   "source": [
    "seasonal_magnitude = operation.unstack('allpoints')"
   ]
  },
  {
   "cell_type": "markdown",
   "metadata": {},
   "source": [
    "# (4b) Load in already processed files"
   ]
  },
  {
   "cell_type": "code",
   "execution_count": null,
   "metadata": {
    "collapsed": true
   },
   "outputs": [],
   "source": [
    "fileDir = '/glade/u/home/rbrady/work/EBUS_BGC_Variability/FG_ALT_CO2/global/proportional_internal_variability_global.nc'\n",
    "ds = xr.open_dataset(fileDir)"
   ]
  },
  {
   "cell_type": "code",
   "execution_count": null,
   "metadata": {
    "collapsed": true
   },
   "outputs": [],
   "source": [
    "data = ds['relative_internal']\n",
    "lon = ds['TLONG']\n",
    "lat = ds['TLAT']"
   ]
  },
  {
   "cell_type": "code",
   "execution_count": null,
   "metadata": {
    "collapsed": true
   },
   "outputs": [],
   "source": [
    "EBUS = ['CalCS', 'HumCS', 'CanCS', 'BenCS']\n",
    "lon, lat, data = et.vis.deseam(lon, lat, data)"
   ]
  },
  {
   "cell_type": "code",
   "execution_count": null,
   "metadata": {
    "collapsed": true
   },
   "outputs": [],
   "source": [
    "f, ax = et.vis.make_cartopy()\n",
    "m = ax.pcolormesh(lon, lat, data, transform=ccrs.PlateCarree(),\n",
    "                  vmin=0, vmax=100, cmap=et.vis.discrete_cmap(10, 'RdBu_r'))\n",
    "cb = plt.colorbar(m, ax=ax, orientation='horizontal', pad=0.05,\n",
    "                  ticks=[0,25,50,75,100])\n",
    "ax.set_title('Relative Importance of Internal Variability for F$_{\\mathrm{Nat}}$')\n",
    "cb.set_label('Non-Seasonal Variability [%]')\n",
    "\n",
    "for EBC in EBUS:\n",
    "    x0, x1, y0, y1 = et.ebus.visual_bounds(EBC)\n",
    "    et.vis.add_box(ax, x0, x1, y0, y1,\n",
    "                   facecolor='#d3d3d3', edgecolor='k',\n",
    "                   linewidth=2, alpha=0.3)\n",
    "    \n",
    "#et.vis.savefig('global_importance_of_internal_Fnat')"
   ]
  }
 ],
 "metadata": {
  "kernelspec": {
   "display_name": "Python 3",
   "language": "python",
   "name": "python3"
  },
  "language_info": {
   "codemirror_mode": {
    "name": "ipython",
    "version": 3
   },
   "file_extension": ".py",
   "mimetype": "text/x-python",
   "name": "python",
   "nbconvert_exporter": "python",
   "pygments_lexer": "ipython3",
   "version": "3.6.1"
  }
 },
 "nbformat": 4,
 "nbformat_minor": 2
}
