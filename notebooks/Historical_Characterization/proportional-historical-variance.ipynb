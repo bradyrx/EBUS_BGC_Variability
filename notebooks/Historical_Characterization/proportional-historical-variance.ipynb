{
 "cells": [
  {
   "cell_type": "markdown",
   "metadata": {},
   "source": [
    "# Proportional Historical Variance\n",
    "Let's compare the relative magnitudes of the seasonal component and non-seasonal component of FG_CO2 in each region. Through climate diagnostics practices, this is quite simple: find the mean seasonal cycle historically and take the standard deviation of it ($\\sigma_{s}$). Then find the mean standard deviation of all the residuals ($\\sigma_{r}$). Then one can simply plot the proportion of variance explained by internal variability : $\\frac{\\sigma_{r}}{\\sigma_{s} + \\sigma{r}}$"
   ]
  },
  {
   "cell_type": "code",
   "execution_count": 32,
   "metadata": {
    "collapsed": true
   },
   "outputs": [],
   "source": [
    "import numpy as np\n",
    "import numpy.polynomial.polynomial as poly\n",
    "import pandas as pd\n",
    "import xarray as xr\n",
    "\n",
    "import matplotlib.pyplot as plt\n",
    "from mpl_toolkits.basemap import Basemap\n",
    "%matplotlib inline\n",
    "plt.style.use('ocn-clim')\n",
    "import cmocean.cm as cm"
   ]
  },
  {
   "cell_type": "markdown",
   "metadata": {},
   "source": [
    "# Functions"
   ]
  },
  {
   "cell_type": "code",
   "execution_count": 326,
   "metadata": {
    "collapsed": true
   },
   "outputs": [],
   "source": [
    "def load_in_filtered_data(VAR, EBU, AW=True):\n",
    "    \"\"\"\n",
    "    Loads in the netCDF files for the ensemble mean and residuals for any inputted variable\n",
    "    and returns an xarray dataset for the forced signal, residuals, and the total time series\n",
    "    (simply the sum of the two previous components).\n",
    "    \"\"\"\n",
    "    fileDir = '/glade/p/work/rbrady/EBUS_BGC_Variability/' + VAR + '/' + EBU + '/filtered_output/'\n",
    "    if AW == True:\n",
    "        ds_forced = xr.open_dataset(fileDir + EBU.lower() + '-' + VAR + '-forced-signal-AW-chavez-800km.nc')\n",
    "        ds_residuals = xr.open_dataset(fileDir + EBU.lower() + '-' + VAR + '-residuals-AW-chavez-800km.nc')\n",
    "    if AW == False:\n",
    "        ds_forced = xr.open_dataset(fileDir + EBU.lower() + '-' + VAR + '-forced-signal-chavez-800km.nc')\n",
    "        ds_residuals = xr.open_dataset(fileDir + EBU.lower() + '-' + VAR + '-residuals-chavez-800km.nc')\n",
    "    ds_total = ds_forced + ds_residuals\n",
    "    return ds_forced, ds_residuals, ds_total"
   ]
  },
  {
   "cell_type": "code",
   "execution_count": 327,
   "metadata": {
    "collapsed": true
   },
   "outputs": [],
   "source": [
    "def remove_polynomial_fit(data):\n",
    "    \"\"\"\n",
    "    Takes in a time series and removes a polynomial fit, returning the detrended time series.\n",
    "    \"\"\"\n",
    "    x = np.arange(0, len(data), 1)\n",
    "    coefs = poly.polyfit(x, data, 4)\n",
    "    line_fit = poly.polyval(x, coefs)\n",
    "    unfitted = data - line_fit\n",
    "    return xr.DataArray(unfitted)"
   ]
  },
  {
   "cell_type": "code",
   "execution_count": 422,
   "metadata": {
    "collapsed": true
   },
   "outputs": [],
   "source": [
    "def visual_bounds(EBU):\n",
    "    \"\"\"\n",
    "    Zooms the map into the appropriate region for plotting the EBU of choice.\n",
    "    \"\"\"\n",
    "    if EBU == \"CalCS\":\n",
    "        lat1 = 34\n",
    "        lat2 = 46\n",
    "        lon1 = -135+360\n",
    "        lon2 = -113+360\n",
    "    elif EBU == 'HumCS':\n",
    "        lat1 = -18\n",
    "        lat2 = -4\n",
    "        lon1 = -90\n",
    "        lon2 = -70\n",
    "    elif EBU == 'CanCS':\n",
    "        lat1 = 10\n",
    "        lat2 = 25\n",
    "        lon1 = -24\n",
    "        lon2 = -11\n",
    "    elif EBU == 'BenCS':\n",
    "        lat1 = -35\n",
    "        lat2 = -15\n",
    "        lon1 = 5\n",
    "        lon2 = 20\n",
    "    return lat1,lat2,lon1,lon2"
   ]
  },
  {
   "cell_type": "code",
   "execution_count": 423,
   "metadata": {
    "collapsed": true
   },
   "outputs": [],
   "source": [
    "def setup_map(ax, lat1, lat2, lon1, lon2):\n",
    "    \"\"\"\n",
    "    Sets up our Basemap projection for plotting.\n",
    "    \"\"\"\n",
    "    m = Basemap(projection='merc',\n",
    "                lat_0=(lat1+lat2)/2,\n",
    "                lon_0=(lon1+lon2)/2,\n",
    "                llcrnrlon=lon1,\n",
    "                urcrnrlon=lon2,\n",
    "                llcrnrlat=lat1,\n",
    "                urcrnrlat=lat2,\n",
    "                fix_aspect=False,\n",
    "                resolution='c')\n",
    "    m.fillcontinents(color='#D3D3D3')\n",
    "    return m"
   ]
  },
  {
   "cell_type": "code",
   "execution_count": 424,
   "metadata": {
    "collapsed": true
   },
   "outputs": [],
   "source": [
    "def discrete_cmap(N, base_cmap=None):\n",
    "    \"\"\"Create an N-bin discrete colormap from the specified input map\"\"\"\n",
    "\n",
    "    # Note that if base_cmap is a string or None, you can simply do\n",
    "    #    return plt.cm.get_cmap(base_cmap, N)\n",
    "    # The following works for string, None, or a colormap instance:\n",
    "\n",
    "    base = plt.cm.get_cmap(base_cmap)\n",
    "    color_list = base(np.linspace(0, 1, N))\n",
    "    cmap_name = base.name + str(N)\n",
    "    return base.from_list(cmap_name, color_list, N)"
   ]
  },
  {
   "cell_type": "markdown",
   "metadata": {},
   "source": [
    "# (0) Can we make a strong case to just investigate the natural flux of CO$_{2}$ for awhile?\n",
    "\n",
    "A decent starting point would be to map/quantify the variability due to natural carbon and the variability due to anthropogenic carbon. What's the relative proportion that is natural?\n",
    "\n",
    "**NOTE** : Need to wait until I re-run the EBUS_Extraction and residuals stuff on the new data. I might have changed the way this was handled before, since it creates two different overhead grids."
   ]
  },
  {
   "cell_type": "code",
   "execution_count": 381,
   "metadata": {},
   "outputs": [],
   "source": [
    "nat_mean, nat_resid, nat_total = load_in_filtered_data('FG_ALT_CO2', EBU, AW=False)\n",
    "con_mean, con_resid, con_total = load_in_filtered_data('FG_CO2', EBU, AW=False)"
   ]
  },
  {
   "cell_type": "markdown",
   "metadata": {},
   "source": [
    "# (1) How much of the spatial variability is internal vs. seasonal?\n",
    "Let's split the natural carbon flux into it's seasonal variability component and internal variability component. We can then make maps of the relative contribution of the non-seasonal component."
   ]
  },
  {
   "cell_type": "code",
   "execution_count": 451,
   "metadata": {
    "collapsed": true
   },
   "outputs": [],
   "source": [
    "EBU = 'CalCS'"
   ]
  },
  {
   "cell_type": "code",
   "execution_count": 496,
   "metadata": {},
   "outputs": [
    {
     "data": {
      "text/plain": [
       "<xarray.DataArray 'FG_ALT_CO2_AW' ()>\n",
       "array(0.298016623019907)"
      ]
     },
     "execution_count": 496,
     "metadata": {},
     "output_type": "execute_result"
    }
   ],
   "source": [
    "# Start by illustrating the methodology on a box-averaged situation to prove you're doing it right.\n",
    "nat_mean, nat_resid, nat_total = load_in_filtered_data('FG_ALT_CO2', EBU)\n",
    "\n",
    "# Detrend to get a zero-centered seasonality.\n",
    "data = nat_mean['FG_ALT_CO2_AW']\n",
    "x = np.arange(0, data.size, 1)\n",
    "coefs = poly.polyfit(x, data, 4)\n",
    "line_fit = poly.polyval(x, coefs)\n",
    "unfitted = data - line_fit\n",
    "\n",
    "s_mag = unfitted.groupby('time.month').mean().std()\n",
    "r_mag = nat_resid['FG_ALT_CO2_AW'].std(dim='time').mean(dim='ensemble')\n",
    "r_mag / (r_mag + s_mag)\n",
    "\n",
    "#nat_seasonal_cycle = nat_mean.apply(remove_polynomial_fit)\n",
    "\n",
    "# Compute the \"average\" seasonal cycle\n",
    "#nat_seasonality = nat_seasonal_cycle.groupby('time.month').mean(dim='time')\n",
    "\n",
    "# Compute the magnitude of this seasonal cycle.\n",
    "#s_magnitude = nat_seasonality['FG_ALT_CO2_AW'].std()"
   ]
  },
  {
   "cell_type": "code",
   "execution_count": 418,
   "metadata": {},
   "outputs": [
    {
     "data": {
      "text/plain": [
       "<matplotlib.text.Text at 0x2aaaf1b929b0>"
      ]
     },
     "execution_count": 418,
     "metadata": {},
     "output_type": "execute_result"
    },
    {
     "data": {
      "image/png": "[encoded data removed]",
      "text/plain": [
       "<matplotlib.figure.Figure at 0x2aaaf2787588>"
      ]
     },
     "metadata": {},
     "output_type": "display_data"
    }
   ],
   "source": [
    "fig = plt.figure(figsize=(5,3))\n",
    "ax = plt.subplot(111)\n",
    "nat_seasonality['FG_ALT_CO2_AW'].plot(color='k')\n",
    "ax.set(title=EBU + ' F$_{\\mathrm{Nat}}$ Seasonal Cycle',\n",
    "       xticks=np.arange(1,13,1), ylabel='Natural CO$_{2}$ Flux')\n",
    "ax.text(1, 1, '$\\sigma$ = ' + str(s_magnitude.values.round(3)), size='x-large')\n",
    "#plt.savefig(EBU + '_Seasonal_Cycle.png', transparent=True, dpi=300,\n",
    "#            bbox_inches='tight', pad_inches=1)"
   ]
  },
  {
   "cell_type": "code",
   "execution_count": 419,
   "metadata": {},
   "outputs": [],
   "source": [
    "# Compute the magnitude of internal variability\n",
    "r_magnitude = nat_resid['FG_ALT_CO2_AW'].std(dim='time').mean()"
   ]
  },
  {
   "cell_type": "code",
   "execution_count": 420,
   "metadata": {},
   "outputs": [
    {
     "data": {
      "text/plain": [
       "<matplotlib.text.Text at 0x2aaaf3a46eb8>"
      ]
     },
     "execution_count": 420,
     "metadata": {},
     "output_type": "execute_result"
    },
    {
     "data": {
      "image/png": "[encoded data removed]",
      "text/plain": [
       "<matplotlib.figure.Figure at 0x2aaaf4ffeb70>"
      ]
     },
     "metadata": {},
     "output_type": "display_data"
    }
   ],
   "source": [
    "fig = plt.figure(figsize=(12,3))\n",
    "ax = plt.subplot(111)\n",
    "for i in np.arange(0, 34, 1):\n",
    "    nat_resid['FG_ALT_CO2_AW'][i].plot(color='#D3D3D3', linewidth=2)\n",
    "ax.set(xlim=['1920','2015'], title=EBU + ' F$_{\\mathrm{Nat}}$ Residuals',\n",
    "       ylabel='Natural CO$_{2}$ Flux', xlabel='')\n",
    "ax.text('1925', 4, '$\\sigma$ = ' + str(r_magnitude.values.round(3)),\n",
    "        size='x-large')\n",
    "#plt.savefig(EBU + '_Residual_Spread.png', transparent=True, dpi=300,\n",
    "#            bbox_inches='tight', pad_inches=1)"
   ]
  },
  {
   "cell_type": "code",
   "execution_count": 421,
   "metadata": {},
   "outputs": [
    {
     "name": "stdout",
     "output_type": "stream",
     "text": [
      "The non-seasonal component of variability is : 0.48\n"
     ]
    }
   ],
   "source": [
    "non_seasonal_variability = r_magnitude / (s_magnitude + r_magnitude)\n",
    "print(\"The non-seasonal component of variability is : \" + str(non_seasonal_variability.values.round(2)))"
   ]
  },
  {
   "cell_type": "markdown",
   "metadata": {},
   "source": [
    "# (2) What do these two analyses look like on a grid cell basis?"
   ]
  },
  {
   "cell_type": "markdown",
   "metadata": {},
   "source": [
    "### Computing the Relative Magnitudes"
   ]
  },
  {
   "cell_type": "code",
   "execution_count": 527,
   "metadata": {
    "collapsed": true
   },
   "outputs": [],
   "source": [
    "EBU = 'HumCS'"
   ]
  },
  {
   "cell_type": "code",
   "execution_count": 528,
   "metadata": {
    "collapsed": true
   },
   "outputs": [],
   "source": [
    "import numpy.polynomial.polynomial as poly\n",
    "def seasonal_magnitude(ds):\n",
    "    \"\"\"\n",
    "    This operation takes in an ensemble mean, assuming there's some seasonal cycle component\n",
    "    and some trend component. It then detrends this mean with a 4th order fit to make it stationary.\n",
    "    It'll finally take the standard deviation of the climatological mean seasonal cycle and return\n",
    "    a grid of values that represent the magnitude of the seasonal cycle.\n",
    "    \"\"\"\n",
    "    # We have some NaN time series here from our bounding box. \n",
    "    # Just ignore these because we can't fit them with any curve.\n",
    "    if ds.min().isnull():\n",
    "        return xr.DataArray(np.nan)\n",
    "    else:\n",
    "        # First, detrend this beast!\n",
    "        x = np.arange(0, len(ds), 1)\n",
    "        coefs = poly.polyfit(x, ds, 4)\n",
    "        poly_fit = poly.polyval(x, coefs)\n",
    "        seasonality = ds - poly_fit\n",
    "        # Next, find the climatological seasonal cycle.\n",
    "        magnitude = seasonality.groupby('time.month').mean().std()\n",
    "        return xr.DataArray(magnitude)"
   ]
  },
  {
   "cell_type": "code",
   "execution_count": 529,
   "metadata": {
    "collapsed": true
   },
   "outputs": [],
   "source": [
    "# Bring down full grid\n",
    "nat_mean, nat_resid, nat_total = load_in_filtered_data('FG_ALT_CO2', EBU, AW=False)"
   ]
  },
  {
   "cell_type": "code",
   "execution_count": 530,
   "metadata": {
    "collapsed": true
   },
   "outputs": [],
   "source": [
    "# Compute the seasonal magnitude component\n",
    "stacked = nat_mean['FG_ALT_CO2'].stack(allpoints=['nlat', 'nlon'])\n",
    "operation = stacked.groupby('allpoints', squeeze=False).apply(seasonal_magnitude)\n",
    "s_magnitude = operation.unstack('allpoints')"
   ]
  },
  {
   "cell_type": "code",
   "execution_count": 531,
   "metadata": {
    "collapsed": true
   },
   "outputs": [],
   "source": [
    "# Compute the mean internal magnitude component\n",
    "r_magnitude = nat_resid['FG_ALT_CO2'].std(dim='time').mean(dim='ensemble')"
   ]
  },
  {
   "cell_type": "code",
   "execution_count": 532,
   "metadata": {
    "collapsed": true
   },
   "outputs": [],
   "source": [
    "# Create relative contribution.\n",
    "relative_internal = (r_magnitude / (r_magnitude + s_magnitude)) * 100"
   ]
  },
  {
   "cell_type": "code",
   "execution_count": 534,
   "metadata": {},
   "outputs": [
    {
     "data": {
      "text/plain": [
       "<matplotlib.text.Text at 0x2aaaf31d6f60>"
      ]
     },
     "execution_count": 534,
     "metadata": {},
     "output_type": "execute_result"
    },
    {
     "data": {
      "image/png": "[encoded data removed]",
      "text/plain": [
       "<matplotlib.figure.Figure at 0x2aaaf3114e80>"
      ]
     },
     "metadata": {},
     "output_type": "display_data"
    }
   ],
   "source": [
    "# Data to plot\n",
    "lat = relative_internal['TLAT'].values\n",
    "lon = relative_internal['TLONG'].values-360\n",
    "data = relative_internal.to_masked_array()\n",
    "\n",
    "# Figure Setup\n",
    "fig = plt.figure(figsize=(5,5))\n",
    "ax = plt.subplot(111)\n",
    "lat1,lat2,lon1,lon2 = visual_bounds(EBU)\n",
    "m = setup_map(ax,lat1,lat2,lon1,lon2)\n",
    "\n",
    "# Visualize\n",
    "m.pcolor(lon-0.5, lat, data, vmin=0, vmax=100, latlon=True,\n",
    "         cmap=discrete_cmap(10, 'BrBG_r'), edgecolor='w')\n",
    "m.colorbar(location='bottom', ticks=[0,25,50,75,100],\n",
    "          label='Non-Seasonal Variability [%]')\n",
    "ax.set_title('Fraction of F$_{\\mathrm{Nat}}$ Due to Internal Variability', fontsize='x-large')\n",
    "\n",
    "# Save plot\n",
    "#plt.savefig('fractional_internal_variability_FG_ALT_CO2_' + EBU + '.png',\n",
    "#            bbox_inches='tight', pad_inches=1, transparent=True, dpi=300)"
   ]
  },
  {
   "cell_type": "markdown",
   "metadata": {},
   "source": [
    "# (3) What does this look like when we involve the trend?\n",
    "Can we make some plots comparing the long-term anthropogenic trend?"
   ]
  },
  {
   "cell_type": "code",
   "execution_count": null,
   "metadata": {
    "collapsed": true
   },
   "outputs": [],
   "source": []
  }
 ],
 "metadata": {
  "kernelspec": {
   "display_name": "Python 3",
   "language": "python",
   "name": "python3"
  },
  "language_info": {
   "codemirror_mode": {
    "name": "ipython",
    "version": 3
   },
   "file_extension": ".py",
   "mimetype": "text/x-python",
   "name": "python",
   "nbconvert_exporter": "python",
   "pygments_lexer": "ipython3",
   "version": "3.6.1"
  }
 },
 "nbformat": 4,
 "nbformat_minor": 2
}
