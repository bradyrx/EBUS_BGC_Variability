{
 "cells": [
  {
   "cell_type": "markdown",
   "metadata": {},
   "source": [
    "# Proportional Historical Variance\n",
    "Let's compare the relative magnitudes of the seasonal component and non-seasonal component of FG_CO2 in each region. Through climate diagnostics practices, this is quite simple: find the mean seasonal cycle historically and take the standard deviation of it ($\\sigma_{s}$). Then find the mean standard deviation of all the residuals ($\\sigma_{r}$). Then one can simply plot the proportion of variance explained by internal variability : $\\frac{\\sigma_{r}}{\\sigma_{s} + \\sigma{r}}$"
   ]
  },
  {
   "cell_type": "code",
   "execution_count": 55,
   "metadata": {
    "collapsed": true
   },
   "outputs": [],
   "source": [
    "import numpy as np\n",
    "import pandas as pd\n",
    "import xarray as xr\n",
    "\n",
    "import matplotlib.pyplot as plt\n",
    "from mpl_toolkits.basemap import Basemap\n",
    "%matplotlib inline\n",
    "plt.style.use('ocn-clim')\n",
    "import cmocean.cm as cm"
   ]
  },
  {
   "cell_type": "code",
   "execution_count": 148,
   "metadata": {
    "collapsed": true
   },
   "outputs": [],
   "source": [
    "EBU = 'BenCS'"
   ]
  },
  {
   "cell_type": "markdown",
   "metadata": {},
   "source": [
    "# Load in CO$_{2}$ Flux Time Series for Region"
   ]
  },
  {
   "cell_type": "code",
   "execution_count": 3,
   "metadata": {
    "collapsed": true
   },
   "outputs": [],
   "source": [
    "def load_in_filtered_data(VAR, EBU, AW=True):\n",
    "    \"\"\"\n",
    "    Loads in the netCDF files for the ensemble mean and residuals for any inputted variable\n",
    "    and returns an xarray dataset for the forced signal, residuals, and the total time series\n",
    "    (simply the sum of the two previous components).\n",
    "    \"\"\"\n",
    "    fileDir = '/glade/p/work/rbrady/EBUS_BGC_Variability/' + VAR + '/' + EBU + '/filtered_output/'\n",
    "    if AW == True:\n",
    "        ds_forced = xr.open_dataset(fileDir + EBU.lower() + '-' + VAR + '-forced-signal-AW-chavez-800km.nc')\n",
    "        ds_residuals = xr.open_dataset(fileDir + EBU.lower() + '-' + VAR + '-residuals-AW-chavez-800km.nc')\n",
    "    if AW == False:\n",
    "        ds_forced = xr.open_dataset(fileDir + EBU.lower() + '-' + VAR + '-forced-signal-chavez-800km.nc')\n",
    "        ds_residuals = xr.open_dataset(fileDir + EBU.lower() + '-' + VAR + '-residuals-chavez-800km.nc')\n",
    "    ds_total = ds_forced + ds_residuals\n",
    "    return ds_forced, ds_residuals, ds_total"
   ]
  },
  {
   "cell_type": "code",
   "execution_count": 4,
   "metadata": {
    "collapsed": true
   },
   "outputs": [],
   "source": [
    "nat_mean, nat_resid, nat_total = load_in_filtered_data('FG_ALT_CO2', EBU)\n",
    "con_mean, con_resid, con_total = load_in_filtered_data('FG_CO2', EBU)\n",
    "\n",
    "# Derive anthropogenic carbon if needed\n",
    "anth_mean = con_mean['FG_CO2_AW'] - nat_mean['FG_ALT_CO2_AW']\n",
    "anth_resid = con_resid['FG_CO2_AW'] - nat_resid['FG_ALT_CO2_AW']\n",
    "anth_total = con_total['FG_CO2_AW'] - nat_total['FG_ALT_CO2_AW']"
   ]
  },
  {
   "cell_type": "markdown",
   "metadata": {},
   "source": [
    "# (1) How much of the variability is internal vs. seasonal?\n",
    "Start out by doing this with the area-weighted time series and then move on to the full domain."
   ]
  },
  {
   "cell_type": "code",
   "execution_count": 5,
   "metadata": {
    "collapsed": true
   },
   "outputs": [],
   "source": [
    "import numpy.polynomial.polynomial as poly\n",
    "def remove_polynomial_fit(data, order=4):\n",
    "    x = np.arange(0, len(data), 1)\n",
    "    coefs = poly.polyfit(x, data, order)\n",
    "    line_fit = poly.polyval(x, coefs)\n",
    "    return (data - line_fit), coefs"
   ]
  },
  {
   "cell_type": "code",
   "execution_count": 6,
   "metadata": {
    "collapsed": true
   },
   "outputs": [],
   "source": [
    "# Remove the 4th order trend just to get the zero-centered seasonality.\n",
    "data = con_mean['FG_CO2_AW'].values\n",
    "t = con_mean['FG_CO2_AW'].time.values\n",
    "contemp_seasonality, _ = remove_polynomial_fit(data)\n",
    "\n",
    "# Put back into xarray to easily compute the standard seasonal cycle\n",
    "contemp_seasonality = xr.DataArray(contemp_seasonality, dims=['time'], coords=[t])"
   ]
  },
  {
   "cell_type": "code",
   "execution_count": 7,
   "metadata": {},
   "outputs": [
    {
     "data": {
      "text/plain": [
       "[<matplotlib.text.Text at 0x2aaae3b76438>,\n",
       " <matplotlib.text.Text at 0x2aaadf3abac8>]"
      ]
     },
     "execution_count": 7,
     "metadata": {},
     "output_type": "execute_result"
    },
    {
     "data": {
      "image/png": "[encoded data removed]",
      "text/plain": [
       "<matplotlib.figure.Figure at 0x2aaae3925a90>"
      ]
     },
     "metadata": {},
     "output_type": "display_data"
    }
   ],
   "source": [
    "# Plot the climatological seasonality\n",
    "fig = plt.figure()\n",
    "ax = plt.subplot(111)\n",
    "contemp_seasonality.groupby('time.month').mean(dim='time').plot()\n",
    "ax.set_title(EBU + ' Contemporary Climatological Seasonal Cycle')\n",
    "ax.set(xlabel='Month', ylabel='CO$_{2}$ Flux [mol/m$^{2}$/yr]')"
   ]
  },
  {
   "cell_type": "code",
   "execution_count": 8,
   "metadata": {},
   "outputs": [
    {
     "name": "stdout",
     "output_type": "stream",
     "text": [
      "The magnitude of the seasonal cycle is : 0.71 mol/m2/yr\n"
     ]
    }
   ],
   "source": [
    "# Compute the magnitude of this seasonal cycle.\n",
    "seasonal_variance = contemp_seasonality.groupby('time.month').mean(dim='time').std()\n",
    "print(\"The magnitude of the seasonal cycle is : \" + str(seasonal_variance.values.round(3)) +\n",
    "       \" mol/m2/yr\")"
   ]
  },
  {
   "cell_type": "code",
   "execution_count": 9,
   "metadata": {},
   "outputs": [
    {
     "data": {
      "text/plain": [
       "[<matplotlib.text.Text at 0x2aaae6f45320>]"
      ]
     },
     "execution_count": 9,
     "metadata": {},
     "output_type": "execute_result"
    },
    {
     "data": {
      "image/png": "[encoded data removed]",
      "text/plain": [
       "<matplotlib.figure.Figure at 0x2aaae3925588>"
      ]
     },
     "metadata": {},
     "output_type": "display_data"
    }
   ],
   "source": [
    "ax = plt.subplot(111)\n",
    "residual_variance = con_resid['FG_CO2_AW'].std(dim='time')\n",
    "plt.hist(residual_variance, edgecolor='w')\n",
    "ax.grid('off')\n",
    "ax.set(xlabel='Standard Deviation of Residuals')"
   ]
  },
  {
   "cell_type": "markdown",
   "metadata": {},
   "source": [
    "Just proving a point that it's fair to take the mean standard deviation of the residuals, since they don't vary all that much simulation-to-simulation. This is being used as a metric for interannual variability."
   ]
  },
  {
   "cell_type": "code",
   "execution_count": 10,
   "metadata": {},
   "outputs": [
    {
     "name": "stdout",
     "output_type": "stream",
     "text": [
      "The magnitude of the seasonal cycle is : 0.331 mol/m2/yr\n",
      "For the CalCS the non-seasonal component of variance is 31.78%\n"
     ]
    }
   ],
   "source": [
    "residual_variance = np.mean(residual_variance)\n",
    "print(\"The magnitude of the seasonal cycle is : \" + str(residual_variance.values.round(3)) +\n",
    "      \" mol/m2/yr\")\n",
    "\n",
    "non_seasonal_variance = (residual_variance / (seasonal_variance + residual_variance)) * 100\n",
    "print(\"For the \" + EBU + \" the non-seasonal component of variance is \" + \n",
    "      str(non_seasonal_variance.values.round(2)) + \"%\")"
   ]
  },
  {
   "cell_type": "markdown",
   "metadata": {},
   "source": [
    "# (2) What percentage of the historical internal variability is natural?\n",
    "Use this to motivate splitting your story into natural carbon and anthropogenic carbon. Can compare the std. deviation of natural residuals and anthropogenic residuals relative to contemporary residuals"
   ]
  },
  {
   "cell_type": "code",
   "execution_count": 11,
   "metadata": {},
   "outputs": [
    {
     "name": "stdout",
     "output_type": "stream",
     "text": [
      "86.579% of the internally generated variability is from natural carbon.\n"
     ]
    }
   ],
   "source": [
    "natural_non_seasonal = nat_resid['FG_ALT_CO2_AW'].std(dim='time').mean().values\n",
    "contemp_non_seasonal = con_resid['FG_CO2_AW'].std(dim='time').mean().values\n",
    "\n",
    "natural_internal_variance = (natural_non_seasonal / contemp_non_seasonal) * 100\n",
    "print(str(natural_internal_variance.round(3)) + \"% of the internally generated variability is \" +\n",
    "     \"from natural carbon.\")"
   ]
  },
  {
   "cell_type": "markdown",
   "metadata": {},
   "source": [
    "# (3) What do these two analyses look like on a grid cell basis?\n",
    "Let's address point (1) and point (2) for each grid cell in the region."
   ]
  },
  {
   "cell_type": "code",
   "execution_count": 107,
   "metadata": {
    "collapsed": true
   },
   "outputs": [],
   "source": [
    "def visual_bounds(EBU):\n",
    "    \"\"\"\n",
    "    Zooms the map into the appropriate region for plotting the EBU of choice.\n",
    "    \"\"\"\n",
    "    if EBU == \"CalCS\":\n",
    "        lat1 = 34\n",
    "        lat2 = 46\n",
    "        lon1 = -135+360\n",
    "        lon2 = -113+360\n",
    "    elif EBU == 'HumCS':\n",
    "        lat1 = -18\n",
    "        lat2 = -4\n",
    "        lon1 = -90\n",
    "        lon2 = -70\n",
    "    elif EBU == 'CanCS':\n",
    "        lat1 = 10\n",
    "        lat2 = 25\n",
    "        lon1 = -24\n",
    "        lon2 = -11\n",
    "    elif EBU == 'BenCS':\n",
    "        lat1 = -35\n",
    "        lat2 = -15\n",
    "        lon1 = 5\n",
    "        lon2 = 20\n",
    "    return lat1,lat2,lon1,lon2"
   ]
  },
  {
   "cell_type": "code",
   "execution_count": 159,
   "metadata": {
    "collapsed": true
   },
   "outputs": [],
   "source": [
    "def setup_map(ax, lat1, lat2, lon1, lon2):\n",
    "    \"\"\"\n",
    "    Sets up our Basemap projection for plotting.\n",
    "    \"\"\"\n",
    "    m = Basemap(projection='merc',\n",
    "                lat_0=(lat1+lat2)/2,\n",
    "                lon_0=(lon1+lon2)/2,\n",
    "                llcrnrlon=lon1,\n",
    "                urcrnrlon=lon2,\n",
    "                llcrnrlat=lat1,\n",
    "                urcrnrlat=lat2,\n",
    "                fix_aspect=False,\n",
    "                resolution='c')\n",
    "    m.fillcontinents(color='#D3D3D3')\n",
    "    return m"
   ]
  },
  {
   "cell_type": "code",
   "execution_count": 109,
   "metadata": {
    "collapsed": true
   },
   "outputs": [],
   "source": [
    "def discrete_cmap(N, base_cmap=None):\n",
    "    \"\"\"Create an N-bin discrete colormap from the specified input map\"\"\"\n",
    "\n",
    "    # Note that if base_cmap is a string or None, you can simply do\n",
    "    #    return plt.cm.get_cmap(base_cmap, N)\n",
    "    # The following works for string, None, or a colormap instance:\n",
    "\n",
    "    base = plt.cm.get_cmap(base_cmap)\n",
    "    color_list = base(np.linspace(0, 1, N))\n",
    "    cmap_name = base.name + str(N)\n",
    "    return base.from_list(cmap_name, color_list, N)"
   ]
  },
  {
   "cell_type": "markdown",
   "metadata": {},
   "source": [
    "### Computing the Relative Magnitudes"
   ]
  },
  {
   "cell_type": "code",
   "execution_count": 110,
   "metadata": {
    "collapsed": true
   },
   "outputs": [],
   "source": [
    "import numpy.polynomial.polynomial as poly\n",
    "def seasonal_magnitude(ds):\n",
    "    \"\"\"\n",
    "    This operation takes in an ensemble mean, assuming there's some seasonal cycle component\n",
    "    and some trend component. It then detrends this mean with a 4th order fit to make it stationary.\n",
    "    It'll finally take the standard deviation of the climatological mean seasonal cycle and return\n",
    "    a grid of values that represent the magnitude of the seasonal cycle.\n",
    "    \"\"\"\n",
    "    # We have some NaN time series here from our bounding box. \n",
    "    # Just ignore these because we can't fit them with any curve.\n",
    "    if ds.min().isnull():\n",
    "        return xr.DataArray(np.nan)\n",
    "    else:\n",
    "        # First, detrend this beast!\n",
    "        x = np.arange(0, len(ds), 1)\n",
    "        coefs = poly.polyfit(x, ds, 4)\n",
    "        poly_fit = poly.polyval(x, coefs)\n",
    "        seasonality = ds - poly_fit\n",
    "        # Next, find the climatological seasonal cycle.\n",
    "        magnitude = seasonality.groupby('time.month').mean().std()\n",
    "        return xr.DataArray(magnitude)"
   ]
  },
  {
   "cell_type": "code",
   "execution_count": 149,
   "metadata": {
    "collapsed": true
   },
   "outputs": [],
   "source": [
    "# Bring down full grid\n",
    "nat_mean, nat_resid, nat_total = load_in_filtered_data('FG_ALT_CO2', EBU, AW=False)"
   ]
  },
  {
   "cell_type": "code",
   "execution_count": 150,
   "metadata": {},
   "outputs": [],
   "source": [
    "# Compute the seasonal magnitude component\n",
    "stacked = nat_mean['FG_ALT_CO2'].stack(allpoints=['nlat', 'nlon'])\n",
    "operation = stacked.groupby('allpoints', squeeze=False).apply(seasonal_magnitude)\n",
    "s_magnitude = operation.unstack('allpoints')"
   ]
  },
  {
   "cell_type": "code",
   "execution_count": 151,
   "metadata": {},
   "outputs": [],
   "source": [
    "# Compute the mean internal magnitude component\n",
    "r_magnitude = nat_resid['FG_ALT_CO2'].std(dim='time').mean(dim='ensemble')"
   ]
  },
  {
   "cell_type": "code",
   "execution_count": 152,
   "metadata": {},
   "outputs": [],
   "source": [
    "# Create relative contribution.\n",
    "relative_internal = (r_magnitude / (r_magnitude + s_magnitude)) * 100"
   ]
  },
  {
   "cell_type": "code",
   "execution_count": 161,
   "metadata": {},
   "outputs": [
    {
     "data": {
      "image/png": "[encoded data removed]",
      "text/plain": [
       "<matplotlib.figure.Figure at 0x2aab0bcf2828>"
      ]
     },
     "metadata": {},
     "output_type": "display_data"
    }
   ],
   "source": [
    "# Data to plot\n",
    "lat = relative_internal['TLAT'].values\n",
    "lon = relative_internal['TLONG'].values\n",
    "data = relative_internal.to_masked_array()\n",
    "\n",
    "# Figure Setup\n",
    "fig = plt.figure(figsize=(5,5))\n",
    "ax = plt.subplot(111)\n",
    "lat1,lat2,lon1,lon2 = visual_bounds(EBU)\n",
    "m = setup_map(ax,lat1,lat2,lon1,lon2)\n",
    "\n",
    "# Visualize\n",
    "m.pcolor(lon-0.5, lat, data, vmin=0, vmax=100, latlon=True,\n",
    "         cmap=discrete_cmap(10, 'BrBG_r'), edgecolor='w')\n",
    "m.colorbar(location='bottom', ticks=[0,25,50,75,100],\n",
    "          label='Non-Seasonal Variability [%]')\n",
    "ax.set_title('Fraction of F$_{\\mathrm{Nat}}$ Due to Internal Variability', fontsize='x-large')\n",
    "\n",
    "# Save plot\n",
    "#plt.savefig('fractional_internal_variability_FG_ALT_CO2_' + EBU + '.png',\n",
    "#            bbox_inches='tight', pad_inches=1, transparent=True, dpi=300)"
   ]
  }
 ],
 "metadata": {
  "kernelspec": {
   "display_name": "Python 3",
   "language": "python",
   "name": "python3"
  },
  "language_info": {
   "codemirror_mode": {
    "name": "ipython",
    "version": 3
   },
   "file_extension": ".py",
   "mimetype": "text/x-python",
   "name": "python",
   "nbconvert_exporter": "python",
   "pygments_lexer": "ipython3",
   "version": "3.6.1"
  }
 },
 "nbformat": 4,
 "nbformat_minor": 2
}
