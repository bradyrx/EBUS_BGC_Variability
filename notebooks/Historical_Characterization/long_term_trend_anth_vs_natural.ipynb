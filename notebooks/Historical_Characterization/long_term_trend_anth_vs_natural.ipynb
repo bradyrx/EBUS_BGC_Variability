{
 "metadata": {
  "kernelspec": {
   "display_name": "Python 3",
   "language": "python",
   "name": "python3"
  },
  "language_info": {
   "codemirror_mode": {
    "name": "ipython",
    "version": 3
   },
   "file_extension": ".py",
   "mimetype": "text/x-python",
   "name": "python",
   "nbconvert_exporter": "python",
   "pygments_lexer": "ipython3",
   "version": "3.6.6"
  },
  "name": "",
  "toc": {
   "base_numbering": 1,
   "nav_menu": {},
   "number_sections": true,
   "sideBar": true,
   "skip_h1_title": false,
   "title_cell": "Table of Contents",
   "title_sidebar": "Contents",
   "toc_cell": false,
   "toc_position": {},
   "toc_section_display": true,
   "toc_window_display": false
  },
  "varInspector": {
   "cols": {
    "lenName": 16,
    "lenType": 16,
    "lenVar": 40
   },
   "kernels_config": {
    "python": {
     "delete_cmd_postfix": "",
     "delete_cmd_prefix": "del ",
     "library": "var_list.py",
     "varRefreshCmd": "print(var_dic_list())"
    },
    "r": {
     "delete_cmd_postfix": ") ",
     "delete_cmd_prefix": "rm(",
     "library": "var_list.r",
     "varRefreshCmd": "cat(var_dic_list()) "
    }
   },
   "types_to_exclude": [
    "module",
    "function",
    "builtin_function_or_method",
    "instance",
    "_Feature"
   ],
   "window_display": false
  }
 },
 "nbformat": 3,
 "nbformat_minor": 0,
 "worksheets": [
  {
   "cells": [
    {
     "cell_type": "markdown",
     "metadata": {},
     "source": [
      "# Long Term CO2 Flux Trends: Anthropogenic or Natural?\n",
      "\n",
      "Inspired by this comment by Gruber:\n",
      "\n",
      "---\n",
      "\n",
      "**Nicolas Gruber:**\u00a0How did you make this attribution? It is quite certainly correct, but you should state the basis for this argument. I my suspicion is right, then you used the long-term trend of the ensemble mean to establish the contribution of anthropogenic CO2. This is only approximately correct, since this trend includes also climate-change driven trends in the fluxes of natural and anthropogenic CO2. Please explain.\n",
      "\n",
      "---\n",
      "\n",
      "Basically, the question is, what drives the ensemble mean trend? Is there a natural trend involved?"
     ]
    },
    {
     "cell_type": "code",
     "collapsed": false,
     "input": [
      "import numpy as np\n",
      "import pandas as pd\n",
      "import xarray as xr\n",
      "import matplotlib.pyplot as plt\n",
      "%matplotlib inline\n",
      "plt.style.use('ocn-clim')\n",
      "\n",
      "import esmtools as et\n",
      "\n",
      "# Stats\n",
      "from scipy import stats\n",
      "from scipy.special import ndtri, ndtr\n",
      "import sys\n",
      "import numpy.polynomial.polynomial as poly"
     ],
     "language": "python",
     "metadata": {},
     "outputs": [],
     "prompt_number": 1
    },
    {
     "cell_type": "heading",
     "level": 2,
     "metadata": {},
     "source": [
      "Functions and Data"
     ]
    },
    {
     "cell_type": "code",
     "collapsed": false,
     "input": [
      "# MANN-KENDALL TEST\n",
      "def test(t, x, eps=None, alpha=None, Ha=None):\n",
      "    \"\"\"\n",
      "    Runs the Mann-Kendall test for trend in time series data.\n",
      "    Parameters\n",
      "    ----------\n",
      "    t : 1D numpy.ndarray\n",
      "        array of the time points of measurements\n",
      "    x : 1D numpy.ndarray\n",
      "        array containing the measurements corresponding to entries of 't'\n",
      "    eps : scalar, float, greater than zero\n",
      "        least count error of measurements which help determine ties in the data\n",
      "    alpha : scalar, float, greater than zero\n",
      "        significance level of the statistical test (Type I error)\n",
      "    Ha : string, options include 'up', 'down', 'upordown'\n",
      "        type of test: one-sided ('up' or 'down') or two-sided ('updown')\n",
      "    Returns\n",
      "    -------\n",
      "    MK : string\n",
      "        result of the statistical test indicating whether or not to accept hte\n",
      "        alternative hypothesis 'Ha'\n",
      "    m : scalar, float\n",
      "        slope of the linear fit to the data\n",
      "    c : scalar, float\n",
      "        intercept of the linear fit to the data\n",
      "    p : scalar, float, greater than zero\n",
      "        p-value of the obtained Z-score statistic for the Mann-Kendall test\n",
      "    Raises\n",
      "    ------\n",
      "    AssertionError : error\n",
      "                    least count error of measurements 'eps' is not given\n",
      "    AssertionError : error\n",
      "                    significance level of test 'alpha' is not given\n",
      "    AssertionError : error\n",
      "                    alternative hypothesis 'Ha' is not given\n",
      "    \"\"\"\n",
      "    # assert a least count for the measurements x\n",
      "    assert eps, \"Please provide least count error for measurements 'x'\"\n",
      "    assert alpha, \"Please provide significance level 'alpha' for the test\"\n",
      "    assert Ha, \"Please provide the alternative hypothesis 'Ha'\"\n",
      "\n",
      "    # estimate sign of all possible (n(n-1)) / 2 differences\n",
      "    n = len(t)\n",
      "    sgn = np.zeros((n, n), dtype=\"int\")\n",
      "    for i in range(n):\n",
      "        tmp = x - x[i]\n",
      "        tmp[np.where(np.fabs(tmp) <= eps)] = 0.\n",
      "        sgn[i] = np.sign(tmp)\n",
      "\n",
      "    # estimate mean of the sign of all possible differences\n",
      "    S = sgn[np.triu_indices(n, k=1)].sum()\n",
      "\n",
      "    # estimate variance of the sign of all possible differences\n",
      "    # 1. Determine no. of tie groups 'p' and no. of ties in each group 'q'\n",
      "    np.fill_diagonal(sgn, eps * 1E6)\n",
      "    i, j = np.where(sgn == 0.)\n",
      "    ties = np.unique(x[i])\n",
      "    p = len(ties)\n",
      "    q = np.zeros(len(ties), dtype=\"int\")\n",
      "    for k in range(p):\n",
      "        idx =  np.where(np.fabs(x - ties[k]) < eps)[0]\n",
      "        q[k] = len(idx)\n",
      "    # 2. Determine the two terms in the variance calculation\n",
      "    term1 = n * (n - 1) * (2 * n + 5)\n",
      "    term2 = (q * (q - 1) * (2 * q + 5)).sum()\n",
      "    # 3. estimate variance\n",
      "    varS = float(term1 - term2) / 18.\n",
      "\n",
      "    # Compute the Z-score based on above estimated mean and variance\n",
      "    if S > eps:\n",
      "        Zmk = (S - 1) / np.sqrt(varS)\n",
      "    elif np.fabs(S) <= eps:\n",
      "        Zmk = 0.\n",
      "    elif S < -eps:\n",
      "        Zmk = (S + 1) / np.sqrt(varS)\n",
      "\n",
      "    # compute test based on given 'alpha' and alternative hypothesis\n",
      "    # note: for all the following cases, the null hypothesis Ho is:\n",
      "    # Ho := there is no monotonic trend\n",
      "    # \n",
      "    # Ha := There is an upward monotonic trend\n",
      "    if Ha == \"up\":\n",
      "        Z_ = ndtri(1. - alpha)\n",
      "        if Zmk >= Z_:\n",
      "            MK = \"accept Ha := upward trend\"\n",
      "        else:\n",
      "            MK = \"reject Ha := upward trend\"\n",
      "    # Ha := There is a downward monotonic trend\n",
      "    elif Ha == \"down\":\n",
      "        Z_ = ndtri(1. - alpha)\n",
      "        if Zmk <= -Z_:\n",
      "            MK = \"accept Ha := downward trend\"\n",
      "        else:\n",
      "            MK = \"reject Ha := downward trend\"\n",
      "    # Ha := There is an upward OR downward monotonic trend\n",
      "    elif Ha == \"upordown\":\n",
      "        Z_ = ndtri(1. - alpha / 2.)\n",
      "        if np.fabs(Zmk) >= Z_:\n",
      "            MK = \"accept Ha := upward OR downward trend\"\n",
      "        else:\n",
      "            MK = \"reject Ha := upward OR downward trend\"\n",
      "\n",
      "    # ----------\n",
      "    # AS A BONUS\n",
      "    # ----------\n",
      "    # estimate the slope and intercept of the line\n",
      "    m = np.corrcoef(t, x)[0, 1] * (np.std(x) / np.std(t))\n",
      "    c = np.mean(x) - m * np.mean(t)\n",
      "\n",
      "    # ----------\n",
      "    # AS A BONUS\n",
      "    # ----------\n",
      "    # estimate the p-value for the obtained Z-score Zmk\n",
      "    if S > eps:\n",
      "        if Ha == \"up\":\n",
      "            p = 1. - ndtr(Zmk)\n",
      "        elif Ha == \"down\":\n",
      "            p = ndtr(Zmk)\n",
      "        elif Ha == \"upordown\":\n",
      "            p = 0.5 * (1. - ndtr(Zmk))\n",
      "    elif np.fabs(S) <= eps:\n",
      "        p = 0.5\n",
      "    elif S < -eps:\n",
      "        if Ha == \"up\":\n",
      "            p = 1. - ndtr(Zmk)\n",
      "        elif Ha == \"down\":\n",
      "            p = ndtr(Zmk)\n",
      "        elif Ha == \"upordown\":\n",
      "            p = 0.5 * (ndtr(Zmk))\n",
      "    return MK, m, c, p"
     ],
     "language": "python",
     "metadata": {
      "code_folding": [
       5
      ]
     },
     "outputs": [],
     "prompt_number": 2
    },
    {
     "cell_type": "code",
     "collapsed": false,
     "input": [
      "def load_in_filtered_data(VAR, EBU, AW=True):\n",
      "    \"\"\"\n",
      "    Loads in the netCDF files for the ensemble mean and residuals for any inputted variable\n",
      "    and returns an xarray dataset for the forced signal, residuals, and the total time series\n",
      "    (simply the sum of the two previous components).\n",
      "    \"\"\"\n",
      "    fileDir = '/glade/work/rbrady/EBUS_BGC_Variability/' + VAR + '/' + EBU + '/filtered_output/'\n",
      "    if AW == True:\n",
      "        ds_forced = xr.open_dataset(fileDir + EBU.lower() + '-' + VAR + '-forced-signal-AW-chavez-800km.nc')\n",
      "        ds_residuals = xr.open_dataset(fileDir + EBU.lower() + '-' + VAR + '-residuals-AW-chavez-800km.nc')\n",
      "    if AW == False:\n",
      "        ds_forced = xr.open_dataset(fileDir + EBU.lower() + '-' + VAR + '-forced-signal-chavez-800km.nc')\n",
      "        ds_residuals = xr.open_dataset(fileDir + EBU.lower() + '-' + VAR + '-residuals-chavez-800km.nc')\n",
      "    ds_total = ds_forced + ds_residuals\n",
      "    return ds_forced, ds_residuals, ds_total"
     ],
     "language": "python",
     "metadata": {
      "code_folding": [
       0
      ]
     },
     "outputs": [],
     "prompt_number": 3
    },
    {
     "cell_type": "code",
     "collapsed": false,
     "input": [
      "EBU = 'BenCS'\n",
      "\n",
      "ant_mean, _, _ = load_in_filtered_data('FG_ANT_CO2', EBU)\n",
      "con_mean, _, _ = load_in_filtered_data('FG_CO2', EBU)\n",
      "nat_mean, _, _ = load_in_filtered_data('FG_ALT_CO2', EBU)"
     ],
     "language": "python",
     "metadata": {},
     "outputs": [],
     "prompt_number": 86
    },
    {
     "cell_type": "heading",
     "level": 2,
     "metadata": {},
     "source": [
      "Compute trend for each"
     ]
    },
    {
     "cell_type": "code",
     "collapsed": false,
     "input": [
      "def compute_slope(da):\n",
      "    \"\"\"\n",
      "    Compute the linear trend of the ensemble mean. And check significance.\n",
      "    \"\"\"\n",
      "    t = da['time'].values\n",
      "    x = np.arange(0, len(t), 1)\n",
      "    slope, *_ = stats.linregress(x, da)\n",
      "    \n",
      "    MK, m, c, p = test(x, da.values, eps=1E-3, alpha=0.05, Ha='down')\n",
      "    return (slope * len(t)), MK"
     ],
     "language": "python",
     "metadata": {},
     "outputs": [],
     "prompt_number": 87
    },
    {
     "cell_type": "code",
     "collapsed": false,
     "input": [
      "slope_c, MK_c = compute_slope(con_mean['FG_CO2_AW'])\n",
      "slope_a, MK_a = compute_slope(ant_mean['FG_ANT_CO2_AW'])\n",
      "slope_n, MK_n = compute_slope(nat_mean['FG_ALT_CO2_AW'])"
     ],
     "language": "python",
     "metadata": {},
     "outputs": [],
     "prompt_number": 88
    },
    {
     "cell_type": "code",
     "collapsed": false,
     "input": [
      "print(\"Contemporary Slope: \" + str(slope_c.round(3)))\n",
      "print(\"Anthropogenic Slope: \" + str(slope_a.round(3)))\n",
      "print(\"Natural Slope: \" + str(slope_n.round(3)))"
     ],
     "language": "python",
     "metadata": {},
     "outputs": [],
     "prompt_number": 89
    },
    {
     "cell_type": "code",
     "collapsed": false,
     "input": [
      "print(\"Contemporary Sig: \" + MK_c)\n",
      "print(\"Anthropogenic Sig: \" + MK_c)\n",
      "print(\"Natural Sig: \" + MK_c)"
     ],
     "language": "python",
     "metadata": {},
     "outputs": [],
     "prompt_number": 90
    },
    {
     "cell_type": "code",
     "collapsed": false,
     "input": [
      "f, ax = plt.subplots(figsize=(10,3))\n",
      "nat_mean['FG_ALT_CO2_AW'].plot(color='k', linewidth=1.5)\n",
      "con_mean['FG_CO2_AW'].plot(color='b', linewidth=1.5)\n",
      "ant_mean['FG_ANT_CO2_AW'].plot(color='r', linewidth=1.5)\n",
      "ax.set_ylim([-2, 5])"
     ],
     "language": "python",
     "metadata": {},
     "outputs": [],
     "prompt_number": 91
    },
    {
     "cell_type": "code",
     "collapsed": false,
     "input": [],
     "language": "python",
     "metadata": {},
     "outputs": [],
     "prompt_number": null
    }
   ],
   "metadata": {}
  }
 ]
}