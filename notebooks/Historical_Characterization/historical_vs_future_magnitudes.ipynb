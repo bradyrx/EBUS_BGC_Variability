{
 "metadata": {
  "kernelspec": {
   "display_name": "Python 3",
   "language": "python",
   "name": "python3"
  },
  "language_info": {
   "codemirror_mode": {
    "name": "ipython",
    "version": 3
   },
   "file_extension": ".py",
   "mimetype": "text/x-python",
   "name": "python",
   "nbconvert_exporter": "python",
   "pygments_lexer": "ipython3",
   "version": "3.6.5"
  },
  "name": ""
 },
 "nbformat": 3,
 "nbformat_minor": 0,
 "worksheets": [
  {
   "cells": [
    {
     "cell_type": "markdown",
     "metadata": {},
     "source": [
      "# Historical vs. Future Magnitudes\n",
      "\n",
      "Quick look at how seasonal cycle, trend, and residual magnitudes compare betwen 1920--2015 and 2016-2100 to look at effects of climate change"
     ]
    },
    {
     "cell_type": "code",
     "collapsed": false,
     "input": [
      "import numpy as np\n",
      "import pandas as pd\n",
      "import xarray as xr\n",
      "import matplotlib.pyplot as plt\n",
      "%matplotlib inline\n",
      "plt.style.use('ocn-clim')\n",
      "\n",
      "import esmtools as et\n",
      "\n",
      "# Stats\n",
      "from scipy import stats\n",
      "import numpy.polynomial.polynomial as poly"
     ],
     "language": "python",
     "metadata": {},
     "outputs": [],
     "prompt_number": 1
    },
    {
     "cell_type": "code",
     "collapsed": false,
     "input": [
      "EBU = 'BenCS'\n",
      "VAR = 'FG_CO2'"
     ],
     "language": "python",
     "metadata": {},
     "outputs": [],
     "prompt_number": 21
    },
    {
     "cell_type": "heading",
     "level": 1,
     "metadata": {},
     "source": [
      "Load in Data"
     ]
    },
    {
     "cell_type": "code",
     "collapsed": false,
     "input": [
      "def load_in_filtered_data(VAR, EBU, period='historical'):\n",
      "    \"\"\"\n",
      "    Loads in the netCDF files for the ensemble mean and residuals for any inputted variable\n",
      "    and returns an xarray dataset for the forced signal, residuals, and the total time series\n",
      "    (simply the sum of the two previous components).\n",
      "    \"\"\"\n",
      "    # Historical\n",
      "    if period == 'historical':\n",
      "        fileDir = '/glade/p/work/rbrady/EBUS_BGC_Variability/' + VAR + '/' + EBU + '/filtered_output/'\n",
      "        ds_forced = xr.open_dataset(fileDir + EBU.lower() + '-' + VAR + '-forced-signal-AW-chavez-800km.nc')\n",
      "        ds_residuals = xr.open_dataset(fileDir + EBU.lower() + '-' + VAR + '-residuals-AW-chavez-800km.nc')\n",
      "    else:\n",
      "        fileDir = '/glade/p/work/rbrady/EBUS_BGC_Variability/future_scenario/' + VAR + '/' + EBU + '/filtered_output/'\n",
      "        ds_forced = xr.open_dataset(fileDir + EBU.lower() + '-' + VAR + '-forced-signal-AW-chavez-800km.nc')\n",
      "        ds_residuals = xr.open_dataset(fileDir + EBU.lower() + '-' + VAR + '-residuals-AW-chavez-800km.nc')\n",
      "    ds_total = ds_forced + ds_residuals\n",
      "    return ds_forced, ds_residuals, ds_total"
     ],
     "language": "python",
     "metadata": {},
     "outputs": [],
     "prompt_number": 22
    },
    {
     "cell_type": "code",
     "collapsed": false,
     "input": [
      "h_con_mean, h_con_resid, h_con_total = load_in_filtered_data(VAR, EBU, period='historical')\n",
      "f_con_mean, f_con_resid, f_con_total = load_in_filtered_data(VAR, EBU, period='future')"
     ],
     "language": "python",
     "metadata": {},
     "outputs": [],
     "prompt_number": 23
    },
    {
     "cell_type": "heading",
     "level": 1,
     "metadata": {},
     "source": [
      "Compute each component"
     ]
    },
    {
     "cell_type": "code",
     "collapsed": false,
     "input": [
      "def compute_components(con_mean, con_resid, con_total):\n",
      "    t = con_total['time'].values\n",
      "    ensemble_mean = con_mean[VAR + '_AW'].values\n",
      "\n",
      "    # Break down all components\n",
      "    x = np.arange(0, len(t), 1)\n",
      "    coefs = poly.polyfit(x, ensemble_mean, 1)\n",
      "    line_fit = poly.polyval(x, coefs) # This is the trend portion\n",
      "\n",
      "    # Quantifable trend (first order)\n",
      "    slope, _, _, _, _ = stats.linregress(x, ensemble_mean)\n",
      "    slope = slope * len(t)\n",
      "\n",
      "    # I think the \"level\" or historical state of the system should clearly\n",
      "    # not be the mean of the time series due to the trend. You could either\n",
      "    # just look at the intercept of the linear regression, or the intercept\n",
      "    # of a 4th order polynomial.\n",
      "    b = coefs[0]\n",
      "    level = np.zeros(len(t))\n",
      "    level[:] = b\n",
      "\n",
      "    # Seasonal cycle needs to be detrended, but then scaled back up to the intercept\n",
      "    seasonal_cycle = ensemble_mean \n",
      "    \n",
      "    # COMPUTE COMPONENTS\n",
      "    mean = con_total[VAR + '_AW'].mean().values.round(2)\n",
      "    print(\"Mean: \" + str(mean) + ' (mol/m2/yr)')\n",
      "\n",
      "    print(\"Intercept: \" + str(b.round(2)))\n",
      "\n",
      "    seasonal = con_mean.apply(et.ufunc.seasonal_magnitude)[VAR + \"_AW\"].values.round(2)\n",
      "    print(\"Seasonal: \" + str(seasonal) + ' (mol/m2/yr)')\n",
      "\n",
      "    internal = con_resid[VAR + '_AW'].std('time').mean('ensemble').values.round(2)\n",
      "    print(\"Internal: \" + str(internal) + ' (mol/m2/yr)')\n",
      "\n",
      "    print(\"Trend: \" + str(slope.round(2)) + '(mol/m2/yr/96yr)')\n",
      "    return line_fit"
     ],
     "language": "python",
     "metadata": {},
     "outputs": [],
     "prompt_number": 24
    },
    {
     "cell_type": "code",
     "collapsed": false,
     "input": [
      "print(\"HISTORICAL\")\n",
      "h_line_fit = compute_components(h_con_mean, h_con_resid, h_con_total)\n",
      "print(\"\\n\")\n",
      "print(\"FUTURE\")\n",
      "f_line_fit = compute_components(f_con_mean, f_con_resid, f_con_total)\n"
     ],
     "language": "python",
     "metadata": {},
     "outputs": [],
     "prompt_number": 26
    },
    {
     "cell_type": "heading",
     "level": 1,
     "metadata": {},
     "source": [
      "PLOTS"
     ]
    },
    {
     "cell_type": "code",
     "collapsed": false,
     "input": [
      "con_total = xr.concat([h_con_total, f_con_total], dim='time')\n",
      "con_resid = xr.concat([h_con_resid, f_con_resid], dim='time')\n",
      "con_mean = xr.concat([h_con_mean, f_con_mean], dim='time')"
     ],
     "language": "python",
     "metadata": {},
     "outputs": [],
     "prompt_number": 27
    },
    {
     "cell_type": "code",
     "collapsed": false,
     "input": [
      "fig = plt.figure(figsize=(14,4))\n",
      "ax = plt.subplot(111)\n",
      "\n",
      "# Some terms\n",
      "t = con_total['time'].values\n",
      "ensemble_mean = con_mean[VAR + '_AW'].values\n",
      "seasonal_cycle = ensemble_mean\n",
      "x = np.arange(0, len(t), 1)\n",
      "coefs = poly.polyfit(x, ensemble_mean, 1)\n",
      "line_fit = poly.polyval(x, coefs) # This is the trend portion\n",
      "\n",
      "# RESIDUALS\n",
      "#for idx in np.arange(0, 34, 1):\n",
      "#    data = con_total['FG_CO2_AW'][:, idx].values\n",
      "#    plt.plot(t, data, color='#d3d3d3', linewidth=1)\n",
      "\n",
      "# This approach makes it easier to work with in Illustrator.\n",
      "data_min = con_total[VAR + \"_AW\"].max('ensemble')\n",
      "data_max = con_total[VAR + \"_AW\"].min('ensemble')\n",
      "plt.fill_between(t, data_min, data_max, color='#d3d3d3', label='Internal Variability')\n",
      "\n",
      "# SEASONALITY\n",
      "plt.plot(t, seasonal_cycle, linewidth=2, color='k', label='Seasonal Cycle')\n",
      "\n",
      "# TREND\n",
      "plt.plot(t[0:1152], h_line_fit, color='r', linewidth=2, label='Anthropogenic Trend')\n",
      "plt.plot(t[1152:], f_line_fit, color='r', linewidth=2, label='Anthropogenic Trend')\n",
      "\n",
      "\n",
      "# LEVEL\n",
      "#plt.plot(t, level, color='k', linewidth=2, linestyle='--')\n",
      "\n",
      "# Zero line    \n",
      "plt.plot(t, np.zeros(len(t)), color='k', linewidth=1)\n",
      "ax.set(xlim=['1920', '2100'])\n",
      "\n",
      "ax.set(ylim=[-4, 12])\n",
      "\n",
      "# Aesthetics\n",
      "ax.set_title('Humboldt Current F$_{\\mathrm{CO}_{2}}$ (1920-2100)')\n",
      "ax.set_xlabel('Model Years')\n",
      "ax.set_ylabel('Sea-Air CO$_{2}$ Flux' + '\\n' +  '[mol/m$^{2}$/yr]')\n",
      "\n",
      "plt.plot([t[1151], t[1151]], [-4, 12], color='b', linewidth=1, label='Division between Historical and Future')\n",
      "\n",
      "plt.legend(bbox_to_anchor=(1.05, 1), loc=2, borderaxespad=0.)\n",
      "\n",
      "# Save figure.\n",
      "#et.vis.savefig('humboldt_full_time', extension='.eps', dpi=300)"
     ],
     "language": "python",
     "metadata": {},
     "outputs": [],
     "prompt_number": 28
    },
    {
     "cell_type": "code",
     "collapsed": false,
     "input": [],
     "language": "python",
     "metadata": {},
     "outputs": [],
     "prompt_number": null
    }
   ],
   "metadata": {}
  }
 ]
}