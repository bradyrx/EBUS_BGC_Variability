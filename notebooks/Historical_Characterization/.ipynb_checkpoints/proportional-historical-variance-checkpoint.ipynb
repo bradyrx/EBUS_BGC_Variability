{
 "cells": [
  {
   "cell_type": "markdown",
   "metadata": {},
   "source": [
    "# Proportional Historical Variance\n",
    "Let's compare the relative magnitudes of the seasonal component and non-seasonal component of FG_CO2 in each region. Through climate diagnostics practices, this is quite simple: find the mean seasonal cycle historically and take the standard deviation of it ($\\sigma_{s}$). Then find the mean standard deviation of all the residuals ($\\sigma_{r}$). Then one can simply plot the proportion of variance explained by internal variability : $\\frac{\\sigma_{r}}{\\sigma_{s} + \\sigma{r}}$"
   ]
  },
  {
   "cell_type": "code",
   "execution_count": 1,
   "metadata": {},
   "outputs": [
    {
     "name": "stderr",
     "output_type": "stream",
     "text": [
      "/glade/u/home/rbrady/anaconda3/lib/python3.6/site-packages/cmocean/tools.py:76: MatplotlibDeprecationWarning: The is_string_like function was deprecated in version 2.1.\n",
      "  if not mpl.cbook.is_string_like(rgbin[0]):\n"
     ]
    }
   ],
   "source": [
    "import glob\n",
    "\n",
    "import numpy as np\n",
    "import numpy.polynomial.polynomial as poly\n",
    "import pandas as pd\n",
    "import xarray as xr\n",
    "\n",
    "import matplotlib.pyplot as plt\n",
    "%matplotlib inline\n",
    "import cmocean.cm as cm\n",
    "import cartopy.crs as ccrs\n",
    "plt.style.use('ocn-clim')\n",
    "\n",
    "import esmtools as et"
   ]
  },
  {
   "cell_type": "markdown",
   "metadata": {},
   "source": [
    "# Functions"
   ]
  },
  {
   "cell_type": "code",
   "execution_count": 2,
   "metadata": {},
   "outputs": [],
   "source": [
    "def load_in_filtered_data(VAR, EBU, AW=True):\n",
    "    \"\"\"\n",
    "    Loads in the netCDF files for the ensemble mean and residuals for any inputted variable\n",
    "    and returns an xarray dataset for the forced signal, residuals, and the total time series\n",
    "    (simply the sum of the two previous components).\n",
    "    \"\"\"\n",
    "    fileDir = '/glade/p/work/rbrady/EBUS_BGC_Variability/' + VAR + '/' + EBU + '/filtered_output/'\n",
    "    if AW == True:\n",
    "        ds_forced = xr.open_dataset(fileDir + EBU.lower() + '-' + VAR + '-forced-signal-AW-chavez-800km.nc')\n",
    "        ds_residuals = xr.open_dataset(fileDir + EBU.lower() + '-' + VAR + '-residuals-AW-chavez-800km.nc')\n",
    "    if AW == False:\n",
    "        ds_forced = xr.open_dataset(fileDir + EBU.lower() + '-' + VAR + '-forced-signal-chavez-800km.nc')\n",
    "        ds_residuals = xr.open_dataset(fileDir + EBU.lower() + '-' + VAR + '-residuals-chavez-800km.nc')\n",
    "    ds_total = ds_forced + ds_residuals\n",
    "    if AW == True:\n",
    "        return ds_forced[VAR + '_AW'], ds_residuals[VAR + '_AW'], ds_total[VAR + '_AW']\n",
    "    else:\n",
    "        return ds_forced[VAR], ds_residuals[VAR], ds_total[VAR]\n",
    "                         "
   ]
  },
  {
   "cell_type": "markdown",
   "metadata": {},
   "source": [
    "# (0) Can we make a strong case to just investigate the natural flux of CO$_{2}$ for awhile?\n",
    "\n",
    "A decent starting point would be to map/quantify the variability due to natural carbon and the variability due to anthropogenic carbon. What's the relative proportion that is natural?\n",
    "\n",
    "**NOTE** : See the bar plot notebook in this folder... this first way wasn't the best way to go about doing it"
   ]
  },
  {
   "cell_type": "code",
   "execution_count": null,
   "metadata": {},
   "outputs": [],
   "source": [
    "EBU = 'CanCS'"
   ]
  },
  {
   "cell_type": "code",
   "execution_count": null,
   "metadata": {},
   "outputs": [],
   "source": [
    "nat_mean, nat_resid, nat_total = load_in_filtered_data('FG_ALT_CO2', EBU, AW=1)\n",
    "con_mean, con_resid, con_total = load_in_filtered_data('FG_CO2', EBU, AW=1)\n",
    "ant_mean, ant_resid, ant_total = load_in_filtered_data('FG_ANT_CO2', EBU, AW=1)"
   ]
  },
  {
   "cell_type": "markdown",
   "metadata": {},
   "source": [
    "Let's just start with the ensemble mean (seasonal cycle) and detrend them and then take the standard deviation in 10 year chunks. We can make a stacked bar plot of the results."
   ]
  },
  {
   "cell_type": "code",
   "execution_count": null,
   "metadata": {},
   "outputs": [],
   "source": [
    "# Remove 4th order fits.\n",
    "nat_mean = et.stats.remove_polynomial_fit(nat_mean, 4)\n",
    "ant_mean = et.stats.remove_polynomial_fit(ant_mean, 4)"
   ]
  },
  {
   "cell_type": "code",
   "execution_count": null,
   "metadata": {},
   "outputs": [],
   "source": [
    "# Find magnitude of seasonal cycle at every year\n",
    "nat_s = nat_mean.groupby('time.year').std()\n",
    "ant_s = ant_mean.groupby('time.year').std()"
   ]
  },
  {
   "cell_type": "code",
   "execution_count": null,
   "metadata": {},
   "outputs": [],
   "source": [
    "fig = plt.figure(figsize=(14,3))\n",
    "ax = plt.subplot(111)\n",
    "\n",
    "p1 = plt.bar(nat_s.year, nat_s/(nat_s+ant_s)*100, 1, edgecolor='w', color='#a6cee3', label='Natural')\n",
    "p2 = plt.bar(ant_s.year, ant_s/(nat_s+ant_s)*100, 1, edgecolor='w', color='#1f78b4', label='Anthropogenic',\n",
    "             bottom=nat_s/(nat_s+ant_s)*100)\n",
    "\n",
    "ax.grid('off')\n",
    "ax.set_xlim([1920,2015])\n",
    "ax.set_xticks(np.arange(1925, 2016, 10))\n",
    "ax.set_title('Fractional Contribution of F$_{\\mathrm{CO}_{2}}$ to Seasonal Variability' + '\\n' + \n",
    "             '[Canary Current]')\n",
    "ax.legend(loc=\"lower left\")\n",
    "plt.show()\n",
    "\n",
    "# SAVE\n",
    "#et.vis.savefig('fractional_contribution_ant_nat_seasonal_variability_' + EBU)"
   ]
  },
  {
   "cell_type": "code",
   "execution_count": null,
   "metadata": {},
   "outputs": [],
   "source": [
    "fig = plt.figure(figsize=(14,3))\n",
    "ax = plt.subplot(111)\n",
    "\n",
    "nat_mean.plot(color='k', linewidth=2, label='natural')\n",
    "ant_mean.plot(color='r', linewidth=2, label='anthropogenic')\n",
    "\n",
    "ax.set_xlim(['1920-01', '2015-12'])\n",
    "ax.set_ylabel('CO$_{2}$ Flux (mol/m$^{2}$/yr)')\n",
    "ax.set_xlabel('')\n",
    "ax.set_title('Ensemble Mean CO$_{2}$ Flux (Detrended)' + '\\n' + '[Canary Current]')\n",
    "ax.legend()\n",
    "\n",
    "# SAVE\n",
    "#et.vis.savefig('ensemble_mean_co2_flux_ant_nat_timeseries_' + EBU)"
   ]
  },
  {
   "cell_type": "markdown",
   "metadata": {},
   "source": [
    "# (1) How much of the spatial variability is internal vs. seasonal?\n",
    "Let's split the natural carbon flux into it's seasonal variability component and internal variability component. We can then make maps of the relative contribution of the non-seasonal component."
   ]
  },
  {
   "cell_type": "code",
   "execution_count": null,
   "metadata": {},
   "outputs": [],
   "source": [
    "EBU = 'CanCS'"
   ]
  },
  {
   "cell_type": "code",
   "execution_count": null,
   "metadata": {},
   "outputs": [],
   "source": [
    "# Start by illustrating the methodology on a box-averaged situation to prove you're doing it right.\n",
    "nat_mean, nat_resid, nat_total = load_in_filtered_data('FG_ALT_CO2', EBU)\n",
    "\n",
    "# Now have a function in my package to do the whole process. Compared with\n",
    "# the step-by-step and it works.\n",
    "s_magnitude = nat_mean.to_dataset().apply(et.ufunc.seasonal_magnitude)\n",
    "s_magnitude = s_magnitude['FG_ALT_CO2_AW']\n",
    "\n",
    "# And the internal variability...\n",
    "r_magnitude = nat_resid.std(dim='time').mean()"
   ]
  },
  {
   "cell_type": "code",
   "execution_count": null,
   "metadata": {},
   "outputs": [],
   "source": [
    "# Compute the seasonality component for graphing purposes.\n",
    "detrended = nat_mean.to_dataset().apply(et.ufunc.remove_polynomial_fit)\n",
    "nat_seasonality = detrended.groupby('time.month').mean()"
   ]
  },
  {
   "cell_type": "code",
   "execution_count": null,
   "metadata": {},
   "outputs": [],
   "source": [
    "fig = plt.figure(figsize=(5,3))\n",
    "ax = plt.subplot(111)\n",
    "nat_seasonality['FG_ALT_CO2_AW'].plot(color='k')\n",
    "ax.set(title=EBU + ' F$_{\\mathrm{Nat}}$ Seasonal Cycle',\n",
    "       xticks=np.arange(1,13,1), ylabel='Natural CO$_{2}$ Flux')\n",
    "ax.text(1, 1, '$\\sigma$ = ' + str(s_magnitude.values.round(3)), size='x-large')\n",
    "\n",
    "#et.vis.savefig(EBU + '_Seasonal_Cycle')"
   ]
  },
  {
   "cell_type": "code",
   "execution_count": null,
   "metadata": {},
   "outputs": [],
   "source": [
    "fig = plt.figure(figsize=(12,3))\n",
    "ax = plt.subplot(111)\n",
    "for i in np.arange(0, 34, 1):\n",
    "    nat_resid[i].plot(color='#D3D3D3', linewidth=2)\n",
    "ax.set(xlim=['1920','2015'], title=EBU + ' F$_{\\mathrm{Nat}}$ Residuals',\n",
    "       ylabel='Natural CO$_{2}$ Flux', xlabel='')\n",
    "ax.text('1925', 4, '$\\sigma$ = ' + str(r_magnitude.values.round(3)),\n",
    "        size='x-large')\n",
    "#et.vis.savefig(EBU + '_Residual_Spread')"
   ]
  },
  {
   "cell_type": "code",
   "execution_count": null,
   "metadata": {},
   "outputs": [],
   "source": [
    "non_seasonal_variability = r_magnitude / (s_magnitude + r_magnitude)\n",
    "print(\"The non-seasonal component of variability is : \" + str(non_seasonal_variability.values.round(3)))"
   ]
  },
  {
   "cell_type": "markdown",
   "metadata": {},
   "source": [
    "# (2) What do these two analyses look like on a grid cell basis?"
   ]
  },
  {
   "cell_type": "markdown",
   "metadata": {},
   "source": [
    "### Computing the Relative Magnitudes"
   ]
  },
  {
   "cell_type": "code",
   "execution_count": null,
   "metadata": {},
   "outputs": [],
   "source": [
    "EBU = 'CalCS'"
   ]
  },
  {
   "cell_type": "code",
   "execution_count": null,
   "metadata": {},
   "outputs": [],
   "source": [
    "# Bring down full grid\n",
    "nat_mean, nat_resid, nat_total = load_in_filtered_data('FG_ALT_CO2', EBU, AW=False)"
   ]
  },
  {
   "cell_type": "code",
   "execution_count": null,
   "metadata": {},
   "outputs": [],
   "source": [
    "# Compute the seasonal magnitude component\n",
    "stacked = nat_mean.stack(allpoints=['nlat', 'nlon'])\n",
    "operation = stacked.groupby('allpoints', squeeze=False).apply(et.ufunc.seasonal_magnitude)\n",
    "s_magnitude = operation.unstack('allpoints')"
   ]
  },
  {
   "cell_type": "code",
   "execution_count": null,
   "metadata": {},
   "outputs": [],
   "source": [
    "# Compute the mean internal magnitude component\n",
    "r_magnitude = nat_resid.std(dim='time').mean(dim='ensemble')"
   ]
  },
  {
   "cell_type": "code",
   "execution_count": null,
   "metadata": {},
   "outputs": [],
   "source": [
    "# Create relative contribution.\n",
    "relative_internal = (r_magnitude / (r_magnitude + s_magnitude)) * 100"
   ]
  },
  {
   "cell_type": "code",
   "execution_count": null,
   "metadata": {},
   "outputs": [],
   "source": [
    "# Data\n",
    "lat = relative_internal['TLAT'].values\n",
    "lon = relative_internal['TLONG'].values\n",
    "data = relative_internal.to_masked_array()\n",
    "\n",
    "# Set Extent\n",
    "x0,x1,y0,y1 = et.ebus.visual_bounds(EBU, std_lon=True)\n",
    "\n",
    "# Plot\n",
    "f, ax = et.vis.make_cartopy(grid_lines=False, projection=ccrs.Mercator(),\n",
    "                     land_color='#d3d3d3', frameon=False)\n",
    "plt.pcolor(lon-0.5, lat, data, transform=ccrs.PlateCarree(),\n",
    "           edgecolor='w', vmin=0, vmax=100,\n",
    "           cmap=et.vis.discrete_cmap(10, 'BrBG_r'))\n",
    "ax.set_extent([x0,x1,y0,y1])\n",
    "cb = plt.colorbar(ax=ax, ticks=[0,25,50,75,100], orientation='horizontal',\n",
    "                 fraction=0.045, pad=0.04, label='Non-Seasonal Variability [%]')\n",
    "ax.set_title('Fraction of F$_{\\mathrm{Nat}}$ Due to Internal Variability',\n",
    "             fontsize='xx-large')\n",
    "\n",
    "\n",
    "# Save Plot\n",
    "#et.vis.savefig('fractional_internal_variability_FG_ALT_CO2' + EBU)"
   ]
  },
  {
   "cell_type": "markdown",
   "metadata": {},
   "source": [
    "# (3) What does this look like when we involve the trend?\n",
    "Can we make some plots comparing the long-term anthropogenic trend?\n",
    "\n",
    "** Note **: Will do this once I get my hands on the FG_ANT_CO2 output."
   ]
  },
  {
   "cell_type": "code",
   "execution_count": null,
   "metadata": {},
   "outputs": [],
   "source": [
    "EBU = 'CanCS'"
   ]
  },
  {
   "cell_type": "code",
   "execution_count": null,
   "metadata": {},
   "outputs": [],
   "source": [
    "nat_mean, nat_resid, nat_total = load_in_filtered_data('FG_ALT_CO2', EBU, AW=False)\n",
    "ant_mean, ant_resid, ant_total = load_in_filtered_data('FG_ANT_CO2', EBU, AW=False)"
   ]
  },
  {
   "cell_type": "code",
   "execution_count": null,
   "metadata": {},
   "outputs": [],
   "source": [
    "# Compute the seasonal magnitude component.\n",
    "s_magnitude = nat_mean.stack(allpoints=['nlat','nlon']) \\\n",
    "                      .groupby('allpoints', squeeze=False) \\\n",
    "                      .apply(et.ufunc.seasonal_magnitude) \\\n",
    "                      .unstack('allpoints')"
   ]
  },
  {
   "cell_type": "code",
   "execution_count": null,
   "metadata": {},
   "outputs": [],
   "source": [
    "# Compute the magnitude from internal variability.\n",
    "r_magnitude = nat_resid.std(dim='time').mean(dim='ensemble')"
   ]
  },
  {
   "cell_type": "code",
   "execution_count": null,
   "metadata": {},
   "outputs": [],
   "source": [
    "# Compute the magnitude of the trend.\n",
    "t_magnitude = ant_mean.stack(allpoints=['nlat', 'nlon']) \\\n",
    "                      .groupby('allpoints', squeeze=True) \\\n",
    "                      .apply(et.ufunc.compute_slope) \\\n",
    "                      .unstack('allpoints')\n",
    "t_magnitude = t_magnitude * ant_mean.shape[0]"
   ]
  },
  {
   "cell_type": "markdown",
   "metadata": {},
   "source": [
    "PLOT!"
   ]
  },
  {
   "cell_type": "code",
   "execution_count": null,
   "metadata": {},
   "outputs": [],
   "source": [
    "import cartopy.feature as cfeature\n",
    "def make_subplot_cartopy(r,c,i, projection=ccrs.Robinson(), land_color='k', grid_color='#D3D3D3',\n",
    "                 grid_lines=True, figsize=(12,8), frameon=True):\n",
    "    ax = plt.subplot(r,c,i, projection=projection)\n",
    "    if grid_lines == True:\n",
    "        ax.gridlines(draw_labels=False, color=grid_color)\n",
    "    ax.add_feature(cfeature.LAND, facecolor=land_color)\n",
    "    if frameon == False:\n",
    "        ax.outline_patch.set_edgecolor('white')\n",
    "    return ax"
   ]
  },
  {
   "cell_type": "code",
   "execution_count": null,
   "metadata": {},
   "outputs": [],
   "source": [
    "def pcolor_subplot(ax, lon, lat, data, vmin=0, vmax=3, edgecolor='w', cmap=et.vis.discrete_cmap(10,cm.dense)):\n",
    "    p = ax.pcolor(lon, lat, data.to_masked_array(), transform=ccrs.PlateCarree(),\n",
    "               edgecolor=edgecolor, vmin=vmin, vmax=vmax, cmap=cmap)\n",
    "    return p"
   ]
  },
  {
   "cell_type": "code",
   "execution_count": null,
   "metadata": {},
   "outputs": [],
   "source": [
    "lon = s_magnitude.TLONG - 0.5\n",
    "lat = s_magnitude.TLAT\n",
    "fig, axes = plt.subplots(nrows=1, ncols=3, figsize=(14,5), subplot_kw=dict(projection=ccrs.Mercator()))\n",
    "\n",
    "# SEASONAL AMPLITUDE\n",
    "pcolor_subplot(axes[0],lon,lat,s_magnitude)\n",
    "x0,x1,y0,y1 = et.ebus.visual_bounds(EBU)\n",
    "axes[0].set_extent([x0,x1,y0,y1])\n",
    "axes[0].add_feature(cfeature.LAND, facecolor='k')\n",
    "axes[0].outline_patch.set_edgecolor('white')\n",
    "axes[0].set(title='Seasonal Amplitude')\n",
    "\n",
    "# INTERNAL AMPLITUDE\n",
    "pcolor_subplot(axes[1],lon,lat,r_magnitude)\n",
    "x0,x1,y0,y1 = et.ebus.visual_bounds(EBU)\n",
    "axes[1].set_extent([x0,x1,y0,y1])\n",
    "axes[1].add_feature(cfeature.LAND, facecolor='k')\n",
    "axes[1].outline_patch.set_edgecolor('white')\n",
    "axes[1].set(title='Internal Variability Amplitude')\n",
    "\n",
    "# TREND AMPLITUDE\n",
    "p = pcolor_subplot(axes[2],lon,lat,np.abs(t_magnitude.squeeze()))\n",
    "x0,x1,y0,y1 = et.ebus.visual_bounds(EBU)\n",
    "axes[2].set_extent([x0,x1,y0,y1])\n",
    "axes[2].add_feature(cfeature.LAND, facecolor='k')\n",
    "axes[2].outline_patch.set_edgecolor('white')\n",
    "axes[2].set(title='Anthropogenic Trend Amplitude$^{*}$')\n",
    "\n",
    "# COLORBAR\n",
    "fig.tight_layout()\n",
    "cb = fig.colorbar(p, ax=axes.ravel().tolist(), orientation='horizontal',\n",
    "             fraction=0.05, pad=0.05)\n",
    "cb.set_label('CO$_{2}$ Flux Amplitude [mol/m$^{2}$/yr]' + '\\n' +\n",
    "             '$^{*}$Linear change across the 1920-2015 period')\n",
    "\n",
    "# SAVE\n",
    "#et.vis.savefig(EBU + '_seasonal_vs_internal_vs_trend')"
   ]
  },
  {
   "cell_type": "markdown",
   "metadata": {},
   "source": [
    "# (3b) What is the signal to noise historically?"
   ]
  },
  {
   "cell_type": "code",
   "execution_count": null,
   "metadata": {},
   "outputs": [],
   "source": [
    "EBU = 'HumCS'"
   ]
  },
  {
   "cell_type": "code",
   "execution_count": null,
   "metadata": {},
   "outputs": [],
   "source": [
    "nat_mean, nat_resid, nat_total = load_in_filtered_data('FG_ALT_CO2', EBU, AW=False)\n",
    "ant_mean, ant_resid, ant_total = load_in_filtered_data('FG_ANT_CO2', EBU, AW=False)"
   ]
  },
  {
   "cell_type": "code",
   "execution_count": null,
   "metadata": {},
   "outputs": [],
   "source": [
    "# Compute the magnitude from internal variability.\n",
    "nat_internal = nat_resid.std(dim='time').mean(dim='ensemble')\n",
    "# Compute the magnitude of the trend.\n",
    "ant_trend = ant_mean.stack(allpoints=['nlat', 'nlon']) \\\n",
    "                      .groupby('allpoints', squeeze=True) \\\n",
    "                      .apply(et.ufunc.compute_slope) \\\n",
    "                      .unstack('allpoints')\n",
    "ant_trend = ant_trend * ant_mean.shape[0]"
   ]
  },
  {
   "cell_type": "code",
   "execution_count": null,
   "metadata": {},
   "outputs": [],
   "source": [
    "SNR = ant_trend / nat_internal\n",
    "# Absolute value\n",
    "SNR = np.fabs(SNR)"
   ]
  },
  {
   "cell_type": "code",
   "execution_count": null,
   "metadata": {},
   "outputs": [],
   "source": [
    "# Set up projection\n",
    "f, ax = et.vis.make_cartopy(projection=ccrs.Mercator(), grid_lines=False,\n",
    "                            frameon=False)\n",
    "x0,x1,y0,y1 = et.ebus.visual_bounds(EBU)\n",
    "ax.set_extent([x0,x1,y0,y1])\n",
    "\n",
    "# PCOLOR\n",
    "plt.pcolor(SNR.TLONG-0.5, SNR.TLAT, SNR.to_masked_array(), \n",
    "           transform=ccrs.PlateCarree(), edgecolor='w',\n",
    "           vmin=0, vmax=4, cmap=et.vis.discrete_cmap(8, cm.delta))\n",
    "\n",
    "# COLORBAR\n",
    "cb = plt.colorbar(orientation='horizontal', pad=0.05, fraction=0.041)\n",
    "cb.set_label('Signal-to-Noise Ratio (SNR)')\n",
    "ax.set_title('Magnitude of Anthropogenic Sink' + '\\n' + 'Relative to Internal Variability')"
   ]
  },
  {
   "cell_type": "markdown",
   "metadata": {},
   "source": [
    "# (4) How does the non-seasonal variability look relative to large ocean basins?\n",
    "\n",
    "Nikki wants to make a point that these systems are anomalously high in internal variability. Going to try two approaches to this:\n",
    "\n",
    "1. Make a global map of the non-seasonal variability and see if these pop out.\n",
    "2. Use REGION_MASK to compute these on an area-weighted scale and then make bar plots."
   ]
  },
  {
   "cell_type": "markdown",
   "metadata": {},
   "source": [
    "### Global Map Approach\n",
    "Note that I applied the seasonal_magnitude function to the entire global grid of ensemble mean FG_ALT_CO2. I just removed those cells to keep this notebook clean, since I saved the output to a netcdf."
   ]
  },
  {
   "cell_type": "markdown",
   "metadata": {},
   "source": [
    "# (4b) Load in already processed files"
   ]
  },
  {
   "cell_type": "code",
   "execution_count": 3,
   "metadata": {},
   "outputs": [],
   "source": [
    "# Contemporary CO2 Flux\n",
    "fileDir = '/glade/p/work/rbrady/EBUS_BGC_Variability/FG_CO2/global/FG_CO2_seasonal_internal_global_magnitudes.nc'\n",
    "ds = xr.open_dataset(fileDir)"
   ]
  },
  {
   "cell_type": "markdown",
   "metadata": {},
   "source": [
    "### Conventional Flux Relative Magnitude"
   ]
  },
  {
   "cell_type": "code",
   "execution_count": null,
   "metadata": {},
   "outputs": [],
   "source": [
    "ds['relative_internal'] = (ds['r_magnitude'] / (ds['s_magnitude'] + ds['r_magnitude']))*100"
   ]
  },
  {
   "cell_type": "code",
   "execution_count": null,
   "metadata": {},
   "outputs": [],
   "source": [
    "lon, lat, data = et.vis.deseam(ds['TLONG'], ds['TLAT'], ds['relative_internal'])"
   ]
  },
  {
   "cell_type": "code",
   "execution_count": null,
   "metadata": {},
   "outputs": [],
   "source": [
    "EBUS = ['CalCS', 'HumCS', 'CanCS', 'BenCS']"
   ]
  },
  {
   "cell_type": "code",
   "execution_count": null,
   "metadata": {},
   "outputs": [],
   "source": [
    "f, ax = et.vis.make_cartopy()\n",
    "m = ax.pcolormesh(lon, lat, data, transform=ccrs.PlateCarree(),\n",
    "              vmin=0, vmax=100, cmap=et.vis.discrete_cmap(10, cm.balance))\n",
    "cb = plt.colorbar(m, ax=ax, orientation='horizontal', pad=0.05,\n",
    "                  ticks=[0,25,50,75,100])\n",
    "ax.set_title('Fractional Contribution of Internal Variability to Total Variability (F$_{\\mathrm{contemp}}$)')\n",
    "cb.set_label('Non-Seasonal Variability [%]')\n",
    "\n",
    "for EBC in EBUS:\n",
    "    x0, x1, y0, y1 = et.ebus.visual_bounds(EBC, std_lon=True)\n",
    "    et.vis.add_box(ax, x0, x1, y0, y1,\n",
    "                   facecolor='#d3d3d3', edgecolor='k',\n",
    "                   linewidth=2, alpha=0.4)\n",
    "    \n"
   ]
  },
  {
   "cell_type": "markdown",
   "metadata": {},
   "source": [
    "### Absolute Seasonal Magnitude"
   ]
  },
  {
   "cell_type": "code",
   "execution_count": null,
   "metadata": {},
   "outputs": [],
   "source": [
    "lon, lat, data = et.vis.deseam(ds['TLONG'], ds['TLAT'], ds['s_magnitude'])"
   ]
  },
  {
   "cell_type": "code",
   "execution_count": null,
   "metadata": {},
   "outputs": [],
   "source": [
    "f, ax = et.vis.make_cartopy()\n",
    "m = ax.pcolormesh(lon, lat, data, transform=ccrs.PlateCarree(),\n",
    "                  vmin=0, vmax=4, cmap=et.vis.discrete_cmap(12, cm.dense))\n",
    "cb = plt.colorbar(m, ax=ax, orientation='horizontal', pad=0.05,\n",
    "                  extend='max')\n",
    "#ax.set_title('Fractional Contribution of Internal Variability to Total Variability (F$_{\\mathrm{contemp}}$)')\n",
    "#cb.set_label('Non-Seasonal Variability [%]')"
   ]
  },
  {
   "cell_type": "markdown",
   "metadata": {},
   "source": [
    "### Absolute Internal Magnitude"
   ]
  },
  {
   "cell_type": "code",
   "execution_count": 4,
   "metadata": {},
   "outputs": [],
   "source": [
    "lon, lat, data = et.vis.deseam(ds['TLONG'], ds['TLAT'], ds['r_magnitude'])"
   ]
  },
  {
   "cell_type": "code",
   "execution_count": 5,
   "metadata": {},
   "outputs": [
    {
     "name": "stdout",
     "output_type": "stream",
     "text": [
      "Help on function savefig in module esmtools.vis:\n",
      "\n",
      "savefig(filename, directory=None, extension='.png', transparent=True, dpi=300)\n",
      "    Save a publication-ready figure.\n",
      "    \n",
      "    Parameters\n",
      "    ----------\n",
      "    filename : str\n",
      "        The name of the file (without the extension)\n",
      "    directory : str (optional)\n",
      "        Identify a directory to place the file. Otherwise it will be placed locally.\n",
      "    extension : str (optional)\n",
      "        Identify a filetype. Defaults to .png\n",
      "    transparent : boolean (optional)\n",
      "        Whether or not to save with a transparent background. Default is True.\n",
      "    dpi : int (optional)\n",
      "        Dots per inch, or resolution. Defaults to 300.\n",
      "    \n",
      "    Returns\n",
      "    -------\n",
      "    A saved file.\n",
      "\n"
     ]
    }
   ],
   "source": [
    "help(et.vis.savefig)"
   ]
  },
  {
   "cell_type": "code",
   "execution_count": 11,
   "metadata": {},
   "outputs": [
    {
     "data": {
      "image/png": "[encoded data removed]",
      "text/plain": [
       "<matplotlib.figure.Figure at 0x2aaaf1135a20>"
      ]
     },
     "metadata": {},
     "output_type": "display_data"
    }
   ],
   "source": [
    "f, ax = et.vis.make_cartopy()\n",
    "m = ax.pcolormesh(lon, lat, data, transform=ccrs.PlateCarree(),\n",
    "                  vmin=0, vmax=4, cmap=et.vis.discrete_cmap(12, cm.dense))\n",
    "cb = plt.colorbar(m, ax=ax, orientation='horizontal', pad=0.05,\n",
    "                  extend='max')\n",
    "\n",
    "# Add boxes over EBUs.\n",
    "systems = ['CalCS', 'HumCS', 'CanCS', 'BenCS']\n",
    "for ebu in systems:\n",
    "    x0,x1,y0,y1 = et.ebus.visual_bounds(ebu, std_lon=True)\n",
    "    et.vis.add_box(ax, x0,x1,y0,y1, edgecolor='k', facecolor='none', linewidth=2, alpha=1)\n",
    "\n",
    "#et.vis.savefig('absolute_internal_magnitude', dpi=600)"
   ]
  }
 ],
 "metadata": {
  "kernelspec": {
   "display_name": "Python 3",
   "language": "python",
   "name": "python3"
  },
  "language_info": {
   "codemirror_mode": {
    "name": "ipython",
    "version": 3
   },
   "file_extension": ".py",
   "mimetype": "text/x-python",
   "name": "python",
   "nbconvert_exporter": "python",
   "pygments_lexer": "ipython3",
   "version": "3.6.3"
  }
 },
 "nbformat": 4,
 "nbformat_minor": 2
}
