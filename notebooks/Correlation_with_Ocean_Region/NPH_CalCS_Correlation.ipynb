{
 "metadata": {
  "kernelspec": {
   "display_name": "Python 3",
   "language": "python",
   "name": "python3"
  },
  "language_info": {
   "codemirror_mode": {
    "name": "ipython",
    "version": 3
   },
   "file_extension": ".py",
   "mimetype": "text/x-python",
   "name": "python",
   "nbconvert_exporter": "python",
   "pygments_lexer": "ipython3",
   "version": "3.6.1"
  },
  "name": ""
 },
 "nbformat": 3,
 "nbformat_minor": 0,
 "worksheets": [
  {
   "cells": [
    {
     "cell_type": "markdown",
     "metadata": {},
     "source": [
      "# NPH CalCS Correlation\n",
      "\n",
      "After regressing CalCS CO2 flux residuals globally, we noticed a bullseye that looked like the NPH. Perhaps it would be informative to define a box over this bullseye and correlate those residuals with CalCS CO2 flux. \n",
      "\n",
      "The interesting thing, is that a composite map of residuals with EOFs of CalCS CO2 flux don't show this signal:\n",
      "\n",
      "![](https://i.imgur.com/OeSEY43.png)\n",
      "\n",
      "However, perhaps there is a story that fits. This map shows a correlation generally where the NPH sits in season. When that area has low pressure anomalies, there is outgassing. To me, this indicates that when the NPH moves northward (thus decreasing pressure in that box), we get more advection of cold water into the CCS and stronger upwelling. A composite map tends to show an anomalous High up in the Aleutian area:\n",
      "\n",
      "![](https://i.imgur.com/vdH18cg.png)"
     ]
    },
    {
     "cell_type": "code",
     "collapsed": true,
     "input": [
      "import glob\n",
      "import numpy as np\n",
      "import pandas as pd\n",
      "import xarray as xr\n",
      "import esmtools as et\n",
      "import matplotlib.pyplot as plt\n",
      "%matplotlib inline"
     ],
     "language": "python",
     "metadata": {},
     "outputs": [],
     "prompt_number": 36
    },
    {
     "cell_type": "heading",
     "level": 4,
     "metadata": {},
     "source": [
      "Load in CCS residuals"
     ]
    },
    {
     "cell_type": "code",
     "collapsed": true,
     "input": [
      "filepath = '/glade/p/work/rbrady/EBUS_BGC_Variability/FG_ALT_CO2/CalCS/filtered_output/'\n",
      "filename = 'calcs-FG_ALT_CO2-residuals-AW-chavez-800km.nc'\n",
      "CCS = xr.open_dataset(filepath + filename)\n",
      "CCS = CCS['FG_ALT_CO2_AW']\n",
      "CCS.name = 'CCS'"
     ],
     "language": "python",
     "metadata": {},
     "outputs": [],
     "prompt_number": 37
    },
    {
     "cell_type": "heading",
     "level": 4,
     "metadata": {},
     "source": [
      "Load in and filter PSL box"
     ]
    },
    {
     "cell_type": "code",
     "collapsed": true,
     "input": [
      "filepath = '/glade/scratch/rbrady/EBUS_BGC_Variability/global_residuals/PSL/remapped/'\n",
      "PSL = xr.open_mfdataset(filepath + '*.nc', concat_dim='ensemble')\n",
      "PSL = PSL['PSL']\n",
      "PSL['time'] = pd.date_range('1920-01', '2016-01', freq='M')\n",
      "# Convert to hPa\n",
      "PSL = PSL / 100 "
     ],
     "language": "python",
     "metadata": {},
     "outputs": [],
     "prompt_number": 38
    },
    {
     "cell_type": "code",
     "collapsed": false,
     "input": [
      "# Filter to box defined above.\n",
      "PSL = PSL.sel(lat=slice(10, 35), lon=slice(205,240))\n",
      "\n",
      "# Create area grid\n",
      "area = 111 * (111 * np.cos(np.deg2rad(PSL.lat)))\n",
      "\n",
      "# Add columns for longitude.\n",
      "area = np.expand_dims(area.values, 1)\n",
      "area = np.repeat(area, PSL.shape[3], axis=1)\n",
      "PSL['area'] = (('lat','lon'), area)\n",
      "\n",
      "# Area weight.\n",
      "PSL = ((PSL * PSL['area'])/PSL['area'].sum()).sum('lat').sum('lon')"
     ],
     "language": "python",
     "metadata": {},
     "outputs": [],
     "prompt_number": 39
    },
    {
     "cell_type": "code",
     "collapsed": false,
     "input": [
      "ds = xr.open_dataset('/glade/u/home/rbrady/work/EBUS_BGC_Variability/indices/NPH/NPH.full_ensemble.192001-201512.nc')"
     ],
     "language": "python",
     "metadata": {},
     "outputs": [],
     "prompt_number": 60
    },
    {
     "cell_type": "code",
     "collapsed": false,
     "input": [
      "ds"
     ],
     "language": "python",
     "metadata": {},
     "outputs": [],
     "prompt_number": 61
    },
    {
     "cell_type": "heading",
     "level": 3,
     "metadata": {},
     "source": [
      "Correlate"
     ]
    },
    {
     "cell_type": "code",
     "collapsed": true,
     "input": [
      "ds = CCS.to_dataset()\n",
      "ds['PSL'] = PSL"
     ],
     "language": "python",
     "metadata": {},
     "outputs": [],
     "prompt_number": 31
    },
    {
     "cell_type": "code",
     "collapsed": true,
     "input": [
      "m, r, p = ([] for i in range(3))\n",
      "for label, group in ds.groupby('ensemble'):\n",
      "    M, _, R, P, _ = et.stats.linear_regression(group.PSL, group.CCS)\n",
      "    m.append(M)\n",
      "    r.append(R)\n",
      "    p.append(P)\n",
      "ds = xr.Dataset({'m': ('ensemble', m),\n",
      "                 'r': ('ensemble', r),\n",
      "                 'p': ('ensemble', p)})"
     ],
     "language": "python",
     "metadata": {},
     "outputs": [],
     "prompt_number": 32
    },
    {
     "cell_type": "code",
     "collapsed": true,
     "input": [
      "outpath = '/glade/p/work/rbrady/EBUS_BGC_Variability/area_weighted_regional_regressions/CalCS/FG_ALT_CO2/NPH/'\n",
      "outfile = 'NPH.FG_ALT_CO2.CalCS.unsmoothed.area_weighted_regional_regression.lag0.nc'\n",
      "ds.to_netcdf(outpath + outfile)\n"
     ],
     "language": "python",
     "metadata": {
      "scrolled": true
     },
     "outputs": [],
     "prompt_number": 33
    },
    {
     "cell_type": "code",
     "collapsed": false,
     "input": [
      "ds.r"
     ],
     "language": "python",
     "metadata": {},
     "outputs": [],
     "prompt_number": 35
    }
   ],
   "metadata": {}
  }
 ]
}