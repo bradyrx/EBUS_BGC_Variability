{
 "cells": [
  {
   "cell_type": "markdown",
   "metadata": {},
   "source": [
    "# NPH CalCS Correlation\n",
    "\n",
    "After regressing CalCS CO2 flux residuals globally, we noticed a bullseye that looked like the NPH. Perhaps it would be informative to define a box over this bullseye and correlate those residuals with CalCS CO2 flux. \n",
    "\n",
    "The interesting thing, is that a composite map of residuals with EOFs of CalCS CO2 flux don't show this signal:\n",
    "\n",
    "![](https://i.imgur.com/OeSEY43.png)\n",
    "\n",
    "However, perhaps there is a story that fits. This map shows a correlation generally where the NPH sits in season. When that area has low pressure anomalies, there is outgassing. To me, this indicates that when the NPH moves northward (thus decreasing pressure in that box), we get more advection of cold water into the CCS and stronger upwelling. A composite map tends to show an anomalous High up in the Aleutian area:\n",
    "\n",
    "![](https://i.imgur.com/vdH18cg.png)"
   ]
  },
  {
   "cell_type": "code",
   "execution_count": 36,
   "metadata": {
    "collapsed": true
   },
   "outputs": [],
   "source": [
    "import glob\n",
    "import numpy as np\n",
    "import pandas as pd\n",
    "import xarray as xr\n",
    "import esmtools as et\n",
    "import matplotlib.pyplot as plt\n",
    "%matplotlib inline"
   ]
  },
  {
   "cell_type": "markdown",
   "metadata": {},
   "source": [
    "#### Load in CCS residuals"
   ]
  },
  {
   "cell_type": "code",
   "execution_count": 37,
   "metadata": {
    "collapsed": true
   },
   "outputs": [],
   "source": [
    "filepath = '/glade/p/work/rbrady/EBUS_BGC_Variability/FG_ALT_CO2/CalCS/filtered_output/'\n",
    "filename = 'calcs-FG_ALT_CO2-residuals-AW-chavez-800km.nc'\n",
    "CCS = xr.open_dataset(filepath + filename)\n",
    "CCS = CCS['FG_ALT_CO2_AW']\n",
    "CCS.name = 'CCS'"
   ]
  },
  {
   "cell_type": "markdown",
   "metadata": {},
   "source": [
    "#### Load in and filter PSL box"
   ]
  },
  {
   "cell_type": "code",
   "execution_count": 38,
   "metadata": {
    "collapsed": true
   },
   "outputs": [],
   "source": [
    "filepath = '/glade/scratch/rbrady/EBUS_BGC_Variability/global_residuals/PSL/remapped/'\n",
    "PSL = xr.open_mfdataset(filepath + '*.nc', concat_dim='ensemble')\n",
    "PSL = PSL['PSL']\n",
    "PSL['time'] = pd.date_range('1920-01', '2016-01', freq='M')\n",
    "# Convert to hPa\n",
    "PSL = PSL / 100 "
   ]
  },
  {
   "cell_type": "code",
   "execution_count": 39,
   "metadata": {},
   "outputs": [
    {
     "name": "stderr",
     "output_type": "stream",
     "text": [
      "/glade/u/home/rbrady/anaconda3/lib/python3.6/site-packages/dask/array/core.py:476: RuntimeWarning: overflow encountered in true_divide\n",
      "  o = func(*args, **kwargs)\n"
     ]
    }
   ],
   "source": [
    "# Filter to box defined above.\n",
    "PSL = PSL.sel(lat=slice(10, 35), lon=slice(205,240))\n",
    "\n",
    "# Create area grid\n",
    "area = 111 * (111 * np.cos(np.deg2rad(PSL.lat)))\n",
    "\n",
    "# Add columns for longitude.\n",
    "area = np.expand_dims(area.values, 1)\n",
    "area = np.repeat(area, PSL.shape[3], axis=1)\n",
    "PSL['area'] = (('lat','lon'), area)\n",
    "\n",
    "# Area weight.\n",
    "PSL = ((PSL * PSL['area'])/PSL['area'].sum()).sum('lat').sum('lon')"
   ]
  },
  {
   "cell_type": "code",
   "execution_count": 60,
   "metadata": {},
   "outputs": [],
   "source": [
    "ds = xr.open_dataset('/glade/u/home/rbrady/work/EBUS_BGC_Variability/indices/NPH/NPH.full_ensemble.192001-201512.nc')"
   ]
  },
  {
   "cell_type": "code",
   "execution_count": 61,
   "metadata": {},
   "outputs": [
    {
     "data": {
      "text/plain": [
       "<xarray.Dataset>\n",
       "Dimensions:  (ensemble: 34, time: 1152)\n",
       "Coordinates:\n",
       "  * time     (time) datetime64[ns] 1920-01-31 1920-02-29 1920-03-31 ...\n",
       "Dimensions without coordinates: ensemble\n",
       "Data variables:\n",
       "    NPH      (ensemble, time) float64 0.2413 0.2515 -0.09971 -0.6389 -0.4969 ...\n",
       "Attributes:\n",
       "    description:  A simple index created over a box spanning 155W to 120W and..."
      ]
     },
     "execution_count": 61,
     "metadata": {},
     "output_type": "execute_result"
    }
   ],
   "source": [
    "ds"
   ]
  },
  {
   "cell_type": "markdown",
   "metadata": {},
   "source": [
    "### Correlate"
   ]
  },
  {
   "cell_type": "code",
   "execution_count": 31,
   "metadata": {
    "collapsed": true
   },
   "outputs": [],
   "source": [
    "ds = CCS.to_dataset()\n",
    "ds['PSL'] = PSL"
   ]
  },
  {
   "cell_type": "code",
   "execution_count": 32,
   "metadata": {
    "collapsed": true
   },
   "outputs": [],
   "source": [
    "m, r, p = ([] for i in range(3))\n",
    "for label, group in ds.groupby('ensemble'):\n",
    "    M, _, R, P, _ = et.stats.linear_regression(group.PSL, group.CCS)\n",
    "    m.append(M)\n",
    "    r.append(R)\n",
    "    p.append(P)\n",
    "ds = xr.Dataset({'m': ('ensemble', m),\n",
    "                 'r': ('ensemble', r),\n",
    "                 'p': ('ensemble', p)})"
   ]
  },
  {
   "cell_type": "code",
   "execution_count": 33,
   "metadata": {
    "collapsed": true,
    "scrolled": true
   },
   "outputs": [],
   "source": [
    "outpath = '/glade/p/work/rbrady/EBUS_BGC_Variability/area_weighted_regional_regressions/CalCS/FG_ALT_CO2/NPH/'\n",
    "outfile = 'NPH.FG_ALT_CO2.CalCS.unsmoothed.area_weighted_regional_regression.lag0.nc'\n",
    "ds.to_netcdf(outpath + outfile)\n"
   ]
  },
  {
   "cell_type": "code",
   "execution_count": 35,
   "metadata": {},
   "outputs": [
    {
     "data": {
      "text/plain": [
       "<xarray.DataArray 'r' (ensemble: 34)>\n",
       "array([-0.253402, -0.253236, -0.260063, -0.191645, -0.177472, -0.261125,\n",
       "       -0.182097, -0.230003, -0.233664, -0.265484, -0.256838, -0.166479,\n",
       "       -0.19742 , -0.239522, -0.26593 , -0.221997, -0.265785, -0.254884,\n",
       "       -0.267387, -0.181852, -0.1691  , -0.241591, -0.212779, -0.210613,\n",
       "       -0.24984 , -0.171852, -0.191453, -0.250286, -0.219253, -0.278444,\n",
       "       -0.26201 , -0.251144, -0.185897, -0.229939])\n",
       "Dimensions without coordinates: ensemble"
      ]
     },
     "execution_count": 35,
     "metadata": {},
     "output_type": "execute_result"
    }
   ],
   "source": [
    "ds.r"
   ]
  }
 ],
 "metadata": {
  "kernelspec": {
   "display_name": "Python 3",
   "language": "python",
   "name": "python3"
  },
  "language_info": {
   "codemirror_mode": {
    "name": "ipython",
    "version": 3
   },
   "file_extension": ".py",
   "mimetype": "text/x-python",
   "name": "python",
   "nbconvert_exporter": "python",
   "pygments_lexer": "ipython3",
   "version": "3.6.1"
  }
 },
 "nbformat": 4,
 "nbformat_minor": 2
}
