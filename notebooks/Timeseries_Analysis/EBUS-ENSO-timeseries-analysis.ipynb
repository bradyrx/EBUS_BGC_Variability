{
 "metadata": {
  "kernelspec": {
   "display_name": "Python 2",
   "language": "python",
   "name": "python2"
  },
  "language_info": {
   "codemirror_mode": {
    "name": "ipython",
    "version": 2
   },
   "file_extension": ".py",
   "mimetype": "text/x-python",
   "name": "python",
   "nbconvert_exporter": "python",
   "pygments_lexer": "ipython2",
   "version": "2.7.7"
  },
  "name": ""
 },
 "nbformat": 3,
 "nbformat_minor": 0,
 "worksheets": [
  {
   "cells": [
    {
     "cell_type": "markdown",
     "metadata": {},
     "source": [
      "# EBUS-ENSO Timeseries Analysis\n",
      "- Taking output from the EBUS_extraction.py script to analyze it in coordination with Adam Phillip's CVDP output (starting with Nino 3.4)\n",
      "- First step is to work with CCS, since that's a comfortable area."
     ]
    },
    {
     "cell_type": "code",
     "collapsed": true,
     "input": [
      "# UNIX-style globbing\n",
      "import glob\n",
      "\n",
      "# Numerics\n",
      "import numpy as np\n",
      "import pandas as pd\n",
      "import xarray as xr\n",
      "from scipy import signal\n",
      "from scipy import stats\n",
      "\n",
      "# Visualization\n",
      "import matplotlib.pyplot as plt\n",
      "%matplotlib inline\n",
      "from matplotlib.offsetbox import AnchoredText\n",
      "\n",
      "\n",
      "from pylab import *\n",
      "\n",
      "from mpl_toolkits.basemap import Basemap\n",
      "\n",
      "import seaborn as sns\n",
      "sns.set(color_codes=True)\n",
      "\n",
      "import statsmodels.api as sm\n",
      "\n",
      "import scipy.fftpack"
     ],
     "language": "python",
     "metadata": {},
     "outputs": [],
     "prompt_number": 1
    },
    {
     "cell_type": "markdown",
     "metadata": {},
     "source": [
      "# Functions\n",
      "- For visibility in the Notebook"
     ]
    },
    {
     "cell_type": "code",
     "collapsed": true,
     "input": [
      "# Constants\n",
      "colors = {\n",
      "    'CalCS': '#80b1d3',\n",
      "    'HumCS': '#fb8072',\n",
      "    'CanCS': '#fdb462',\n",
      "    'BenCS': '#bc80bd'\n",
      "}\n",
      "ens = ['001', '002', '009', '010', '011',\n",
      "       '012', '013', '014', '015', '016',\n",
      "       '017', '018', '019', '020', '021',\n",
      "       '022', '023', '024', '025', '026',\n",
      "       '027', '028', '029', '030', '031',\n",
      "       '032', '033', '034', '035', '101',\n",
      "       '102', '103', '104', '105']"
     ],
     "language": "python",
     "metadata": {},
     "outputs": [],
     "prompt_number": 2
    },
    {
     "cell_type": "code",
     "collapsed": true,
     "input": [
      "def detrend_nino(x):\n",
      "    return signal.detrend(x)"
     ],
     "language": "python",
     "metadata": {},
     "outputs": [],
     "prompt_number": 3
    },
    {
     "cell_type": "code",
     "collapsed": true,
     "input": [
      "def compute_correlations(carbonData, climateData):\n",
      "    slope, intercept, r_value, p_value, std_err = stats.linregress(climateData, carbonData)\n",
      "    return slope, r_value, r_value**2, p_value"
     ],
     "language": "python",
     "metadata": {},
     "outputs": [],
     "prompt_number": 4
    },
    {
     "cell_type": "code",
     "collapsed": true,
     "input": [
      "def smooth_series(x, length=12):\n",
      "    series = pd.rolling_mean(x, length, center=False)\n",
      "    #series = series[(length-1)::]\n",
      "    return series"
     ],
     "language": "python",
     "metadata": {},
     "outputs": [],
     "prompt_number": 5
    },
    {
     "cell_type": "code",
     "collapsed": true,
     "input": [
      "def drop_ensemble_dim(ds, x):\n",
      "    ds[x] = (('nlat','nlon'), ds[x][0])\n",
      "    return ds"
     ],
     "language": "python",
     "metadata": {},
     "outputs": [],
     "prompt_number": 6
    },
    {
     "cell_type": "code",
     "collapsed": true,
     "input": [
      "def setup_map(ax, lon, lat, lat1=np.nan, lat2=np.nan,\n",
      "              lon1=np.nan, lon2=np.nan):\n",
      "    if np.isnan(lat1):\n",
      "        lat1=np.nanmin(lat)\n",
      "        lat2=np.nanmax(lat)\n",
      "        lon1=np.nanmin(lon)\n",
      "        lon2=np.nanmax(lon)\n",
      "    m = Basemap(projection='eqdc',\n",
      "                lat_0=(lat1 + lat2)/2,\n",
      "                lon_0=(lon1 + lon2)/2,\n",
      "                llcrnrlon=lon1,\n",
      "                urcrnrlon=lon2,\n",
      "                llcrnrlat=lat1,\n",
      "                urcrnrlat=lat2,\n",
      "                resolution='c')\n",
      "    m.drawcoastlines()\n",
      "    #m.fillcontinents(color='black')\n",
      "    m.drawmapboundary(fill_color='white')\n",
      "    m.drawparallels(np.arange(np.floor(np.nanmin(lat)), \n",
      "                              np.ceil(np.nanmax(lat)), 3),\n",
      "                   labels=[True,False,False,False], size='x-large')\n",
      "    m.drawmeridians(np.arange(np.floor(np.nanmin(lon)), \n",
      "                              np.ceil(np.nanmax(lon)), 3),\n",
      "                   labels=[False, False, False, True], size='x-large')\n",
      "    return m"
     ],
     "language": "python",
     "metadata": {},
     "outputs": [],
     "prompt_number": 7
    },
    {
     "cell_type": "code",
     "collapsed": true,
     "input": [
      "def chavez_bounds(x):\n",
      "    if x == \"CalCS\":\n",
      "        lat1 = 34\n",
      "        lat2 = 44\n",
      "    elif x == \"CanCS\":\n",
      "        lat1 = 12\n",
      "        lat2 = 22\n",
      "    elif x == \"BenCS\":\n",
      "        lat1 = -28\n",
      "        lat2 = -18\n",
      "    elif x == \"HumCS\":\n",
      "        lat1 = -16\n",
      "        lat2 = -6\n",
      "    else:\n",
      "        raise ValueError('\\n' + 'Must select from the following EBUS strings:'\n",
      "                         + '\\n' + 'CalCS' + '\\n' + 'CanCS' + '\\n' + 'BenCS' +\n",
      "                         '\\n' + 'HumCS')\n",
      "    return lat1, lat2"
     ],
     "language": "python",
     "metadata": {},
     "outputs": [],
     "prompt_number": 8
    },
    {
     "cell_type": "markdown",
     "metadata": {},
     "source": [
      "# Filter Region \n",
      "(If wanting to investigate stuff without residuals)"
     ]
    },
    {
     "cell_type": "code",
     "collapsed": true,
     "input": [
      "EBU = 'CalCS'\n",
      "VAR = 'FG_CO2'\n",
      "OFFSHORE = 800"
     ],
     "language": "python",
     "metadata": {},
     "outputs": [],
     "prompt_number": 9
    },
    {
     "cell_type": "code",
     "collapsed": true,
     "input": [
      "fileDir = '/glade/u/home/rbrady/work/EBUS_BGC_Variability/' + VAR + '/' + EBU + '/'\n",
      "ds = xr.open_mfdataset(fileDir + '*.nc', concat_dim='ensemble')\n",
      "ds = drop_ensemble_dim(ds, 'DXT')\n",
      "ds = drop_ensemble_dim(ds, 'TAREA')\n",
      "ds = drop_ensemble_dim(ds, 'REGION_MASK')\n",
      "ds = drop_ensemble_dim(ds, 'TLAT')\n",
      "if EBU != \"HumCS\":\n",
      "    ds = drop_ensemble_dim(ds, 'TLONG')\n",
      "del ds['DYT']\n",
      "del ds['ANGLET']\n",
      "ds['DXT'] = ds['DXT'] / 100 / 1000\n",
      "lat1, lat2 = chavez_bounds(EBU)\n",
      "ds = ds.where(ds['TLAT'] >= lat1).where(ds['TLAT'] <= lat2)\n",
      "data = ds[VAR][0,0]\n",
      "data = np.ma.array(data, mask=np.isnan(data))\n",
      "dxt_dat = ds['DXT']\n",
      "dxt_dat = np.ma.array(dxt_dat, mask=np.isnan(data))\n",
      "ds['DXT'] = (('nlat','nlon'), dxt_dat)\n",
      "regmask = ds['REGION_MASK']\n",
      "counter = 0\n",
      "for row in regmask:\n",
      "    conditional = 0 in row.values\n",
      "    if conditional == False:\n",
      "        ds['DXT'][counter, :] = np.nan\n",
      "    counter += 1\n",
      "x = ds['DXT'].values\n",
      "x = np.ma.array(x, mask=np.isnan(x))\n",
      "dxt_cum = np.cumsum(x[:, ::-1], axis=1)[:, ::-1]\n",
      "ds['DXT_Cum'] = (('nlat', 'nlon'), dxt_cum)\n",
      "ds = ds.where(ds['DXT_Cum'] <= OFFSHORE)\n",
      "#ds = ((ds * ds['TAREA']).sum(dim='nlat').sum(dim='nlon'))/ds['TAREA'].sum()"
     ],
     "language": "python",
     "metadata": {},
     "outputs": [],
     "prompt_number": 10
    },
    {
     "cell_type": "code",
     "collapsed": true,
     "input": [
      "ds_forced = ds[VAR].mean(dim='ensemble')\n",
      "ds_residuals = ds[VAR] - ds_forced\n",
      "ds_forced['TAREA'] = ds['TAREA']\n",
      "ds_residuals['TAREA'] = ds['TAREA']\n",
      "ds_forced = ds_forced.to_dataset()\n",
      "ds_residuals = ds_residuals.to_dataset()"
     ],
     "language": "python",
     "metadata": {},
     "outputs": [],
     "prompt_number": 39
    },
    {
     "cell_type": "code",
     "collapsed": false,
     "input": [
      "ds_residuals_areaweight.name = VAR + '_AW'\n",
      "ds_residuals_areaweight.to_dataset()"
     ],
     "language": "python",
     "metadata": {},
     "outputs": [],
     "prompt_number": 59
    },
    {
     "cell_type": "heading",
     "level": 1,
     "metadata": {},
     "source": [
      "Load in Residuals and Area Weight"
     ]
    },
    {
     "cell_type": "code",
     "collapsed": true,
     "input": [
      "EBU = 'CalCS'\n",
      "VAR = 'FG_CO2'\n",
      "fileDir = '/glade/u/home/rbrady/work/EBUS_BGC_Variability/' + VAR + '/' + EBU + '/filtered_residuals/'\n",
      "ds_var = xr.open_dataset(fileDir + EBU.lower() + '-' + VAR + '-residuals-chavez-800km.nc')\n",
      "#ds_var = ((ds_var * ds_var['TAREA']).sum(dim='nlat').sum(dim='nlon'))/ds_var['TAREA'].sum()"
     ],
     "language": "python",
     "metadata": {},
     "outputs": [],
     "prompt_number": 16
    },
    {
     "cell_type": "code",
     "collapsed": true,
     "input": [
      "EBU = 'CalCS'\n",
      "VAR = 'FG_CO2'\n",
      "fileDir = '/glade/u/home/rbrady/work/EBUS_BGC_Variability/' + VAR + '/' + EBU + '/filtered_residuals/'\n",
      "ds_co2 = xr.open_dataset(fileDir + EBU.lower() + '-' + VAR + '-residuals-chavez-800km.nc')\n",
      "ds_co2 = ((ds_co2 * ds_co2['TAREA']).sum(dim='nlat').sum(dim='nlon'))/ds_co2['TAREA'].sum()"
     ],
     "language": "python",
     "metadata": {},
     "outputs": [],
     "prompt_number": null
    },
    {
     "cell_type": "code",
     "collapsed": true,
     "input": [
      "ds_co2"
     ],
     "language": "python",
     "metadata": {},
     "outputs": [],
     "prompt_number": null
    },
    {
     "cell_type": "code",
     "collapsed": true,
     "input": [
      "counter=0\n",
      "VAR = 'pCO2SURF'\n",
      "dat_var = ds_var[VAR][counter].values\n",
      "dat_var = smooth_series(dat_var)\n",
      "dat_var = dat_var[11::]\n",
      "dat_co2 = ds_co2['FG_CO2'][counter].values\n",
      "dat_co2 = smooth_series(dat_co2)\n",
      "dat_co2 = dat_co2[11::]\n",
      "slope,intercept,r,r2,p = stats.linregress(dat_var,dat_co2)\n",
      "df = pd.DataFrame(dict(variable=dat_var, FG_CO2=dat_co2))\n",
      "sns_ax = sns.regplot(x='variable', y='FG_CO2', data=df, color='k')\n",
      "sns_ax.set_title('test')"
     ],
     "language": "python",
     "metadata": {},
     "outputs": [],
     "prompt_number": null
    },
    {
     "cell_type": "markdown",
     "metadata": {},
     "source": [
      "# Plot Study Region\n",
      "Are we in the right area?"
     ]
    },
    {
     "cell_type": "code",
     "collapsed": true,
     "input": [
      "# Convert all non-nan values to a constant to just plot the domain as one color.\n",
      "data = np.asarray(ds_residuals[VAR][0].mean(dim='time'))\n",
      "mask = ~np.isnan(data)\n",
      "data[mask] = 999"
     ],
     "language": "python",
     "metadata": {},
     "outputs": [],
     "prompt_number": null
    },
    {
     "cell_type": "code",
     "collapsed": true,
     "input": [
      "lon = ds['TLONG'].values\n",
      "lat = ds['TLAT'].values\n",
      "#data = ds['FG_CO2'][0].mean(dim='time')\n",
      "data = np.ma.array(data, mask=np.isnan(data))\n",
      "\n",
      "\n",
      "fig = plt.figure(figsize=(9,9))\n",
      "ax = fig.add_subplot(111)\n",
      "m = setup_map(ax,lon,lat)\n",
      "m.drawcountries()\n",
      "#m.drawstates()\n",
      "m.pcolor(lon, lat, data, vmin=0, vmax = 1500,\n",
      "          latlon=True, cmap=\"Blues\", edgecolors='white')\n",
      "plt.title('Humboldt Current Study Site', size=24)\n",
      "#plt.savefig('canary-current-study-site.png')"
     ],
     "language": "python",
     "metadata": {},
     "outputs": [],
     "prompt_number": null
    },
    {
     "cell_type": "markdown",
     "metadata": {},
     "source": [
      "# Smooth Series\n",
      "Create a plot with original unfiltered time series and the annual smoothing over top."
     ]
    },
    {
     "cell_type": "code",
     "collapsed": true,
     "input": [
      "EBU = 'BenCS'\n",
      "directory = '/glade/p/work/rbrady/EBUS_BGC_Variability/FG_CO2/' + EBU + '/filtered_output/'\n",
      "ds_residuals = xr.open_dataset(directory + EBU.lower() + '-FG_CO2-residuals-AW-chavez-800km.nc')"
     ],
     "language": "python",
     "metadata": {},
     "outputs": [],
     "prompt_number": 19
    },
    {
     "cell_type": "code",
     "collapsed": false,
     "input": [
      "data = ds_residuals['FG_CO2_AW'][0].values\n",
      "smoothed_data = smooth_series(data)"
     ],
     "language": "python",
     "metadata": {},
     "outputs": [],
     "prompt_number": 20
    },
    {
     "cell_type": "code",
     "collapsed": false,
     "input": [
      "fig = plt.figure(figsize=(18,4))\n",
      "ax = fig.add_subplot(111)\n",
      "t = ds_residuals['time'].values\n",
      "plt.plot(t, data, color=colors[EBU])\n",
      "plt.plot(t, smoothed_data, '-k')\n",
      "plt.ylabel('FG_CO$_{2}$ (mol/m$^{2}$/yr)', size=20)\n",
      "plt.title('Simulation 001 ' + EBU + ' FG_CO2 ' + ' ' + 'Anomaly, Annual Smoothing (1920-2015)', size=25)\n",
      "plt.tick_params(axis='both', which='major', labelsize=20)\n",
      "ax.set_ylim([-4, 4])\n",
      "\n",
      "# Save plot\n",
      "directory = '/glade/u/home/rbrady/projects/EBUS_BGC_Variability/reports/figs/' + EBU.lower() + \\\n",
      "    '/timeseries/'\n",
      "plt.savefig(directory + EBU.lower() + '-filtered-fgco2-series-example-common-axis.png', dpi=300, pad_inches=1)"
     ],
     "language": "python",
     "metadata": {},
     "outputs": [],
     "prompt_number": 21
    },
    {
     "cell_type": "heading",
     "level": 1,
     "metadata": {},
     "source": [
      "FFT"
     ]
    },
    {
     "cell_type": "code",
     "collapsed": true,
     "input": [
      "data = ds_residuals[0].values\n",
      "hann = np.hanning(len(data))"
     ],
     "language": "python",
     "metadata": {},
     "outputs": [],
     "prompt_number": null
    },
    {
     "cell_type": "code",
     "collapsed": true,
     "input": [
      "Y = np.fft.fft(hann*data)"
     ],
     "language": "python",
     "metadata": {},
     "outputs": [],
     "prompt_number": null
    },
    {
     "cell_type": "code",
     "collapsed": true,
     "input": [
      "N = len(Y)/2+1"
     ],
     "language": "python",
     "metadata": {},
     "outputs": [],
     "prompt_number": null
    },
    {
     "cell_type": "code",
     "collapsed": true,
     "input": [
      "T = 1.0/(30*24*60*60) # Sampled once every month\n",
      "X = np.linspace(0, T/2, N, endpoint=True)"
     ],
     "language": "python",
     "metadata": {},
     "outputs": [],
     "prompt_number": null
    },
    {
     "cell_type": "code",
     "collapsed": true,
     "input": [
      "fig = plt.figure(figsize=(18,4))\n",
      "plt.plot(X, 2.0*np.abs(Y[:N])/N, color='r')\n",
      "plt.xlabel('Frequency ($Hz$)', size='x-large')\n",
      "plt.title('FFT of HCS FG_CO2 for Simulation 001', size='x-large')\n",
      "plt.tick_params(axis='both', which='major', labelsize=15)\n",
      "#plt.savefig('fft-HCS-001-frequencyHz.png')"
     ],
     "language": "python",
     "metadata": {},
     "outputs": [],
     "prompt_number": null
    },
    {
     "cell_type": "code",
     "collapsed": true,
     "input": [
      "# Same plot but in Period\n",
      "Xp = 1.0/X # Inverse to seconds\n",
      "Xpd= Xp/(60.0 * 60.0 * 24) # in days\n",
      "fig = plt.figure(figsize=(18,4))\n",
      "plt.plot(Xpd, 2.0*np.abs(Y[:N])/N, color='r')\n",
      "plt.xlabel('Frequency ($Hz$)', size='x-large')\n",
      "plt.title('FFT of HCS FG_CO2 for Simulation 001', size='x-large')\n",
      "plt.tick_params(axis='both', which='major', labelsize=15)\n",
      "plt.xlim([0, 365])"
     ],
     "language": "python",
     "metadata": {},
     "outputs": [],
     "prompt_number": null
    },
    {
     "cell_type": "markdown",
     "metadata": {},
     "source": [
      "# CVDP: Adam Phillips\n",
      "- Messing with the climate diagnostics that Adam Phillips provides"
     ]
    },
    {
     "cell_type": "code",
     "collapsed": true,
     "input": [
      "fileDir = '/glade/p/work/rbrady/cesmLE_CVDP/processed/'\n",
      "ds_cvdp = xr.open_dataset(fileDir + 'cvdp_detrended_BGC.nc')"
     ],
     "language": "python",
     "metadata": {},
     "outputs": [],
     "prompt_number": 72
    },
    {
     "cell_type": "heading",
     "level": 1,
     "metadata": {},
     "source": [
      "Visualize the Climate Indices"
     ]
    },
    {
     "cell_type": "code",
     "collapsed": false,
     "input": [
      "climvar = 'pdo'\n",
      "\n",
      "climdat = ds_cvdp[climvar][0]\n",
      "clim_smoothed = smooth_series(climdat.values)\n",
      "t = ds_cvdp['time'].values\n",
      "pos = climdat.where(climdat > 0)\n",
      "neg = climdat.where(climdat < 0)\n",
      "\n",
      "fig = plt.figure(figsize=(12,3))\n",
      "ax = fig.add_subplot(111)\n",
      "ax.bar(t, pos, color='none', edgecolor='red')\n",
      "ax.bar(t, neg, color='none', edgecolor='blue')\n",
      "ax.set_ylabel('Standard Deviation', fontsize=20)\n",
      "ax.tick_params(axis='both', which='major', labelsize=16)\n",
      "ax.set_title('Simulation 001 ' + climvar.upper() + ' (1920-2015)', fontsize=20)\n",
      "ax.plot(t, clim_smoothed, '-k')\n",
      "\n",
      "# Save plot\n",
      "directory = '/glade/u/home/rbrady/projects/EBUS_BGC_Variability/reports/figs/all-systems/timeseries/'\n",
      "plt.savefig(directory + 'filtered-' + climvar + '-001-example.png')"
     ],
     "language": "python",
     "metadata": {},
     "outputs": [],
     "prompt_number": 93
    },
    {
     "cell_type": "heading",
     "level": 1,
     "metadata": {},
     "source": [
      "Cross-Correlation Plots"
     ]
    },
    {
     "cell_type": "code",
     "collapsed": true,
     "input": [
      "def cross_correlate(idx, ds_residuals, ds_cvdp, climvar):\n",
      "    print('Working on {}...').format(idx)\n",
      "    data = ds_residuals['FG_CO2_AW'][idx]\n",
      "    data = smooth_series(data.values)\n",
      "    clim_data = ds_cvdp[climvar][idx]\n",
      "    clim_data = smooth_series(clim_data.values)\n",
      "    return data, clim_data"
     ],
     "language": "python",
     "metadata": {},
     "outputs": [],
     "prompt_number": 41
    },
    {
     "cell_type": "code",
     "collapsed": false,
     "input": [
      "EBU = 'BenCS'\n",
      "climvar = 'sam'\n",
      "fileDir = '/glade/p/work/rbrady/EBUS_BGC_Variability/FG_CO2/' + EBU + '/filtered_output/'\n",
      "ds_residuals = xr.open_dataset(fileDir + EBU.lower() + '-FG_CO2-residuals-AW-chavez-800km.nc')\n",
      "\n",
      "fig = plt.figure(figsize=(16,16))\n",
      "st = fig.suptitle(EBU + ' ' + climvar.upper() + \" vs FG_CO2 Cross-Correlations\" + \"\\n\" + \\\n",
      "    climvar.upper() + \" Leads to the Left of Zero\", fontsize=\"x-large\")\n",
      "for idx in range(34):\n",
      "    data, clim_data = cross_correlate(idx, ds_residuals, ds_cvdp, climvar)\n",
      "    ax = fig.add_subplot(6, 6, idx+1)\n",
      "    arr = plt.xcorr(clim_data, data, maxlags=12)\n",
      "    axes = plt.gca()\n",
      "    ymin, ymax = axes.get_ylim()\n",
      "    plt.text(-11.75, ymax-0.025, \"S\" + ens[idx])\n",
      "    plt.xlim([-12, 12])\n",
      "    # Show zero boundary\n",
      "    zero_val = arr[1][12]\n",
      "    plt.plot([0,0], [0,zero_val], '-r')\n",
      "fig.tight_layout()\n",
      "# shift subplots down:\n",
      "st.set_y(0.95)\n",
      "fig.subplots_adjust(top=0.90)\n",
      "directory = '/glade/u/home/rbrady/projects/EBUS_BGC_Variability/reports/figs/' + EBU.lower() + '/cross-correlation/'\n",
      "plt.savefig(directory + climvar.upper() + \"_FGCO2_cross-correlation_\" + EBU + \"_bothSmoothed.png\")"
     ],
     "language": "python",
     "metadata": {},
     "outputs": [],
     "prompt_number": 59
    }
   ],
   "metadata": {}
  }
 ]
}