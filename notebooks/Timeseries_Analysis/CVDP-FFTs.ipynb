{
 "metadata": {
  "kernelspec": {
   "display_name": "Python 2",
   "language": "python",
   "name": "python2"
  },
  "language_info": {
   "codemirror_mode": {
    "name": "ipython",
    "version": 2
   },
   "file_extension": ".py",
   "mimetype": "text/x-python",
   "name": "python",
   "nbconvert_exporter": "python",
   "pygments_lexer": "ipython2",
   "version": "2.7.7"
  },
  "name": ""
 },
 "nbformat": 3,
 "nbformat_minor": 0,
 "worksheets": [
  {
   "cells": [
    {
     "cell_type": "markdown",
     "metadata": {},
     "source": [
      "# CVDP-FFTs\n",
      "Running FFT analysis on Adam Phillip's CVDP post-processed output. This is done (1) to make sure that I'm using FFT analysis correctly (because it is also used on raw FGCO2 output) and (2) that we're understanding the CVDP output right. Are we finding power at the proper frequencies for ENSO, PDO, etc?"
     ]
    },
    {
     "cell_type": "code",
     "collapsed": true,
     "input": [
      "import glob\n",
      "\n",
      "# Numerics\n",
      "import numpy as np\n",
      "import pandas as pd\n",
      "import xarray as xr\n",
      "\n",
      "# Visualization\n",
      "import matplotlib.pyplot as plt\n",
      "%matplotlib inline\n",
      "\n",
      "from mpl_toolkits.basemap import Basemap\n",
      "\n",
      "# Statistical Things\n",
      "import statsmodels.api as sm\n",
      "import scipy.fftpack\n",
      "from scipy import signal"
     ],
     "language": "python",
     "metadata": {},
     "outputs": [],
     "prompt_number": 11
    },
    {
     "cell_type": "heading",
     "level": 1,
     "metadata": {},
     "source": [
      "Functions"
     ]
    },
    {
     "cell_type": "code",
     "collapsed": true,
     "input": [
      "def detrend(x):\n",
      "    return signal.detrend(x)"
     ],
     "language": "python",
     "metadata": {},
     "outputs": [],
     "prompt_number": 12
    },
    {
     "cell_type": "code",
     "collapsed": true,
     "input": [
      "def FFT(data, freq='M'):\n",
      "    if freq == 'M':\n",
      "        fa = 1.0/(30*24*60*60)\n",
      "    elif freq == 'D':\n",
      "        fa = 1.0/(24*60*60)\n",
      "    hann = np.hanning(len(data))\n",
      "    Y = np.fft.fft(hann * data)\n",
      "    N = len(Y)/2 + 1\n",
      "    X = np.linspace(0, fa/2, N, endpoint=True)\n",
      "    output = 2.0*np.abs(Y[:N])/N\n",
      "    \n",
      "    # Plot\n",
      "    fig = plt.figure(figsize=(18,4))    \n",
      "    plt.plot(X, output, '-k')\n",
      "    "
     ],
     "language": "python",
     "metadata": {},
     "outputs": [],
     "prompt_number": 32
    },
    {
     "cell_type": "heading",
     "level": 1,
     "metadata": {},
     "source": [
      "Process CVDP Data"
     ]
    },
    {
     "cell_type": "code",
     "collapsed": true,
     "input": [
      "fileDir = '/glade/p/work/rbrady/cesmLE_CVDP/extracted_vars/'\n",
      "ds_cvdp = xr.open_mfdataset(fileDir + '*.nc', decode_times=False, concat_dim='ensemble')"
     ],
     "language": "python",
     "metadata": {},
     "outputs": [],
     "prompt_number": 3
    },
    {
     "cell_type": "code",
     "collapsed": true,
     "input": [
      "ds_cvdp = ds_cvdp.rename({'npo_pc_mon': 'npo',\n",
      "                          'pdo_timeseries_mon': 'pdo',\n",
      "                          'amo_timeseries_mon': 'amo',\n",
      "                          'ipo_timeseries_mon': 'ipo',\n",
      "                          'nao_pc_mon': 'nao',\n",
      "                          'sam_pc_mon': 'sam'})"
     ],
     "language": "python",
     "metadata": {},
     "outputs": [],
     "prompt_number": 4
    },
    {
     "cell_type": "code",
     "collapsed": true,
     "input": [
      "times = pd.date_range('1920-01', '2016-01', freq='M')\n",
      "ds_cvdp['time'] = times"
     ],
     "language": "python",
     "metadata": {},
     "outputs": [],
     "prompt_number": 5
    },
    {
     "cell_type": "code",
     "collapsed": false,
     "input": [
      "ds_cvdp = ds_cvdp.apply(detrend)\n",
      "ds_cvdp"
     ],
     "language": "python",
     "metadata": {},
     "outputs": [],
     "prompt_number": 13
    },
    {
     "cell_type": "heading",
     "level": 1,
     "metadata": {},
     "source": [
      "FFT Analysis"
     ]
    },
    {
     "cell_type": "code",
     "collapsed": true,
     "input": [
      "data = ds_cvdp['nino34'][0]\n",
      "hann = np.hanning(len(data))"
     ],
     "language": "python",
     "metadata": {},
     "outputs": [],
     "prompt_number": 26
    },
    {
     "cell_type": "code",
     "collapsed": false,
     "input": [
      "Y = np.fft.fft(hann*data)\n",
      "N = len(Y)/2+1"
     ],
     "language": "python",
     "metadata": {},
     "outputs": [],
     "prompt_number": 27
    },
    {
     "cell_type": "code",
     "collapsed": false,
     "input": [
      "fa = 1.0/(30*24*60*60) # Sampled once every month\n",
      "print('fa=%.10fHz (Frequency)' % fa)\n",
      "X = np.linspace(0, fa/2, N, endpoint=True)"
     ],
     "language": "python",
     "metadata": {},
     "outputs": [],
     "prompt_number": 28
    },
    {
     "cell_type": "code",
     "collapsed": false,
     "input": [
      "fig = plt.figure(figsize=(18,4))\n",
      "plt.plot(X, 2.0*np.abs(Y[:N])/N, color='r')\n",
      "plt.xlabel('Frequency ($Hz$)', size='x-large')\n",
      "plt.title('FFT of HCS FG_CO2 for Simulation 001', size='x-large')\n",
      "plt.tick_params(axis='both', which='major', labelsize=15)"
     ],
     "language": "python",
     "metadata": {},
     "outputs": [],
     "prompt_number": 44
    },
    {
     "cell_type": "code",
     "collapsed": false,
     "input": [
      "Xp = 1.0/X # in seconds\n",
      "Xpd= Xp/(30.0*24.0*60.0*60.0)\n",
      "fig = plt.figure(figsize=(18,4))\n",
      "plt.plot(Xpd, 2.0*np.abs(Y[:N])/N, color='r')\n",
      "plt.xlim([0, 120])"
     ],
     "language": "python",
     "metadata": {},
     "outputs": [],
     "prompt_number": 43
    },
    {
     "cell_type": "code",
     "collapsed": false,
     "input": [
      "Y = ds_cvdp['nino34'][0]\n",
      "N = len(data)\n",
      "T = 1.0 / (60 * 60 * 24 * 30)\n",
      "X = np.linspace(0.0, N*T, N)\n",
      "\n",
      "yf = np.fft.fft(Y)\n",
      "xf = np.linspace(0.0, 1.0/(2.0*T), N/2)\n",
      "\n",
      "fig = plt.figure(figsize=(18,6))\n",
      "plt.plot(xf, 2.0/N * np.abs(yf[:N//2]))\n"
     ],
     "language": "python",
     "metadata": {},
     "outputs": [],
     "prompt_number": 49
    },
    {
     "cell_type": "code",
     "collapsed": false,
     "input": [],
     "language": "python",
     "metadata": {},
     "outputs": [],
     "prompt_number": 52
    }
   ],
   "metadata": {}
  }
 ]
}