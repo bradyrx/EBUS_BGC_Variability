{
 "cells": [
  {
   "cell_type": "markdown",
   "metadata": {},
   "source": [
    "# Model Validation\n",
    "\n",
    "Create a plot to compare CESM-LENS climatology to neural network climatology."
   ]
  },
  {
   "cell_type": "code",
   "execution_count": 108,
   "metadata": {},
   "outputs": [
    {
     "ename": "ModuleNotFoundError",
     "evalue": "No module named 'mpl_toolkits.basemap'",
     "output_type": "error",
     "traceback": [
      "\u001b[0;31m---------------------------------------------------------------------------\u001b[0m",
      "\u001b[0;31mModuleNotFoundError\u001b[0m                       Traceback (most recent call last)",
      "\u001b[0;32m<ipython-input-108-ad1bfaaba123>\u001b[0m in \u001b[0;36m<module>\u001b[0;34m()\u001b[0m\n\u001b[1;32m      8\u001b[0m \u001b[0;32mimport\u001b[0m \u001b[0mcartopy\u001b[0m\u001b[0;34m.\u001b[0m\u001b[0mfeature\u001b[0m \u001b[0;32mas\u001b[0m \u001b[0mcfeature\u001b[0m\u001b[0;34m\u001b[0m\u001b[0m\n\u001b[1;32m      9\u001b[0m \u001b[0;32mimport\u001b[0m \u001b[0mesmtools\u001b[0m \u001b[0;32mas\u001b[0m \u001b[0met\u001b[0m\u001b[0;34m\u001b[0m\u001b[0m\n\u001b[0;32m---> 10\u001b[0;31m \u001b[0;32mfrom\u001b[0m \u001b[0mmpl_toolkits\u001b[0m\u001b[0;34m.\u001b[0m\u001b[0mbasemap\u001b[0m \u001b[0;32mimport\u001b[0m \u001b[0mBasemap\u001b[0m\u001b[0;34m\u001b[0m\u001b[0m\n\u001b[0m\u001b[1;32m     11\u001b[0m \u001b[0;32mfrom\u001b[0m \u001b[0mmatplotlib\u001b[0m \u001b[0;32mimport\u001b[0m \u001b[0mgridspec\u001b[0m\u001b[0;34m\u001b[0m\u001b[0m\n",
      "\u001b[0;31mModuleNotFoundError\u001b[0m: No module named 'mpl_toolkits.basemap'"
     ]
    }
   ],
   "source": [
    "import glob\n",
    "import numpy as np\n",
    "import pandas as pd\n",
    "import xarray as xr\n",
    "import matplotlib.pyplot as plt\n",
    "%matplotlib inline\n",
    "import cartopy.crs as ccrs\n",
    "import cartopy.feature as cfeature\n",
    "import esmtools as et\n",
    "from mpl_toolkits.basemap import Basemap\n",
    "from matplotlib import gridspec"
   ]
  },
  {
   "cell_type": "code",
   "execution_count": 2,
   "metadata": {},
   "outputs": [],
   "source": [
    "EBUS = ['CalCS', 'HumCS', 'CanCS', 'BenCS']"
   ]
  },
  {
   "cell_type": "markdown",
   "metadata": {},
   "source": [
    "# CESM-LENS Manipulation"
   ]
  },
  {
   "cell_type": "code",
   "execution_count": 89,
   "metadata": {},
   "outputs": [
    {
     "name": "stdout",
     "output_type": "stream",
     "text": [
      "Operating on : CalCS ...\n"
     ]
    }
   ],
   "source": [
    "idx = 'CalCS'\n",
    "lens_output, lens_lat, lens_lon = ( {} for i in range(3) )\n",
    "print(('Operating on : %s ...') %idx)\n",
    "fileDir = '/glade/p/work/rbrady/EBUS_BGC_Variability/FG_CO2/' + idx + '/'\n",
    "if idx == 'CalCS' or idx == 'HumCS' :\n",
    "    ds_lens = xr.open_mfdataset(fileDir + '*.nc', concat_dim='ensemble')\n",
    "else:\n",
    "     ds_lens = xr.open_mfdataset(fileDir + 'extended_domain/' + 'extended_domain*.nc', concat_dim='ensemble')\n"
   ]
  },
  {
   "cell_type": "code",
   "execution_count": 90,
   "metadata": {},
   "outputs": [],
   "source": [
    "if idx == 'HumCS':\n",
    "    ds_lens['TLAT'] = (('nlat', 'nlon'), ds_lens['TLAT'][0])\n",
    "    ds_lens['TLONG'] = (('nlat', 'nlon'), ds_lens['TLONG'])\n",
    "else:\n",
    "    ds_lens['TLAT'] = (('nlat', 'nlon'), ds_lens['TLAT'][0])\n",
    "    ds_lens['TLONG'] = (('nlat', 'nlon'), ds_lens['TLONG'][0])"
   ]
  },
  {
   "cell_type": "code",
   "execution_count": 91,
   "metadata": {},
   "outputs": [],
   "source": [
    "ds_lens = ds_lens.mean(dim='ensemble')"
   ]
  },
  {
   "cell_type": "code",
   "execution_count": 92,
   "metadata": {},
   "outputs": [],
   "source": [
    "x0,x1,y0,y1 = et.ebus.visual_bounds(idx)\n",
    "a, c = et.filtering.find_indices(ds_lens['TLAT'].values, ds_lens['TLONG'].values,\n",
    "                    y0, x0)\n",
    "b, d = et.filtering.find_indices(ds_lens['TLAT'].values, ds_lens['TLONG'].values,\n",
    "                    y1, x1)"
   ]
  },
  {
   "cell_type": "code",
   "execution_count": 93,
   "metadata": {},
   "outputs": [
    {
     "name": "stderr",
     "output_type": "stream",
     "text": [
      "/glade/u/home/rbrady/anaconda3/envs/py36/lib/python3.6/site-packages/dask/array/numpy_compat.py:46: RuntimeWarning: invalid value encountered in true_divide\n",
      "  x = np.divide(x1, x2, out)\n"
     ]
    }
   ],
   "source": [
    "ds_lens = ds_lens.isel(nlat=slice(a, b), nlon=slice(c,d))\n",
    "ds_lens = ds_lens.sel(time=slice('1982-01', '2015-12')).mean(dim='time')\n",
    "lens_output[idx] = pd.DataFrame(ds_lens['FG_CO2'].values)\n",
    "lens_lat[idx] = pd.DataFrame(ds_lens['TLAT'].values)\n",
    "lens_lon[idx] = pd.DataFrame(ds_lens['TLONG'].values)\n",
    "del ds_lens"
   ]
  },
  {
   "cell_type": "code",
   "execution_count": 96,
   "metadata": {},
   "outputs": [
    {
     "name": "stdout",
     "output_type": "stream",
     "text": [
      "Operating on : CalCS ...\n"
     ]
    },
    {
     "name": "stderr",
     "output_type": "stream",
     "text": [
      "/glade/u/home/rbrady/anaconda3/envs/py36/lib/python3.6/site-packages/dask/array/numpy_compat.py:46: RuntimeWarning: invalid value encountered in true_divide\n",
      "  x = np.divide(x1, x2, out)\n"
     ]
    },
    {
     "name": "stdout",
     "output_type": "stream",
     "text": [
      "Operating on : HumCS ...\n",
      "Operating on : CanCS ...\n",
      "Operating on : BenCS ...\n"
     ]
    }
   ],
   "source": [
    "lens_output, lens_lat, lens_lon = ( {} for i in range(3) )\n",
    "for idx in EBUS:\n",
    "    print(('Operating on : %s ...') %idx)\n",
    "    fileDir = '/glade/p/work/rbrady/EBUS_BGC_Variability/FG_CO2/' + idx + '/'\n",
    "    if idx == 'CalCS' or idx == 'HumCS' :\n",
    "        ds_lens = xr.open_mfdataset(fileDir + '*.nc', concat_dim='ensemble')\n",
    "    else:\n",
    "        ds_lens = xr.open_mfdataset(fileDir + 'extended_domain/' + 'extended_domain*.nc', concat_dim='ensemble')\n",
    "    # Fix quirk where TLAT/TLONG are coordinates which dissapear when you do ensemble mean.\n",
    "    if idx == 'HumCS':\n",
    "        ds_lens['TLAT'] = (('nlat', 'nlon'), ds_lens['TLAT'][0])\n",
    "        ds_lens['TLONG'] = (('nlat', 'nlon'), ds_lens['TLONG'])\n",
    "    else:\n",
    "        ds_lens['TLAT'] = (('nlat', 'nlon'), ds_lens['TLAT'][0])\n",
    "        ds_lens['TLONG'] = (('nlat', 'nlon'), ds_lens['TLONG'][0])\n",
    "    ds_lens = ds_lens.mean(dim='ensemble')\n",
    "    x0,x1,y0,y1 = et.ebus.visual_bounds(idx, std_lon=False)\n",
    "#    if idx != 'BenCS':\n",
    "#        x0,x1,y0,y1 = et.ebus.visual_bounds(idx, std_lon=True)\n",
    "#    else:\n",
    "#        x0,x1,y0,y1 = et.ebus.visual_bounds(idx, std_lon=False)\n",
    "    a, c = et.filtering.find_indices(ds_lens['TLAT'].values, ds_lens['TLONG'].values,\n",
    "                    y0, x0)\n",
    "    b, d = et.filtering.find_indices(ds_lens['TLAT'].values, ds_lens['TLONG'].values,\n",
    "                    y1, x1)\n",
    "    ds_lens = ds_lens.isel(nlat=slice(a, b), nlon=slice(c,d))\n",
    "    ds_lens = ds_lens.sel(time=slice('1982-01', '2015-12')).mean(dim='time')\n",
    "    lens_output[idx] = pd.DataFrame(ds_lens['FG_CO2'].values)\n",
    "    lens_lat[idx] = pd.DataFrame(ds_lens['TLAT'].values)\n",
    "    lens_lon[idx] = pd.DataFrame(ds_lens['TLONG'].values)\n",
    "    del ds_lens"
   ]
  },
  {
   "cell_type": "markdown",
   "metadata": {},
   "source": [
    "# SOM-FFN Manipulation"
   ]
  },
  {
   "cell_type": "code",
   "execution_count": 23,
   "metadata": {},
   "outputs": [
    {
     "name": "stdout",
     "output_type": "stream",
     "text": [
      "Operating on : CalCS ...\n",
      "Operating on : HumCS ...\n",
      "Operating on : CanCS ...\n",
      "Operating on : BenCS ...\n"
     ]
    },
    {
     "name": "stderr",
     "output_type": "stream",
     "text": [
      "/glade/u/home/rbrady/anaconda3/envs/py36/lib/python3.6/site-packages/ipykernel_launcher.py:20: RuntimeWarning: invalid value encountered in greater\n"
     ]
    }
   ],
   "source": [
    "obs_output, obs_lat, obs_lon = ( {} for i in range(3) )\n",
    "fileDir = '/glade/p/work/rbrady/Landschuetzer_pCO2/'\n",
    "ds_obs = xr.open_dataset(fileDir + 'spco2_1982-2015_MPI_SOM-FFN_v2016.nc', decode_times=False)\n",
    "times = pd.date_range('1982-01', '2016-01', freq='M')\n",
    "ds_obs['time'] = times\n",
    "ds_obs.attrs = {}\n",
    "X, Y = np.meshgrid(ds_obs['lon'].values, ds_obs['lat'].values)\n",
    "ds_obs['LON'] = (('lat','lon'), X)\n",
    "ds_obs['LAT'] = (('lat','lon'), Y)\n",
    "ds_obs = ds_obs.mean(dim='time')\n",
    "for idx in EBUS:\n",
    "    print(('Operating on : %s ...') %idx)\n",
    "    x0,x1,y0,y1 = et.ebus.visual_bounds(idx, std_lon=True)\n",
    "    a, c = et.filtering.find_indices(ds_obs['LAT'].values, ds_obs['LON'].values,\n",
    "                    y0, x0)\n",
    "    b, d = et.filtering.find_indices(ds_obs['LAT'].values, ds_obs['LON'].values,\n",
    "                    y1, x1)  \n",
    "    ds_temp = ds_obs.isel(lat=slice(a,b), lon=slice(c,d))\n",
    "    temp_data = ds_obs['fgco2_raw'].values\n",
    "    mask = ( temp_data > 1e19 )\n",
    "    temp_data[mask] = np.nan\n",
    "    obs_output[idx] = pd.DataFrame(ds_temp['fgco2_raw'].values)\n",
    "    obs_lat[idx] = pd.DataFrame(ds_temp['LAT'].values)\n",
    "    obs_lon[idx] = pd.DataFrame(ds_temp['LON'].values)\n",
    "    del ds_temp                                    "
   ]
  },
  {
   "cell_type": "markdown",
   "metadata": {},
   "source": [
    "# Visualization"
   ]
  },
  {
   "cell_type": "code",
   "execution_count": 102,
   "metadata": {},
   "outputs": [],
   "source": [
    "idx='CalCS'"
   ]
  },
  {
   "cell_type": "code",
   "execution_count": 107,
   "metadata": {},
   "outputs": [
    {
     "data": {
      "image/png": "[encoded data removed]",
      "text/plain": [
       "<matplotlib.figure.Figure at 0x2aac27367588>"
      ]
     },
     "metadata": {},
     "output_type": "display_data"
    }
   ],
   "source": [
    "f, ax = plt.subplots(nrows=2, ncols=4, figsize=(20,12), subplot_kw=dict(projection=ccrs.Mercator()))\n",
    "\n",
    "ax[0,0].contourf(lens_lon[idx], lens_lat[idx], lens_output[idx], np.linspace(-2.5,2.5,num=21,endpoint=True),\n",
    "                 transform=ccrs.PlateCarree(), cmap=\"RdBu_r\", extend=\"both\")\n",
    "x0,x1,y0,y1 = et.ebus.visual_bounds(idx)\n",
    "ax[0,0].set_extent([x0,x1,y0,y1])\n",
    "ax[0,0].add_feature(cfeature.LAND, facecolor='k')\n",
    "ax[0,0].outline_patch.set_edgecolor('white')\n",
    "\n",
    "f.tight_layout()"
   ]
  },
  {
   "cell_type": "code",
   "execution_count": null,
   "metadata": {},
   "outputs": [],
   "source": []
  },
  {
   "cell_type": "code",
   "execution_count": null,
   "metadata": {},
   "outputs": [],
   "source": [
    "names = ['California Current',\n",
    "         'Humboldt Current',\n",
    "         'Canary Current',\n",
    "         'Benguela Current']\n",
    "fig = plt.figure(figsize=(20,12))\n",
    "counter_top = 1\n",
    "counter_mid = 5\n",
    "for idx in EBUS:\n",
    "    # Landscheutzer Climatology (Top)\n",
    "    ax = fig.add_subplot(2, 4, counter_top)\n",
    "    m = map_upwelling_clim(ax, idx, 'obs')\n",
    "    if counter_top == 1:\n",
    "        plt.ylabel('Landschuetzer et al. 2015 (1982-2011)', size=18)    \n",
    "    plt.title(names[counter_top-1], size=25)\n",
    "    counter_top += 1\n",
    "    # CESM-LENS Climatology (Middle)\n",
    "    ax = fig.add_subplot(2, 4, counter_mid)\n",
    "    m = map_upwelling_clim(ax, idx, 'model')\n",
    "    if counter_mid == 5:\n",
    "        plt.ylabel('CESM Large Ensemble (1982-2011)', size=18)   \n",
    "    cbar = m.colorbar(location=\"bottom\")\n",
    "    cbar.set_ticks(np.arange(-2, 2.1, 1))\n",
    "    cbar.ax.tick_params(labelsize=20, direction='out') \n",
    "    cbar.set_label('Sea-Air CO$_{2}$ Flux (mol/m$^{2}$/yr)', size=20)\n",
    "    counter_mid +=1\n",
    "fig.tight_layout()\n",
    "\n",
    "et.vis.savefig('model-evaluation')\n",
    "#plt.savefig('landschuetzer-model-climatological-comparison-withLon.eps', transparent=True, format='eps', \n",
    "#            bbox_inches='tight', pad_inches=1, dpi=1000)"
   ]
  },
  {
   "cell_type": "code",
   "execution_count": null,
   "metadata": {},
   "outputs": [],
   "source": [
    "def setup_map(ax, lat1, lat2, lon1, lon2, lonlabel=False):\n",
    "    m = Basemap(projection='merc',\n",
    "                lat_0=(lat1+lat2)/2,\n",
    "                lon_0=(lon1+lon2)/2,\n",
    "                #width=(2000*1000),\n",
    "                #height=(2000*1000),\n",
    "                llcrnrlon=lon1,\n",
    "                urcrnrlon=lon2,\n",
    "                llcrnrlat=lat1,\n",
    "                urcrnrlat=lat2,\n",
    "                fix_aspect=False,\n",
    "                resolution='c')\n",
    "    m.drawcoastlines(color='#D3D3D3')\n",
    "    #m.drawcountries()\n",
    "    #m.drawstates()\n",
    "    m.fillcontinents(color='#D3D3D3')\n",
    "    m.drawmapboundary(fill_color='white')\n",
    "    m.drawparallels(np.arange(lat1, lat2+1, 3),\n",
    "                   labels=[False,True,False,False], size=20,\n",
    "                   color='w')\n",
    "    m.drawmeridians(np.arange(lon1, lon2+1, 2),\n",
    "                   labels=[False, False, False, False], size=20,\n",
    "                   color='w')\n",
    "    return m"
   ]
  },
  {
   "cell_type": "code",
   "execution_count": null,
   "metadata": {},
   "outputs": [],
   "source": [
    "def map_upwelling_clim(ax, EBU, typ):\n",
    "    if typ == 'obs':\n",
    "        lon = obs_lon[EBU].values\n",
    "        lat = obs_lat[EBU].values\n",
    "        data = obs_output[EBU].values\n",
    "        data = np.ma.array(data, mask=np.isnan(data))\n",
    "    elif typ == 'model':\n",
    "        lon = lens_lon[EBU].values\n",
    "        lat = lens_lat[EBU].values\n",
    "        data = lens_output[EBU].values\n",
    "        data = np.ma.array(data, mask=np.isnan(data))\n",
    "    lat1,lat2,lon1,lon2 = visual_bounds(EBU)\n",
    "    if typ == 'model' and EBU != 'BenCS':\n",
    "        lon1 = 360 + lon1; lon2 = 360 + lon2;\n",
    "    if typ == 'obs':\n",
    "        m = setup_map(ax, lat1, lat2, lon1, lon2)\n",
    "    elif typ == 'model':\n",
    "        m = setup_map(ax, lat1, lat2, lon1, lon2, lonlabel=True)\n",
    "    m.contourf(lon, lat, data, np.linspace(-2.5, 2.5, num=21, endpoint=True),\n",
    "               latlon=True, cmap=\"RdBu_r\", extend=\"both\")\n",
    "    return m"
   ]
  }
 ],
 "metadata": {
  "kernelspec": {
   "display_name": "Python 3",
   "language": "python",
   "name": "python3"
  },
  "language_info": {
   "codemirror_mode": {
    "name": "ipython",
    "version": 3
   },
   "file_extension": ".py",
   "mimetype": "text/x-python",
   "name": "python",
   "nbconvert_exporter": "python",
   "pygments_lexer": "ipython3",
   "version": "3.6.4"
  }
 },
 "nbformat": 4,
 "nbformat_minor": 2
}
