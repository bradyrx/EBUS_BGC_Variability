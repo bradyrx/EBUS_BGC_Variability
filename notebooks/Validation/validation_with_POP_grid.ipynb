{
 "metadata": {
  "kernelspec": {
   "display_name": "Python 3",
   "language": "python",
   "name": "python3"
  },
  "name": "",
  "toc": {
   "base_numbering": 1,
   "nav_menu": {},
   "number_sections": true,
   "sideBar": true,
   "skip_h1_title": false,
   "title_cell": "Table of Contents",
   "title_sidebar": "Contents",
   "toc_cell": false,
   "toc_position": {},
   "toc_section_display": true,
   "toc_window_display": false
  },
  "varInspector": {
   "cols": {
    "lenName": 16,
    "lenType": 16,
    "lenVar": 40
   },
   "kernels_config": {
    "python": {
     "delete_cmd_postfix": "",
     "delete_cmd_prefix": "del ",
     "library": "var_list.py",
     "varRefreshCmd": "print(var_dic_list())"
    },
    "r": {
     "delete_cmd_postfix": ") ",
     "delete_cmd_prefix": "rm(",
     "library": "var_list.r",
     "varRefreshCmd": "cat(var_dic_list()) "
    }
   },
   "types_to_exclude": [
    "module",
    "function",
    "builtin_function_or_method",
    "instance",
    "_Feature"
   ],
   "window_display": false
  }
 },
 "nbformat": 3,
 "nbformat_minor": 0,
 "worksheets": [
  {
   "cells": [
    {
     "cell_type": "markdown",
     "metadata": {},
     "source": [
      "# Model Evaluation with POP Grid\n",
      "\n",
      "Matt Long remapped SOM-FFN to the POP grid so I can plot these exactly the same."
     ]
    },
    {
     "cell_type": "code",
     "collapsed": false,
     "input": [
      "import glob\n",
      "import numpy as np\n",
      "import pandas as pd\n",
      "import xarray as xr\n",
      "import matplotlib.pyplot as plt\n",
      "%matplotlib inline\n",
      "from matplotlib import gridspec\n",
      "from mpl_toolkits.basemap import Basemap"
     ],
     "language": "python",
     "metadata": {},
     "outputs": [],
     "prompt_number": 1
    },
    {
     "cell_type": "code",
     "collapsed": false,
     "input": [
      "EBUS = ['CalCS', 'HumCS', 'CanCS', 'BenCS']"
     ],
     "language": "python",
     "metadata": {},
     "outputs": [],
     "prompt_number": 3
    },
    {
     "cell_type": "heading",
     "level": 2,
     "metadata": {},
     "source": [
      "CESM-LENS Manipulation"
     ]
    },
    {
     "cell_type": "code",
     "collapsed": false,
     "input": [
      "lens_output, lens_lat, lens_lon = ( {} for i in range(3) )\n",
      "for idx in EBUS:\n",
      "    print(('Operating on : %s ...') %idx)\n",
      "    fileDir = '/glade/work/rbrady/EBUS_BGC_Variability/FG_CO2/' + idx + '/'\n",
      "    if idx == 'CalCS' or idx == 'HumCS' :\n",
      "        ds_lens = xr.open_mfdataset(fileDir + '*.nc', concat_dim='ensemble')\n",
      "    else:\n",
      "        ds_lens = xr.open_mfdataset(fileDir + 'extended_domain/' \n",
      "                                    + 'extended_domain*.nc', \n",
      "                                    concat_dim='ensemble')\n",
      "    # Fix quirk where TLAT/TLONG are coordinates which \n",
      "    # dissapear when you do ensemble mean.\n",
      "    if idx == 'HumCS':\n",
      "        ds_lens['TLAT'] = (('nlat', 'nlon'), ds_lens['TLAT'][0])\n",
      "        ds_lens['TLONG'] = (('nlat', 'nlon'), ds_lens['TLONG'])\n",
      "    else:\n",
      "        ds_lens['TLAT'] = (('nlat', 'nlon'), ds_lens['TLAT'][0])\n",
      "        ds_lens['TLONG'] = (('nlat', 'nlon'), ds_lens['TLONG'][0])\n",
      "    ds_lens = ds_lens.mean(dim='ensemble')\n",
      "#    x0,x1,y0,y1 = visual_bounds(idx, 'model')\n",
      "#    a, c = et.filtering.find_indices(ds_lens['TLAT'].values, ds_lens['TLONG'].values,\n",
      "#                    y0, x0)\n",
      "#    b, d = et.filtering.find_indices(ds_lens['TLAT'].values, ds_lens['TLONG'].values,\n",
      "#                    y1, x1)\n",
      "#    ds_lens = ds_lens.isel(nlat=slice(a, b), nlon=slice(c,d))\n",
      "    ds_lens = ds_lens.sel(time=slice('1982-01', '2015-12')).mean(dim='time')\n",
      "    lens_output[idx] = pd.DataFrame(ds_lens['FG_CO2'].values)\n",
      "    lens_lat[idx] = pd.DataFrame(ds_lens['TLAT'].values)\n",
      "    lens_lon[idx] = pd.DataFrame(ds_lens['TLONG'].values)\n",
      "    del ds_lens"
     ],
     "language": "python",
     "metadata": {},
     "outputs": [],
     "prompt_number": 4
    },
    {
     "cell_type": "heading",
     "level": 2,
     "metadata": {},
     "source": [
      "SOM-FFN Manipulation"
     ]
    },
    {
     "cell_type": "code",
     "collapsed": false,
     "input": [
      "obs_output, obs_lat, obs_lon = ( {} for i in range(3) )\n",
      "for idx in EBUS:\n",
      "    print(('Operating on : %s ...') %idx)\n",
      "    fileDir = '/glade/work/rbrady/EBUS_BGC_Variability/' + \\\n",
      "              'Landschuetzer_Extracted/' + idx + '/'\n",
      "    ds_obs = xr.open_dataset(fileDir + 'SOM-FFN.' + idx + '.1982-2015.nc')\n",
      "    ds_obs = ds_obs.mean('time')\n",
      "    obs_output[idx] = pd.DataFrame(ds_obs['fgco2_raw'].values)\n",
      "    obs_lat[idx] = pd.DataFrame(ds_obs['TLAT'].values)\n",
      "    obs_lon[idx] = pd.DataFrame(ds_obs['TLONG'].values)\n",
      "    del ds_obs"
     ],
     "language": "python",
     "metadata": {},
     "outputs": [],
     "prompt_number": 8
    },
    {
     "cell_type": "heading",
     "level": 1,
     "metadata": {},
     "source": [
      "Visualization"
     ]
    },
    {
     "cell_type": "code",
     "collapsed": false,
     "input": [
      "def visual_bounds(EBU):\n",
      "    if EBU == \"CalCS\":\n",
      "        lat1 = 27\n",
      "        lat2 = 45\n",
      "        lon1 = -133\n",
      "        lon2 = -110\n",
      "    elif EBU == 'HumCS':\n",
      "        lat1 = -20\n",
      "        lat2 = -2\n",
      "        lon1 = -90\n",
      "        lon2 = -70\n",
      "    elif EBU == 'CanCS':\n",
      "        lat1 = 14\n",
      "        lat2 = 32\n",
      "        lon1 = -25\n",
      "        lon2 = -10\n",
      "    elif EBU == 'BenCS':\n",
      "        lat1 = -35\n",
      "        lat2 = -15\n",
      "        lon1 = 5\n",
      "        lon2 = 20\n",
      "    return lat1,lat2,lon1,lon2"
     ],
     "language": "python",
     "metadata": {},
     "outputs": [],
     "prompt_number": 19
    },
    {
     "cell_type": "code",
     "collapsed": false,
     "input": [
      "def setup_map(ax, lat1, lat2, lon1, lon2, lat_labels=None, \n",
      "              lon_labels=None):\n",
      "    m = Basemap(projection='merc',\n",
      "                lat_0=(lat1+lat2)/2,\n",
      "                lon_0=(lon1+lon2)/2,\n",
      "                llcrnrlon=lon1,\n",
      "                urcrnrlon=lon2,\n",
      "                llcrnrlat=lat1,\n",
      "                urcrnrlat=lat2,\n",
      "                fix_aspect=False,\n",
      "                resolution='c')\n",
      "    m.drawcoastlines(color='#000000')\n",
      "#    m.fillcontinents(color='#000000')\n",
      "    m.drawmapboundary(fill_color='white')\n",
      "#    m.drawparallels(lat_labels,\n",
      "#                    labels=[False,True,False,False], size=20,\n",
      "#                    color='w')\n",
      "#    m.drawmeridians(lon_labels,\n",
      "#                   labels=[False, False, True, False], size=20,\n",
      "#                   color='w')\n",
      "\n",
      "    return m"
     ],
     "language": "python",
     "metadata": {},
     "outputs": [],
     "prompt_number": 29
    },
    {
     "cell_type": "code",
     "collapsed": false,
     "input": [
      "def map_upwelling_clim(ax, EBU, typ, lat_label, lon_labels):\n",
      "    if typ == 'obs':\n",
      "        lon = obs_lon[EBU].values\n",
      "        lat = obs_lat[EBU].values\n",
      "        data = obs_output[EBU].values\n",
      "        data = np.ma.array(data, mask=np.isnan(data))\n",
      "    elif typ == 'model':\n",
      "        lon = lens_lon[EBU].values\n",
      "        lat = lens_lat[EBU].values\n",
      "        data = lens_output[EBU].values\n",
      "        data = np.ma.array(data, mask=np.isnan(data))\n",
      "    lat1,lat2,lon1,lon2 = visual_bounds(EBU)\n",
      "    if typ == 'model' and EBU != 'BenCS':\n",
      "        lon1 = 360 + lon1; lon2 = 360 + lon2;\n",
      "    if typ == 'obs':\n",
      "        m = setup_map(ax, lat1, lat2, lon1, lon2, lat_label, lon_labels)\n",
      "    elif typ == 'model':\n",
      "        m = setup_map(ax, lat1, lat2, lon1, lon2, lat_label, lon_labels)\n",
      "    m.contourf(lon, lat, data, np.linspace(-2.5, 2.5, num=21, endpoint=True),\n",
      "               latlon=True, cmap=\"RdBu_r\", extend=\"both\")\n",
      "    return m"
     ],
     "language": "python",
     "metadata": {},
     "outputs": [],
     "prompt_number": 21
    },
    {
     "cell_type": "code",
     "collapsed": false,
     "input": [
      "EBU = 'CalCS'\n",
      "\n",
      "fig = plt.figure(figsize=(20,12))\n",
      "counter_top = 1\n",
      "counter_mid = 5\n",
      "\n",
      "ax = fig.add_subplot(2, 4, counter_top)\n",
      "lon = obs_lon[EBU].values\n",
      "lat = obs_lat[EBU].values\n",
      "data = obs_output[EBU].values\n",
      "#data = np.ma.array(data, mask=np.isnan(data))\n",
      "lat1,lat2,lon1,lon2 = visual_bounds(EBU)\n",
      "lon1 = 360 + lon1; lon2 = 360 + lon2;\n",
      "m = setup_map(ax, lat1, lat2, lon1, lon2)\n",
      "m.contourf(lon, lat, data, np.linspace(-2.5, 2.5, num=21, endpoint=True),\n",
      "           latlon=True, cmap=\"RdBu_r\", extend=\"both\")"
     ],
     "language": "python",
     "metadata": {},
     "outputs": [],
     "prompt_number": 41
    },
    {
     "cell_type": "code",
     "collapsed": false,
     "input": [],
     "language": "python",
     "metadata": {},
     "outputs": [],
     "prompt_number": null
    },
    {
     "cell_type": "code",
     "collapsed": false,
     "input": [],
     "language": "python",
     "metadata": {},
     "outputs": [],
     "prompt_number": null
    },
    {
     "cell_type": "code",
     "collapsed": false,
     "input": [],
     "language": "python",
     "metadata": {},
     "outputs": [],
     "prompt_number": null
    },
    {
     "cell_type": "code",
     "collapsed": false,
     "input": [],
     "language": "python",
     "metadata": {},
     "outputs": [],
     "prompt_number": 9
    },
    {
     "cell_type": "code",
     "collapsed": false,
     "input": [],
     "language": "python",
     "metadata": {},
     "outputs": [],
     "prompt_number": 13
    },
    {
     "cell_type": "code",
     "collapsed": false,
     "input": [],
     "language": "python",
     "metadata": {},
     "outputs": [],
     "prompt_number": 14
    },
    {
     "cell_type": "code",
     "collapsed": false,
     "input": [
      "names = ['California Current',\n",
      "         'Humboldt Current',\n",
      "         'Canary Current',\n",
      "         'Benguela Current']\n",
      "lat_labels = {'CalCS': np.arange(28,46,3),\n",
      "              'HumCS': np.arange(-19,0,3),\n",
      "              'CanCS': np.arange(15,33,3),\n",
      "              'BenCS': np.arange(-34,-15,3)}\n",
      "lon_labels = {'CalCS': np.arange(-132,-110,5),\n",
      "              'HumCS': np.arange(-88,-69,4),\n",
      "              'CanCS': np.arange(-24,-9,3),\n",
      "              'BenCS': np.arange(6,21,3)}\n",
      "\n",
      "fig = plt.figure(figsize=(20,12))\n",
      "counter_top = 1\n",
      "counter_mid = 5\n",
      "for idx in EBUS:\n",
      "    # Landscheutzer Climatology (Top)\n",
      "    ax = fig.add_subplot(2, 4, counter_top)\n",
      "    m = map_upwelling_clim(ax, idx, 'obs', lat_labels[idx], [])\n",
      "    if counter_top == 1:\n",
      "        plt.ylabel('Landschuetzer et al. 2015 (1982-2015)', size=18)    \n",
      "    plt.title(names[counter_top-1], size=25)\n",
      "    counter_top += 1\n",
      "    # CESM-LENS Climatology (Bottom)\n",
      "    ax = fig.add_subplot(2, 4, counter_mid)\n",
      "    m = map_upwelling_clim(ax, idx, 'model', lat_labels[idx], lon_labels[idx])\n",
      "    if counter_mid == 5:\n",
      "        plt.ylabel('CESM Large Ensemble (1982-2015)', size=18)   \n",
      "        \n",
      "    cbar = m.colorbar(location=\"bottom\")\n",
      "    cbar.set_ticks(np.arange(-2, 2.1, 1))\n",
      "    cbar.ax.tick_params(labelsize=20, direction='out') \n",
      "    cbar.set_label('Sea-Air CO$_{2}$ Flux (mol/m$^{2}$/yr)', size=20)\n",
      "    counter_mid +=1\n",
      "\n",
      "#fig.tight_layout()\n",
      "\n"
     ],
     "language": "python",
     "metadata": {},
     "outputs": [],
     "prompt_number": 15
    },
    {
     "cell_type": "code",
     "collapsed": false,
     "input": [],
     "language": "python",
     "metadata": {},
     "outputs": [],
     "prompt_number": null
    }
   ],
   "metadata": {}
  }
 ]
}