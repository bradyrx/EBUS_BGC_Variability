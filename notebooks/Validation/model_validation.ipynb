{
 "cells": [
  {
   "cell_type": "markdown",
   "metadata": {},
   "source": [
    "# Model Validation\n",
    "\n",
    "Create a plot to compare CESM-LENS climatology to neural network climatology."
   ]
  },
  {
   "cell_type": "code",
   "execution_count": 2,
   "metadata": {},
   "outputs": [],
   "source": [
    "import glob\n",
    "import numpy as np\n",
    "import pandas as pd\n",
    "import xarray as xr\n",
    "import matplotlib.pyplot as plt\n",
    "%matplotlib inline\n",
    "#import esmtools as et\n",
    "from matplotlib import gridspec\n",
    "from mpl_toolkits.basemap import Basemap"
   ]
  },
  {
   "cell_type": "code",
   "execution_count": 3,
   "metadata": {},
   "outputs": [],
   "source": [
    "EBUS = ['CalCS', 'HumCS', 'CanCS', 'BenCS']"
   ]
  },
  {
   "cell_type": "markdown",
   "metadata": {},
   "source": [
    "# CESM-LENS Manipulation"
   ]
  },
  {
   "cell_type": "code",
   "execution_count": 5,
   "metadata": {},
   "outputs": [
    {
     "name": "stdout",
     "output_type": "stream",
     "text": [
      "Operating on : CalCS ...\n"
     ]
    },
    {
     "name": "stderr",
     "output_type": "stream",
     "text": [
      "/glade/u/home/rbrady/miniconda3/lib/python3.6/site-packages/dask/array/numpy_compat.py:28: RuntimeWarning: invalid value encountered in true_divide\n",
      "  x = np.divide(x1, x2, out)\n"
     ]
    },
    {
     "name": "stdout",
     "output_type": "stream",
     "text": [
      "Operating on : HumCS ...\n"
     ]
    },
    {
     "name": "stderr",
     "output_type": "stream",
     "text": [
      "/glade/u/home/rbrady/miniconda3/lib/python3.6/site-packages/dask/array/numpy_compat.py:28: RuntimeWarning: invalid value encountered in true_divide\n",
      "  x = np.divide(x1, x2, out)\n"
     ]
    },
    {
     "name": "stdout",
     "output_type": "stream",
     "text": [
      "Operating on : CanCS ...\n"
     ]
    },
    {
     "name": "stderr",
     "output_type": "stream",
     "text": [
      "/glade/u/home/rbrady/miniconda3/lib/python3.6/site-packages/dask/array/numpy_compat.py:28: RuntimeWarning: invalid value encountered in true_divide\n",
      "  x = np.divide(x1, x2, out)\n"
     ]
    },
    {
     "name": "stdout",
     "output_type": "stream",
     "text": [
      "Operating on : BenCS ...\n"
     ]
    },
    {
     "name": "stderr",
     "output_type": "stream",
     "text": [
      "/glade/u/home/rbrady/miniconda3/lib/python3.6/site-packages/dask/array/numpy_compat.py:28: RuntimeWarning: invalid value encountered in true_divide\n",
      "  x = np.divide(x1, x2, out)\n"
     ]
    }
   ],
   "source": [
    "lens_output, lens_lat, lens_lon = ( {} for i in range(3) )\n",
    "for idx in EBUS:\n",
    "    print(('Operating on : %s ...') %idx)\n",
    "    fileDir = '/glade/work/rbrady/EBUS_BGC_Variability/FG_CO2/' + idx + '/'\n",
    "    if idx == 'CalCS' or idx == 'HumCS' :\n",
    "        ds_lens = xr.open_mfdataset(fileDir + '*.nc', concat_dim='ensemble')\n",
    "    else:\n",
    "        ds_lens = xr.open_mfdataset(fileDir + 'extended_domain/' + 'extended_domain*.nc', concat_dim='ensemble')\n",
    "    # Fix quirk where TLAT/TLONG are coordinates which dissapear when you do ensemble mean.\n",
    "    if idx == 'HumCS':\n",
    "        ds_lens['TLAT'] = (('nlat', 'nlon'), ds_lens['TLAT'][0])\n",
    "        ds_lens['TLONG'] = (('nlat', 'nlon'), ds_lens['TLONG'])\n",
    "    else:\n",
    "        ds_lens['TLAT'] = (('nlat', 'nlon'), ds_lens['TLAT'][0])\n",
    "        ds_lens['TLONG'] = (('nlat', 'nlon'), ds_lens['TLONG'][0])\n",
    "    ds_lens = ds_lens.mean(dim='ensemble')\n",
    "#    x0,x1,y0,y1 = visual_bounds(idx, 'model')\n",
    "#    a, c = et.filtering.find_indices(ds_lens['TLAT'].values, ds_lens['TLONG'].values,\n",
    "#                    y0, x0)\n",
    "#    b, d = et.filtering.find_indices(ds_lens['TLAT'].values, ds_lens['TLONG'].values,\n",
    "#                    y1, x1)\n",
    "#    ds_lens = ds_lens.isel(nlat=slice(a, b), nlon=slice(c,d))\n",
    "    ds_lens = ds_lens.sel(time=slice('1982-01', '2015-12')).mean(dim='time')\n",
    "    lens_output[idx] = pd.DataFrame(ds_lens['FG_CO2'].values)\n",
    "    lens_lat[idx] = pd.DataFrame(ds_lens['TLAT'].values)\n",
    "    lens_lon[idx] = pd.DataFrame(ds_lens['TLONG'].values)\n",
    "    del ds_lens"
   ]
  },
  {
   "cell_type": "markdown",
   "metadata": {},
   "source": [
    "# SOM-FFN Manipulation"
   ]
  },
  {
   "cell_type": "code",
   "execution_count": 7,
   "metadata": {},
   "outputs": [
    {
     "name": "stdout",
     "output_type": "stream",
     "text": [
      "Operating on : CalCS ...\n",
      "Operating on : HumCS ...\n",
      "Operating on : CanCS ...\n",
      "Operating on : BenCS ...\n"
     ]
    },
    {
     "name": "stderr",
     "output_type": "stream",
     "text": [
      "/glade/u/home/rbrady/miniconda3/lib/python3.6/site-packages/ipykernel_launcher.py:20: RuntimeWarning: invalid value encountered in greater\n"
     ]
    }
   ],
   "source": [
    "obs_output, obs_lat, obs_lon = ( {} for i in range(3) )\n",
    "fileDir = '/glade/work/rbrady/Landschuetzer_pCO2/'\n",
    "ds_obs = xr.open_dataset(fileDir + 'spco2_1982-2015_MPI_SOM-FFN_v2016.nc', decode_times=False)\n",
    "times = pd.date_range('1982-01', '2016-01', freq='M')\n",
    "ds_obs['time'] = times\n",
    "ds_obs.attrs = {}\n",
    "X, Y = np.meshgrid(ds_obs['lon'].values, ds_obs['lat'].values)\n",
    "ds_obs['LON'] = (('lat','lon'), X)\n",
    "ds_obs['LAT'] = (('lat','lon'), Y)\n",
    "ds_obs = ds_obs.mean(dim='time')\n",
    "for idx in EBUS:\n",
    "    print(('Operating on : %s ...') %idx)\n",
    "#    x0,x1,y0,y1 = visual_bounds(idx, 'obs')\n",
    "#    a, c = et.filtering.find_indices(ds_obs['LAT'].values, ds_obs['LON'].values,\n",
    "#                    y0, x0)\n",
    "#    b, d = et.filtering.find_indices(ds_obs['LAT'].values, ds_obs['LON'].values,\n",
    "#                    y1, x1)  \n",
    "#    ds_temp = ds_obs.isel(lat=slice(a,b), lon=slice(c,d))\n",
    "    temp_data = ds_obs['fgco2_raw'].values\n",
    "    mask = ( temp_data > 1e19 )\n",
    "    temp_data[mask] = np.nan\n",
    "    obs_output[idx] = pd.DataFrame(ds_obs['fgco2_raw'].values)\n",
    "    obs_lat[idx] = pd.DataFrame(ds_obs['LAT'].values)\n",
    "    obs_lon[idx] = pd.DataFrame(ds_obs['LON'].values)\n",
    "#    del ds_temp                                    "
   ]
  },
  {
   "cell_type": "markdown",
   "metadata": {},
   "source": [
    "# Visualization"
   ]
  },
  {
   "cell_type": "code",
   "execution_count": 8,
   "metadata": {},
   "outputs": [],
   "source": [
    "def visual_bounds(EBU):\n",
    "    if EBU == \"CalCS\":\n",
    "        lat1 = 27\n",
    "        lat2 = 45\n",
    "        lon1 = -133\n",
    "        lon2 = -110\n",
    "    elif EBU == 'HumCS':\n",
    "        lat1 = -20\n",
    "        lat2 = -2\n",
    "        lon1 = -90\n",
    "        lon2 = -70\n",
    "    elif EBU == 'CanCS':\n",
    "        lat1 = 14\n",
    "        lat2 = 32\n",
    "        lon1 = -25\n",
    "        lon2 = -10\n",
    "    elif EBU == 'BenCS':\n",
    "        lat1 = -35\n",
    "        lat2 = -15\n",
    "        lon1 = 5\n",
    "        lon2 = 20\n",
    "    return lat1,lat2,lon1,lon2"
   ]
  },
  {
   "cell_type": "code",
   "execution_count": 12,
   "metadata": {},
   "outputs": [],
   "source": [
    "def setup_map(ax, lat1, lat2, lon1, lon2, lat_labels, lon_labels):\n",
    "    m = Basemap(projection='merc',\n",
    "                lat_0=(lat1+lat2)/2,\n",
    "                lon_0=(lon1+lon2)/2,\n",
    "                llcrnrlon=lon1,\n",
    "                urcrnrlon=lon2,\n",
    "                llcrnrlat=lat1,\n",
    "                urcrnrlat=lat2,\n",
    "                fix_aspect=False,\n",
    "                resolution='c')\n",
    "    m.drawcoastlines(color='#000000')\n",
    "#    m.fillcontinents(color='#000000')\n",
    "    m.drawmapboundary(fill_color='white')\n",
    "#    m.drawparallels(np.arange(lat1, lat2+1, 3),\n",
    "#                   labels=[False,True,False,False], size=20,\n",
    "#                   color='w')\n",
    "    m.drawparallels(lat_labels,\n",
    "                    labels=[False,True,False,False], size=20,\n",
    "                    color='w')\n",
    "    m.drawmeridians(lon_labels,\n",
    "                   labels=[False, False, True, False], size=20,\n",
    "                   color='w')\n",
    "\n",
    "    return m"
   ]
  },
  {
   "cell_type": "code",
   "execution_count": 15,
   "metadata": {},
   "outputs": [],
   "source": [
    "def map_upwelling_clim(ax, EBU, typ, lat_label, lon_labels):\n",
    "    if typ == 'obs':\n",
    "        lon = obs_lon[EBU].values\n",
    "        lat = obs_lat[EBU].values\n",
    "        data = obs_output[EBU].values\n",
    "        data = np.ma.array(data, mask=np.isnan(data))\n",
    "    elif typ == 'model':\n",
    "        lon = lens_lon[EBU].values\n",
    "        lat = lens_lat[EBU].values\n",
    "        data = lens_output[EBU].values\n",
    "        data = np.ma.array(data, mask=np.isnan(data))\n",
    "    lat1,lat2,lon1,lon2 = visual_bounds(EBU)\n",
    "    if typ == 'model' and EBU != 'BenCS':\n",
    "        lon1 = 360 + lon1; lon2 = 360 + lon2;\n",
    "    if typ == 'obs':\n",
    "        m = setup_map(ax, lat1, lat2, lon1, lon2, lat_label, lon_labels)\n",
    "    elif typ == 'model':\n",
    "        m = setup_map(ax, lat1, lat2, lon1, lon2, lat_label, lon_labels)\n",
    "    m.contourf(lon, lat, data, np.linspace(-2.5, 2.5, num=21, endpoint=True),\n",
    "               latlon=True, cmap=\"RdBu_r\", extend=\"both\")\n",
    "    return m"
   ]
  },
  {
   "cell_type": "markdown",
   "metadata": {},
   "source": [
    "Load in just the analysis region to plot over the figure."
   ]
  },
  {
   "cell_type": "code",
   "execution_count": 16,
   "metadata": {},
   "outputs": [
    {
     "name": "stderr",
     "output_type": "stream",
     "text": [
      "/glade/u/home/rbrady/miniconda3/lib/python3.6/site-packages/mpl_toolkits/basemap/__init__.py:1698: MatplotlibDeprecationWarning: The axesPatch function was deprecated in version 2.1. Use Axes.patch instead.\n",
      "  limb = ax.axesPatch\n",
      "/glade/u/home/rbrady/miniconda3/lib/python3.6/site-packages/mpl_toolkits/basemap/__init__.py:3608: MatplotlibDeprecationWarning: The ishold function was deprecated in version 2.0.\n",
      "  b = ax.ishold()\n",
      "/glade/u/home/rbrady/miniconda3/lib/python3.6/site-packages/mpl_toolkits/basemap/__init__.py:3675: MatplotlibDeprecationWarning: axes.hold is deprecated.\n",
      "    See the API Changes document (http://matplotlib.org/api/api_changes.html)\n",
      "    for more details.\n",
      "  ax.hold(b)\n"
     ]
    },
    {
     "ename": "IndexError",
     "evalue": "only integers, slices (`:`), ellipsis (`...`), numpy.newaxis (`None`) and integer or boolean arrays are valid indices",
     "output_type": "error",
     "traceback": [
      "\u001b[0;31m---------------------------------------------------------------------------\u001b[0m",
      "\u001b[0;31mIndexError\u001b[0m                                Traceback (most recent call last)",
      "\u001b[0;32m<ipython-input-16-fe58ab848ae6>\u001b[0m in \u001b[0;36m<module>\u001b[0;34m()\u001b[0m\n\u001b[1;32m     18\u001b[0m     \u001b[0;31m# Landscheutzer Climatology (Top)\u001b[0m\u001b[0;34m\u001b[0m\u001b[0;34m\u001b[0m\u001b[0m\n\u001b[1;32m     19\u001b[0m     \u001b[0max\u001b[0m \u001b[0;34m=\u001b[0m \u001b[0mfig\u001b[0m\u001b[0;34m.\u001b[0m\u001b[0madd_subplot\u001b[0m\u001b[0;34m(\u001b[0m\u001b[0;36m2\u001b[0m\u001b[0;34m,\u001b[0m \u001b[0;36m4\u001b[0m\u001b[0;34m,\u001b[0m \u001b[0mcounter_top\u001b[0m\u001b[0;34m)\u001b[0m\u001b[0;34m\u001b[0m\u001b[0m\n\u001b[0;32m---> 20\u001b[0;31m     \u001b[0mm\u001b[0m \u001b[0;34m=\u001b[0m \u001b[0mmap_upwelling_clim\u001b[0m\u001b[0;34m(\u001b[0m\u001b[0max\u001b[0m\u001b[0;34m,\u001b[0m \u001b[0midx\u001b[0m\u001b[0;34m,\u001b[0m \u001b[0;34m'obs'\u001b[0m\u001b[0;34m,\u001b[0m \u001b[0mlat_labels\u001b[0m\u001b[0;34m[\u001b[0m\u001b[0midx\u001b[0m\u001b[0;34m]\u001b[0m\u001b[0;34m,\u001b[0m \u001b[0;34m[\u001b[0m\u001b[0;34m]\u001b[0m\u001b[0;34m)\u001b[0m\u001b[0;34m\u001b[0m\u001b[0m\n\u001b[0m\u001b[1;32m     21\u001b[0m     \u001b[0;32mif\u001b[0m \u001b[0mcounter_top\u001b[0m \u001b[0;34m==\u001b[0m \u001b[0;36m1\u001b[0m\u001b[0;34m:\u001b[0m\u001b[0;34m\u001b[0m\u001b[0m\n\u001b[1;32m     22\u001b[0m         \u001b[0mplt\u001b[0m\u001b[0;34m.\u001b[0m\u001b[0mylabel\u001b[0m\u001b[0;34m(\u001b[0m\u001b[0;34m'Landschuetzer et al. 2015 (1982-2015)'\u001b[0m\u001b[0;34m,\u001b[0m \u001b[0msize\u001b[0m\u001b[0;34m=\u001b[0m\u001b[0;36m18\u001b[0m\u001b[0;34m)\u001b[0m\u001b[0;34m\u001b[0m\u001b[0m\n",
      "\u001b[0;32m<ipython-input-15-91d1e38adc80>\u001b[0m in \u001b[0;36mmap_upwelling_clim\u001b[0;34m(ax, EBU, typ, lat_label, lon_labels)\u001b[0m\n\u001b[1;32m     18\u001b[0m         \u001b[0mm\u001b[0m \u001b[0;34m=\u001b[0m \u001b[0msetup_map\u001b[0m\u001b[0;34m(\u001b[0m\u001b[0max\u001b[0m\u001b[0;34m,\u001b[0m \u001b[0mlat1\u001b[0m\u001b[0;34m,\u001b[0m \u001b[0mlat2\u001b[0m\u001b[0;34m,\u001b[0m \u001b[0mlon1\u001b[0m\u001b[0;34m,\u001b[0m \u001b[0mlon2\u001b[0m\u001b[0;34m,\u001b[0m \u001b[0mlat_label\u001b[0m\u001b[0;34m,\u001b[0m \u001b[0mlon_labels\u001b[0m\u001b[0;34m)\u001b[0m\u001b[0;34m\u001b[0m\u001b[0m\n\u001b[1;32m     19\u001b[0m     m.contourf(lon, lat, data, np.linspace(-2.5, 2.5, num=21, endpoint=True),\n\u001b[0;32m---> 20\u001b[0;31m                latlon=True, cmap=\"RdBu_r\", extend=\"both\")\n\u001b[0m\u001b[1;32m     21\u001b[0m     \u001b[0;32mreturn\u001b[0m \u001b[0mm\u001b[0m\u001b[0;34m\u001b[0m\u001b[0m\n",
      "\u001b[0;32m~/miniconda3/lib/python3.6/site-packages/mpl_toolkits/basemap/__init__.py\u001b[0m in \u001b[0;36mwith_transform\u001b[0;34m(self, x, y, data, *args, **kwargs)\u001b[0m\n\u001b[1;32m    519\u001b[0m             \u001b[0;31m# convert lat/lon coords to map projection coords.\u001b[0m\u001b[0;34m\u001b[0m\u001b[0;34m\u001b[0m\u001b[0m\n\u001b[1;32m    520\u001b[0m             \u001b[0mx\u001b[0m\u001b[0;34m,\u001b[0m \u001b[0my\u001b[0m \u001b[0;34m=\u001b[0m \u001b[0mself\u001b[0m\u001b[0;34m(\u001b[0m\u001b[0mx\u001b[0m\u001b[0;34m,\u001b[0m\u001b[0my\u001b[0m\u001b[0;34m)\u001b[0m\u001b[0;34m\u001b[0m\u001b[0m\n\u001b[0;32m--> 521\u001b[0;31m         \u001b[0;32mreturn\u001b[0m \u001b[0mplotfunc\u001b[0m\u001b[0;34m(\u001b[0m\u001b[0mself\u001b[0m\u001b[0;34m,\u001b[0m\u001b[0mx\u001b[0m\u001b[0;34m,\u001b[0m\u001b[0my\u001b[0m\u001b[0;34m,\u001b[0m\u001b[0mdata\u001b[0m\u001b[0;34m,\u001b[0m\u001b[0;34m*\u001b[0m\u001b[0margs\u001b[0m\u001b[0;34m,\u001b[0m\u001b[0;34m**\u001b[0m\u001b[0mkwargs\u001b[0m\u001b[0;34m)\u001b[0m\u001b[0;34m\u001b[0m\u001b[0m\n\u001b[0m\u001b[1;32m    522\u001b[0m     \u001b[0;32mreturn\u001b[0m \u001b[0mwith_transform\u001b[0m\u001b[0;34m\u001b[0m\u001b[0m\n\u001b[1;32m    523\u001b[0m \u001b[0;34m\u001b[0m\u001b[0m\n",
      "\u001b[0;32m~/miniconda3/lib/python3.6/site-packages/mpl_toolkits/basemap/__init__.py\u001b[0m in \u001b[0;36mcontourf\u001b[0;34m(self, x, y, data, *args, **kwargs)\u001b[0m\n\u001b[1;32m   3642\u001b[0m                 \u001b[0;31m# only do this check for global projections.\u001b[0m\u001b[0;34m\u001b[0m\u001b[0;34m\u001b[0m\u001b[0m\n\u001b[1;32m   3643\u001b[0m                 \u001b[0;32mif\u001b[0m \u001b[0mself\u001b[0m\u001b[0;34m.\u001b[0m\u001b[0mprojection\u001b[0m \u001b[0;32min\u001b[0m \u001b[0m_cylproj\u001b[0m \u001b[0;34m+\u001b[0m \u001b[0m_pseudocyl\u001b[0m\u001b[0;34m:\u001b[0m\u001b[0;34m\u001b[0m\u001b[0m\n\u001b[0;32m-> 3644\u001b[0;31m                     \u001b[0mxx\u001b[0m \u001b[0;34m=\u001b[0m \u001b[0mx\u001b[0m\u001b[0;34m[\u001b[0m\u001b[0mx\u001b[0m\u001b[0;34m.\u001b[0m\u001b[0mshape\u001b[0m\u001b[0;34m[\u001b[0m\u001b[0;36m0\u001b[0m\u001b[0;34m]\u001b[0m\u001b[0;34m/\u001b[0m\u001b[0;36m2\u001b[0m\u001b[0;34m,\u001b[0m\u001b[0;34m:\u001b[0m\u001b[0;34m]\u001b[0m\u001b[0;34m\u001b[0m\u001b[0m\n\u001b[0m\u001b[1;32m   3645\u001b[0m                     \u001b[0mcondition\u001b[0m \u001b[0;34m=\u001b[0m \u001b[0;34m(\u001b[0m\u001b[0mxx\u001b[0m \u001b[0;34m>=\u001b[0m \u001b[0mself\u001b[0m\u001b[0;34m.\u001b[0m\u001b[0mxmin\u001b[0m\u001b[0;34m)\u001b[0m \u001b[0;34m&\u001b[0m \u001b[0;34m(\u001b[0m\u001b[0mxx\u001b[0m \u001b[0;34m<=\u001b[0m \u001b[0mself\u001b[0m\u001b[0;34m.\u001b[0m\u001b[0mxmax\u001b[0m\u001b[0;34m)\u001b[0m\u001b[0;34m\u001b[0m\u001b[0m\n\u001b[1;32m   3646\u001b[0m                     \u001b[0mxl\u001b[0m \u001b[0;34m=\u001b[0m \u001b[0mxx\u001b[0m\u001b[0;34m.\u001b[0m\u001b[0mcompress\u001b[0m\u001b[0;34m(\u001b[0m\u001b[0mcondition\u001b[0m\u001b[0;34m)\u001b[0m\u001b[0;34m.\u001b[0m\u001b[0mtolist\u001b[0m\u001b[0;34m(\u001b[0m\u001b[0;34m)\u001b[0m\u001b[0;34m\u001b[0m\u001b[0m\n",
      "\u001b[0;31mIndexError\u001b[0m: only integers, slices (`:`), ellipsis (`...`), numpy.newaxis (`None`) and integer or boolean arrays are valid indices"
     ]
    },
    {
     "data": {
      "image/png": "[encoded data removed]",
      "text/plain": [
       "<Figure size 1440x864 with 1 Axes>"
      ]
     },
     "metadata": {},
     "output_type": "display_data"
    }
   ],
   "source": [
    "names = ['California Current',\n",
    "         'Humboldt Current',\n",
    "         'Canary Current',\n",
    "         'Benguela Current']\n",
    "lat_labels = {'CalCS': np.arange(28,46,3),\n",
    "              'HumCS': np.arange(-19,0,3),\n",
    "              'CanCS': np.arange(15,33,3),\n",
    "              'BenCS': np.arange(-34,-15,3)}\n",
    "lon_labels = {'CalCS': np.arange(-132,-110,5),\n",
    "              'HumCS': np.arange(-88,-69,4),\n",
    "              'CanCS': np.arange(-24,-9,3),\n",
    "              'BenCS': np.arange(6,21,3)}\n",
    "\n",
    "fig = plt.figure(figsize=(20,12))\n",
    "counter_top = 1\n",
    "counter_mid = 5\n",
    "for idx in EBUS:\n",
    "    # Landscheutzer Climatology (Top)\n",
    "    ax = fig.add_subplot(2, 4, counter_top)\n",
    "    m = map_upwelling_clim(ax, idx, 'obs', lat_labels[idx], [])\n",
    "    if counter_top == 1:\n",
    "        plt.ylabel('Landschuetzer et al. 2015 (1982-2015)', size=18)    \n",
    "    plt.title(names[counter_top-1], size=25)\n",
    "    counter_top += 1\n",
    "    # CESM-LENS Climatology (Bottom)\n",
    "    ax = fig.add_subplot(2, 4, counter_mid)\n",
    "    m = map_upwelling_clim(ax, idx, 'model', lat_labels[idx], lon_labels[idx])\n",
    "    if counter_mid == 5:\n",
    "        plt.ylabel('CESM Large Ensemble (1982-2015)', size=18)   \n",
    "        \n",
    "    cbar = m.colorbar(location=\"bottom\")\n",
    "    cbar.set_ticks(np.arange(-2, 2.1, 1))\n",
    "    cbar.ax.tick_params(labelsize=20, direction='out') \n",
    "    cbar.set_label('Sea-Air CO$_{2}$ Flux (mol/m$^{2}$/yr)', size=20)\n",
    "    counter_mid +=1\n",
    "\n",
    "fig.tight_layout()\n",
    "\n",
    "#et.vis.savefig('figure1_lonlabels', extension='.eps', dpi=300)\n"
   ]
  },
  {
   "cell_type": "markdown",
   "metadata": {},
   "source": [
    "## Figure out region bounds"
   ]
  },
  {
   "cell_type": "code",
   "execution_count": null,
   "metadata": {},
   "outputs": [],
   "source": [
    "def visualize(ax, EBU, loc, lat_labels):\n",
    "    \"\"\"\n",
    "    Here loc is \"top\" or \"bottom.\" Top will be raw pcolormesh. Bottom will be just sliced region of interest.\n",
    "    Will do the rest in Illustrator.\n",
    "    \"\"\"\n",
    "    if loc == 'top':\n",
    "        lon = lens_lon[EBU].values\n",
    "        lat = lens_lat[EBU].values\n",
    "        data = lens_output[EBU].values\n",
    "        data = np.ma.array(data, mask=np.isnan(data))\n",
    "    elif loc == 'bottom':\n",
    "        filepath = '/glade/p/work/rbrady/EBUS_BGC_Variability/FG_CO2/' + EBU + '/filtered_output/'\n",
    "        ds = xr.open_dataset(filepath + EBU.lower() + '-FG_CO2-forced-signal-chavez-800km.nc').mean('time')\n",
    "        lon = ds['TLONG'].values\n",
    "        lat = ds['TLAT'].values\n",
    "        data = ds['FG_CO2'].values\n",
    "        data = np.ma.array(data, mask=np.isnan(data))\n",
    "    lat1,lat2,lon1,lon2 = visual_bounds(EBU)\n",
    "    if EBU != 'BenCS':\n",
    "        lon1 = lon1+360; lon2 = lon2+360;\n",
    "    m = setup_map(ax, lat1, lat2, lon1, lon2, lat_labels)\n",
    "#    m.contourf(lon, lat, data, np.linspace(-2.5, 2.5, num=21, endpoint=True),\n",
    "#               latlon=True, cmap=\"RdBu_r\", extend=\"both\")\n",
    "    m.pcolormesh(lon, lat, data, latlon=True, cmap=\"RdBu_r\", vmin=-2.5, vmax=2.5)\n",
    "    return m"
   ]
  },
  {
   "cell_type": "code",
   "execution_count": null,
   "metadata": {},
   "outputs": [],
   "source": [
    "names = ['California Current',\n",
    "         'Humboldt Current',\n",
    "         'Canary Current',\n",
    "         'Benguela Current']\n",
    "lat_labels = {'CalCS': np.arange(28,46,3),\n",
    "              'HumCS': np.arange(-19,0,3),\n",
    "              'CanCS': np.arange(15,33,3),\n",
    "              'BenCS': np.arange(-34,-15,3)}\n",
    "fig = plt.figure(figsize=(20,12))\n",
    "counter_top = 1\n",
    "counter_mid = 5\n",
    "for idx in EBUS:\n",
    "    # Landscheutzer Climatology (Top)\n",
    "    ax = fig.add_subplot(2, 4, counter_top)\n",
    "    m = visualize(ax, idx, 'top', lat_labels[idx])\n",
    "    if counter_top == 1:\n",
    "        plt.ylabel('Landschuetzer et al. 2015 (1982-2015)', size=18)    \n",
    "    plt.title(names[counter_top-1], size=25)\n",
    "    counter_top += 1\n",
    "    # CESM-LENS Climatology (Middle)\n",
    "    ax = fig.add_subplot(2, 4, counter_mid)\n",
    "    m = visualize(ax, idx, 'bottom', lat_labels[idx])\n",
    "    if counter_mid == 5:\n",
    "        plt.ylabel('CESM Large Ensemble (1982-2015)', size=18)   \n",
    "        \n",
    "    cbar = m.colorbar(location=\"bottom\")\n",
    "    cbar.set_ticks(np.arange(-2, 2.1, 1))\n",
    "    cbar.ax.tick_params(labelsize=20, direction='out') \n",
    "    cbar.set_label('Sea-Air CO$_{2}$ Flux (mol/m$^{2}$/yr)', size=20)\n",
    "    counter_mid +=1\n",
    "\n",
    "fig.tight_layout()\n",
    "\n",
    "#et.vis.savefig('analysis_gridcells')\n",
    "et.vis.savefig('analysis_gridcells', extension='.eps', dpi=200)\n"
   ]
  }
 ],
 "metadata": {
  "kernelspec": {
   "display_name": "Python 3",
   "language": "python",
   "name": "python3"
  },
  "toc": {
   "base_numbering": 1,
   "nav_menu": {},
   "number_sections": true,
   "sideBar": true,
   "skip_h1_title": false,
   "title_cell": "Table of Contents",
   "title_sidebar": "Contents",
   "toc_cell": false,
   "toc_position": {},
   "toc_section_display": true,
   "toc_window_display": false
  },
  "varInspector": {
   "cols": {
    "lenName": 16,
    "lenType": 16,
    "lenVar": 40
   },
   "kernels_config": {
    "python": {
     "delete_cmd_postfix": "",
     "delete_cmd_prefix": "del ",
     "library": "var_list.py",
     "varRefreshCmd": "print(var_dic_list())"
    },
    "r": {
     "delete_cmd_postfix": ") ",
     "delete_cmd_prefix": "rm(",
     "library": "var_list.r",
     "varRefreshCmd": "cat(var_dic_list()) "
    }
   },
   "types_to_exclude": [
    "module",
    "function",
    "builtin_function_or_method",
    "instance",
    "_Feature"
   ],
   "window_display": false
  }
 },
 "nbformat": 4,
 "nbformat_minor": 2
}
