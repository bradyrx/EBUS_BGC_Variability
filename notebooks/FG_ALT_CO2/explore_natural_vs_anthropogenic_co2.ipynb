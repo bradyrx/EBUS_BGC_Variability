{
 "cells": [
  {
   "cell_type": "markdown",
   "metadata": {},
   "source": [
    "# Explore Natural vs. Anthropogenic CO$_{2}$\n",
    "- After ICDC, we realized that it isn't exactly clear what our residuals represent. For awhile, we portrayed them as simply \"natural CO$_{2}$.\" We realized recently, that embedded in the ensemble mean (forced signal) is a strong seasonal cycle. The trend within the ensemble mean is likely the anthropogenic invasion of carbon, but what is this seasonal cycle? Surely it isn't purely anthropogenic carbon, so these residuals more likely represent variability in natural CO2 due to internally generated variability. \n",
    "- The goal of this notebook is to use FG_ALT_CO2 output to understand what all of our time series components represent. The same processing has been done to the FG_ALT_CO2 output as other variables: it has been area-weighted over each region and split into the ensemble mean and residuals. The output itself was generated with the same dynamics of each run but with constant pre-industrial CO2 levels. Thus, it represents purely natural CO2 flux. We can take FG_CO2 - FG_ALT_CO2 to accurately extract anthropogenic carbon.\n",
    "- The questions we are trying to answer here are:\n",
    "\n",
    "1. What do the residuals represent from the FG_CO2 runs?\n",
    "2. Is there any trend in the FG_ALT_CO2 timeseries?\n",
    "3. Does the seasonal cycle show up in the FG_ALT_CO2 output? What drives that seasonal cycle?\n",
    "\n",
    "Once we answer these fundamental questions, we can go on to really quantify and characterize the full time series from the historical runs."
   ]
  },
  {
   "cell_type": "code",
   "execution_count": 1,
   "metadata": {
    "collapsed": true
   },
   "outputs": [],
   "source": [
    "import numpy as np\n",
    "import pandas as pd\n",
    "import xarray as xr\n",
    "import matplotlib.pyplot as plt\n",
    "%matplotlib inline"
   ]
  },
  {
   "cell_type": "markdown",
   "metadata": {},
   "source": [
    "# Set Parameters"
   ]
  },
  {
   "cell_type": "code",
   "execution_count": 7,
   "metadata": {
    "collapsed": true
   },
   "outputs": [],
   "source": [
    "EBU = \"CalCS\""
   ]
  },
  {
   "cell_type": "markdown",
   "metadata": {},
   "source": [
    "# Functions"
   ]
  },
  {
   "cell_type": "code",
   "execution_count": 8,
   "metadata": {
    "collapsed": true
   },
   "outputs": [],
   "source": [
    "def load_in_filtered_data(VAR, EBU, AW=True):\n",
    "    fileDir = '/glade/p/work/rbrady/EBUS_BGC_Variability/' + VAR + '/' + EBU + '/filtered_output/'\n",
    "    if AW == True:\n",
    "        ds_forced = xr.open_dataset(fileDir + EBU.lower() + '-' + VAR + '-forced-signal-AW-chavez-800km.nc')\n",
    "        ds_residuals = xr.open_dataset(fileDir + EBU.lower() + '-' + VAR + '-residuals-AW-chavez-800km.nc')\n",
    "    if AW == False:\n",
    "        ds_forced = xr.open_dataset(fileDir + EBU.lower() + '-' + VAR + '-forced-signal-chavez-800km.nc')\n",
    "        ds_residuals = xr.open_dataset(fileDir + EBU.lower() + '-' + VAR + '-residuals-chavez-800km.nc')\n",
    "    ds_total = ds_forced + ds_residuals\n",
    "    return ds_forced, ds_residuals, ds_total"
   ]
  },
  {
   "cell_type": "markdown",
   "metadata": {},
   "source": [
    "# Load in FG_ALT_CO2 and FG_CO2 Output"
   ]
  },
  {
   "cell_type": "code",
   "execution_count": 12,
   "metadata": {
    "collapsed": true
   },
   "outputs": [],
   "source": [
    "alt_forced, alt_residuals, alt_total = load_in_filtered_data('FG_ALT_CO2', EBU)\n",
    "contemp_forced, contemp_residuals, contemp_total = load_in_filtered_data('FG_CO2', EBU)"
   ]
  },
  {
   "cell_type": "markdown",
   "metadata": {},
   "source": []
  }
 ],
 "metadata": {
  "kernelspec": {
   "display_name": "Python 3",
   "language": "python",
   "name": "python3"
  },
  "language_info": {
   "codemirror_mode": {
    "name": "ipython",
    "version": 3
   },
   "file_extension": ".py",
   "mimetype": "text/x-python",
   "name": "python",
   "nbconvert_exporter": "python",
   "pygments_lexer": "ipython3",
   "version": "3.6.1"
  }
 },
 "nbformat": 4,
 "nbformat_minor": 2
}
