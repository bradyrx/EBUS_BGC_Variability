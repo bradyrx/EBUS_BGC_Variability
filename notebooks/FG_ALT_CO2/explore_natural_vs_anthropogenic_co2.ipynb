{
 "metadata": {
  "kernelspec": {
   "display_name": "Python 3",
   "language": "python",
   "name": "python3"
  },
  "language_info": {
   "codemirror_mode": {
    "name": "ipython",
    "version": 3
   },
   "file_extension": ".py",
   "mimetype": "text/x-python",
   "name": "python",
   "nbconvert_exporter": "python",
   "pygments_lexer": "ipython3",
   "version": "3.6.5"
  },
  "name": ""
 },
 "nbformat": 3,
 "nbformat_minor": 0,
 "worksheets": [
  {
   "cells": [
    {
     "cell_type": "markdown",
     "metadata": {},
     "source": [
      "# Exploring Natural vs. Anthropogenic CO$_{2}$\n",
      "After ICDC, we realized that it isn't exactly clear what our residuals represent. For awhile, we portrayed them as simply \"natural CO$_{2}$.\" We realized recently, that embedded in the ensemble mean is a strong seasonal cycle. The trend within the ensemble mean is likely the anthropogenic invasion of carbon, but what is this seasonal cycle? Surely it isn't purely anthropogenic carbon, so these residuals more likely represent variability in natural CO2 due to internally generated variability. \n",
      "\n",
      "The goal of this notebook is to use FG_ALT_CO2 output to understand what all of our time series components represent. The same processing has been done to the FG_ALT_CO2 output as other variables: it has been area-weighted over each region and split into the ensemble mean and residuals. The output itself was generated with the same dynamics of each run but with constant pre-industrial CO2 levels. Thus, it represents purely natural CO2 flux. We can take FG_CO2 - FG_ALT_CO2 to accurately extract anthropogenic carbon.\n",
      "\n",
      "The questions we are trying to answer here are:\n",
      "\n",
      "1. What do the residuals represent from the FG_CO2 runs?\n",
      "2. Is there any trend in the FG_ALT_CO2 timeseries?\n",
      "3. Does the seasonal cycle show up in the FG_ALT_CO2 output? What drives that seasonal cycle?\n",
      "\n",
      "Once we answer these fundamental questions, we can go on to really quantify and characterize the full time series from the historical runs."
     ]
    },
    {
     "cell_type": "code",
     "collapsed": true,
     "input": [
      "import numpy as np\n",
      "import pandas as pd\n",
      "import xarray as xr\n",
      "import matplotlib.pyplot as plt\n",
      "%matplotlib inline\n",
      "plt.style.use('ocn-clim')"
     ],
     "language": "python",
     "metadata": {},
     "outputs": [],
     "prompt_number": 1
    },
    {
     "cell_type": "heading",
     "level": 1,
     "metadata": {},
     "source": [
      "Set Parameters"
     ]
    },
    {
     "cell_type": "code",
     "collapsed": true,
     "input": [
      "EBU = \"CanCS\""
     ],
     "language": "python",
     "metadata": {},
     "outputs": [],
     "prompt_number": 2
    },
    {
     "cell_type": "heading",
     "level": 1,
     "metadata": {},
     "source": [
      "Functions"
     ]
    },
    {
     "cell_type": "code",
     "collapsed": true,
     "input": [
      "def load_in_filtered_data(VAR, EBU, AW=True):\n",
      "    fileDir = '/glade/p/work/rbrady/EBUS_BGC_Variability/' + VAR + '/' + EBU + '/filtered_output/'\n",
      "    if AW == True:\n",
      "        ds_forced = xr.open_dataset(fileDir + EBU.lower() + '-' + VAR + '-forced-signal-AW-chavez-800km.nc')\n",
      "        ds_residuals = xr.open_dataset(fileDir + EBU.lower() + '-' + VAR + '-residuals-AW-chavez-800km.nc')\n",
      "    if AW == False:\n",
      "        ds_forced = xr.open_dataset(fileDir + EBU.lower() + '-' + VAR + '-forced-signal-chavez-800km.nc')\n",
      "        ds_residuals = xr.open_dataset(fileDir + EBU.lower() + '-' + VAR + '-residuals-chavez-800km.nc')\n",
      "    ds_total = ds_forced + ds_residuals\n",
      "    return ds_forced, ds_residuals, ds_total"
     ],
     "language": "python",
     "metadata": {},
     "outputs": [],
     "prompt_number": 4
    },
    {
     "cell_type": "heading",
     "level": 1,
     "metadata": {},
     "source": [
      "Load in FG_ALT_CO2 and FG_CO2 Output"
     ]
    },
    {
     "cell_type": "code",
     "collapsed": true,
     "input": [
      "alt_forced, alt_residuals, alt_total = load_in_filtered_data('FG_ALT_CO2', EBU)\n",
      "contemp_forced, contemp_residuals, contemp_total = load_in_filtered_data('FG_CO2', EBU)"
     ],
     "language": "python",
     "metadata": {},
     "outputs": [],
     "prompt_number": 5
    },
    {
     "cell_type": "markdown",
     "metadata": {},
     "source": [
      "# (1) Does the seasonal cycle show up in FG_ALT_CO2?\n",
      "We are interested in how much of this seasonal cycle in the contemporary FG_CO2 is due to natural carbon fluxes."
     ]
    },
    {
     "cell_type": "code",
     "collapsed": true,
     "input": [
      "# Pull out the ensemble mean from both variables (which should be the seasonal cycle + trend)\n",
      "contemp_mean = contemp_forced['FG_CO2_AW'].values\n",
      "natural_mean = alt_forced['FG_ALT_CO2_AW'].values\n",
      "\n",
      "# Pull out the time component for plotting\n",
      "t = alt_forced['time'].values"
     ],
     "language": "python",
     "metadata": {},
     "outputs": [],
     "prompt_number": 6
    },
    {
     "cell_type": "code",
     "collapsed": false,
     "input": [
      "fig = plt.figure(figsize=(14,3))\n",
      "ax = plt.subplot(111)\n",
      "plt.plot(t, contemp_mean, color='k', linewidth=2, label='Contemporary')\n",
      "plt.plot(t, natural_mean, color='b', linewidth=2, label='Natural')\n",
      "\n",
      "ax.set_title('Comparison between F$_{\\mathrm{contemp}}$ and F$_{\\mathrm{natural}}$ Ensemble Mean')\n",
      "ax.set_ylabel('Sea-Air CO$_{2}$ Flux')\n",
      "ax.set(xlim=['1920', '2015'])\n",
      "legend = ax.legend(loc='upper right', fontsize=14)\n",
      "\n",
      "#plt.savefig('CalCS_seasonal_cycle_comparison.png',\n",
      "#             dpi=250, bbox_inches='tight', pad_inches=1)"
     ],
     "language": "python",
     "metadata": {},
     "outputs": [],
     "prompt_number": 7
    },
    {
     "cell_type": "markdown",
     "metadata": {},
     "source": [
      "At first glance, the seasonal cycles look quite similar. It seems as though the deviation is due to a trend in the contemporary CO$_{2}$ flux cycle. To test this hypothesis, I will remove a 4th order polynomial fit (seems to be standard in climate literature, such as Hawkins papers and Deser papers) and then correlate the two time series to see how much of the variability is explained. We can probably assume that any residual is due to a seasonal cycle from anthropogenic CO$_{2}$."
     ]
    },
    {
     "cell_type": "code",
     "collapsed": true,
     "input": [
      "import numpy.polynomial.polynomial as poly\n",
      "def remove_polynomial_fit(data, order=4):\n",
      "    x = np.arange(0, len(data), 1)\n",
      "    coefs = poly.polyfit(x, data, order)\n",
      "    line_fit = poly.polyval(x, coefs)\n",
      "    return (data - line_fit), coefs"
     ],
     "language": "python",
     "metadata": {},
     "outputs": [],
     "prompt_number": 8
    },
    {
     "cell_type": "code",
     "collapsed": true,
     "input": [
      "# Remove 4th order polynomial from each time series and re-plot.\n",
      "detrended_contemp, contemp_coefs = remove_polynomial_fit(contemp_mean)\n",
      "detrended_natural, nat_coefs = remove_polynomial_fit(natural_mean)\n",
      "\n",
      "# Generate anthropogenic time series from difference between these two\n",
      "anthropogenic = detrended_contemp - detrended_natural"
     ],
     "language": "python",
     "metadata": {},
     "outputs": [],
     "prompt_number": 9
    },
    {
     "cell_type": "code",
     "collapsed": false,
     "input": [
      "fig = plt.figure(figsize=(14,3))\n",
      "ax = plt.subplot(111)\n",
      "plt.plot(t, detrended_contemp, color='k', linewidth=2, label='Contemporary')\n",
      "plt.plot(t, detrended_natural, color='b', linewidth=2, label='Natural')\n",
      "plt.plot(t, anthropogenic, color='r', linewidth=2, label='Anthropogenic')\n",
      "\n",
      "ax.set_title('Comparison between F$_{\\mathrm{contemp}}$ and F$_{\\mathrm{natural}}$ Seasonal Cycles' + '\\n' +\n",
      "             '[4$^{\\mathrm{th}}$ Order Polynomial Fit Removed]')\n",
      "ax.set_ylabel('Sea-Air CO$_{2}$ Flux')\n",
      "ax.set(ylim=[-2, 4], xlim=['1920', '2015'])\n",
      "legend = ax.legend(loc='upper right')\n",
      "\n",
      "#plt.savefig('CanCS_seasonal_cycle_comparison_notrend.png', \n",
      "#             dpi=250, bbox_inches='tight', pad_inches=1)"
     ],
     "language": "python",
     "metadata": {},
     "outputs": [],
     "prompt_number": 16
    },
    {
     "cell_type": "markdown",
     "metadata": {},
     "source": [
      "After removing a 4th order polynomial, these time series look a lot more similar. Interestingly, the detrended anthropogenic seasonal cycle becomes larger over time. **A potential area to explore for each system is if the natural component of the seasonal cycle maintains a constant amplitude, but the total (contemporary) seasonal cycle grows in amplitude due to this anthropogenic invasion**.\n",
      "\n",
      "Before comparing the trends themselves, let's correlate these detrended seasonal cycles. I'll simply run a correlation between the detrended time series and look at what comes out."
     ]
    },
    {
     "cell_type": "code",
     "collapsed": false,
     "input": [
      "from scipy import stats\n",
      "slope, intercept, r, p, std_err = stats.linregress(detrended_natural, detrended_contemp)\n",
      "print('Slope     : ' + str(slope))\n",
      "print('R         : ' + str(r))\n",
      "print('R Squared : ' + str(r**2))\n",
      "print('p         : ' + str(p))"
     ],
     "language": "python",
     "metadata": {},
     "outputs": [],
     "prompt_number": 11
    },
    {
     "cell_type": "markdown",
     "metadata": {},
     "source": [
      "### Question: \n",
      "Does the seasonal cycle show up in FG_ALT_CO2?\n",
      "\n",
      "### Answer:\n",
      "Yes. It seems that the FG_CO2 ensemble mean periodic component is driven by the seasonal cycle of natural CO2. After detrending the contemporary (FG_CO2) and natural (FG_ALT_CO2) time series ensemble means, we find that 99.6% of the variability of the contemporary time series is explained by the natural time series. The interesting thing is that it seems as though the total amplitude might slightly grow, and it could be driven by the anthropogenic perturbation. This is something that can be explored further for each system."
     ]
    },
    {
     "cell_type": "markdown",
     "metadata": {},
     "source": [
      "# (2) Is there a (significant) trend in FG_ALT_CO2?\n",
      "There exists a trend in the contemporary cycle, which is assumped to be driven by the anthropogenic CO$_{2}$. However, is there some sort of drift in the natural CO$_{2}$ flux that could explain this?"
     ]
    },
    {
     "cell_type": "code",
     "collapsed": true,
     "input": [
      "def linear_regression(data):\n",
      "    \"\"\"\n",
      "    Performs a linear regression on the time series and returns the linear fit time series\n",
      "    as well as the slope across the full time series and the p-value.\n",
      "    \"\"\"\n",
      "    x = np.arange(0, len(data), 1)\n",
      "    coefs = poly.polyfit(x, data, 1)\n",
      "    line_fit = poly.polyval(x, coefs)\n",
      "    slope, _, _, p, _ = stats.linregress(x, data)\n",
      "    slope = slope*(len(data)/12)\n",
      "    return line_fit, slope, p"
     ],
     "language": "python",
     "metadata": {},
     "outputs": [],
     "prompt_number": 12
    },
    {
     "cell_type": "code",
     "collapsed": true,
     "input": [
      "anthropogenic_mean = contemp_mean - natural_mean"
     ],
     "language": "python",
     "metadata": {},
     "outputs": [],
     "prompt_number": 13
    },
    {
     "cell_type": "code",
     "collapsed": false,
     "input": [
      "def plot_with_trend(x, y, color='k', name='Contemporary'):\n",
      "    fit, slope, p = linear_regression(y)\n",
      "    plt.plot(x, y, color=color, linewidth=2)\n",
      "    plt.plot(x, fit, color='r', linewidth=2)\n",
      "    ax.set_ylabel('Sea-Air CO$_{2}$ Flux')\n",
      "    ax.set(xlim=['1920', '2015'])\n",
      "    ax.set_title(name + ' Ensemble Mean with Trend' + '\\n' +\n",
      "                 str(slope.round(3)) + ' mol m$^{-2}$yr$^{-1}$96yr$^{-1}$; ' +\n",
      "                 ' p = ' + '%.2E' % p)\n",
      "    return slope, p\n",
      "\n",
      "fig = plt.figure(figsize=(14,9))\n",
      "# Contemporary Time Series\n",
      "ax = plt.subplot(311)\n",
      "plot_with_trend(t, contemp_mean)\n",
      "\n",
      "# Natural Time Series\n",
      "ax = plt.subplot(312)\n",
      "nat_slope, nat_p = plot_with_trend(t, natural_mean, color='blue')\n",
      "ax.set_title('Natural Ensemble Mean with Trend' + '\\n' + \n",
      "             '%.2E' % nat_slope + ' mol m$^{-2}$yr$^{-1}$96yr$^{-1}$; p = ' + \n",
      "             str(nat_p.round(2)))\n",
      "\n",
      "# Anthropogenic Time Series\n",
      "ax = plt.subplot(313)\n",
      "plot_with_trend(t, anthropogenic_mean, name='Anthropogenic')\n",
      "\n",
      "fig.tight_layout()\n",
      "\n",
      "#plt.savefig('CanCS_trend_comparison.png', \n",
      "#             dpi=250, bbox_inches='tight', pad_inches=1)"
     ],
     "language": "python",
     "metadata": {},
     "outputs": [],
     "prompt_number": 15
    },
    {
     "cell_type": "markdown",
     "metadata": {},
     "source": [
      "The above two plots show the ensemble mean for the contemporary CO$_{2}$ flux (FGCO2; top) and the natural CO$_{2}$ flux (FG$\\_$ALT$\\_$CO2; bottom). Recall that the seasonal cycle itself is mostly produced by the natural CO$_{2}$ cycle. The question here is if the trend experienced in the contemporary CO$_{2}$ flux has anything to do with the natural flux, and that seems to not be the case. \n",
      "\n",
      "We find in the contemporary ensemble mean a very minor trend (-0.03mol/m2/yr for the whole historical period) that is statistically significant. In comparison, we find an extremely small trend in the natural CO2 flux (-0.00085mol/m2/yr for the whole historical period) and it is NOT significant."
     ]
    },
    {
     "cell_type": "markdown",
     "metadata": {},
     "source": [
      "### Most of the seasonal cycle is due to the natural flux of CO$_{2}$. Only a minor portion of it is due to anthropogenic CO$_{2}$ and the contemporary flux seems to be growing over time due to the anthropogenic perturbation.\n",
      "\n",
      "### There exists a very small, but statistically significant, trend in the contemporary CO$_{2}$ towards a larger sink of carbon. That trend is solely due to anthropogenic carbon."
     ]
    },
    {
     "cell_type": "markdown",
     "metadata": {},
     "source": [
      "# (3) What do the residuals represent?\n",
      "When we look at residuals in the contemporary CO2 flux, is it purely natural, or is there also some internally generated variable that influences the anthropogenic flux?"
     ]
    },
    {
     "cell_type": "code",
     "collapsed": true,
     "input": [
      "# Load in the original residual output again for clarity.\n",
      "alt_forced, alt_residuals, alt_total = load_in_filtered_data('FG_ALT_CO2', EBU)\n",
      "contemp_forced, contemp_residuals, contemp_total = load_in_filtered_data('FG_CO2', EBU)\n",
      "\n",
      "# Create three partitions of residuals\n",
      "contemp_residuals = contemp_residuals['FG_CO2_AW'].values\n",
      "natural_residuals = alt_residuals['FG_ALT_CO2_AW'].values\n",
      "anthrop_residuals = contemp_residuals - natural_residuals"
     ],
     "language": "python",
     "metadata": {},
     "outputs": [],
     "prompt_number": 25
    },
    {
     "cell_type": "markdown",
     "metadata": {},
     "source": [
      "All of these residuals are dimensions 34x1152. In the previous case, we were only working with 1D time series data, since it was the ensemble mean. Now we are working with all ensemble members."
     ]
    },
    {
     "cell_type": "code",
     "collapsed": false,
     "input": [
      "# For a test case, let's just plot from one member.\n",
      "fig = plt.figure(figsize=(14,3))\n",
      "ax = plt.subplot(111)\n",
      "\n",
      "plt.plot(t, contemp_residuals[0], color='k', linewidth=2, label='Contemporary')\n",
      "plt.plot(t, natural_residuals[0], color='b', linewidth=2, label='Natural')\n",
      "plt.plot(t, anthrop_residuals[0], color='r', linewidth=2, label='Anthropogenic')\n",
      "\n",
      "ax.set(xlim=['1920','2015'])\n",
      "ax.legend()"
     ],
     "language": "python",
     "metadata": {},
     "outputs": [],
     "prompt_number": 26
    },
    {
     "cell_type": "markdown",
     "metadata": {},
     "source": [
      "Does this relationship hold for many simulations?"
     ]
    },
    {
     "cell_type": "code",
     "collapsed": false,
     "input": [
      "def residual_decomposition_plot(t, contemp, natural, anthro, legend=False):\n",
      "    p1 = plt.plot(t, contemp, color='k', linewidth=1, label='Contemporary')\n",
      "    p2 = plt.plot(t, natural, color='b', linewidth=1, label='Natural')\n",
      "    p3 = plt.plot(t, anthro, color='r', linewidth=1, label='Anthropogenic')\n",
      "    ax.set(xlim=['1920', '2015'])\n",
      "    if legend == True:\n",
      "        ax.legend(loc='upper right')\n",
      "    return p1, p2, p3\n",
      "\n",
      "fig = plt.figure(figsize=(14,9))\n",
      "for idx in np.arange(0, 10, 1):\n",
      "    ax = plt.subplot(5, 2, idx+1)\n",
      "    p1,p2,p3 = residual_decomposition_plot(t, contemp_residuals[idx], natural_residuals[idx],\n",
      "                                anthrop_residuals[idx])\n",
      "    if idx < 8:\n",
      "        ax.set_xticklabels('')\n",
      "fig.tight_layout()        \n",
      "fig.suptitle('Individual Simulation Decomposition of CO$_{2}$ Flux Residuals')\n",
      "fig.subplots_adjust(top=0.90)\n",
      "\n",
      "plt.savefig('CalCS_residual_comparison.png', transparent=True,\n",
      "             dpi=500, bbox_inches='tight', pad_inches=1)"
     ],
     "language": "python",
     "metadata": {},
     "outputs": [],
     "prompt_number": 29
    },
    {
     "cell_type": "markdown",
     "metadata": {},
     "source": [
      "The eye test shows that these internally generated residuals (\"internally generated variability in CO2 fluxes\") are due primarily to natural CO2, but as time evolves, anthropogenic CO2 becomes increasingly important. This was an important excursion to take with the data, to really get all the definitions correct.\n",
      "\n",
      "For every EBUS contemporary CO$_{2}$ flux time series, we now have a few components to characterize historically:\n",
      "\n",
      "1. The \"level\" or mean state of our region. This is simply the mean across the whole time series. Is this generally an outgassing or uptake site?\n",
      "2. The \"trend\" of the region. We have shown here that this is purely due to the anthropogenic invasion of carbon and should be toward a sink in every location.\n",
      "3. The \"seasonal\" component of the region. What is the mean amplitude of the seasonal cycle for each region (derived from the detrended ensemble mean)? We have shown here that this is primarily natural carbon, but as time goes on, part of the seasonal cycle is due to anthropogenic carbon.\n",
      "4. The \"residual\" component for each simulation. This is the internally generated variabiliy, which is primarily natural, but also includes some anthropogenic carbon. This is what generally controls the \"variability\" of the system we are trying to get at with the large ensemble."
     ]
    }
   ],
   "metadata": {}
  }
 ]
}