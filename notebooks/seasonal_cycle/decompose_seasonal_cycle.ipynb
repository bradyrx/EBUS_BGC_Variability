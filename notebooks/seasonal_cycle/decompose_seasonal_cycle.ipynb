{
 "metadata": {
  "kernelspec": {
   "display_name": "Python 3",
   "language": "python",
   "name": "python3"
  },
  "language_info": {
   "codemirror_mode": {
    "name": "ipython",
    "version": 3
   },
   "file_extension": ".py",
   "mimetype": "text/x-python",
   "name": "python",
   "nbconvert_exporter": "python",
   "pygments_lexer": "ipython3",
   "version": "3.6.3"
  },
  "name": "",
  "toc": {
   "base_numbering": 1,
   "nav_menu": {},
   "number_sections": true,
   "sideBar": true,
   "skip_h1_title": false,
   "title_cell": "Table of Contents",
   "title_sidebar": "Contents",
   "toc_cell": false,
   "toc_position": {},
   "toc_section_display": true,
   "toc_window_display": false
  },
  "varInspector": {
   "cols": {
    "lenName": 16,
    "lenType": 16,
    "lenVar": 40
   },
   "kernels_config": {
    "python": {
     "delete_cmd_postfix": "",
     "delete_cmd_prefix": "del ",
     "library": "var_list.py",
     "varRefreshCmd": "print(var_dic_list())"
    },
    "r": {
     "delete_cmd_postfix": ") ",
     "delete_cmd_prefix": "rm(",
     "library": "var_list.r",
     "varRefreshCmd": "cat(var_dic_list()) "
    }
   },
   "types_to_exclude": [
    "module",
    "function",
    "builtin_function_or_method",
    "instance",
    "_Feature"
   ],
   "window_display": false
  }
 },
 "nbformat": 3,
 "nbformat_minor": 0,
 "worksheets": [
  {
   "cells": [
    {
     "cell_type": "markdown",
     "metadata": {},
     "source": [
      "# Seasonal Cycle\n",
      "\n",
      "Niki Gruber suggests that the seasonal cycle is investigated more. Here I'll take each mean seasonal cycle and decompose it into the thermal and non-thermal component. I'll also do this for the Landschuetzer data to see how well they compare.\n",
      "\n",
      "**NOTE**: Landschuetzer product does not include SST out of the box. Will just start with doing it on the model output."
     ]
    },
    {
     "cell_type": "code",
     "collapsed": true,
     "input": [
      "import numpy as np\n",
      "import pandas as pd\n",
      "import xarray as xr\n",
      "import matplotlib.pyplot as plt\n",
      "%matplotlib inline\n",
      "import esmtools as et\n",
      "plt.style.use('ocn-clim')"
     ],
     "language": "python",
     "metadata": {},
     "outputs": [],
     "prompt_number": 1
    },
    {
     "cell_type": "heading",
     "level": 2,
     "metadata": {},
     "source": [
      "Load in Data"
     ]
    },
    {
     "cell_type": "code",
     "collapsed": true,
     "input": [
      "def load_in_filtered_data(VAR, EBU, AW=True):\n",
      "    \"\"\"\n",
      "    Loads in the netCDF files for the ensemble mean and residuals for any \n",
      "    inputted variable and returns an xarray dataset for the forced signal, \n",
      "    residuals, and the total time series\n",
      "    \"\"\"\n",
      "    fileDir = ('/glade/p_old/work/rbrady/EBUS_BGC_Variability/' + VAR + '/' \n",
      "               + EBU + '/filtered_output/')\n",
      "    if AW == True:\n",
      "        ds_forced = xr.open_dataset(fileDir + EBU.lower() + '-' + VAR \n",
      "                                    + '-forced-signal-AW-chavez-800km.nc')\n",
      "        ds_residuals = xr.open_dataset(fileDir + EBU.lower() + '-' \n",
      "                                       + VAR + '-residuals-AW-chavez-800km.nc')\n",
      "    if AW == False:\n",
      "        ds_forced = xr.open_dataset(fileDir + EBU.lower() + '-' + VAR \n",
      "                                    + '-forced-signal-chavez-800km.nc')\n",
      "        ds_residuals = xr.open_dataset(fileDir + EBU.lower() + '-' \n",
      "                                       + VAR + '-residuals-chavez-800km.nc')\n",
      "    ds_total = ds_forced + ds_residuals\n",
      "    if AW == True:\n",
      "        return ds_forced[VAR + '_AW'], ds_residuals[VAR + '_AW'], \\\n",
      "               ds_total[VAR + '_AW']\n",
      "    else:\n",
      "        return ds_forced[VAR], ds_residuals[VAR], ds_total[VAR]\n",
      "                         "
     ],
     "language": "python",
     "metadata": {},
     "outputs": [],
     "prompt_number": 2
    },
    {
     "cell_type": "code",
     "collapsed": true,
     "input": [
      "def load_in_landschuetzer(VAR, EBU):\n",
      "    \"\"\"\n",
      "    Loads in the SOM-FFN pCO2 data from the EBUS of interest. This is from the\n",
      "    regridded SOM-FFN (to POP grid) and then extracted as with the model output.\n",
      "    \"\"\"\n",
      "    fileDir = '/glade/work/rbrady/EBUS_BGC_Variability/' + \\\n",
      "              'Landschuetzer_Extracted/' + EBU + \\\n",
      "              '/SOM-FFN.' + VAR + '.' + EBU + '.extracted_AW.1982-2015.nc'\n",
      "    ds = xr.open_dataset(fileDir)\n",
      "    return ds[VAR + '_AW']"
     ],
     "language": "python",
     "metadata": {},
     "outputs": [],
     "prompt_number": 3
    },
    {
     "cell_type": "code",
     "collapsed": false,
     "input": [
      "def load_in_reynolds(EBU):\n",
      "    \"\"\"\n",
      "    Loads in the Reynolds SST data from the EBUS of interest. This is from the\n",
      "    regridded Reynolds (to POP grid) and then extracted as with the model output.\n",
      "    \"\"\"\n",
      "    fileDir = '/glade/work/rbrady/EBUS_BGC_Variability/' + \\\n",
      "              'Reynolds_Extracted/' + EBU + \\\n",
      "              '/Reynolds.sst' + '.' + EBU + '.extracted_AW.1982-2015.nc'\n",
      "    ds = xr.open_dataset(fileDir)\n",
      "    return ds['sst_AW']"
     ],
     "language": "python",
     "metadata": {},
     "outputs": [],
     "prompt_number": 144
    },
    {
     "cell_type": "markdown",
     "metadata": {},
     "source": [
      "# CO$_{2}$ Flux\n",
      "Does pCO2 drive that flux?"
     ]
    },
    {
     "cell_type": "code",
     "collapsed": true,
     "input": [
      "EBC = 'BenCS'\n",
      "cesm_fgco2_mean, _, _ = load_in_filtered_data('FG_CO2', EBC)\n",
      "cesm_pco2_mean, _, _ = load_in_filtered_data('pCO2SURF', EBC)\n",
      "cesm_U_mean, _, _ = load_in_filtered_data('U', EBC)"
     ],
     "language": "python",
     "metadata": {},
     "outputs": [],
     "prompt_number": 4
    },
    {
     "cell_type": "code",
     "collapsed": true,
     "input": [
      "# Detrend\n",
      "cesm_fgco2 = cesm_fgco2_mean.to_dataset() \\\n",
      "    .apply(et.ufunc.remove_polynomial_fit)['FG_CO2_AW']\n",
      "cesm_pco2 = cesm_pco2_mean.to_dataset() \\\n",
      "    .apply(et.ufunc.remove_polynomial_fit)['pCO2SURF_AW']\n",
      "cesm_U_mean = cesm_U_mean**2\n",
      "cesm_U = cesm_U_mean.to_dataset() \\\n",
      "    .apply(et.ufunc.remove_polynomial_fit)['U_AW']"
     ],
     "language": "python",
     "metadata": {},
     "outputs": [],
     "prompt_number": 5
    },
    {
     "cell_type": "code",
     "collapsed": true,
     "input": [
      "# 1982-2015 period?\n",
      "cesm_fgco2 = cesm_fgco2.sel(time=slice('1982-01','2015-12'))\n",
      "cesm_pco2 = cesm_pco2.sel(time=slice('1982-01','2015-12'))\n",
      "cesm_U = cesm_U.sel(time=slice('1982-01','2015-12'))\n",
      "\n",
      "# Compute seasonal cycle\n",
      "cesm_fgco2 = cesm_fgco2.groupby('time.month').mean('time')\n",
      "cesm_pco2 = cesm_pco2.groupby('time.month').mean('time')\n",
      "cesm_U = cesm_U.groupby('time.month').mean('time')\n",
      "\n",
      "# Normalize\n",
      "cesm_fgco2 = cesm_fgco2 / cesm_fgco2.std()\n",
      "cesm_pco2 = cesm_pco2 / cesm_pco2.std()\n",
      "cesm_U = cesm_U / cesm_U.std()"
     ],
     "language": "python",
     "metadata": {},
     "outputs": [],
     "prompt_number": 6
    },
    {
     "cell_type": "code",
     "collapsed": false,
     "input": [
      "# Plot\n",
      "title = {'CalCS': 'California Current',\n",
      "         'HumCS': 'Humboldt Current',\n",
      "         'CanCS': 'Canary Current',\n",
      "         'BenCS': 'Benguela Current'}\n",
      "f, ax = plt.subplots()\n",
      "\n",
      "cesm_pco2.plot(color='#a9a9a9', linewidth=4, label='pCO$_{2}$')\n",
      "cesm_fgco2.plot(color='k', linewidth=4, label='CO$_{2}$ Flux')\n",
      "cesm_U.plot(color='r', linewidth=4, label='U$^{2}$')\n",
      "\n",
      "ax.set_ylabel('Normalized Seasonal Cycle ($\\sigma$)')\n",
      "ax.set_title(title[EBC] + ' Seasonal Cycles')\n",
      "plt.legend(bbox_to_anchor=(1.05, 1), loc=2, borderaxespad=0)\n",
      "plt.setp(plt.gca().get_legend().get_texts(), fontsize=14)\n",
      "\n",
      "ax.set_ylim([-2, 2])\n",
      "#et.vis.savefig(EBC + '_CO2flux_pCO2', extension='.png')"
     ],
     "language": "python",
     "metadata": {},
     "outputs": [],
     "prompt_number": 197
    },
    {
     "cell_type": "heading",
     "level": 1,
     "metadata": {},
     "source": [
      "pCO2 Decomposition"
     ]
    },
    {
     "cell_type": "code",
     "collapsed": true,
     "input": [
      "EBC = 'BenCS'\n",
      "_, _, cesm_sst_total = load_in_filtered_data('SST', EBC)\n",
      "_, _, cesm_pco2_total = load_in_filtered_data('pCO2SURF', EBC)\n",
      "som_pco2 = load_in_landschuetzer('spco2_raw', EBC)\n",
      "#reynolds_sst = load_in_reynolds(EBC)\n",
      "som_pco2['time'] = pd.date_range('1982-01', '2016-01', freq='M')\n",
      "#reynolds_sst['time'] = pd.date_range('1982-01', '2016-01', freq='M')"
     ],
     "language": "python",
     "metadata": {},
     "outputs": [],
     "prompt_number": 42
    },
    {
     "cell_type": "code",
     "collapsed": true,
     "input": [
      "cesm = xr.merge([cesm_sst_total, cesm_pco2_total])\n",
      "cesm = cesm.rename({'SST_AW': 'sst', 'pCO2SURF_AW': 'pCO2'})\n",
      "som = som_pco2\n",
      "#som = xr.merge([som_pco2, reynolds_sst])\n",
      "#som = som.rename({'spco2_raw_AW': 'pCO2', 'sst_AW': 'sst'})"
     ],
     "language": "python",
     "metadata": {},
     "outputs": [],
     "prompt_number": 43
    },
    {
     "cell_type": "code",
     "collapsed": true,
     "input": [
      "# Reduce to cover Landschuetzer period.\n",
      "cesm = cesm.mean('ensemble')\n",
      "cesm = cesm.sel(time=slice('1982-01', '2015-12'))"
     ],
     "language": "python",
     "metadata": {},
     "outputs": [],
     "prompt_number": 44
    },
    {
     "cell_type": "heading",
     "level": 3,
     "metadata": {},
     "source": [
      "Check non-thermal seasonal cycles for paper"
     ]
    },
    {
     "cell_type": "code",
     "collapsed": false,
     "input": [
      "SST, *_ = load_in_filtered_data('SST', EBC)\n",
      "DIC, *_ = load_in_filtered_data('sDIC', EBC)\n",
      "SALT, *_ = load_in_filtered_data('SALT', EBC)\n",
      "ALK, *_ = load_in_filtered_data('sALK', EBC)"
     ],
     "language": "python",
     "metadata": {},
     "outputs": [],
     "prompt_number": 201
    },
    {
     "cell_type": "code",
     "collapsed": false,
     "input": [
      "SST = SST.to_dataset().apply(et.ufunc.remove_polynomial_fit)['SST_AW']\n",
      "SST = SST.groupby('time.month').mean()\n",
      "# Multiply by sensitivity to get to pCO2\n",
      "\n",
      "\n",
      "DIC = DIC.to_dataset().apply(et.ufunc.remove_polynomial_fit)['sDIC_AW']\n",
      "DIC = DIC.groupby('time.month').mean()\n",
      "\n",
      "SALT = SALT.to_dataset().apply(et.ufunc.remove_polynomial_fit)['SALT_AW']\n",
      "SALT = SALT.groupby('time.month').mean()\n",
      "\n",
      "ALK = ALK.to_dataset().apply(et.ufunc.remove_polynomial_fit)['sALK_AW']\n",
      "ALK = ALK.groupby('time.month').mean()"
     ],
     "language": "python",
     "metadata": {},
     "outputs": [],
     "prompt_number": 202
    },
    {
     "cell_type": "code",
     "collapsed": false,
     "input": [
      "DIC.plot(color='b')\n",
      "SST.plot(color='r')\n",
      "SALT.plot(color='b', linestyle='--')\n",
      "ALK.plot(color='b', linestyle='-.')\n",
      "plt.legend()"
     ],
     "language": "python",
     "metadata": {},
     "outputs": [],
     "prompt_number": 203
    },
    {
     "cell_type": "heading",
     "level": 2,
     "metadata": {},
     "source": [
      "Compute Mean Seasonal Cycle"
     ]
    },
    {
     "cell_type": "code",
     "collapsed": true,
     "input": [
      "def takahashi_decomp(ds):\n",
      "    \"\"\"\n",
      "    Performs the temperature/non-temperature decomposition by Takahashi\n",
      "    and returns the dataset with 'spco2_T' and 'spco2_nonT' added to\n",
      "    the variable list.\n",
      "    \n",
      "    This also detrends the results so you can look at the relative magnitudes.\n",
      "    \"\"\"\n",
      "    ds['pco2_nonT'] = ds.pCO2 * np.exp(0.0423 * (ds.sst.mean() - ds.sst))\n",
      "    ds['pco2_T'] = ds.pCO2.mean() * np.exp(0.0423 * (ds.sst - ds.sst.mean()))\n",
      "    return ds"
     ],
     "language": "python",
     "metadata": {},
     "outputs": [],
     "prompt_number": 45
    },
    {
     "cell_type": "code",
     "collapsed": true,
     "input": [
      "def compute_seasonal_component(ds):\n",
      "    \"\"\"\n",
      "    After doing the Takahashi decomposition, this will compute the \n",
      "    seasonal component for a given dataset. \n",
      "    \"\"\"\n",
      "    # Remove any linear trend over this time period. Moreso for the nonT portion, but\n",
      "    # also centers around zero for the final vis.\n",
      "    ds = ds.apply(et.ufunc.remove_polynomial_fit)\n",
      "    T = ds.pco2_T.groupby('time.month').mean()\n",
      "    nonT = ds.pco2_nonT.groupby('time.month').mean()\n",
      "    total = ds.pCO2.groupby('time.month').mean()\n",
      "    return nonT, T, total"
     ],
     "language": "python",
     "metadata": {},
     "outputs": [],
     "prompt_number": 46
    },
    {
     "cell_type": "code",
     "collapsed": true,
     "input": [
      "cesm = takahashi_decomp(cesm)\n",
      "cesm_nonT, cesm_T, cesm_total = compute_seasonal_component(cesm)\n",
      "\n",
      "#som = takahashi_decomp(som)\n",
      "#som_nonT, som_T, som_total = compute_seasonal_component(som)"
     ],
     "language": "python",
     "metadata": {},
     "outputs": [],
     "prompt_number": 47
    },
    {
     "cell_type": "code",
     "collapsed": true,
     "input": [
      "som = som.to_dataset().apply(et.ufunc.remove_polynomial_fit) \\\n",
      "    .spco2_raw_AW\n",
      "som = som.groupby('time.month').mean('time')"
     ],
     "language": "python",
     "metadata": {},
     "outputs": [],
     "prompt_number": 48
    },
    {
     "cell_type": "heading",
     "level": 1,
     "metadata": {},
     "source": [
      "Plot Comparison"
     ]
    },
    {
     "cell_type": "code",
     "collapsed": true,
     "input": [
      "def repeat_cycle(da):\n",
      "    \"\"\"\n",
      "    Given a 12-month dataarray, this will create a new 24-month data\n",
      "    array with repeating components to see the seasonal cycle better.\n",
      "    \"\"\"\n",
      "    da = xr.concat([da, da], dim='month')\n",
      "    da['month'] = np.arange(1, 25, 1)\n",
      "    return da"
     ],
     "language": "python",
     "metadata": {},
     "outputs": [],
     "prompt_number": 49
    },
    {
     "cell_type": "code",
     "collapsed": true,
     "input": [
      "def plot_cycle(da, **kwargs):\n",
      "    \"\"\"\n",
      "    Plot the given seasonal cycle curve (T-component, raw cycle, etc.)\n",
      "    \"\"\"\n",
      "    da = repeat_cycle(da)\n",
      "    da.plot(**kwargs)"
     ],
     "language": "python",
     "metadata": {},
     "outputs": [],
     "prompt_number": 50
    },
    {
     "cell_type": "code",
     "collapsed": false,
     "input": [
      "title = {'CalCS': 'California Current',\n",
      "         'HumCS': 'Humboldt Current',\n",
      "         'CanCS': 'Canary Current',\n",
      "         'BenCS': 'Benguela Current'}\n",
      "\n",
      "f, ax = plt.subplots(figsize=(10,4))\n",
      "\n",
      "# Model plot\n",
      "plot_cycle(cesm_T, color='r', linewidth=2, linestyle='--', \n",
      "           label='CESM-LE Thermal Effects')\n",
      "plot_cycle(cesm_nonT, color='b', linewidth=2, linestyle='--', \n",
      "           label='CESM-LE Non-Thermal Effects')\n",
      "plot_cycle(cesm_total, color='k', linewidth=4, label='CESM-LE Seasonal Cycle')\n",
      "\n",
      "# SOM Seasonal Cycle\n",
      "#plot_cycle(som_T, color='r', linewidth=2, linestyle='-.', \n",
      "#           label='CESM-LE Thermal Effects')\n",
      "#plot_cycle(som_nonT, color='b', linewidth=2, linestyle='-.', \n",
      "#           label='CESM-LE Non-Thermal Effects')\n",
      "plot_cycle(som, color='#a9a9a9', linewidth=4, label='CESM-LE Seasonal Cycle')\n",
      "\n",
      "# Plot aesthetics\n",
      "ax.set_xlim([1, 24])\n",
      "ax.set_xticks(np.arange(1, 25, 3))\n",
      "labels = ['Jan', 'Apr', 'Jul', 'Oct']*2\n",
      "ax.set_xticklabels(labels, fontsize=16)\n",
      "ax.set_xticklabels(labels, rotation = 45, ha=\"right\")\n",
      "ax.set_xlabel('')\n",
      "\n",
      "ax.set_ylim([-60, 60])\n",
      "ax.set_ylabel('Detrended Seasonal Cycle [$\\mu$atm]')\n",
      "\n",
      "ax.set_title(title[EBC] + ' pCO$_{2}$ Seasonal Cycle')\n",
      "\n",
      "# Legend\n",
      "#plt.legend(bbox_to_anchor=(1.05, 1), loc=2, borderaxespad=0)\n",
      "#plt.setp(plt.gca().get_legend().get_texts(), fontsize=14)\n",
      "\n",
      "\n",
      "#et.vis.savefig(EBC + '_seasonal_cycle_decomposed', extension='.eps', dpi=300)"
     ],
     "language": "python",
     "metadata": {},
     "outputs": [],
     "prompt_number": 172
    }
   ],
   "metadata": {}
  }
 ]
}