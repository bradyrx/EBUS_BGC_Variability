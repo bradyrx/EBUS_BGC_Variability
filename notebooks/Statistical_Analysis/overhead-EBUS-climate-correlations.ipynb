{
 "metadata": {
  "kernelspec": {
   "display_name": "Python 3",
   "language": "python",
   "name": "python3"
  },
  "language_info": {
   "codemirror_mode": {
    "name": "ipython",
    "version": 3
   },
   "file_extension": ".py",
   "mimetype": "text/x-python",
   "name": "python",
   "nbconvert_exporter": "python",
   "pygments_lexer": "ipython3",
   "version": "3.6.5"
  },
  "name": ""
 },
 "nbformat": 3,
 "nbformat_minor": 0,
 "worksheets": [
  {
   "cells": [
    {
     "cell_type": "markdown",
     "metadata": {},
     "source": [
      "# Overhead EBUS-Climate Correlations\n",
      "Previously, I created an area-weighted time series of CO$_{2}$ flux and Adam Phillip's climate indices. This gives us a picture of how the whole EBUS varies with a climate index predictor. However, it prevents us from getting a taste of the spatial correlations. Perhaps a relatively high correlation score is due to a very high correlated cluster. Perhaps there is a gradient in the correlations themselves. Perhaps there are some negative and some positive scores within a given system."
     ]
    },
    {
     "cell_type": "code",
     "collapsed": false,
     "input": [
      "import numpy as np\n",
      "import pandas as pd\n",
      "import xarray as xr\n",
      "import matplotlib.pyplot as plt\n",
      "%matplotlib inline\n",
      "import esmtools as et\n",
      "import cartopy.crs as ccrs\n",
      "plt.style.use('ocn-clim')\n",
      "import cartopy.feature as cfeature\n",
      "import seaborn as sns\n",
      "import glob"
     ],
     "language": "python",
     "metadata": {},
     "outputs": [],
     "prompt_number": 1
    },
    {
     "cell_type": "heading",
     "level": 1,
     "metadata": {},
     "source": [
      "Functions"
     ]
    },
    {
     "cell_type": "code",
     "collapsed": false,
     "input": [
      "def load_overhead_correlations(EBU, x, y, lag, smooth):\n",
      "    \"\"\"\n",
      "    Loads in the results of the overhead correlation analysis that was\n",
      "    run as a python script.\n",
      "    \n",
      "    EBU       : Acronym for the EBUS of interest.\n",
      "    x         : Predictor variable for the gas flux (e.g. NPGO)\n",
      "    y         : Dependent variable being predicted (e.g. FG_CO2, U)\n",
      "    lag       : Lag in months applied\n",
      "    smooth    : Smooth in months applied\n",
      "    \"\"\"\n",
      "    filedir = '/glade/p/work/rbrady/EBUS_BGC_Variability/regional_regressions/'\n",
      "    filepath = filedir + EBU + '/' + y + '/' + x + '/lag' + str(lag) + '/'\n",
      "    if smooth == 0:\n",
      "        filename = (filepath + x + '.' + y + '.' + EBU + \n",
      "                    '.*.unsmoothed_regional_regression.lag' +\n",
      "                    str(lag) + '.nc')\n",
      "    else:\n",
      "        filename = (filepath + x + '.' + y + '.' + EBU + \n",
      "                    '.*.smoothed' + str(smooth) + '_regional_regression.lag' +\n",
      "                    str(lag) + '.nc')\n",
      "    ds = xr.open_mfdataset(filename, concat_dim='ensemble')\n",
      "    return ds"
     ],
     "language": "python",
     "metadata": {},
     "outputs": [],
     "prompt_number": 2
    },
    {
     "cell_type": "code",
     "collapsed": false,
     "input": [
      "ens = ['001', '002', '009', '010', '011',\n",
      "       '012', '013', '014', '015', '016',\n",
      "       '017', '018', '019', '020', '021',\n",
      "       '022', '023', '024', '025', '026',\n",
      "       '027', '028', '029', '030', '031',\n",
      "       '032', '033', '034', '035', '101',\n",
      "       '102', '103', '104', '105']"
     ],
     "language": "python",
     "metadata": {},
     "outputs": [],
     "prompt_number": 3
    },
    {
     "cell_type": "heading",
     "level": 1,
     "metadata": {},
     "source": [
      "Visualization: Individual Panels"
     ]
    },
    {
     "cell_type": "code",
     "collapsed": false,
     "input": [
      "EBU = 'HumCS'\n",
      "VARX = 'NINO3'\n",
      "VARY = 'U'\n",
      "lag = 0\n",
      "smooth = 0"
     ],
     "language": "python",
     "metadata": {},
     "outputs": [],
     "prompt_number": 11
    },
    {
     "cell_type": "code",
     "collapsed": false,
     "input": [
      "ds = load_overhead_correlations(EBU, VARX, VARY, lag, smooth)\n",
      "mask = ds['r'].sel(ensemble=0) # Use to re-nan things that aren't in region.\n",
      "ds = ds.where(ds.p <= 0.1, -999)"
     ],
     "language": "python",
     "metadata": {},
     "outputs": [],
     "prompt_number": 13
    },
    {
     "cell_type": "code",
     "collapsed": false,
     "input": [
      "import matplotlib as mpl\n",
      "f, axes = plt.subplots(nrows=2, ncols=3,\n",
      "                       subplot_kw={'projection': ccrs.Mercator()},\n",
      "                       gridspec_kw={'wspace':0.1, 'hspace':0},\n",
      "                       figsize=(8,3))\n",
      "\n",
      "st = f.suptitle('Corr(NPGO$_{12}$, F$_{\\mathrm{CO}_{2}}$)', fontsize=20)\n",
      "for i, ax in enumerate(axes.flat):\n",
      "    data = ds['r'].sel(ensemble=i)\n",
      "    data = np.ma.array(data, mask=np.isnan(mask))\n",
      "    ax.outline_patch.set_edgecolor('w')    \n",
      "    \n",
      "    # r-value pcolormesh\n",
      "    cmap = plt.cm.RdBu_r\n",
      "    p = ax.pcolormesh(ds['TLONG']-1, ds['TLAT'], data, \n",
      "                      transform=ccrs.PlateCarree(), vmin=-0.6, vmax=0.7,\n",
      "                      cmap=cmap)\n",
      "    p.cmap.set_under('#d3d3d3')\n",
      "    ax.add_feature(cfeature.LAND, facecolor='k')\n",
      "    \n",
      "    \n",
      "    # Labels\n",
      "    ax.text(-7, 30, str(ens[i]), color='w', transform=ccrs.Geodetic())\n",
      "\n",
      "f.tight_layout()\n",
      "f.subplots_adjust(top=0.85)\n",
      "st.set_y(0.95)\n",
      "\n",
      "# Colorbar\n",
      "cax,kw = mpl.colorbar.make_axes([ax for ax in axes.flat])\n",
      "cb = plt.colorbar(p, cax=cax, **kw)\n",
      "cb.set_label('R Value')"
     ],
     "language": "python",
     "metadata": {},
     "outputs": [],
     "prompt_number": 6
    },
    {
     "cell_type": "heading",
     "level": 1,
     "metadata": {},
     "source": [
      "Visualization: Ensemble Mean Correlation"
     ]
    },
    {
     "cell_type": "code",
     "collapsed": false,
     "input": [
      "EBU = 'HumCS'\n",
      "VARX = 'NINO3'\n",
      "VARY = 'TAUX'\n",
      "lag = 0\n",
      "smooth = 0"
     ],
     "language": "python",
     "metadata": {},
     "outputs": [],
     "prompt_number": 25
    },
    {
     "cell_type": "code",
     "collapsed": false,
     "input": [
      "ds = load_overhead_correlations(EBU, VARX, VARY, lag, smooth)\n",
      "mask = ds['r'].sel(ensemble=0) # Use to re-nan things that aren't in region.\n",
      "#ds = ds.where(ds.p >= 0.1, -999)\n",
      "ds = ds.mean('ensemble')"
     ],
     "language": "python",
     "metadata": {},
     "outputs": [],
     "prompt_number": 26
    },
    {
     "cell_type": "code",
     "collapsed": false,
     "input": [
      "f, ax = et.vis.make_cartopy(projection=ccrs.Mercator(), frameon=False, grid_lines=False)\n",
      "\n",
      "data = ds['m']\n",
      "data = np.ma.array(data, mask=np.isnan(mask))\n",
      "cmap = plt.cm.RdBu_r\n",
      "p = ax.pcolor(ds['TLONG']-1, ds['TLAT'], data,\n",
      "                  transform=ccrs.PlateCarree(), edgecolor='w',\n",
      "                 cmap=cmap, vmin=-0.01, vmax=0.01)\n",
      "ax.outline_patch.set_edgecolor('w')\n",
      "\n",
      "# Aesthetics\n",
      "x1,x2,y1,y2 = et.ebus.visual_bounds(EBU)\n",
      "ax.set_extent([x1,x2,y1,y2])\n",
      "\n",
      "# Colorbar\n",
      "cb = plt.colorbar(p)\n",
      "ax.set_title(EBU + ' Corr(' + VARY + ',' + VARX + ') Ensemble Mean',\n",
      "             fontsize=18)\n",
      "\n",
      "#et.vis.savefig('humcs_grid_TAUX_nino3', extension='.eps', dpi=300)"
     ],
     "language": "python",
     "metadata": {},
     "outputs": [],
     "prompt_number": 31
    },
    {
     "cell_type": "code",
     "collapsed": false,
     "input": [],
     "language": "python",
     "metadata": {},
     "outputs": [],
     "prompt_number": null
    }
   ],
   "metadata": {}
  }
 ]
}