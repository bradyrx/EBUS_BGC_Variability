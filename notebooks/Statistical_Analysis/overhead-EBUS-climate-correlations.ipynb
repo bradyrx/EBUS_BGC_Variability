{
 "cells": [
  {
   "cell_type": "markdown",
   "metadata": {},
   "source": [
    "# Overhead EBUS-Climate Correlations\n",
    "Previously, I created an area-weighted time series of CO$_{2}$ flux and Adam Phillip's climate indices. This gives us a picture of how the whole EBUS varies with a climate index predictor. However, it prevents us from getting a taste of the spatial correlations. Perhaps a relatively high correlation score is due to a very high correlated cluster. Perhaps there is a gradient in the correlations themselves. Perhaps there are some negative and some positive scores within a given system."
   ]
  },
  {
   "cell_type": "code",
   "execution_count": 1,
   "metadata": {},
   "outputs": [
    {
     "name": "stderr",
     "output_type": "stream",
     "text": [
      "/glade/u/home/rbrady/.local/lib/python3.6/site-packages/cmocean/tools.py:76: MatplotlibDeprecationWarning: The is_string_like function was deprecated in version 2.1.\n",
      "  if not mpl.cbook.is_string_like(rgbin[0]):\n"
     ]
    }
   ],
   "source": [
    "import numpy as np\n",
    "import pandas as pd\n",
    "import xarray as xr\n",
    "import matplotlib.pyplot as plt\n",
    "%matplotlib inline\n",
    "import esmtools as et\n",
    "import cartopy.crs as ccrs\n",
    "plt.style.use('ocn-clim')\n",
    "import cmocean.cm as cm\n",
    "import cartopy.feature as cfeature\n",
    "import seaborn as sns\n",
    "import glob"
   ]
  },
  {
   "cell_type": "markdown",
   "metadata": {},
   "source": [
    "# Functions"
   ]
  },
  {
   "cell_type": "code",
   "execution_count": 2,
   "metadata": {},
   "outputs": [],
   "source": [
    "def load_overhead_correlations(EBU, predictor, lag, smooth):\n",
    "    \"\"\"\n",
    "    Loads in the results of the overhead correlation analysis that was\n",
    "    run as a python script.\n",
    "    \n",
    "    EBU       : Acronym for the EBUS of interest.\n",
    "    predictor : Predictor variable for the gas flux (e.g. NPGO)\n",
    "    lag       : Lag in months applied\n",
    "    smooth    : Smooth in months applied\n",
    "    \"\"\"\n",
    "    filedir = '/glade/p/work/rbrady/EBUS_BGC_Variability/regional_regressions/'\n",
    "    filepath = filedir + EBU + '/' + predictor + '/lag' + str(lag) + '/'\n",
    "    if smooth == 0:\n",
    "        filename = (filepath + predictor + '.FG_ALT_CO2.' + EBU + \n",
    "                    '.*.unsmoothed_regional_regression.lag' +\n",
    "                    str(lag) + '.nc')\n",
    "    else:\n",
    "        filename = (filepath + predictor + '.FG_ALT_CO2.' + EBU + \n",
    "                    '.*.smoothed' + str(smooth) + '_regional_regression.lag' +\n",
    "                    str(lag) + '.nc')\n",
    "    ds = xr.open_mfdataset(filename, concat_dim='ensemble')\n",
    "    return ds"
   ]
  },
  {
   "cell_type": "code",
   "execution_count": 3,
   "metadata": {},
   "outputs": [],
   "source": [
    "ens = ['001', '002', '009', '010', '011',\n",
    "       '012', '013', '014', '015', '016',\n",
    "       '017', '018', '019', '020', '021',\n",
    "       '022', '023', '024', '025', '026',\n",
    "       '027', '028', '029', '030', '031',\n",
    "       '032', '033', '034', '035', '101',\n",
    "       '102', '103', '104', '105']"
   ]
  },
  {
   "cell_type": "markdown",
   "metadata": {},
   "source": [
    "# Visualization"
   ]
  },
  {
   "cell_type": "code",
   "execution_count": 9,
   "metadata": {},
   "outputs": [],
   "source": [
    "EBU = 'CanCS'\n",
    "VAR = 'AMO'\n",
    "lag = 0\n",
    "smooth = 12"
   ]
  },
  {
   "cell_type": "code",
   "execution_count": 10,
   "metadata": {},
   "outputs": [],
   "source": [
    "ds = load_overhead_correlations(EBU, VAR, lag, smooth)\n",
    "mask = ds['r'].sel(ensemble=0) # Use to re-nan things that aren't in region.\n",
    "ds = ds.where(ds.p <= 0.05, -999)"
   ]
  },
  {
   "cell_type": "code",
   "execution_count": 11,
   "metadata": {},
   "outputs": [
    {
     "name": "stderr",
     "output_type": "stream",
     "text": [
      "/glade/u/home/rbrady/anaconda3/envs/py36/lib/python3.6/site-packages/dask/local.py:271: RuntimeWarning: invalid value encountered in less_equal\n",
      "  return func(*args2)\n",
      "/glade/u/home/rbrady/anaconda3/envs/py36/lib/python3.6/site-packages/matplotlib/figure.py:1999: UserWarning: This figure includes Axes that are not compatible with tight_layout, so results might be incorrect.\n",
      "  warnings.warn(\"This figure includes Axes that are not compatible \"\n"
     ]
    },
    {
     "data": {
      "image/png": "[encoded data removed]",
      "text/plain": [
       "<matplotlib.figure.Figure at 0x2aabf6c5c7b8>"
      ]
     },
     "metadata": {},
     "output_type": "display_data"
    }
   ],
   "source": [
    "import matplotlib as mpl\n",
    "f, axes = plt.subplots(nrows=2, ncols=3,\n",
    "                       subplot_kw={'projection': ccrs.Mercator()},\n",
    "                       gridspec_kw={'wspace':0.1, 'hspace':0},\n",
    "                       figsize=(8,3))\n",
    "\n",
    "st = f.suptitle('Corr(AMO, F$_{Nat}$)', fontsize=20)\n",
    "for i, ax in enumerate(axes.flat):\n",
    "    data = ds['r'].sel(ensemble=i)\n",
    "    data = np.ma.array(data, mask=np.isnan(mask))\n",
    "    ax.outline_patch.set_edgecolor('w')    \n",
    "    \n",
    "    # r-value pcolormesh\n",
    "    cmap = plt.cm.RdBu_r\n",
    "    p = ax.pcolormesh(ds['TLONG']-1, ds['TLAT'], data, \n",
    "                      transform=ccrs.PlateCarree(), vmin=-0.5, vmax=0.5,\n",
    "                      cmap=cmap)\n",
    "    p.cmap.set_under('#d3d3d3')\n",
    "    ax.add_feature(cfeature.LAND, facecolor='k')\n",
    "    \n",
    "    \n",
    "    # Labels\n",
    "    ax.text(-7, 30, str(ens[i]), color='w', transform=ccrs.Geodetic())\n",
    "\n",
    "f.tight_layout()\n",
    "f.subplots_adjust(top=0.85)\n",
    "st.set_y(0.95)\n",
    "\n",
    "# Colorbar\n",
    "cax,kw = mpl.colorbar.make_axes([ax for ax in axes.flat])\n",
    "cb = plt.colorbar(p, cax=cax, **kw)\n",
    "cb.set_label('R Value')"
   ]
  }
 ],
 "metadata": {
  "kernelspec": {
   "display_name": "Python 3",
   "language": "python",
   "name": "python3"
  },
  "language_info": {
   "codemirror_mode": {
    "name": "ipython",
    "version": 3
   },
   "file_extension": ".py",
   "mimetype": "text/x-python",
   "name": "python",
   "nbconvert_exporter": "python",
   "pygments_lexer": "ipython3",
   "version": "3.6.3"
  }
 },
 "nbformat": 4,
 "nbformat_minor": 2
}
