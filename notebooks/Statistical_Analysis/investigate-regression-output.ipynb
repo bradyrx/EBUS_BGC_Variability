{
 "metadata": {
  "kernelspec": {
   "display_name": "Python 3",
   "language": "python",
   "name": "python3"
  },
  "language_info": {
   "codemirror_mode": {
    "name": "ipython",
    "version": 3
   },
   "file_extension": ".py",
   "mimetype": "text/x-python",
   "name": "python",
   "nbconvert_exporter": "python",
   "pygments_lexer": "ipython3",
   "version": "3.6.1"
  },
  "name": ""
 },
 "nbformat": 3,
 "nbformat_minor": 0,
 "worksheets": [
  {
   "cells": [
    {
     "cell_type": "markdown",
     "metadata": {},
     "source": [
      "# Investigate Regression Output\n",
      "After running EBUS-Extraction to pull out the given upwelling system, I ran the climate-correlation.py script to correlate a near-offshore region of the EBUS with specific climate indices. This saves some CSV files with regression results that will now be interpreted here."
     ]
    },
    {
     "cell_type": "code",
     "collapsed": true,
     "input": [
      "# Numerics\n",
      "import numpy as np\n",
      "import pandas as pd\n",
      "import xarray as xr\n",
      "\n",
      "# Visualization\n",
      "import matplotlib.pyplot as plt\n",
      "%matplotlib inline\n",
      "import seaborn as sns"
     ],
     "language": "python",
     "metadata": {},
     "outputs": [],
     "prompt_number": 1
    },
    {
     "cell_type": "heading",
     "level": 1,
     "metadata": {},
     "source": [
      "Constants"
     ]
    },
    {
     "cell_type": "code",
     "collapsed": true,
     "input": [
      "EBUs = ['CalCS', 'HumCS', 'CanCS', 'BenCS']\n",
      "EBU_Atlantic = ['CanCS', 'BenCS']\n",
      "EBU_Pacific = ['CalCS', 'HumCS']\n",
      "colors = {\n",
      "    'CalCS': '#5ea46d',\n",
      "    'HumCS': '#9173c8',\n",
      "    'CanCS': '#b78f3b',\n",
      "    'BenCS': '#cd5664'\n",
      "}\n",
      "\n",
      "\n",
      "ens = ['001', '002', '009', '010', '011',\n",
      "       '012', '013', '014', '015', '016',\n",
      "       '017', '018', '019', '020', '021',\n",
      "       '022', '023', '024', '025', '026',\n",
      "       '027', '028', '029', '030', '031',\n",
      "       '032', '033', '034', '035', '101',\n",
      "       '102', '103', '104', '105']"
     ],
     "language": "python",
     "metadata": {},
     "outputs": [],
     "prompt_number": 2
    },
    {
     "cell_type": "heading",
     "level": 1,
     "metadata": {},
     "source": [
      "Functions"
     ]
    },
    {
     "cell_type": "code",
     "collapsed": true,
     "input": [
      "def setup_dataframes(EBU, df1, df2, df3, df4):\n",
      "    fileDir = '/glade/u/home/rbrady/projects/EBUS_BGC_Variability/data/processed/' + EBU.lower() + '/region_correlations/'\n",
      "    df1[EBU] = pd.DataFrame.from_csv(fileDir + 'smoothed_FG_CO2_vs_smoothed_enso_' + EBU)\n",
      "    df1[EBU].index = ens\n",
      "    df2[EBU] = pd.DataFrame.from_csv(fileDir + 'smoothed_FG_CO2_vs_smoothed_pdo_' + EBU)\n",
      "    df2[EBU].index = ens\n",
      "    df3[EBU] = pd.DataFrame.from_csv(fileDir + 'smoothed_FG_CO2_vs_smoothed_amo_' + EBU)\n",
      "    df3[EBU].index = ens\n",
      "    df4[EBU] = pd.DataFrame.from_csv(fileDir + 'smoothed_FG_CO2_vs_smoothed_sam_' + EBU)\n",
      "    df4[EBU].index = ens\n",
      "    return df1, df2, df3, df4"
     ],
     "language": "python",
     "metadata": {},
     "outputs": [],
     "prompt_number": 3
    },
    {
     "cell_type": "code",
     "collapsed": true,
     "input": [
      "def setup_dataframe(EBU, VAR, df):\n",
      "    fileDir = '/glade/u/home/rbrady/projects/EBUS_BGC_Variability/data/processed/' + EBU.lower() + '/region_correlations/'\n",
      "    df[EBU] = pd.DataFrame.from_csv(fileDir + 'smoothed_fgco2_vs_smoothed_' + VAR + '_' + EBU)\n",
      "    return df"
     ],
     "language": "python",
     "metadata": {},
     "outputs": [],
     "prompt_number": 4
    },
    {
     "cell_type": "code",
     "collapsed": true,
     "input": [
      "def remove_insignificant(df):\n",
      "    df = df[df['P-Value'] < 0.05]\n",
      "    return df"
     ],
     "language": "python",
     "metadata": {},
     "outputs": [],
     "prompt_number": 5
    },
    {
     "cell_type": "code",
     "collapsed": true,
     "input": [
      "def hist_plot(ax, data, title, EBU):\n",
      "    # Compute statistics for label.\n",
      "    mean = np.mean(data.values).round(2)\n",
      "    std = np.std(data.values).round(2)\n",
      "    label = EBU + ': ' + str(mean) + ' $\\pm$ ' + str(std)\n",
      "    # Plot\n",
      "    sns.distplot(data, kde=False, color=colors[EBU], norm_hist=False, bins=8, label=label)\n",
      "    ax.set_title(title + ' Correlation Distribution', size=25)\n",
      "    plt.tick_params(axis='both', which='major', labelsize=20)\n",
      "    plt.xlabel('R Value', size=20)\n",
      "    plt.ylabel('Number of Simulations', size=20)\n",
      "    plt.ylim([0, 14])\n",
      "    plt.xlim([-1, 1])\n",
      "    plt.plot([0, 0], [0, 14], linewidth=1, color='k')"
     ],
     "language": "python",
     "metadata": {},
     "outputs": [],
     "prompt_number": 6
    },
    {
     "cell_type": "heading",
     "level": 1,
     "metadata": {},
     "source": [
      "Climate Indices"
     ]
    },
    {
     "cell_type": "code",
     "collapsed": true,
     "input": [
      "# Pull in regression output to dataframes\n",
      "df_enso, df_pdo, df_amo, df_sam = ({} for i in range(4))\n",
      "for idx in EBUs:\n",
      "    df_enso, df_pdo, df_amo, df_sam = setup_dataframes(idx, df_enso, df_pdo, df_amo, df_sam)"
     ],
     "language": "python",
     "metadata": {},
     "outputs": [],
     "prompt_number": 7
    },
    {
     "cell_type": "code",
     "collapsed": true,
     "input": [
      "# Remove anything with p > 0.05\n",
      "for ii in EBUs:\n",
      "    df_enso[ii] = remove_insignificant(df_enso[ii])\n",
      "    df_pdo[ii] = remove_insignificant(df_pdo[ii])\n",
      "    df_amo[ii] = remove_insignificant(df_amo[ii])\n",
      "    df_sam[ii] = remove_insignificant(df_sam[ii])"
     ],
     "language": "python",
     "metadata": {},
     "outputs": [],
     "prompt_number": 8
    },
    {
     "cell_type": "heading",
     "level": 1,
     "metadata": {},
     "source": [
      "Other Variables"
     ]
    },
    {
     "cell_type": "code",
     "collapsed": true,
     "input": [
      "VAR = 'pCO2SURF'\n",
      "df_var = {}\n",
      "for idx in EBUs:\n",
      "    df_var = setup_dataframe(idx, VAR, df_var)\n",
      "    df_var[idx] = remove_insignificant(df_var[idx])"
     ],
     "language": "python",
     "metadata": {},
     "outputs": [],
     "prompt_number": 10
    },
    {
     "cell_type": "code",
     "collapsed": false,
     "input": [
      "sns.set_style('darkgrid')\n",
      "fig = plt.figure(figsize=(7,5))\n",
      "ax1 = fig.add_subplot(111)\n",
      "for idx in EBUs:\n",
      "    hist_plot(ax1, df_var[idx]['R Value'], VAR, idx)\n",
      "plt.legend(loc='best', handlelength=2, fontsize=14)    \n",
      "#plt.savefig(VAR + '-correlation-distributions.png')"
     ],
     "language": "python",
     "metadata": {},
     "outputs": [],
     "prompt_number": 11
    },
    {
     "cell_type": "heading",
     "level": 1,
     "metadata": {},
     "source": [
      "Playing with Lagged Correlations"
     ]
    },
    {
     "cell_type": "code",
     "collapsed": true,
     "input": [
      "# 4-MONTH LAGGED HUMCS ENSO\n",
      "fileDir = '/glade/u/home/rbrady/projects/EBUS_BGC_Variability/data/processed/humcs/'\n",
      "df_enso_4 = pd.DataFrame.from_csv(fileDir + 'smoothed_fgco2_vs_enso_HumCS_lag4')\n",
      "df_enso_4 = remove_insignificant(df_enso_4)\n",
      "\n",
      "# 5-MONTH LAGGED HUMCS ENSO\n",
      "fileDir = '/glade/u/home/rbrady/projects/EBUS_BGC_Variability/data/processed/humcs/'\n",
      "df_enso_5 = pd.DataFrame.from_csv(fileDir + 'smoothed_fgco2_vs_enso_HumCS_lag5')\n",
      "df_enso_5 = remove_insignificant(df_enso_5)\n",
      "\n",
      "# 6-MONTH LAGGED HUMCS ENSO\n",
      "fileDir = '/glade/u/home/rbrady/projects/EBUS_BGC_Variability/data/processed/humcs/'\n",
      "df_enso_6 = pd.DataFrame.from_csv(fileDir + 'smoothed_fgco2_vs_enso_HumCS_lag6')\n",
      "df_enso_6 = remove_insignificant(df_enso_6)\n",
      "\n",
      "\n",
      "sns.set_style('darkgrid')\n",
      "fig = plt.figure(figsize=(6,6))\n",
      "ax2 = fig.add_subplot(111)\n",
      "hist_plot(ax2, df_enso_5['R Value'], 'Nino3.4', 'HumCS', 'HumCS')\n",
      "plt.title('HumCS Nino3.4 Correlation Distribution' + '\\n' + 'ENSO 5-Month Lead', size=20)\n",
      "plt.savefig('humcs-smoothedFGCO2-enso-lag5-histograms.png')"
     ],
     "language": "python",
     "metadata": {},
     "outputs": [],
     "prompt_number": null
    },
    {
     "cell_type": "markdown",
     "metadata": {},
     "source": [
      "# Pacific vs. Atlantic R Scores\n"
     ]
    },
    {
     "cell_type": "code",
     "collapsed": false,
     "input": [
      "# PACIFIC SECTOR\n",
      "sns.set_style('darkgrid')\n",
      "fig = plt.figure(figsize=(18,14))\n",
      "ax1 = fig.add_subplot(221)\n",
      "for idx in EBU_Pacific:\n",
      "    hist_plot(ax1, df_enso[idx]['R Value'], 'Nino3.4', idx)\n",
      "    plt.legend(loc='best', handlelength=2, fontsize=16)\n",
      "ax2 = fig.add_subplot(222)\n",
      "for idx in EBU_Pacific:\n",
      "    hist_plot(ax2, df_pdo[idx]['R Value'], 'PDO', idx)\n",
      "    plt.legend(loc='best', handlelength=2, fontsize=16)\n",
      "ax3 = fig.add_subplot(223)\n",
      "for idx in EBU_Pacific:\n",
      "    hist_plot(ax3, df_amo[idx]['R Value'], 'AMO', idx)\n",
      "    plt.legend(loc='best', handlelength=2, fontsize=16)\n",
      "ax4 = fig.add_subplot(224)\n",
      "for idx in EBU_Pacific:\n",
      "    hist_plot(ax4, df_sam[idx]['R Value'], 'SAM', idx)\n",
      "    plt.legend(loc='best', handlelength=2, fontsize=16)\n",
      "    \n",
      "#plt.savefig(\"pacific-EBU-correlation-distributions-bothSmoothed.png\")\n",
      "plt.savefig('pacific-EBU-correlation-distributions-bothSmoothed.eps', transparent=False, format='eps', \n",
      "            bbox_inches='tight', pad_inches=1, dpi=1000)"
     ],
     "language": "python",
     "metadata": {},
     "outputs": [],
     "prompt_number": 37
    },
    {
     "cell_type": "code",
     "collapsed": false,
     "input": [
      "# ATLANTIC SECTOR\n",
      "sns.set_style('darkgrid')\n",
      "fig = plt.figure(figsize=(18,14))\n",
      "ax1 = fig.add_subplot(221)\n",
      "for idx in EBU_Atlantic:\n",
      "    hist_plot(ax1, df_enso[idx]['R Value'], 'Nino3.4', idx)\n",
      "    plt.legend(loc='best', handlelength=2, fontsize=16)\n",
      "ax2 = fig.add_subplot(222)\n",
      "for idx in EBU_Atlantic:\n",
      "    hist_plot(ax2, df_pdo[idx]['R Value'], 'PDO', idx)\n",
      "    plt.legend(loc='best', handlelength=2, fontsize=16)\n",
      "ax3 = fig.add_subplot(223)\n",
      "for idx in EBU_Atlantic:\n",
      "    hist_plot(ax3, df_amo[idx]['R Value'], 'AMO', idx)\n",
      "    plt.legend(loc='best', handlelength=2, fontsize=16)\n",
      "ax4 = fig.add_subplot(224)\n",
      "for idx in EBU_Atlantic:\n",
      "    hist_plot(ax4, df_sam[idx]['R Value'], 'SAM', idx)\n",
      "    plt.legend(loc='best', handlelength=2, fontsize=16)\n",
      "    \n",
      "#plt.savefig(\"atlantic-EBU-correlation-distributions-bothSmoothed.png\")\n",
      "plt.savefig('atlantic-EBU-correlation-distributions-bothSmoothed.eps', transparent=False, format='eps', \n",
      "            bbox_inches='tight', pad_inches=1, dpi=1000)"
     ],
     "language": "python",
     "metadata": {},
     "outputs": [],
     "prompt_number": 38
    },
    {
     "cell_type": "heading",
     "level": 1,
     "metadata": {},
     "source": [
      "Outputting to LaTeX"
     ]
    },
    {
     "cell_type": "code",
     "collapsed": true,
     "input": [
      "df = df_amo.copy()\n",
      "BASIN = 'Atlantic'\n",
      "\n",
      "###\n",
      "if BASIN.lower() == 'pacific':\n",
      "    df['CalCS'] = df['CalCS'].where(df['CalCS']['P-Value'] < 0.05)\n",
      "    df['HumCS'] = df['HumCS'].where(df['HumCS']['P-Value'] < 0.05)\n",
      "    #df['CalCS'] = df['CalCS'].fillna(value='-')\n",
      "    #df['HumCS'] = df['HumCS'].fillna(value='-')\n",
      "    df['CalCS'] = df['CalCS'].drop('P-Value', axis=1)\n",
      "    df['HumCS'] = df['HumCS'].drop('P-Value', axis=1)\n",
      "    df.pop('CanCS', None)\n",
      "    df.pop('BenCS', None)\n",
      "    frames = [df['CalCS'], df['HumCS']]\n",
      "elif BASIN.lower() == 'atlantic':\n",
      "    df['CanCS'] = df['CanCS'].where(df['CanCS']['P-Value'] < 0.05)\n",
      "    df['BenCS'] = df['BenCS'].where(df['BenCS']['P-Value'] < 0.05)\n",
      "    #df['CanCS'] = df['CanCS'].fillna(value='-')\n",
      "    #df['BenCS'] = df['BenCS'].fillna(value='-')\n",
      "    df['CanCS'] = df['CanCS'].drop('P-Value', axis=1)\n",
      "    df['BenCS'] = df['BenCS'].drop('P-Value', axis=1)\n",
      "    df.pop('CalCS', None)\n",
      "    df.pop('HumCS', None)\n",
      "    frames = [df['CanCS'], df['BenCS']]\n",
      "result = pd.concat(frames, axis=1)\n",
      "print result.round(2).to_latex()"
     ],
     "language": "python",
     "metadata": {},
     "outputs": [],
     "prompt_number": null
    },
    {
     "cell_type": "code",
     "collapsed": true,
     "input": [
      "EBUS = \"BenCS\"\n",
      "print \"mean slope: \" + str(np.nanmean(df[EBUS]['Slope'].values).round(2))\n",
      "print \"mean r: \" + str(np.nanmean(df[EBUS]['R Value'].values).round(2))\n",
      "print \"mean r2: \" + str(np.nanmean(df[EBUS]['R Squared'].values).round(2))\n",
      "print \"----------\"\n",
      "print \"std slope: \" + str(np.nanstd(df[EBUS]['Slope'].values).round(2))\n",
      "print \"std r: \" + str(np.nanstd(df[EBUS]['R Value'].values).round(2))\n",
      "print \"std r2: \" + str(np.nanstd(df[EBUS]['R Squared'].values).round(2))"
     ],
     "language": "python",
     "metadata": {},
     "outputs": [],
     "prompt_number": null
    }
   ],
   "metadata": {}
  }
 ]
}