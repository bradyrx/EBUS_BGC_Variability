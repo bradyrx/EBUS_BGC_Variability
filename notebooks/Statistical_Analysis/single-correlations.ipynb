{
 "metadata": {
  "kernelspec": {
   "display_name": "Python 3",
   "language": "python",
   "name": "python3"
  },
  "language_info": {
   "codemirror_mode": {
    "name": "ipython",
    "version": 3
   },
   "file_extension": ".py",
   "mimetype": "text/x-python",
   "name": "python",
   "nbconvert_exporter": "python",
   "pygments_lexer": "ipython3",
   "version": "3.6.6"
  },
  "name": "",
  "toc": {
   "base_numbering": 1,
   "nav_menu": {},
   "number_sections": true,
   "sideBar": true,
   "skip_h1_title": false,
   "title_cell": "Table of Contents",
   "title_sidebar": "Contents",
   "toc_cell": false,
   "toc_position": {},
   "toc_section_display": true,
   "toc_window_display": false
  },
  "varInspector": {
   "cols": {
    "lenName": 16,
    "lenType": 16,
    "lenVar": 40
   },
   "kernels_config": {
    "python": {
     "delete_cmd_postfix": "",
     "delete_cmd_prefix": "del ",
     "library": "var_list.py",
     "varRefreshCmd": "print(var_dic_list())"
    },
    "r": {
     "delete_cmd_postfix": ") ",
     "delete_cmd_prefix": "rm(",
     "library": "var_list.r",
     "varRefreshCmd": "cat(var_dic_list()) "
    }
   },
   "types_to_exclude": [
    "module",
    "function",
    "builtin_function_or_method",
    "instance",
    "_Feature"
   ],
   "window_display": false
  }
 },
 "nbformat": 3,
 "nbformat_minor": 0,
 "worksheets": [
  {
   "cells": [
    {
     "cell_type": "markdown",
     "metadata": {},
     "source": [
      "# Single Correlations\n",
      "\n",
      "Analog to investigate-regression-output but just for a single system and single variable."
     ]
    },
    {
     "cell_type": "code",
     "collapsed": false,
     "input": [
      "# Numerics\n",
      "import numpy as np\n",
      "import pandas as pd\n",
      "import xarray as xr\n",
      "import matplotlib.pyplot as plt\n",
      "%matplotlib inline\n",
      "plt.style.use('ocn-clim')\n",
      "import seaborn as sns\n",
      "import esmtools as et"
     ],
     "language": "python",
     "metadata": {},
     "outputs": [],
     "prompt_number": 1
    },
    {
     "cell_type": "heading",
     "level": 1,
     "metadata": {},
     "source": [
      "Functions"
     ]
    },
    {
     "cell_type": "code",
     "collapsed": false,
     "input": [
      "def load_correlation(EBU, VARX, VARY='FG_ALT_CO2', smooth=0, lag=0):\n",
      "    \"\"\"\n",
      "    Loads in the correlations between a predictor (VARX) and the predicted variable\n",
      "    within the EBUS (VARY, e.g. FG_ALT_CO2). You can designate the smoothing (in years)\n",
      "    and lag (in months). It automatically filters out any insignificant results.\n",
      "    \"\"\"\n",
      "    filepath = ('/glade/work/rbrady/EBUS_BGC_Variability/' +\n",
      "               'area_weighted_regional_regressions/' + EBU + '/' + VARY + '/' + VARX + '/')\n",
      "    if smooth == 0:\n",
      "        filename = (VARX + '.' + VARY + '.' + EBU + '.unsmoothed.area_weighted_regional_regression.'\n",
      "                    + 'lag' + str(lag) + '.nc')\n",
      "    else:\n",
      "        filename = (VARX + '.' + VARY + '.' + EBU + '.smoothed' + str(smooth) +\n",
      "                    '.area_weighted_regional_regression.lag' + str(lag) + '.nc')\n",
      "    ds = xr.open_dataset(filepath + filename)\n",
      "    ds = ds.where(ds.p < 0.1, drop=True)\n",
      "    df = ds['r'].to_dataframe()\n",
      "    df['smooth'] = int(smooth/12)\n",
      "    df['variable'] = VARY\n",
      "    df['lag'] = lag\n",
      "    df['index'] = VARX.upper()\n",
      "    df['p'] = ds['p']\n",
      "    return df"
     ],
     "language": "python",
     "metadata": {},
     "outputs": [],
     "prompt_number": 2
    },
    {
     "cell_type": "heading",
     "level": 1,
     "metadata": {},
     "source": [
      "Visualization: Strip Plot (Compare Indices)"
     ]
    },
    {
     "cell_type": "code",
     "collapsed": false,
     "input": [
      "df1 = load_correlation('HumCS', 'NINO34', VARY='FG_CO2', smooth=0)\n",
      "df2 = load_correlation('HumCS', 'NINO3', VARY='FG_CO2', smooth=0)\n",
      "df3 = load_correlation('HumCS', 'NINO4', VARY='FG_CO2', smooth=0)\n",
      "df4 = load_correlation('HumCS', 'NINO12', VARY='FG_CO2', smooth=0)"
     ],
     "language": "python",
     "metadata": {},
     "outputs": [],
     "prompt_number": 7
    },
    {
     "cell_type": "code",
     "collapsed": false,
     "input": [
      "df = pd.concat([df1,df2,df3,df4])"
     ],
     "language": "python",
     "metadata": {},
     "outputs": [],
     "prompt_number": 8
    },
    {
     "cell_type": "code",
     "collapsed": false,
     "input": [
      "sns.set_style('whitegrid')\n",
      "f = plt.figure(figsize=(10,5))\n",
      "ax = f.add_subplot(111)\n",
      "#sns.stripplot(x=\"r\", y=\"index\", data=df, orient='h',\n",
      "#              color='k', jitter=False, size=5)\n",
      "\n",
      "sns.violinplot(x='r', y='index', data=df, orient='h', color='#d3d3d3')\n",
      "\n",
      "sns.despine(left=True, bottom=True)\n",
      "#ax.set(xlim=[-0.2,0.4], ylabel='', xlabel='r-value', \n",
      "#       title='Canary Current F$_{\\mathrm{CO}_{2}}$ and Atlantic Variability')\n",
      "#ax.set_ylabel('Smoothing (yrs)')\n",
      "ax.set_xlabel('')\n",
      "ax.tick_params(labelsize=16)\n",
      "\n",
      "ax.plot([0,0],[-1,3.5],color='#a9a9a9',linewidth=1.5)\n",
      "\n",
      "# Save.\n",
      "#et.vis.savefig('CanCS_violin', extension='.eps', dpi=300)"
     ],
     "language": "python",
     "metadata": {},
     "outputs": [],
     "prompt_number": 10
    },
    {
     "cell_type": "heading",
     "level": 1,
     "metadata": {},
     "source": [
      "Visualization: Strip Plot (Compare lags and smoothing)"
     ]
    },
    {
     "cell_type": "code",
     "collapsed": false,
     "input": [
      "df = load_correlation('nino34')\n",
      "for i in [1,2,3,4,5]:\n",
      "    df = pd.concat([df, load_correlation('nino34', lag=i)])\n",
      "\n",
      "#for i in [1,2,3,4,5]:\n",
      "#    df = pd.concat([df, load_correlation('PDO', lag=i)])\n",
      "#for s in [12,24,36,48,60]:\n",
      "#    for i in range(6):\n",
      "#        df = pd.concat([df, load_correlation('PDO', lag=i, smooth=s)])"
     ],
     "language": "python",
     "metadata": {},
     "outputs": [],
     "prompt_number": null
    },
    {
     "cell_type": "code",
     "collapsed": false,
     "input": [
      "sns.set_style('whitegrid')\n",
      "f = plt.figure(figsize=(8,4)) \n",
      "ax = f.add_subplot(111)\n",
      "sns.stripplot(x=\"lag\", y=\"r\", color='k',\n",
      "              data=df, jitter=True)\n",
      "sns.despine(left=True, bottom=True)\n",
      "plt.legend(bbox_to_anchor=(1.05, 1), loc=2, borderaxespad=0.,\n",
      "           title=\"Lag (months)\")\n",
      "ax.set(ylabel='', xlabel='Smoothing (yrs)')\n",
      "ax.set_title('Corr(PDO, F$_{\\mathrm{Nat}}$)', fontsize='x-large')\n",
      "ax.set_ylim([0,0.75])"
     ],
     "language": "python",
     "metadata": {},
     "outputs": [],
     "prompt_number": null
    }
   ],
   "metadata": {}
  }
 ]
}