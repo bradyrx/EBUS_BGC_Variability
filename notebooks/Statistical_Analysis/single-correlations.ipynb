{
 "cells": [
  {
   "cell_type": "markdown",
   "metadata": {},
   "source": [
    "# Single Correlations\n",
    "\n",
    "Analog to investigate-regression-output but just for a single system and single variable."
   ]
  },
  {
   "cell_type": "code",
   "execution_count": 1,
   "metadata": {
    "collapsed": true
   },
   "outputs": [],
   "source": [
    "# Numerics\n",
    "import numpy as np\n",
    "import pandas as pd\n",
    "import xarray as xr\n",
    "import matplotlib.pyplot as plt\n",
    "%matplotlib inline\n",
    "plt.style.use('ocn-clim')\n",
    "import seaborn as sns"
   ]
  },
  {
   "cell_type": "markdown",
   "metadata": {},
   "source": [
    "# Functions"
   ]
  },
  {
   "cell_type": "code",
   "execution_count": 2,
   "metadata": {
    "collapsed": true
   },
   "outputs": [],
   "source": [
    "def load_correlation(VARX, VARY='FG_ALT_CO2', smooth=0, lag=0):\n",
    "    \"\"\"\n",
    "    Loads in the correlations between a predictor (VARX) and the predicted variable\n",
    "    within the EBUS (VARY, e.g. FG_ALT_CO2). You can designate the smoothing (in years)\n",
    "    and lag (in months). It automatically filters out any insignificant results.\n",
    "    \"\"\"\n",
    "    filepath = ('/glade/p/work/rbrady/EBUS_BGC_Variability/' +\n",
    "               'area_weighted_regional_regressions/CalCS/' + VARY + '/' + VARX + '/')\n",
    "    if smooth == 0:\n",
    "        filename = (VARX + '.' + VARY + '.CalCS.unsmoothed.area_weighted_regional_regression.'\n",
    "                    + 'lag' + str(lag) + '.nc')\n",
    "    else:\n",
    "        filename = (VARX + '.' + VARY + '.CalCS.smoothed' + str(smooth) +\n",
    "                    '.area_weighted_regional_regression.lag' + str(lag) + '.nc')\n",
    "    ds = xr.open_dataset(filepath + filename)\n",
    "    ds = ds.where(ds.p < 0.05, drop=True)\n",
    "    df = ds['r'].to_dataframe()\n",
    "    df['smooth'] = int(smooth/12)\n",
    "    df['variable'] = VARY\n",
    "    df['lag'] = lag\n",
    "    df['index'] = VARX.upper()\n",
    "    return df"
   ]
  },
  {
   "cell_type": "markdown",
   "metadata": {},
   "source": [
    "# Visualization: Strip Plot (Compare Indices)"
   ]
  },
  {
   "cell_type": "code",
   "execution_count": 156,
   "metadata": {},
   "outputs": [],
   "source": [
    "df1 = load_correlation('NPGO', VARY='EOF1', smooth=12)\n",
    "df2 = load_correlation('PDO', VARY='EOF1', smooth=12)\n",
    "df3 = load_correlation('NINO34', VARY='EOF1', smooth=12)"
   ]
  },
  {
   "cell_type": "code",
   "execution_count": 162,
   "metadata": {},
   "outputs": [
    {
     "data": {
      "text/plain": [
       "<matplotlib.legend.Legend at 0x2aaaf651e5f8>"
      ]
     },
     "execution_count": 162,
     "metadata": {},
     "output_type": "execute_result"
    },
    {
     "name": "stderr",
     "output_type": "stream",
     "text": [
      "/glade/u/home/rbrady/anaconda3/lib/python3.6/site-packages/matplotlib/font_manager.py:1297: UserWarning: findfont: Font family ['sans-serif'] not found. Falling back to DejaVu Sans\n",
      "  (prop.get_family(), self.defaultFamily[fontext]))\n"
     ]
    },
    {
     "data": {
      "image/png": "[encoded data removed]",
      "text/plain": [
       "<matplotlib.figure.Figure at 0x2aaaf6058cc0>"
      ]
     },
     "metadata": {},
     "output_type": "display_data"
    }
   ],
   "source": [
    "sns.set_style('whitegrid')\n",
    "f = plt.figure(figsize=(7,5))\n",
    "ax = f.add_subplot(111)\n",
    "sns.stripplot(x=\"r\", y=\"index\", data=df, hue=\"variable\",\n",
    "              jitter=False, size=6)\n",
    "sns.despine(left=True, bottom=True)\n",
    "ax.set(xlim=[0, 0.51], ylabel='', xlabel='R', \n",
    "       title='Corr(PDV, EOF1 CalCS F$_{\\mathrm{Nat}}$)')\n",
    "\n",
    "# Add mean lines.\n",
    "npgo_mean = df1['r'].median()\n",
    "plt.plot([npgo_mean, npgo_mean], [-0.25, 0.25], color='r', alpha=0.5)\n",
    "\n",
    "pdo_mean = df2['r'].median()\n",
    "plt.plot([pdo_mean, pdo_mean], [0.75, 1.25], color='r', alpha=0.5)\n",
    "\n",
    "enso_mean = df3['r'].median()\n",
    "plt.plot([enso_mean, enso_mean], [1.75, 2.25], color='r', alpha=0.5)\n",
    "\n",
    "plt.legend(bbox_to_anchor=(1.05, 1), loc=2, borderaxespad=0., fontsize=14)"
   ]
  },
  {
   "cell_type": "markdown",
   "metadata": {},
   "source": [
    "# Visualization: Strip Plot (Compare lags and smoothing)"
   ]
  },
  {
   "cell_type": "code",
   "execution_count": null,
   "metadata": {
    "collapsed": true
   },
   "outputs": [],
   "source": [
    "df = load_correlation('nino34')\n",
    "for i in [1,2,3,4,5]:\n",
    "    df = pd.concat([df, load_correlation('nino34', lag=i)])\n",
    "\n",
    "#for i in [1,2,3,4,5]:\n",
    "#    df = pd.concat([df, load_correlation('PDO', lag=i)])\n",
    "#for s in [12,24,36,48,60]:\n",
    "#    for i in range(6):\n",
    "#        df = pd.concat([df, load_correlation('PDO', lag=i, smooth=s)])"
   ]
  },
  {
   "cell_type": "code",
   "execution_count": null,
   "metadata": {
    "collapsed": true
   },
   "outputs": [],
   "source": [
    "sns.set_style('whitegrid')\n",
    "f = plt.figure(figsize=(8,4)) \n",
    "ax = f.add_subplot(111)\n",
    "sns.stripplot(x=\"lag\", y=\"r\", color='k',\n",
    "              data=df, jitter=True)\n",
    "sns.despine(left=True, bottom=True)\n",
    "plt.legend(bbox_to_anchor=(1.05, 1), loc=2, borderaxespad=0.,\n",
    "           title=\"Lag (months)\")\n",
    "ax.set(ylabel='', xlabel='Smoothing (yrs)')\n",
    "ax.set_title('Corr(PDO, F$_{\\mathrm{Nat}}$)', fontsize='x-large')\n",
    "ax.set_ylim([0,0.75])"
   ]
  }
 ],
 "metadata": {
  "kernelspec": {
   "display_name": "Python 3",
   "language": "python",
   "name": "python3"
  },
  "language_info": {
   "codemirror_mode": {
    "name": "ipython",
    "version": 3
   },
   "file_extension": ".py",
   "mimetype": "text/x-python",
   "name": "python",
   "nbconvert_exporter": "python",
   "pygments_lexer": "ipython3",
   "version": "3.6.1"
  }
 },
 "nbformat": 4,
 "nbformat_minor": 2
}
