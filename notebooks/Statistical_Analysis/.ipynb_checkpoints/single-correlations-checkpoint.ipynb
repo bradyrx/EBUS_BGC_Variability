{
 "cells": [
  {
   "cell_type": "markdown",
   "metadata": {},
   "source": [
    "# Single Correlations\n",
    "\n",
    "Analog to investigate-regression-output but just for a single system and single variable."
   ]
  },
  {
   "cell_type": "code",
   "execution_count": 1,
   "metadata": {},
   "outputs": [],
   "source": [
    "# Numerics\n",
    "import numpy as np\n",
    "import pandas as pd\n",
    "import xarray as xr\n",
    "import matplotlib.pyplot as plt\n",
    "%matplotlib inline\n",
    "plt.style.use('ocn-clim')\n",
    "import seaborn as sns\n",
    "import esmtools as et"
   ]
  },
  {
   "cell_type": "markdown",
   "metadata": {},
   "source": [
    "# Functions"
   ]
  },
  {
   "cell_type": "code",
   "execution_count": 2,
   "metadata": {},
   "outputs": [],
   "source": [
    "def load_correlation(EBU, VARX, VARY='FG_ALT_CO2', smooth=0, lag=0):\n",
    "    \"\"\"\n",
    "    Loads in the correlations between a predictor (VARX) and the predicted variable\n",
    "    within the EBUS (VARY, e.g. FG_ALT_CO2). You can designate the smoothing (in years)\n",
    "    and lag (in months). It automatically filters out any insignificant results.\n",
    "    \"\"\"\n",
    "    filepath = ('/glade/p/work/rbrady/EBUS_BGC_Variability/' +\n",
    "               'area_weighted_regional_regressions/' + EBU + '/' + VARY + '/' + VARX + '/')\n",
    "    if smooth == 0:\n",
    "        filename = (VARX + '.' + VARY + '.' + EBU + '.unsmoothed.area_weighted_regional_regression.'\n",
    "                    + 'lag' + str(lag) + '.nc')\n",
    "    else:\n",
    "        filename = (VARX + '.' + VARY + '.' + EBU + '.smoothed' + str(smooth) +\n",
    "                    '.area_weighted_regional_regression.lag' + str(lag) + '.nc')\n",
    "    ds = xr.open_dataset(filepath + filename)\n",
    "    ds = ds.where(ds.p < 0.1, drop=True)\n",
    "    df = ds['r'].to_dataframe()\n",
    "    df['smooth'] = int(smooth/12)\n",
    "    df['variable'] = VARY\n",
    "    df['lag'] = lag\n",
    "    df['index'] = VARX.upper()\n",
    "    df['p'] = ds['p']\n",
    "    return df"
   ]
  },
  {
   "cell_type": "markdown",
   "metadata": {},
   "source": [
    "# Visualization: Strip Plot (Compare Indices)"
   ]
  },
  {
   "cell_type": "code",
   "execution_count": 53,
   "metadata": {},
   "outputs": [],
   "source": [
    "df1 = load_correlation('CanCS', 'AMOC', VARY='FG_CO2', smooth=1)\n",
    "df2 = load_correlation('CanCS', 'NAO', VARY='FG_CO2', smooth=12)\n",
    "df3 = load_correlation('CanCS', 'AMO', VARY='FG_CO2', smooth=0)"
   ]
  },
  {
   "cell_type": "code",
   "execution_count": 55,
   "metadata": {},
   "outputs": [],
   "source": [
    "df = pd.concat([df1,df2,df3])"
   ]
  },
  {
   "cell_type": "code",
   "execution_count": 58,
   "metadata": {},
   "outputs": [
    {
     "data": {
      "image/png": "[encoded data removed]",
      "text/plain": [
       "<Figure size 720x360 with 1 Axes>"
      ]
     },
     "metadata": {},
     "output_type": "display_data"
    }
   ],
   "source": [
    "sns.set_style('whitegrid')\n",
    "f = plt.figure(figsize=(10,5))\n",
    "ax = f.add_subplot(111)\n",
    "#sns.stripplot(x=\"r\", y=\"index\", data=df, orient='h',\n",
    "#              color='k', jitter=False, size=5)\n",
    "\n",
    "sns.violinplot(x='r', y='index', data=df, orient='h', color='#d3d3d3')\n",
    "\n",
    "sns.despine(left=True, bottom=True)\n",
    "ax.set(xlim=[-0.2,0.4], ylabel='', xlabel='r-value', \n",
    "       title='Canary Current F$_{\\mathrm{CO}_{2}}$ and Atlantic Variability')\n",
    "#ax.set_ylabel('Smoothing (yrs)')\n",
    "ax.set_xlabel('')\n",
    "ax.tick_params(labelsize=16)\n",
    "\n",
    "ax.plot([0,0],[-1,3.5],color='#a9a9a9',linewidth=1.5)\n",
    "\n",
    "# Save.\n",
    "#et.vis.savefig('CanCS_violin', extension='.eps', dpi=300)"
   ]
  },
  {
   "cell_type": "markdown",
   "metadata": {},
   "source": [
    "# Visualization: Strip Plot (Compare lags and smoothing)"
   ]
  },
  {
   "cell_type": "code",
   "execution_count": null,
   "metadata": {},
   "outputs": [],
   "source": [
    "df = load_correlation('nino34')\n",
    "for i in [1,2,3,4,5]:\n",
    "    df = pd.concat([df, load_correlation('nino34', lag=i)])\n",
    "\n",
    "#for i in [1,2,3,4,5]:\n",
    "#    df = pd.concat([df, load_correlation('PDO', lag=i)])\n",
    "#for s in [12,24,36,48,60]:\n",
    "#    for i in range(6):\n",
    "#        df = pd.concat([df, load_correlation('PDO', lag=i, smooth=s)])"
   ]
  },
  {
   "cell_type": "code",
   "execution_count": null,
   "metadata": {},
   "outputs": [],
   "source": [
    "sns.set_style('whitegrid')\n",
    "f = plt.figure(figsize=(8,4)) \n",
    "ax = f.add_subplot(111)\n",
    "sns.stripplot(x=\"lag\", y=\"r\", color='k',\n",
    "              data=df, jitter=True)\n",
    "sns.despine(left=True, bottom=True)\n",
    "plt.legend(bbox_to_anchor=(1.05, 1), loc=2, borderaxespad=0.,\n",
    "           title=\"Lag (months)\")\n",
    "ax.set(ylabel='', xlabel='Smoothing (yrs)')\n",
    "ax.set_title('Corr(PDO, F$_{\\mathrm{Nat}}$)', fontsize='x-large')\n",
    "ax.set_ylim([0,0.75])"
   ]
  }
 ],
 "metadata": {
  "kernelspec": {
   "display_name": "Python 3",
   "language": "python",
   "name": "python3"
  },
  "language_info": {
   "codemirror_mode": {
    "name": "ipython",
    "version": 3
   },
   "file_extension": ".py",
   "mimetype": "text/x-python",
   "name": "python",
   "nbconvert_exporter": "python",
   "pygments_lexer": "ipython3",
   "version": "3.6.5"
  }
 },
 "nbformat": 4,
 "nbformat_minor": 2
}
