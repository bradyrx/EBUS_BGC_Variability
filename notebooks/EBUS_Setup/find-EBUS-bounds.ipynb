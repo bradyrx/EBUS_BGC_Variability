{
 "metadata": {
  "kernelspec": {
   "display_name": "Python 2",
   "language": "python",
   "name": "python2"
  },
  "language_info": {
   "codemirror_mode": {
    "name": "ipython",
    "version": 2
   },
   "file_extension": ".py",
   "mimetype": "text/x-python",
   "name": "python",
   "nbconvert_exporter": "python",
   "pygments_lexer": "ipython2",
   "version": "2.7.7"
  },
  "name": ""
 },
 "nbformat": 3,
 "nbformat_minor": 0,
 "worksheets": [
  {
   "cells": [
    {
     "cell_type": "markdown",
     "metadata": {},
     "source": [
      "# Find EBUS Bounds\n",
      "- This notebook was used to experiment with how big of a 'hyperslab' to pull out for each region. Mainly, I had to figure out how to deal with going across the Prime Meridian (350E - 0 - 10 E . . .) for Benguela.\n",
      "- These bounds are included in an if-statement function in the EBUS-Extraction script."
     ]
    },
    {
     "cell_type": "code",
     "collapsed": true,
     "input": [
      "import numpy as np\n",
      "import pandas as pd\n",
      "import xarray as xr\n",
      "\n",
      "# Visualization\n",
      "import matplotlib.pyplot as plt\n",
      "%matplotlib inline\n",
      "from mpl_toolkits.basemap import Basemap"
     ],
     "language": "python",
     "metadata": {},
     "outputs": [],
     "prompt_number": 10
    },
    {
     "cell_type": "code",
     "collapsed": true,
     "input": [
      "def setup_map(ax, lon, lat):\n",
      "    m = Basemap(projection='eqdc',\n",
      "                lat_0=np.nanmedian(lat),\n",
      "                lon_0=np.nanmedian(lon),\n",
      "                llcrnrlon=np.nanmin(lon),\n",
      "                urcrnrlon=np.nanmax(lon),\n",
      "                llcrnrlat=np.nanmin(lat),\n",
      "                urcrnrlat=np.nanmax(lat),\n",
      "                resolution='c')\n",
      "    m.drawcoastlines()\n",
      "    m.fillcontinents(color='black')\n",
      "    m.drawmapboundary(fill_color='white')\n",
      "    m.drawparallels(np.arange(np.floor(np.nanmin(lat)), \n",
      "                              np.ceil(np.nanmax(lat)), 3),\n",
      "                   labels=[True,False,False,False])\n",
      "    m.drawmeridians(np.arange(np.floor(np.nanmin(lon)), \n",
      "                              np.ceil(np.nanmax(lon)), 3),\n",
      "                   labels=[False, False, True, False])\n",
      "    return m"
     ],
     "language": "python",
     "metadata": {},
     "outputs": [],
     "prompt_number": 11
    },
    {
     "cell_type": "code",
     "collapsed": true,
     "input": [
      "def detect_EBUS(x):\n",
      "    if x == \"CalCS\":\n",
      "        lat1 = 25\n",
      "        lat2 = 46\n",
      "        lon1 = 215\n",
      "        lon2 = 260\n",
      "        return lat1, lat2, lon1, lon2\n",
      "    elif x == \"BenCS\":\n",
      "        print \"Benguela.\"\n",
      "    else:\n",
      "        raise ValueError('\\n' + 'Must select from the following EBUS strings:' + '\\n' + \n",
      "                         'CalCS' + '\\n' + 'BenCS' + '\\n' + 'CanCS' + '\\n' + 'HumCS')"
     ],
     "language": "python",
     "metadata": {},
     "outputs": [],
     "prompt_number": 12
    },
    {
     "cell_type": "code",
     "collapsed": true,
     "input": [
      "def find_indices(latGrid, lonGrid, latPoint, lonPoint):\n",
      "    dx = lonGrid - lonPoint\n",
      "    dy = latGrid - latPoint\n",
      "    reducedGrid = abs(dx) + abs(dy)\n",
      "    min_ix = np.nanargmin(reducedGrid)\n",
      "    i, j = np.unravel_index(min_ix, reducedGrid.shape)\n",
      "    return i, j"
     ],
     "language": "python",
     "metadata": {},
     "outputs": [],
     "prompt_number": 13
    },
    {
     "cell_type": "code",
     "collapsed": true,
     "input": [
      "fileDir = '/glade2/scratch2/rbrady/fgco2_monthly/'\n",
      "fileName = 'reduced.FG_CO2.001.192001-210012.nc'\n",
      "ds = xr.open_dataset(fileDir + fileName, decode_times=False)"
     ],
     "language": "python",
     "metadata": {},
     "outputs": [],
     "prompt_number": 15
    },
    {
     "cell_type": "code",
     "collapsed": true,
     "input": [
      "pandaTimes = pd.date_range('1920-01', '2101-01', freq='M')\n",
      "ds['FG_CO2'] = ds['FG_CO2'] * ((-1 * 3600 * 24 * 365.25) / (1000 * 100))\n",
      "ds['time'] = pandaTimes\n",
      "del ds['time_bound']\n",
      "del ds['d2']\n",
      "ds.attrs = {}"
     ],
     "language": "python",
     "metadata": {},
     "outputs": [],
     "prompt_number": 16
    },
    {
     "cell_type": "markdown",
     "metadata": {},
     "source": [
      "# Peruvian Bounds\n",
      "- 16S to 6S\n",
      "- ~85W to 70W"
     ]
    },
    {
     "cell_type": "code",
     "collapsed": true,
     "input": [
      "ds_peru = ds.copy()\n",
      "a, c = find_indices(ds['TLAT'].values, ds['TLONG'].values, -20, 260)\n",
      "b, d = find_indices(ds['TLAT'].values, ds['TLONG'].values, 0, 290)"
     ],
     "language": "python",
     "metadata": {},
     "outputs": [],
     "prompt_number": null
    },
    {
     "cell_type": "code",
     "collapsed": true,
     "input": [
      "ds_peru = ds_peru.sel(nlat=slice(a, b), nlon=slice(c, d), time=slice('1920-01', '2005-12'))"
     ],
     "language": "python",
     "metadata": {},
     "outputs": [],
     "prompt_number": null
    },
    {
     "cell_type": "code",
     "collapsed": true,
     "input": [
      "lon = ds_peru['TLONG'].values\n",
      "lat = ds_peru['TLAT'].values\n",
      "data = ds_peru['FG_CO2'][0].values"
     ],
     "language": "python",
     "metadata": {},
     "outputs": [],
     "prompt_number": null
    },
    {
     "cell_type": "code",
     "collapsed": true,
     "input": [
      "fig = plt.figure(figsize=(6,6))\n",
      "ax = fig.add_subplot(111)\n",
      "m = setup_map(ax, lon, lat)\n",
      "m.contourf(lon, lat, data, np.arange(-2, 2.1, 0.25),\n",
      "           latlon=True, cmap=\"RdBu_r\", extend=\"both\")\n",
      "m.colorbar(location=\"bottom\")"
     ],
     "language": "python",
     "metadata": {},
     "outputs": [],
     "prompt_number": null
    },
    {
     "cell_type": "code",
     "collapsed": true,
     "input": [
      "ds_peru = ds_peru.where(ds_peru['TLAT'] <= -6).where(ds_peru['TLAT'] >= -16)"
     ],
     "language": "python",
     "metadata": {},
     "outputs": [],
     "prompt_number": null
    },
    {
     "cell_type": "code",
     "collapsed": true,
     "input": [
      "lon = ds_peru['TLONG'].values\n",
      "lat = ds_peru['TLAT'].values\n",
      "data = ds_peru['FG_CO2'][0].values\n",
      "\n",
      "fig = plt.figure(figsize=(6,6))\n",
      "ax = fig.add_subplot(111)\n",
      "m = setup_map(ax, lon, lat)\n",
      "m.contourf(lon, lat, data, np.arange(-2, 2.1, 0.25),\n",
      "           latlon=True, cmap=\"RdBu_r\", extend=\"both\")\n",
      "m.colorbar(location=\"bottom\")"
     ],
     "language": "python",
     "metadata": {},
     "outputs": [],
     "prompt_number": null
    },
    {
     "cell_type": "markdown",
     "metadata": {},
     "source": [
      "# Canary Bounds\n",
      "- 12N to 22N\n",
      "- 25W to 10W"
     ]
    },
    {
     "cell_type": "code",
     "collapsed": true,
     "input": [
      "ds_canary = ds.copy()\n",
      "a, c = find_indices(ds['TLAT'].values, ds['TLONG'].values, 10, 330)\n",
      "b, d = find_indices(ds['TLAT'].values, ds['TLONG'].values, 24, 355)"
     ],
     "language": "python",
     "metadata": {},
     "outputs": [],
     "prompt_number": null
    },
    {
     "cell_type": "code",
     "collapsed": true,
     "input": [
      "ds_canary = ds_canary.sel(nlat=slice(a, b), nlon=slice(c, d), time=slice('1920-01', '2005-12'))"
     ],
     "language": "python",
     "metadata": {},
     "outputs": [],
     "prompt_number": null
    },
    {
     "cell_type": "code",
     "collapsed": true,
     "input": [
      "lon = ds_canary['TLONG'].values\n",
      "lat = ds_canary['TLAT'].values\n",
      "data = ds_canary['FG_CO2'][0].values"
     ],
     "language": "python",
     "metadata": {},
     "outputs": [],
     "prompt_number": null
    },
    {
     "cell_type": "code",
     "collapsed": true,
     "input": [
      "fig = plt.figure(figsize=(6,6))\n",
      "ax = fig.add_subplot(111)\n",
      "m = setup_map(ax, lon, lat)\n",
      "m.contourf(lon, lat, data, np.arange(-2, 2.1, 0.25),\n",
      "           latlon=True, cmap=\"RdBu_r\", extend=\"both\")\n",
      "m.colorbar(location=\"bottom\")"
     ],
     "language": "python",
     "metadata": {},
     "outputs": [],
     "prompt_number": null
    },
    {
     "cell_type": "code",
     "collapsed": true,
     "input": [
      "ds_canary = ds_canary.where(ds_canary['TLAT'] <= 22).where(ds_canary['TLAT'] >= 12)"
     ],
     "language": "python",
     "metadata": {},
     "outputs": [],
     "prompt_number": null
    },
    {
     "cell_type": "code",
     "collapsed": true,
     "input": [
      "lon = ds_canary['TLONG'].values\n",
      "lat = ds_canary['TLAT'].values\n",
      "data = ds_canary['FG_CO2'][0].values"
     ],
     "language": "python",
     "metadata": {},
     "outputs": [],
     "prompt_number": null
    },
    {
     "cell_type": "code",
     "collapsed": true,
     "input": [
      "fig = plt.figure(figsize=(6,6))\n",
      "ax = fig.add_subplot(111)\n",
      "m = setup_map(ax, lon, lat)\n",
      "m.contourf(lon, lat, data, np.arange(-2, 2.1, 0.25),\n",
      "           latlon=True, cmap=\"RdBu_r\", extend=\"both\")\n",
      "m.colorbar(location=\"bottom\")"
     ],
     "language": "python",
     "metadata": {},
     "outputs": [],
     "prompt_number": null
    },
    {
     "cell_type": "markdown",
     "metadata": {},
     "source": [
      "# Benguela Bounds\n",
      "- 28S to 18S\n",
      "- 5E to 20E"
     ]
    },
    {
     "cell_type": "code",
     "collapsed": true,
     "input": [
      "ds_ben = ds.copy()\n",
      "lon = np.asarray(ds_ben['TLONG'])\n",
      "for x in np.nditer(lon, op_flags=['readwrite']):\n",
      "    if x > 180:\n",
      "        x[...] = x - 360\n",
      "ds_ben['TLONG'] = (('nlat', 'nlon'), lon)"
     ],
     "language": "python",
     "metadata": {},
     "outputs": [],
     "prompt_number": null
    },
    {
     "cell_type": "code",
     "collapsed": true,
     "input": [
      "ds_ben = ds.copy()\n",
      "lon = np.asarray(ds_ben['TLONG'])\n",
      "mask = lon > 180\n",
      "lon[mask] = lon[mask] - 360\n",
      "ds_ben['TLONG'] = (('nlat', 'nlon'), lon)"
     ],
     "language": "python",
     "metadata": {},
     "outputs": [],
     "prompt_number": 32
    },
    {
     "cell_type": "code",
     "collapsed": false,
     "input": [
      "lon"
     ],
     "language": "python",
     "metadata": {},
     "outputs": [],
     "prompt_number": 33
    },
    {
     "cell_type": "code",
     "collapsed": true,
     "input": [
      "a, c = find_indices(ds['TLAT'].values, ds['TLONG'].values, -30, -10)\n",
      "b, d = find_indices(ds['TLAT'].values, ds['TLONG'].values, -16, 20)"
     ],
     "language": "python",
     "metadata": {},
     "outputs": [],
     "prompt_number": 22
    },
    {
     "cell_type": "code",
     "collapsed": true,
     "input": [
      "ds_ben = ds_ben.sel(nlat=slice(a, b), nlon=slice(c, d), time=slice('1920-01', '2005-12'))"
     ],
     "language": "python",
     "metadata": {},
     "outputs": [],
     "prompt_number": 23
    },
    {
     "cell_type": "code",
     "collapsed": true,
     "input": [
      "lon = ds_ben['TLONG'].values\n",
      "lat = ds_ben['TLAT'].values\n",
      "data = ds_ben['FG_CO2'].mean(dim='time').values"
     ],
     "language": "python",
     "metadata": {},
     "outputs": [],
     "prompt_number": 24
    },
    {
     "cell_type": "code",
     "collapsed": false,
     "input": [
      "fig = plt.figure(figsize=(6,6))\n",
      "ax = fig.add_subplot(111)\n",
      "m = setup_map(ax, lon, lat)\n",
      "m.contourf(lon, lat, data, np.arange(-2, 2.1, 0.25),\n",
      "           latlon=True, cmap=\"RdBu_r\", extend=\"both\")\n",
      "m.colorbar(location=\"bottom\")"
     ],
     "language": "python",
     "metadata": {},
     "outputs": [],
     "prompt_number": 25
    },
    {
     "cell_type": "code",
     "collapsed": true,
     "input": [
      "ds_ben = ds_ben.where(ds_ben['TLAT'] >= -28).where(ds_ben['TLAT'] <=-18)"
     ],
     "language": "python",
     "metadata": {},
     "outputs": [],
     "prompt_number": 26
    },
    {
     "cell_type": "code",
     "collapsed": true,
     "input": [
      "lon = ds_ben['TLONG'].values\n",
      "lat = ds_ben['TLAT'].values\n",
      "data = ds_ben['FG_CO2'].mean(dim='time').values"
     ],
     "language": "python",
     "metadata": {},
     "outputs": [],
     "prompt_number": 27
    },
    {
     "cell_type": "code",
     "collapsed": false,
     "input": [
      "fig = plt.figure(figsize=(6,6))\n",
      "ax = fig.add_subplot(111)\n",
      "m = setup_map(ax, lon, lat)\n",
      "m.contourf(lon, lat, data, np.arange(-2, 2.1, 0.25),\n",
      "           latlon=True, cmap=\"RdBu_r\", extend=\"both\")\n",
      "m.colorbar(location=\"bottom\")"
     ],
     "language": "python",
     "metadata": {},
     "outputs": [],
     "prompt_number": 28
    }
   ],
   "metadata": {}
  }
 ]
}