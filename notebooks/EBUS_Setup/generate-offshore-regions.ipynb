{
 "metadata": {
  "kernelspec": {
   "display_name": "Python 2",
   "language": "python",
   "name": "python2"
  },
  "language_info": {
   "codemirror_mode": {
    "name": "ipython",
    "version": 2
   },
   "file_extension": ".py",
   "mimetype": "text/x-python",
   "name": "python",
   "nbconvert_exporter": "python",
   "pygments_lexer": "ipython2",
   "version": "2.7.7"
  },
  "name": ""
 },
 "nbformat": 3,
 "nbformat_minor": 0,
 "worksheets": [
  {
   "cells": [
    {
     "cell_type": "markdown",
     "metadata": {
      "collapsed": true
     },
     "source": [
      "# Generate Distinct Offshore Regions for EBUS Analysis\n",
      "- This notebook was a playground to figure out how to select an offshore range for each EBUS, regardless of the latitude. I used DXT (the distance between cells in X direction) and created a variable for the cumulative offshore sum in km. Then you can selectively choose an offshore distance.\n",
      "- These ideas have been incorporated in the climate-correlation script."
     ]
    },
    {
     "cell_type": "code",
     "collapsed": true,
     "input": [
      "import glob\n",
      "\n",
      "# Numerics\n",
      "import numpy as np\n",
      "import pandas as pd\n",
      "import xarray as xr\n",
      "\n",
      "# Visualization\n",
      "import matplotlib.pyplot as plt\n",
      "%matplotlib inline\n",
      "from mpl_toolkits.basemap import Basemap"
     ],
     "language": "python",
     "metadata": {},
     "outputs": [],
     "prompt_number": 1
    },
    {
     "cell_type": "code",
     "collapsed": true,
     "input": [
      "def setup_map(ax, lon, lat):\n",
      "    m = Basemap(projection='eqdc',\n",
      "                lat_0=np.nanmedian(lat),\n",
      "                lon_0=np.nanmedian(lon),\n",
      "                llcrnrlon=np.nanmin(lon),\n",
      "                urcrnrlon=np.nanmax(lon),\n",
      "                llcrnrlat=np.nanmin(lat),\n",
      "                urcrnrlat=np.nanmax(lat),\n",
      "                resolution='c')\n",
      "    m.drawcoastlines()\n",
      "    m.fillcontinents(color='black')\n",
      "    m.drawmapboundary(fill_color='white')\n",
      "    m.drawparallels(np.arange(np.floor(np.nanmin(lat)), \n",
      "                              np.ceil(np.nanmax(lat)), 3),\n",
      "                   labels=[True,False,False,False])\n",
      "    m.drawmeridians(np.arange(np.floor(np.nanmin(lon)), \n",
      "                              np.ceil(np.nanmax(lon)), 3),\n",
      "                   labels=[False, False, False, False])\n",
      "    return m"
     ],
     "language": "python",
     "metadata": {},
     "outputs": [],
     "prompt_number": 2
    },
    {
     "cell_type": "code",
     "collapsed": true,
     "input": [
      "def drop_ensemble_dim(x):\n",
      "    ds[x] = (('nlat', 'nlon'), ds[x][0])\n",
      "    return ds"
     ],
     "language": "python",
     "metadata": {},
     "outputs": [],
     "prompt_number": 3
    },
    {
     "cell_type": "code",
     "collapsed": true,
     "input": [
      "# Load in dataset.\n",
      "fileDir = '/glade/p/work/rbrady/EBUS_BGC_Variability/FG_CO2/'\n",
      "#fileName = 'FG_CO2.001.CCS.192001-201512.nc'\n",
      "ds = xr.open_mfdataset(fileDir + \"*.nc\", concat_dim=\"ensemble\")"
     ],
     "language": "python",
     "metadata": {},
     "outputs": [],
     "prompt_number": 4
    },
    {
     "cell_type": "code",
     "collapsed": true,
     "input": [
      "# Reduce ensemble dimension for some\n",
      "ds = drop_ensemble_dim('DXT')\n",
      "ds = drop_ensemble_dim('TAREA')\n",
      "ds = drop_ensemble_dim('REGION_MASK')\n",
      "ds = drop_ensemble_dim('TLAT')\n",
      "ds = drop_ensemble_dim('TLONG')\n",
      "del ds['DYT']\n",
      "del ds['ANGLET']"
     ],
     "language": "python",
     "metadata": {},
     "outputs": [],
     "prompt_number": 5
    },
    {
     "cell_type": "code",
     "collapsed": true,
     "input": [
      "ds['DXT'] = ds['DXT'] / 100 / 1000 # Convert to km"
     ],
     "language": "python",
     "metadata": {},
     "outputs": [],
     "prompt_number": 6
    },
    {
     "cell_type": "code",
     "collapsed": true,
     "input": [
      "ds.attrs['DXT units'] = \"km\""
     ],
     "language": "python",
     "metadata": {},
     "outputs": [],
     "prompt_number": 7
    },
    {
     "cell_type": "code",
     "collapsed": false,
     "input": [
      "ds"
     ],
     "language": "python",
     "metadata": {},
     "outputs": [],
     "prompt_number": 8
    },
    {
     "cell_type": "markdown",
     "metadata": {},
     "source": [
      "# Plot the main output domain\n",
      "- First let's take an unfiltered look at the spatial region"
     ]
    },
    {
     "cell_type": "code",
     "collapsed": false,
     "input": [
      "lon = ds['TLONG']\n",
      "lat = ds['TLAT']\n",
      "data = ds['FG_CO2'].mean(dim='ensemble').mean(dim='time')\n",
      "\n",
      "fig = plt.figure(figsize=(4,4))\n",
      "ax1 = fig.add_subplot(111)\n",
      "m = setup_map(ax1, lon.values, lat.values)\n",
      "m.contourf(lon.values, lat.values, data.values, np.arange(-2,2.1,0.25), latlon=True,\n",
      "          cmap=\"RdBu_r\", extend=\"both\")\n",
      "m.colorbar(location=\"bottom\", ticks=[-2, -1, 0, 1, 2])"
     ],
     "language": "python",
     "metadata": {},
     "outputs": [],
     "prompt_number": 9
    },
    {
     "cell_type": "markdown",
     "metadata": {},
     "source": [
      "# Filter out the latitude\n",
      "- Now take out everything south of some location"
     ]
    },
    {
     "cell_type": "code",
     "collapsed": true,
     "input": [
      "# Filter the whole dataset to within latitude bands.\n",
      "ds = ds.where(ds.TLAT > 34).where(ds.TLAT < 44)\n",
      "\n",
      "# Create a masked array for DXT since it doesn't follow the same NaN structure as co2/region_mask.\n",
      "co2 = ds['FG_CO2'][0,0]\n",
      "co2 = np.ma.array(co2, mask=np.isnan(co2))\n",
      "\n",
      "# Apply mask to DXT and replace in dataset.\n",
      "dxt_dat = ds['DXT']\n",
      "dxt_dat = np.ma.array(dxt_dat, mask=np.isnan(co2))\n",
      "ds['DXT'] = (('nlat', 'nlon'), dxt_dat)"
     ],
     "language": "python",
     "metadata": {},
     "outputs": [],
     "prompt_number": 10
    },
    {
     "cell_type": "code",
     "collapsed": true,
     "input": [
      "regmask = ds['REGION_MASK']\n",
      "counter = 0\n",
      "for row in regmask:\n",
      "    conditional = 0 in row.values\n",
      "    if conditional == False:\n",
      "        ds['DXT'][counter, :] = np.nan            \n",
      "    counter += 1"
     ],
     "language": "python",
     "metadata": {},
     "outputs": [],
     "prompt_number": 11
    },
    {
     "cell_type": "code",
     "collapsed": false,
     "input": [
      "ds['DXT'].plot()"
     ],
     "language": "python",
     "metadata": {},
     "outputs": [],
     "prompt_number": 12
    },
    {
     "cell_type": "code",
     "collapsed": true,
     "input": [
      "# Now create a cumulative sum of DXTs. Have to use masked array so it doesn't have issues summing nans.\n",
      "x = ds['DXT'].values\n",
      "x_masked = np.ma.array(x, mask=np.isnan(x))\n",
      "dxt_cum = np.cumsum(x_masked[:, ::-1], axis=1)[:, ::-1]\n",
      "ds['DXT_Cum'] = (('nlat', 'nlon'), dxt_cum)"
     ],
     "language": "python",
     "metadata": {},
     "outputs": [],
     "prompt_number": 13
    },
    {
     "cell_type": "code",
     "collapsed": true,
     "input": [
      "# Filter to 800km offshore\n",
      "ds = ds.where(ds['DXT_Cum'] <= 800)"
     ],
     "language": "python",
     "metadata": {},
     "outputs": [],
     "prompt_number": 29
    },
    {
     "cell_type": "heading",
     "level": 1,
     "metadata": {},
     "source": [
      "Plot Study Site"
     ]
    },
    {
     "cell_type": "code",
     "collapsed": false,
     "input": [
      "m = Basemap(projection='eqdc',\n",
      "                lat_0=39,\n",
      "                lon_0=np.nanmedian(lon),\n",
      "                llcrnrlon=220,\n",
      "                urcrnrlon=258,\n",
      "                llcrnrlat=30,\n",
      "                urcrnrlat=46,\n",
      "                resolution='c')\n",
      "m.drawcoastlines()\n",
      "m.fillcontinents(color='black')\n",
      "m.drawmapboundary(fill_color='white')\n",
      "m.drawparallels(np.arange(30, 46, 3),\n",
      "                labels=[True, False, False, False])\n",
      "m.drawmeridians(np.arange(220, 259, 3))\n",
      "\n",
      "lat = ds['TLAT'].values\n",
      "lon = ds['TLONG'].values\n",
      "data = ds['FG_CO2'].mean(dim='time').mean(dim='ensemble')\n",
      "data = np.ma.array(data, mask=np.isnan(data))\n",
      "m.pcolormesh(lon, lat, data, vmin=-1, vmax=1, latlon=True,\n",
      "            cmap=\"RdBu_r\")\n",
      "m.colorbar(location=\"bottom\")\n",
      "plt.savefig(\"calcs-study-site.png\")"
     ],
     "language": "python",
     "metadata": {},
     "outputs": [],
     "prompt_number": 31
    }
   ],
   "metadata": {}
  }
 ]
}