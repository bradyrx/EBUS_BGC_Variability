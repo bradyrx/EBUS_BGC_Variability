{
 "cells": [
  {
   "cell_type": "markdown",
   "metadata": {},
   "source": [
    "# pCO$_{2}$ Decomposition\n",
    "Working out how to decompose a pCO2 time series into temperature-dependent and non-temperature-dependent pCO2 per the Takahashi 2002 paper (with reference to Fay/McKinley)\n",
    "\n",
    "----\n",
    "\n",
    "pCO$_{2}$-T = mean pCO$_{2}$ $\\times$ exp(0.0423 $\\times$ (SST$_{obs}$ - SST$_{mean}$))\n",
    "\n",
    "pCO$_{2}$-nonT = pCO2$_{obs}$ $\\times$ exp(0.0423 $\\times$ (SST$_{mean}$ - SST$_{obs}$))"
   ]
  },
  {
   "cell_type": "code",
   "execution_count": 2,
   "metadata": {
    "collapsed": true
   },
   "outputs": [],
   "source": [
    "import glob\n",
    "import numpy as np\n",
    "import pandas as pd\n",
    "import xarray as xr\n",
    "import matplotlib.pyplot as plt\n",
    "%matplotlib inline"
   ]
  },
  {
   "cell_type": "code",
   "execution_count": 3,
   "metadata": {
    "collapsed": true
   },
   "outputs": [],
   "source": [
    "colors = {\n",
    "    'CalCS': '#80b1d3',\n",
    "    'HumCS': '#fb8072',\n",
    "    'CanCS': '#fdb462',\n",
    "    'BenCS': '#bc80bd'\n",
    "}"
   ]
  },
  {
   "cell_type": "markdown",
   "metadata": {},
   "source": [
    "# Functions"
   ]
  },
  {
   "cell_type": "code",
   "execution_count": 6,
   "metadata": {
    "collapsed": true
   },
   "outputs": [],
   "source": [
    "def load_total_var(EBU, VAR):\n",
    "    fileDir = '/glade/p/work/rbrady/EBUS_BGC_Variability/' + VAR + '/' + EBU + '/filtered_output/'\n",
    "    ds_forced = xr.open_dataset(fileDir + EBU.lower() + '-' + VAR + '-forced-signal-AW-chavez-800km.nc')\n",
    "    ds_residuals = xr.open_dataset(fileDir + EBU.lower() + '-' + VAR + '-residuals-AW-chavez-800km.nc')\n",
    "    ds_total = ds_residuals + ds_forced\n",
    "    return ds_total"
   ]
  },
  {
   "cell_type": "code",
   "execution_count": 104,
   "metadata": {
    "collapsed": true
   },
   "outputs": [],
   "source": [
    "def poly_detrend(y, deg=4):\n",
    "    x = np.arange(0, len(y), 1)\n",
    "    coeffs = np.polyfit(x, y, deg)\n",
    "    poly = np.poly1d(coeffs)\n",
    "    yp = np.polyval(poly, x)\n",
    "    return (y - yp)"
   ]
  },
  {
   "cell_type": "markdown",
   "metadata": {},
   "source": [
    "# pCO$_{2}$ Decomposition"
   ]
  },
  {
   "cell_type": "code",
   "execution_count": 297,
   "metadata": {
    "collapsed": true
   },
   "outputs": [],
   "source": [
    "EBU = 'BenCS'"
   ]
  },
  {
   "cell_type": "code",
   "execution_count": 298,
   "metadata": {
    "collapsed": true
   },
   "outputs": [],
   "source": [
    "# Load in pCO2 time series. Need to combine the forced + residuals to get back to the total pCO2\n",
    "# (1) Load in raw pCO2\n",
    "pco2_total = load_total_var(EBU, 'pCO2SURF')\n",
    "sst_total = load_total_var(EBU, 'SST')\n",
    "# (2) Apply the Takashi method to decompose pCO2\n",
    "pCO2 = pco2_total['pCO2SURF_AW']\n",
    "SST = sst_total['SST_AW']\n",
    "pCO2_T = pCO2.mean(dim='time') * np.exp(0.0423 * (SST - SST.mean(dim='time')))\n",
    "pCO2_nonT = pCO2 * np.exp(0.0423 * (SST.mean(dim='time') - SST))"
   ]
  },
  {
   "cell_type": "code",
   "execution_count": 299,
   "metadata": {},
   "outputs": [],
   "source": [
    "# Detrend all the time series (especially the nonT component)\n",
    "for idx in np.arange(0, 34, 1):\n",
    "    pCO2_T[idx] = poly_detrend(pCO2_T[idx])\n",
    "    pCO2_nonT[idx] = poly_detrend(pCO2_nonT[idx])"
   ]
  },
  {
   "cell_type": "code",
   "execution_count": 300,
   "metadata": {},
   "outputs": [],
   "source": [
    "# Store into dataset\n",
    "pCO2_T.name = 'pCO2SURF_T'\n",
    "pCO2_nonT.name = 'pCO2SURF_nonT'\n",
    "pCO2_T = pCO2_T.to_dataset()\n",
    "pCO2_nonT = pCO2_nonT.to_dataset()"
   ]
  },
  {
   "cell_type": "code",
   "execution_count": 301,
   "metadata": {},
   "outputs": [],
   "source": [
    "# Save away! Making it the same format as other variables for ease.\n",
    "directory = '/glade/p/work/rbrady/EBUS_BGC_Variability/pCO2SURF_T/'\n",
    "pCO2_T.to_netcdf(directory + EBU.lower() + '-pCO2SURF_T-detrended-AW-chavez-800km.nc')\n",
    "\n",
    "directory = '/glade/p/work/rbrady/EBUS_BGC_Variability/pCO2SURF_nonT/'\n",
    "pCO2_nonT.to_netcdf(directory + EBU.lower() + '-pCO2SURF_nonT-detrended-AW-chavez-800km.nc')"
   ]
  }
 ],
 "metadata": {
  "kernelspec": {
   "display_name": "Python 2",
   "language": "python",
   "name": "python2"
  },
  "language_info": {
   "codemirror_mode": {
    "name": "ipython",
    "version": 2
   },
   "file_extension": ".py",
   "mimetype": "text/x-python",
   "name": "python",
   "nbconvert_exporter": "python",
   "pygments_lexer": "ipython2",
   "version": "2.7.7"
  }
 },
 "nbformat": 4,
 "nbformat_minor": 2
}
