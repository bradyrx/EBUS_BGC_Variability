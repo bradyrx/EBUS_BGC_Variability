{
 "metadata": {
  "kernelspec": {
   "display_name": "Python 3",
   "language": "python",
   "name": "python3"
  },
  "language_info": {
   "codemirror_mode": {
    "name": "ipython",
    "version": 3
   },
   "file_extension": ".py",
   "mimetype": "text/x-python",
   "name": "python",
   "nbconvert_exporter": "python",
   "pygments_lexer": "ipython3",
   "version": "3.6.1"
  },
  "name": ""
 },
 "nbformat": 3,
 "nbformat_minor": 0,
 "worksheets": [
  {
   "cells": [
    {
     "cell_type": "markdown",
     "metadata": {},
     "source": [
      "# Composite California Current CO$_{2}$ Flux EOFs\n",
      "\n",
      "I discovered some interesting EOFs of CO2 Flux in the CalCS. How do these principal component time series map onto the North Pacific relative to other variables?\n",
      "\n",
      "Take the PC of e.g. the first EOF, and find each month where it surpasses +1$\\sigma$. Then index those months and average across them for a given variable (e.g. SST or SLP) in the NP and map that average."
     ]
    },
    {
     "cell_type": "code",
     "collapsed": true,
     "input": [
      "import numpy as np\n",
      "import pandas as pd\n",
      "import xarray as xr\n",
      "import matplotlib.pyplot as plt\n",
      "%matplotlib inline\n",
      "import esmtools as et\n",
      "import cartopy.crs as ccrs\n",
      "plt.style.use('ocn-clim')\n",
      "import cmocean.cm as cm\n",
      "import cartopy.feature as cfeature\n",
      "import seaborn as sns"
     ],
     "language": "python",
     "metadata": {},
     "outputs": [],
     "prompt_number": 181
    },
    {
     "cell_type": "heading",
     "level": 3,
     "metadata": {},
     "source": [
      "(1) Load in a simulation's PC of CO2 flux"
     ]
    },
    {
     "cell_type": "code",
     "collapsed": true,
     "input": [
      "filepath = '/glade/p/work/rbrady/EBUS_BGC_Variability/regional_EOFs/CalCS/FG_ALT_CO2/'\n",
      "filename = 'FG_ALT_CO2.EOF.192001-201512.nc'\n",
      "ds = xr.open_dataset(filepath + filename)\n",
      "# Take the first ensemble member to simplify and the first mode.\n",
      "ds = ds.sel(ensemble=0, mode=1)"
     ],
     "language": "python",
     "metadata": {},
     "outputs": [],
     "prompt_number": 183
    },
    {
     "cell_type": "code",
     "collapsed": false,
     "input": [
      "lon=ds.TLONG\n",
      "lat=ds.TLAT\n",
      "data=ds.eofs\n",
      "f, ax = et.vis.make_cartopy(projection=ccrs.PlateCarree(), frameon=False,\n",
      "                            grid_lines=False, figsize=(6,8))\n",
      "p = plt.pcolor(lon-0.5, lat, data.to_masked_array(), vmin=-0.75, vmax=0.75,\n",
      "           cmap=\"coolwarm\", edgecolor='w')\n",
      "x0,x1,y0,y1 = et.ebus.visual_bounds('CalCS')\n",
      "ax.set_extent([x0,x1,y0,y1])\n",
      "cb = plt.colorbar(p, orientation='horizontal', pad=0.05, fraction=0.05)\n",
      "ax.set_title('Second EOF of CO$_{2}$ Flux (Sim. #001)')\n",
      "plt.show()"
     ],
     "language": "python",
     "metadata": {},
     "outputs": [],
     "prompt_number": 184
    },
    {
     "cell_type": "code",
     "collapsed": false,
     "input": [
      "fig = plt.figure(figsize=(14,3))\n",
      "ax = fig.add_subplot(111)\n",
      "ds['pc'].plot(linewidth=2, color='k')\n",
      "ax.set(xlim=['1920', '2015-12'], title='Second PC of F$_{Nat}$ (Sim. #001)',\n",
      "       ylabel='Standardized PC', xlabel='')\n",
      "plt.show()"
     ],
     "language": "python",
     "metadata": {},
     "outputs": [],
     "prompt_number": 186
    },
    {
     "cell_type": "heading",
     "level": 3,
     "metadata": {},
     "source": [
      "(2) Define the \"extreme\" positive and negative events via $\\sigma$"
     ]
    },
    {
     "cell_type": "code",
     "collapsed": true,
     "input": [
      "# Start out with 2 sigma to make it conservative.\n",
      "two_sigma = ds['pc'].std()*2\n",
      "\n",
      "# Filter by events that are larger than 2 standard deviations, and pull out the\n",
      "# time indices of these events. There might be an easier way to do neutral...\n",
      "pos_events_index = ds['pc'].where((ds['pc'] >= two_sigma), drop=True)['time']\n",
      "neg_events_index = ds['pc'].where((ds['pc'] <= two_sigma*-1),drop=True)['time']\n",
      "neu_events_index = ds['pc'].where((ds['pc'] < two_sigma ) & (ds['pc'] > two_sigma*-1), \n",
      "                                  drop=True)['time']\n",
      "\n",
      "# Just the events themselves from this time series.\n",
      "pos_events = ds['pc'].sel(time=pos_events_index)\n",
      "neg_events = ds['pc'].sel(time=neg_events_index)"
     ],
     "language": "python",
     "metadata": {},
     "outputs": [],
     "prompt_number": 187
    },
    {
     "cell_type": "code",
     "collapsed": false,
     "input": [
      "# Plot to show the positive and negative events.\n",
      "fig = plt.figure(figsize=(14,3))\n",
      "ax = fig.add_subplot(111)\n",
      "ds['pc'].plot(linewidth=2, color='k', label='')\n",
      "pos_events.plot.line('or', label='Coastal Outgassing Events')\n",
      "neg_events.plot.line('ob', label='Coastal Uptake Events')\n",
      "ax.set(xlim=['1920', '2015-12'], title='First PC of F$_{Nat}$ (Sim. #001)',\n",
      "       ylabel='Standardized PC', xlabel='')\n",
      "plt.legend(bbox_to_anchor=(1.05, 1), loc=2, borderaxespad=0.)\n",
      "plt.show()"
     ],
     "language": "python",
     "metadata": {},
     "outputs": [],
     "prompt_number": 189
    },
    {
     "cell_type": "markdown",
     "metadata": {},
     "source": [
      "### (3) Load in some other variable for the NP for this simulation.\n",
      "\n",
      "** NOTE ** : Do I need to use residuals? Starting with just mean state\n",
      "\n",
      "** NOTE ** : For scripted code, maybe should use NCOs to reduce to 1920-2015, and then concatenate into one big string and detect events from there."
     ]
    },
    {
     "cell_type": "code",
     "collapsed": false,
     "input": [
      "VAR = 'U10'\n",
      "residual = True # Should we use simply the residuals?\n",
      "\n",
      "# Load in variable\n",
      "if residual:\n",
      "    if (VAR == 'PSL') or (VAR == 'U10') or (VAR == 'curl'):\n",
      "        filepath = ('/glade/scratch/rbrady/EBUS_BGC_Variability/global_residuals/' + \n",
      "                    VAR + '/')\n",
      "        filename = 'residual.' + VAR + '.001.192001-201512.nc'\n",
      "        ds = xr.open_dataset(filepath + filename)\n",
      "        ds['time'] = pd.date_range('1920-01', '2016-01', freq='M')\n",
      "    else:\n",
      "        filepath = ('/glade/scratch/rbrady/EBUS_BGC_Variability/global_residuals/' + \n",
      "                    VAR + '/remapped/')\n",
      "        filename = 'remapped.' + VAR + '.001.192001-201512.nc'\n",
      "        ds = xr.open_dataset(filepath + filename, decode_times=False)\n",
      "        ds = ds.squeeze()\n",
      "        ds['time'] = pd.date_range('1920-01', '2016-01', freq='M')\n",
      "else:\n",
      "    if (VAR == 'PSL') or (VAR == 'U10') or (VAR == 'curl'):\n",
      "        filepath = '/glade/scratch/rbrady/EBUS_BGC_Variability/' + VAR + '_monthly/'\n",
      "        filename = VAR + '.001.192001-210012.nc'\n",
      "        ds = xr.open_dataset(filepath + filename)\n",
      "    # For now, using my remapped variables. Later can use native grids.\n",
      "    else:\n",
      "        filepath = ('/glade/scratch/rbrady/EBUS_BGC_Variability/' + VAR + '_monthly/' +\n",
      "                    'remapped/')\n",
      "        filename = 'remapped.' + VAR + '.001.192001-210012.nc'\n",
      "        ds = xr.open_dataset(filepath + filename, decode_times=False)\n",
      "        ds = ds.squeeze()\n",
      "ds = ds[VAR]\n",
      "\n",
      "if VAR == 'PSL':\n",
      "    # Convert to hPa\n",
      "    ds = ds / 100\n",
      "\n",
      "# Filter from 1920-2015\n",
      "if not residual:\n",
      "    ds['time'] = pd.date_range('1920-01', '2101-01', freq='M')\n",
      "    ds = ds.sel(time=slice('1920-01','2015-12'))\n",
      "\n",
      "# Pick out the North Pacific.\n",
      "ds = ds.sel(lat=slice(-10,60), lon=slice(145,260))"
     ],
     "language": "python",
     "metadata": {},
     "outputs": [],
     "prompt_number": 215
    },
    {
     "cell_type": "code",
     "collapsed": true,
     "input": [
      "# Composite over all the positive events.\n",
      "ds_pos = ds.sel(time=pos_events_index).mean(dim='time')\n",
      "ds_neg = ds.sel(time=neg_events_index).mean(dim='time')\n",
      "ds_neu = ds.sel(time=neu_events_index).mean(dim='time')"
     ],
     "language": "python",
     "metadata": {},
     "outputs": [],
     "prompt_number": 216
    },
    {
     "cell_type": "heading",
     "level": 1,
     "metadata": {},
     "source": [
      "When do these events happen?"
     ]
    },
    {
     "cell_type": "code",
     "collapsed": false,
     "input": [
      "# Create a DataFrame with month and number of instances in that month.\n",
      "labels = ['January', 'February', 'March', 'April',\n",
      "          'May', 'June', 'July', 'August', 'September',\n",
      "          'October', 'November', 'December']\n",
      "df = neg_events_index['time.month'].to_dataframe()\n",
      "count = df.groupby('month').size()\n",
      "\n",
      "# DataFrame for plotting\n",
      "df_plot = pd.DataFrame(index=np.arange(1,13,1), columns=['freq', 'label'])\n",
      "df_plot['freq'] = (count/count.sum())*100\n",
      "df_plot['label'] = labels"
     ],
     "language": "python",
     "metadata": {},
     "outputs": [],
     "prompt_number": 217
    },
    {
     "cell_type": "code",
     "collapsed": false,
     "input": [
      "sns.set_style('whitegrid')\n",
      "f, ax = plt.subplots(ncols=1,nrows=1)\n",
      "sns.barplot(x=\"freq\", y=\"label\", data=df_plot, color='k',\n",
      "            orient='h')\n",
      "sns.despine(left=True, bottom=True)\n",
      "\n",
      "ax.set_xlabel('Frequency [%]', fontsize=14)\n",
      "ax.set_ylabel('')\n",
      "ax.set_title('Occurence of Neutral Event', fontsize=20)\n",
      "ax.set_xlim([0, 51])"
     ],
     "language": "python",
     "metadata": {},
     "outputs": [],
     "prompt_number": 218
    },
    {
     "cell_type": "heading",
     "level": 1,
     "metadata": {},
     "source": [
      "Visualize"
     ]
    },
    {
     "cell_type": "code",
     "collapsed": true,
     "input": [
      "def pcolor_subplot(ax, ds):\n",
      "#    p = ds.plot.contourf(ax=ax, transform=ccrs.PlateCarree(), add_colorbar=False,\n",
      "#                         levels=np.arange(5, 31, 2), cmap=cm.thermal)\n",
      "#    p = ds.plot.contourf(ax=ax, transform=ccrs.PlateCarree(), add_colorbar=False,\n",
      "#                         levels=np.arange(1008, 1031, 2), cmap=cm.dense)\n",
      "    p = ds.plot.contourf(ax=ax, transform=ccrs.PlateCarree(), add_colorbar=False,\n",
      "                         levels=np.linspace(-2,2,11), cmap=cm.thermal)\n",
      "\n",
      "    ax.add_feature(cfeature.LAND, facecolor='k')\n",
      "    ax.outline_patch.set_edgecolor('w')\n",
      "    x0,x1,y0,y1 = et.ebus.visual_bounds('CalCS', std_lon=True)\n",
      "    et.vis.add_box(ax, x0, x1, y0, y1, edgecolor='w', facecolor='w',\n",
      "                   alpha=0.25)\n",
      "    return p"
     ],
     "language": "python",
     "metadata": {},
     "outputs": [],
     "prompt_number": 219
    },
    {
     "cell_type": "code",
     "collapsed": false,
     "input": [
      "fig, axes = plt.subplots(nrows=1, ncols=3, figsize=(14,5), \n",
      "                         subplot_kw=dict(projection=ccrs.Mercator(central_longitude=180)))\n",
      "# OUTGASSING MODE\n",
      "pcolor_subplot(axes[0], ds_pos)\n",
      "axes[0].set_title('Outgassing Mode', fontsize=18)\n",
      "\n",
      "# UPTAKE MODE\n",
      "p = pcolor_subplot(axes[1], ds_neg)\n",
      "axes[1].set_title('Uptake Mode', fontsize=18)\n",
      "\n",
      "# NEUTRAL MODE\n",
      "p = pcolor_subplot(axes[2], ds_neu)\n",
      "axes[2].set_title('Neutral Mode', fontsize=18)\n",
      "\n",
      "# COLORBA\n",
      "fig.tight_layout()\n",
      "cb = fig.colorbar(p, ax=axes.ravel().tolist(), orientation='horizontal',\n",
      "             fraction=0.05, pad=0.05)\n",
      "cb.set_label('Absolute Sea Surface Temperature ($^{o}$C)')"
     ],
     "language": "python",
     "metadata": {},
     "outputs": [],
     "prompt_number": 220
    }
   ],
   "metadata": {}
  }
 ]
}