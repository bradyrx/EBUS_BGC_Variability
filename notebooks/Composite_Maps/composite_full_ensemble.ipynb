{
 "metadata": {
  "kernelspec": {
   "display_name": "Python 3",
   "language": "python",
   "name": "python3"
  },
  "language_info": {
   "codemirror_mode": {
    "name": "ipython",
    "version": 3
   },
   "file_extension": ".py",
   "mimetype": "text/x-python",
   "name": "python",
   "nbconvert_exporter": "python",
   "pygments_lexer": "ipython3",
   "version": "3.6.6"
  },
  "name": "",
  "toc": {
   "base_numbering": 1,
   "nav_menu": {},
   "number_sections": true,
   "sideBar": true,
   "skip_h1_title": false,
   "title_cell": "Table of Contents",
   "title_sidebar": "Contents",
   "toc_cell": false,
   "toc_position": {},
   "toc_section_display": true,
   "toc_window_display": false
  },
  "varInspector": {
   "cols": {
    "lenName": 16,
    "lenType": 16,
    "lenVar": 40
   },
   "kernels_config": {
    "python": {
     "delete_cmd_postfix": "",
     "delete_cmd_prefix": "del ",
     "library": "var_list.py",
     "varRefreshCmd": "print(var_dic_list())"
    },
    "r": {
     "delete_cmd_postfix": ") ",
     "delete_cmd_prefix": "rm(",
     "library": "var_list.r",
     "varRefreshCmd": "cat(var_dic_list()) "
    }
   },
   "types_to_exclude": [
    "module",
    "function",
    "builtin_function_or_method",
    "instance",
    "_Feature"
   ],
   "window_display": false
  }
 },
 "nbformat": 3,
 "nbformat_minor": 0,
 "worksheets": [
  {
   "cells": [
    {
     "cell_type": "markdown",
     "metadata": {},
     "source": [
      "# Composite Full Ensemble\n",
      "\n",
      "Date: Oct. 12th, 2017\n",
      "\n",
      "This is now a full python script. This notebook is used to analyze the results."
     ]
    },
    {
     "cell_type": "code",
     "collapsed": false,
     "input": [
      "import glob\n",
      "import numpy as np\n",
      "import pandas as pd\n",
      "import xarray as xr\n",
      "import matplotlib.pyplot as plt\n",
      "%matplotlib inline\n",
      "import esmtools as et\n",
      "import cartopy.crs as ccrs\n",
      "import cartopy.feature as cfeature\n",
      "from scipy import signal\n",
      "import cmocean.cm as cm\n",
      "import seaborn as sns"
     ],
     "language": "python",
     "metadata": {},
     "outputs": [],
     "prompt_number": 1
    },
    {
     "cell_type": "heading",
     "level": 1,
     "metadata": {},
     "source": [
      "Load in the composites"
     ]
    },
    {
     "cell_type": "code",
     "collapsed": false,
     "input": [
      "def load_composite(EBU, VAR, MODE, full_domain=False, native_grid=False):\n",
      "    \"\"\"\n",
      "    Load in the results of compositing. Full_domain will give the full\n",
      "    composited domain from the analysis script; otherwise it will slice it \n",
      "    down to the domain used in evaluation plots.\n",
      "    \"\"\"\n",
      "    filepath = ('/glade/work/rbrady/EBUS_BGC_Variability/composites/' + \n",
      "            EBU + '/' + VAR + '/')\n",
      "    if native_grid:\n",
      "        filename = VAR + '.native.composite.NPGO.nc'\n",
      "    else:\n",
      "        filename = (VAR + '.remapped.composite.' + MODE + '.nc')\n",
      "    ds = xr.open_dataset(filepath + filename)\n",
      "    \n",
      "    # Conversions\n",
      "    if VAR == 'PSL':\n",
      "        ds = ds / 100\n",
      "    if VAR == 'HMXL':\n",
      "        ds = ds / 100\n",
      "    if VAR == 'WVEL50m':\n",
      "        ds = ds * (60*60*24) / 100\n",
      "        ds = ds.squeeze()\n",
      "        \n",
      "    # Slicing\n",
      "    if not full_domain:\n",
      "        if EBU == 'CanCS':\n",
      "            x0,x1,y0,y1 = et.ebus.visual_bounds(EBU, std_lon=True) \n",
      "        else:\n",
      "            x0,x1,y0,y1 = et.ebus.visual_bounds(EBU, std_lon=False)           \n",
      "        if native_grid:\n",
      "            a, c = et.filtering.find_indices(ds['TLAT'].values, ds['TLONG'].values, \n",
      "                                y0, x0)\n",
      "            b, d = et.filtering.find_indices(ds['TLAT'].values, ds['TLONG'].values, \n",
      "                                y1, x1)\n",
      "            ds = ds.isel(nlat=slice(a, b), nlon=slice(c, d))\n",
      "        else:\n",
      "            ds = ds.sel(lat=slice(y0,y1), lon=slice(x0-3,x1))\n",
      "    return ds"
     ],
     "language": "python",
     "metadata": {},
     "outputs": [],
     "prompt_number": 2
    },
    {
     "cell_type": "heading",
     "level": 2,
     "metadata": {},
     "source": [
      "Zoomed in Map"
     ]
    },
    {
     "cell_type": "code",
     "collapsed": false,
     "input": [
      "EBU = 'CanCS'\n",
      "VAR = 'WVEL50m'\n",
      "MODE = 'NAO'\n",
      "ds = load_composite(EBU, VAR, MODE, native_grid=False)"
     ],
     "language": "python",
     "metadata": {},
     "outputs": [],
     "prompt_number": 500
    },
    {
     "cell_type": "code",
     "collapsed": false,
     "input": [
      "def pcolor_subplot(ax, ds, vmin=-4, vmax=4, levels=21, cmap=\"coolwarm\",\n",
      "                   native_grid=False):\n",
      "    if native_grid:\n",
      "        p = ax.contourf(ds.TLONG, ds.TLAT, ds, np.linspace(vmin, vmax, levels),\n",
      "                        transform=ccrs.PlateCarree(), cmap=cmap)\n",
      "    else:\n",
      "        p = ds.plot.contourf(ax=ax, transform=ccrs.PlateCarree(), add_colorbar=False,\n",
      "                             levels=np.linspace(vmin, vmax, levels), cmap=cmap,\n",
      "                             extend=\"both\")\n",
      "\n",
      "    ax.add_feature(cfeature.LAND, facecolor='k', zorder=4)\n",
      "    ax.outline_patch.set_edgecolor('w')\n",
      "    return p"
     ],
     "language": "python",
     "metadata": {},
     "outputs": [],
     "prompt_number": 501
    },
    {
     "cell_type": "code",
     "collapsed": false,
     "input": [
      "MINBOUND = -0.1\n",
      "MAXBOUND = 0.1\n",
      "cmap = \"BrBG_r\"\n",
      "\n",
      "fig, axes = plt.subplots(nrows=1, ncols=2, figsize=(8,5), \n",
      "                         subplot_kw=dict(projection=ccrs.PlateCarree()))\n",
      "# POSITIVE MODE\n",
      "pcolor_subplot(axes[0], ds.pos_composite, vmin=MINBOUND, vmax=MAXBOUND,\n",
      "               cmap=cmap)\n",
      "axes[0].set_title('$+$NAO', fontsize=18)\n",
      "\n",
      "# NEGATIVE MODE\n",
      "p = pcolor_subplot(axes[1], ds.neg_composite, vmin=MINBOUND, vmax=MAXBOUND,\n",
      "                   cmap=cmap)\n",
      "axes[1].set_title('$-$NAO', fontsize=18)\n",
      "\n",
      "# Viewing bounds.\n",
      "x0,x1,y0,y1 = et.ebus.visual_bounds(EBU)  \n",
      "axes[0].set_extent([x0-3,x1,y0,y1])\n",
      "axes[1].set_extent([x0-3,x1,y0,y1])\n",
      "\n",
      "# COLORBAR\n",
      "fig.tight_layout()\n",
      "cb = fig.colorbar(p, ax=axes.ravel().tolist(), orientation='horizontal',\n",
      "             fraction=0.05, pad=0.05)\n",
      "\n",
      "if VAR == 'SST':\n",
      "    cb.set_label('Sea Surface Temperature Anomaly ($^{o}$C)')\n",
      "elif VAR == 'PSL':\n",
      "    cb.set_label('Sea Level Pressure Anomaly (hPa)')\n",
      "elif VAR == 'curl':\n",
      "    cb.set_label('Wind Stress Curl Anomaly (N/m$^{2}$)')\n",
      "elif VAR == 'HMXL':\n",
      "    cb.set_label('Mixed Layer Depth Anomaly (m)')\n",
      "elif VAR == 'SSH':\n",
      "    cb.set_label('Sea Surface Height Anomaly (cm)')\n",
      "elif VAR == 'WVEL50m':\n",
      "    cb.set_label('50m Vertical Velocity Anomaly (m day$^{-1}$)')\n",
      "elif VAR == 'DIC50m':\n",
      "    cb.set_label('50m Dissolved Inorganic Carbon Anomaly (mmol m$^{-3}$)')\n",
      "    \n",
      "#et.vis.savefig(VAR + '_' + MODE.lower() + '_' + EBU + '_zoomed', \n",
      "#               extension='.eps', dpi=300)"
     ],
     "language": "python",
     "metadata": {},
     "outputs": [],
     "prompt_number": 503
    },
    {
     "cell_type": "heading",
     "level": 2,
     "metadata": {},
     "source": [
      "Native grid, box boundary"
     ]
    },
    {
     "cell_type": "code",
     "collapsed": false,
     "input": [
      "EBU = 'CanCS'\n",
      "VAR = 'WVEL50m'\n",
      "MODE = 'NAO'\n",
      "ds = load_composite(EBU, VAR, MODE, native_grid=False)\n",
      "ds_outline = xr.open_dataset('/glade/work/rbrady/EBUS_BGC_Variability/HMXL/' + \n",
      "                              EBU + '/filtered_output/' +\n",
      "                             EBU.lower() + '-HMXL-forced-signal-chavez-800km.nc')\n",
      "\n",
      "# Add a constant color grid\n",
      "dshape = ds_outline['HMXL'].shape\n",
      "A = np.empty((dshape))\n",
      "A[:] = 999\n",
      "A[np.isnan(ds_outline['HMXL'])] = np.nan\n",
      "ds_outline['outline'] = (('time','nlat','nlon'), A)"
     ],
     "language": "python",
     "metadata": {},
     "outputs": [],
     "prompt_number": 504
    },
    {
     "cell_type": "code",
     "collapsed": false,
     "input": [
      "MINBOUND = -0.1\n",
      "MAXBOUND = 0.1\n",
      "cmap = \"BrBG_r\"\n",
      "\n",
      "fig, axes = plt.subplots(nrows=1, ncols=2, figsize=(8,5), \n",
      "                         subplot_kw=dict(projection=ccrs.PlateCarree()))\n",
      "# POSITIVE MODE\n",
      "pcolor_subplot(axes[0], ds.pos_composite, vmin=MINBOUND, vmax=MAXBOUND, cmap=cmap)\n",
      "axes[0].set_title('$+$NAO', fontsize=18)\n",
      "\n",
      "# NEGATIVE MODE\n",
      "p = pcolor_subplot(axes[1], ds.neg_composite, vmin=MINBOUND, vmax=MAXBOUND, cmap=cmap)\n",
      "axes[1].set_title('$-$NAO', fontsize=18)\n",
      "\n",
      "# Viewing bounds.\n",
      "x0,x1,y0,y1 = et.ebus.visual_bounds(EBU)  \n",
      "axes[0].set_extent([x0-3,x1,y0,y1])\n",
      "axes[1].set_extent([x0-3,x1,y0,y1])\n",
      "\n",
      "# Overlay region for illustrator\n",
      "axes[0].pcolormesh(ds_outline.TLONG, ds_outline.TLAT, ds_outline.outline.isel(time=0),\n",
      "           transform=ccrs.PlateCarree())\n",
      "axes[1].pcolormesh(ds_outline.TLONG, ds_outline.TLAT, ds_outline.outline.isel(time=0),\n",
      "           transform=ccrs.PlateCarree())\n",
      "\n",
      "# COLORBAR\n",
      "fig.tight_layout()\n",
      "cb = fig.colorbar(p, ax=axes.ravel().tolist(), orientation='horizontal',\n",
      "             fraction=0.05, pad=0.05)\n",
      "\n",
      "if VAR == 'SST':\n",
      "    cb.set_label('Sea Surface Temperature Anomaly ($^{o}$C)')\n",
      "elif VAR == 'PSL':\n",
      "    cb.set_label('Sea Level Pressure Anomaly (hPa)')\n",
      "elif VAR == 'curl':\n",
      "    cb.set_label('Wind Stress Curl Anomaly (N/m$^{2}$)')\n",
      "elif VAR == 'HMXL':\n",
      "    cb.set_label('Mixed Layer Depth Anomaly (m)')\n",
      "elif VAR == 'SSH':\n",
      "    cb.set_label('Sea Surface Height Anomaly (cm)')\n",
      "elif VAR == 'WVEL50m':\n",
      "    cb.set_label('50m Vertical Velocity Anomaly (m day$^{-1}$)')\n",
      "elif VAR == 'DIC50m':\n",
      "    cb.set_label('50m Dissolved Inorganic Carbon Anomaly (mmol m$^{-3}$)')\n",
      "    \n",
      "#et.vis.savefig(VAR + '_' + MODE.lower() + '_' + EBU + '_zoomed_with_box',\n",
      "#               extension='.eps', dpi=300)"
     ],
     "language": "python",
     "metadata": {},
     "outputs": [],
     "prompt_number": 506
    },
    {
     "cell_type": "heading",
     "level": 1,
     "metadata": {},
     "source": [
      "Visualize Vectors"
     ]
    },
    {
     "cell_type": "code",
     "collapsed": false,
     "input": [
      "def vector_subplot(ax, ds, dax, day, num=3, vmin=-5e-8, vmax=5e-8,\n",
      "                   levels=21, cmap=\"BrBG_r\"):\n",
      "    dax = et.vis.meshgrid(dax['lon'], dax['lat'], dax)\n",
      "    day = et.vis.meshgrid(day['lon'], day['lat'], day)\n",
      "    ##############\n",
      "    p = ds.plot.contourf(ax=ax, transform=ccrs.PlateCarree(), add_colorbar=False,\n",
      "                         levels=np.linspace(vmin, vmax, levels), cmap=cmap)\n",
      "#    q = ax.quiver(dax.gridlon[::num], dax.gridlat[::num], dax[::num,::num], day[::num,::num],\n",
      "#                  pivot='mid',  scale_units='inches', scale=0.75)\n",
      "    q = ax.quiver(dax.gridlon[::num,::num].values, dax.gridlat[::num,::num].values, \n",
      "                  dax[::num,::num].values, \n",
      "                  day[::num,::num].values, \n",
      "                  transform=ccrs.PlateCarree(), pivot='mid',\n",
      "                  scale_units='inches', scale=1.00)\n",
      "    qk = plt.quiverkey(q, 0.8,0.7, 0.1, r'$0.1 \\frac{dyn}{cm^{2}}$', labelpos='E',\n",
      "                   coordinates='axes',labelcolor='w',color='w')\n",
      "    \n",
      "    ax.add_feature(cfeature.LAND, facecolor='k', zorder=4)\n",
      "    ax.outline_patch.set_edgecolor('w')\n",
      "    \n",
      "    return p, q"
     ],
     "language": "python",
     "metadata": {},
     "outputs": [],
     "prompt_number": 532
    },
    {
     "cell_type": "code",
     "collapsed": false,
     "input": [
      "EBU = 'CanCS'\n",
      "MODE = 'NAO'"
     ],
     "language": "python",
     "metadata": {},
     "outputs": [],
     "prompt_number": 533
    },
    {
     "cell_type": "code",
     "collapsed": false,
     "input": [
      "ds = load_composite(EBU, 'curl', MODE)\n",
      "dsx = load_composite(EBU, 'TAUX', MODE)\n",
      "dsy = load_composite(EBU, 'TAUY', MODE)"
     ],
     "language": "python",
     "metadata": {},
     "outputs": [],
     "prompt_number": 534
    },
    {
     "cell_type": "code",
     "collapsed": false,
     "input": [
      "f, ax = plt.subplots(nrows=1,ncols=2,figsize=(8,5),\n",
      "                    subplot_kw=dict(projection=ccrs.PlateCarree()))\n",
      "\n",
      "# Positive\n",
      "p, q = vector_subplot(ax[0],ds['pos_composite'],dsx['pos_composite'],dsy['pos_composite'],num=1)\n",
      "ax[0].set_title('$+$NAO', fontsize=18)\n",
      "\n",
      "# Negative\n",
      "p, q = vector_subplot(ax[1],ds['neg_composite'],dsx['neg_composite'],dsy['neg_composite'],num=1)\n",
      "ax[1].set_title('$-$NAO', fontsize=18)\n",
      "\n",
      "# Viewing bounds.\n",
      "x0,x1,y0,y1 = et.ebus.visual_bounds(EBU)  \n",
      "ax[0].set_extent([x0,x1,y0,y1])\n",
      "ax[1].set_extent([x0,x1,y0,y1])\n",
      "\n",
      "# Colorbar\n",
      "fig.tight_layout()\n",
      "cb = fig.colorbar(p, ax=ax.ravel().tolist(), orientation='horizontal',\n",
      "             fraction=0.05, pad=0.05)\n",
      "cb.set_label('Wind Stress Curl Anomaly (N m$^{-2}$)')\n",
      "\n",
      "#et.vis.savefig('stress_and_curl_' + MODE.lower() + '_' + EBU, \n",
      "#               extension='.eps', dpi=300)"
     ],
     "language": "python",
     "metadata": {},
     "outputs": [],
     "prompt_number": 536
    },
    {
     "cell_type": "heading",
     "level": 2,
     "metadata": {},
     "source": [
      "Box out appropriate region"
     ]
    },
    {
     "cell_type": "code",
     "collapsed": false,
     "input": [
      "EBU = 'CanCS'\n",
      "MODE = 'NAO'"
     ],
     "language": "python",
     "metadata": {},
     "outputs": [],
     "prompt_number": 537
    },
    {
     "cell_type": "code",
     "collapsed": false,
     "input": [
      "ds = load_composite(EBU, 'curl', MODE)\n",
      "dsx = load_composite(EBU, 'TAUX', MODE)\n",
      "dsy = load_composite(EBU, 'TAUY', MODE)\n",
      "ds_outline = xr.open_dataset('/glade/work/rbrady/EBUS_BGC_Variability/HMXL/' + \n",
      "                              EBU + '/filtered_output/' +\n",
      "                             EBU.lower() + '-HMXL-forced-signal-chavez-800km.nc')\n",
      "\n",
      "# Add a constant color grid\n",
      "dshape = ds_outline['HMXL'].shape\n",
      "A = np.empty((dshape))\n",
      "A[:] = 999\n",
      "A[np.isnan(ds_outline['HMXL'])] = np.nan\n",
      "ds_outline['outline'] = (('time','nlat','nlon'), A)"
     ],
     "language": "python",
     "metadata": {},
     "outputs": [],
     "prompt_number": 538
    },
    {
     "cell_type": "code",
     "collapsed": false,
     "input": [
      "f, ax = plt.subplots(nrows=1,ncols=2,figsize=(8,5),\n",
      "                    subplot_kw=dict(projection=ccrs.PlateCarree()))\n",
      "\n",
      "# Positive\n",
      "p, q = vector_subplot(ax[0],ds['pos_composite'],dsx['pos_composite'],dsy['pos_composite'],num=1)\n",
      "ax[0].set_title('El $\\mathrm{Ni\\~no}$', fontsize=18)\n",
      "\n",
      "# Negative\n",
      "p, q = vector_subplot(ax[1],ds['neg_composite'],dsx['neg_composite'],dsy['neg_composite'],num=1)\n",
      "ax[1].set_title('La $\\mathrm{Ni\\~na}$', fontsize=18)\n",
      "\n",
      "# Colorbar\n",
      "fig.tight_layout()\n",
      "cb = fig.colorbar(p, ax=ax.ravel().tolist(), orientation='horizontal',\n",
      "             fraction=0.05, pad=0.05)\n",
      "\n",
      "# Overlay region for illustrator\n",
      "ax[0].pcolormesh(ds_outline.TLONG, ds_outline.TLAT, ds_outline.outline.isel(time=0),\n",
      "           transform=ccrs.PlateCarree())\n",
      "ax[1].pcolormesh(ds_outline.TLONG, ds_outline.TLAT, ds_outline.outline.isel(time=0),\n",
      "           transform=ccrs.PlateCarree())\n",
      "\n",
      "\n",
      "#et.vis.savefig('stress_and_curl_' + MODE.lower() + '_' + EBU + '_box', \n",
      "#               extension='.eps', dpi=300)"
     ],
     "language": "python",
     "metadata": {},
     "outputs": [],
     "prompt_number": 540
    },
    {
     "cell_type": "markdown",
     "metadata": {},
     "source": [
      "# Mode's Basin-Scale Impacts\n",
      "\n",
      "Having trouble plotting vectors over maps on this scale so will just make two maps\n",
      "then combine them in Illustrator."
     ]
    },
    {
     "cell_type": "code",
     "collapsed": false,
     "input": [
      "EBU = 'CanCS'\n",
      "MODE = 'NAO'"
     ],
     "language": "python",
     "metadata": {},
     "outputs": [],
     "prompt_number": 3
    },
    {
     "cell_type": "code",
     "collapsed": false,
     "input": [
      "def vector_subplot_large(ax, ds, dax, day, num=2, vmin=-2, vmax=2,\n",
      "                   levels=21, cmap=\"BrBG_r\"):\n",
      "    dax = et.vis.meshgrid(dax['lon'],dax['lat'],dax)\n",
      "    day = et.vis.meshgrid(day['lon'],day['lat'],day)\n",
      "    ##############\n",
      "    p = ds.plot.contourf(ax=ax, transform=ccrs.PlateCarree(), add_colorbar=False,\n",
      "                         levels=np.linspace(vmin, vmax, levels), cmap=cmap)\n",
      "    q = ax.quiver(dax.gridlon[::num,::num].values, dax.gridlat[::num,::num].values, \n",
      "                  dax[::num,::num].values, \n",
      "                  day[::num,::num].values, \n",
      "                  transform=ccrs.PlateCarree(), pivot='mid',\n",
      "                  scale_units='inches', scale=1.5)\n",
      "    qk = plt.quiverkey(q, 0.75,0.5, 0.25, r'$0.25 \\frac{dyn}{cm^{2}}$', labelpos='E',\n",
      "                   coordinates='axes',labelcolor='w',color='w', zorder=4)\n",
      "    \n",
      "    ax.add_feature(cfeature.LAND, facecolor='k', zorder=1)\n",
      "    ax.outline_patch.set_edgecolor('w')\n",
      "    x0,x1,y0,y1 = et.ebus.visual_bounds(EBU, std_lon=True)\n",
      "    et.vis.add_box(ax, x0, x1, y0, y1, edgecolor='k', facecolor='w',\n",
      "                   alpha=0.5, zorder=1)\n",
      "    return p, q"
     ],
     "language": "python",
     "metadata": {},
     "outputs": [],
     "prompt_number": 19
    },
    {
     "cell_type": "code",
     "collapsed": false,
     "input": [
      "ds = load_composite(EBU, 'SSH', MODE, full_domain=True)\n",
      "dax = load_composite(EBU, 'TAUX', MODE, full_domain=True)\n",
      "day = load_composite(EBU, 'TAUY', MODE, full_domain=True)"
     ],
     "language": "python",
     "metadata": {},
     "outputs": [],
     "prompt_number": 20
    },
    {
     "cell_type": "code",
     "collapsed": false,
     "input": [
      "f, ax = plt.subplots(nrows=1,ncols=1,figsize=(12,5),\n",
      "                    subplot_kw=dict(projection=ccrs.PlateCarree(central_longitude=0)))\n",
      "\n",
      "# Positive\n",
      "p, q = vector_subplot_large(ax, ds.pos_composite, dax.pos_composite, \n",
      "                            day.pos_composite, cmap=\"RdYlBu_r\", num=2)\n",
      "ax.set_title('$+$ NAO Composite', fontsize=18)\n",
      "\n",
      "cb = plt.colorbar(p, orientation='horizontal', fraction=0.05, pad=0.05)\n",
      "cb.set_label('SST Anomaly (degC)')\n",
      "\n",
      "ax.set_extent([-80, 25, 0, 40])\n",
      "\n",
      "#et.vis.savefig('north_atlantic_' + MODE + '_composite', extension='.eps', dpi=300)"
     ],
     "language": "python",
     "metadata": {},
     "outputs": [],
     "prompt_number": 21
    },
    {
     "cell_type": "code",
     "collapsed": false,
     "input": [],
     "language": "python",
     "metadata": {},
     "outputs": [],
     "prompt_number": null
    }
   ],
   "metadata": {}
  }
 ]
}