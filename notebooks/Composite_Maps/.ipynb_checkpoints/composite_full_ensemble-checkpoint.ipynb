{
 "cells": [
  {
   "cell_type": "markdown",
   "metadata": {},
   "source": [
    "# Composite Full Ensemble\n",
    "\n",
    "Date: Oct. 12th, 2017\n",
    "\n",
    "This is now a full python script. This notebook is used to analyze the results."
   ]
  },
  {
   "cell_type": "code",
   "execution_count": 1,
   "metadata": {
    "collapsed": true
   },
   "outputs": [],
   "source": [
    "import glob\n",
    "import numpy as np\n",
    "import pandas as pd\n",
    "import xarray as xr\n",
    "import matplotlib.pyplot as plt\n",
    "%matplotlib inline\n",
    "import esmtools as et\n",
    "import cartopy.crs as ccrs\n",
    "import cartopy.feature as cfeature\n",
    "from scipy import signal\n",
    "import cmocean.cm as cm\n",
    "import seaborn as sns"
   ]
  },
  {
   "cell_type": "markdown",
   "metadata": {},
   "source": [
    "# Load in the composites"
   ]
  },
  {
   "cell_type": "code",
   "execution_count": 94,
   "metadata": {
    "collapsed": true
   },
   "outputs": [],
   "source": [
    "EBU = 'CalCS'\n",
    "VAR = 'SST'\n",
    "MODE = 2"
   ]
  },
  {
   "cell_type": "code",
   "execution_count": 95,
   "metadata": {
    "collapsed": true
   },
   "outputs": [],
   "source": [
    "filepath = ('/glade/p/work/rbrady/EBUS_BGC_Variability/composites/' + \n",
    "            EBU + '/' + VAR + '/')\n",
    "filename = (VAR + '.residuals.FG_ALT_CO2.composite.EOF' + str(MODE) + '.nc')\n",
    "ds = xr.open_dataset(filepath + filename)"
   ]
  },
  {
   "cell_type": "code",
   "execution_count": 96,
   "metadata": {
    "collapsed": true
   },
   "outputs": [],
   "source": [
    "if VAR == 'PSL':\n",
    "    ds = ds / 100"
   ]
  },
  {
   "cell_type": "markdown",
   "metadata": {},
   "source": [
    "# Visualize the Composites"
   ]
  },
  {
   "cell_type": "code",
   "execution_count": null,
   "metadata": {
    "collapsed": true
   },
   "outputs": [],
   "source": [
    "def pcolor_subplot(ax, ds, vmin=-4, vmax=4, levels=21, cmap=\"BrBG_r\"):\n",
    "    p = ds.plot.contourf(ax=ax, transform=ccrs.PlateCarree(), add_colorbar=False,\n",
    "                         levels=np.linspace(vmin, vmax, levels), cmap=cmap)\n",
    "\n",
    "    ax.add_feature(cfeature.LAND, facecolor='k')\n",
    "    ax.outline_patch.set_edgecolor('w')\n",
    "    x0,x1,y0,y1 = et.ebus.visual_bounds('CalCS', std_lon=True)\n",
    "    et.vis.add_box(ax, x0, x1, y0, y1, edgecolor='w', facecolor='w',\n",
    "                   alpha=0.25)\n",
    "    return p"
   ]
  },
  {
   "cell_type": "code",
   "execution_count": null,
   "metadata": {},
   "outputs": [],
   "source": [
    "fig, axes = plt.subplots(nrows=1, ncols=2, figsize=(8,5), \n",
    "                         subplot_kw=dict(projection=ccrs.Mercator(central_longitude=180)))\n",
    "# OUTGASSING MODE\n",
    "pcolor_subplot(axes[0], ds.pos_composite)\n",
    "axes[0].set_title('Upwelling Mode', fontsize=18)\n",
    "\n",
    "# UPTAKE MODE\n",
    "p = pcolor_subplot(axes[1], ds.neg_composite)\n",
    "axes[1].set_title('Downwelling Mode', fontsize=18)\n",
    "\n",
    "# NEUTRAL MODE\n",
    "#p = pcolor_subplot(axes[2], ds.neu_composite)\n",
    "#axes[2].set_title('Neutral Mode', fontsize=18)\n",
    "\n",
    "# COLORBA\n",
    "fig.tight_layout()\n",
    "cb = fig.colorbar(p, ax=axes.ravel().tolist(), orientation='horizontal',\n",
    "             fraction=0.05, pad=0.05)\n",
    "if VAR == 'SST':\n",
    "    cb.set_label('Sea Surface Temperature Anomaly ($^{o}$C)')\n",
    "elif VAR == 'PSL':\n",
    "    cb.set_label('Sea Level Pressure Anomaly (hPa)')\n",
    "elif VAR == 'curl':\n",
    "    cb.set_label('Wind Stress Curl Anomaly (N/m$^{2}$)')"
   ]
  },
  {
   "cell_type": "markdown",
   "metadata": {},
   "source": [
    "### What time of year do these events happen?"
   ]
  },
  {
   "cell_type": "code",
   "execution_count": 97,
   "metadata": {
    "collapsed": true
   },
   "outputs": [],
   "source": [
    "labels = ['January', 'February', 'March', 'April',\n",
    "          'May', 'June', 'July', 'August', 'September',\n",
    "          'October', 'November', 'December']"
   ]
  },
  {
   "cell_type": "code",
   "execution_count": 98,
   "metadata": {},
   "outputs": [],
   "source": [
    "df = ds.pos_months.to_dataframe()\n",
    "df['neg_months'] = ds.neg_months.to_dataframe().neg_months\n",
    "del df['mode']\n",
    "\n",
    "pos_count = df.pos_months\n",
    "neg_count = df.neg_months\n",
    "\n",
    "# DataFrame for plotting\n",
    "df_plot = pd.DataFrame(index=np.arange(1,13,1), columns=['pos_freq', 'neg_freq', 'label'])\n",
    "df_plot['pos_freq'] = (pos_count/pos_count.sum())*100\n",
    "df_plot['neg_freq'] = (neg_count/neg_count.sum())*100\n",
    "df_plot['label'] = labels\n",
    "\n",
    "# Add 0 for NaN\n",
    "df_plot = df_plot.where(df_plot.notnull(), 0)"
   ]
  },
  {
   "cell_type": "code",
   "execution_count": 100,
   "metadata": {},
   "outputs": [],
   "source": [
    "# For Grouped Bar Plot\n",
    "df = pd.DataFrame(index=np.arange(1,25,1), columns=['freq', 'mode', 'label'])\n",
    "df['label'] = labels*2\n",
    "df['freq'][0:12] = df_plot['pos_freq']\n",
    "df['freq'][12::] = df_plot['neg_freq']\n",
    "df['mode'][0:12] = 'Upwelling'\n",
    "df['mode'][12::] = 'Downwelling'"
   ]
  },
  {
   "cell_type": "code",
   "execution_count": 104,
   "metadata": {},
   "outputs": [
    {
     "data": {
      "text/plain": [
       "<matplotlib.legend.Legend at 0x2aaaf508fc50>"
      ]
     },
     "execution_count": 104,
     "metadata": {},
     "output_type": "execute_result"
    },
    {
     "name": "stderr",
     "output_type": "stream",
     "text": [
      "/glade/u/home/rbrady/anaconda3/lib/python3.6/site-packages/matplotlib/font_manager.py:1297: UserWarning: findfont: Font family ['sans-serif'] not found. Falling back to DejaVu Sans\n",
      "  (prop.get_family(), self.defaultFamily[fontext]))\n"
     ]
    },
    {
     "data": {
      "image/png": "[encoded data removed]",
      "text/plain": [
       "<matplotlib.figure.Figure at 0x2aaaf4f35518>"
      ]
     },
     "metadata": {},
     "output_type": "display_data"
    }
   ],
   "source": [
    "sns.set_style('whitegrid')\n",
    "f, ax = plt.subplots(ncols=1,nrows=1)\n",
    "sns.barplot(x=\"freq\", y=\"label\", data=df, hue='mode',\n",
    "            orient='h', palette=['r','b'])\n",
    "sns.despine(left=True, bottom=True)\n",
    "\n",
    "ax.set_xlabel('Frequency [%]', fontsize=14)\n",
    "ax.set_ylabel('')\n",
    "ax.set_title('Occurence of 2$\\sigma$ EOF2 Event', fontsize=20)\n",
    "ax.set_xlim([0, 51])\n",
    "plt.legend(bbox_to_anchor=(1.05, 1), loc=2, borderaxespad=0.,\n",
    "           fontsize=16)"
   ]
  }
 ],
 "metadata": {
  "kernelspec": {
   "display_name": "Python 3",
   "language": "python",
   "name": "python3"
  },
  "language_info": {
   "codemirror_mode": {
    "name": "ipython",
    "version": 3
   },
   "file_extension": ".py",
   "mimetype": "text/x-python",
   "name": "python",
   "nbconvert_exporter": "python",
   "pygments_lexer": "ipython3",
   "version": "3.6.1"
  }
 },
 "nbformat": 4,
 "nbformat_minor": 2
}
